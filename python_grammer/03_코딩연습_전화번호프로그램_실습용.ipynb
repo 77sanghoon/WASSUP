{
 "cells": [
  {
   "cell_type": "markdown",
   "metadata": {},
   "source": [
    "# 전화번호 프로그램 만들기\n",
    "\n",
    "* 홍길동 010-123-4567\n",
    "* 기능1 : 연락처 추가\n",
    "* 기능2 : 연락처 전체 보기\n",
    "* 기능3 : 검색, 이름을 입력받아서 전화번호 조회\n",
    "* 기능4 : 수정, 이름을 입력받아서 전화번호 입력수정\n",
    "* 기능5 : 삭제, 이름 입력받아서 삭제\n",
    "* 기능6 : 프로그램 종료"
   ]
  },
  {
   "cell_type": "markdown",
   "metadata": {},
   "source": [
    "---"
   ]
  },
  {
   "cell_type": "code",
   "execution_count": 5,
   "metadata": {},
   "outputs": [],
   "source": [
    "num_book={'홍길동':'010-123-4567'}"
   ]
  },
  {
   "cell_type": "markdown",
   "metadata": {},
   "source": [
    "## 기능 1"
   ]
  },
  {
   "cell_type": "code",
   "execution_count": 17,
   "metadata": {},
   "outputs": [
    {
     "name": "stdout",
     "output_type": "stream",
     "text": [
      "이름: 이상훈\n",
      "연락처: 010-1231-1231\n"
     ]
    }
   ],
   "source": [
    "name=input('이름: ')\n",
    "num=input('연락처: ')\n",
    "\n",
    "num_book[name]=num"
   ]
  },
  {
   "cell_type": "markdown",
   "metadata": {},
   "source": [
    "## 기능 2"
   ]
  },
  {
   "cell_type": "code",
   "execution_count": 18,
   "metadata": {},
   "outputs": [
    {
     "name": "stdout",
     "output_type": "stream",
     "text": [
      "{'홍길동': '010-123-4567', '이상훈': '010-1231-1231'}\n"
     ]
    }
   ],
   "source": [
    "print(num_book)"
   ]
  },
  {
   "cell_type": "markdown",
   "metadata": {},
   "source": [
    "## 기능 3"
   ]
  },
  {
   "cell_type": "code",
   "execution_count": 19,
   "metadata": {},
   "outputs": [
    {
     "name": "stdout",
     "output_type": "stream",
     "text": [
      "이름: 이상훈\n"
     ]
    },
    {
     "data": {
      "text/plain": [
       "'010-1231-1231'"
      ]
     },
     "execution_count": 19,
     "metadata": {},
     "output_type": "execute_result"
    }
   ],
   "source": [
    "search=input('이름: ')\n",
    "num_book.get(search)"
   ]
  },
  {
   "cell_type": "markdown",
   "metadata": {},
   "source": [
    "## 기능 4"
   ]
  },
  {
   "cell_type": "code",
   "execution_count": 20,
   "metadata": {},
   "outputs": [
    {
     "name": "stdout",
     "output_type": "stream",
     "text": [
      "이름: 이상훈\n",
      "수정할 번호: 010-3424-2342\n",
      "{'홍길동': '010-123-4567', '이상훈': '010-3424-2342'}\n"
     ]
    }
   ],
   "source": [
    "modify=input('이름: ')\n",
    "\n",
    "num_book[modify]=input('수정할 번호: ')\n",
    "print(num_book)"
   ]
  },
  {
   "cell_type": "markdown",
   "metadata": {},
   "source": [
    "## 기능 5"
   ]
  },
  {
   "cell_type": "code",
   "execution_count": 21,
   "metadata": {},
   "outputs": [
    {
     "name": "stdout",
     "output_type": "stream",
     "text": [
      "이름: 이상훈\n",
      "{'홍길동': '010-123-4567'}\n"
     ]
    }
   ],
   "source": [
    "delete=input('이름: ')\n",
    "\n",
    "del num_book[delete]\n",
    "print(num_book)"
   ]
  },
  {
   "cell_type": "markdown",
   "metadata": {},
   "source": [
    "## 기능 6"
   ]
  },
  {
   "cell_type": "code",
   "execution_count": 22,
   "metadata": {},
   "outputs": [],
   "source": [
    "exit()"
   ]
  },
  {
   "cell_type": "code",
   "execution_count": null,
   "metadata": {},
   "outputs": [],
   "source": []
  },
  {
   "cell_type": "code",
   "execution_count": 2,
   "metadata": {},
   "outputs": [
    {
     "name": "stdout",
     "output_type": "stream",
     "text": [
      "추가할 이름: dl\n",
      "연락처: 010-1312-123\n",
      "{'홍길동': '010-123-4567', 'dl': '010-1312-123'}\n",
      "조회할 이름: 이상\n",
      "None\n",
      "수정할 이름: dl\n",
      "수정할 번호: 010-22-222\n",
      "{'홍길동': '010-123-4567', 'dl': '010-22-222'}\n",
      "삭제할 이름: dl\n",
      "{'홍길동': '010-123-4567'}\n"
     ]
    }
   ],
   "source": [
    "num_book={'홍길동':'010-123-4567'}\n",
    "\n",
    "name=input('추가할 이름: ')\n",
    "num=input('연락처: ')\n",
    "\n",
    "num_book[name]=num\n",
    "\n",
    "print(num_book)\n",
    "\n",
    "search=input('조회할 이름: ')\n",
    "print(num_book.get(search))\n",
    "\n",
    "modify=input('수정할 이름: ')\n",
    "\n",
    "num_book[modify]=input('수정할 번호: ')\n",
    "print(num_book)\n",
    "\n",
    "delete=input('삭제할 이름: ')\n",
    "\n",
    "del num_book[delete]\n",
    "print(num_book)\n",
    "\n",
    "exit()"
   ]
  },
  {
   "cell_type": "markdown",
   "metadata": {},
   "source": [
    "---"
   ]
  },
  {
   "cell_type": "markdown",
   "metadata": {},
   "source": [
    "## While 문을 이용해 프로그램으로 재구성"
   ]
  },
  {
   "cell_type": "code",
   "execution_count": null,
   "metadata": {},
   "outputs": [],
   "source": [
    "num_book={'홍길동':'010-123-4567'}"
   ]
  },
  {
   "cell_type": "code",
   "execution_count": 39,
   "metadata": {},
   "outputs": [
    {
     "name": "stdout",
     "output_type": "stream",
     "text": [
      "원하시는 기능을 입력하세요.\n",
      "기능1 : 연락처 추가\n",
      "기능2 : 연락처 전체 보기\n",
      "기능3 : 연락처 검색\n",
      "기능4 : 연락처 수정\n",
      "기능5 : 연락처 삭제\n",
      "기능6 : 프로그램 종료\n",
      "2\n",
      "\n",
      "{'이상훈': '010-12321-123213', '안녕': '010-213-21321'}\n",
      "\n",
      "원하시는 기능을 입력하세요.\n",
      "기능1 : 연락처 추가\n",
      "기능2 : 연락처 전체 보기\n",
      "기능3 : 연락처 검색\n",
      "기능4 : 연락처 수정\n",
      "기능5 : 연락처 삭제\n",
      "기능6 : 프로그램 종료\n",
      "5\n",
      "\n",
      "삭제할 이름: qrwerqw\n",
      "없는 전화번호입니다.\n",
      "\n",
      "원하시는 기능을 입력하세요.\n",
      "기능1 : 연락처 추가\n",
      "기능2 : 연락처 전체 보기\n",
      "기능3 : 연락처 검색\n",
      "기능4 : 연락처 수정\n",
      "기능5 : 연락처 삭제\n",
      "기능6 : 프로그램 종료\n",
      "5\n",
      "\n",
      "삭제할 이름: 안녕\n",
      "{'이상훈': '010-12321-123213'}\n",
      "\n",
      "원하시는 기능을 입력하세요.\n",
      "기능1 : 연락처 추가\n",
      "기능2 : 연락처 전체 보기\n",
      "기능3 : 연락처 검색\n",
      "기능4 : 연락처 수정\n",
      "기능5 : 연락처 삭제\n",
      "기능6 : 프로그램 종료\n",
      "6\n",
      "\n",
      "프로그램을 종료합니다.\n",
      "\n"
     ]
    }
   ],
   "source": [
    "while True:\n",
    "    func=input('원하시는 기능을 입력하세요.\\n기능1 : 연락처 추가\\n기능2 : 연락처 전체 보기\\n기능3 : 연락처 검색\\n기능4 : 연락처 수정\\n기능5 : 연락처 삭제\\n기능6 : 프로그램 종료\\n')\n",
    "    if func == '1':\n",
    "        print('')\n",
    "        name=input('추가할 이름: ')\n",
    "        num=input('추가할 연락처: ')\n",
    "        #num_book[name]=num\n",
    "        num_book.setdefault(name,num)\n",
    "        print('')\n",
    "    elif func == '2':\n",
    "        print('')\n",
    "        print(num_book)\n",
    "        print('')\n",
    "    elif func == '3':\n",
    "        print('')\n",
    "        search=input('조회할 이름: ')\n",
    "        print(num_book.get(search,'없는 연락처입니다.'))\n",
    "        print('')\n",
    "    elif func == '4':\n",
    "        print('')\n",
    "        modify=input('수정할 이름: ')\n",
    "        if modify in num_book:\n",
    "            num_book[modify]=input('수정할 번호: ')\n",
    "            print(num_book)\n",
    "        else:\n",
    "            print('없는 전화번호입니다.')\n",
    "        print('')\n",
    "    elif func == '5':\n",
    "        print('')\n",
    "        delete=input('삭제할 이름: ')\n",
    "        if delete in num_book:\n",
    "            del num_book[delete]\n",
    "            print(num_book)\n",
    "        else:\n",
    "            print('없는 전화번호입니다.')\n",
    "        print('')\n",
    "    elif func == '6':\n",
    "        print('')\n",
    "        print('프로그램을 종료합니다.')\n",
    "        print('')\n",
    "        break\n",
    "    else:\n",
    "        print('')\n",
    "        print('다시 입력해주세요.')\n",
    "        print('')"
   ]
  },
  {
   "cell_type": "code",
   "execution_count": null,
   "metadata": {},
   "outputs": [],
   "source": []
  }
 ],
 "metadata": {
  "kernelspec": {
   "display_name": "Python 3 (ipykernel)",
   "language": "python",
   "name": "python3"
  },
  "language_info": {
   "codemirror_mode": {
    "name": "ipython",
    "version": 3
   },
   "file_extension": ".py",
   "mimetype": "text/x-python",
   "name": "python",
   "nbconvert_exporter": "python",
   "pygments_lexer": "ipython3",
   "version": "3.11.5"
  },
  "toc": {
   "base_numbering": 1,
   "nav_menu": {},
   "number_sections": true,
   "sideBar": true,
   "skip_h1_title": false,
   "title_cell": "Table of Contents",
   "title_sidebar": "Contents",
   "toc_cell": false,
   "toc_position": {},
   "toc_section_display": true,
   "toc_window_display": false
  },
  "varInspector": {
   "cols": {
    "lenName": 16,
    "lenType": 16,
    "lenVar": 40
   },
   "kernels_config": {
    "python": {
     "delete_cmd_postfix": "",
     "delete_cmd_prefix": "del ",
     "library": "var_list.py",
     "varRefreshCmd": "print(var_dic_list())"
    },
    "r": {
     "delete_cmd_postfix": ") ",
     "delete_cmd_prefix": "rm(",
     "library": "var_list.r",
     "varRefreshCmd": "cat(var_dic_list()) "
    }
   },
   "types_to_exclude": [
    "module",
    "function",
    "builtin_function_or_method",
    "instance",
    "_Feature"
   ],
   "window_display": false
  }
 },
 "nbformat": 4,
 "nbformat_minor": 2
}
