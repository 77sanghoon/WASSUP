{
 "cells": [
  {
   "cell_type": "markdown",
   "id": "f1fdca32",
   "metadata": {},
   "source": [
    "# Q1. 다음은 Calculator 클래스이다.\n",
    "```python\n",
    "class Calculator:\n",
    "    def __init__(self):\n",
    "        self.value = 0\n",
    "    def add(self, val):\n",
    "        self.value += val\n",
    "```\n",
    "위 클래스를 상속하는 UpgradeCalculator를 만들고 값을 뺄 수 잇는 minus 메서드를 추가해보자.   \n",
    "즉 다음과 같이 동작하는 클래스를 만들어야 한다.\n",
    "```python\n",
    "cal = UpgradeCalculator()\n",
    "cal.add(10)\n",
    "cal.minus(7)\n",
    "print(cal.calue) # 10에서 7을 뺀 3을 출력\n",
    "```"
   ]
  },
  {
   "cell_type": "code",
   "execution_count": 2,
   "id": "f3345c8c",
   "metadata": {},
   "outputs": [],
   "source": [
    "class Calculator:\n",
    "    def __init__(self):\n",
    "        self.value = 0\n",
    "    def add(self, val):\n",
    "        self.value += val"
   ]
  },
  {
   "cell_type": "code",
   "execution_count": 3,
   "id": "e6017ff1",
   "metadata": {},
   "outputs": [],
   "source": [
    "class UpgradeCalculator(Calculator):\n",
    "    def minus(self, val):\n",
    "        self.value -= val"
   ]
  },
  {
   "cell_type": "code",
   "execution_count": 4,
   "id": "8697d0c6",
   "metadata": {},
   "outputs": [],
   "source": [
    "cal = UpgradeCalculator()"
   ]
  },
  {
   "cell_type": "code",
   "execution_count": 5,
   "id": "564c0e5c",
   "metadata": {},
   "outputs": [],
   "source": [
    "cal.add(10)"
   ]
  },
  {
   "cell_type": "code",
   "execution_count": 6,
   "id": "37789f11",
   "metadata": {},
   "outputs": [
    {
     "name": "stdout",
     "output_type": "stream",
     "text": [
      "10\n"
     ]
    }
   ],
   "source": [
    "print(cal.value)"
   ]
  },
  {
   "cell_type": "code",
   "execution_count": 7,
   "id": "58fda0e3",
   "metadata": {},
   "outputs": [],
   "source": [
    "cal.minus(7)"
   ]
  },
  {
   "cell_type": "code",
   "execution_count": 8,
   "id": "9482223c",
   "metadata": {},
   "outputs": [
    {
     "name": "stdout",
     "output_type": "stream",
     "text": [
      "3\n"
     ]
    }
   ],
   "source": [
    "print(cal.value)"
   ]
  },
  {
   "cell_type": "markdown",
   "id": "75806738",
   "metadata": {},
   "source": [
    "# Q2. 객체 변수 value가 100 이상의 값은 가질 수 없도록 제한하는 MaxLimitCalculator 클래스를 만들어 보자. 즉 다음과 같이 동작해야 한다.\n",
    "```python\n",
    "cal = MaxLimitCalculator()\n",
    "cal.add(50) # 50 더하기\n",
    "cal.add(60) # 60 더하기\n",
    "\n",
    "print(cal.value) # 100 출력\n",
    "```\n",
    "\n",
    "단 반드시 다음과 같은 calculator 클래스를 상속해서 만들어야 한다.\n",
    "```python\n",
    "class Calculator:\n",
    "    def __init__(self):\n",
    "        self.value = 0\n",
    "    def add(self, val):\n",
    "        self.value += val\n",
    "```"
   ]
  },
  {
   "cell_type": "code",
   "execution_count": 36,
   "id": "d5bc73e1",
   "metadata": {},
   "outputs": [],
   "source": [
    "class Calculator:\n",
    "    def __init__(self):\n",
    "        self.value = 0\n",
    "    def add(self, val):\n",
    "        self.value += val"
   ]
  },
  {
   "cell_type": "code",
   "execution_count": 44,
   "id": "83ead67f",
   "metadata": {},
   "outputs": [],
   "source": [
    "class MaxLimitCalculator(Calculator):\n",
    "    def add(self, val):\n",
    "        self.value += val\n",
    "        if self.value > 100:\n",
    "            self.value = 100"
   ]
  },
  {
   "cell_type": "code",
   "execution_count": 45,
   "id": "66fdfb02",
   "metadata": {},
   "outputs": [],
   "source": [
    "cal = MaxLimitCalculator()"
   ]
  },
  {
   "cell_type": "code",
   "execution_count": 46,
   "id": "526f1890",
   "metadata": {},
   "outputs": [
    {
     "data": {
      "text/plain": [
       "0"
      ]
     },
     "execution_count": 46,
     "metadata": {},
     "output_type": "execute_result"
    }
   ],
   "source": [
    "cal.value"
   ]
  },
  {
   "cell_type": "code",
   "execution_count": 47,
   "id": "d5f2d985",
   "metadata": {},
   "outputs": [],
   "source": [
    "cal.add(50)"
   ]
  },
  {
   "cell_type": "code",
   "execution_count": 48,
   "id": "7bd6bc98",
   "metadata": {},
   "outputs": [
    {
     "data": {
      "text/plain": [
       "50"
      ]
     },
     "execution_count": 48,
     "metadata": {},
     "output_type": "execute_result"
    }
   ],
   "source": [
    "cal.value"
   ]
  },
  {
   "cell_type": "code",
   "execution_count": 49,
   "id": "a8f2f5dd",
   "metadata": {},
   "outputs": [],
   "source": [
    "cal.add(60)"
   ]
  },
  {
   "cell_type": "code",
   "execution_count": 50,
   "id": "a48313be",
   "metadata": {},
   "outputs": [
    {
     "data": {
      "text/plain": [
       "100"
      ]
     },
     "execution_count": 50,
     "metadata": {},
     "output_type": "execute_result"
    }
   ],
   "source": [
    "cal.value"
   ]
  },
  {
   "cell_type": "markdown",
   "id": "7286e434",
   "metadata": {},
   "source": [
    "# Q3. 다음 결과를 예측해 보자.\n",
    "```python\n",
    "# 1.\n",
    ">>> all({1, 2, abs(-3)-3})\n",
    "\n",
    "# 2.\n",
    ">>> chr(ord('a')) == 'a'\n",
    "```"
   ]
  },
  {
   "cell_type": "markdown",
   "id": "5d2e8202",
   "metadata": {},
   "source": [
    "1번은 False로 뜬다.\n",
    "2번은 True로 뜬다"
   ]
  },
  {
   "cell_type": "code",
   "execution_count": 51,
   "id": "77da3f39",
   "metadata": {},
   "outputs": [
    {
     "data": {
      "text/plain": [
       "False"
      ]
     },
     "execution_count": 51,
     "metadata": {},
     "output_type": "execute_result"
    }
   ],
   "source": [
    "all({1, 2, abs(-3)-3})"
   ]
  },
  {
   "cell_type": "code",
   "execution_count": 52,
   "id": "ea01d1c2",
   "metadata": {},
   "outputs": [
    {
     "data": {
      "text/plain": [
       "True"
      ]
     },
     "execution_count": 52,
     "metadata": {},
     "output_type": "execute_result"
    }
   ],
   "source": [
    "chr(ord('a')) == 'a'"
   ]
  },
  {
   "cell_type": "markdown",
   "id": "ff058604",
   "metadata": {},
   "source": [
    "# Q4. filter와 lambda를 사용하여 리스트 [1, -2, 3, -5, 8, -3]에서 음수를 모두 제거해 보자."
   ]
  },
  {
   "cell_type": "code",
   "execution_count": 61,
   "id": "4da2f202",
   "metadata": {},
   "outputs": [],
   "source": [
    "data=[1, -2, 3, -5, 8, -3]"
   ]
  },
  {
   "cell_type": "code",
   "execution_count": 62,
   "id": "c2e0e9e1",
   "metadata": {},
   "outputs": [
    {
     "name": "stdout",
     "output_type": "stream",
     "text": [
      "[1, 3, 8]\n"
     ]
    }
   ],
   "source": [
    "def positive(i):\n",
    "    return i > 0\n",
    "\n",
    "print(list(filter(positive, data)))"
   ]
  },
  {
   "cell_type": "code",
   "execution_count": 65,
   "id": "b0284a08",
   "metadata": {},
   "outputs": [
    {
     "name": "stdout",
     "output_type": "stream",
     "text": [
      "[1, 3, 8]\n"
     ]
    }
   ],
   "source": [
    "print(list(filter(lambda i: i>0, data)))"
   ]
  },
  {
   "cell_type": "markdown",
   "id": "3810c0b8",
   "metadata": {},
   "source": [
    "# Q5. 234라는 10진수의 16진수는 다음과 같이 구할 수 있다.\n",
    "```python\n",
    ">>> hex(234)\n",
    "'0xea'\n",
    "```\n",
    "이번에는 반대로 16진수 문자열 0xea를 10진수로 변경해 보자."
   ]
  },
  {
   "cell_type": "code",
   "execution_count": 67,
   "id": "c94be636",
   "metadata": {},
   "outputs": [
    {
     "data": {
      "text/plain": [
       "234"
      ]
     },
     "execution_count": 67,
     "metadata": {},
     "output_type": "execute_result"
    }
   ],
   "source": [
    "int('0xea', 16)"
   ]
  },
  {
   "cell_type": "code",
   "execution_count": 68,
   "id": "c5f51c6f",
   "metadata": {},
   "outputs": [],
   "source": [
    "int?"
   ]
  },
  {
   "cell_type": "markdown",
   "id": "6c563fc7",
   "metadata": {},
   "source": [
    "# Q6. map과 lambda를 사용하여 [1, 2, 3, 4] 리스트의 각 요솟값에 3이 곱해진 리스트 [3, 6, 9, 12]를 만들어 보자."
   ]
  },
  {
   "cell_type": "code",
   "execution_count": 69,
   "id": "d9926c52",
   "metadata": {},
   "outputs": [],
   "source": [
    "data=[1,2,3,4]"
   ]
  },
  {
   "cell_type": "code",
   "execution_count": 72,
   "id": "f303e800",
   "metadata": {},
   "outputs": [
    {
     "name": "stdout",
     "output_type": "stream",
     "text": [
      "[3, 6, 9, 12]\n"
     ]
    }
   ],
   "source": [
    "def multiple(x):\n",
    "    return x*3\n",
    "\n",
    "print(list(map(multiple, data)))"
   ]
  },
  {
   "cell_type": "code",
   "execution_count": 73,
   "id": "920561aa",
   "metadata": {},
   "outputs": [
    {
     "name": "stdout",
     "output_type": "stream",
     "text": [
      "[3, 6, 9, 12]\n"
     ]
    }
   ],
   "source": [
    "print(list(map(lambda x : x*3, data)))"
   ]
  },
  {
   "cell_type": "markdown",
   "id": "5abd78a0",
   "metadata": {},
   "source": [
    "# Q7. 다음 리스트의 최댓값과 최솟값의 합을 구해 보자.\n",
    "[-8, 2, 7, 5, -3, 5, 0, 1]"
   ]
  },
  {
   "cell_type": "code",
   "execution_count": 76,
   "id": "4527968b",
   "metadata": {},
   "outputs": [
    {
     "data": {
      "text/plain": [
       "-1"
      ]
     },
     "execution_count": 76,
     "metadata": {},
     "output_type": "execute_result"
    }
   ],
   "source": [
    "max([-8, 2, 7, 5, -3, 5, 0, 1])+min([-8, 2, 7, 5, -3, 5, 0, 1])"
   ]
  },
  {
   "cell_type": "markdown",
   "id": "b64ed240",
   "metadata": {},
   "source": [
    "# Q8. 17 / 3의 결과는 다음과 같다.\n",
    "```python\n",
    ">>> 17 / 3\n",
    "5.666666666667\n",
    "```\n",
    "위와 같은 결괏값 5.6666666666667을 소숫점 4자리까지만 반올림하여 표시해 보자."
   ]
  },
  {
   "cell_type": "code",
   "execution_count": 77,
   "id": "730d116a",
   "metadata": {},
   "outputs": [
    {
     "data": {
      "text/plain": [
       "5.6667"
      ]
     },
     "execution_count": 77,
     "metadata": {},
     "output_type": "execute_result"
    }
   ],
   "source": [
    "round(17/3, 4)"
   ]
  },
  {
   "cell_type": "markdown",
   "id": "6ae88f19",
   "metadata": {},
   "source": [
    "# Q9. 다음과 같이 실행할 때 입력값을 모두 더하여 출력하는 스크립트(C:\\doit\\myargv.py)를 작성해 보자.\n",
    "```\n",
    "C:\\> cd doit\n",
    "C:\\dodit> python myargv.py 1 2 3 4 5 6 7 8 9 10\n",
    "```"
   ]
  },
  {
   "cell_type": "code",
   "execution_count": 90,
   "id": "b5157082",
   "metadata": {},
   "outputs": [
    {
     "ename": "ValueError",
     "evalue": "invalid literal for int() with base 10: '-f'",
     "output_type": "error",
     "traceback": [
      "\u001b[1;31m---------------------------------------------------------------------------\u001b[0m",
      "\u001b[1;31mValueError\u001b[0m                                Traceback (most recent call last)",
      "Cell \u001b[1;32mIn[90], line 5\u001b[0m\n\u001b[0;32m      3\u001b[0m number \u001b[38;5;241m=\u001b[39m \u001b[38;5;241m0\u001b[39m\n\u001b[0;32m      4\u001b[0m \u001b[38;5;28;01mfor\u001b[39;00m i \u001b[38;5;129;01min\u001b[39;00m args:\n\u001b[1;32m----> 5\u001b[0m     number \u001b[38;5;241m+\u001b[39m\u001b[38;5;241m=\u001b[39m \u001b[38;5;28mint\u001b[39m(i)\n\u001b[0;32m      6\u001b[0m \u001b[38;5;28mprint\u001b[39m(number)\n",
      "\u001b[1;31mValueError\u001b[0m: invalid literal for int() with base 10: '-f'"
     ]
    }
   ],
   "source": [
    "import sys\n",
    "args = sys.argv[1:]\n",
    "number = 0\n",
    "for i in args:\n",
    "    number += int(i)\n",
    "print(number)"
   ]
  },
  {
   "cell_type": "markdown",
   "id": "ac41096a",
   "metadata": {},
   "source": [
    "# Q10. OS 모듈을 사용하여 다음과 같이 동작하도록 코드를 작성해 보자.\n",
    "1. C:\\doit 디렉터리로 이동한다.\n",
    "2. dir 명령을 실행하고 그 결과를 변수에 담는다.\n",
    "3. dir 명령의 결과를 출력한다."
   ]
  },
  {
   "cell_type": "code",
   "execution_count": 95,
   "id": "f443c4ec",
   "metadata": {},
   "outputs": [
    {
     "data": {
      "text/plain": [
       "0"
      ]
     },
     "execution_count": 95,
     "metadata": {},
     "output_type": "execute_result"
    }
   ],
   "source": [
    "import os\n",
    "os.system(\"dir\")"
   ]
  },
  {
   "cell_type": "code",
   "execution_count": 96,
   "id": "25c27d47",
   "metadata": {},
   "outputs": [
    {
     "name": "stdout",
     "output_type": "stream",
     "text": [
      " C 드라이브의 볼륨에는 이름이 없습니다.\n",
      " 볼륨 일련 번호: 2CB0-EF75\n",
      "\n",
      " C:\\workspace\\WASSUP\\Today I Learned 디렉터리\n",
      "\n",
      "2024-03-14  오전 12:31    <DIR>          .\n",
      "2024-03-13  오전 10:20    <DIR>          ..\n",
      "2024-03-13  오후 04:51    <DIR>          .ipynb_checkpoints\n",
      "2024-02-29  오후 11:59            32,138 240228 TIL.ipynb\n",
      "2024-02-28  오후 11:55                49 240228_mutiple string.txt\n",
      "2024-02-28  오후 11:38                49 240228_mutiplestring.py\n",
      "2024-03-01  오후 01:47            34,346 240228_초보자를 위한 파이썬 300제 1~50.ipynb\n",
      "2024-03-05  오후 01:43            11,219 240304_자료형&변수_연습문제_실습용.ipynb\n",
      "2024-03-05  오전 01:05            44,423 240304_초보자를 위한 파이썬 300제 51~100.ipynb\n",
      "2024-03-07  오전 12:12             9,038 240305_제어문_연습문제_실습용.ipynb\n",
      "2024-03-06  오후 01:45            45,728 240305_초보자를 위한 파이썬 300제 101~150.ipynb\n",
      "2024-03-06  오후 11:57            48,245 240306_초보자를 위한 파이썬 300제 151~200.ipynb\n",
      "2024-03-08  오전 01:40            34,894 240307_초보자를 위한 파이썬 300제 201~240.ipynb\n",
      "2024-03-08  오전 12:04            11,078 240307_함수&입출력_연습문제_실습용.ipynb\n",
      "2024-03-13  오전 02:03            62,552 240311_초보자를 위한 파이썬 300제 251~290.ipynb\n",
      "2024-03-13  오전 02:56            12,408 240312_초보자를 위한 파이썬 300제 291~300.ipynb\n",
      "2024-03-14  오전 12:31            15,360 240312_클래스&내장함수_연습문제_실습용.ipynb\n",
      "2024-03-07  오전 11:14                49 mutiplestring.py\n",
      "2024-03-14  오전 12:24                 0 myargv.py\n",
      "2024-03-07  오후 11:54                17 t.txt\n",
      "2024-03-08  오전 12:03                34 test.txt\n",
      "              18개 파일             361,627 바이트\n",
      "               3개 디렉터리  11,878,744,064 바이트 남음\n",
      "\n"
     ]
    }
   ],
   "source": [
    "f = os.popen(\"dir\")\n",
    "print(f.read())"
   ]
  },
  {
   "cell_type": "markdown",
   "id": "e1df445d",
   "metadata": {},
   "source": [
    "# Q11. glob 모듈을 사용하여 C:\\doit 디렉터리의 파일 중 확장자가 .ipynb인 파일만 출력하는 프로그램을 작성해 보자."
   ]
  },
  {
   "cell_type": "code",
   "execution_count": 97,
   "id": "b69ab522",
   "metadata": {},
   "outputs": [],
   "source": [
    "import glob"
   ]
  },
  {
   "cell_type": "code",
   "execution_count": 99,
   "id": "263b0460",
   "metadata": {},
   "outputs": [
    {
     "data": {
      "text/plain": [
       "[]"
      ]
     },
     "execution_count": 99,
     "metadata": {},
     "output_type": "execute_result"
    }
   ],
   "source": [
    "glob.glob('C:\\doit\\*.ipynb')"
   ]
  },
  {
   "cell_type": "code",
   "execution_count": 100,
   "id": "7472bff3",
   "metadata": {},
   "outputs": [
    {
     "data": {
      "text/plain": [
       "['C:\\\\workspace\\\\WASSUP\\\\Today I Learned\\\\240228 TIL.ipynb',\n",
       " 'C:\\\\workspace\\\\WASSUP\\\\Today I Learned\\\\240228_초보자를 위한 파이썬 300제 1~50.ipynb',\n",
       " 'C:\\\\workspace\\\\WASSUP\\\\Today I Learned\\\\240304_자료형&변수_연습문제_실습용.ipynb',\n",
       " 'C:\\\\workspace\\\\WASSUP\\\\Today I Learned\\\\240304_초보자를 위한 파이썬 300제 51~100.ipynb',\n",
       " 'C:\\\\workspace\\\\WASSUP\\\\Today I Learned\\\\240305_제어문_연습문제_실습용.ipynb',\n",
       " 'C:\\\\workspace\\\\WASSUP\\\\Today I Learned\\\\240305_초보자를 위한 파이썬 300제 101~150.ipynb',\n",
       " 'C:\\\\workspace\\\\WASSUP\\\\Today I Learned\\\\240306_초보자를 위한 파이썬 300제 151~200.ipynb',\n",
       " 'C:\\\\workspace\\\\WASSUP\\\\Today I Learned\\\\240307_초보자를 위한 파이썬 300제 201~240.ipynb',\n",
       " 'C:\\\\workspace\\\\WASSUP\\\\Today I Learned\\\\240307_함수&입출력_연습문제_실습용.ipynb',\n",
       " 'C:\\\\workspace\\\\WASSUP\\\\Today I Learned\\\\240311_초보자를 위한 파이썬 300제 251~290.ipynb',\n",
       " 'C:\\\\workspace\\\\WASSUP\\\\Today I Learned\\\\240312_초보자를 위한 파이썬 300제 291~300.ipynb',\n",
       " 'C:\\\\workspace\\\\WASSUP\\\\Today I Learned\\\\240312_클래스&내장함수_연습문제_실습용.ipynb']"
      ]
     },
     "execution_count": 100,
     "metadata": {},
     "output_type": "execute_result"
    }
   ],
   "source": [
    "glob.glob(os.getcwd()+'/*.ipynb')"
   ]
  },
  {
   "cell_type": "code",
   "execution_count": 101,
   "id": "30218b2e",
   "metadata": {},
   "outputs": [
    {
     "data": {
      "text/plain": [
       "'C:\\\\workspace\\\\WASSUP\\\\Today I Learned'"
      ]
     },
     "execution_count": 101,
     "metadata": {},
     "output_type": "execute_result"
    }
   ],
   "source": [
    "os.getcwd()"
   ]
  },
  {
   "cell_type": "markdown",
   "id": "d7b91fea",
   "metadata": {},
   "source": [
    "# Q12. time 모듈을 사용하여 현재 날짜와 시간을 다음과 같은 형식으로 출력해 보자.\n",
    "2018/04/03 17:20:32"
   ]
  },
  {
   "cell_type": "code",
   "execution_count": 102,
   "id": "e2a5f482",
   "metadata": {},
   "outputs": [],
   "source": [
    "import time"
   ]
  },
  {
   "cell_type": "code",
   "execution_count": 110,
   "id": "88980b45",
   "metadata": {},
   "outputs": [
    {
     "name": "stdout",
     "output_type": "stream",
     "text": [
      "2024/03/14 00:48:09\n"
     ]
    }
   ],
   "source": [
    "print(time.strftime('%Y/%m/%d %X', time.localtime(time.time())))"
   ]
  },
  {
   "cell_type": "markdown",
   "id": "393cd834",
   "metadata": {},
   "source": [
    "# Q13. random 모듈을 사용하여 로또 번호 (1~45 사이의 숫자 6개)를 생성해보자(단 중복된 숫자가 있으면 안됨)."
   ]
  },
  {
   "cell_type": "code",
   "execution_count": 117,
   "id": "c4b093dc",
   "metadata": {},
   "outputs": [],
   "source": [
    "import random\n",
    "\n",
    "data=[]\n",
    "\n",
    "while len(data) < 6:\n",
    "    number = random.randint(1, 45)\n",
    "    if number not in data:\n",
    "        data.append(number)"
   ]
  },
  {
   "cell_type": "code",
   "execution_count": 118,
   "id": "c81c0794",
   "metadata": {},
   "outputs": [
    {
     "name": "stdout",
     "output_type": "stream",
     "text": [
      "[14, 23, 3, 35, 41, 38]\n"
     ]
    }
   ],
   "source": [
    "print(data)"
   ]
  },
  {
   "cell_type": "markdown",
   "id": "ee89ff74",
   "metadata": {},
   "source": [
    "\"성공은 매일 반복한 작은 노력들의 합이다.\"\n",
    "- 로버트 콜리어"
   ]
  }
 ],
 "metadata": {
  "kernelspec": {
   "display_name": "Python 3 (ipykernel)",
   "language": "python",
   "name": "python3"
  },
  "language_info": {
   "codemirror_mode": {
    "name": "ipython",
    "version": 3
   },
   "file_extension": ".py",
   "mimetype": "text/x-python",
   "name": "python",
   "nbconvert_exporter": "python",
   "pygments_lexer": "ipython3",
   "version": "3.11.5"
  },
  "toc": {
   "base_numbering": 1,
   "nav_menu": {},
   "number_sections": true,
   "sideBar": true,
   "skip_h1_title": false,
   "title_cell": "Table of Contents",
   "title_sidebar": "Contents",
   "toc_cell": false,
   "toc_position": {},
   "toc_section_display": true,
   "toc_window_display": false
  },
  "varInspector": {
   "cols": {
    "lenName": 16,
    "lenType": 16,
    "lenVar": 40
   },
   "kernels_config": {
    "python": {
     "delete_cmd_postfix": "",
     "delete_cmd_prefix": "del ",
     "library": "var_list.py",
     "varRefreshCmd": "print(var_dic_list())"
    },
    "r": {
     "delete_cmd_postfix": ") ",
     "delete_cmd_prefix": "rm(",
     "library": "var_list.r",
     "varRefreshCmd": "cat(var_dic_list()) "
    }
   },
   "types_to_exclude": [
    "module",
    "function",
    "builtin_function_or_method",
    "instance",
    "_Feature"
   ],
   "window_display": false
  }
 },
 "nbformat": 4,
 "nbformat_minor": 5
}
