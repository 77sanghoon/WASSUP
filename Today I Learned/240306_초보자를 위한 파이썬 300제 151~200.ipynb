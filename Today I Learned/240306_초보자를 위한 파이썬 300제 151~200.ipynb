{
 "cells": [
  {
   "cell_type": "markdown",
   "id": "a78b4669",
   "metadata": {},
   "source": [
    "## 151\n",
    "리스트에는 네 개의 정수가 저장돼 있다.\n",
    "\n",
    "리스트 = [3, -20, -3, 44]   \n",
    "for문을 사용해서 리스트의 음수를 출력하라.\n",
    "\n",
    "-20  \n",
    "-3"
   ]
  },
  {
   "cell_type": "code",
   "execution_count": 1,
   "id": "0e17a285",
   "metadata": {},
   "outputs": [],
   "source": [
    "리스트 = [3, -20, -3, 44]"
   ]
  },
  {
   "cell_type": "code",
   "execution_count": 5,
   "id": "b52f9642",
   "metadata": {},
   "outputs": [
    {
     "name": "stdout",
     "output_type": "stream",
     "text": [
      "-20\n",
      "-3\n"
     ]
    }
   ],
   "source": [
    "for i in 리스트:\n",
    "    if i < 0:\n",
    "        print(i)        "
   ]
  },
  {
   "cell_type": "markdown",
   "id": "19f3effa",
   "metadata": {},
   "source": [
    "## 152\n",
    "for문을 사용해서 3의 배수만을 출력하라.\n",
    "\n",
    "리스트 = [3, 100, 23, 44]  \n",
    "3"
   ]
  },
  {
   "cell_type": "code",
   "execution_count": 1,
   "id": "3fd7c666",
   "metadata": {},
   "outputs": [],
   "source": [
    "리스트 = [3, 100, 23, 44]"
   ]
  },
  {
   "cell_type": "code",
   "execution_count": 2,
   "id": "e64b67ef",
   "metadata": {},
   "outputs": [
    {
     "name": "stdout",
     "output_type": "stream",
     "text": [
      "3\n"
     ]
    }
   ],
   "source": [
    "for i in 리스트:\n",
    "    if i%3==0:\n",
    "        print(i)"
   ]
  },
  {
   "cell_type": "markdown",
   "id": "6f09b29a",
   "metadata": {},
   "source": [
    "## 153\n",
    "리스트에서 20 보다 작은 3의 배수를 출력하라\n",
    "\n",
    "리스트 = [13, 21, 12, 14, 30, 18]   \n",
    "12  \n",
    "18"
   ]
  },
  {
   "cell_type": "code",
   "execution_count": 3,
   "id": "12c556c7",
   "metadata": {},
   "outputs": [],
   "source": [
    "리스트 = [13, 21, 12, 14, 30, 18]"
   ]
  },
  {
   "cell_type": "code",
   "execution_count": 5,
   "id": "7e313d39",
   "metadata": {},
   "outputs": [
    {
     "name": "stdout",
     "output_type": "stream",
     "text": [
      "12\n",
      "18\n"
     ]
    }
   ],
   "source": [
    "for i in 리스트:\n",
    "    if (i < 20) and (i % 3 == 0):\n",
    "        print(i)"
   ]
  },
  {
   "cell_type": "markdown",
   "id": "c1b19e19",
   "metadata": {},
   "source": [
    "## 154\n",
    "리스트에서 세 글자 이상의 문자를 화면에 출력하라\n",
    "\n",
    "리스트 = [\"I\", \"study\", \"python\", \"language\", \"!\"]  \n",
    "study  \n",
    "python  \n",
    "language"
   ]
  },
  {
   "cell_type": "code",
   "execution_count": 6,
   "id": "651782a5",
   "metadata": {},
   "outputs": [],
   "source": [
    "리스트 = [\"I\", \"study\", \"python\", \"language\", \"!\"]"
   ]
  },
  {
   "cell_type": "code",
   "execution_count": 7,
   "id": "4c5b55ec",
   "metadata": {},
   "outputs": [
    {
     "name": "stdout",
     "output_type": "stream",
     "text": [
      "study\n",
      "python\n",
      "language\n"
     ]
    }
   ],
   "source": [
    "for i in 리스트:\n",
    "    if len(i) >= 3:\n",
    "        print(i)"
   ]
  },
  {
   "cell_type": "markdown",
   "id": "67dd3c4f",
   "metadata": {},
   "source": [
    "## 155\n",
    "리스트에서 대문자만 화면에 출력하라.\n",
    "\n",
    "리스트 = [\"A\", \"b\", \"c\", \"D\"]  \n",
    "A  \n",
    "D  \n",
    "(참고) isupper() 메서드는 대문자 여부를 판별합니다.\n",
    "\n",
    "변수 = \"A\"  \n",
    "변수.isupper()  \n",
    "True\n",
    "\n",
    "변수 = \"a\"  \n",
    "변수.isupper()  \n",
    "False \n",
    " "
   ]
  },
  {
   "cell_type": "code",
   "execution_count": 8,
   "id": "0c3dae54",
   "metadata": {},
   "outputs": [],
   "source": [
    "리스트 = [\"A\", \"b\", \"c\", \"D\"]"
   ]
  },
  {
   "cell_type": "code",
   "execution_count": 10,
   "id": "c1d6d1de",
   "metadata": {},
   "outputs": [
    {
     "name": "stdout",
     "output_type": "stream",
     "text": [
      "A\n",
      "D\n"
     ]
    }
   ],
   "source": [
    "for i in 리스트:\n",
    "    if i.isupper():\n",
    "        print(i)"
   ]
  },
  {
   "cell_type": "markdown",
   "id": "bc357910",
   "metadata": {},
   "source": [
    "## 156\n",
    "리스트에서 소문자만 화면에 출력하라.\n",
    "\n",
    "리스트 = [\"A\", \"b\", \"c\", \"D\"]  \n",
    "b  \n",
    "c"
   ]
  },
  {
   "cell_type": "code",
   "execution_count": 12,
   "id": "4192ac13",
   "metadata": {},
   "outputs": [
    {
     "name": "stdout",
     "output_type": "stream",
     "text": [
      "b\n",
      "c\n"
     ]
    }
   ],
   "source": [
    "for i in 리스트:\n",
    "    if i.isupper() == False:\n",
    "        print(i)"
   ]
  },
  {
   "cell_type": "markdown",
   "id": "a262f521",
   "metadata": {},
   "source": [
    "## 157\n",
    "이름의 첫 글자를 대문자로 변경해서 출력하라.\n",
    "\n",
    "리스트 = ['dog', 'cat', 'parrot']  \n",
    "Dog  \n",
    "Cat  \n",
    "Parrot  \n",
    "(참고) upper() 메서드는 문자열을 대문자로 변경합니다.\n",
    "\n",
    "변수 = \"a\"  \n",
    "a.upper()  \n",
    "A\n",
    "\n",
    "변수 = \"abc\"  \n",
    "변수.upper()  \n",
    "ABC"
   ]
  },
  {
   "cell_type": "code",
   "execution_count": 13,
   "id": "4b0fd02b",
   "metadata": {},
   "outputs": [],
   "source": [
    "리스트 = ['dog', 'cat', 'parrot']"
   ]
  },
  {
   "cell_type": "code",
   "execution_count": 20,
   "id": "244d52cf",
   "metadata": {},
   "outputs": [
    {
     "name": "stdout",
     "output_type": "stream",
     "text": [
      "Dog\n",
      "Cat\n",
      "Parrot\n"
     ]
    }
   ],
   "source": [
    "for i in 리스트:\n",
    "    print(i[0].upper()+i[1:])"
   ]
  },
  {
   "cell_type": "markdown",
   "id": "a8aff34c",
   "metadata": {},
   "source": [
    "## 158\n",
    "파일 이름이 저장된 리스트에서 확장자를 제거하고 파일 이름만 화면에 출력하라. (힌트: split() 메서드)\n",
    "\n",
    "리스트 = ['hello.py', 'ex01.py', 'intro.hwp']  \n",
    "hello  \n",
    "ex01  \n",
    "intro"
   ]
  },
  {
   "cell_type": "code",
   "execution_count": 21,
   "id": "48cb4dca",
   "metadata": {},
   "outputs": [],
   "source": [
    "리스트 = ['hello.py', 'ex01.py', 'intro.hwp']"
   ]
  },
  {
   "cell_type": "code",
   "execution_count": 22,
   "id": "4ebef4e7",
   "metadata": {},
   "outputs": [
    {
     "name": "stdout",
     "output_type": "stream",
     "text": [
      "hello\n",
      "ex01\n",
      "intro\n"
     ]
    }
   ],
   "source": [
    "for i in 리스트:\n",
    "    print(i.split('.')[0])"
   ]
  },
  {
   "cell_type": "markdown",
   "id": "71de7ac9",
   "metadata": {},
   "source": [
    "## 159\n",
    "파일 이름이 저장된 리스트에서 확장자가 .h인 파일 이름을 출력하라.\n",
    "\n",
    "리스트 = ['intra.h', 'intra.c', 'define.h', 'run.py']  \n",
    "intra.h  \n",
    "define.h"
   ]
  },
  {
   "cell_type": "code",
   "execution_count": 23,
   "id": "4250ccb2",
   "metadata": {},
   "outputs": [],
   "source": [
    "리스트 = ['intra.h', 'intra.c', 'define.h', 'run.py']"
   ]
  },
  {
   "cell_type": "code",
   "execution_count": 24,
   "id": "daf136bc",
   "metadata": {},
   "outputs": [
    {
     "name": "stdout",
     "output_type": "stream",
     "text": [
      "intra.h\n",
      "define.h\n"
     ]
    }
   ],
   "source": [
    "for i in 리스트:\n",
    "    if i.split('.')[1] == 'h':\n",
    "        print(i)"
   ]
  },
  {
   "cell_type": "markdown",
   "id": "f69b2e6d",
   "metadata": {},
   "source": [
    "## 160\n",
    "파일 이름이 저장된 리스트에서 확장자가 .h나 .c인 파일을 화면에 출력하라.\n",
    " \n",
    "리스트 = ['intra.h', 'intra.c', 'define.h', 'run.py']  \n",
    "intra.h  \n",
    "intra.c  \n",
    "define.h"
   ]
  },
  {
   "cell_type": "code",
   "execution_count": 25,
   "id": "0c4af8fd",
   "metadata": {},
   "outputs": [
    {
     "name": "stdout",
     "output_type": "stream",
     "text": [
      "intra.h\n",
      "intra.c\n",
      "define.h\n"
     ]
    }
   ],
   "source": [
    "for i in 리스트:\n",
    "    if i.split('.')[1] == 'h' or i.split('.')[1] == 'c':\n",
    "        print(i)"
   ]
  },
  {
   "cell_type": "markdown",
   "id": "5377c2e5",
   "metadata": {},
   "source": [
    "## 161\n",
    "for문과 range 구문을 사용해서 0~99까지 한 라인에 하나씩 순차적으로 출력하는 프로그램을 작성하라."
   ]
  },
  {
   "cell_type": "code",
   "execution_count": 26,
   "id": "9a47224b",
   "metadata": {},
   "outputs": [
    {
     "name": "stdout",
     "output_type": "stream",
     "text": [
      "0\n",
      "1\n",
      "2\n",
      "3\n",
      "4\n",
      "5\n",
      "6\n",
      "7\n",
      "8\n",
      "9\n",
      "10\n",
      "11\n",
      "12\n",
      "13\n",
      "14\n",
      "15\n",
      "16\n",
      "17\n",
      "18\n",
      "19\n",
      "20\n",
      "21\n",
      "22\n",
      "23\n",
      "24\n",
      "25\n",
      "26\n",
      "27\n",
      "28\n",
      "29\n",
      "30\n",
      "31\n",
      "32\n",
      "33\n",
      "34\n",
      "35\n",
      "36\n",
      "37\n",
      "38\n",
      "39\n",
      "40\n",
      "41\n",
      "42\n",
      "43\n",
      "44\n",
      "45\n",
      "46\n",
      "47\n",
      "48\n",
      "49\n",
      "50\n",
      "51\n",
      "52\n",
      "53\n",
      "54\n",
      "55\n",
      "56\n",
      "57\n",
      "58\n",
      "59\n",
      "60\n",
      "61\n",
      "62\n",
      "63\n",
      "64\n",
      "65\n",
      "66\n",
      "67\n",
      "68\n",
      "69\n",
      "70\n",
      "71\n",
      "72\n",
      "73\n",
      "74\n",
      "75\n",
      "76\n",
      "77\n",
      "78\n",
      "79\n",
      "80\n",
      "81\n",
      "82\n",
      "83\n",
      "84\n",
      "85\n",
      "86\n",
      "87\n",
      "88\n",
      "89\n",
      "90\n",
      "91\n",
      "92\n",
      "93\n",
      "94\n",
      "95\n",
      "96\n",
      "97\n",
      "98\n",
      "99\n"
     ]
    }
   ],
   "source": [
    "for i in range(100):\n",
    "    print(i)"
   ]
  },
  {
   "cell_type": "markdown",
   "id": "2230b348",
   "metadata": {},
   "source": [
    "## 162\n",
    "월드컵은 4년에 한 번 개최된다. range()를 사용하여 2002~2050년까지 중 월드컵이 개최되는 연도를 출력하라.\n",
    "\n",
    "2002  \n",
    "2006  \n",
    "2010  \n",
    "...  \n",
    "2042  \n",
    "2046  \n",
    "2050  \n",
    "\n",
    "참고) range의 세번 째 파라미터는 증감폭을 결정합니다.  \n",
    "\n",
    "print(list(range(0, 10, 2)))  \n",
    "[0, 2, 4, 6, 8]"
   ]
  },
  {
   "cell_type": "code",
   "execution_count": 27,
   "id": "3cb54229",
   "metadata": {},
   "outputs": [
    {
     "name": "stdout",
     "output_type": "stream",
     "text": [
      "2002\n",
      "2006\n",
      "2010\n",
      "2014\n",
      "2018\n",
      "2022\n",
      "2026\n",
      "2030\n",
      "2034\n",
      "2038\n",
      "2042\n",
      "2046\n",
      "2050\n"
     ]
    }
   ],
   "source": [
    "for i in range(2002,2051,4):\n",
    "    print(i)"
   ]
  },
  {
   "cell_type": "markdown",
   "id": "2712b7a9",
   "metadata": {},
   "source": [
    "## 163\n",
    "1부터 30까지의 숫자 중 3의 배수를 출력하라.\n",
    "\n",
    "3 \n",
    "6 \n",
    "9 \n",
    "12 \n",
    "15 \n",
    "18 \n",
    "21 \n",
    "24 \n",
    "27 \n",
    "30"
   ]
  },
  {
   "cell_type": "code",
   "execution_count": 32,
   "id": "456c647b",
   "metadata": {},
   "outputs": [
    {
     "name": "stdout",
     "output_type": "stream",
     "text": [
      "3\n",
      "6\n",
      "9\n",
      "12\n",
      "15\n",
      "18\n",
      "21\n",
      "24\n",
      "27\n",
      "30\n"
     ]
    }
   ],
   "source": [
    "for i in range(3,31,3):\n",
    "    print(i)"
   ]
  },
  {
   "cell_type": "markdown",
   "id": "b7babf0e",
   "metadata": {},
   "source": [
    "## 164\n",
    "99부터 0까지 1씩 감소하는 숫자들을, 한 라인에 하나씩 출력하라."
   ]
  },
  {
   "cell_type": "code",
   "execution_count": 35,
   "id": "3fcf0dc6",
   "metadata": {},
   "outputs": [
    {
     "name": "stdout",
     "output_type": "stream",
     "text": [
      "99\n",
      "98\n",
      "97\n",
      "96\n",
      "95\n",
      "94\n",
      "93\n",
      "92\n",
      "91\n",
      "90\n",
      "89\n",
      "88\n",
      "87\n",
      "86\n",
      "85\n",
      "84\n",
      "83\n",
      "82\n",
      "81\n",
      "80\n",
      "79\n",
      "78\n",
      "77\n",
      "76\n",
      "75\n",
      "74\n",
      "73\n",
      "72\n",
      "71\n",
      "70\n",
      "69\n",
      "68\n",
      "67\n",
      "66\n",
      "65\n",
      "64\n",
      "63\n",
      "62\n",
      "61\n",
      "60\n",
      "59\n",
      "58\n",
      "57\n",
      "56\n",
      "55\n",
      "54\n",
      "53\n",
      "52\n",
      "51\n",
      "50\n",
      "49\n",
      "48\n",
      "47\n",
      "46\n",
      "45\n",
      "44\n",
      "43\n",
      "42\n",
      "41\n",
      "40\n",
      "39\n",
      "38\n",
      "37\n",
      "36\n",
      "35\n",
      "34\n",
      "33\n",
      "32\n",
      "31\n",
      "30\n",
      "29\n",
      "28\n",
      "27\n",
      "26\n",
      "25\n",
      "24\n",
      "23\n",
      "22\n",
      "21\n",
      "20\n",
      "19\n",
      "18\n",
      "17\n",
      "16\n",
      "15\n",
      "14\n",
      "13\n",
      "12\n",
      "11\n",
      "10\n",
      "9\n",
      "8\n",
      "7\n",
      "6\n",
      "5\n",
      "4\n",
      "3\n",
      "2\n",
      "1\n",
      "0\n"
     ]
    }
   ],
   "source": [
    "for i in range(99,-1,-1):\n",
    "    print(i)"
   ]
  },
  {
   "cell_type": "code",
   "execution_count": 36,
   "id": "0c204a22",
   "metadata": {},
   "outputs": [
    {
     "name": "stdout",
     "output_type": "stream",
     "text": [
      "99\n",
      "98\n",
      "97\n",
      "96\n",
      "95\n",
      "94\n",
      "93\n",
      "92\n",
      "91\n",
      "90\n",
      "89\n",
      "88\n",
      "87\n",
      "86\n",
      "85\n",
      "84\n",
      "83\n",
      "82\n",
      "81\n",
      "80\n",
      "79\n",
      "78\n",
      "77\n",
      "76\n",
      "75\n",
      "74\n",
      "73\n",
      "72\n",
      "71\n",
      "70\n",
      "69\n",
      "68\n",
      "67\n",
      "66\n",
      "65\n",
      "64\n",
      "63\n",
      "62\n",
      "61\n",
      "60\n",
      "59\n",
      "58\n",
      "57\n",
      "56\n",
      "55\n",
      "54\n",
      "53\n",
      "52\n",
      "51\n",
      "50\n",
      "49\n",
      "48\n",
      "47\n",
      "46\n",
      "45\n",
      "44\n",
      "43\n",
      "42\n",
      "41\n",
      "40\n",
      "39\n",
      "38\n",
      "37\n",
      "36\n",
      "35\n",
      "34\n",
      "33\n",
      "32\n",
      "31\n",
      "30\n",
      "29\n",
      "28\n",
      "27\n",
      "26\n",
      "25\n",
      "24\n",
      "23\n",
      "22\n",
      "21\n",
      "20\n",
      "19\n",
      "18\n",
      "17\n",
      "16\n",
      "15\n",
      "14\n",
      "13\n",
      "12\n",
      "11\n",
      "10\n",
      "9\n",
      "8\n",
      "7\n",
      "6\n",
      "5\n",
      "4\n",
      "3\n",
      "2\n",
      "1\n",
      "0\n"
     ]
    }
   ],
   "source": [
    "for i in range(100):\n",
    "    print(99 - i)"
   ]
  },
  {
   "cell_type": "markdown",
   "id": "4954a966",
   "metadata": {},
   "source": [
    "## 165\n",
    "for문을 사용해서 아래와 같이 출력하라.\n",
    "\n",
    "0.0  \n",
    "0.1  \n",
    "0.2  \n",
    "0.3  \n",
    "0.4  \n",
    "0.5  \n",
    "...  \n",
    "0.9"
   ]
  },
  {
   "cell_type": "code",
   "execution_count": 41,
   "id": "7213b278",
   "metadata": {},
   "outputs": [
    {
     "name": "stdout",
     "output_type": "stream",
     "text": [
      "0.0\n",
      "0.1\n",
      "0.2\n",
      "0.3\n",
      "0.4\n",
      "0.5\n",
      "0.6\n",
      "0.7\n",
      "0.8\n",
      "0.9\n"
     ]
    }
   ],
   "source": [
    "for i in range(0,10):\n",
    "    print(i/10)"
   ]
  },
  {
   "cell_type": "markdown",
   "id": "155ba62e",
   "metadata": {},
   "source": [
    "## 166\n",
    "구구단 3단을 출력하라.\n",
    "\n",
    "3x1 = 3  \n",
    "3x2 = 6  \n",
    "3x3 = 9  \n",
    "3x4 = 12  \n",
    "3x5 = 15  \n",
    "3x6 = 18  \n",
    "3x7 = 21  \n",
    "3x8 = 24  \n",
    "3x9 = 27  "
   ]
  },
  {
   "cell_type": "code",
   "execution_count": 56,
   "id": "b4bf7f7f",
   "metadata": {},
   "outputs": [
    {
     "name": "stdout",
     "output_type": "stream",
     "text": [
      "3x1 = 3\n",
      "3x2 = 6\n",
      "3x3 = 9\n",
      "3x4 = 12\n",
      "3x5 = 15\n",
      "3x6 = 18\n",
      "3x7 = 21\n",
      "3x8 = 24\n",
      "3x9 = 27\n"
     ]
    }
   ],
   "source": [
    "for i in range(1,10):\n",
    "    print('3x{} = {}'.format(i, i*3))"
   ]
  },
  {
   "cell_type": "markdown",
   "id": "f422eec5",
   "metadata": {},
   "source": [
    "## 167\n",
    "구구단 3단을 출력하라. 단 홀수 번째만 출력한다.\n",
    "\n",
    "3x1 = 3  \n",
    "3x3 = 9  \n",
    "3x5 = 15  \n",
    "3x7 = 21  \n",
    "3x9 = 27"
   ]
  },
  {
   "cell_type": "code",
   "execution_count": 58,
   "id": "992bc513",
   "metadata": {},
   "outputs": [
    {
     "name": "stdout",
     "output_type": "stream",
     "text": [
      "3x1 = 3\n",
      "3x3 = 9\n",
      "3x5 = 15\n",
      "3x7 = 21\n",
      "3x9 = 27\n"
     ]
    }
   ],
   "source": [
    "for i in range(1,10):\n",
    "    if i % 2 == 1:\n",
    "        print('3x{} = {}'.format(i, i*3))"
   ]
  },
  {
   "cell_type": "markdown",
   "id": "142acc02",
   "metadata": {},
   "source": [
    "## 168\n",
    "1~10까지의 숫자에 대해 모두 더한 값을 출력하는 프로그램을 for 문을 사용하여 작성하라.\n",
    "\n",
    "합 : 55"
   ]
  },
  {
   "cell_type": "code",
   "execution_count": 70,
   "id": "b646fe7f",
   "metadata": {},
   "outputs": [
    {
     "name": "stdout",
     "output_type": "stream",
     "text": [
      "55\n"
     ]
    }
   ],
   "source": [
    "hap=0\n",
    "for i in range(1,11):\n",
    "    hap+=i\n",
    "print(hap)"
   ]
  },
  {
   "cell_type": "markdown",
   "id": "fb3c9265",
   "metadata": {},
   "source": [
    "## 169\n",
    "1~10까지의 숫자 중 모든 홀수의 합을 출력하는 프로그램을 for 문을 사용하여 작성하라.\n",
    "\n",
    "합: 25"
   ]
  },
  {
   "cell_type": "code",
   "execution_count": 72,
   "id": "28842603",
   "metadata": {},
   "outputs": [
    {
     "name": "stdout",
     "output_type": "stream",
     "text": [
      "25\n"
     ]
    }
   ],
   "source": [
    "hap=0\n",
    "\n",
    "for i in range(1,11):\n",
    "    if i % 2 == 1:\n",
    "        hap+=i\n",
    "\n",
    "print(hap)"
   ]
  },
  {
   "cell_type": "code",
   "execution_count": 73,
   "id": "2a08aaf9",
   "metadata": {},
   "outputs": [
    {
     "name": "stdout",
     "output_type": "stream",
     "text": [
      "합 : 25\n"
     ]
    }
   ],
   "source": [
    "hab = 0\n",
    "for i in range(1, 11, 2):\n",
    "    hab += i\n",
    "print (\"합 :\", hab)"
   ]
  },
  {
   "cell_type": "markdown",
   "id": "33682d60",
   "metadata": {},
   "source": [
    "## 170\n",
    "1~10까지의 숫자를 모두 곱한 값을 출력하는 프로그램을 for 문을 사용하여 작성하라."
   ]
  },
  {
   "cell_type": "code",
   "execution_count": 75,
   "id": "6f84b331",
   "metadata": {},
   "outputs": [
    {
     "name": "stdout",
     "output_type": "stream",
     "text": [
      "3628800\n"
     ]
    }
   ],
   "source": [
    "hap=1\n",
    "for i in range(1,11):\n",
    "    hap *= i\n",
    "    \n",
    "print(hap)"
   ]
  },
  {
   "cell_type": "markdown",
   "id": "079b5471",
   "metadata": {},
   "source": [
    "## 171\n",
    "아래와 같이 리스트의 데이터를 출력하라. 단, for문과 range문을 사용하라.\n",
    "\n",
    "price_list = [32100, 32150, 32000, 32500]  \n",
    "32100  \n",
    "32150  \n",
    "32000  \n",
    "32500"
   ]
  },
  {
   "cell_type": "code",
   "execution_count": 77,
   "id": "090cc10b",
   "metadata": {},
   "outputs": [
    {
     "name": "stdout",
     "output_type": "stream",
     "text": [
      "32100\n",
      "32150\n",
      "32000\n",
      "32500\n"
     ]
    }
   ],
   "source": [
    "price_list = [32100, 32150, 32000, 32500]\n",
    "for i in range(4):\n",
    "    print(price_list[i])"
   ]
  },
  {
   "cell_type": "markdown",
   "id": "23983f02",
   "metadata": {},
   "source": [
    "## 172\n",
    "아래와 같이 리스트의 데이터를 출력하라. 단, for문과 range문을 사용하라.\n",
    "\n",
    "price_list = [32100, 32150, 32000, 32500]  \n",
    "0 32100  \n",
    "1 32150  \n",
    "2 32000  \n",
    "3 32500"
   ]
  },
  {
   "cell_type": "code",
   "execution_count": 78,
   "id": "fcabab61",
   "metadata": {},
   "outputs": [
    {
     "name": "stdout",
     "output_type": "stream",
     "text": [
      "0 32100\n",
      "1 32150\n",
      "2 32000\n",
      "3 32500\n"
     ]
    }
   ],
   "source": [
    "for i in range(len(price_list)):\n",
    "    print(i,price_list[i])"
   ]
  },
  {
   "cell_type": "code",
   "execution_count": 80,
   "id": "764818db",
   "metadata": {},
   "outputs": [
    {
     "name": "stdout",
     "output_type": "stream",
     "text": [
      "0 32100\n",
      "1 32150\n",
      "2 32000\n",
      "3 32500\n"
     ]
    }
   ],
   "source": [
    "price_list = [32100, 32150, 32000, 32500]\n",
    "for i, data in enumerate(price_list):\n",
    "    print(i, data)"
   ]
  },
  {
   "cell_type": "markdown",
   "id": "80385cdb",
   "metadata": {},
   "source": [
    "## 173\n",
    "아래와 같이 리스트의 데이터를 출력하라. 단, for문과 range문을 사용하라.\n",
    "\n",
    "price_list = [32100, 32150, 32000, 32500]  \n",
    "3 32100  \n",
    "2 32150  \n",
    "1 32000  \n",
    "0 32500"
   ]
  },
  {
   "cell_type": "code",
   "execution_count": 81,
   "id": "27aa81f9",
   "metadata": {},
   "outputs": [
    {
     "name": "stdout",
     "output_type": "stream",
     "text": [
      "3 32100\n",
      "2 32150\n",
      "1 32000\n",
      "0 32500\n"
     ]
    }
   ],
   "source": [
    "for i in range(len(price_list)):\n",
    "    print(3-i,price_list[i])"
   ]
  },
  {
   "cell_type": "markdown",
   "id": "63740964",
   "metadata": {},
   "source": [
    "## 174\n",
    "아래와 같이 리스트의 데이터를 출력하라. 단, for문과 range문을 사용하라.\n",
    "\n",
    "price_list = [32100, 32150, 32000, 32500]  \n",
    "100 32150  \n",
    "110 32000  \n",
    "120 32500"
   ]
  },
  {
   "cell_type": "code",
   "execution_count": 84,
   "id": "1a815bda",
   "metadata": {},
   "outputs": [
    {
     "name": "stdout",
     "output_type": "stream",
     "text": [
      "100 32150\n",
      "110 32000\n",
      "120 32500\n"
     ]
    }
   ],
   "source": [
    "price_list = [32100, 32150, 32000, 32500]\n",
    "for i in range(1,4):\n",
    "    print((100+(i-1)*10), price_list[i])"
   ]
  },
  {
   "cell_type": "markdown",
   "id": "d102ac59",
   "metadata": {},
   "source": [
    "## 175\n",
    "my_list를 아래와 같이 출력하라.\n",
    "\n",
    "my_list = [\"가\", \"나\", \"다\", \"라\"]  \n",
    "가 나  \n",
    "나 다  \n",
    "다 라"
   ]
  },
  {
   "cell_type": "code",
   "execution_count": 85,
   "id": "8528d9f3",
   "metadata": {},
   "outputs": [
    {
     "name": "stdout",
     "output_type": "stream",
     "text": [
      "가 나\n",
      "나 다\n",
      "다 라\n"
     ]
    }
   ],
   "source": [
    "my_list = [\"가\", \"나\", \"다\", \"라\"]\n",
    "\n",
    "for i in range(3):\n",
    "    print(my_list[i], my_list[i+1])"
   ]
  },
  {
   "cell_type": "markdown",
   "id": "4205608c",
   "metadata": {},
   "source": [
    "## 176\n",
    "리스트를 아래와 같이 출력하라.\n",
    "\n",
    "my_list = [\"가\", \"나\", \"다\", \"라\", \"마\"]  \n",
    "가 나 다  \n",
    "나 다 라  \n",
    "다 라 마"
   ]
  },
  {
   "cell_type": "code",
   "execution_count": 86,
   "id": "ba017af1",
   "metadata": {},
   "outputs": [
    {
     "name": "stdout",
     "output_type": "stream",
     "text": [
      "가 나 다\n",
      "나 다 라\n",
      "다 라 마\n"
     ]
    }
   ],
   "source": [
    "my_list = [\"가\", \"나\", \"다\", \"라\", \"마\"]\n",
    "\n",
    "for i in range(len(my_list)-2):\n",
    "    print(my_list[i], my_list[i+1], my_list[i+2])"
   ]
  },
  {
   "cell_type": "markdown",
   "id": "75776fcd",
   "metadata": {},
   "source": [
    "## 177\n",
    "반복문과 range 함수를 사용해서 my_list를 아래와 같이 출력하라.\n",
    "\n",
    "my_list = [\"가\", \"나\", \"다\", \"라\"]  \n",
    "라 다  \n",
    "다 나  \n",
    "나 가"
   ]
  },
  {
   "cell_type": "code",
   "execution_count": 107,
   "id": "0a28e807",
   "metadata": {},
   "outputs": [
    {
     "name": "stdout",
     "output_type": "stream",
     "text": [
      "라 다\n",
      "다 나\n",
      "나 가\n"
     ]
    }
   ],
   "source": [
    "for i in range(len(my_list)-1,0,-1):\n",
    "    print(my_list[i], my_list[i-1])"
   ]
  },
  {
   "cell_type": "markdown",
   "id": "ae41334c",
   "metadata": {},
   "source": [
    "## 178\n",
    "리스트에는 네 개의 정수가 저장되어 있다. 각각의 데이터에 대해서 자신과 우측값과의 차분값을 화면에 출력하라.\n",
    "\n",
    "my_list = [100, 200, 400, 800]  \n",
    "예를들어 100을 기준으로 우측에 위치한 200과의 차분 값를 화면에 출력하고, 200을 기준으로 우측에 위치한 400과의 차분값을 화면에 출력한다. 이어서 400을 기준으로 우측에 위치한 800과의 차분값을 화면에 출력한다.\n",
    "\n",
    "100  \n",
    "200  \n",
    "400"
   ]
  },
  {
   "cell_type": "code",
   "execution_count": 111,
   "id": "d5a93ab8",
   "metadata": {},
   "outputs": [
    {
     "name": "stdout",
     "output_type": "stream",
     "text": [
      "100\n",
      "200\n",
      "400\n"
     ]
    }
   ],
   "source": [
    "my_list = [100, 200, 400, 800]\n",
    "for i in range(len(my_list)-1):\n",
    "    data=my_list[i+1]-my_list[i]\n",
    "    print(data)"
   ]
  },
  {
   "cell_type": "markdown",
   "id": "95df6183",
   "metadata": {},
   "source": [
    "## 179\n",
    "리스트에는 6일 간의 종가 데이터가 저장되어 있다. 종가 데이터의 3일 이동 평균을 계산하고 이를 화면에 출력하라.\n",
    "\n",
    "my_list = [100, 200, 400, 800, 1000, 1300]  \n",
    "첫 번째 줄에는 100, 200, 400의 평균값이 출력된다. 두 번째 줄에는 200, 400, 800의 평균값이 출력된다. 같은 방식으로 나머지 데이터의 평균을 출력한다.\n",
    "\n",
    "233.33333333333334  \n",
    "466.6666666666667  \n",
    "733.3333333333334  \n",
    "1033.3333333333333"
   ]
  },
  {
   "cell_type": "code",
   "execution_count": 112,
   "id": "affbb1b1",
   "metadata": {},
   "outputs": [
    {
     "name": "stdout",
     "output_type": "stream",
     "text": [
      "233.33333333333334\n",
      "466.6666666666667\n",
      "733.3333333333334\n",
      "1033.3333333333333\n"
     ]
    }
   ],
   "source": [
    "my_list = [100, 200, 400, 800, 1000, 1300]\n",
    "\n",
    "for i in range(len(my_list)-2):\n",
    "    data=(my_list[i]+my_list[i+1]+my_list[i+2])/3\n",
    "    print(data)"
   ]
  },
  {
   "cell_type": "markdown",
   "id": "2a2a0468",
   "metadata": {},
   "source": [
    "## 180\n",
    "리스트에 5일간의 저가, 고가 정보가 저장돼 있다. 고가와 저가의 차를 변동폭이라고 정의할 때, low, high 두 개의 리스트를 사용해서 5일간의 변동폭을 volatility 리스트에 저장하라.\n",
    "\n",
    "low_prices  = [100, 200, 400, 800, 1000]  \n",
    "high_prices = [150, 300, 430, 880, 1000]"
   ]
  },
  {
   "cell_type": "code",
   "execution_count": 115,
   "id": "70d7efdf",
   "metadata": {},
   "outputs": [
    {
     "name": "stdout",
     "output_type": "stream",
     "text": [
      "[50, 100, 30, 80, 0]\n"
     ]
    }
   ],
   "source": [
    "low_prices  = [100, 200, 400, 800, 1000]  \n",
    "high_prices = [150, 300, 430, 880, 1000]\n",
    "\n",
    "volatility=[]\n",
    "for i in range(5):\n",
    "    volatility.append(high_prices[i]-low_prices[i])\n",
    "\n",
    "print(volatility)"
   ]
  },
  {
   "cell_type": "markdown",
   "id": "5af759d3",
   "metadata": {},
   "source": [
    "## 181\n",
    "아래 표에서 하나의 행을 하나의 리스트로, 총 3개의 리스트를 갖는 이차원 리스트 apart를 정의하라.\n",
    "\n",
    "101호\t102호   \n",
    "201호\t202호  \n",
    "301호\t302호"
   ]
  },
  {
   "cell_type": "code",
   "execution_count": 2,
   "id": "44ebe8be",
   "metadata": {},
   "outputs": [],
   "source": [
    "apart=[['101호', '102호'], ['201호', '202호'], ['301호', '301호']]"
   ]
  },
  {
   "cell_type": "markdown",
   "id": "9a0c8d65",
   "metadata": {},
   "source": [
    "## 182\n",
    "아래 표에서 하나의 열을 하나의 리스트로, 총 2개의 리스트를 갖는 이차원 리스트 stock을 정의하라.\n",
    "\n",
    "시가\t종가  \n",
    "100\t80  \n",
    "200\t210  \n",
    "300\t330  "
   ]
  },
  {
   "cell_type": "code",
   "execution_count": 5,
   "id": "cde75be0",
   "metadata": {},
   "outputs": [],
   "source": [
    "stock = ['시가', 100, 200, 300], ['종가', 80, 210, 330]"
   ]
  },
  {
   "cell_type": "markdown",
   "id": "237f57da",
   "metadata": {},
   "source": [
    "## 183\n",
    "아래 표를 stock 이름의 딕셔너리로 표현하라.시가를 key로 저장하고, 나머지 같은 열의 데이터를 리스트로 저장해서 value로 저장한다. 종가 역시 key로 저장하고 나머지 같은 열의 데이터를 리스트로 저장해서 value로 저장한다.\n",
    "\n",
    "시가\t종가  \n",
    "100\t80  \n",
    "200\t210  \n",
    "300\t330"
   ]
  },
  {
   "cell_type": "code",
   "execution_count": 7,
   "id": "1b7608bf",
   "metadata": {},
   "outputs": [],
   "source": [
    "stock={'시가':[100, 200, 300], '종가':[80, 210, 330]}"
   ]
  },
  {
   "cell_type": "markdown",
   "id": "94b800e1",
   "metadata": {},
   "source": [
    "## 184\n",
    "아래 표를 stock 이라는 이름의 딕셔너리로 표현하라. 날짜를 key로 저장하고, 나머지 같은 행의 데이터를 리스트로 저장해서 value로 저장한다. 첫 열이 날짜이다.\n",
    "\n",
    "10/10\t80\t110\t70\t90  \n",
    "10/11\t210\t230\t190\t200"
   ]
  },
  {
   "cell_type": "code",
   "execution_count": 8,
   "id": "de6da8c3",
   "metadata": {},
   "outputs": [],
   "source": [
    "stock={'10/10':[80, 110, 70, 90], '10/11':[210, 230, 190, 200]}"
   ]
  },
  {
   "cell_type": "markdown",
   "id": "8ab56721",
   "metadata": {},
   "source": [
    "## 185\n",
    "리스트에 저장된 데이터를 아래와 같이 출력하라.\n",
    "\n",
    "apart = [ [101, 102], [201, 202], [301, 302] ]  \n",
    "101 호  \n",
    "102 호  \n",
    "201 호  \n",
    "202 호  \n",
    "301 호  \n",
    "302 호"
   ]
  },
  {
   "cell_type": "code",
   "execution_count": 14,
   "id": "d973108c",
   "metadata": {},
   "outputs": [
    {
     "name": "stdout",
     "output_type": "stream",
     "text": [
      "101 호\n",
      "102 호\n",
      "201 호\n",
      "202 호\n",
      "301 호\n",
      "302 호\n"
     ]
    }
   ],
   "source": [
    "for row in apart:\n",
    "    for col in row:\n",
    "        print(col, '호')"
   ]
  },
  {
   "cell_type": "markdown",
   "id": "439b08b7",
   "metadata": {},
   "source": [
    "## 186\n",
    "리스트에 저장된 데이터를 아래와 같이 출력하라.\n",
    "\n",
    "apart = [ [101, 102], [201, 202], [301, 302] ]  \n",
    "301 호  \n",
    "302 호  \n",
    "201 호  \n",
    "202 호  \n",
    "101 호  \n",
    "102 호"
   ]
  },
  {
   "cell_type": "code",
   "execution_count": 17,
   "id": "da269d3a",
   "metadata": {},
   "outputs": [
    {
     "name": "stdout",
     "output_type": "stream",
     "text": [
      "301 호\n",
      "302 호\n",
      "201 호\n",
      "202 호\n",
      "101 호\n",
      "102 호\n"
     ]
    }
   ],
   "source": [
    "for row in apart[::-1]:\n",
    "    for col in row:\n",
    "        print(col, '호')"
   ]
  },
  {
   "cell_type": "markdown",
   "id": "aaac8269",
   "metadata": {},
   "source": [
    "## 187\n",
    "리스트에 저장된 데이터를 아래와 같이 출력하라.\n",
    "\n",
    "apart = [ [101, 102], [201, 202], [301, 302] ]  \n",
    "302 호  \n",
    "301 호  \n",
    "202 호  \n",
    "201 호  \n",
    "102 호  \n",
    "101 호"
   ]
  },
  {
   "cell_type": "code",
   "execution_count": 18,
   "id": "8c85a65e",
   "metadata": {},
   "outputs": [
    {
     "name": "stdout",
     "output_type": "stream",
     "text": [
      "302 호\n",
      "301 호\n",
      "202 호\n",
      "201 호\n",
      "102 호\n",
      "101 호\n"
     ]
    }
   ],
   "source": [
    "for row in apart[::-1]:\n",
    "    for col in row[::-1]:\n",
    "        print(col, '호')"
   ]
  },
  {
   "cell_type": "markdown",
   "id": "ab267fb8",
   "metadata": {},
   "source": [
    "## 188\n",
    "리스트에 저장된 데이터를 아래와 같이 출력하라.\n",
    "\n",
    "apart = [ [101, 102], [201, 202], [301, 302] ]  \n",
    "\n",
    "101 호  \n",
    "-----  \n",
    "102 호  \n",
    "-----  \n",
    "201 호  \n",
    "-----  \n",
    "202 호  \n",
    "-----  \n",
    "301 호  \n",
    "-----  \n",
    "302 호  \n",
    "-----"
   ]
  },
  {
   "cell_type": "code",
   "execution_count": 19,
   "id": "0eea88b5",
   "metadata": {},
   "outputs": [
    {
     "name": "stdout",
     "output_type": "stream",
     "text": [
      "101 호\n",
      "-----\n",
      "102 호\n",
      "-----\n",
      "201 호\n",
      "-----\n",
      "202 호\n",
      "-----\n",
      "301 호\n",
      "-----\n",
      "302 호\n",
      "-----\n"
     ]
    }
   ],
   "source": [
    "for row in apart:\n",
    "    for col in row:\n",
    "        print(col, '호')\n",
    "        print('-----')"
   ]
  },
  {
   "cell_type": "markdown",
   "id": "7882b021",
   "metadata": {},
   "source": [
    "## 189\n",
    "리스트에 저장된 데이터를 아래와 같이 출력하라.\n",
    "\n",
    "apart = [ [101, 102], [201, 202], [301, 302] ]  \n",
    "101 호  \n",
    "102 호  \n",
    "-----  \n",
    "201 호  \n",
    "202 호  \n",
    "-----  \n",
    "301 호  \n",
    "302 호  \n",
    "-----"
   ]
  },
  {
   "cell_type": "code",
   "execution_count": 20,
   "id": "703bce0c",
   "metadata": {},
   "outputs": [
    {
     "name": "stdout",
     "output_type": "stream",
     "text": [
      "101 호\n",
      "102 호\n",
      "-----\n",
      "201 호\n",
      "202 호\n",
      "-----\n",
      "301 호\n",
      "302 호\n",
      "-----\n"
     ]
    }
   ],
   "source": [
    "for row in apart:\n",
    "    for col in row:\n",
    "        print(col, '호')\n",
    "    print('-'*5)"
   ]
  },
  {
   "cell_type": "markdown",
   "id": "535aaaeb",
   "metadata": {},
   "source": [
    "## 190\n",
    "리스트에 저장된 데이터를 아래와 같이 출력하라.\n",
    "\n",
    "apart = [ [101, 102], [201, 202], [301, 302] ]  \n",
    "101 호  \n",
    "102 호  \n",
    "201 호  \n",
    "202 호  \n",
    "301 호  \n",
    "302 호  \n",
    "-----"
   ]
  },
  {
   "cell_type": "code",
   "execution_count": 21,
   "id": "6f5652cd",
   "metadata": {},
   "outputs": [
    {
     "name": "stdout",
     "output_type": "stream",
     "text": [
      "101 호\n",
      "102 호\n",
      "201 호\n",
      "202 호\n",
      "301 호\n",
      "302 호\n",
      "-----\n"
     ]
    }
   ],
   "source": [
    "for row in apart:\n",
    "    for col in row:\n",
    "        print(col, '호')\n",
    "print('-'*5)"
   ]
  },
  {
   "cell_type": "markdown",
   "id": "2b1c7282",
   "metadata": {},
   "source": [
    "## 191\n",
    "data에는 매수한 종목들의 OHLC (open/high/low/close) 가격 정보가 바인딩 되어있다.\n",
    "\n",
    "data = [  \n",
    "    [ 2000,  3050,  2050,  1980],  \n",
    "    [ 7500,  2050,  2050,  1980],  \n",
    "    [15450, 15050, 15550, 14900]  \n",
    "]\n",
    "\n",
    "수수료를 0.014 %로 가정할 때, 각 가격에 수수료를 포함한 가격을 한라인에 하나씩 출력하라.\n",
    "\n",
    "2000.28  \n",
    "3050.427  \n",
    "2050.2870000000003  \n",
    "..."
   ]
  },
  {
   "cell_type": "code",
   "execution_count": 22,
   "id": "c104c44f",
   "metadata": {},
   "outputs": [],
   "source": [
    "data = [\n",
    "    [ 2000,  3050,  2050,  1980],\n",
    "    [ 7500,  2050,  2050,  1980],\n",
    "    [15450, 15050, 15550, 14900]\n",
    "]"
   ]
  },
  {
   "cell_type": "code",
   "execution_count": 23,
   "id": "fbcab3a3",
   "metadata": {},
   "outputs": [
    {
     "name": "stdout",
     "output_type": "stream",
     "text": [
      "2000.28\n",
      "3050.427\n",
      "2050.2870000000003\n",
      "1980.2772\n",
      "7501.05\n",
      "2050.2870000000003\n",
      "2050.2870000000003\n",
      "1980.2772\n",
      "15452.163\n",
      "15052.107\n",
      "15552.177\n",
      "14902.086000000001\n"
     ]
    }
   ],
   "source": [
    "for row in data:\n",
    "    for col in row:\n",
    "        print(col*1.00014)"
   ]
  },
  {
   "cell_type": "markdown",
   "id": "27d98de0",
   "metadata": {},
   "source": [
    "## 192\n",
    "191번의 출력 결과에 행단위로 \"----\" 구분자를 추가하라.\n",
    "\n",
    "2000.28  \n",
    "3050.427  \n",
    "2050.2870000000003  \n",
    "1980.2772  \n",
    "----  \n",
    "7501.05  \n",
    "2050.2870000000003  \n",
    "2050.2870000000003  \n",
    "1980.2772  \n",
    "----  \n",
    "15452.163  \n",
    "15052.107  \n",
    "15552.177  \n",
    "14902.086000000001  \n",
    "----"
   ]
  },
  {
   "cell_type": "code",
   "execution_count": 24,
   "id": "97f5aac1",
   "metadata": {},
   "outputs": [
    {
     "name": "stdout",
     "output_type": "stream",
     "text": [
      "2000.28\n",
      "3050.427\n",
      "2050.2870000000003\n",
      "1980.2772\n",
      "----\n",
      "7501.05\n",
      "2050.2870000000003\n",
      "2050.2870000000003\n",
      "1980.2772\n",
      "----\n",
      "15452.163\n",
      "15052.107\n",
      "15552.177\n",
      "14902.086000000001\n",
      "----\n"
     ]
    }
   ],
   "source": [
    "for row in data:\n",
    "    for col in row:\n",
    "        print(col*1.00014)\n",
    "    print('-'*4)"
   ]
  },
  {
   "cell_type": "markdown",
   "id": "2ce9c445",
   "metadata": {},
   "source": [
    "## 193\n",
    "192 번 문제의 결괏값을 result 이름의 리스트에 1차원 배열로 저장하라.\n",
    "\n",
    "print(result)  \n",
    "[2000.28, 3050.427, 2050.2870000000003, 1980.2772, 7501.05, 2050.2870000000003, 2050.2870000000003, ...]"
   ]
  },
  {
   "cell_type": "code",
   "execution_count": 25,
   "id": "93629485",
   "metadata": {},
   "outputs": [
    {
     "name": "stdout",
     "output_type": "stream",
     "text": [
      "[2000.28, 3050.427, 2050.2870000000003, 1980.2772, 7501.05, 2050.2870000000003, 2050.2870000000003, 1980.2772, 15452.163, 15052.107, 15552.177, 14902.086000000001]\n"
     ]
    }
   ],
   "source": [
    "result=[]\n",
    "for row in data:\n",
    "    for col in row:\n",
    "        result.append(col*1.00014)\n",
    "        \n",
    "print(result)"
   ]
  },
  {
   "cell_type": "markdown",
   "id": "6c2957bc",
   "metadata": {},
   "source": [
    "## 194\n",
    "191번 문제의 결괏값을 result 이름의 리스트에 2차원 배열로 저장하라. 저장 포맷은 아래와 같다. 각 행에 대한 데이터끼리 리스트에 저장되어야 한다.\n",
    "\n",
    "print(result)  \n",
    "[  \n",
    " [2000.28, 3050.427, 2050.2870000000003, 1980.2772],  \n",
    " [7501.05, 2050.2870000000003, 2050.2870000000003, 1980.2772],  \n",
    " [15452.163, 15052.107, 15552.177, 14902.086000000001]  \n",
    "]"
   ]
  },
  {
   "cell_type": "code",
   "execution_count": 43,
   "id": "3ed074b4",
   "metadata": {},
   "outputs": [
    {
     "name": "stdout",
     "output_type": "stream",
     "text": [
      "[[2000.28, 3050.427, 2050.2870000000003, 1980.2772], [7501.05, 2050.2870000000003, 2050.2870000000003, 1980.2772], [15452.163, 15052.107, 15552.177, 14902.086000000001]]\n"
     ]
    }
   ],
   "source": [
    "result=[]\n",
    "\n",
    "for row in data:\n",
    "    sub=[]\n",
    "    for col in row:\n",
    "        sub.append(col*1.00014)\n",
    "    result.append(sub)\n",
    "print(result)"
   ]
  },
  {
   "cell_type": "markdown",
   "id": "e469e0d4",
   "metadata": {},
   "source": [
    "## 195\n",
    "ohlc 리스트에는 시가(open), 고가 (high), 저가 (low) , 종가(close)가 날짜별로 저장돼 있다. 화면에 종가데이터를 출력하라.\n",
    "\n",
    "ohlc = [[\"open\", \"high\", \"low\", \"close\"],  \n",
    "        [100, 110, 70, 100],  \n",
    "        [200, 210, 180, 190],  \n",
    "        [300, 310, 300, 310]]  \n",
    "100  \n",
    "190  \n",
    "310"
   ]
  },
  {
   "cell_type": "code",
   "execution_count": 45,
   "id": "1ddc48b1",
   "metadata": {},
   "outputs": [],
   "source": [
    "ohlc = [[\"open\", \"high\", \"low\", \"close\"],\n",
    "[100, 110, 70, 100],\n",
    "[200, 210, 180, 190],\n",
    "[300, 310, 300, 310]]"
   ]
  },
  {
   "cell_type": "code",
   "execution_count": 46,
   "id": "4c21c239",
   "metadata": {},
   "outputs": [
    {
     "name": "stdout",
     "output_type": "stream",
     "text": [
      "100\n",
      "190\n",
      "310\n"
     ]
    }
   ],
   "source": [
    "for row in ohlc[1:]:\n",
    "    print(row[3])"
   ]
  },
  {
   "cell_type": "markdown",
   "id": "e713542f",
   "metadata": {},
   "source": [
    "## 196\n",
    "ohlc 리스트에는 시가(open), 고가 (high), 저가 (low) , 종가(close)가 날짜별로 저장돼 있다. 종가가 150원보다 큰경우에만 종가를 출력하라.\n",
    "\n",
    "ohlc = [[\"open\", \"high\", \"low\", \"close\"],  \n",
    "        [100, 110, 70, 100],  \n",
    "        [200, 210, 180, 190],  \n",
    "        [300, 310, 300, 310]]  \n",
    "190  \n",
    "310"
   ]
  },
  {
   "cell_type": "code",
   "execution_count": 48,
   "id": "cfeb7f85",
   "metadata": {},
   "outputs": [
    {
     "name": "stdout",
     "output_type": "stream",
     "text": [
      "190\n",
      "310\n"
     ]
    }
   ],
   "source": [
    "for row in ohlc[1:]:\n",
    "    if row[3] > 150:\n",
    "        print(row[3])"
   ]
  },
  {
   "cell_type": "markdown",
   "id": "c0b70d85",
   "metadata": {},
   "source": [
    "## 197\n",
    "ohlc 리스트에는 시가(open), 고가 (high), 저가 (low) , 종가(close)가 날짜별로 저장돼 있다. 종가가 시가 보다 크거나 같은 경우에만 종가를 출력하라.\n",
    "\n",
    "ohlc = [[\"open\", \"high\", \"low\", \"close\"],  \n",
    "        [100, 110, 70, 100],  \n",
    "        [200, 210, 180, 190],  \n",
    "        [300, 310, 300, 310]]  \n",
    "100  \n",
    "310"
   ]
  },
  {
   "cell_type": "code",
   "execution_count": 49,
   "id": "5739e883",
   "metadata": {},
   "outputs": [
    {
     "name": "stdout",
     "output_type": "stream",
     "text": [
      "100\n",
      "310\n"
     ]
    }
   ],
   "source": [
    "for row in ohlc[1:]:\n",
    "    if row[0] <= row[3]:\n",
    "        print(row[3])"
   ]
  },
  {
   "cell_type": "markdown",
   "id": "c49abf63",
   "metadata": {},
   "source": [
    "## 198\n",
    "ohlc 리스트에는 시가(open), 고가 (high), 저가 (low) , 종가(close)가 날짜별로 저장돼 있다. 고가와 저가의 차이를 변동폭으로 정의할 때 변동폭을 volatility 이름의 리스트에 저장하라.\n",
    "\n",
    "ohlc = [[\"open\", \"high\", \"low\", \"close\"],  \n",
    "        [100, 110, 70, 100],  \n",
    "        [200, 210, 180, 190],  \n",
    "        [300, 310, 300, 310]]  \n",
    "\n",
    "print(volatility)  \n",
    "[40, 30, 10]"
   ]
  },
  {
   "cell_type": "code",
   "execution_count": 52,
   "id": "a8a321a8",
   "metadata": {},
   "outputs": [
    {
     "name": "stdout",
     "output_type": "stream",
     "text": [
      "[40, 30, 10]\n"
     ]
    }
   ],
   "source": [
    "volatility=[]\n",
    "\n",
    "for row in ohlc[1:]:\n",
    "    volatility.append(row[1]-row[2])\n",
    "\n",
    "print(volatility)"
   ]
  },
  {
   "cell_type": "markdown",
   "id": "9adb33b3",
   "metadata": {},
   "source": [
    "## 199\n",
    "리스트에는 3일 간의 ohlc 데이터가 저장돼 있다. 종가가 시가보다 높은 날의 변동성 (고가 - 저가)을 화면에 출력하라.\n",
    "\n",
    "ohlc = [[\"open\", \"high\", \"low\", \"close\"],  \n",
    "        [100, 110, 70, 100],  \n",
    "        [200, 210, 180, 190],  \n",
    "        [300, 310, 300, 310]]  \n",
    "종가가 시가보다 높은 거래일의 OHLC는 [300, 310, 300, 310] 이다. 따라서 이 거래일의 변동성은 10 (310 - 300)이다.\n",
    "\n",
    "10"
   ]
  },
  {
   "cell_type": "code",
   "execution_count": 55,
   "id": "98f37ea7",
   "metadata": {},
   "outputs": [
    {
     "name": "stdout",
     "output_type": "stream",
     "text": [
      "10\n"
     ]
    }
   ],
   "source": [
    "for row in ohlc[1:]:\n",
    "    if row[3]>row[0]:\n",
    "        volatility=row[1]-row[2]\n",
    "print(volatility)"
   ]
  },
  {
   "cell_type": "markdown",
   "id": "58d6fc78",
   "metadata": {},
   "source": [
    "## 200\n",
    "리스트에는 3일 간의 ohlc 데이터가 저장돼 있다. 시가에 매수해서 종가에 매도 했을 경우 총 수익금을 계산하라.\n",
    "\n",
    "ohlc = [[\"open\", \"high\", \"low\", \"close\"],  \n",
    "        [100, 110, 70, 100],  \n",
    "        [200, 210, 180, 190],  \n",
    "        [300, 310, 300, 310]]  \n",
    "        \n",
    "1일차 수익 0원 (100 - 100), 2일차 수익 -10원 (190 - 200), 3일차 수익 10원 (310 - 300) 이다.\n",
    "\n",
    "0"
   ]
  },
  {
   "cell_type": "code",
   "execution_count": 56,
   "id": "a0c8a222",
   "metadata": {},
   "outputs": [
    {
     "name": "stdout",
     "output_type": "stream",
     "text": [
      "0\n"
     ]
    }
   ],
   "source": [
    "revenue=[]\n",
    "for row in ohlc[1:]:\n",
    "    revenue.append(row[0]-row[3])\n",
    "print(sum(revenue))"
   ]
  },
  {
   "cell_type": "code",
   "execution_count": 57,
   "id": "e42cccdc",
   "metadata": {},
   "outputs": [
    {
     "name": "stdout",
     "output_type": "stream",
     "text": [
      "0\n"
     ]
    }
   ],
   "source": [
    "profit = 0\n",
    "for row in ohlc[1:]:\n",
    "    profit += (row[3] - row[0])\n",
    "print(profit)"
   ]
  },
  {
   "cell_type": "code",
   "execution_count": null,
   "id": "31210bae",
   "metadata": {},
   "outputs": [],
   "source": []
  }
 ],
 "metadata": {
  "kernelspec": {
   "display_name": "Python 3 (ipykernel)",
   "language": "python",
   "name": "python3"
  },
  "language_info": {
   "codemirror_mode": {
    "name": "ipython",
    "version": 3
   },
   "file_extension": ".py",
   "mimetype": "text/x-python",
   "name": "python",
   "nbconvert_exporter": "python",
   "pygments_lexer": "ipython3",
   "version": "3.11.5"
  }
 },
 "nbformat": 4,
 "nbformat_minor": 5
}
