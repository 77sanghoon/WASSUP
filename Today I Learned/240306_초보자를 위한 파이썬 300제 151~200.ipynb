{
 "cells": [
  {
   "cell_type": "markdown",
   "id": "a78b4669",
   "metadata": {},
   "source": [
    "## 151\n",
    "리스트에는 네 개의 정수가 저장돼 있다.\n",
    "\n",
    "리스트 = [3, -20, -3, 44]   \n",
    "for문을 사용해서 리스트의 음수를 출력하라.\n",
    "\n",
    "-20  \n",
    "-3"
   ]
  },
  {
   "cell_type": "code",
   "execution_count": 1,
   "id": "0e17a285",
   "metadata": {},
   "outputs": [],
   "source": [
    "리스트 = [3, -20, -3, 44]"
   ]
  },
  {
   "cell_type": "code",
   "execution_count": 5,
   "id": "b52f9642",
   "metadata": {},
   "outputs": [
    {
     "name": "stdout",
     "output_type": "stream",
     "text": [
      "-20\n",
      "-3\n"
     ]
    }
   ],
   "source": [
    "for i in 리스트:\n",
    "    if i < 0:\n",
    "        print(i)        "
   ]
  },
  {
   "cell_type": "code",
   "execution_count": null,
   "id": "88ee4f09",
   "metadata": {},
   "outputs": [],
   "source": []
  }
 ],
 "metadata": {
  "kernelspec": {
   "display_name": "Python 3 (ipykernel)",
   "language": "python",
   "name": "python3"
  },
  "language_info": {
   "codemirror_mode": {
    "name": "ipython",
    "version": 3
   },
   "file_extension": ".py",
   "mimetype": "text/x-python",
   "name": "python",
   "nbconvert_exporter": "python",
   "pygments_lexer": "ipython3",
   "version": "3.11.5"
  }
 },
 "nbformat": 4,
 "nbformat_minor": 5
}
