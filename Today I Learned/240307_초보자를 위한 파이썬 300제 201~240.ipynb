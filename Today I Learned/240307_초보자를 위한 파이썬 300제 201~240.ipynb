{
 "cells": [
  {
   "cell_type": "markdown",
   "id": "964b1423",
   "metadata": {},
   "source": [
    "## 201\n",
    "\"비트코인\" 문자열을 화면에 출력하는 print_coin() 함수를 정의하라."
   ]
  },
  {
   "cell_type": "code",
   "execution_count": 1,
   "id": "a939afcf",
   "metadata": {},
   "outputs": [],
   "source": [
    "def print_coin():\n",
    "    print('비트코인')"
   ]
  },
  {
   "cell_type": "code",
   "execution_count": 2,
   "id": "37d58b54",
   "metadata": {},
   "outputs": [
    {
     "name": "stdout",
     "output_type": "stream",
     "text": [
      "비트코인\n"
     ]
    }
   ],
   "source": [
    "print_coin()"
   ]
  },
  {
   "cell_type": "markdown",
   "id": "4f5c4257",
   "metadata": {},
   "source": [
    "## 202\n",
    "201번에서 정의한 함수를 호출하라."
   ]
  },
  {
   "cell_type": "code",
   "execution_count": 3,
   "id": "dd870447",
   "metadata": {},
   "outputs": [
    {
     "name": "stdout",
     "output_type": "stream",
     "text": [
      "비트코인\n"
     ]
    }
   ],
   "source": [
    "print_coin()"
   ]
  },
  {
   "cell_type": "markdown",
   "id": "cc8efaed",
   "metadata": {},
   "source": [
    "## 203\n",
    "201번에서 정의한 print_coin 함수를 100번호출하라."
   ]
  },
  {
   "cell_type": "code",
   "execution_count": 7,
   "id": "1ee3d054",
   "metadata": {},
   "outputs": [
    {
     "name": "stdout",
     "output_type": "stream",
     "text": [
      "비트코인\n",
      "비트코인\n",
      "비트코인\n",
      "비트코인\n",
      "비트코인\n",
      "비트코인\n",
      "비트코인\n",
      "비트코인\n",
      "비트코인\n",
      "비트코인\n",
      "비트코인\n",
      "비트코인\n",
      "비트코인\n",
      "비트코인\n",
      "비트코인\n",
      "비트코인\n",
      "비트코인\n",
      "비트코인\n",
      "비트코인\n",
      "비트코인\n",
      "비트코인\n",
      "비트코인\n",
      "비트코인\n",
      "비트코인\n",
      "비트코인\n",
      "비트코인\n",
      "비트코인\n",
      "비트코인\n",
      "비트코인\n",
      "비트코인\n",
      "비트코인\n",
      "비트코인\n",
      "비트코인\n",
      "비트코인\n",
      "비트코인\n",
      "비트코인\n",
      "비트코인\n",
      "비트코인\n",
      "비트코인\n",
      "비트코인\n",
      "비트코인\n",
      "비트코인\n",
      "비트코인\n",
      "비트코인\n",
      "비트코인\n",
      "비트코인\n",
      "비트코인\n",
      "비트코인\n",
      "비트코인\n",
      "비트코인\n",
      "비트코인\n",
      "비트코인\n",
      "비트코인\n",
      "비트코인\n",
      "비트코인\n",
      "비트코인\n",
      "비트코인\n",
      "비트코인\n",
      "비트코인\n",
      "비트코인\n",
      "비트코인\n",
      "비트코인\n",
      "비트코인\n",
      "비트코인\n",
      "비트코인\n",
      "비트코인\n",
      "비트코인\n",
      "비트코인\n",
      "비트코인\n",
      "비트코인\n",
      "비트코인\n",
      "비트코인\n",
      "비트코인\n",
      "비트코인\n",
      "비트코인\n",
      "비트코인\n",
      "비트코인\n",
      "비트코인\n",
      "비트코인\n",
      "비트코인\n",
      "비트코인\n",
      "비트코인\n",
      "비트코인\n",
      "비트코인\n",
      "비트코인\n",
      "비트코인\n",
      "비트코인\n",
      "비트코인\n",
      "비트코인\n",
      "비트코인\n",
      "비트코인\n",
      "비트코인\n",
      "비트코인\n",
      "비트코인\n",
      "비트코인\n",
      "비트코인\n",
      "비트코인\n",
      "비트코인\n",
      "비트코인\n",
      "비트코인\n"
     ]
    }
   ],
   "source": [
    "for i in range(100):\n",
    "    print_coin()"
   ]
  },
  {
   "cell_type": "markdown",
   "id": "50e73381",
   "metadata": {},
   "source": [
    "## 204\n",
    "\"비트코인\" 문자열을 100번 화면에 출력하는 print_coins() 함수를 정의하라."
   ]
  },
  {
   "cell_type": "code",
   "execution_count": 19,
   "id": "1891c9b0",
   "metadata": {},
   "outputs": [],
   "source": [
    "def print_coins():\n",
    "    for i in range(100):\n",
    "        print('비트코인')"
   ]
  },
  {
   "cell_type": "code",
   "execution_count": 20,
   "id": "a4d507c2",
   "metadata": {},
   "outputs": [
    {
     "name": "stdout",
     "output_type": "stream",
     "text": [
      "비트코인\n",
      "비트코인\n",
      "비트코인\n",
      "비트코인\n",
      "비트코인\n",
      "비트코인\n",
      "비트코인\n",
      "비트코인\n",
      "비트코인\n",
      "비트코인\n",
      "비트코인\n",
      "비트코인\n",
      "비트코인\n",
      "비트코인\n",
      "비트코인\n",
      "비트코인\n",
      "비트코인\n",
      "비트코인\n",
      "비트코인\n",
      "비트코인\n",
      "비트코인\n",
      "비트코인\n",
      "비트코인\n",
      "비트코인\n",
      "비트코인\n",
      "비트코인\n",
      "비트코인\n",
      "비트코인\n",
      "비트코인\n",
      "비트코인\n",
      "비트코인\n",
      "비트코인\n",
      "비트코인\n",
      "비트코인\n",
      "비트코인\n",
      "비트코인\n",
      "비트코인\n",
      "비트코인\n",
      "비트코인\n",
      "비트코인\n",
      "비트코인\n",
      "비트코인\n",
      "비트코인\n",
      "비트코인\n",
      "비트코인\n",
      "비트코인\n",
      "비트코인\n",
      "비트코인\n",
      "비트코인\n",
      "비트코인\n",
      "비트코인\n",
      "비트코인\n",
      "비트코인\n",
      "비트코인\n",
      "비트코인\n",
      "비트코인\n",
      "비트코인\n",
      "비트코인\n",
      "비트코인\n",
      "비트코인\n",
      "비트코인\n",
      "비트코인\n",
      "비트코인\n",
      "비트코인\n",
      "비트코인\n",
      "비트코인\n",
      "비트코인\n",
      "비트코인\n",
      "비트코인\n",
      "비트코인\n",
      "비트코인\n",
      "비트코인\n",
      "비트코인\n",
      "비트코인\n",
      "비트코인\n",
      "비트코인\n",
      "비트코인\n",
      "비트코인\n",
      "비트코인\n",
      "비트코인\n",
      "비트코인\n",
      "비트코인\n",
      "비트코인\n",
      "비트코인\n",
      "비트코인\n",
      "비트코인\n",
      "비트코인\n",
      "비트코인\n",
      "비트코인\n",
      "비트코인\n",
      "비트코인\n",
      "비트코인\n",
      "비트코인\n",
      "비트코인\n",
      "비트코인\n",
      "비트코인\n",
      "비트코인\n",
      "비트코인\n",
      "비트코인\n",
      "비트코인\n"
     ]
    }
   ],
   "source": [
    "print_coins()"
   ]
  },
  {
   "cell_type": "markdown",
   "id": "42be941e",
   "metadata": {},
   "source": [
    "## 205\n",
    "아래의 에러가 발생하는 이유에 대해 설명하라.\n",
    "\n",
    "hello()  \n",
    "def hello():  \n",
    "    print(\"Hi\")  \n",
    "    \n",
    "실행 예\n",
    "\n",
    "NameError: name 'hello' is not defined"
   ]
  },
  {
   "cell_type": "code",
   "execution_count": null,
   "id": "473767d4",
   "metadata": {},
   "outputs": [],
   "source": [
    "hello()  \n",
    "def hello():  \n",
    "    print(\"Hi\")  "
   ]
  },
  {
   "cell_type": "markdown",
   "id": "82cb847a",
   "metadata": {},
   "source": [
    "함수가 정의되기 전에 호출되어서 에러 발생"
   ]
  },
  {
   "cell_type": "markdown",
   "id": "5b28d83b",
   "metadata": {},
   "source": [
    "## 206\n",
    "아래 코드의 실행 결과를 예측하라.\n",
    "\n",
    "def message() :  \n",
    "    print(\"A\")  \n",
    "    print(\"B\")\n",
    "\n",
    "message()  \n",
    "print(\"C\")  \n",
    "message()"
   ]
  },
  {
   "cell_type": "markdown",
   "id": "b6256908",
   "metadata": {},
   "source": [
    "A  \n",
    "B  \n",
    "C  \n",
    "A  \n",
    "B  \n",
    "이렇게 출력될 것으로 예상"
   ]
  },
  {
   "cell_type": "markdown",
   "id": "7f94c163",
   "metadata": {},
   "source": [
    "## 207\n",
    "아래 코드의 실행 결과를 예측하라. (읽기 어려운 코드의 예입니다.)\n",
    "\n",
    "print(\"A\")\n",
    "\n",
    "def message() :  \n",
    "    print(\"B\")\n",
    "\n",
    "print(\"C\")  \n",
    "message()"
   ]
  },
  {
   "cell_type": "markdown",
   "id": "68d06a3d",
   "metadata": {},
   "source": [
    "A  \n",
    "C  \n",
    "B  \n",
    "이렇게 출력될 것으로 예상"
   ]
  },
  {
   "cell_type": "markdown",
   "id": "a5cde00e",
   "metadata": {},
   "source": [
    "## 208\n",
    "아래 코드의 실행 결과를 예측하라. (읽기 어려운 코드의 예입니다.)\n",
    "\n",
    "print(\"A\")   \n",
    "def message1() :  \n",
    "    print(\"B\")  \n",
    "print(\"C\")  \n",
    "def message2() :  \n",
    "    print(\"D\")  \n",
    "message1()  \n",
    "print(\"E\")  \n",
    "message2()"
   ]
  },
  {
   "cell_type": "markdown",
   "id": "0d793494",
   "metadata": {},
   "source": [
    "A  \n",
    "C  \n",
    "B  \n",
    "E  \n",
    "D  \n",
    "이렇게 출력될 것으로 예상"
   ]
  },
  {
   "cell_type": "markdown",
   "id": "62009cc1",
   "metadata": {},
   "source": [
    "## 209\n",
    "아래 코드의 실행 결과를 예측하라.\n",
    "\n",
    "def message1():  \n",
    "    print(\"A\")  \n",
    "\n",
    "def message2():  \n",
    "    print(\"B\")  \n",
    "    message1()\n",
    "\n",
    "message2()"
   ]
  },
  {
   "cell_type": "markdown",
   "id": "e8ef1c94",
   "metadata": {},
   "source": [
    "B  \n",
    "A  \n",
    "이렇게 출력될 것으로 예상"
   ]
  },
  {
   "cell_type": "markdown",
   "id": "2df7f8c5",
   "metadata": {},
   "source": [
    "## 210\n",
    "아래 코드의 실행 결과를 예측하라.\n",
    "\n",
    "def message1():  \n",
    "    print(\"A\")\n",
    "\n",
    "def message2():  \n",
    "    print(\"B\")\n",
    "\n",
    "def message3():  \n",
    "    for i in range (3) :  \n",
    "        message2()  \n",
    "        print(\"C\")  \n",
    "    message1()\n",
    "\n",
    "message3()"
   ]
  },
  {
   "cell_type": "markdown",
   "id": "cccaae9a",
   "metadata": {},
   "source": [
    "B  \n",
    "C  \n",
    "B  \n",
    "C  \n",
    "B  \n",
    "C  \n",
    "A  \n",
    "이렇게 출력될 것으로 예상"
   ]
  },
  {
   "cell_type": "markdown",
   "id": "66838496",
   "metadata": {},
   "source": [
    "## 211\n",
    "함수의 호출 결과를 예측하라.\n",
    "\n",
    "def 함수(문자열) :  \n",
    "    print(문자열)\n",
    "\n",
    "함수(\"안녕\")  \n",
    "함수(\"Hi\")"
   ]
  },
  {
   "cell_type": "markdown",
   "id": "24077a4d",
   "metadata": {},
   "source": [
    "안녕  \n",
    "Hi\n",
    "\n",
    "이렇게 출력될 것으로 예상 "
   ]
  },
  {
   "cell_type": "markdown",
   "id": "cf1da7d9",
   "metadata": {},
   "source": [
    "## 212\n",
    "함수의 호출 결과를 예측하라.\n",
    "\n",
    "def 함수(a, b) :  \n",
    "    print(a + b)\n",
    "\n",
    "함수(3, 4)  \n",
    "함수(7, 8)"
   ]
  },
  {
   "cell_type": "markdown",
   "id": "0813a6b1",
   "metadata": {},
   "source": [
    "7  \n",
    "15\n",
    "\n",
    "이렇게 출력될 것으로 예상"
   ]
  },
  {
   "cell_type": "markdown",
   "id": "9a65b665",
   "metadata": {},
   "source": [
    "## 213\n",
    "아래와 같은 에러가 발생하는 원인을 설명하라.\n",
    "\n",
    "def 함수(문자열) :  \n",
    "    print(문자열) \n",
    "    \n",
    "함수()  \n",
    "TypeError: 함수() missing 1 required positional argument: '문자열'"
   ]
  },
  {
   "cell_type": "markdown",
   "id": "7cff252e",
   "metadata": {},
   "source": [
    "함수()에 하나의 파라미터를 할당하지 않아서 에러 발생"
   ]
  },
  {
   "cell_type": "markdown",
   "id": "65933c20",
   "metadata": {},
   "source": [
    "## 214\n",
    "아래와 같은 에러가 발생하는 원인을 설명하라.\n",
    "\n",
    "def 함수(a, b) :  \n",
    "    print(a + b)\n",
    "\n",
    "함수(\"안녕\", 3)  \n",
    "TypeError: must be str, not int"
   ]
  },
  {
   "cell_type": "markdown",
   "id": "5e43d858",
   "metadata": {},
   "source": [
    "함수() 첫번째 파라미터에 정수가 들어가야 하는데, 문자열이 들어가서 에러 발생"
   ]
  },
  {
   "cell_type": "markdown",
   "id": "effc15cb",
   "metadata": {},
   "source": [
    "## 215\n",
    "하나의 문자를 입력받아 문자열 끝에 \":D\" 스마일 문자열을 이어 붙여 출력하는 print_with_smile 함수를 정의하라."
   ]
  },
  {
   "cell_type": "code",
   "execution_count": 30,
   "id": "367f1766",
   "metadata": {},
   "outputs": [],
   "source": [
    "def print_with_smile(data):\n",
    "    print(data+':D')"
   ]
  },
  {
   "cell_type": "code",
   "execution_count": 31,
   "id": "76c2b1e4",
   "metadata": {},
   "outputs": [
    {
     "name": "stdout",
     "output_type": "stream",
     "text": [
      "하이:D\n"
     ]
    }
   ],
   "source": [
    "print_with_smile('하이')"
   ]
  },
  {
   "cell_type": "markdown",
   "id": "23239e96",
   "metadata": {},
   "source": [
    "## 216\n",
    "215에서 정의한 함수를 호출하라. 파라미터는 \"안녕하세요\"로 입력하라."
   ]
  },
  {
   "cell_type": "code",
   "execution_count": 32,
   "id": "8eea2108",
   "metadata": {},
   "outputs": [
    {
     "name": "stdout",
     "output_type": "stream",
     "text": [
      "안녕하세요:D\n"
     ]
    }
   ],
   "source": [
    "print_with_smile(\"안녕하세요\")"
   ]
  },
  {
   "cell_type": "markdown",
   "id": "2cb883b0",
   "metadata": {},
   "source": [
    "## 217\n",
    "현재 가격을 입력 받아 상한가 (30%)를 출력하는 print_upper_price 함수를 정의하라."
   ]
  },
  {
   "cell_type": "code",
   "execution_count": 33,
   "id": "6d38988a",
   "metadata": {},
   "outputs": [],
   "source": [
    "def print_upper_price(price):\n",
    "    print(price*1.3)"
   ]
  },
  {
   "cell_type": "code",
   "execution_count": 34,
   "id": "f74c645c",
   "metadata": {},
   "outputs": [
    {
     "name": "stdout",
     "output_type": "stream",
     "text": [
      "1300.0\n"
     ]
    }
   ],
   "source": [
    "print_upper_price(1000)"
   ]
  },
  {
   "cell_type": "markdown",
   "id": "170e313c",
   "metadata": {},
   "source": [
    "## 218\n",
    "두 개의 숫자를 입력받아 두 수의 합을 출력하는 print_sum 함수를 정의하라."
   ]
  },
  {
   "cell_type": "code",
   "execution_count": 35,
   "id": "4cf83c98",
   "metadata": {},
   "outputs": [],
   "source": [
    "def print_sum(a, b):\n",
    "    print(a+b)"
   ]
  },
  {
   "cell_type": "code",
   "execution_count": 36,
   "id": "e432cdc0",
   "metadata": {},
   "outputs": [
    {
     "name": "stdout",
     "output_type": "stream",
     "text": [
      "5\n"
     ]
    }
   ],
   "source": [
    "print_sum(2,3)"
   ]
  },
  {
   "cell_type": "markdown",
   "id": "320ff8b6",
   "metadata": {},
   "source": [
    "## 219\n",
    "두 개의 숫자를 입력받아 합/차/곱/나눗셈을 출력하는 print_arithmetic_operation 함수를 작성하라.\n",
    "\n",
    "print_arithmetic_operation(3, 4)  \n",
    "3 + 4 = 7  \n",
    "3 - 4 = -1  \n",
    "3 * 4 = 12  \n",
    "3 / 4 = 0.75"
   ]
  },
  {
   "cell_type": "code",
   "execution_count": 37,
   "id": "64db359f",
   "metadata": {},
   "outputs": [],
   "source": [
    "def print_arithmetic_operation(a,b):\n",
    "    print(a,'+',b,'=',a+b)\n",
    "    print(a,'-',b,'=',a-b)\n",
    "    print(a,'*',b,'=',a*b)\n",
    "    print(a,'/',b,'=',a/b)"
   ]
  },
  {
   "cell_type": "code",
   "execution_count": 38,
   "id": "e98d2393",
   "metadata": {},
   "outputs": [
    {
     "name": "stdout",
     "output_type": "stream",
     "text": [
      "3 + 4 = 7\n",
      "3 - 4 = -1\n",
      "3 * 4 = 12\n",
      "3 / 4 = 0.75\n"
     ]
    }
   ],
   "source": [
    "print_arithmetic_operation(3, 4)"
   ]
  },
  {
   "cell_type": "markdown",
   "id": "af61c776",
   "metadata": {},
   "source": [
    "## 220\n",
    "세 개의 숫자를 입력받아 가장 큰수를 출력하는 print_max 함수를 정의하라. 단 if 문을 사용해서 수를 비교하라."
   ]
  },
  {
   "cell_type": "code",
   "execution_count": 39,
   "id": "79798e29",
   "metadata": {},
   "outputs": [],
   "source": [
    "def print_max(a, b, c):\n",
    "    if a >= b or a >= c:\n",
    "        print(a)\n",
    "    elif b >= a or b >= c:\n",
    "        print(b)\n",
    "    else:\n",
    "        print(c)"
   ]
  },
  {
   "cell_type": "code",
   "execution_count": 40,
   "id": "a11004bb",
   "metadata": {},
   "outputs": [
    {
     "name": "stdout",
     "output_type": "stream",
     "text": [
      "7\n"
     ]
    }
   ],
   "source": [
    "print_max(7,4,6)"
   ]
  },
  {
   "cell_type": "code",
   "execution_count": 41,
   "id": "40b65587",
   "metadata": {},
   "outputs": [],
   "source": [
    "def print_max(a, b, c) :\n",
    "    max_val = 0\n",
    "    if a > max_val :\n",
    "        max_val = a\n",
    "    if b > max_val :\n",
    "        max_val = b\n",
    "    if c > max_val :\n",
    "        max_val = c\n",
    "    print(max_val)"
   ]
  },
  {
   "cell_type": "code",
   "execution_count": 42,
   "id": "d48f0699",
   "metadata": {},
   "outputs": [
    {
     "name": "stdout",
     "output_type": "stream",
     "text": [
      "7\n"
     ]
    }
   ],
   "source": [
    "print_max(7,4,6)"
   ]
  },
  {
   "cell_type": "markdown",
   "id": "38de01ba",
   "metadata": {},
   "source": [
    "## 221\n",
    "입력된 문자열을 역순으로 출력하는 print_reverse 함수를 정의하라.\n",
    "\n",
    "print_reverse(\"python\")  \n",
    "nohtyp"
   ]
  },
  {
   "cell_type": "code",
   "execution_count": 49,
   "id": "fbdaa7bc",
   "metadata": {},
   "outputs": [],
   "source": [
    "def print_reverse(data):\n",
    "    print(data[::-1])"
   ]
  },
  {
   "cell_type": "code",
   "execution_count": 50,
   "id": "945bcce4",
   "metadata": {},
   "outputs": [
    {
     "name": "stdout",
     "output_type": "stream",
     "text": [
      "nohtyp\n"
     ]
    }
   ],
   "source": [
    "print_reverse(\"python\")"
   ]
  },
  {
   "cell_type": "markdown",
   "id": "04c2007a",
   "metadata": {},
   "source": [
    "## 222\n",
    "성적 리스트를 입력 받아 평균을 출력하는 print_score 함수를 정의하라.\n",
    "\n",
    "print_score ([1, 2, 3])  \n",
    "2.0"
   ]
  },
  {
   "cell_type": "code",
   "execution_count": 51,
   "id": "e895959e",
   "metadata": {},
   "outputs": [],
   "source": [
    "def print_score(data):\n",
    "    print(sum(data)/len(data))"
   ]
  },
  {
   "cell_type": "code",
   "execution_count": 52,
   "id": "71e9aca1",
   "metadata": {},
   "outputs": [
    {
     "name": "stdout",
     "output_type": "stream",
     "text": [
      "2.0\n"
     ]
    }
   ],
   "source": [
    "print_score ([1, 2, 3])"
   ]
  },
  {
   "cell_type": "markdown",
   "id": "3954a8ea",
   "metadata": {},
   "source": [
    "## 223\n",
    "하나의 리스트를 입력받아 짝수만 화면에 출력하는 print_even 함수를 정의하라.\n",
    "\n",
    "print_even ([1, 3, 2, 10, 12, 11, 15])  \n",
    "2  \n",
    "10  \n",
    "12"
   ]
  },
  {
   "cell_type": "code",
   "execution_count": 53,
   "id": "69b37b62",
   "metadata": {},
   "outputs": [],
   "source": [
    "def print_even(data):\n",
    "    for i in data:\n",
    "        if i % 2 == 0:\n",
    "            print(i)"
   ]
  },
  {
   "cell_type": "code",
   "execution_count": 54,
   "id": "98e94750",
   "metadata": {},
   "outputs": [
    {
     "name": "stdout",
     "output_type": "stream",
     "text": [
      "2\n",
      "10\n",
      "12\n"
     ]
    }
   ],
   "source": [
    "print_even ([1, 3, 2, 10, 12, 11, 15])"
   ]
  },
  {
   "cell_type": "markdown",
   "id": "24d8d094",
   "metadata": {},
   "source": [
    "## 224\n",
    "하나의 딕셔너리를 입력받아 딕셔너리의 key 값을 화면에 출력하는 print_keys 함수를 정의하라.\n",
    "\n",
    "print_keys ({\"이름\":\"김말똥\", \"나이\":30, \"성별\":0})  \n",
    "이름  \n",
    "나이  \n",
    "성별"
   ]
  },
  {
   "cell_type": "code",
   "execution_count": 68,
   "id": "f0306058",
   "metadata": {},
   "outputs": [],
   "source": [
    "def print_keys (data):\n",
    "    for i in data.keys():\n",
    "        print(i)"
   ]
  },
  {
   "cell_type": "code",
   "execution_count": 69,
   "id": "fce89070",
   "metadata": {},
   "outputs": [
    {
     "name": "stdout",
     "output_type": "stream",
     "text": [
      "이름\n",
      "나이\n",
      "성별\n"
     ]
    }
   ],
   "source": [
    "print_keys ({\"이름\":\"김말똥\", \"나이\":30, \"성별\":0})"
   ]
  },
  {
   "cell_type": "markdown",
   "id": "674fbcc1",
   "metadata": {},
   "source": [
    "## 225\n",
    "my_dict에는 날짜를 키값으로 OHLC가 리스트로 저장돼 있다.\n",
    "\n",
    "my_dict = {\"10/26\" : [100, 130, 100, 100],  \n",
    "           \"10/27\" : [10, 12, 10, 11]}  \n",
    "           \n",
    "my_dict와 날짜 키값을 입력받아 OHLC 리스트를 출력하는 print_value_by_key 함수를 정의하라.\n",
    "\n",
    "print_value_by_key  (my_dict, \"10/26\")  \n",
    "[100, 130, 100, 100]"
   ]
  },
  {
   "cell_type": "code",
   "execution_count": 70,
   "id": "fd51691f",
   "metadata": {},
   "outputs": [],
   "source": [
    "my_dict = {\"10/26\" : [100, 130, 100, 100], \"10/27\" : [10, 12, 10, 11]}"
   ]
  },
  {
   "cell_type": "code",
   "execution_count": 75,
   "id": "9b3ac7b0",
   "metadata": {},
   "outputs": [],
   "source": [
    "def print_value_by_key(dict, day):\n",
    "    print(dict[day])"
   ]
  },
  {
   "cell_type": "code",
   "execution_count": 76,
   "id": "9306fb47",
   "metadata": {},
   "outputs": [
    {
     "name": "stdout",
     "output_type": "stream",
     "text": [
      "[100, 130, 100, 100]\n"
     ]
    }
   ],
   "source": [
    "print_value_by_key (my_dict, \"10/26\")"
   ]
  },
  {
   "cell_type": "markdown",
   "id": "f4a4bf62",
   "metadata": {},
   "source": [
    "## 226\n",
    "입력 문자열을 한 줄에 다섯글자씩 출력하는 print_5xn(string) 함수를 작성하라.\n",
    "\n",
    "print_5xn(\"아이엠어보이유알어걸\")  \n",
    "아이엠어보  \n",
    "이유알어걸"
   ]
  },
  {
   "cell_type": "code",
   "execution_count": 79,
   "id": "6cf21426",
   "metadata": {},
   "outputs": [],
   "source": [
    "def print_5xn(string):\n",
    "    print(string[:5]+\"\\n\"+string[5:])"
   ]
  },
  {
   "cell_type": "code",
   "execution_count": 80,
   "id": "3433624c",
   "metadata": {},
   "outputs": [
    {
     "name": "stdout",
     "output_type": "stream",
     "text": [
      "아이엠어보\n",
      "이유알어걸\n"
     ]
    }
   ],
   "source": [
    "print_5xn(\"아이엠어보이유알어걸\")"
   ]
  },
  {
   "cell_type": "code",
   "execution_count": 81,
   "id": "8deee1e9",
   "metadata": {},
   "outputs": [],
   "source": [
    "def print_5xn(line):\n",
    "    chunk_num = int(len(line) / 5)\n",
    "    for x in range(chunk_num + 1) :\n",
    "        print(line[x * 5: x * 5 + 5])"
   ]
  },
  {
   "cell_type": "code",
   "execution_count": 82,
   "id": "c51b5411",
   "metadata": {},
   "outputs": [
    {
     "name": "stdout",
     "output_type": "stream",
     "text": [
      "아이엠어보\n",
      "이유알어걸\n",
      "\n"
     ]
    }
   ],
   "source": [
    "print_5xn(\"아이엠어보이유알어걸\")"
   ]
  },
  {
   "cell_type": "markdown",
   "id": "ab7305e9",
   "metadata": {},
   "source": [
    "## 227\n",
    "문자열과 한줄에 출력될 글자 수를 입력을 받아 한 줄에 입력된 글자 수만큼 출력하는 print_mxn(string) 함수를 작성하라.\n",
    "\n",
    "printmxn(\"아이엠어보이유알어걸\", 3)  \n",
    "아이엠  \n",
    "어보이  \n",
    "유알어  \n",
    "걸  "
   ]
  },
  {
   "cell_type": "code",
   "execution_count": 86,
   "id": "7a8153ae",
   "metadata": {},
   "outputs": [],
   "source": [
    "def print_mxn(string, num):\n",
    "    chunk_num=(len(string)//num)+1\n",
    "    for i in range(chunk_num):\n",
    "        print(string[i*num:(i+1)*num])"
   ]
  },
  {
   "cell_type": "code",
   "execution_count": 87,
   "id": "217e3828",
   "metadata": {},
   "outputs": [
    {
     "name": "stdout",
     "output_type": "stream",
     "text": [
      "아이엠\n",
      "어보이\n",
      "유알어\n",
      "걸\n"
     ]
    }
   ],
   "source": [
    "print_mxn(\"아이엠어보이유알어걸\", 3)"
   ]
  },
  {
   "cell_type": "markdown",
   "id": "4e719918",
   "metadata": {},
   "source": [
    "## 228\n",
    "연봉을 입력받아 월급을 계산하는 calc_monthly_salary(annual_salary) 함수를 정의하라. 회사는 연봉을 12개월로 나누어 분할 지급하며, 이 때 1원 미만은 버림한다.\n",
    "\n",
    "calc_monthly_salary(12000000)  \n",
    "1000000"
   ]
  },
  {
   "cell_type": "code",
   "execution_count": 89,
   "id": "0abf24aa",
   "metadata": {},
   "outputs": [],
   "source": [
    "def calc_monthly_salary(data):\n",
    "    print(int(data/12))"
   ]
  },
  {
   "cell_type": "code",
   "execution_count": 91,
   "id": "114862f7",
   "metadata": {},
   "outputs": [
    {
     "name": "stdout",
     "output_type": "stream",
     "text": [
      "916666\n"
     ]
    }
   ],
   "source": [
    "calc_monthly_salary(11000000)"
   ]
  },
  {
   "cell_type": "markdown",
   "id": "b19e218f",
   "metadata": {},
   "source": [
    "## 229\n",
    "아래 코드의 실행 결과를 예측하라.\n",
    "\n",
    "def my_print (a, b) :  \n",
    "    print(\"왼쪽:\", a)  \n",
    "    print(\"오른쪽:\", b)\n",
    "\n",
    "my_print(a=100, b=200)"
   ]
  },
  {
   "cell_type": "markdown",
   "id": "c1aa6d3f",
   "metadata": {},
   "source": [
    "왼쪽: 100  \n",
    "오른쪽: 200\n",
    "\n",
    "이렇게 예상된다"
   ]
  },
  {
   "cell_type": "markdown",
   "id": "a93547d4",
   "metadata": {},
   "source": [
    "## 230\n",
    "아래 코드의 실행 결과를 예측하라.\n",
    "\n",
    "def my_print (a, b) :  \n",
    "    print(\"왼쪽:\", a)  \n",
    "    print(\"오른쪽:\", b)\n",
    "\n",
    "my_print(b=100, a=200)"
   ]
  },
  {
   "cell_type": "markdown",
   "id": "b50da4e7",
   "metadata": {},
   "source": [
    "왼쪽: 200  \n",
    "오른쪽: 100\n",
    "\n",
    "이렇게 예상된다"
   ]
  },
  {
   "cell_type": "markdown",
   "id": "5cea6c6d",
   "metadata": {},
   "source": [
    "## 231\n",
    "아래 코드를 실행한 결과를 예상하라.\n",
    "\n",
    "def n_plus_1 (n) :  \n",
    "    result = n + 1\n",
    "\n",
    "n_plus_1(3)  \n",
    "print (result)"
   ]
  },
  {
   "cell_type": "markdown",
   "id": "d10bf2ad",
   "metadata": {},
   "source": [
    "글로벌의 result가 정의되지 않아 에러가 발생한다."
   ]
  },
  {
   "cell_type": "markdown",
   "id": "ca5142f9",
   "metadata": {},
   "source": [
    "## 232\n",
    "문자열 하나를 입력받아 인터넷 주소를 반환하는 make_url 함수를 정의하라.\n",
    "\n",
    "make_url(\"naver\")  \n",
    "www.naver.com"
   ]
  },
  {
   "cell_type": "code",
   "execution_count": 95,
   "id": "09dea784",
   "metadata": {},
   "outputs": [],
   "source": [
    "def make_url(data):\n",
    "    url='www.'+data+'.com'\n",
    "    return url"
   ]
  },
  {
   "cell_type": "code",
   "execution_count": 96,
   "id": "7a932feb",
   "metadata": {},
   "outputs": [
    {
     "data": {
      "text/plain": [
       "'www.naver.com'"
      ]
     },
     "execution_count": 96,
     "metadata": {},
     "output_type": "execute_result"
    }
   ],
   "source": [
    "make_url(\"naver\")"
   ]
  },
  {
   "cell_type": "markdown",
   "id": "8c54b6b7",
   "metadata": {},
   "source": [
    "## 233\n",
    "문자열을 입력받아 각 문자들로 구성된 리스트로 반환하는 make_list 함수를 정의하라.\n",
    "\n",
    "make_list(\"abcd\")  \n",
    "['a', 'b', 'c', 'd']"
   ]
  },
  {
   "cell_type": "code",
   "execution_count": 99,
   "id": "5a247779",
   "metadata": {},
   "outputs": [],
   "source": [
    "def make_list(data):\n",
    "    list=[]\n",
    "    for i in data:\n",
    "        list.append(i)\n",
    "    return list"
   ]
  },
  {
   "cell_type": "code",
   "execution_count": 100,
   "id": "8456ca88",
   "metadata": {},
   "outputs": [
    {
     "data": {
      "text/plain": [
       "['a', 'b', 'c', 'd']"
      ]
     },
     "execution_count": 100,
     "metadata": {},
     "output_type": "execute_result"
    }
   ],
   "source": [
    "make_list(\"abcd\")"
   ]
  },
  {
   "cell_type": "code",
   "execution_count": 101,
   "id": "aca0dcfa",
   "metadata": {},
   "outputs": [],
   "source": [
    "def make_list (string) :\n",
    "    return list(string)"
   ]
  },
  {
   "cell_type": "code",
   "execution_count": 102,
   "id": "c26b7abd",
   "metadata": {},
   "outputs": [
    {
     "data": {
      "text/plain": [
       "['a', 'b', 'c', 'd']"
      ]
     },
     "execution_count": 102,
     "metadata": {},
     "output_type": "execute_result"
    }
   ],
   "source": [
    "make_list(\"abcd\")"
   ]
  },
  {
   "cell_type": "markdown",
   "id": "594c8dc0",
   "metadata": {},
   "source": [
    "## 234\n",
    "숫자로 구성된 하나의 리스트를 입력받아, 짝수들을 추출하여 리스트로 반환하는 pickup_even 함수를 구현하라.\n",
    "\n",
    "pickup_even([3, 4, 5, 6, 7, 8])  \n",
    "[4, 6, 8]"
   ]
  },
  {
   "cell_type": "code",
   "execution_count": 103,
   "id": "c95597e0",
   "metadata": {},
   "outputs": [],
   "source": [
    "def pickup_even(data):\n",
    "    list=[]\n",
    "    for i in data:\n",
    "        if i % 2 ==0:\n",
    "            list.append(i)\n",
    "    return list"
   ]
  },
  {
   "cell_type": "code",
   "execution_count": 104,
   "id": "d651c8f1",
   "metadata": {},
   "outputs": [
    {
     "data": {
      "text/plain": [
       "[4, 6, 8]"
      ]
     },
     "execution_count": 104,
     "metadata": {},
     "output_type": "execute_result"
    }
   ],
   "source": [
    "pickup_even([3, 4, 5, 6, 7, 8])"
   ]
  },
  {
   "cell_type": "markdown",
   "id": "676fa665",
   "metadata": {},
   "source": [
    "## 235\n",
    "콤마가 포함된 문자열 숫자를 입력받아 정수로 변환하는 convert_int 함수를 정의하라.\n",
    "\n",
    "convert_int(\"1,234,567\")  \n",
    "1234567"
   ]
  },
  {
   "cell_type": "code",
   "execution_count": 117,
   "id": "38347f59",
   "metadata": {},
   "outputs": [],
   "source": [
    "def convert_int(data):\n",
    "    return int(data.replace(',',''))"
   ]
  },
  {
   "cell_type": "code",
   "execution_count": 118,
   "id": "95d0796e",
   "metadata": {},
   "outputs": [
    {
     "data": {
      "text/plain": [
       "1234567"
      ]
     },
     "execution_count": 118,
     "metadata": {},
     "output_type": "execute_result"
    }
   ],
   "source": [
    "convert_int(\"1,234,567\")"
   ]
  },
  {
   "cell_type": "markdown",
   "id": "8c63612c",
   "metadata": {},
   "source": [
    "## 236\n",
    "아래 코드의 실행 결과를 예측하라.\n",
    "\n",
    "def 함수(num) :  \n",
    "    return num + 4\n",
    "\n",
    "a = 함수(10)  \n",
    "b = 함수(a)  \n",
    "c = 함수(b)  \n",
    "print(c)"
   ]
  },
  {
   "cell_type": "markdown",
   "id": "23eea97b",
   "metadata": {},
   "source": [
    "22 로 예상된다"
   ]
  },
  {
   "cell_type": "markdown",
   "id": "4e6b99d8",
   "metadata": {},
   "source": [
    "## 237\n",
    "아래 코드의 실행 결과를 예측하라.\n",
    "\n",
    "def 함수(num) :  \n",
    "    return num + 4\n",
    "\n",
    "c = 함수(함수(함수(10)))  \n",
    "print(c)"
   ]
  },
  {
   "cell_type": "markdown",
   "id": "d61788b5",
   "metadata": {},
   "source": [
    "22 로 예상된다"
   ]
  },
  {
   "cell_type": "markdown",
   "id": "8b15d41a",
   "metadata": {},
   "source": [
    "## 238\n",
    "아래 코드의 실행 결과를 예측하라.\n",
    "\n",
    "def 함수1(num) :  \n",
    "    return num + 4  \n",
    "\n",
    "def 함수2(num) :  \n",
    "    return num * 10  \n",
    "\n",
    "a = 함수1(10)  \n",
    "c = 함수2(a)  \n",
    "print(c)"
   ]
  },
  {
   "cell_type": "markdown",
   "id": "15f10f0e",
   "metadata": {},
   "source": [
    "140 으로 예상된다"
   ]
  },
  {
   "cell_type": "markdown",
   "id": "e645cf77",
   "metadata": {},
   "source": [
    "## 239\n",
    "아래 코드의 실행 결과를 예측하라.\n",
    "\n",
    "def 함수1(num) :  \n",
    "    return num + 4\n",
    "\n",
    "def 함수2(num) :  \n",
    "    num = num + 2  \n",
    "    return 함수1(num)\n",
    "\n",
    "c = 함수2(10)  \n",
    "print(c)"
   ]
  },
  {
   "cell_type": "markdown",
   "id": "5527db08",
   "metadata": {},
   "source": [
    "16으로 예상된다"
   ]
  },
  {
   "cell_type": "markdown",
   "id": "e6372ed2",
   "metadata": {},
   "source": [
    "## 240\n",
    "아래 코드의 실행 결과를 예측하라.\n",
    "\n",
    "def 함수0(num) :  \n",
    "    return num * 2\n",
    "\n",
    "def 함수1(num) :  \n",
    "    return 함수0(num + 2)\n",
    "\n",
    "def 함수2(num) :  \n",
    "    num = num + 10  \n",
    "    return 함수1(num)\n",
    "\n",
    "c = 함수2(2)  \n",
    "print(c)"
   ]
  },
  {
   "cell_type": "markdown",
   "id": "5abd1162",
   "metadata": {},
   "source": [
    "28로 예상된다"
   ]
  },
  {
   "cell_type": "code",
   "execution_count": null,
   "id": "2de92e46",
   "metadata": {},
   "outputs": [],
   "source": []
  }
 ],
 "metadata": {
  "kernelspec": {
   "display_name": "Python 3 (ipykernel)",
   "language": "python",
   "name": "python3"
  },
  "language_info": {
   "codemirror_mode": {
    "name": "ipython",
    "version": 3
   },
   "file_extension": ".py",
   "mimetype": "text/x-python",
   "name": "python",
   "nbconvert_exporter": "python",
   "pygments_lexer": "ipython3",
   "version": "3.11.5"
  }
 },
 "nbformat": 4,
 "nbformat_minor": 5
}
