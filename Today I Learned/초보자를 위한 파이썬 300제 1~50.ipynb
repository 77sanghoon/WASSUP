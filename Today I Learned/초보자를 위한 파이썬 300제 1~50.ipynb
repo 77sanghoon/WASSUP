{
 "cells": [
  {
   "cell_type": "markdown",
   "id": "3a0e4efc",
   "metadata": {},
   "source": [
    "#### 001 화면에 Hello World 문자열을 출력하세요."
   ]
  },
  {
   "cell_type": "code",
   "execution_count": 1,
   "id": "350ee83f",
   "metadata": {},
   "outputs": [
    {
     "name": "stdout",
     "output_type": "stream",
     "text": [
      "Hello World\n"
     ]
    }
   ],
   "source": [
    "print('Hello World')"
   ]
  },
  {
   "cell_type": "markdown",
   "id": "10e3f43c",
   "metadata": {},
   "source": [
    "#### 002 화면에 Mary's cosmetics을 출력하세요. (중간에 '가 있음에 주의하세요)"
   ]
  },
  {
   "cell_type": "code",
   "execution_count": 2,
   "id": "97ac94a1",
   "metadata": {},
   "outputs": [
    {
     "name": "stdout",
     "output_type": "stream",
     "text": [
      "Mary's cosmetics\n"
     ]
    }
   ],
   "source": [
    "print(\"Mary's cosmetics\")"
   ]
  },
  {
   "cell_type": "markdown",
   "id": "8b0925d0",
   "metadata": {},
   "source": [
    "#### 003 화면에 아래 문장을 출력하세요. (중간에 \"가 있음에 주의하세요.)\n",
    "신씨가 소리질렀다. \"도둑이야\"."
   ]
  },
  {
   "cell_type": "code",
   "execution_count": 3,
   "id": "c9bd35c0",
   "metadata": {},
   "outputs": [
    {
     "name": "stdout",
     "output_type": "stream",
     "text": [
      "신씨가 소리질렀다. \"도둑이야\".\n"
     ]
    }
   ],
   "source": [
    "print('신씨가 소리질렀다. \"도둑이야\".')"
   ]
  },
  {
   "cell_type": "markdown",
   "id": "11c69e9d",
   "metadata": {},
   "source": [
    "#### 004 화면에 C:\\Windows를 출력하세요."
   ]
  },
  {
   "cell_type": "code",
   "execution_count": 8,
   "id": "43f1a768",
   "metadata": {},
   "outputs": [
    {
     "name": "stdout",
     "output_type": "stream",
     "text": [
      "C:\\Windows\n"
     ]
    }
   ],
   "source": [
    "print('C:\\Windows')"
   ]
  },
  {
   "cell_type": "markdown",
   "id": "531455d4",
   "metadata": {},
   "source": [
    "#### 005 다음 코드를 실행해보고 \\t와 \\n의 역할을 설명해보세요.\n",
    "\n",
    "print(\"안녕하세요.\\n만나서\\t\\t반갑습니다.\")"
   ]
  },
  {
   "cell_type": "code",
   "execution_count": 9,
   "id": "40e6c15d",
   "metadata": {},
   "outputs": [
    {
     "name": "stdout",
     "output_type": "stream",
     "text": [
      "안녕하세요.\n",
      "만나서\t\t반갑습니다.\n"
     ]
    }
   ],
   "source": [
    "print(\"안녕하세요.\\n만나서\\t\\t반갑습니다.\")"
   ]
  },
  {
   "cell_type": "markdown",
   "id": "07903540",
   "metadata": {},
   "source": [
    "\\n은 줄바꿈, \\t는 탭 "
   ]
  },
  {
   "cell_type": "markdown",
   "id": "2c6f3d21",
   "metadata": {},
   "source": [
    "#### 006 print 함수에 두 개의 단어를 입력한 예제입니다. 아래 코드의 출력 결과를 예상해봅시다.\n",
    "print (\"오늘은\", \"일요일\")"
   ]
  },
  {
   "cell_type": "markdown",
   "id": "55970a56",
   "metadata": {},
   "source": [
    "오늘은 일요일 -> 이렇게 노출될 것이다."
   ]
  },
  {
   "cell_type": "code",
   "execution_count": 10,
   "id": "eef46b96",
   "metadata": {},
   "outputs": [
    {
     "name": "stdout",
     "output_type": "stream",
     "text": [
      "오늘은 일요일\n"
     ]
    }
   ],
   "source": [
    "print (\"오늘은\", \"일요일\")"
   ]
  },
  {
   "cell_type": "markdown",
   "id": "0e9748e1",
   "metadata": {},
   "source": [
    "#### 007 print() 함수를 사용하여 다음과 같이 출력하세요.\n",
    "naver;kakao;sk;samsung"
   ]
  },
  {
   "cell_type": "code",
   "execution_count": 19,
   "id": "b13dd55a",
   "metadata": {},
   "outputs": [
    {
     "name": "stdout",
     "output_type": "stream",
     "text": [
      "naver;kakao;sk;samsung\n"
     ]
    }
   ],
   "source": [
    "print('naver', 'kakao', 'sk', 'samsung', sep=';')"
   ]
  },
  {
   "cell_type": "markdown",
   "id": "425ebf92",
   "metadata": {},
   "source": [
    "#### 008 print() 함수를 사용하여 다음과 같이 출력하세요.\n",
    "naver/kakao/sk/samsung"
   ]
  },
  {
   "cell_type": "code",
   "execution_count": 20,
   "id": "557c10fc",
   "metadata": {},
   "outputs": [
    {
     "name": "stdout",
     "output_type": "stream",
     "text": [
      "naver/kakao/sk/samsung\n"
     ]
    }
   ],
   "source": [
    "print('naver', 'kakao', 'sk', 'samsung', sep='/')"
   ]
  },
  {
   "cell_type": "markdown",
   "id": "a21b6730",
   "metadata": {},
   "source": [
    "#### 009 다음 코드를 수정하여 줄바꿈이 없이 출력하세요. (힌트: end='') print 함수는 두 번 사용합니다. 세미콜론 (;)은 한줄에 여러 개의 명령을 작성하기 위해 사용합니다.\n",
    "print(\"first\");print(\"second\")"
   ]
  },
  {
   "cell_type": "code",
   "execution_count": 23,
   "id": "7f0952d9",
   "metadata": {},
   "outputs": [
    {
     "name": "stdout",
     "output_type": "stream",
     "text": [
      "firstsecond\n"
     ]
    }
   ],
   "source": [
    "print(\"first\", end='');print(\"second\")"
   ]
  },
  {
   "cell_type": "markdown",
   "id": "018db9ee",
   "metadata": {},
   "source": [
    "#### 010 5/3의 결과를 화면에 출력하세요."
   ]
  },
  {
   "cell_type": "code",
   "execution_count": 24,
   "id": "1c0cfda7",
   "metadata": {},
   "outputs": [
    {
     "name": "stdout",
     "output_type": "stream",
     "text": [
      "1.6666666666666667\n"
     ]
    }
   ],
   "source": [
    "print(5/3)"
   ]
  },
  {
   "cell_type": "markdown",
   "id": "b3e19d54",
   "metadata": {},
   "source": [
    "---"
   ]
  },
  {
   "cell_type": "markdown",
   "id": "64ee6310",
   "metadata": {},
   "source": [
    "#### 011 삼성전자라는 변수로 50,000원을 바인딩해보세요. 삼성전자 주식 10주를 보유하고 있을 때 총 평가금액을 출력하세요."
   ]
  },
  {
   "cell_type": "code",
   "execution_count": 30,
   "id": "372465a5",
   "metadata": {},
   "outputs": [],
   "source": [
    "삼성전자=50000\n",
    "총평가금액=삼성전자*10"
   ]
  },
  {
   "cell_type": "code",
   "execution_count": 31,
   "id": "0f4e57e4",
   "metadata": {},
   "outputs": [
    {
     "name": "stdout",
     "output_type": "stream",
     "text": [
      "500000\n"
     ]
    }
   ],
   "source": [
    "print(총평가금액)"
   ]
  },
  {
   "cell_type": "markdown",
   "id": "126e0897",
   "metadata": {},
   "source": [
    "#### 012 다음 표는 삼성전자의 일부 투자정보입니다. 변수를 사용해서 시가총액, 현재가, PER 등을 바인딩해보세요.\n",
    "\n",
    "항목\t값\n",
    "시가총액\t298조\n",
    "현재가\t50,000원\n",
    "PER\t15.79"
   ]
  },
  {
   "cell_type": "code",
   "execution_count": 33,
   "id": "ac788294",
   "metadata": {},
   "outputs": [],
   "source": [
    "시가총액=298000000000000\n",
    "현재가=50000\n",
    "PER=15.79"
   ]
  },
  {
   "cell_type": "code",
   "execution_count": 34,
   "id": "2a27d8c3",
   "metadata": {},
   "outputs": [
    {
     "name": "stdout",
     "output_type": "stream",
     "text": [
      "298000000000000 <class 'int'>\n",
      "50000 <class 'int'>\n",
      "15.79 <class 'float'>\n"
     ]
    }
   ],
   "source": [
    "print(시가총액, type(시가총액))\n",
    "print(현재가, type(현재가))\n",
    "print(PER, type(PER))"
   ]
  },
  {
   "cell_type": "markdown",
   "id": "74ec34d5",
   "metadata": {},
   "source": [
    "#### 013 변수 s와 t에는 각각 문자열이 바인딩 되어있습니다.\n",
    "\n",
    "s = \"hello\"   \n",
    "t = \"python\"\n",
    "\n",
    "두 변수를 이용하여 아래와 같이 출력해보세요.\n",
    "\n",
    "실행 예:\n",
    "hello! python"
   ]
  },
  {
   "cell_type": "code",
   "execution_count": 36,
   "id": "fff1bc57",
   "metadata": {},
   "outputs": [],
   "source": [
    "s = \"hello\"   \n",
    "t = \"python\""
   ]
  },
  {
   "cell_type": "code",
   "execution_count": 39,
   "id": "4fd8090d",
   "metadata": {},
   "outputs": [
    {
     "name": "stdout",
     "output_type": "stream",
     "text": [
      "hello! python\n"
     ]
    }
   ],
   "source": [
    "print(s+'!', t)"
   ]
  },
  {
   "cell_type": "markdown",
   "id": "0401f3f2",
   "metadata": {},
   "source": [
    "#### 014 아래 코드의 실행 결과를 예상해보세요.\n",
    "2 + 2 * 3 "
   ]
  },
  {
   "cell_type": "markdown",
   "id": "230c41d5",
   "metadata": {},
   "source": [
    "8 -> 예상 실행결과"
   ]
  },
  {
   "cell_type": "code",
   "execution_count": 40,
   "id": "79381538",
   "metadata": {},
   "outputs": [
    {
     "name": "stdout",
     "output_type": "stream",
     "text": [
      "8\n"
     ]
    }
   ],
   "source": [
    "print(2 + 2 * 3 )"
   ]
  },
  {
   "cell_type": "markdown",
   "id": "604acd1b",
   "metadata": {},
   "source": [
    "#### 015 type() 함수는 데이터 타입을 판별합니다. 변수 a에는 128 숫자가 바인딩돼 있어 type 함수가 int (정수)형임을 알려줍니다.\n",
    "\n",
    "a = 128   \n",
    "print (type(a))   \n",
    "<class 'int'>\n",
    "\n",
    "아래 변수에 바인딩된 값의 타입을 판별해보세요.\n",
    "\n",
    "a = \"132\""
   ]
  },
  {
   "cell_type": "markdown",
   "id": "a50e427b",
   "metadata": {},
   "source": [
    "string(문자열)로 판별"
   ]
  },
  {
   "cell_type": "code",
   "execution_count": 41,
   "id": "ccb326ba",
   "metadata": {},
   "outputs": [
    {
     "name": "stdout",
     "output_type": "stream",
     "text": [
      "<class 'str'>\n"
     ]
    }
   ],
   "source": [
    "a = \"132\"\n",
    "print(type(a))"
   ]
  },
  {
   "cell_type": "markdown",
   "id": "c0916ea1",
   "metadata": {},
   "source": [
    "#### 016 문자열 '720'를 정수형으로 변환해보세요.\n",
    "\n",
    "num_str = \"720\""
   ]
  },
  {
   "cell_type": "code",
   "execution_count": 44,
   "id": "d97cfb77",
   "metadata": {},
   "outputs": [
    {
     "name": "stdout",
     "output_type": "stream",
     "text": [
      "720\n"
     ]
    }
   ],
   "source": [
    "num_str = \"720\"\n",
    "num_int=int(num_str)\n",
    "print(num_int)"
   ]
  },
  {
   "cell_type": "markdown",
   "id": "8b60e2e2",
   "metadata": {},
   "source": [
    "#### 017 정수 100을 문자열 '100'으로 변환해보세요.\n",
    "\n",
    "num = 100"
   ]
  },
  {
   "cell_type": "code",
   "execution_count": 45,
   "id": "57502808",
   "metadata": {},
   "outputs": [],
   "source": [
    "num=100"
   ]
  },
  {
   "cell_type": "code",
   "execution_count": 47,
   "id": "26bdb217",
   "metadata": {},
   "outputs": [
    {
     "name": "stdout",
     "output_type": "stream",
     "text": [
      "100\n"
     ]
    }
   ],
   "source": [
    "num_str=str(num)\n",
    "print(num_str)"
   ]
  },
  {
   "cell_type": "markdown",
   "id": "f4e836b2",
   "metadata": {},
   "source": [
    "#### 018 문자열 \"15.79\"를 실수(float) 타입으로 변환해보세요."
   ]
  },
  {
   "cell_type": "code",
   "execution_count": 48,
   "id": "e77bd438",
   "metadata": {},
   "outputs": [
    {
     "name": "stdout",
     "output_type": "stream",
     "text": [
      "15.79\n"
     ]
    }
   ],
   "source": [
    "str=\"15.79\"\n",
    "a=float(str)\n",
    "print(a)"
   ]
  },
  {
   "cell_type": "markdown",
   "id": "26e70983",
   "metadata": {},
   "source": [
    "#### 019 year라는 변수가 문자열 타입의 연도를 바인딩하고 있습니다. 이를 정수로 변환한 후 최근 3년의 연도를 화면에 출력해보세요.\n",
    "\n",
    "year = \"2020\""
   ]
  },
  {
   "cell_type": "code",
   "execution_count": 74,
   "id": "351a16d4",
   "metadata": {},
   "outputs": [
    {
     "name": "stdout",
     "output_type": "stream",
     "text": [
      "2019\n",
      "2018\n",
      "2017\n"
     ]
    }
   ],
   "source": [
    "year=\"2020\"\n",
    "print(int(year)-1)\n",
    "print(int(year)-2)\n",
    "print(int(year)-3)"
   ]
  },
  {
   "cell_type": "markdown",
   "id": "5667de65",
   "metadata": {},
   "source": [
    "#### 020 에이컨이 월 48,584원에 무이자 36개월의 조건으로 홈쇼핑에서 판매되고 있습니다. 총 금액은 계산한 후 이를 화면에 출력해보세요. (변수사용하기)"
   ]
  },
  {
   "cell_type": "code",
   "execution_count": 76,
   "id": "f38e8a99",
   "metadata": {},
   "outputs": [
    {
     "name": "stdout",
     "output_type": "stream",
     "text": [
      "1749024\n"
     ]
    }
   ],
   "source": [
    "월요금=48584\n",
    "총금액=월요금*36\n",
    "print(총금액)"
   ]
  },
  {
   "cell_type": "markdown",
   "id": "1b9c164c",
   "metadata": {},
   "source": [
    "#### 021 letters가 바인딩하는 문자열에서 첫번째와 세번째 문자를 출력하세요.\n",
    "\n",
    "letters = 'python'   \n",
    "\n",
    "실행 예   \n",
    "p t"
   ]
  },
  {
   "cell_type": "code",
   "execution_count": 77,
   "id": "f64835c9",
   "metadata": {},
   "outputs": [
    {
     "name": "stdout",
     "output_type": "stream",
     "text": [
      "p t\n"
     ]
    }
   ],
   "source": [
    "letters = 'python'   \n",
    "print(letters[0], letters[2])"
   ]
  },
  {
   "cell_type": "markdown",
   "id": "e528202f",
   "metadata": {},
   "source": [
    "#### 022 자동차 번호가 다음과 같을 때 뒤에 4자리만 출력하세요.\n",
    "\n",
    "license_plate = \"24가 2210\"   \n",
    "실행 예: 2210"
   ]
  },
  {
   "cell_type": "code",
   "execution_count": 79,
   "id": "f047846f",
   "metadata": {},
   "outputs": [
    {
     "name": "stdout",
     "output_type": "stream",
     "text": [
      "2210\n"
     ]
    }
   ],
   "source": [
    "license_plate = \"24가 2210\"   \n",
    "print(license_plate[-4:])"
   ]
  },
  {
   "cell_type": "markdown",
   "id": "55380f31",
   "metadata": {},
   "source": [
    "#### 023 아래의 문자열에서 '홀' 만 출력하세요.\n",
    "\n",
    "string = \"홀짝홀짝홀짝\"   \n",
    "실행 예:   \n",
    "홀홀홀"
   ]
  },
  {
   "cell_type": "code",
   "execution_count": 83,
   "id": "0c2a69f1",
   "metadata": {},
   "outputs": [
    {
     "name": "stdout",
     "output_type": "stream",
     "text": [
      "홀홀홀\n"
     ]
    }
   ],
   "source": [
    "string = \"홀짝홀짝홀짝\"   \n",
    "print(string[::2])"
   ]
  },
  {
   "cell_type": "markdown",
   "id": "f45a6fe0",
   "metadata": {},
   "source": [
    "#### 024 문자열을 거꾸로 뒤집어 출력하세요.\n",
    "\n",
    "string = \"PYTHON\"   \n",
    "\n",
    "실행 예:   \n",
    "NOHTYP"
   ]
  },
  {
   "cell_type": "code",
   "execution_count": 91,
   "id": "1a4417a5",
   "metadata": {},
   "outputs": [
    {
     "name": "stdout",
     "output_type": "stream",
     "text": [
      "NOHTYP\n"
     ]
    }
   ],
   "source": [
    "string = \"PYTHON\"\n",
    "a=string[::-1]\n",
    "print(a)"
   ]
  },
  {
   "cell_type": "markdown",
   "id": "26babbc7",
   "metadata": {},
   "source": [
    "#### 025 아래의 전화번호에서 하이푼 ('-')을 제거하고 출력하세요.\n",
    "\n",
    "phone_number = \"010-1111-2222\"\n",
    "\n",
    "실행 예   \n",
    "010 1111 2222"
   ]
  },
  {
   "cell_type": "code",
   "execution_count": 3,
   "id": "e6022353",
   "metadata": {},
   "outputs": [
    {
     "name": "stdout",
     "output_type": "stream",
     "text": [
      "010 1111 2222\n"
     ]
    }
   ],
   "source": [
    "phone_number = \"010-1111-2222\"\n",
    "re=phone_number.replace('-',' ')\n",
    "print(re)"
   ]
  },
  {
   "cell_type": "markdown",
   "id": "170816e2",
   "metadata": {},
   "source": [
    "#### 25번 문제의 전화번호를 아래와 같이 모두 붙여 출력하세요.\n",
    "\n",
    "실행 예   \n",
    "01011112222"
   ]
  },
  {
   "cell_type": "code",
   "execution_count": 7,
   "id": "f0da99fe",
   "metadata": {},
   "outputs": [
    {
     "name": "stdout",
     "output_type": "stream",
     "text": [
      "01011112222\n"
     ]
    }
   ],
   "source": [
    "mo=phone_number.replace('-','')\n",
    "print(mo)"
   ]
  },
  {
   "cell_type": "markdown",
   "id": "198881de",
   "metadata": {},
   "source": [
    "#### 027 문자열 다루기\n",
    "url 에 저장된 웹 페이지 주소에서 도메인을 출력하세요.\n",
    "\n",
    "url = \"http://sharebook.kr\"   \n",
    "\n",
    "실행 예:   \n",
    "kr"
   ]
  },
  {
   "cell_type": "code",
   "execution_count": 12,
   "id": "1a0d1dce",
   "metadata": {},
   "outputs": [
    {
     "name": "stdout",
     "output_type": "stream",
     "text": [
      "kr\n"
     ]
    }
   ],
   "source": [
    "url = \"http://sharebook.kr\"  \n",
    "url_split=url.split('.')\n",
    "print(url_split[-1])"
   ]
  },
  {
   "cell_type": "markdown",
   "id": "e51caba1",
   "metadata": {},
   "source": [
    "#### 028 문자열은 immutable\n",
    "아래 코드의 실행 결과를 예상해보세요.\n",
    "\n",
    "lang = 'python'   \n",
    "lang[0] = 'P'   \n",
    "print(lang)"
   ]
  },
  {
   "cell_type": "markdown",
   "id": "8981f74d",
   "metadata": {},
   "source": [
    "문자열은 수정이 불가능하므로, error가 발생한다"
   ]
  },
  {
   "cell_type": "code",
   "execution_count": 21,
   "id": "220e4095",
   "metadata": {},
   "outputs": [
    {
     "ename": "TypeError",
     "evalue": "'str' object does not support item assignment",
     "output_type": "error",
     "traceback": [
      "\u001b[1;31m---------------------------------------------------------------------------\u001b[0m",
      "\u001b[1;31mTypeError\u001b[0m                                 Traceback (most recent call last)",
      "Cell \u001b[1;32mIn[21], line 2\u001b[0m\n\u001b[0;32m      1\u001b[0m lang \u001b[38;5;241m=\u001b[39m \u001b[38;5;124m'\u001b[39m\u001b[38;5;124mpython\u001b[39m\u001b[38;5;124m'\u001b[39m   \n\u001b[1;32m----> 2\u001b[0m lang[\u001b[38;5;241m0\u001b[39m] \u001b[38;5;241m=\u001b[39m \u001b[38;5;124m'\u001b[39m\u001b[38;5;124mP\u001b[39m\u001b[38;5;124m'\u001b[39m   \n\u001b[0;32m      3\u001b[0m \u001b[38;5;28mprint\u001b[39m(lang)\n",
      "\u001b[1;31mTypeError\u001b[0m: 'str' object does not support item assignment"
     ]
    }
   ],
   "source": [
    "lang = 'python'   \n",
    "lang[0] = 'P'   \n",
    "print(lang)"
   ]
  },
  {
   "cell_type": "markdown",
   "id": "4993f291",
   "metadata": {},
   "source": [
    "#### 029 replace 메서드\n",
    "아래 문자열에서 소문자 'a'를 대문자 'A'로 변경하세요.\n",
    "\n",
    "string = 'abcdfe2a354a32a'\n",
    "\n",
    "실행 예:    \n",
    "Abcdfe2A354A32A"
   ]
  },
  {
   "cell_type": "code",
   "execution_count": 22,
   "id": "61901d75",
   "metadata": {},
   "outputs": [
    {
     "name": "stdout",
     "output_type": "stream",
     "text": [
      "Abcdfe2A354A32A\n"
     ]
    }
   ],
   "source": [
    "string = 'abcdfe2a354a32a'\n",
    "string=string.replace('a', 'A')\n",
    "print(string)"
   ]
  },
  {
   "cell_type": "markdown",
   "id": "081a6821",
   "metadata": {},
   "source": [
    "#### 030 replace 메서드\n",
    "아래 코드의 실행 결과를 예상해보세요.\n",
    "\n",
    "string = 'abcd'     \n",
    "string.replace('b', 'B')   \n",
    "print(string)"
   ]
  },
  {
   "cell_type": "markdown",
   "id": "67e0075f",
   "metadata": {},
   "source": [
    "string을 그대로 출력하는 것이므로 'abcd'노출"
   ]
  },
  {
   "cell_type": "code",
   "execution_count": 23,
   "id": "d0b5b051",
   "metadata": {},
   "outputs": [
    {
     "name": "stdout",
     "output_type": "stream",
     "text": [
      "abcd\n"
     ]
    }
   ],
   "source": [
    "string = 'abcd'     \n",
    "string.replace('b', 'B')   \n",
    "print(string)"
   ]
  },
  {
   "cell_type": "markdown",
   "id": "7548764b",
   "metadata": {},
   "source": [
    "#### 031 문자열 합치기\n",
    "아래 코드의 실행 결과를 예상해보세요.\n",
    "\n",
    "a = \"3\"   \n",
    "b = \"4\"   \n",
    "print(a + b)"
   ]
  },
  {
   "cell_type": "markdown",
   "id": "4729e2cd",
   "metadata": {},
   "source": [
    "34 -> 이렇게 노출된다."
   ]
  },
  {
   "cell_type": "code",
   "execution_count": 24,
   "id": "2d691c0e",
   "metadata": {},
   "outputs": [
    {
     "name": "stdout",
     "output_type": "stream",
     "text": [
      "34\n"
     ]
    }
   ],
   "source": [
    "a = \"3\"   \n",
    "b = \"4\"   \n",
    "print(a + b)"
   ]
  },
  {
   "cell_type": "markdown",
   "id": "5215b464",
   "metadata": {},
   "source": [
    "#### 032 문자열 곱하기\n",
    "아래 코드의 실행 결과를 예상해보세요.\n",
    "\n",
    "print(\"Hi\" * 3)"
   ]
  },
  {
   "cell_type": "markdown",
   "id": "07af2d1f",
   "metadata": {},
   "source": [
    "HiHiHi -> 이렇게 노출된다."
   ]
  },
  {
   "cell_type": "code",
   "execution_count": 26,
   "id": "e57a2c02",
   "metadata": {},
   "outputs": [
    {
     "name": "stdout",
     "output_type": "stream",
     "text": [
      "HiHiHi\n"
     ]
    }
   ],
   "source": [
    "print(\"Hi\" * 3)"
   ]
  },
  {
   "cell_type": "markdown",
   "id": "6766df2b",
   "metadata": {},
   "source": [
    "#### 033 문자열 곱하기\n",
    "화면에 '-'를 80개 출력하세요."
   ]
  },
  {
   "cell_type": "code",
   "execution_count": 27,
   "id": "531e4dfd",
   "metadata": {},
   "outputs": [
    {
     "name": "stdout",
     "output_type": "stream",
     "text": [
      "--------------------------------------------------------------------------------\n"
     ]
    }
   ],
   "source": [
    "print('-'*80)"
   ]
  },
  {
   "cell_type": "markdown",
   "id": "26bba743",
   "metadata": {},
   "source": [
    "#### 034 문자열 곱하기\n",
    "변수에 다음과 같은 문자열이 바인딩되어 있습니다.\n",
    "\n",
    "t1 = 'python'   \n",
    "t2 = 'java'   \n",
    "변수에 문자열 더하기와 문자열 곱하기를 사용해서 아래와 같이 출력해보세요.\n",
    "\n",
    "실행 예:   \n",
    "python java python java python java python java"
   ]
  },
  {
   "cell_type": "code",
   "execution_count": 28,
   "id": "6ae5f25d",
   "metadata": {},
   "outputs": [],
   "source": [
    "t1 = 'python'   \n",
    "t2 = 'java' "
   ]
  },
  {
   "cell_type": "code",
   "execution_count": 40,
   "id": "356fc7aa",
   "metadata": {},
   "outputs": [
    {
     "name": "stdout",
     "output_type": "stream",
     "text": [
      "python java python java python java python java \n"
     ]
    }
   ],
   "source": [
    "a=t1+' '+t2+' '\n",
    "print(a*4)"
   ]
  },
  {
   "cell_type": "markdown",
   "id": "9e9ff750",
   "metadata": {},
   "source": [
    "#### 035 변수에 다음과 같이 문자열과 정수가 바인딩되어 있을 때 % formatting을 사용해서 다음과 같이 출력해보세요.\n",
    "\n",
    "name1 = \"김민수\"   \n",
    "age1 = 10   \n",
    "name2 = \"이철희\"   \n",
    "age2 = 13   \n",
    "이름: 김민수 나이: 10   \n",
    "이름: 이철희 나이: 13"
   ]
  },
  {
   "cell_type": "code",
   "execution_count": 41,
   "id": "a34d0aa9",
   "metadata": {},
   "outputs": [],
   "source": [
    "name1 = \"김민수\"   \n",
    "age1 = 10   \n",
    "name2 = \"이철희\"   \n",
    "age2 = 13  "
   ]
  },
  {
   "cell_type": "code",
   "execution_count": 47,
   "id": "381b5071",
   "metadata": {},
   "outputs": [
    {
     "name": "stdout",
     "output_type": "stream",
     "text": [
      "이름: 김민수 나이: 10\n",
      "이름: 이철희 나이: 13\n"
     ]
    }
   ],
   "source": [
    "print('이름: %s 나이: %d' %(name1, age1))\n",
    "print('이름: %s 나이: %d' %(name2, age2))"
   ]
  },
  {
   "cell_type": "markdown",
   "id": "fc6f0ad0",
   "metadata": {},
   "source": [
    "#### 036 문자열 출력\n",
    "문자열의 format( ) 메서드를 사용해서 035번 문제를 다시 풀어보세요."
   ]
  },
  {
   "cell_type": "code",
   "execution_count": 50,
   "id": "c64df591",
   "metadata": {},
   "outputs": [
    {
     "name": "stdout",
     "output_type": "stream",
     "text": [
      "이름: 김민수 나이: 10\n",
      "이름: 이철희 나이: 13\n"
     ]
    }
   ],
   "source": [
    "print('이름: {} 나이: {}'.format(name1, age1))\n",
    "print('이름: {} 나이: {}'.format(name2, age2))"
   ]
  },
  {
   "cell_type": "markdown",
   "id": "28509abb",
   "metadata": {},
   "source": [
    "#### 037 문자열 출력\n",
    "파이썬 3.6부터 지원하는 f-string을 사용해서 035번 문제를 다시 풀어보세요."
   ]
  },
  {
   "cell_type": "code",
   "execution_count": 54,
   "id": "c586608c",
   "metadata": {},
   "outputs": [
    {
     "name": "stdout",
     "output_type": "stream",
     "text": [
      "이름: 김민수 나이: 10\n",
      "이름: 이철희 나이: 13\n"
     ]
    }
   ],
   "source": [
    "print(f'이름: {name1} 나이: {age1}')\n",
    "print(f'이름: {name2} 나이: {age2}')"
   ]
  },
  {
   "cell_type": "markdown",
   "id": "868b16a2",
   "metadata": {},
   "source": [
    "#### 038 컴마 제거하기\n",
    "삼성전자의 상장주식수가 다음과 같습니다. 컴마를 제거한 후 이를 정수 타입으로 변환해보세요.\n",
    "\n",
    "상장주식수 = \"5,969,782,550\""
   ]
  },
  {
   "cell_type": "code",
   "execution_count": 55,
   "id": "21b91091",
   "metadata": {},
   "outputs": [],
   "source": [
    "상장주식수 = \"5,969,782,550\""
   ]
  },
  {
   "cell_type": "code",
   "execution_count": 56,
   "id": "57a12717",
   "metadata": {},
   "outputs": [
    {
     "name": "stdout",
     "output_type": "stream",
     "text": [
      "5969782550\n"
     ]
    }
   ],
   "source": [
    "컴마제거=상장주식수.replace(',', '')\n",
    "print(int(컴마제거))"
   ]
  },
  {
   "cell_type": "markdown",
   "id": "7635f7a1",
   "metadata": {},
   "source": [
    "#### 039 문자열 슬라이싱\n",
    "다음과 같은 문자열에서 '2020/03'만 출력하세요.\n",
    "\n",
    "분기 = \"2020/03(E) (IFRS연결)\""
   ]
  },
  {
   "cell_type": "code",
   "execution_count": 57,
   "id": "ba8b195e",
   "metadata": {},
   "outputs": [],
   "source": [
    "분기 = \"2020/03(E) (IFRS연결)\""
   ]
  },
  {
   "cell_type": "code",
   "execution_count": 60,
   "id": "abdecb2a",
   "metadata": {},
   "outputs": [
    {
     "name": "stdout",
     "output_type": "stream",
     "text": [
      "2020/03\n"
     ]
    }
   ],
   "source": [
    "print(분기[:7])"
   ]
  },
  {
   "cell_type": "markdown",
   "id": "3b3edb88",
   "metadata": {},
   "source": [
    "#### 040 문자열의 좌우의 공백이 있을 때 이를 제거해보세요.\n",
    "\n",
    "data = \"   삼성전자    \""
   ]
  },
  {
   "cell_type": "code",
   "execution_count": 62,
   "id": "de57b503",
   "metadata": {},
   "outputs": [
    {
     "name": "stdout",
     "output_type": "stream",
     "text": [
      "삼성전자\n"
     ]
    }
   ],
   "source": [
    "data = \"   삼성전자    \"\n",
    "print(data.strip())"
   ]
  },
  {
   "cell_type": "markdown",
   "id": "fb0c7c66",
   "metadata": {},
   "source": [
    "#### 041 upper 메서드\n",
    "다음과 같은 문자열이 있을 때 이를 대문자 BTC_KRW로 변경하세요.\n",
    "\n",
    "ticker = \"btc_krw\""
   ]
  },
  {
   "cell_type": "code",
   "execution_count": 63,
   "id": "dfabd981",
   "metadata": {},
   "outputs": [],
   "source": [
    "ticker = \"btc_krw\""
   ]
  },
  {
   "cell_type": "code",
   "execution_count": 64,
   "id": "16da128b",
   "metadata": {},
   "outputs": [
    {
     "name": "stdout",
     "output_type": "stream",
     "text": [
      "BTC_KRW\n"
     ]
    }
   ],
   "source": [
    "print(ticker.upper())"
   ]
  },
  {
   "cell_type": "markdown",
   "id": "de9e7886",
   "metadata": {},
   "source": [
    "#### 042 lower 메서드\n",
    "다음과 같은 문자열이 있을 때 이를 소문자 btc_krw로 변경하세요.\n",
    "\n",
    "ticker = \"BTC_KRW\""
   ]
  },
  {
   "cell_type": "code",
   "execution_count": 65,
   "id": "bd50bb38",
   "metadata": {},
   "outputs": [
    {
     "name": "stdout",
     "output_type": "stream",
     "text": [
      "btc_krw\n"
     ]
    }
   ],
   "source": [
    "print(ticker.lower())"
   ]
  },
  {
   "cell_type": "markdown",
   "id": "b10de252",
   "metadata": {},
   "source": [
    "#### 043 capitalize 메서드\n",
    "문자열 'hello'가 있을 때 이를 'Hello'로 변경해보세요."
   ]
  },
  {
   "cell_type": "code",
   "execution_count": 70,
   "id": "2d007108",
   "metadata": {},
   "outputs": [
    {
     "name": "stdout",
     "output_type": "stream",
     "text": [
      "Hello\n"
     ]
    }
   ],
   "source": [
    "a='hello'\n",
    "print(a.capitalize())"
   ]
  },
  {
   "cell_type": "markdown",
   "id": "0b82aaf2",
   "metadata": {},
   "source": [
    "#### 044 endswith 메서드\n",
    "파일 이름이 문자열로 저장되어 있을 때 endswith 메서드를 사용해서 파일 이름이 'xlsx'로 끝나는지 확인해보세요.\n",
    "\n",
    "file_name = \"보고서.xlsx\""
   ]
  },
  {
   "cell_type": "code",
   "execution_count": 75,
   "id": "e6859fb8",
   "metadata": {},
   "outputs": [
    {
     "data": {
      "text/plain": [
       "True"
      ]
     },
     "execution_count": 75,
     "metadata": {},
     "output_type": "execute_result"
    }
   ],
   "source": [
    "file_name = \"보고서.xlsx\"\n",
    "file_name.endswith('xlsx')"
   ]
  },
  {
   "cell_type": "markdown",
   "id": "b4df1c18",
   "metadata": {},
   "source": [
    "#### 045 endswith 메서드\n",
    "파일 이름이 문자열로 저장되어 있을 때 endswith 메서드를 사용해서 파일 이름이 'xlsx' 또는 'xls'로 끝나는지 확인해보세요.\n",
    "\n",
    "file_name = \"보고서.xlsx\""
   ]
  },
  {
   "cell_type": "code",
   "execution_count": 87,
   "id": "6ac657c5",
   "metadata": {},
   "outputs": [
    {
     "data": {
      "text/plain": [
       "True"
      ]
     },
     "execution_count": 87,
     "metadata": {},
     "output_type": "execute_result"
    }
   ],
   "source": [
    "file_name.endswith(('xlsx', 'xls'))"
   ]
  },
  {
   "cell_type": "markdown",
   "id": "2a5a7e29",
   "metadata": {},
   "source": [
    "#### 046 startswith 메서드\n",
    "파일 이름이 문자열로 저장되어 있을 때 startswith 메서드를 사용해서 파일 이름이 '2020'로 시작하는지 확인해보세요.\n",
    "\n",
    "file_name = \"2020_보고서.xlsx\""
   ]
  },
  {
   "cell_type": "code",
   "execution_count": 93,
   "id": "b49ed8e4",
   "metadata": {},
   "outputs": [
    {
     "data": {
      "text/plain": [
       "True"
      ]
     },
     "execution_count": 93,
     "metadata": {},
     "output_type": "execute_result"
    }
   ],
   "source": [
    "file_name = \"2020_보고서.xlsx\"\n",
    "file_name.startswith('2020')"
   ]
  },
  {
   "cell_type": "markdown",
   "id": "58422051",
   "metadata": {},
   "source": [
    "#### 047 split 메서드\n",
    "다음과 같은 문자열이 있을 때 공백을 기준으로 문자열을 나눠보세요.\n",
    "\n",
    "a = \"hello world\""
   ]
  },
  {
   "cell_type": "code",
   "execution_count": 95,
   "id": "c6b5ec79",
   "metadata": {},
   "outputs": [
    {
     "data": {
      "text/plain": [
       "['hello', 'world']"
      ]
     },
     "execution_count": 95,
     "metadata": {},
     "output_type": "execute_result"
    }
   ],
   "source": [
    "a = \"hello world\"\n",
    "a.split()"
   ]
  },
  {
   "cell_type": "markdown",
   "id": "003f42a6",
   "metadata": {},
   "source": [
    "#### 048 split 메서드\n",
    "다음과 같이 문자열이 있을 때 btc와 krw로 나눠보세요.\n",
    "\n",
    "ticker = \"btc_krw\""
   ]
  },
  {
   "cell_type": "code",
   "execution_count": 97,
   "id": "0621eee6",
   "metadata": {},
   "outputs": [
    {
     "data": {
      "text/plain": [
       "['btc', 'krw']"
      ]
     },
     "execution_count": 97,
     "metadata": {},
     "output_type": "execute_result"
    }
   ],
   "source": [
    "ticker = \"btc_krw\"\n",
    "ticker.split('_')"
   ]
  },
  {
   "cell_type": "markdown",
   "id": "d7526c62",
   "metadata": {},
   "source": [
    "#### 049 split 메서드\n",
    "다음과 같이 날짜를 표현하는 문자열이 있을 때 연도, 월, 일로 나눠보세요.\n",
    "\n",
    "date = \"2020-05-01\""
   ]
  },
  {
   "cell_type": "code",
   "execution_count": 100,
   "id": "4f14ff8f",
   "metadata": {},
   "outputs": [
    {
     "name": "stdout",
     "output_type": "stream",
     "text": [
      "2020 05 01\n"
     ]
    }
   ],
   "source": [
    "date = \"2020-05-01\"\n",
    "year=date.split('-')[0]\n",
    "month=date.split('-')[1]\n",
    "day=date.split('-')[2]\n",
    "\n",
    "print(year, month, day)"
   ]
  },
  {
   "cell_type": "markdown",
   "id": "425f4caa",
   "metadata": {},
   "source": [
    "#### 050 rstrip 메서드\n",
    "문자열의 오른쪽에 공백이 있을 때 이를 제거해보세요.\n",
    "\n",
    "data = \"039490     \""
   ]
  },
  {
   "cell_type": "code",
   "execution_count": 103,
   "id": "7496357c",
   "metadata": {},
   "outputs": [
    {
     "name": "stdout",
     "output_type": "stream",
     "text": [
      "039490\n"
     ]
    }
   ],
   "source": [
    "data = \"039490     \"\n",
    "print(data.rstrip())"
   ]
  },
  {
   "cell_type": "code",
   "execution_count": null,
   "id": "9a7052a8",
   "metadata": {},
   "outputs": [],
   "source": []
  }
 ],
 "metadata": {
  "kernelspec": {
   "display_name": "Python 3 (ipykernel)",
   "language": "python",
   "name": "python3"
  },
  "language_info": {
   "codemirror_mode": {
    "name": "ipython",
    "version": 3
   },
   "file_extension": ".py",
   "mimetype": "text/x-python",
   "name": "python",
   "nbconvert_exporter": "python",
   "pygments_lexer": "ipython3",
   "version": "3.11.5"
  }
 },
 "nbformat": 4,
 "nbformat_minor": 5
}
