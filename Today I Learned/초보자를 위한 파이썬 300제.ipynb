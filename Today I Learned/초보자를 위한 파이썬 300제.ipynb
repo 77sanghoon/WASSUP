{
 "cells": [
  {
   "cell_type": "markdown",
   "id": "3a0e4efc",
   "metadata": {},
   "source": [
    "#### 001 화면에 Hello World 문자열을 출력하세요."
   ]
  },
  {
   "cell_type": "code",
   "execution_count": 1,
   "id": "350ee83f",
   "metadata": {},
   "outputs": [
    {
     "name": "stdout",
     "output_type": "stream",
     "text": [
      "Hello World\n"
     ]
    }
   ],
   "source": [
    "print('Hello World')"
   ]
  },
  {
   "cell_type": "markdown",
   "id": "10e3f43c",
   "metadata": {},
   "source": [
    "#### 002 화면에 Mary's cosmetics을 출력하세요. (중간에 '가 있음에 주의하세요)"
   ]
  },
  {
   "cell_type": "code",
   "execution_count": 2,
   "id": "97ac94a1",
   "metadata": {},
   "outputs": [
    {
     "name": "stdout",
     "output_type": "stream",
     "text": [
      "Mary's cosmetics\n"
     ]
    }
   ],
   "source": [
    "print(\"Mary's cosmetics\")"
   ]
  },
  {
   "cell_type": "markdown",
   "id": "8b0925d0",
   "metadata": {},
   "source": [
    "#### 003 화면에 아래 문장을 출력하세요. (중간에 \"가 있음에 주의하세요.)\n",
    "신씨가 소리질렀다. \"도둑이야\"."
   ]
  },
  {
   "cell_type": "code",
   "execution_count": 3,
   "id": "c9bd35c0",
   "metadata": {},
   "outputs": [
    {
     "name": "stdout",
     "output_type": "stream",
     "text": [
      "신씨가 소리질렀다. \"도둑이야\".\n"
     ]
    }
   ],
   "source": [
    "print('신씨가 소리질렀다. \"도둑이야\".')"
   ]
  },
  {
   "cell_type": "markdown",
   "id": "11c69e9d",
   "metadata": {},
   "source": [
    "#### 004 화면에 C:\\Windows를 출력하세요."
   ]
  },
  {
   "cell_type": "code",
   "execution_count": 8,
   "id": "43f1a768",
   "metadata": {},
   "outputs": [
    {
     "name": "stdout",
     "output_type": "stream",
     "text": [
      "C:\\Windows\n"
     ]
    }
   ],
   "source": [
    "print('C:\\Windows')"
   ]
  },
  {
   "cell_type": "markdown",
   "id": "531455d4",
   "metadata": {},
   "source": [
    "#### 005 다음 코드를 실행해보고 \\t와 \\n의 역할을 설명해보세요.\n",
    "\n",
    "print(\"안녕하세요.\\n만나서\\t\\t반갑습니다.\")"
   ]
  },
  {
   "cell_type": "code",
   "execution_count": 9,
   "id": "40e6c15d",
   "metadata": {},
   "outputs": [
    {
     "name": "stdout",
     "output_type": "stream",
     "text": [
      "안녕하세요.\n",
      "만나서\t\t반갑습니다.\n"
     ]
    }
   ],
   "source": [
    "print(\"안녕하세요.\\n만나서\\t\\t반갑습니다.\")"
   ]
  },
  {
   "cell_type": "markdown",
   "id": "07903540",
   "metadata": {},
   "source": [
    "\\n은 줄바꿈, \\t는 탭 "
   ]
  },
  {
   "cell_type": "markdown",
   "id": "2c6f3d21",
   "metadata": {},
   "source": [
    "#### 006 print 함수에 두 개의 단어를 입력한 예제입니다. 아래 코드의 출력 결과를 예상해봅시다.\n",
    "print (\"오늘은\", \"일요일\")"
   ]
  },
  {
   "cell_type": "markdown",
   "id": "55970a56",
   "metadata": {},
   "source": [
    "오늘은 일요일 -> 이렇게 노출될 것이다."
   ]
  },
  {
   "cell_type": "code",
   "execution_count": 10,
   "id": "eef46b96",
   "metadata": {},
   "outputs": [
    {
     "name": "stdout",
     "output_type": "stream",
     "text": [
      "오늘은 일요일\n"
     ]
    }
   ],
   "source": [
    "print (\"오늘은\", \"일요일\")"
   ]
  },
  {
   "cell_type": "markdown",
   "id": "0e9748e1",
   "metadata": {},
   "source": [
    "#### 007 print() 함수를 사용하여 다음과 같이 출력하세요.\n",
    "naver;kakao;sk;samsung"
   ]
  },
  {
   "cell_type": "code",
   "execution_count": 19,
   "id": "b13dd55a",
   "metadata": {},
   "outputs": [
    {
     "name": "stdout",
     "output_type": "stream",
     "text": [
      "naver;kakao;sk;samsung\n"
     ]
    }
   ],
   "source": [
    "print('naver', 'kakao', 'sk', 'samsung', sep=';')"
   ]
  },
  {
   "cell_type": "markdown",
   "id": "425ebf92",
   "metadata": {},
   "source": [
    "#### 008 print() 함수를 사용하여 다음과 같이 출력하세요.\n",
    "naver/kakao/sk/samsung"
   ]
  },
  {
   "cell_type": "code",
   "execution_count": 20,
   "id": "557c10fc",
   "metadata": {},
   "outputs": [
    {
     "name": "stdout",
     "output_type": "stream",
     "text": [
      "naver/kakao/sk/samsung\n"
     ]
    }
   ],
   "source": [
    "print('naver', 'kakao', 'sk', 'samsung', sep='/')"
   ]
  },
  {
   "cell_type": "markdown",
   "id": "a21b6730",
   "metadata": {},
   "source": [
    "#### 009 다음 코드를 수정하여 줄바꿈이 없이 출력하세요. (힌트: end='') print 함수는 두 번 사용합니다. 세미콜론 (;)은 한줄에 여러 개의 명령을 작성하기 위해 사용합니다.\n",
    "print(\"first\");print(\"second\")"
   ]
  },
  {
   "cell_type": "code",
   "execution_count": 23,
   "id": "7f0952d9",
   "metadata": {},
   "outputs": [
    {
     "name": "stdout",
     "output_type": "stream",
     "text": [
      "firstsecond\n"
     ]
    }
   ],
   "source": [
    "print(\"first\", end='');print(\"second\")"
   ]
  },
  {
   "cell_type": "markdown",
   "id": "018db9ee",
   "metadata": {},
   "source": [
    "#### 010 5/3의 결과를 화면에 출력하세요."
   ]
  },
  {
   "cell_type": "code",
   "execution_count": 24,
   "id": "1c0cfda7",
   "metadata": {},
   "outputs": [
    {
     "name": "stdout",
     "output_type": "stream",
     "text": [
      "1.6666666666666667\n"
     ]
    }
   ],
   "source": [
    "print(5/3)"
   ]
  },
  {
   "cell_type": "markdown",
   "id": "b3e19d54",
   "metadata": {},
   "source": [
    "---"
   ]
  },
  {
   "cell_type": "markdown",
   "id": "64ee6310",
   "metadata": {},
   "source": [
    "#### 011 삼성전자라는 변수로 50,000원을 바인딩해보세요. 삼성전자 주식 10주를 보유하고 있을 때 총 평가금액을 출력하세요."
   ]
  },
  {
   "cell_type": "code",
   "execution_count": 30,
   "id": "372465a5",
   "metadata": {},
   "outputs": [],
   "source": [
    "삼성전자=50000\n",
    "총평가금액=삼성전자*10"
   ]
  },
  {
   "cell_type": "code",
   "execution_count": 31,
   "id": "0f4e57e4",
   "metadata": {},
   "outputs": [
    {
     "name": "stdout",
     "output_type": "stream",
     "text": [
      "500000\n"
     ]
    }
   ],
   "source": [
    "print(총평가금액)"
   ]
  },
  {
   "cell_type": "markdown",
   "id": "126e0897",
   "metadata": {},
   "source": [
    "#### 012 다음 표는 삼성전자의 일부 투자정보입니다. 변수를 사용해서 시가총액, 현재가, PER 등을 바인딩해보세요.\n",
    "\n",
    "항목\t값\n",
    "시가총액\t298조\n",
    "현재가\t50,000원\n",
    "PER\t15.79"
   ]
  },
  {
   "cell_type": "code",
   "execution_count": 33,
   "id": "ac788294",
   "metadata": {},
   "outputs": [],
   "source": [
    "시가총액=298000000000000\n",
    "현재가=50000\n",
    "PER=15.79"
   ]
  },
  {
   "cell_type": "code",
   "execution_count": 34,
   "id": "2a27d8c3",
   "metadata": {},
   "outputs": [
    {
     "name": "stdout",
     "output_type": "stream",
     "text": [
      "298000000000000 <class 'int'>\n",
      "50000 <class 'int'>\n",
      "15.79 <class 'float'>\n"
     ]
    }
   ],
   "source": [
    "print(시가총액, type(시가총액))\n",
    "print(현재가, type(현재가))\n",
    "print(PER, type(PER))"
   ]
  },
  {
   "cell_type": "markdown",
   "id": "74ec34d5",
   "metadata": {},
   "source": [
    "#### 013 변수 s와 t에는 각각 문자열이 바인딩 되어있습니다.\n",
    "\n",
    "s = \"hello\"   \n",
    "t = \"python\"\n",
    "\n",
    "두 변수를 이용하여 아래와 같이 출력해보세요.\n",
    "\n",
    "실행 예:\n",
    "hello! python"
   ]
  },
  {
   "cell_type": "code",
   "execution_count": 36,
   "id": "fff1bc57",
   "metadata": {},
   "outputs": [],
   "source": [
    "s = \"hello\"   \n",
    "t = \"python\""
   ]
  },
  {
   "cell_type": "code",
   "execution_count": 39,
   "id": "4fd8090d",
   "metadata": {},
   "outputs": [
    {
     "name": "stdout",
     "output_type": "stream",
     "text": [
      "hello! python\n"
     ]
    }
   ],
   "source": [
    "print(s+'!', t)"
   ]
  },
  {
   "cell_type": "markdown",
   "id": "0401f3f2",
   "metadata": {},
   "source": [
    "#### 014 아래 코드의 실행 결과를 예상해보세요.\n",
    "2 + 2 * 3 "
   ]
  },
  {
   "cell_type": "markdown",
   "id": "230c41d5",
   "metadata": {},
   "source": [
    "8 -> 예상 실행결과"
   ]
  },
  {
   "cell_type": "code",
   "execution_count": 40,
   "id": "79381538",
   "metadata": {},
   "outputs": [
    {
     "name": "stdout",
     "output_type": "stream",
     "text": [
      "8\n"
     ]
    }
   ],
   "source": [
    "print(2 + 2 * 3 )"
   ]
  },
  {
   "cell_type": "markdown",
   "id": "604acd1b",
   "metadata": {},
   "source": [
    "#### 015 type() 함수는 데이터 타입을 판별합니다. 변수 a에는 128 숫자가 바인딩돼 있어 type 함수가 int (정수)형임을 알려줍니다.\n",
    "\n",
    "a = 128   \n",
    "print (type(a))   \n",
    "<class 'int'>\n",
    "\n",
    "아래 변수에 바인딩된 값의 타입을 판별해보세요.\n",
    "\n",
    "a = \"132\""
   ]
  },
  {
   "cell_type": "markdown",
   "id": "a50e427b",
   "metadata": {},
   "source": [
    "string(문자열)로 판별"
   ]
  },
  {
   "cell_type": "code",
   "execution_count": 41,
   "id": "ccb326ba",
   "metadata": {},
   "outputs": [
    {
     "name": "stdout",
     "output_type": "stream",
     "text": [
      "<class 'str'>\n"
     ]
    }
   ],
   "source": [
    "a = \"132\"\n",
    "print(type(a))"
   ]
  },
  {
   "cell_type": "markdown",
   "id": "c0916ea1",
   "metadata": {},
   "source": [
    "#### 016 문자열 '720'를 정수형으로 변환해보세요.\n",
    "\n",
    "num_str = \"720\""
   ]
  },
  {
   "cell_type": "code",
   "execution_count": 44,
   "id": "d97cfb77",
   "metadata": {},
   "outputs": [
    {
     "name": "stdout",
     "output_type": "stream",
     "text": [
      "720\n"
     ]
    }
   ],
   "source": [
    "num_str = \"720\"\n",
    "num_int=int(num_str)\n",
    "print(num_int)"
   ]
  },
  {
   "cell_type": "markdown",
   "id": "8b60e2e2",
   "metadata": {},
   "source": [
    "#### 017 정수 100을 문자열 '100'으로 변환해보세요.\n",
    "\n",
    "num = 100"
   ]
  },
  {
   "cell_type": "code",
   "execution_count": 45,
   "id": "57502808",
   "metadata": {},
   "outputs": [],
   "source": [
    "num=100"
   ]
  },
  {
   "cell_type": "code",
   "execution_count": 47,
   "id": "26bdb217",
   "metadata": {},
   "outputs": [
    {
     "name": "stdout",
     "output_type": "stream",
     "text": [
      "100\n"
     ]
    }
   ],
   "source": [
    "num_str=str(num)\n",
    "print(num_str)"
   ]
  },
  {
   "cell_type": "markdown",
   "id": "f4e836b2",
   "metadata": {},
   "source": [
    "#### 018 문자열 \"15.79\"를 실수(float) 타입으로 변환해보세요."
   ]
  },
  {
   "cell_type": "code",
   "execution_count": 48,
   "id": "e77bd438",
   "metadata": {},
   "outputs": [
    {
     "name": "stdout",
     "output_type": "stream",
     "text": [
      "15.79\n"
     ]
    }
   ],
   "source": [
    "str=\"15.79\"\n",
    "a=float(str)\n",
    "print(a)"
   ]
  },
  {
   "cell_type": "markdown",
   "id": "26e70983",
   "metadata": {},
   "source": [
    "#### 019 year라는 변수가 문자열 타입의 연도를 바인딩하고 있습니다. 이를 정수로 변환한 후 최근 3년의 연도를 화면에 출력해보세요.\n",
    "\n",
    "year = \"2020\""
   ]
  },
  {
   "cell_type": "code",
   "execution_count": 74,
   "id": "351a16d4",
   "metadata": {},
   "outputs": [
    {
     "name": "stdout",
     "output_type": "stream",
     "text": [
      "2019\n",
      "2018\n",
      "2017\n"
     ]
    }
   ],
   "source": [
    "year=\"2020\"\n",
    "print(int(year)-1)\n",
    "print(int(year)-2)\n",
    "print(int(year)-3)"
   ]
  },
  {
   "cell_type": "markdown",
   "id": "5667de65",
   "metadata": {},
   "source": [
    "#### 020 에이컨이 월 48,584원에 무이자 36개월의 조건으로 홈쇼핑에서 판매되고 있습니다. 총 금액은 계산한 후 이를 화면에 출력해보세요. (변수사용하기)"
   ]
  },
  {
   "cell_type": "code",
   "execution_count": 76,
   "id": "f38e8a99",
   "metadata": {},
   "outputs": [
    {
     "name": "stdout",
     "output_type": "stream",
     "text": [
      "1749024\n"
     ]
    }
   ],
   "source": [
    "월요금=48584\n",
    "총금액=월요금*36\n",
    "print(총금액)"
   ]
  },
  {
   "cell_type": "markdown",
   "id": "1b9c164c",
   "metadata": {},
   "source": [
    "#### 021 letters가 바인딩하는 문자열에서 첫번째와 세번째 문자를 출력하세요.\n",
    "\n",
    "letters = 'python'   \n",
    "\n",
    "실행 예   \n",
    "p t"
   ]
  },
  {
   "cell_type": "code",
   "execution_count": 77,
   "id": "f64835c9",
   "metadata": {},
   "outputs": [
    {
     "name": "stdout",
     "output_type": "stream",
     "text": [
      "p t\n"
     ]
    }
   ],
   "source": [
    "letters = 'python'   \n",
    "print(letters[0], letters[2])"
   ]
  },
  {
   "cell_type": "markdown",
   "id": "e528202f",
   "metadata": {},
   "source": [
    "#### 022 자동차 번호가 다음과 같을 때 뒤에 4자리만 출력하세요.\n",
    "\n",
    "license_plate = \"24가 2210\"   \n",
    "실행 예: 2210"
   ]
  },
  {
   "cell_type": "code",
   "execution_count": 79,
   "id": "f047846f",
   "metadata": {},
   "outputs": [
    {
     "name": "stdout",
     "output_type": "stream",
     "text": [
      "2210\n"
     ]
    }
   ],
   "source": [
    "license_plate = \"24가 2210\"   \n",
    "print(license_plate[-4:])"
   ]
  },
  {
   "cell_type": "markdown",
   "id": "55380f31",
   "metadata": {},
   "source": [
    "#### 023 아래의 문자열에서 '홀' 만 출력하세요.\n",
    "\n",
    "string = \"홀짝홀짝홀짝\"   \n",
    "실행 예:   \n",
    "홀홀홀"
   ]
  },
  {
   "cell_type": "code",
   "execution_count": 83,
   "id": "0c2a69f1",
   "metadata": {},
   "outputs": [
    {
     "name": "stdout",
     "output_type": "stream",
     "text": [
      "홀홀홀\n"
     ]
    }
   ],
   "source": [
    "string = \"홀짝홀짝홀짝\"   \n",
    "print(string[::2])"
   ]
  },
  {
   "cell_type": "markdown",
   "id": "f45a6fe0",
   "metadata": {},
   "source": [
    "#### 024 문자열을 거꾸로 뒤집어 출력하세요.\n",
    "\n",
    "string = \"PYTHON\"   \n",
    "\n",
    "실행 예:   \n",
    "NOHTYP"
   ]
  },
  {
   "cell_type": "code",
   "execution_count": 91,
   "id": "1a4417a5",
   "metadata": {},
   "outputs": [
    {
     "name": "stdout",
     "output_type": "stream",
     "text": [
      "NOHTYP\n"
     ]
    }
   ],
   "source": [
    "string = \"PYTHON\"\n",
    "a=string[::-1]\n",
    "print(a)"
   ]
  },
  {
   "cell_type": "markdown",
   "id": "26babbc7",
   "metadata": {},
   "source": [
    "#### 025 아래의 전화번호에서 하이푼 ('-')을 제거하고 출력하세요.\n",
    "\n",
    "phone_number = \"010-1111-2222\"\n",
    "\n",
    "실행 예   \n",
    "010 1111 2222"
   ]
  },
  {
   "cell_type": "code",
   "execution_count": 93,
   "id": "e6022353",
   "metadata": {},
   "outputs": [
    {
     "name": "stdout",
     "output_type": "stream",
     "text": [
      "010 1111 2222\n"
     ]
    }
   ],
   "source": [
    "phone_number = \"010-1111-2222\"\n",
    "re=phone_number.replace('-',' ')\n",
    "print(re)"
   ]
  },
  {
   "cell_type": "code",
   "execution_count": null,
   "id": "f0da99fe",
   "metadata": {},
   "outputs": [],
   "source": []
  }
 ],
 "metadata": {
  "kernelspec": {
   "display_name": "Python 3 (ipykernel)",
   "language": "python",
   "name": "python3"
  },
  "language_info": {
   "codemirror_mode": {
    "name": "ipython",
    "version": 3
   },
   "file_extension": ".py",
   "mimetype": "text/x-python",
   "name": "python",
   "nbconvert_exporter": "python",
   "pygments_lexer": "ipython3",
   "version": "3.11.5"
  }
 },
 "nbformat": 4,
 "nbformat_minor": 5
}
