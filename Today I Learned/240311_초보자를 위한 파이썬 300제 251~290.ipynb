{
 "cells": [
  {
   "cell_type": "markdown",
   "id": "eb442da3",
   "metadata": {},
   "source": [
    "## 251 클래스, 객체, 인스턴스\n",
    "클래스와 객체에 대해 설명해봅시다."
   ]
  },
  {
   "cell_type": "markdown",
   "id": "b431cca8",
   "metadata": {},
   "source": [
    "클래스 : 일종의 설계도로, 하나의 타입을 정의하는 방법. 관련 데이터와 함수를 모아 클래소로 정의 가능  \n",
    "객체 : 클래스로 만들어진 결과물"
   ]
  },
  {
   "cell_type": "markdown",
   "id": "d695ab8b",
   "metadata": {},
   "source": [
    "## 252 클래스 정의\n",
    "비어있는 사람 (Human) 클래스를 \"정의\" 해보세요."
   ]
  },
  {
   "cell_type": "code",
   "execution_count": 7,
   "id": "d789a3d0",
   "metadata": {},
   "outputs": [],
   "source": [
    "class Human:\n",
    "    pass"
   ]
  },
  {
   "cell_type": "markdown",
   "id": "2e377a0a",
   "metadata": {},
   "source": [
    "## 253 인스턴스 생성\n",
    "사람 (Human) 클래스의 인스턴스를 \"생성\" 하고 이를 areum 변수로 바인딩해보세요."
   ]
  },
  {
   "cell_type": "code",
   "execution_count": 2,
   "id": "5d1a2ec6",
   "metadata": {},
   "outputs": [],
   "source": [
    "areum = Human()"
   ]
  },
  {
   "cell_type": "markdown",
   "id": "fed8d7fb",
   "metadata": {},
   "source": [
    "## 254 클래스 생성자-1\n",
    "사람 (Human) 클래스에 \"응애응애\"를 출력하는 생성자를 추가하세요.\n",
    "\n",
    "areum = Human()  \n",
    "응애응애"
   ]
  },
  {
   "cell_type": "code",
   "execution_count": 8,
   "id": "9917dafa",
   "metadata": {},
   "outputs": [],
   "source": [
    "class Human:\n",
    "    def __init__(self):\n",
    "        print('응애응애')"
   ]
  },
  {
   "cell_type": "code",
   "execution_count": 9,
   "id": "4c64206f",
   "metadata": {},
   "outputs": [
    {
     "name": "stdout",
     "output_type": "stream",
     "text": [
      "응애응애\n"
     ]
    }
   ],
   "source": [
    "areum = Human()"
   ]
  },
  {
   "cell_type": "markdown",
   "id": "eb24ed02",
   "metadata": {},
   "source": [
    "## 255 클래스 생성자-2\n",
    "사람 (Human) 클래스에 (이름, 나이, 성별)을 받는 생성자를 추가하세요.\n",
    "\n",
    "areum = Human(\"아름\", 25, \"여자\")"
   ]
  },
  {
   "cell_type": "code",
   "execution_count": 11,
   "id": "56462a18",
   "metadata": {},
   "outputs": [],
   "source": [
    "class Human:\n",
    "    def __init__(self, name, age, sex):\n",
    "        self.name = name\n",
    "        self.age = age\n",
    "        self.sex = sex"
   ]
  },
  {
   "cell_type": "code",
   "execution_count": 12,
   "id": "07eb1a4d",
   "metadata": {},
   "outputs": [],
   "source": [
    "areum = Human(\"아름\", 25, \"여자\")"
   ]
  },
  {
   "cell_type": "code",
   "execution_count": 17,
   "id": "13c16bc8",
   "metadata": {},
   "outputs": [
    {
     "name": "stdout",
     "output_type": "stream",
     "text": [
      "여자\n"
     ]
    }
   ],
   "source": [
    "print(areum.sex)"
   ]
  },
  {
   "cell_type": "markdown",
   "id": "1befaa93",
   "metadata": {},
   "source": [
    "## 256 인스턴스 속성에 접근\n",
    "255에서 생성한 인스턴스의 이름, 나이, 성별을 출력하세요. 인스턴스 변수에 접근하여 값을 출력하면 됩니다.\n",
    "\n",
    "이름: 조아름, 나이: 25, 성별: 여자  \n",
    "인스턴스 변수에 접근하여 값을 가져오는 예\n",
    "\n",
    "areum.age  \n",
    "25"
   ]
  },
  {
   "cell_type": "code",
   "execution_count": 18,
   "id": "c1e5ff15",
   "metadata": {},
   "outputs": [
    {
     "data": {
      "text/plain": [
       "'아름'"
      ]
     },
     "execution_count": 18,
     "metadata": {},
     "output_type": "execute_result"
    }
   ],
   "source": [
    "areum.name"
   ]
  },
  {
   "cell_type": "code",
   "execution_count": 19,
   "id": "8521c9dd",
   "metadata": {},
   "outputs": [
    {
     "data": {
      "text/plain": [
       "25"
      ]
     },
     "execution_count": 19,
     "metadata": {},
     "output_type": "execute_result"
    }
   ],
   "source": [
    "areum.age"
   ]
  },
  {
   "cell_type": "code",
   "execution_count": 20,
   "id": "41b63857",
   "metadata": {},
   "outputs": [
    {
     "data": {
      "text/plain": [
       "'여자'"
      ]
     },
     "execution_count": 20,
     "metadata": {},
     "output_type": "execute_result"
    }
   ],
   "source": [
    "areum.sex"
   ]
  },
  {
   "cell_type": "markdown",
   "id": "18561528",
   "metadata": {},
   "source": [
    "## 257 클래스 메소드 - 1\n",
    "사람 (Human) 클래스에서 이름, 나이, 성별을 출력하는 who() 메소드를 추가하세요.\n",
    "\n",
    "areum.who()  \n",
    "이름: 조아름, 나이: 25, 성별: 여자"
   ]
  },
  {
   "cell_type": "code",
   "execution_count": 23,
   "id": "5e098156",
   "metadata": {},
   "outputs": [],
   "source": [
    "class Human:\n",
    "    def __init__(self, name, age, sex):\n",
    "        self.name = name\n",
    "        self.age = age\n",
    "        self.sex = sex\n",
    "    def who(self):\n",
    "        print(f'이름: {self.name}, 나이: {self.age}, 성별: {self.sex}')"
   ]
  },
  {
   "cell_type": "code",
   "execution_count": 25,
   "id": "b1083969",
   "metadata": {},
   "outputs": [],
   "source": [
    "areum = Human(\"조아름\", 25, \"여자\")"
   ]
  },
  {
   "cell_type": "code",
   "execution_count": 26,
   "id": "55acdd36",
   "metadata": {},
   "outputs": [
    {
     "name": "stdout",
     "output_type": "stream",
     "text": [
      "이름: 조아름, 나이: 25, 성별: 여자\n"
     ]
    }
   ],
   "source": [
    "areum.who()"
   ]
  },
  {
   "cell_type": "markdown",
   "id": "e709d7b4",
   "metadata": {},
   "source": [
    "## 258 클래스 메소드 - 2\n",
    "사람 (Human) 클래스에 (이름, 나이, 성별)을 받는 setInfo 메소드를 추가하세요.\n",
    "\n",
    "areum = Human(\"모름\", 0, \"모름\")  \n",
    "areum.setInfo(\"아름\", 25, \"여자\")"
   ]
  },
  {
   "cell_type": "code",
   "execution_count": 29,
   "id": "f1ee858b",
   "metadata": {},
   "outputs": [],
   "source": [
    "class Human:\n",
    "    def __init__(self, name, age, sex):\n",
    "        self.name = name\n",
    "        self.age = age\n",
    "        self.sex = sex\n",
    "    def who(self):\n",
    "        print(f'이름: {self.name}, 나이: {self.age}, 성별: {self.sex}')\n",
    "    def setInfo(self, name, age, sex):\n",
    "        self.name = name\n",
    "        self.age = age\n",
    "        self.sex = sex"
   ]
  },
  {
   "cell_type": "code",
   "execution_count": 30,
   "id": "606f5d9b",
   "metadata": {},
   "outputs": [],
   "source": [
    "areum = Human(\"모름\", 0, \"모름\")"
   ]
  },
  {
   "cell_type": "code",
   "execution_count": 31,
   "id": "6913b8fd",
   "metadata": {},
   "outputs": [
    {
     "name": "stdout",
     "output_type": "stream",
     "text": [
      "이름: 모름, 나이: 0, 성별: 모름\n"
     ]
    }
   ],
   "source": [
    "areum.who()"
   ]
  },
  {
   "cell_type": "code",
   "execution_count": 34,
   "id": "dc9da2ac",
   "metadata": {},
   "outputs": [],
   "source": [
    "areum.setInfo(\"아름\", 25, \"여자\")"
   ]
  },
  {
   "cell_type": "code",
   "execution_count": 35,
   "id": "85a15431",
   "metadata": {},
   "outputs": [
    {
     "name": "stdout",
     "output_type": "stream",
     "text": [
      "이름: 아름, 나이: 25, 성별: 여자\n"
     ]
    }
   ],
   "source": [
    "areum.who()"
   ]
  },
  {
   "cell_type": "markdown",
   "id": "53f37675",
   "metadata": {},
   "source": [
    "## 259 클래스 소멸자\n",
    "사람 (human) 클래스에 \"나의 죽음을 알리지 말라\"를 출력하는 소멸자를 추가하세요.\n",
    "\n",
    "areum = Human(\"아름\", 25, \"여자\")  \n",
    "del areum  \n",
    "나의 죽음을 알리지 말라"
   ]
  },
  {
   "cell_type": "code",
   "execution_count": 36,
   "id": "c933f4a9",
   "metadata": {},
   "outputs": [],
   "source": [
    "class Human:\n",
    "    def __init__(self, name, age, sex):\n",
    "        self.name = name\n",
    "        self.age = age\n",
    "        self.sex = sex\n",
    "    def __del__(self):\n",
    "        print(\"나의 죽음을 알리지마라\")\n",
    "    def who(self):\n",
    "        print(f'이름: {self.name}, 나이: {self.age}, 성별: {self.sex}')\n",
    "    def setInfo(self, name, age, sex):\n",
    "        self.name = name\n",
    "        self.age = age\n",
    "        self.sex = sex"
   ]
  },
  {
   "cell_type": "code",
   "execution_count": 37,
   "id": "033372cd",
   "metadata": {},
   "outputs": [],
   "source": [
    "areum = Human(\"아름\", 25, \"여자\")"
   ]
  },
  {
   "cell_type": "code",
   "execution_count": 38,
   "id": "2760e752",
   "metadata": {},
   "outputs": [
    {
     "name": "stdout",
     "output_type": "stream",
     "text": [
      "이름: 아름, 나이: 25, 성별: 여자\n"
     ]
    }
   ],
   "source": [
    "areum.who()"
   ]
  },
  {
   "cell_type": "code",
   "execution_count": 39,
   "id": "3dd036fd",
   "metadata": {},
   "outputs": [
    {
     "name": "stdout",
     "output_type": "stream",
     "text": [
      "나의 죽음을 알리지마라\n"
     ]
    }
   ],
   "source": [
    "del(areum)"
   ]
  },
  {
   "cell_type": "code",
   "execution_count": 40,
   "id": "053a464e",
   "metadata": {},
   "outputs": [
    {
     "ename": "NameError",
     "evalue": "name 'areum' is not defined",
     "output_type": "error",
     "traceback": [
      "\u001b[1;31m---------------------------------------------------------------------------\u001b[0m",
      "\u001b[1;31mNameError\u001b[0m                                 Traceback (most recent call last)",
      "Cell \u001b[1;32mIn[40], line 1\u001b[0m\n\u001b[1;32m----> 1\u001b[0m areum\u001b[38;5;241m.\u001b[39mwho()\n",
      "\u001b[1;31mNameError\u001b[0m: name 'areum' is not defined"
     ]
    }
   ],
   "source": [
    "areum.who()"
   ]
  },
  {
   "cell_type": "markdown",
   "id": "342bda04",
   "metadata": {},
   "source": [
    "## 260 에러의 원인\n",
    "아래와 같은 에러가 발생한 원인에 대해 설명하세요.\n",
    "\n",
    "class OMG :  \n",
    "    def print() :  \n",
    "        print(\"Oh my god\")  \n",
    "\n",
    "myStock = OMG()  \n",
    "myStock.print()  \n",
    "TypeError Traceback (most recent call last)  \n",
    "<ipython-input-233-c85c04535b22> in <module>()  \n",
    "----> myStock.print()  \n",
    " \n",
    "TypeError: print() takes 0 positional arguments but 1 was given"
   ]
  },
  {
   "cell_type": "markdown",
   "id": "b0be50d3",
   "metadata": {},
   "source": [
    "def print() 에서 self가 들어가있지 않다."
   ]
  },
  {
   "cell_type": "code",
   "execution_count": 50,
   "id": "3326e830",
   "metadata": {},
   "outputs": [],
   "source": [
    "class OMG :  \n",
    "    def print(self) :  \n",
    "        print(\"Oh my god\")  "
   ]
  },
  {
   "cell_type": "code",
   "execution_count": 51,
   "id": "7105e623",
   "metadata": {},
   "outputs": [],
   "source": [
    "myStock = OMG() "
   ]
  },
  {
   "cell_type": "code",
   "execution_count": 52,
   "id": "b31c8f81",
   "metadata": {},
   "outputs": [
    {
     "name": "stdout",
     "output_type": "stream",
     "text": [
      "Oh my god\n"
     ]
    }
   ],
   "source": [
    "myStock.print()"
   ]
  },
  {
   "cell_type": "markdown",
   "id": "d5d8b142",
   "metadata": {},
   "source": [
    "## 261 Stock 클래스 생성\n",
    "주식 종목에 대한 정보를 저장하는 Stock 클래스를 정의해보세요. 클래스는 속성과 메서드를 갖고 있지 않습니다."
   ]
  },
  {
   "cell_type": "code",
   "execution_count": 2,
   "id": "2a0ba26c",
   "metadata": {},
   "outputs": [],
   "source": [
    "class Stock:\n",
    "    pass"
   ]
  },
  {
   "cell_type": "markdown",
   "id": "bdefa745",
   "metadata": {},
   "source": [
    "## 262 생성자\n",
    "Stock 클래스의 객체가 생성될 때 종목명과 종목코드를 입력 받을 수 있도록 생성자를 정의해보세요.\n",
    "\n",
    "삼성 = Stock(\"삼성전자\", \"005930\")"
   ]
  },
  {
   "cell_type": "code",
   "execution_count": 3,
   "id": "4c6c5f91",
   "metadata": {},
   "outputs": [],
   "source": [
    "class Stock:\n",
    "    def __init__(self, name, code):\n",
    "        self.name = name\n",
    "        self.code = code"
   ]
  },
  {
   "cell_type": "code",
   "execution_count": 4,
   "id": "a1cf775e",
   "metadata": {},
   "outputs": [],
   "source": [
    "삼성 = Stock(\"삼성전자\", \"005930\")"
   ]
  },
  {
   "cell_type": "code",
   "execution_count": 5,
   "id": "2b48940d",
   "metadata": {},
   "outputs": [
    {
     "name": "stdout",
     "output_type": "stream",
     "text": [
      "삼성전자\n"
     ]
    }
   ],
   "source": [
    "print(삼성.name)"
   ]
  },
  {
   "cell_type": "markdown",
   "id": "0de13fde",
   "metadata": {},
   "source": [
    "## 263 메서드\n",
    "객체에 종목명을 입력할 수 있는 set_name 메서드를 추가해보세요.\n",
    "\n",
    "a = Stock(None, None)  \n",
    "a.set_name(\"삼성전자\")\n"
   ]
  },
  {
   "cell_type": "code",
   "execution_count": 18,
   "id": "acf94c1f",
   "metadata": {},
   "outputs": [],
   "source": [
    "class Stock:\n",
    "    def __init__(self, name, code):\n",
    "        self.name = name\n",
    "        self.code = code\n",
    "        \n",
    "    def set_name(self, name):\n",
    "        self.name = name"
   ]
  },
  {
   "cell_type": "code",
   "execution_count": 19,
   "id": "fbf68083",
   "metadata": {},
   "outputs": [],
   "source": [
    "a = Stock(None, None) "
   ]
  },
  {
   "cell_type": "code",
   "execution_count": 20,
   "id": "fc28cdca",
   "metadata": {},
   "outputs": [],
   "source": [
    "a.set_name(\"삼성전자\")"
   ]
  },
  {
   "cell_type": "code",
   "execution_count": 21,
   "id": "c304f338",
   "metadata": {},
   "outputs": [
    {
     "name": "stdout",
     "output_type": "stream",
     "text": [
      "삼성전자\n"
     ]
    }
   ],
   "source": [
    "print(a.name)"
   ]
  },
  {
   "cell_type": "markdown",
   "id": "4fdb6052",
   "metadata": {},
   "source": [
    "## 264 메서드\n",
    "객체에 종목코드를 입력할 수 있는 set_code 메서드를 추가해보세요.\n",
    "\n",
    "a = Stock(None, None)  \n",
    "a.set_code(\"005930\")"
   ]
  },
  {
   "cell_type": "code",
   "execution_count": 34,
   "id": "b174a794",
   "metadata": {},
   "outputs": [],
   "source": [
    "class Stock:\n",
    "    def __init__(self, name, code):\n",
    "        self.name = name\n",
    "        self.code = code\n",
    "        \n",
    "    def set_name(self, name):\n",
    "        self.name = name\n",
    "        \n",
    "    def set_code(self, code):\n",
    "        self.code = code"
   ]
  },
  {
   "cell_type": "code",
   "execution_count": 36,
   "id": "c2172678",
   "metadata": {},
   "outputs": [],
   "source": [
    "a = Stock(None, None)"
   ]
  },
  {
   "cell_type": "code",
   "execution_count": 37,
   "id": "6950e016",
   "metadata": {},
   "outputs": [],
   "source": [
    "a.set_code(\"005234\")"
   ]
  },
  {
   "cell_type": "code",
   "execution_count": 38,
   "id": "296021d1",
   "metadata": {},
   "outputs": [
    {
     "name": "stdout",
     "output_type": "stream",
     "text": [
      "005234\n"
     ]
    }
   ],
   "source": [
    "print(a.code)"
   ]
  },
  {
   "cell_type": "markdown",
   "id": "f438941c",
   "metadata": {},
   "source": [
    "## 265 메서드\n",
    "종목명과 종목코드를 리턴하는 get_name, get_code 메서드를 추가하세요. 해당 메서드를 사용하여 종목명과 종목코드를 얻고 이를 출력해보세요.\n",
    "\n",
    "삼성 = Stock(\"삼성전자\", \"005930\")"
   ]
  },
  {
   "cell_type": "code",
   "execution_count": 46,
   "id": "911f8e13",
   "metadata": {},
   "outputs": [],
   "source": [
    "class Stock:\n",
    "    def __init__(self, name, code):\n",
    "        self.name = name\n",
    "        self.code = code\n",
    "        \n",
    "    def set_name(self, name):\n",
    "        self.name = name\n",
    "        \n",
    "    def set_code(self, code):\n",
    "        self.code = code\n",
    "    \n",
    "    def get_name(self):\n",
    "        return self.name\n",
    "    \n",
    "    def get_code(self):\n",
    "        return self.code"
   ]
  },
  {
   "cell_type": "code",
   "execution_count": 47,
   "id": "17fd055a",
   "metadata": {},
   "outputs": [],
   "source": [
    "삼성 = Stock(\"삼성전자\", \"005930\")"
   ]
  },
  {
   "cell_type": "code",
   "execution_count": 52,
   "id": "22c5f07a",
   "metadata": {},
   "outputs": [
    {
     "name": "stdout",
     "output_type": "stream",
     "text": [
      "삼성전자\n"
     ]
    }
   ],
   "source": [
    "print(삼성.get_name())"
   ]
  },
  {
   "cell_type": "code",
   "execution_count": 53,
   "id": "2aac11f5",
   "metadata": {},
   "outputs": [
    {
     "name": "stdout",
     "output_type": "stream",
     "text": [
      "005930\n"
     ]
    }
   ],
   "source": [
    "print(삼성.get_code())"
   ]
  },
  {
   "cell_type": "markdown",
   "id": "d6643f71",
   "metadata": {},
   "source": [
    "## 266 객체의 속성값 업데이트\n",
    "생성자에서 종목명, 종목코드, PER, PBR, 배당수익률을 입력 받을 수 있도록 생성자를 수정하세요. PER, PBR, 배당수익률은 float 타입입니다."
   ]
  },
  {
   "cell_type": "code",
   "execution_count": 56,
   "id": "e52f5fee",
   "metadata": {},
   "outputs": [],
   "source": [
    "class Stock:\n",
    "    def __init__(self, name, code, PER, PBR, revenue):\n",
    "        self.name = name\n",
    "        self.code = code\n",
    "        self.PER = PER\n",
    "        self.PBR = PBR\n",
    "        self.revenue = revenue\n",
    "        \n",
    "    def set_name(self, name):\n",
    "        self.name = name\n",
    "        \n",
    "    def set_code(self, code):\n",
    "        self.code = code\n",
    "    \n",
    "    def get_name(self):\n",
    "        return self.name\n",
    "    \n",
    "    def get_code(self):\n",
    "        return self.code"
   ]
  },
  {
   "cell_type": "markdown",
   "id": "49690f89",
   "metadata": {},
   "source": [
    "## 267 객체 생성\n",
    "266번에서 정의한 생성자를 통해 다음 정보를 갖는 객체를 생성해보세요.\n",
    " \n",
    "항목\t정보  \n",
    "종목명\t삼성전자  \n",
    "종목코드\t005930  \n",
    "PER\t15.79  \n",
    "PBR\t1.33  \n",
    "배당수익률\t2.83  "
   ]
  },
  {
   "cell_type": "code",
   "execution_count": 59,
   "id": "cf935479",
   "metadata": {},
   "outputs": [],
   "source": [
    "삼성전자 = Stock('삼성전자', '005930', 15.79, 1.33, 2.83)"
   ]
  },
  {
   "cell_type": "markdown",
   "id": "af5144e5",
   "metadata": {},
   "source": [
    "## 268 객체의 속성 수정\n",
    "PER, PBR, 배당수익률은 변경될 수 있는 값입니다. 이 값을 변경할 때 사용하는 set_per, set_pbr, set_dividend 메서드를 추가하세요."
   ]
  },
  {
   "cell_type": "code",
   "execution_count": 61,
   "id": "efea9a9a",
   "metadata": {},
   "outputs": [],
   "source": [
    "class Stock:\n",
    "    def __init__(self, name, code, per, pbr, dividend):\n",
    "        self.name = name\n",
    "        self.code = code\n",
    "        self.per = per\n",
    "        self.pbr = pbr\n",
    "        self.dividend = dividend\n",
    "        \n",
    "    def set_name(self, name):\n",
    "        self.name = name\n",
    "        \n",
    "    def set_code(self, code):\n",
    "        self.code = code\n",
    "    \n",
    "    def get_name(self):\n",
    "        return self.name\n",
    "    \n",
    "    def get_code(self):\n",
    "        return self.code\n",
    "    \n",
    "    def set_per(self, per):\n",
    "        self.per = per\n",
    "    \n",
    "    def set_pbr(self, pbr):\n",
    "        self.pbr = pbr\n",
    "        \n",
    "    def set_dividend(self, dividend):\n",
    "        self.dividend = dividend"
   ]
  },
  {
   "cell_type": "markdown",
   "id": "b6fc3df6",
   "metadata": {},
   "source": [
    "## 269 객체의 속성 수정\n",
    "267번에서 생성한 객체에 set_per 메서드를 호출하여 per 값을 12.75로 수정해보세요."
   ]
  },
  {
   "cell_type": "code",
   "execution_count": 62,
   "id": "1b94c813",
   "metadata": {},
   "outputs": [],
   "source": [
    "삼성전자 = Stock('삼성전자', '005930', 15.79, 1.33, 2.83)"
   ]
  },
  {
   "cell_type": "code",
   "execution_count": 63,
   "id": "62192ba5",
   "metadata": {},
   "outputs": [],
   "source": [
    "삼성전자.set_per(12.75)"
   ]
  },
  {
   "cell_type": "code",
   "execution_count": 64,
   "id": "b9eb481e",
   "metadata": {},
   "outputs": [
    {
     "name": "stdout",
     "output_type": "stream",
     "text": [
      "12.75\n"
     ]
    }
   ],
   "source": [
    "print(삼성전자.per)"
   ]
  },
  {
   "cell_type": "markdown",
   "id": "c2637299",
   "metadata": {},
   "source": [
    "## 270 여러 종목의 객체 생성\n",
    "아래의 표를 참조하여 3종목에 대해 객체를 생성하고 이를 파이썬 리스트에 저장하세요. 파이썬 리스트에 저장된 각 종목에 대해 for 루프를 통해 종목코드와 PER을 출력해보세요.\n",
    "\n",
    "종목명\t종목코드\tPER\tPBR\t배당수익률  \n",
    "삼성전자\t005930\t15.79\t1.33\t2.83  \n",
    "현대차\t005380\t8.70\t0.35\t4.27  \n",
    "LG전자\t066570\t317.34\t0.69\t1.37  "
   ]
  },
  {
   "cell_type": "code",
   "execution_count": 66,
   "id": "d298171a",
   "metadata": {},
   "outputs": [],
   "source": [
    "삼성전자 = Stock('삼성전자', '005930', 15.79, 1.33, 2.83)\n",
    "현대차 = Stock('현대차', '005380', 8.70, 0.35, 4.27)\n",
    "LG전자 = Stock('LG전자', '066570', 317.34, 0.69, 1.37)"
   ]
  },
  {
   "cell_type": "code",
   "execution_count": 68,
   "id": "0cb82a49",
   "metadata": {},
   "outputs": [],
   "source": [
    "list=[삼성전자, 현대차, LG전자]"
   ]
  },
  {
   "cell_type": "code",
   "execution_count": 70,
   "id": "8c32924c",
   "metadata": {},
   "outputs": [
    {
     "name": "stdout",
     "output_type": "stream",
     "text": [
      "005930 15.79\n",
      "005380 8.7\n",
      "066570 317.34\n"
     ]
    }
   ],
   "source": [
    "for i in range(3):\n",
    "    print(list[i].code, list[i].per)"
   ]
  },
  {
   "cell_type": "markdown",
   "id": "2507c2bd",
   "metadata": {},
   "source": [
    "## 271 Account 클래스\n",
    "은행에 가서 계좌를 개설하면 은행이름, 예금주, 계좌번호, 잔액이 설정됩니다. Account 클래스를 생성한 후 생성자를 구현해보세요. 생성자에서는 예금주와 초기 잔액만 입력 받습니다. 은행이름은 SC은행으로 계좌번호는 3자리-2자리-6자리 형태로 랜덤하게 생성됩니다.\n",
    "\n",
    "은행이름: SC은행  \n",
    "계좌번호: 111-11-111111"
   ]
  },
  {
   "cell_type": "code",
   "execution_count": null,
   "id": "8fc2c08d",
   "metadata": {},
   "outputs": [],
   "source": []
  }
 ],
 "metadata": {
  "kernelspec": {
   "display_name": "Python 3 (ipykernel)",
   "language": "python",
   "name": "python3"
  },
  "language_info": {
   "codemirror_mode": {
    "name": "ipython",
    "version": 3
   },
   "file_extension": ".py",
   "mimetype": "text/x-python",
   "name": "python",
   "nbconvert_exporter": "python",
   "pygments_lexer": "ipython3",
   "version": "3.11.5"
  }
 },
 "nbformat": 4,
 "nbformat_minor": 5
}
