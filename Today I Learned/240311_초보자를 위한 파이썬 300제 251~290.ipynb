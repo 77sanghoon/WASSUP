{
 "cells": [
  {
   "cell_type": "markdown",
   "id": "eb442da3",
   "metadata": {},
   "source": [
    "## 251 클래스, 객체, 인스턴스\n",
    "클래스와 객체에 대해 설명해봅시다."
   ]
  },
  {
   "cell_type": "markdown",
   "id": "b431cca8",
   "metadata": {},
   "source": [
    "클래스 : 일종의 설계도로, 하나의 타입을 정의하는 방법. 관련 데이터와 함수를 모아 클래소로 정의 가능  \n",
    "객체 : 클래스로 만들어진 결과물"
   ]
  },
  {
   "cell_type": "markdown",
   "id": "d695ab8b",
   "metadata": {},
   "source": [
    "## 252 클래스 정의\n",
    "비어있는 사람 (Human) 클래스를 \"정의\" 해보세요."
   ]
  },
  {
   "cell_type": "code",
   "execution_count": 7,
   "id": "d789a3d0",
   "metadata": {},
   "outputs": [],
   "source": [
    "class Human:\n",
    "    pass"
   ]
  },
  {
   "cell_type": "markdown",
   "id": "2e377a0a",
   "metadata": {},
   "source": [
    "## 253 인스턴스 생성\n",
    "사람 (Human) 클래스의 인스턴스를 \"생성\" 하고 이를 areum 변수로 바인딩해보세요."
   ]
  },
  {
   "cell_type": "code",
   "execution_count": 2,
   "id": "5d1a2ec6",
   "metadata": {},
   "outputs": [],
   "source": [
    "areum = Human()"
   ]
  },
  {
   "cell_type": "markdown",
   "id": "fed8d7fb",
   "metadata": {},
   "source": [
    "## 254 클래스 생성자-1\n",
    "사람 (Human) 클래스에 \"응애응애\"를 출력하는 생성자를 추가하세요.\n",
    "\n",
    "areum = Human()  \n",
    "응애응애"
   ]
  },
  {
   "cell_type": "code",
   "execution_count": 8,
   "id": "9917dafa",
   "metadata": {},
   "outputs": [],
   "source": [
    "class Human:\n",
    "    def __init__(self):\n",
    "        print('응애응애')"
   ]
  },
  {
   "cell_type": "code",
   "execution_count": 9,
   "id": "4c64206f",
   "metadata": {},
   "outputs": [
    {
     "name": "stdout",
     "output_type": "stream",
     "text": [
      "응애응애\n"
     ]
    }
   ],
   "source": [
    "areum = Human()"
   ]
  },
  {
   "cell_type": "markdown",
   "id": "eb24ed02",
   "metadata": {},
   "source": [
    "## 255 클래스 생성자-2\n",
    "사람 (Human) 클래스에 (이름, 나이, 성별)을 받는 생성자를 추가하세요.\n",
    "\n",
    "areum = Human(\"아름\", 25, \"여자\")"
   ]
  },
  {
   "cell_type": "code",
   "execution_count": 11,
   "id": "56462a18",
   "metadata": {},
   "outputs": [],
   "source": [
    "class Human:\n",
    "    def __init__(self, name, age, sex):\n",
    "        self.name = name\n",
    "        self.age = age\n",
    "        self.sex = sex"
   ]
  },
  {
   "cell_type": "code",
   "execution_count": 12,
   "id": "07eb1a4d",
   "metadata": {},
   "outputs": [],
   "source": [
    "areum = Human(\"아름\", 25, \"여자\")"
   ]
  },
  {
   "cell_type": "code",
   "execution_count": 17,
   "id": "13c16bc8",
   "metadata": {},
   "outputs": [
    {
     "name": "stdout",
     "output_type": "stream",
     "text": [
      "여자\n"
     ]
    }
   ],
   "source": [
    "print(areum.sex)"
   ]
  },
  {
   "cell_type": "markdown",
   "id": "1befaa93",
   "metadata": {},
   "source": [
    "## 256 인스턴스 속성에 접근\n",
    "255에서 생성한 인스턴스의 이름, 나이, 성별을 출력하세요. 인스턴스 변수에 접근하여 값을 출력하면 됩니다.\n",
    "\n",
    "이름: 조아름, 나이: 25, 성별: 여자  \n",
    "인스턴스 변수에 접근하여 값을 가져오는 예\n",
    "\n",
    "areum.age  \n",
    "25"
   ]
  },
  {
   "cell_type": "code",
   "execution_count": 18,
   "id": "c1e5ff15",
   "metadata": {},
   "outputs": [
    {
     "data": {
      "text/plain": [
       "'아름'"
      ]
     },
     "execution_count": 18,
     "metadata": {},
     "output_type": "execute_result"
    }
   ],
   "source": [
    "areum.name"
   ]
  },
  {
   "cell_type": "code",
   "execution_count": 19,
   "id": "8521c9dd",
   "metadata": {},
   "outputs": [
    {
     "data": {
      "text/plain": [
       "25"
      ]
     },
     "execution_count": 19,
     "metadata": {},
     "output_type": "execute_result"
    }
   ],
   "source": [
    "areum.age"
   ]
  },
  {
   "cell_type": "code",
   "execution_count": 20,
   "id": "41b63857",
   "metadata": {},
   "outputs": [
    {
     "data": {
      "text/plain": [
       "'여자'"
      ]
     },
     "execution_count": 20,
     "metadata": {},
     "output_type": "execute_result"
    }
   ],
   "source": [
    "areum.sex"
   ]
  },
  {
   "cell_type": "markdown",
   "id": "18561528",
   "metadata": {},
   "source": [
    "## 257 클래스 메소드 - 1\n",
    "사람 (Human) 클래스에서 이름, 나이, 성별을 출력하는 who() 메소드를 추가하세요.\n",
    "\n",
    "areum.who()  \n",
    "이름: 조아름, 나이: 25, 성별: 여자"
   ]
  },
  {
   "cell_type": "code",
   "execution_count": 23,
   "id": "5e098156",
   "metadata": {},
   "outputs": [],
   "source": [
    "class Human:\n",
    "    def __init__(self, name, age, sex):\n",
    "        self.name = name\n",
    "        self.age = age\n",
    "        self.sex = sex\n",
    "    def who(self):\n",
    "        print(f'이름: {self.name}, 나이: {self.age}, 성별: {self.sex}')"
   ]
  },
  {
   "cell_type": "code",
   "execution_count": 25,
   "id": "b1083969",
   "metadata": {},
   "outputs": [],
   "source": [
    "areum = Human(\"조아름\", 25, \"여자\")"
   ]
  },
  {
   "cell_type": "code",
   "execution_count": 26,
   "id": "55acdd36",
   "metadata": {},
   "outputs": [
    {
     "name": "stdout",
     "output_type": "stream",
     "text": [
      "이름: 조아름, 나이: 25, 성별: 여자\n"
     ]
    }
   ],
   "source": [
    "areum.who()"
   ]
  },
  {
   "cell_type": "markdown",
   "id": "e709d7b4",
   "metadata": {},
   "source": [
    "## 258 클래스 메소드 - 2\n",
    "사람 (Human) 클래스에 (이름, 나이, 성별)을 받는 setInfo 메소드를 추가하세요.\n",
    "\n",
    "areum = Human(\"모름\", 0, \"모름\")  \n",
    "areum.setInfo(\"아름\", 25, \"여자\")"
   ]
  },
  {
   "cell_type": "code",
   "execution_count": 29,
   "id": "f1ee858b",
   "metadata": {},
   "outputs": [],
   "source": [
    "class Human:\n",
    "    def __init__(self, name, age, sex):\n",
    "        self.name = name\n",
    "        self.age = age\n",
    "        self.sex = sex\n",
    "    def who(self):\n",
    "        print(f'이름: {self.name}, 나이: {self.age}, 성별: {self.sex}')\n",
    "    def setInfo(self, name, age, sex):\n",
    "        self.name = name\n",
    "        self.age = age\n",
    "        self.sex = sex"
   ]
  },
  {
   "cell_type": "code",
   "execution_count": 30,
   "id": "606f5d9b",
   "metadata": {},
   "outputs": [],
   "source": [
    "areum = Human(\"모름\", 0, \"모름\")"
   ]
  },
  {
   "cell_type": "code",
   "execution_count": 31,
   "id": "6913b8fd",
   "metadata": {},
   "outputs": [
    {
     "name": "stdout",
     "output_type": "stream",
     "text": [
      "이름: 모름, 나이: 0, 성별: 모름\n"
     ]
    }
   ],
   "source": [
    "areum.who()"
   ]
  },
  {
   "cell_type": "code",
   "execution_count": 34,
   "id": "dc9da2ac",
   "metadata": {},
   "outputs": [],
   "source": [
    "areum.setInfo(\"아름\", 25, \"여자\")"
   ]
  },
  {
   "cell_type": "code",
   "execution_count": 35,
   "id": "85a15431",
   "metadata": {},
   "outputs": [
    {
     "name": "stdout",
     "output_type": "stream",
     "text": [
      "이름: 아름, 나이: 25, 성별: 여자\n"
     ]
    }
   ],
   "source": [
    "areum.who()"
   ]
  },
  {
   "cell_type": "markdown",
   "id": "53f37675",
   "metadata": {},
   "source": [
    "## 259 클래스 소멸자\n",
    "사람 (human) 클래스에 \"나의 죽음을 알리지 말라\"를 출력하는 소멸자를 추가하세요.\n",
    "\n",
    "areum = Human(\"아름\", 25, \"여자\")  \n",
    "del areum  \n",
    "나의 죽음을 알리지 말라"
   ]
  },
  {
   "cell_type": "code",
   "execution_count": 36,
   "id": "c933f4a9",
   "metadata": {},
   "outputs": [],
   "source": [
    "class Human:\n",
    "    def __init__(self, name, age, sex):\n",
    "        self.name = name\n",
    "        self.age = age\n",
    "        self.sex = sex\n",
    "    def __del__(self):\n",
    "        print(\"나의 죽음을 알리지마라\")\n",
    "    def who(self):\n",
    "        print(f'이름: {self.name}, 나이: {self.age}, 성별: {self.sex}')\n",
    "    def setInfo(self, name, age, sex):\n",
    "        self.name = name\n",
    "        self.age = age\n",
    "        self.sex = sex"
   ]
  },
  {
   "cell_type": "code",
   "execution_count": 37,
   "id": "033372cd",
   "metadata": {},
   "outputs": [],
   "source": [
    "areum = Human(\"아름\", 25, \"여자\")"
   ]
  },
  {
   "cell_type": "code",
   "execution_count": 38,
   "id": "2760e752",
   "metadata": {},
   "outputs": [
    {
     "name": "stdout",
     "output_type": "stream",
     "text": [
      "이름: 아름, 나이: 25, 성별: 여자\n"
     ]
    }
   ],
   "source": [
    "areum.who()"
   ]
  },
  {
   "cell_type": "code",
   "execution_count": 39,
   "id": "3dd036fd",
   "metadata": {},
   "outputs": [
    {
     "name": "stdout",
     "output_type": "stream",
     "text": [
      "나의 죽음을 알리지마라\n"
     ]
    }
   ],
   "source": [
    "del(areum)"
   ]
  },
  {
   "cell_type": "code",
   "execution_count": 40,
   "id": "053a464e",
   "metadata": {},
   "outputs": [
    {
     "ename": "NameError",
     "evalue": "name 'areum' is not defined",
     "output_type": "error",
     "traceback": [
      "\u001b[1;31m---------------------------------------------------------------------------\u001b[0m",
      "\u001b[1;31mNameError\u001b[0m                                 Traceback (most recent call last)",
      "Cell \u001b[1;32mIn[40], line 1\u001b[0m\n\u001b[1;32m----> 1\u001b[0m areum\u001b[38;5;241m.\u001b[39mwho()\n",
      "\u001b[1;31mNameError\u001b[0m: name 'areum' is not defined"
     ]
    }
   ],
   "source": [
    "areum.who()"
   ]
  },
  {
   "cell_type": "markdown",
   "id": "342bda04",
   "metadata": {},
   "source": [
    "## 260 에러의 원인\n",
    "아래와 같은 에러가 발생한 원인에 대해 설명하세요.\n",
    "\n",
    "class OMG :  \n",
    "    def print() :  \n",
    "        print(\"Oh my god\")  \n",
    "\n",
    "myStock = OMG()  \n",
    "myStock.print()  \n",
    "TypeError Traceback (most recent call last)  \n",
    "<ipython-input-233-c85c04535b22> in <module>()  \n",
    "----> myStock.print()  \n",
    " \n",
    "TypeError: print() takes 0 positional arguments but 1 was given"
   ]
  },
  {
   "cell_type": "markdown",
   "id": "b0be50d3",
   "metadata": {},
   "source": [
    "def print() 에서 self가 들어가있지 않다."
   ]
  },
  {
   "cell_type": "code",
   "execution_count": 50,
   "id": "3326e830",
   "metadata": {},
   "outputs": [],
   "source": [
    "class OMG :  \n",
    "    def print(self) :  \n",
    "        print(\"Oh my god\")  "
   ]
  },
  {
   "cell_type": "code",
   "execution_count": 51,
   "id": "7105e623",
   "metadata": {},
   "outputs": [],
   "source": [
    "myStock = OMG() "
   ]
  },
  {
   "cell_type": "code",
   "execution_count": 52,
   "id": "b31c8f81",
   "metadata": {},
   "outputs": [
    {
     "name": "stdout",
     "output_type": "stream",
     "text": [
      "Oh my god\n"
     ]
    }
   ],
   "source": [
    "myStock.print()"
   ]
  },
  {
   "cell_type": "markdown",
   "id": "d5d8b142",
   "metadata": {},
   "source": [
    "## 261 Stock 클래스 생성\n",
    "주식 종목에 대한 정보를 저장하는 Stock 클래스를 정의해보세요. 클래스는 속성과 메서드를 갖고 있지 않습니다."
   ]
  },
  {
   "cell_type": "code",
   "execution_count": 2,
   "id": "2a0ba26c",
   "metadata": {},
   "outputs": [],
   "source": [
    "class Stock:\n",
    "    pass"
   ]
  },
  {
   "cell_type": "markdown",
   "id": "bdefa745",
   "metadata": {},
   "source": [
    "## 262 생성자\n",
    "Stock 클래스의 객체가 생성될 때 종목명과 종목코드를 입력 받을 수 있도록 생성자를 정의해보세요.\n",
    "\n",
    "삼성 = Stock(\"삼성전자\", \"005930\")"
   ]
  },
  {
   "cell_type": "code",
   "execution_count": 3,
   "id": "4c6c5f91",
   "metadata": {},
   "outputs": [],
   "source": [
    "class Stock:\n",
    "    def __init__(self, name, code):\n",
    "        self.name = name\n",
    "        self.code = code"
   ]
  },
  {
   "cell_type": "code",
   "execution_count": 4,
   "id": "a1cf775e",
   "metadata": {},
   "outputs": [],
   "source": [
    "삼성 = Stock(\"삼성전자\", \"005930\")"
   ]
  },
  {
   "cell_type": "code",
   "execution_count": 5,
   "id": "2b48940d",
   "metadata": {},
   "outputs": [
    {
     "name": "stdout",
     "output_type": "stream",
     "text": [
      "삼성전자\n"
     ]
    }
   ],
   "source": [
    "print(삼성.name)"
   ]
  },
  {
   "cell_type": "markdown",
   "id": "0de13fde",
   "metadata": {},
   "source": [
    "## 263 메서드\n",
    "객체에 종목명을 입력할 수 있는 set_name 메서드를 추가해보세요.\n",
    "\n",
    "a = Stock(None, None)  \n",
    "a.set_name(\"삼성전자\")\n"
   ]
  },
  {
   "cell_type": "code",
   "execution_count": 18,
   "id": "acf94c1f",
   "metadata": {},
   "outputs": [],
   "source": [
    "class Stock:\n",
    "    def __init__(self, name, code):\n",
    "        self.name = name\n",
    "        self.code = code\n",
    "        \n",
    "    def set_name(self, name):\n",
    "        self.name = name"
   ]
  },
  {
   "cell_type": "code",
   "execution_count": 19,
   "id": "fbf68083",
   "metadata": {},
   "outputs": [],
   "source": [
    "a = Stock(None, None) "
   ]
  },
  {
   "cell_type": "code",
   "execution_count": 20,
   "id": "fc28cdca",
   "metadata": {},
   "outputs": [],
   "source": [
    "a.set_name(\"삼성전자\")"
   ]
  },
  {
   "cell_type": "code",
   "execution_count": 21,
   "id": "c304f338",
   "metadata": {},
   "outputs": [
    {
     "name": "stdout",
     "output_type": "stream",
     "text": [
      "삼성전자\n"
     ]
    }
   ],
   "source": [
    "print(a.name)"
   ]
  },
  {
   "cell_type": "markdown",
   "id": "4fdb6052",
   "metadata": {},
   "source": [
    "## 264 메서드\n",
    "객체에 종목코드를 입력할 수 있는 set_code 메서드를 추가해보세요.\n",
    "\n",
    "a = Stock(None, None)  \n",
    "a.set_code(\"005930\")"
   ]
  },
  {
   "cell_type": "code",
   "execution_count": 34,
   "id": "b174a794",
   "metadata": {},
   "outputs": [],
   "source": [
    "class Stock:\n",
    "    def __init__(self, name, code):\n",
    "        self.name = name\n",
    "        self.code = code\n",
    "        \n",
    "    def set_name(self, name):\n",
    "        self.name = name\n",
    "        \n",
    "    def set_code(self, code):\n",
    "        self.code = code"
   ]
  },
  {
   "cell_type": "code",
   "execution_count": 36,
   "id": "c2172678",
   "metadata": {},
   "outputs": [],
   "source": [
    "a = Stock(None, None)"
   ]
  },
  {
   "cell_type": "code",
   "execution_count": 37,
   "id": "6950e016",
   "metadata": {},
   "outputs": [],
   "source": [
    "a.set_code(\"005234\")"
   ]
  },
  {
   "cell_type": "code",
   "execution_count": 38,
   "id": "296021d1",
   "metadata": {},
   "outputs": [
    {
     "name": "stdout",
     "output_type": "stream",
     "text": [
      "005234\n"
     ]
    }
   ],
   "source": [
    "print(a.code)"
   ]
  },
  {
   "cell_type": "markdown",
   "id": "f438941c",
   "metadata": {},
   "source": [
    "## 265 메서드\n",
    "종목명과 종목코드를 리턴하는 get_name, get_code 메서드를 추가하세요. 해당 메서드를 사용하여 종목명과 종목코드를 얻고 이를 출력해보세요.\n",
    "\n",
    "삼성 = Stock(\"삼성전자\", \"005930\")"
   ]
  },
  {
   "cell_type": "code",
   "execution_count": 46,
   "id": "911f8e13",
   "metadata": {},
   "outputs": [],
   "source": [
    "class Stock:\n",
    "    def __init__(self, name, code):\n",
    "        self.name = name\n",
    "        self.code = code\n",
    "        \n",
    "    def set_name(self, name):\n",
    "        self.name = name\n",
    "        \n",
    "    def set_code(self, code):\n",
    "        self.code = code\n",
    "    \n",
    "    def get_name(self):\n",
    "        return self.name\n",
    "    \n",
    "    def get_code(self):\n",
    "        return self.code"
   ]
  },
  {
   "cell_type": "code",
   "execution_count": 47,
   "id": "17fd055a",
   "metadata": {},
   "outputs": [],
   "source": [
    "삼성 = Stock(\"삼성전자\", \"005930\")"
   ]
  },
  {
   "cell_type": "code",
   "execution_count": 52,
   "id": "22c5f07a",
   "metadata": {},
   "outputs": [
    {
     "name": "stdout",
     "output_type": "stream",
     "text": [
      "삼성전자\n"
     ]
    }
   ],
   "source": [
    "print(삼성.get_name())"
   ]
  },
  {
   "cell_type": "code",
   "execution_count": 53,
   "id": "2aac11f5",
   "metadata": {},
   "outputs": [
    {
     "name": "stdout",
     "output_type": "stream",
     "text": [
      "005930\n"
     ]
    }
   ],
   "source": [
    "print(삼성.get_code())"
   ]
  },
  {
   "cell_type": "markdown",
   "id": "d6643f71",
   "metadata": {},
   "source": [
    "## 266 객체의 속성값 업데이트\n",
    "생성자에서 종목명, 종목코드, PER, PBR, 배당수익률을 입력 받을 수 있도록 생성자를 수정하세요. PER, PBR, 배당수익률은 float 타입입니다."
   ]
  },
  {
   "cell_type": "code",
   "execution_count": 56,
   "id": "e52f5fee",
   "metadata": {},
   "outputs": [],
   "source": [
    "class Stock:\n",
    "    def __init__(self, name, code, PER, PBR, revenue):\n",
    "        self.name = name\n",
    "        self.code = code\n",
    "        self.PER = PER\n",
    "        self.PBR = PBR\n",
    "        self.revenue = revenue\n",
    "        \n",
    "    def set_name(self, name):\n",
    "        self.name = name\n",
    "        \n",
    "    def set_code(self, code):\n",
    "        self.code = code\n",
    "    \n",
    "    def get_name(self):\n",
    "        return self.name\n",
    "    \n",
    "    def get_code(self):\n",
    "        return self.code"
   ]
  },
  {
   "cell_type": "markdown",
   "id": "49690f89",
   "metadata": {},
   "source": [
    "## 267 객체 생성\n",
    "266번에서 정의한 생성자를 통해 다음 정보를 갖는 객체를 생성해보세요.\n",
    " \n",
    "항목\t정보  \n",
    "종목명\t삼성전자  \n",
    "종목코드\t005930  \n",
    "PER\t15.79  \n",
    "PBR\t1.33  \n",
    "배당수익률\t2.83  "
   ]
  },
  {
   "cell_type": "code",
   "execution_count": 59,
   "id": "cf935479",
   "metadata": {},
   "outputs": [],
   "source": [
    "삼성전자 = Stock('삼성전자', '005930', 15.79, 1.33, 2.83)"
   ]
  },
  {
   "cell_type": "markdown",
   "id": "af5144e5",
   "metadata": {},
   "source": [
    "## 268 객체의 속성 수정\n",
    "PER, PBR, 배당수익률은 변경될 수 있는 값입니다. 이 값을 변경할 때 사용하는 set_per, set_pbr, set_dividend 메서드를 추가하세요."
   ]
  },
  {
   "cell_type": "code",
   "execution_count": 61,
   "id": "efea9a9a",
   "metadata": {},
   "outputs": [],
   "source": [
    "class Stock:\n",
    "    def __init__(self, name, code, per, pbr, dividend):\n",
    "        self.name = name\n",
    "        self.code = code\n",
    "        self.per = per\n",
    "        self.pbr = pbr\n",
    "        self.dividend = dividend\n",
    "        \n",
    "    def set_name(self, name):\n",
    "        self.name = name\n",
    "        \n",
    "    def set_code(self, code):\n",
    "        self.code = code\n",
    "    \n",
    "    def get_name(self):\n",
    "        return self.name\n",
    "    \n",
    "    def get_code(self):\n",
    "        return self.code\n",
    "    \n",
    "    def set_per(self, per):\n",
    "        self.per = per\n",
    "    \n",
    "    def set_pbr(self, pbr):\n",
    "        self.pbr = pbr\n",
    "        \n",
    "    def set_dividend(self, dividend):\n",
    "        self.dividend = dividend"
   ]
  },
  {
   "cell_type": "markdown",
   "id": "b6fc3df6",
   "metadata": {},
   "source": [
    "## 269 객체의 속성 수정\n",
    "267번에서 생성한 객체에 set_per 메서드를 호출하여 per 값을 12.75로 수정해보세요."
   ]
  },
  {
   "cell_type": "code",
   "execution_count": 62,
   "id": "1b94c813",
   "metadata": {},
   "outputs": [],
   "source": [
    "삼성전자 = Stock('삼성전자', '005930', 15.79, 1.33, 2.83)"
   ]
  },
  {
   "cell_type": "code",
   "execution_count": 63,
   "id": "62192ba5",
   "metadata": {},
   "outputs": [],
   "source": [
    "삼성전자.set_per(12.75)"
   ]
  },
  {
   "cell_type": "code",
   "execution_count": 64,
   "id": "b9eb481e",
   "metadata": {},
   "outputs": [
    {
     "name": "stdout",
     "output_type": "stream",
     "text": [
      "12.75\n"
     ]
    }
   ],
   "source": [
    "print(삼성전자.per)"
   ]
  },
  {
   "cell_type": "markdown",
   "id": "c2637299",
   "metadata": {},
   "source": [
    "## 270 여러 종목의 객체 생성\n",
    "아래의 표를 참조하여 3종목에 대해 객체를 생성하고 이를 파이썬 리스트에 저장하세요. 파이썬 리스트에 저장된 각 종목에 대해 for 루프를 통해 종목코드와 PER을 출력해보세요.\n",
    "\n",
    "종목명\t종목코드\tPER\tPBR\t배당수익률  \n",
    "삼성전자\t005930\t15.79\t1.33\t2.83  \n",
    "현대차\t005380\t8.70\t0.35\t4.27  \n",
    "LG전자\t066570\t317.34\t0.69\t1.37  "
   ]
  },
  {
   "cell_type": "code",
   "execution_count": 66,
   "id": "d298171a",
   "metadata": {},
   "outputs": [],
   "source": [
    "삼성전자 = Stock('삼성전자', '005930', 15.79, 1.33, 2.83)\n",
    "현대차 = Stock('현대차', '005380', 8.70, 0.35, 4.27)\n",
    "LG전자 = Stock('LG전자', '066570', 317.34, 0.69, 1.37)"
   ]
  },
  {
   "cell_type": "code",
   "execution_count": 68,
   "id": "0cb82a49",
   "metadata": {},
   "outputs": [],
   "source": [
    "list=[삼성전자, 현대차, LG전자]"
   ]
  },
  {
   "cell_type": "code",
   "execution_count": 70,
   "id": "8c32924c",
   "metadata": {},
   "outputs": [
    {
     "name": "stdout",
     "output_type": "stream",
     "text": [
      "005930 15.79\n",
      "005380 8.7\n",
      "066570 317.34\n"
     ]
    }
   ],
   "source": [
    "for i in range(3):\n",
    "    print(list[i].code, list[i].per)"
   ]
  },
  {
   "cell_type": "markdown",
   "id": "2507c2bd",
   "metadata": {},
   "source": [
    "## 271 Account 클래스\n",
    "은행에 가서 계좌를 개설하면 은행이름, 예금주, 계좌번호, 잔액이 설정됩니다. Account 클래스를 생성한 후 생성자를 구현해보세요. 생성자에서는 예금주와 초기 잔액만 입력 받습니다. 은행이름은 SC은행으로 계좌번호는 3자리-2자리-6자리 형태로 랜덤하게 생성됩니다.\n",
    "\n",
    "은행이름: SC은행  \n",
    "계좌번호: 111-11-111111"
   ]
  },
  {
   "cell_type": "code",
   "execution_count": 3,
   "id": "8fc2c08d",
   "metadata": {},
   "outputs": [],
   "source": [
    "import random\n",
    "\n",
    "class Account:\n",
    "    def __init__(self, account_name, balance):\n",
    "        self.bank = 'SC은행'\n",
    "        self.account_name = account_name\n",
    "        self.account_number = str(random.randint(100, 999))+'-'+str(random.randint(10, 99))+'-'+str(random.randint(100000, 999999))\n",
    "        self.balance = balance"
   ]
  },
  {
   "cell_type": "code",
   "execution_count": 6,
   "id": "50c6d41a",
   "metadata": {},
   "outputs": [
    {
     "name": "stdout",
     "output_type": "stream",
     "text": [
      "김민수\n",
      "100\n",
      "SC은행\n",
      "684-39-979080\n"
     ]
    }
   ],
   "source": [
    "kim = Account(\"김민수\", 100)\n",
    "print(kim.account_name)\n",
    "print(kim.balance)\n",
    "print(kim.bank)\n",
    "print(kim.account_number)"
   ]
  },
  {
   "cell_type": "code",
   "execution_count": 8,
   "id": "438aff86",
   "metadata": {},
   "outputs": [],
   "source": [
    "import random\n",
    "\n",
    "class Account:\n",
    "    def __init__(self, name, balance):\n",
    "        self.name = name\n",
    "        self.balance = balance\n",
    "        self.bank = \"SC은행\"\n",
    "        num1 = random.randint(0, 999)\n",
    "        num2 = random.randint(0, 99)\n",
    "        num3 = random.randint(0, 999999)\n",
    "        \n",
    "        num1 = str(num1).zfill(3)\n",
    "        num2 = str(num2).zfill(2)\n",
    "        num3 = str(num3).zfill(6)\n",
    "        self.account_number = num1+'-'+num2+'-'+num3"
   ]
  },
  {
   "cell_type": "code",
   "execution_count": 9,
   "id": "22efcbcd",
   "metadata": {},
   "outputs": [
    {
     "name": "stdout",
     "output_type": "stream",
     "text": [
      "김민수\n",
      "100\n",
      "SC은행\n",
      "065-90-788853\n"
     ]
    }
   ],
   "source": [
    "kim = Account(\"김민수\", 100)\n",
    "print(kim.name)\n",
    "print(kim.balance)\n",
    "print(kim.bank)\n",
    "print(kim.account_number)"
   ]
  },
  {
   "cell_type": "markdown",
   "id": "6640bd8a",
   "metadata": {},
   "source": [
    "## 272 클래스 변수\n",
    "클래스 변수를 사용해서 Account 클래스로부터 생성된 계좌 객체의 개수를 저장하세요."
   ]
  },
  {
   "cell_type": "code",
   "execution_count": 16,
   "id": "a4c42ae8",
   "metadata": {},
   "outputs": [],
   "source": [
    "import random\n",
    "\n",
    "class Account:\n",
    "    # class variable\n",
    "    account_count = 0\n",
    "\n",
    "    def __init__(self, name, balance):\n",
    "        self.name = name\n",
    "        self.balance = balance\n",
    "        self.bank = \"SC은행\"\n",
    "\n",
    "        num1 = random.randint(0, 999)\n",
    "        num2 = random.randint(0, 99)\n",
    "        num3 = random.randint(0, 999999)\n",
    "\n",
    "        num1 = str(num1).zfill(3)      # 1 -> '1' -> '001'\n",
    "        num2 = str(num2).zfill(2)      # 1 -> '1' -> '01'\n",
    "        num3 = str(num3).zfill(6)      # 1 -> '1' -> '0000001'\n",
    "        self.account_number = num1 + '-' + num2 + '-' + num3  # 001-01-000001\n",
    "\n",
    "        Account.account_count += 1"
   ]
  },
  {
   "cell_type": "code",
   "execution_count": 17,
   "id": "baf78d4f",
   "metadata": {},
   "outputs": [
    {
     "name": "stdout",
     "output_type": "stream",
     "text": [
      "1\n",
      "2\n"
     ]
    }
   ],
   "source": [
    "kim = Account(\"김민수\", 100)\n",
    "print(Account.account_count)\n",
    "lee = Account(\"이민수\", 100)\n",
    "print(Account.account_count)"
   ]
  },
  {
   "cell_type": "markdown",
   "id": "f14f307b",
   "metadata": {},
   "source": [
    "## 273 클래스 변수 출력\n",
    "Account 클래스로부터 생성된 계좌의 개수를 출력하는 get_account_num() 메서드를 추가하세요."
   ]
  },
  {
   "cell_type": "code",
   "execution_count": 40,
   "id": "53f53788",
   "metadata": {},
   "outputs": [],
   "source": [
    "import random\n",
    "\n",
    "class Account:\n",
    "    account_count = 0\n",
    "\n",
    "    def __init__(self, name, balance):\n",
    "        self.name = name\n",
    "        self.balance = balance\n",
    "        self.bank = \"SC은행\"\n",
    "\n",
    "        num1 = random.randint(0, 999)\n",
    "        num2 = random.randint(0, 99)\n",
    "        num3 = random.randint(0, 999999)\n",
    "\n",
    "        num1 = str(num1).zfill(3)     \n",
    "        num2 = str(num2).zfill(2)  \n",
    "        num3 = str(num3).zfill(6)   \n",
    "        self.account_number = num1 + '-' + num2 + '-' + num3 \n",
    "        \n",
    "        Account.account_count += 1\n",
    "        \n",
    "    def get_account_num(self):\n",
    "        print(Account.account_count)"
   ]
  },
  {
   "cell_type": "code",
   "execution_count": 41,
   "id": "efb579e6",
   "metadata": {},
   "outputs": [
    {
     "name": "stdout",
     "output_type": "stream",
     "text": [
      "1\n"
     ]
    }
   ],
   "source": [
    "kim = Account(\"김민수\", 100)\n",
    "kim.get_account_num()"
   ]
  },
  {
   "cell_type": "code",
   "execution_count": 42,
   "id": "d8025a18",
   "metadata": {},
   "outputs": [],
   "source": [
    "lee = Account(\"이민수\", 100)"
   ]
  },
  {
   "cell_type": "code",
   "execution_count": 43,
   "id": "ed8b406e",
   "metadata": {},
   "outputs": [
    {
     "name": "stdout",
     "output_type": "stream",
     "text": [
      "2\n"
     ]
    }
   ],
   "source": [
    "kim.get_account_num()"
   ]
  },
  {
   "cell_type": "code",
   "execution_count": 44,
   "id": "462c530c",
   "metadata": {},
   "outputs": [],
   "source": [
    "lee = Account(\"이민수\", 100)"
   ]
  },
  {
   "cell_type": "code",
   "execution_count": 45,
   "id": "5eb9e444",
   "metadata": {},
   "outputs": [
    {
     "name": "stdout",
     "output_type": "stream",
     "text": [
      "3\n"
     ]
    }
   ],
   "source": [
    "lee.get_account_num()"
   ]
  },
  {
   "cell_type": "markdown",
   "id": "3451bd3c",
   "metadata": {},
   "source": [
    "## 274 입금 메서드\n",
    "Account 클래스에 입금을 위한 deposit 메서드를 추가하세요. 입금은 최소 1원 이상만 가능합니다."
   ]
  },
  {
   "cell_type": "code",
   "execution_count": 48,
   "id": "d46b9b69",
   "metadata": {},
   "outputs": [],
   "source": [
    "import random\n",
    "\n",
    "class Account:\n",
    "    account_count = 0\n",
    "\n",
    "    def __init__(self, name, balance):\n",
    "        self.name = name\n",
    "        self.balance = balance\n",
    "        self.bank = \"SC은행\"\n",
    "\n",
    "        num1 = random.randint(0, 999)\n",
    "        num2 = random.randint(0, 99)\n",
    "        num3 = random.randint(0, 999999)\n",
    "\n",
    "        num1 = str(num1).zfill(3)     \n",
    "        num2 = str(num2).zfill(2)  \n",
    "        num3 = str(num3).zfill(6)   \n",
    "        self.account_number = num1 + '-' + num2 + '-' + num3 \n",
    "        \n",
    "        Account.account_count += 1\n",
    "        \n",
    "    def get_account_num(self):\n",
    "        print(Account.account_count)\n",
    "        \n",
    "    def deposit(self, plus):\n",
    "        if plus > 0:\n",
    "            self.balance += plus"
   ]
  },
  {
   "cell_type": "code",
   "execution_count": 49,
   "id": "6b4efe8e",
   "metadata": {},
   "outputs": [],
   "source": [
    "kim = Account(\"김민수\", 100)"
   ]
  },
  {
   "cell_type": "code",
   "execution_count": 50,
   "id": "b1d00b5d",
   "metadata": {},
   "outputs": [],
   "source": [
    "kim.deposit(200)"
   ]
  },
  {
   "cell_type": "code",
   "execution_count": 51,
   "id": "45cf334d",
   "metadata": {},
   "outputs": [
    {
     "name": "stdout",
     "output_type": "stream",
     "text": [
      "300\n"
     ]
    }
   ],
   "source": [
    "print(kim.balance)"
   ]
  },
  {
   "cell_type": "code",
   "execution_count": 52,
   "id": "0a7456a9",
   "metadata": {},
   "outputs": [],
   "source": [
    "kim.deposit(-2)"
   ]
  },
  {
   "cell_type": "code",
   "execution_count": 53,
   "id": "f9680399",
   "metadata": {},
   "outputs": [
    {
     "name": "stdout",
     "output_type": "stream",
     "text": [
      "300\n"
     ]
    }
   ],
   "source": [
    "print(kim.balance)"
   ]
  },
  {
   "cell_type": "markdown",
   "id": "c5dae7e9",
   "metadata": {},
   "source": [
    "## 275 출금 메서드\n",
    "Account 클래스에 출금을 위한 withdraw 메서드를 추가하세요. 출금은 계좌의 잔고 이상으로 출금할 수는 없습니다."
   ]
  },
  {
   "cell_type": "code",
   "execution_count": 58,
   "id": "482666ca",
   "metadata": {},
   "outputs": [],
   "source": [
    "import random\n",
    "\n",
    "class Account:\n",
    "    account_count = 0\n",
    "\n",
    "    def __init__(self, name, balance):\n",
    "        self.name = name\n",
    "        self.balance = balance\n",
    "        self.bank = \"SC은행\"\n",
    "\n",
    "        num1 = random.randint(0, 999)\n",
    "        num2 = random.randint(0, 99)\n",
    "        num3 = random.randint(0, 999999)\n",
    "\n",
    "        num1 = str(num1).zfill(3)     \n",
    "        num2 = str(num2).zfill(2)  \n",
    "        num3 = str(num3).zfill(6)   \n",
    "        self.account_number = num1 + '-' + num2 + '-' + num3 \n",
    "        \n",
    "        Account.account_count += 1\n",
    "        \n",
    "    def get_account_num(self):\n",
    "        print(Account.account_count)\n",
    "        \n",
    "    def deposit(self, plus):\n",
    "        if plus > 0:\n",
    "            self.balance += plus\n",
    "            \n",
    "    def withdraw(self, minus):\n",
    "        if minus <= self.balance:\n",
    "            self.balance -= minus"
   ]
  },
  {
   "cell_type": "code",
   "execution_count": 59,
   "id": "737dd525",
   "metadata": {},
   "outputs": [],
   "source": [
    "kim = Account(\"김민수\", 100)"
   ]
  },
  {
   "cell_type": "code",
   "execution_count": 60,
   "id": "67764388",
   "metadata": {},
   "outputs": [],
   "source": [
    "kim.withdraw(200)"
   ]
  },
  {
   "cell_type": "code",
   "execution_count": 61,
   "id": "f39d6e9b",
   "metadata": {},
   "outputs": [
    {
     "data": {
      "text/plain": [
       "100"
      ]
     },
     "execution_count": 61,
     "metadata": {},
     "output_type": "execute_result"
    }
   ],
   "source": [
    "kim.balance"
   ]
  },
  {
   "cell_type": "code",
   "execution_count": 62,
   "id": "b9e35d8d",
   "metadata": {},
   "outputs": [],
   "source": [
    "kim.withdraw(100)"
   ]
  },
  {
   "cell_type": "code",
   "execution_count": 63,
   "id": "f89ccbf7",
   "metadata": {},
   "outputs": [
    {
     "data": {
      "text/plain": [
       "0"
      ]
     },
     "execution_count": 63,
     "metadata": {},
     "output_type": "execute_result"
    }
   ],
   "source": [
    "kim.balance"
   ]
  },
  {
   "cell_type": "code",
   "execution_count": 66,
   "id": "18ba6682",
   "metadata": {},
   "outputs": [
    {
     "name": "stdout",
     "output_type": "stream",
     "text": [
      "<class '__main__.Account'>\n"
     ]
    }
   ],
   "source": [
    "print(Account)"
   ]
  },
  {
   "cell_type": "markdown",
   "id": "b3966db7",
   "metadata": {},
   "source": [
    "## 276 정보 출력 메서드\n",
    "Account 인스턴스에 저장된 정보를 출력하는 display_info() 메서드를 추가하세요. 잔고는 세자리마다 쉼표를 출력하세요.\n",
    "\n",
    "은행이름: SC은행  \n",
    "예금주: 파이썬  \n",
    "계좌번호: 111-11-111111  \n",
    "잔고: 10,000원"
   ]
  },
  {
   "cell_type": "code",
   "execution_count": 76,
   "id": "b8bd1fae",
   "metadata": {},
   "outputs": [],
   "source": [
    "import random\n",
    "\n",
    "class Account:\n",
    "    account_count = 0\n",
    "\n",
    "    def __init__(self, name, balance):\n",
    "        self.name = name\n",
    "        self.balance = balance\n",
    "        self.bank = \"SC은행\"\n",
    "\n",
    "        num1 = random.randint(0, 999)\n",
    "        num2 = random.randint(0, 99)\n",
    "        num3 = random.randint(0, 999999)\n",
    "\n",
    "        num1 = str(num1).zfill(3)     \n",
    "        num2 = str(num2).zfill(2)  \n",
    "        num3 = str(num3).zfill(6)   \n",
    "        self.account_number = num1 + '-' + num2 + '-' + num3 \n",
    "        \n",
    "        Account.account_count += 1\n",
    "        \n",
    "    def get_account_num(self):\n",
    "        print(Account.account_count)\n",
    "        \n",
    "    def deposit(self, plus):\n",
    "        if plus > 0:\n",
    "            self.balance += plus\n",
    "            \n",
    "    def withdraw(self, minus):\n",
    "        if minus <= self.balance:\n",
    "            self.balance -= minus\n",
    "            \n",
    "    def display_info(self):\n",
    "        print('은행이름:'+self.bank)\n",
    "        print('예금주:'+self.name)\n",
    "        print('계좌번호:'+self.account_number)\n",
    "        print('잔고:',self.balance)"
   ]
  },
  {
   "cell_type": "code",
   "execution_count": 77,
   "id": "c0652f30",
   "metadata": {},
   "outputs": [],
   "source": [
    "kim = Account(\"김민수\", 100)"
   ]
  },
  {
   "cell_type": "code",
   "execution_count": 78,
   "id": "be703914",
   "metadata": {},
   "outputs": [
    {
     "name": "stdout",
     "output_type": "stream",
     "text": [
      "은행이름:SC은행\n",
      "예금주:김민수\n",
      "계좌번호:812-56-175930\n",
      "잔고: 100\n"
     ]
    }
   ],
   "source": [
    "kim.display_info()"
   ]
  },
  {
   "cell_type": "markdown",
   "id": "26c69949",
   "metadata": {},
   "source": [
    "## 277 이자 지급하기\n",
    "입금 횟수가 5회가 될 때 잔고를 기준으로 1%의 이자가 잔고에 추가되도록 코드를 변경해보세요."
   ]
  },
  {
   "cell_type": "code",
   "execution_count": 112,
   "id": "573267e8",
   "metadata": {},
   "outputs": [],
   "source": [
    "import random\n",
    "\n",
    "class Account:\n",
    "    account_count = 0\n",
    "    i=0\n",
    "\n",
    "    def __init__(self, name, balance):\n",
    "        self.name = name\n",
    "        self.balance = balance\n",
    "        self.bank = \"SC은행\"\n",
    "\n",
    "        num1 = random.randint(0, 999)\n",
    "        num2 = random.randint(0, 99)\n",
    "        num3 = random.randint(0, 999999)\n",
    "\n",
    "        num1 = str(num1).zfill(3)     \n",
    "        num2 = str(num2).zfill(2)  \n",
    "        num3 = str(num3).zfill(6)   \n",
    "        self.account_number = num1 + '-' + num2 + '-' + num3 \n",
    "        \n",
    "        Account.account_count += 1\n",
    "        \n",
    "    def get_account_num(self):\n",
    "        print(Account.account_count)\n",
    "        \n",
    "    def deposit(self, plus):\n",
    "        if plus > 0:\n",
    "            self.balance += plus\n",
    "            if Account.i < 5:\n",
    "                self.balance *= 1.01 \n",
    "                Account.i += 1\n",
    "            \n",
    "    def withdraw(self, minus):\n",
    "        if minus <= self.balance:\n",
    "            self.balance -= minus\n",
    "            \n",
    "    def display_info(self):\n",
    "        print('은행이름:'+self.bank)\n",
    "        print('예금주:'+self.name)\n",
    "        print('계좌번호:'+self.account_number)\n",
    "        print('잔고:',self.balance)"
   ]
  },
  {
   "cell_type": "code",
   "execution_count": 113,
   "id": "6f635441",
   "metadata": {},
   "outputs": [],
   "source": [
    "kim = Account(\"김민수\", 100)"
   ]
  },
  {
   "cell_type": "code",
   "execution_count": 114,
   "id": "f9611b19",
   "metadata": {},
   "outputs": [],
   "source": [
    "kim.deposit(200)"
   ]
  },
  {
   "cell_type": "code",
   "execution_count": 115,
   "id": "e4afee78",
   "metadata": {},
   "outputs": [
    {
     "data": {
      "text/plain": [
       "303.0"
      ]
     },
     "execution_count": 115,
     "metadata": {},
     "output_type": "execute_result"
    }
   ],
   "source": [
    "kim.balance"
   ]
  },
  {
   "cell_type": "markdown",
   "id": "a70ac0c8",
   "metadata": {},
   "source": [
    "## 278 여러 객체 생성\n",
    "Account 클래스로부터 3개 이상 인스턴스를 생성하고 생성된 인스턴스를 리스트에 저장해보세요."
   ]
  },
  {
   "cell_type": "code",
   "execution_count": 116,
   "id": "8fc5d922",
   "metadata": {},
   "outputs": [],
   "source": [
    "kim = Account(\"김민수\", 100)"
   ]
  },
  {
   "cell_type": "code",
   "execution_count": 117,
   "id": "0ec9d334",
   "metadata": {},
   "outputs": [],
   "source": [
    "lee = Account(\"이지현\", 200)"
   ]
  },
  {
   "cell_type": "code",
   "execution_count": 118,
   "id": "0a6954de",
   "metadata": {},
   "outputs": [],
   "source": [
    "Oh = Account(\"오승환\", 300)"
   ]
  },
  {
   "cell_type": "code",
   "execution_count": 119,
   "id": "ba77f35f",
   "metadata": {},
   "outputs": [
    {
     "data": {
      "text/plain": [
       "[<__main__.Account at 0x216a4898750>,\n",
       " <__main__.Account at 0x216a3a96550>,\n",
       " <__main__.Account at 0x216a495aa90>]"
      ]
     },
     "execution_count": 119,
     "metadata": {},
     "output_type": "execute_result"
    }
   ],
   "source": [
    "[kim, lee, Oh]"
   ]
  },
  {
   "cell_type": "code",
   "execution_count": 120,
   "id": "3cf7383c",
   "metadata": {},
   "outputs": [],
   "source": [
    "data = []\n",
    "k = Account(\"KIM\", 10000000)\n",
    "l = Account(\"LEE\", 10000)\n",
    "p = Account(\"PARK\", 10000)"
   ]
  },
  {
   "cell_type": "code",
   "execution_count": 121,
   "id": "c2c7d82a",
   "metadata": {},
   "outputs": [],
   "source": [
    "data.append(k)\n",
    "data.append(l)\n",
    "data.append(p)"
   ]
  },
  {
   "cell_type": "code",
   "execution_count": 122,
   "id": "af6a357a",
   "metadata": {},
   "outputs": [
    {
     "name": "stdout",
     "output_type": "stream",
     "text": [
      "[<__main__.Account object at 0x00000216A4958D10>, <__main__.Account object at 0x00000216A2EEB150>, <__main__.Account object at 0x00000216A4A27950>]\n"
     ]
    }
   ],
   "source": [
    "print(data)"
   ]
  },
  {
   "cell_type": "markdown",
   "id": "0031545f",
   "metadata": {},
   "source": [
    "## 279 객체 순회\n",
    "반복문을 통해 리스트에 있는 객체를 순회하면서 잔고가 100만원 이상인 고객의 정보만 출력하세요."
   ]
  },
  {
   "cell_type": "code",
   "execution_count": 125,
   "id": "159156e4",
   "metadata": {},
   "outputs": [
    {
     "name": "stdout",
     "output_type": "stream",
     "text": [
      "KIM 10000000\n"
     ]
    }
   ],
   "source": [
    "for i in range(3):\n",
    "    if data[i].balance >= 1000000:\n",
    "        print(data[i].name, data[i].balance)"
   ]
  },
  {
   "cell_type": "code",
   "execution_count": 126,
   "id": "35f8e560",
   "metadata": {},
   "outputs": [
    {
     "name": "stdout",
     "output_type": "stream",
     "text": [
      "은행이름:SC은행\n",
      "예금주:KIM\n",
      "계좌번호:035-14-287173\n",
      "잔고: 10000000\n"
     ]
    }
   ],
   "source": [
    "for c in data:\n",
    "    if c.balance >= 1000000:\n",
    "        c.display_info()"
   ]
  },
  {
   "cell_type": "markdown",
   "id": "fa47e841",
   "metadata": {},
   "source": [
    "## 280 입출금 내역\n",
    "입금과 출금 내역이 기록되도록 코드를 업데이트 하세요. 입금 내역과 출금 내역을 출력하는 deposit_history와 withdraw_history 메서드를 추가하세요."
   ]
  },
  {
   "cell_type": "code",
   "execution_count": 141,
   "id": "98a9884c",
   "metadata": {},
   "outputs": [],
   "source": [
    "import random\n",
    "\n",
    "\n",
    "class Account:\n",
    "    # class variable\n",
    "    account_count = 0\n",
    "\n",
    "    def __init__(self, name, balance):\n",
    "        self.deposit_count = 0\n",
    "        self.deposit_log = []\n",
    "        self.withdraw_log = []\n",
    "\n",
    "        self.name = name\n",
    "        self.balance = balance\n",
    "        self.bank = \"SC은행\"\n",
    "\n",
    "        # 3-2-6\n",
    "        num1 = random.randint(0, 999)\n",
    "        num2 = random.randint(0, 99)\n",
    "        num3 = random.randint(0, 999999)\n",
    "\n",
    "        num1 = str(num1).zfill(3)  # 1 -> '1' -> '001'\n",
    "        num2 = str(num2).zfill(2)  # 1 -> '1' -> '01'\n",
    "        num3 = str(num3).zfill(6)  # 1 -> '1' -> '0000001'\n",
    "        self.account_number = num1 + '-' + num2 + '-' + num3  # 001-01-000001\n",
    "        Account.account_count += 1\n",
    "\n",
    "    @classmethod\n",
    "    def get_account_num(cls):\n",
    "        print(cls.account_count)  # Account.account_count\n",
    "\n",
    "    def deposit(self, amount):\n",
    "        if amount >= 1:\n",
    "            self.deposit_log.append(amount)\n",
    "            self.balance += amount\n",
    "\n",
    "            self.deposit_count += 1\n",
    "            if self.deposit_count % 5 == 0:         # 5, 10, 15\n",
    "                # 이자 지금\n",
    "                self.balance = (self.balance * 1.01)\n",
    "\n",
    "\n",
    "    def withdraw(self, amount):\n",
    "        if self.balance > amount:\n",
    "            self.withdraw_log.append(amount)\n",
    "            self.balance -= amount\n",
    "\n",
    "    def display_info(self):\n",
    "        print(\"은행이름: \", self.bank)\n",
    "        print(\"예금주: \", self.name)\n",
    "        print(\"계좌번호: \", self.account_number)\n",
    "        print(\"잔고: \", self.balance)\n",
    "    \n",
    "    def deposit_history(self):\n",
    "        for amount in self.deposit_log:\n",
    "            print(amount)\n",
    "        \n",
    "    def withdraw_history(self):\n",
    "        for amount in self.withdraw_log:\n",
    "            print(amount)"
   ]
  },
  {
   "cell_type": "code",
   "execution_count": 142,
   "id": "252f3acc",
   "metadata": {},
   "outputs": [],
   "source": [
    "kim = Account(\"김민수\", 100)"
   ]
  },
  {
   "cell_type": "code",
   "execution_count": 143,
   "id": "d199adba",
   "metadata": {},
   "outputs": [],
   "source": [
    "kim.deposit(200)"
   ]
  },
  {
   "cell_type": "code",
   "execution_count": 145,
   "id": "ef5e4c47",
   "metadata": {},
   "outputs": [
    {
     "name": "stdout",
     "output_type": "stream",
     "text": [
      "200\n"
     ]
    }
   ],
   "source": [
    "kim.deposit_history()"
   ]
  },
  {
   "cell_type": "code",
   "execution_count": 146,
   "id": "4ec1ffcf",
   "metadata": {},
   "outputs": [],
   "source": [
    "kim.deposit(400)"
   ]
  },
  {
   "cell_type": "code",
   "execution_count": 147,
   "id": "b44351d4",
   "metadata": {},
   "outputs": [
    {
     "name": "stdout",
     "output_type": "stream",
     "text": [
      "200\n",
      "400\n"
     ]
    }
   ],
   "source": [
    "kim.deposit_history()"
   ]
  },
  {
   "cell_type": "code",
   "execution_count": 148,
   "id": "49f006bb",
   "metadata": {},
   "outputs": [
    {
     "name": "stdout",
     "output_type": "stream",
     "text": [
      "100\n",
      "200\n",
      "300\n"
     ]
    }
   ],
   "source": [
    "k = Account(\"Kim\", 1000)\n",
    "k.deposit(100)\n",
    "k.deposit(200)\n",
    "k.deposit(300)\n",
    "k.deposit_history()"
   ]
  },
  {
   "cell_type": "markdown",
   "id": "77ae1ae0",
   "metadata": {},
   "source": [
    "## 281 클래스 정의\n",
    "다음 코드가 동작하도록 차 클래스를 정의하세요.\n",
    "\n",
    "car = 차(2, 1000)\n",
    "\n",
    "car.바퀴  \n",
    "2  \n",
    "car.가격  \n",
    "1000"
   ]
  },
  {
   "cell_type": "code",
   "execution_count": 153,
   "id": "cd3b45ca",
   "metadata": {},
   "outputs": [],
   "source": [
    "class 차:\n",
    "    def __init__(self, 바퀴, 가격):\n",
    "        self.바퀴 = 바퀴\n",
    "        self.가격 = 가격"
   ]
  },
  {
   "cell_type": "code",
   "execution_count": 154,
   "id": "6616a57a",
   "metadata": {},
   "outputs": [],
   "source": [
    "car = 차(2, 1000)"
   ]
  },
  {
   "cell_type": "code",
   "execution_count": 155,
   "id": "b82bb328",
   "metadata": {},
   "outputs": [
    {
     "data": {
      "text/plain": [
       "2"
      ]
     },
     "execution_count": 155,
     "metadata": {},
     "output_type": "execute_result"
    }
   ],
   "source": [
    "car.바퀴"
   ]
  },
  {
   "cell_type": "code",
   "execution_count": 156,
   "id": "6747f9d4",
   "metadata": {},
   "outputs": [
    {
     "data": {
      "text/plain": [
       "1000"
      ]
     },
     "execution_count": 156,
     "metadata": {},
     "output_type": "execute_result"
    }
   ],
   "source": [
    "car.가격  "
   ]
  },
  {
   "cell_type": "markdown",
   "id": "5adb736c",
   "metadata": {},
   "source": [
    "## 282 클래스 상속\n",
    "차 클래스를 상속받은 자전차 클래스를 정의하세요."
   ]
  },
  {
   "cell_type": "code",
   "execution_count": 160,
   "id": "06a088f0",
   "metadata": {},
   "outputs": [],
   "source": [
    "class 자전차(차):\n",
    "    pass"
   ]
  },
  {
   "cell_type": "markdown",
   "id": "f2735bc4",
   "metadata": {},
   "source": [
    "## 283 클래스 상속\n",
    "다음 코드가 동작하도록 자전차 클래스를 정의하세요. 단 자전차 클래스는 차 클래스를 상속받습니다.\n",
    "\n",
    "bicycle = 자전차(2, 100)  \n",
    "bicycle.가격  \n",
    "100"
   ]
  },
  {
   "cell_type": "code",
   "execution_count": 161,
   "id": "843a7eee",
   "metadata": {},
   "outputs": [],
   "source": [
    "class 자전차(차):\n",
    "    pass"
   ]
  },
  {
   "cell_type": "code",
   "execution_count": 162,
   "id": "94430e76",
   "metadata": {},
   "outputs": [],
   "source": [
    "bicycle = 자전차(2, 100)"
   ]
  },
  {
   "cell_type": "code",
   "execution_count": 163,
   "id": "ad12f968",
   "metadata": {},
   "outputs": [
    {
     "data": {
      "text/plain": [
       "100"
      ]
     },
     "execution_count": 163,
     "metadata": {},
     "output_type": "execute_result"
    }
   ],
   "source": [
    "bicycle.가격"
   ]
  },
  {
   "cell_type": "code",
   "execution_count": 164,
   "id": "964608e2",
   "metadata": {},
   "outputs": [],
   "source": [
    "class 차:\n",
    "    def __init__(self, 바퀴, 가격):\n",
    "        self.바퀴 = 바퀴\n",
    "        self.가격 = 가격\n",
    "\n",
    "\n",
    "class 자전차(차):\n",
    "    def __init__(self, 바퀴, 가격):\n",
    "        self.바퀴 = 바퀴\n",
    "        self.가격 = 가격"
   ]
  },
  {
   "cell_type": "code",
   "execution_count": 165,
   "id": "3200d82c",
   "metadata": {},
   "outputs": [
    {
     "name": "stdout",
     "output_type": "stream",
     "text": [
      "100\n"
     ]
    }
   ],
   "source": [
    "bicycle = 자전차(2, 100)\n",
    "print(bicycle.가격)"
   ]
  },
  {
   "cell_type": "markdown",
   "id": "504c8652",
   "metadata": {},
   "source": [
    "## 284 클래스 상속\n",
    "다음 코드가 동작하도록 자전차 클래스를 정의하세요. 단 자전차 클래스는 차 클래스를 상속받습니다.\n",
    "\n",
    "bicycle = 자전차(2, 100, \"시마노\")  \n",
    "bicycle.구동계  \n",
    "시마노"
   ]
  },
  {
   "cell_type": "code",
   "execution_count": 166,
   "id": "693d84b4",
   "metadata": {},
   "outputs": [],
   "source": [
    "class 자전차(차):\n",
    "    def __init__(self, 바퀴, 가격, 구동계):\n",
    "        self.바퀴 = 바퀴\n",
    "        self.가격 = 가격\n",
    "        self.구동계 = 구동계"
   ]
  },
  {
   "cell_type": "code",
   "execution_count": 167,
   "id": "d42f7f7e",
   "metadata": {},
   "outputs": [
    {
     "data": {
      "text/plain": [
       "'시마노'"
      ]
     },
     "execution_count": 167,
     "metadata": {},
     "output_type": "execute_result"
    }
   ],
   "source": [
    "bicycle = 자전차(2, 100, \"시마노\")\n",
    "bicycle.구동계"
   ]
  },
  {
   "cell_type": "code",
   "execution_count": 170,
   "id": "ab6852be",
   "metadata": {},
   "outputs": [],
   "source": [
    "class 자전차(차):\n",
    "    def __init__(self, 바퀴, 가격, 구동계):\n",
    "        super().__init__(바퀴, 가격)\n",
    "        self.구동계 = 구동계"
   ]
  },
  {
   "cell_type": "code",
   "execution_count": 171,
   "id": "766e40a9",
   "metadata": {},
   "outputs": [
    {
     "data": {
      "text/plain": [
       "'시마노'"
      ]
     },
     "execution_count": 171,
     "metadata": {},
     "output_type": "execute_result"
    }
   ],
   "source": [
    "bicycle = 자전차(2, 100, \"시마노\")\n",
    "bicycle.구동계"
   ]
  },
  {
   "cell_type": "markdown",
   "id": "b480f801",
   "metadata": {},
   "source": [
    "## 285 클래스 상속\n",
    "다음 코드가 동작하도록 차 클래스를 상속받는 자동차 클래스를 정의하세요.\n",
    "\n",
    "car = 자동차(4, 1000)  \n",
    "car.정보()  \n",
    "바퀴수 4  \n",
    "가격 1000"
   ]
  },
  {
   "cell_type": "code",
   "execution_count": 175,
   "id": "9d91ea54",
   "metadata": {},
   "outputs": [],
   "source": [
    "class 자동차(차):\n",
    "    def 정보(self):\n",
    "        print('바퀴수',self.바퀴)\n",
    "        print('가격',self.가격)"
   ]
  },
  {
   "cell_type": "code",
   "execution_count": 176,
   "id": "2b2c2e24",
   "metadata": {},
   "outputs": [],
   "source": [
    "car = 자동차(4, 1000)"
   ]
  },
  {
   "cell_type": "code",
   "execution_count": 177,
   "id": "34a17336",
   "metadata": {},
   "outputs": [
    {
     "name": "stdout",
     "output_type": "stream",
     "text": [
      "바퀴수 4\n",
      "가격 1000\n"
     ]
    }
   ],
   "source": [
    "car.정보()"
   ]
  },
  {
   "cell_type": "code",
   "execution_count": 178,
   "id": "08a45d6d",
   "metadata": {},
   "outputs": [],
   "source": [
    "class 자동차(차):\n",
    "    def __init__(self, 바퀴, 가격):\n",
    "        super().__init__(바퀴, 가격)\n",
    "\n",
    "    def 정보(self):\n",
    "        print(\"바퀴수 \", self.바퀴)\n",
    "        print(\"가격 \", self.가격)"
   ]
  },
  {
   "cell_type": "code",
   "execution_count": 179,
   "id": "9adafe35",
   "metadata": {},
   "outputs": [],
   "source": [
    "car = 자동차(4, 1000)"
   ]
  },
  {
   "cell_type": "code",
   "execution_count": 180,
   "id": "5996a665",
   "metadata": {},
   "outputs": [
    {
     "name": "stdout",
     "output_type": "stream",
     "text": [
      "바퀴수  4\n",
      "가격  1000\n"
     ]
    }
   ],
   "source": [
    "car.정보()"
   ]
  },
  {
   "cell_type": "markdown",
   "id": "32f0332c",
   "metadata": {},
   "source": [
    "## 286 부모 클래스 생성자 호출\n",
    "다음 코드가 동작하도록 차 클래스를 수정하세요.\n",
    "\n",
    "bicycle = 자전차(2, 100, \"시마노\")  \n",
    "bicycle.정보()  \n",
    "바퀴수 2  \n",
    "가격 100"
   ]
  },
  {
   "cell_type": "code",
   "execution_count": 184,
   "id": "41777672",
   "metadata": {},
   "outputs": [],
   "source": [
    "class 차:\n",
    "    def __init__(self, 바퀴, 가격):\n",
    "        self.바퀴 = 바퀴\n",
    "        self.가격 = 가격\n",
    "    \n",
    "    def 정보(self):\n",
    "        print(\"바퀴수 \", self.바퀴)\n",
    "        print(\"가격 \", self.가격)\n",
    "\n",
    "class 자동차(차):\n",
    "    def __init__(self, 바퀴, 가격):\n",
    "        super().__init__(바퀴, 가격)\n",
    "\n",
    "class 자전차(차):\n",
    "    def __init__(self, 바퀴, 가격, 구동계):\n",
    "        super().__init__(바퀴, 가격)\n",
    "        self.구동계 = 구동계"
   ]
  },
  {
   "cell_type": "code",
   "execution_count": 185,
   "id": "d4d895f3",
   "metadata": {},
   "outputs": [],
   "source": [
    "bicycle = 자전차(2, 100, \"시마노\")"
   ]
  },
  {
   "cell_type": "code",
   "execution_count": 186,
   "id": "62d7cbf5",
   "metadata": {},
   "outputs": [
    {
     "name": "stdout",
     "output_type": "stream",
     "text": [
      "바퀴수  2\n",
      "가격  100\n"
     ]
    }
   ],
   "source": [
    "bicycle.정보()"
   ]
  },
  {
   "cell_type": "markdown",
   "id": "6c4a2b7c",
   "metadata": {},
   "source": [
    "## 287 부모 클래스 메서드 호출\n",
    "자전차의 정보() 메서드로 구동계 정보까지 출력하도록 수정해보세요.\n",
    "\n",
    "bicycle = 자전차(2, 100, \"시마노\")  \n",
    "bicycle.정보()  \n",
    "바퀴수 2  \n",
    "가격 100  \n",
    "구동계 시마노"
   ]
  },
  {
   "cell_type": "code",
   "execution_count": 190,
   "id": "d6594d86",
   "metadata": {},
   "outputs": [],
   "source": [
    "class 차:\n",
    "    def __init__(self, 바퀴, 가격):\n",
    "        self.바퀴 = 바퀴\n",
    "        self.가격 = 가격\n",
    "    \n",
    "    def 정보(self):\n",
    "        print(\"바퀴수 \", self.바퀴)\n",
    "        print(\"가격 \", self.가격)\n",
    "\n",
    "class 자동차(차):\n",
    "    def __init__(self, 바퀴, 가격):\n",
    "        super().__init__(바퀴, 가격)\n",
    "\n",
    "class 자전차(차):\n",
    "    def __init__(self, 바퀴, 가격, 구동계):\n",
    "        super().__init__(바퀴, 가격)\n",
    "        self.구동계 = 구동계\n",
    "        \n",
    "    def 정보(self):\n",
    "        super().정보()\n",
    "        print(\"구동계 \", self.구동계)"
   ]
  },
  {
   "cell_type": "code",
   "execution_count": 191,
   "id": "df90e53e",
   "metadata": {},
   "outputs": [],
   "source": [
    "bicycle = 자전차(2, 100, \"시마노\")"
   ]
  },
  {
   "cell_type": "code",
   "execution_count": 192,
   "id": "1a63dccd",
   "metadata": {},
   "outputs": [
    {
     "name": "stdout",
     "output_type": "stream",
     "text": [
      "바퀴수  2\n",
      "가격  100\n",
      "구동계  시마노\n"
     ]
    }
   ],
   "source": [
    "bicycle.정보()"
   ]
  },
  {
   "cell_type": "markdown",
   "id": "7d26d9c4",
   "metadata": {},
   "source": [
    "## 288 메서드 오버라이딩\n",
    "다음 코드의 실행 결과를 예상해보세요.\n",
    "\n",
    "class 부모:  \n",
    "  def 호출(self):  \n",
    "    print(\"부모호출\")  \n",
    "\n",
    "class 자식(부모):  \n",
    "  def 호출(self):  \n",
    "    print(\"자식호출\")  \n",
    "    \n",
    "나 = 자식()  \n",
    "나.호출()"
   ]
  },
  {
   "cell_type": "markdown",
   "id": "686f2d23",
   "metadata": {},
   "source": [
    "'자식호출'로 나올 것이다"
   ]
  },
  {
   "cell_type": "code",
   "execution_count": 193,
   "id": "f9c8f504",
   "metadata": {},
   "outputs": [],
   "source": [
    "class 부모:\n",
    "    def 호출(self):\n",
    "        print(\"부모호출\")\n",
    "\n",
    "class 자식(부모):\n",
    "    def 호출(self):\n",
    "        print(\"자식호출\")"
   ]
  },
  {
   "cell_type": "code",
   "execution_count": 194,
   "id": "8f56a721",
   "metadata": {},
   "outputs": [
    {
     "name": "stdout",
     "output_type": "stream",
     "text": [
      "자식호출\n"
     ]
    }
   ],
   "source": [
    "나 = 자식()\n",
    "나.호출()"
   ]
  },
  {
   "cell_type": "markdown",
   "id": "8cd6282e",
   "metadata": {},
   "source": [
    "## 289 생성자\n",
    "다음 코드의 실행 결과를 예상해보세요.  \n",
    "\n",
    "class 부모:  \n",
    "  def __init__(self):  \n",
    "    print(\"부모생성\")\n",
    " \n",
    "class 자식(부모):   \n",
    "  def __init__(self):  \n",
    "    print(\"자식생성\")\n",
    "\n",
    "나 = 자식()"
   ]
  },
  {
   "cell_type": "markdown",
   "id": "cf0b16a2",
   "metadata": {},
   "source": [
    "'자식생성'으로 나올 것이다."
   ]
  },
  {
   "cell_type": "code",
   "execution_count": 195,
   "id": "d71b7568",
   "metadata": {},
   "outputs": [],
   "source": [
    "class 부모:\n",
    "  def __init__(self):\n",
    "    print(\"부모생성\")\n",
    "\n",
    "class 자식(부모):\n",
    "  def __init__(self):\n",
    "    print(\"자식생성\")"
   ]
  },
  {
   "cell_type": "code",
   "execution_count": 197,
   "id": "53c9862b",
   "metadata": {},
   "outputs": [
    {
     "name": "stdout",
     "output_type": "stream",
     "text": [
      "자식생성\n"
     ]
    }
   ],
   "source": [
    "나 = 자식()"
   ]
  },
  {
   "cell_type": "markdown",
   "id": "22b07507",
   "metadata": {},
   "source": [
    "## 290 부모클래스 생성자 호출\n",
    "다음 코드의 실행 결과를 예상해보세요.\n",
    "\n",
    "class 부모:  \n",
    "  def __init__(self):  \n",
    "    print(\"부모생성\")  \n",
    "\n",
    "class 자식(부모):  \n",
    "  def __init__(self):  \n",
    "    print(\"자식생성\")  \n",
    "    super().__init__()\n",
    "\n",
    "나 = 자식()"
   ]
  },
  {
   "cell_type": "markdown",
   "id": "3da342da",
   "metadata": {},
   "source": [
    "자식생성  \n",
    "부모생성\n",
    "\n",
    "이렇게 나올 것이다"
   ]
  },
  {
   "cell_type": "code",
   "execution_count": 198,
   "id": "2060f581",
   "metadata": {},
   "outputs": [],
   "source": [
    "class 부모:\n",
    "  def __init__(self):\n",
    "    print(\"부모생성\")\n",
    "\n",
    "class 자식(부모):\n",
    "  def __init__(self):\n",
    "    print(\"자식생성\")\n",
    "    super().__init__()"
   ]
  },
  {
   "cell_type": "code",
   "execution_count": 199,
   "id": "668a4fd8",
   "metadata": {},
   "outputs": [
    {
     "name": "stdout",
     "output_type": "stream",
     "text": [
      "자식생성\n",
      "부모생성\n"
     ]
    }
   ],
   "source": [
    "나 = 자식()"
   ]
  },
  {
   "cell_type": "code",
   "execution_count": null,
   "id": "c908d714",
   "metadata": {},
   "outputs": [],
   "source": []
  }
 ],
 "metadata": {
  "kernelspec": {
   "display_name": "Python 3 (ipykernel)",
   "language": "python",
   "name": "python3"
  },
  "language_info": {
   "codemirror_mode": {
    "name": "ipython",
    "version": 3
   },
   "file_extension": ".py",
   "mimetype": "text/x-python",
   "name": "python",
   "nbconvert_exporter": "python",
   "pygments_lexer": "ipython3",
   "version": "3.11.5"
  }
 },
 "nbformat": 4,
 "nbformat_minor": 5
}
