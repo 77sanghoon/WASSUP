{
 "cells": [
  {
   "cell_type": "markdown",
   "id": "051bd46b",
   "metadata": {},
   "source": [
    "## 이스케이프 코드에 따른 개행"
   ]
  },
  {
   "cell_type": "code",
   "execution_count": 2,
   "id": "c85cfd4d",
   "metadata": {},
   "outputs": [
    {
     "data": {
      "text/plain": [
       "'Life is\\n too short'"
      ]
     },
     "execution_count": 2,
     "metadata": {},
     "output_type": "execute_result"
    }
   ],
   "source": [
    "a=\"Life is\\n too short\"\n",
    "a"
   ]
  },
  {
   "cell_type": "code",
   "execution_count": 3,
   "id": "4f3da9a6",
   "metadata": {},
   "outputs": [
    {
     "name": "stdout",
     "output_type": "stream",
     "text": [
      "Life is\n",
      " too short\n"
     ]
    }
   ],
   "source": [
    "a=\"Life is\\n too short\"\n",
    "print(a)"
   ]
  },
  {
   "cell_type": "code",
   "execution_count": 4,
   "id": "ffadc66c",
   "metadata": {},
   "outputs": [
    {
     "data": {
      "text/plain": [
       "'\\nLife is \\ntoo short\\n'"
      ]
     },
     "execution_count": 4,
     "metadata": {},
     "output_type": "execute_result"
    }
   ],
   "source": [
    "a='''\n",
    "Life is \n",
    "too short\n",
    "'''\n",
    "a"
   ]
  },
  {
   "cell_type": "code",
   "execution_count": 5,
   "id": "497f047d",
   "metadata": {},
   "outputs": [
    {
     "name": "stdout",
     "output_type": "stream",
     "text": [
      "\n",
      "Life is \n",
      "too short\n",
      "\n"
     ]
    }
   ],
   "source": [
    "print(a)"
   ]
  },
  {
   "cell_type": "markdown",
   "id": "1c1321a8",
   "metadata": {},
   "source": [
    "## 문자열 연산하기"
   ]
  },
  {
   "cell_type": "code",
   "execution_count": 7,
   "id": "8e61bd63",
   "metadata": {},
   "outputs": [
    {
     "data": {
      "text/plain": [
       "'Python is easy'"
      ]
     },
     "execution_count": 7,
     "metadata": {},
     "output_type": "execute_result"
    }
   ],
   "source": [
    "head='Python'\n",
    "tail=' is easy'\n",
    "head+tail"
   ]
  },
  {
   "cell_type": "code",
   "execution_count": 8,
   "id": "e55538d7",
   "metadata": {},
   "outputs": [
    {
     "data": {
      "text/plain": [
       "'PythonPythonPythonPythonPython'"
      ]
     },
     "execution_count": 8,
     "metadata": {},
     "output_type": "execute_result"
    }
   ],
   "source": [
    "head*5"
   ]
  },
  {
   "cell_type": "markdown",
   "id": "fa4c83db",
   "metadata": {},
   "source": [
    "## 문자열 길이 구하기"
   ]
  },
  {
   "cell_type": "code",
   "execution_count": 11,
   "id": "1bb53e40",
   "metadata": {},
   "outputs": [
    {
     "data": {
      "text/plain": [
       "17"
      ]
     },
     "execution_count": 11,
     "metadata": {},
     "output_type": "execute_result"
    }
   ],
   "source": [
    "a='Life is too short'\n",
    "len(a)"
   ]
  },
  {
   "cell_type": "markdown",
   "id": "65bbbf29",
   "metadata": {},
   "source": [
    "## 문자열과 인덱싱과 슬라이싱"
   ]
  },
  {
   "cell_type": "code",
   "execution_count": 12,
   "id": "ff163595",
   "metadata": {},
   "outputs": [],
   "source": [
    "a = \"Life is too short, You need Python\""
   ]
  },
  {
   "cell_type": "code",
   "execution_count": 14,
   "id": "a7bf5a1f",
   "metadata": {},
   "outputs": [
    {
     "data": {
      "text/plain": [
       "'e'"
      ]
     },
     "execution_count": 14,
     "metadata": {},
     "output_type": "execute_result"
    }
   ],
   "source": [
    "a[3]"
   ]
  },
  {
   "cell_type": "code",
   "execution_count": 17,
   "id": "7b38cb18",
   "metadata": {},
   "outputs": [
    {
     "data": {
      "text/plain": [
       "'L'"
      ]
     },
     "execution_count": 17,
     "metadata": {},
     "output_type": "execute_result"
    }
   ],
   "source": [
    "a[0]"
   ]
  },
  {
   "cell_type": "code",
   "execution_count": 18,
   "id": "27885983",
   "metadata": {},
   "outputs": [
    {
     "data": {
      "text/plain": [
       "'t'"
      ]
     },
     "execution_count": 18,
     "metadata": {},
     "output_type": "execute_result"
    }
   ],
   "source": [
    "a[8]"
   ]
  },
  {
   "cell_type": "code",
   "execution_count": 19,
   "id": "18e02cbe",
   "metadata": {},
   "outputs": [
    {
     "data": {
      "text/plain": [
       "'n'"
      ]
     },
     "execution_count": 19,
     "metadata": {},
     "output_type": "execute_result"
    }
   ],
   "source": [
    "a[-1]"
   ]
  },
  {
   "cell_type": "markdown",
   "id": "8dcccd02",
   "metadata": {},
   "source": [
    "---"
   ]
  },
  {
   "cell_type": "code",
   "execution_count": 20,
   "id": "e7f640ec",
   "metadata": {},
   "outputs": [
    {
     "data": {
      "text/plain": [
       "'Life '"
      ]
     },
     "execution_count": 20,
     "metadata": {},
     "output_type": "execute_result"
    }
   ],
   "source": [
    "a[0:5]"
   ]
  },
  {
   "cell_type": "code",
   "execution_count": 21,
   "id": "36db19d0",
   "metadata": {},
   "outputs": [
    {
     "data": {
      "text/plain": [
       "'fe '"
      ]
     },
     "execution_count": 21,
     "metadata": {},
     "output_type": "execute_result"
    }
   ],
   "source": [
    "a[2:5]"
   ]
  },
  {
   "cell_type": "code",
   "execution_count": 22,
   "id": "dd536ff7",
   "metadata": {},
   "outputs": [
    {
     "data": {
      "text/plain": [
       "'You need Python'"
      ]
     },
     "execution_count": 22,
     "metadata": {},
     "output_type": "execute_result"
    }
   ],
   "source": [
    "a[19:]"
   ]
  },
  {
   "cell_type": "code",
   "execution_count": 23,
   "id": "8968b6c0",
   "metadata": {},
   "outputs": [
    {
     "data": {
      "text/plain": [
       "'Life is too '"
      ]
     },
     "execution_count": 23,
     "metadata": {},
     "output_type": "execute_result"
    }
   ],
   "source": [
    "a[:12]"
   ]
  },
  {
   "cell_type": "code",
   "execution_count": 24,
   "id": "b11f6913",
   "metadata": {},
   "outputs": [
    {
     "data": {
      "text/plain": [
       "'Life is too short, You need Python'"
      ]
     },
     "execution_count": 24,
     "metadata": {},
     "output_type": "execute_result"
    }
   ],
   "source": [
    "a[:]"
   ]
  },
  {
   "cell_type": "code",
   "execution_count": 25,
   "id": "f5ecb6f3",
   "metadata": {},
   "outputs": [
    {
     "data": {
      "text/plain": [
       "'You need'"
      ]
     },
     "execution_count": 25,
     "metadata": {},
     "output_type": "execute_result"
    }
   ],
   "source": [
    "a[19:-7]"
   ]
  },
  {
   "cell_type": "markdown",
   "id": "f1d01bd1",
   "metadata": {},
   "source": [
    "---"
   ]
  },
  {
   "cell_type": "code",
   "execution_count": 27,
   "id": "eb7cd835",
   "metadata": {},
   "outputs": [],
   "source": [
    "a=\"20230331Rainy\""
   ]
  },
  {
   "cell_type": "code",
   "execution_count": 29,
   "id": "dbc91c48",
   "metadata": {},
   "outputs": [],
   "source": [
    "date=a[:8]\n",
    "weather=a[8:]"
   ]
  },
  {
   "cell_type": "code",
   "execution_count": 30,
   "id": "13a4e963",
   "metadata": {},
   "outputs": [
    {
     "data": {
      "text/plain": [
       "'20230331'"
      ]
     },
     "execution_count": 30,
     "metadata": {},
     "output_type": "execute_result"
    }
   ],
   "source": [
    "date"
   ]
  },
  {
   "cell_type": "code",
   "execution_count": 31,
   "id": "b649a81c",
   "metadata": {},
   "outputs": [
    {
     "data": {
      "text/plain": [
       "'Rainy'"
      ]
     },
     "execution_count": 31,
     "metadata": {},
     "output_type": "execute_result"
    }
   ],
   "source": [
    "weather"
   ]
  },
  {
   "cell_type": "code",
   "execution_count": 32,
   "id": "c8447a15",
   "metadata": {},
   "outputs": [
    {
     "data": {
      "text/plain": [
       "'20230331Rainy'"
      ]
     },
     "execution_count": 32,
     "metadata": {},
     "output_type": "execute_result"
    }
   ],
   "source": [
    "a"
   ]
  },
  {
   "cell_type": "markdown",
   "id": "4a69b41b",
   "metadata": {},
   "source": [
    "## 문자열 내용 변경"
   ]
  },
  {
   "cell_type": "code",
   "execution_count": 33,
   "id": "9a6aee8d",
   "metadata": {},
   "outputs": [],
   "source": [
    "a=\"Pithon\""
   ]
  },
  {
   "cell_type": "code",
   "execution_count": 36,
   "id": "64e6c8cd",
   "metadata": {},
   "outputs": [
    {
     "ename": "TypeError",
     "evalue": "'str' object does not support item assignment",
     "output_type": "error",
     "traceback": [
      "\u001b[1;31m---------------------------------------------------------------------------\u001b[0m",
      "\u001b[1;31mTypeError\u001b[0m                                 Traceback (most recent call last)",
      "Cell \u001b[1;32mIn[36], line 1\u001b[0m\n\u001b[1;32m----> 1\u001b[0m a[\u001b[38;5;241m1\u001b[39m]\u001b[38;5;241m=\u001b[39m\u001b[38;5;124m'\u001b[39m\u001b[38;5;124my\u001b[39m\u001b[38;5;124m'\u001b[39m\n",
      "\u001b[1;31mTypeError\u001b[0m: 'str' object does not support item assignment"
     ]
    }
   ],
   "source": [
    "a[1]='y'"
   ]
  },
  {
   "cell_type": "code",
   "execution_count": 37,
   "id": "cdef8a4f",
   "metadata": {},
   "outputs": [
    {
     "data": {
      "text/plain": [
       "'Python'"
      ]
     },
     "execution_count": 37,
     "metadata": {},
     "output_type": "execute_result"
    }
   ],
   "source": [
    "a[0]+'y'+a[2:]"
   ]
  },
  {
   "cell_type": "markdown",
   "id": "c394ccc6",
   "metadata": {},
   "source": [
    "## 문자열 포매팅"
   ]
  },
  {
   "cell_type": "code",
   "execution_count": 38,
   "id": "19c24219",
   "metadata": {},
   "outputs": [
    {
     "data": {
      "text/plain": [
       "'I eat 3 apples'"
      ]
     },
     "execution_count": 38,
     "metadata": {},
     "output_type": "execute_result"
    }
   ],
   "source": [
    "'I eat %d apples' %3"
   ]
  },
  {
   "cell_type": "code",
   "execution_count": 39,
   "id": "c09c35c6",
   "metadata": {},
   "outputs": [
    {
     "data": {
      "text/plain": [
       "'I eat five apples'"
      ]
     },
     "execution_count": 39,
     "metadata": {},
     "output_type": "execute_result"
    }
   ],
   "source": [
    "'I eat %s apples' %'five'"
   ]
  },
  {
   "cell_type": "code",
   "execution_count": 40,
   "id": "f15e06d2",
   "metadata": {},
   "outputs": [
    {
     "data": {
      "text/plain": [
       "'I eat 3 apples'"
      ]
     },
     "execution_count": 40,
     "metadata": {},
     "output_type": "execute_result"
    }
   ],
   "source": [
    "number=3\n",
    "'I eat %d apples' %number"
   ]
  },
  {
   "cell_type": "code",
   "execution_count": 43,
   "id": "efad1a1e",
   "metadata": {},
   "outputs": [
    {
     "data": {
      "text/plain": [
       "'I ate 3 apples. so I was sick for three days'"
      ]
     },
     "execution_count": 43,
     "metadata": {},
     "output_type": "execute_result"
    }
   ],
   "source": [
    "number=3\n",
    "day='three'\n",
    "'I ate %d apples. so I was sick for %s days' %(number, day)"
   ]
  },
  {
   "cell_type": "code",
   "execution_count": 44,
   "id": "f659cbe3",
   "metadata": {},
   "outputs": [
    {
     "data": {
      "text/plain": [
       "'error is 98%'"
      ]
     },
     "execution_count": 44,
     "metadata": {},
     "output_type": "execute_result"
    }
   ],
   "source": [
    "'error is %d%%' %98"
   ]
  },
  {
   "cell_type": "markdown",
   "id": "0a5a379c",
   "metadata": {},
   "source": [
    "## 포맷코드와 숫자 함께 사용하기"
   ]
  },
  {
   "cell_type": "code",
   "execution_count": 45,
   "id": "34bdc6e1",
   "metadata": {},
   "outputs": [
    {
     "data": {
      "text/plain": [
       "'        hi'"
      ]
     },
     "execution_count": 45,
     "metadata": {},
     "output_type": "execute_result"
    }
   ],
   "source": [
    "'%10s' %'hi'"
   ]
  },
  {
   "cell_type": "code",
   "execution_count": 46,
   "id": "ad886e61",
   "metadata": {},
   "outputs": [
    {
     "data": {
      "text/plain": [
       "'hi        jane'"
      ]
     },
     "execution_count": 46,
     "metadata": {},
     "output_type": "execute_result"
    }
   ],
   "source": [
    "'%-10sjane' %'hi'"
   ]
  },
  {
   "cell_type": "code",
   "execution_count": 47,
   "id": "94ecda57",
   "metadata": {},
   "outputs": [
    {
     "data": {
      "text/plain": [
       "'3.1412'"
      ]
     },
     "execution_count": 47,
     "metadata": {},
     "output_type": "execute_result"
    }
   ],
   "source": [
    "'%0.4f' %3.141243423"
   ]
  },
  {
   "cell_type": "code",
   "execution_count": 48,
   "id": "ae5e643d",
   "metadata": {},
   "outputs": [
    {
     "data": {
      "text/plain": [
       "'    3.2423'"
      ]
     },
     "execution_count": 48,
     "metadata": {},
     "output_type": "execute_result"
    }
   ],
   "source": [
    "'%10.4f' %3.2423424"
   ]
  },
  {
   "cell_type": "markdown",
   "id": "1bc34cf9",
   "metadata": {},
   "source": [
    "## format 함수를 사용한 포매팅"
   ]
  },
  {
   "cell_type": "code",
   "execution_count": 49,
   "id": "b22757f2",
   "metadata": {},
   "outputs": [
    {
     "data": {
      "text/plain": [
       "'I eat 3 apples'"
      ]
     },
     "execution_count": 49,
     "metadata": {},
     "output_type": "execute_result"
    }
   ],
   "source": [
    "'I eat {0} apples'.format(3)"
   ]
  },
  {
   "cell_type": "code",
   "execution_count": 50,
   "id": "b171dfd4",
   "metadata": {},
   "outputs": [
    {
     "data": {
      "text/plain": [
       "'I eat five apples'"
      ]
     },
     "execution_count": 50,
     "metadata": {},
     "output_type": "execute_result"
    }
   ],
   "source": [
    "'I eat {0} apples'.format('five')"
   ]
  },
  {
   "cell_type": "code",
   "execution_count": 53,
   "id": "a8f36d56",
   "metadata": {},
   "outputs": [
    {
     "data": {
      "text/plain": [
       "'I eat 5 apples'"
      ]
     },
     "execution_count": 53,
     "metadata": {},
     "output_type": "execute_result"
    }
   ],
   "source": [
    "number=5\n",
    "'I eat {0} apples'.format(number)"
   ]
  },
  {
   "cell_type": "code",
   "execution_count": 54,
   "id": "24d0e271",
   "metadata": {},
   "outputs": [
    {
     "data": {
      "text/plain": [
       "'I eat 3 apples, so I was sick for three days'"
      ]
     },
     "execution_count": 54,
     "metadata": {},
     "output_type": "execute_result"
    }
   ],
   "source": [
    "number=3\n",
    "day='three'\n",
    "'I eat {0} apples, so I was sick for {1} days'.format(number, day)"
   ]
  },
  {
   "cell_type": "code",
   "execution_count": 55,
   "id": "4d03222b",
   "metadata": {},
   "outputs": [
    {
     "data": {
      "text/plain": [
       "'I eat 5 apples, so I was sick for five days'"
      ]
     },
     "execution_count": 55,
     "metadata": {},
     "output_type": "execute_result"
    }
   ],
   "source": [
    "'I eat {number} apples, so I was sick for {day} days'.format(number=5, day='five')"
   ]
  },
  {
   "cell_type": "code",
   "execution_count": 56,
   "id": "7bf19b3b",
   "metadata": {},
   "outputs": [
    {
     "data": {
      "text/plain": [
       "'I eat 2 apples, so I was sick for six days'"
      ]
     },
     "execution_count": 56,
     "metadata": {},
     "output_type": "execute_result"
    }
   ],
   "source": [
    "number=2\n",
    "'I eat {0} apples, so I was sick for {day} days'.format(number, day='six')"
   ]
  },
  {
   "cell_type": "markdown",
   "id": "901fa39e",
   "metadata": {},
   "source": [
    "---"
   ]
  },
  {
   "cell_type": "code",
   "execution_count": 58,
   "id": "d7c562f2",
   "metadata": {},
   "outputs": [
    {
     "data": {
      "text/plain": [
       "'hi        '"
      ]
     },
     "execution_count": 58,
     "metadata": {},
     "output_type": "execute_result"
    }
   ],
   "source": [
    "'{0:<10}'.format('hi')"
   ]
  },
  {
   "cell_type": "code",
   "execution_count": 59,
   "id": "6ec34359",
   "metadata": {},
   "outputs": [
    {
     "data": {
      "text/plain": [
       "'        hi'"
      ]
     },
     "execution_count": 59,
     "metadata": {},
     "output_type": "execute_result"
    }
   ],
   "source": [
    "'{0:>10}'.format('hi')"
   ]
  },
  {
   "cell_type": "code",
   "execution_count": 60,
   "id": "1943e5be",
   "metadata": {},
   "outputs": [
    {
     "data": {
      "text/plain": [
       "'    hi    '"
      ]
     },
     "execution_count": 60,
     "metadata": {},
     "output_type": "execute_result"
    }
   ],
   "source": [
    "'{0:^10}'.format('hi')"
   ]
  },
  {
   "cell_type": "markdown",
   "id": "97ae09ad",
   "metadata": {},
   "source": [
    "---"
   ]
  },
  {
   "cell_type": "code",
   "execution_count": 61,
   "id": "53bf26bd",
   "metadata": {},
   "outputs": [
    {
     "data": {
      "text/plain": [
       "'3.2413'"
      ]
     },
     "execution_count": 61,
     "metadata": {},
     "output_type": "execute_result"
    }
   ],
   "source": [
    "y=3.241342132\n",
    "'{0:0.4f}'.format(y)"
   ]
  },
  {
   "cell_type": "markdown",
   "id": "daee53fa",
   "metadata": {},
   "source": [
    "## f 문자열 포매팅"
   ]
  },
  {
   "cell_type": "code",
   "execution_count": 63,
   "id": "d3d4f0bb",
   "metadata": {},
   "outputs": [
    {
     "data": {
      "text/plain": [
       "'나의 이름은 홍길동입니다. 나이는 30입니다.'"
      ]
     },
     "execution_count": 63,
     "metadata": {},
     "output_type": "execute_result"
    }
   ],
   "source": [
    "name='홍길동'\n",
    "age=30\n",
    "f'나의 이름은 {name}입니다. 나이는 {age}입니다.'"
   ]
  },
  {
   "cell_type": "code",
   "execution_count": 65,
   "id": "8404eab9",
   "metadata": {},
   "outputs": [
    {
     "data": {
      "text/plain": [
       "'나의 나이는 31입니다.'"
      ]
     },
     "execution_count": 65,
     "metadata": {},
     "output_type": "execute_result"
    }
   ],
   "source": [
    "f'나의 나이는 {age+1}입니다.'"
   ]
  },
  {
   "cell_type": "code",
   "execution_count": 67,
   "id": "f4e48765",
   "metadata": {},
   "outputs": [
    {
     "data": {
      "text/plain": [
       "'나의 이름은 홍길동입니다. 나이는 30입니다.'"
      ]
     },
     "execution_count": 67,
     "metadata": {},
     "output_type": "execute_result"
    }
   ],
   "source": [
    "d={'name':'홍길동', 'age':30}\n",
    "f'나의 이름은 {d[\"name\"]}입니다. 나이는 {d[\"age\"]}입니다.'"
   ]
  },
  {
   "cell_type": "markdown",
   "id": "fddd905f",
   "metadata": {},
   "source": [
    "## 문자열 함수"
   ]
  },
  {
   "cell_type": "code",
   "execution_count": 68,
   "id": "471239ab",
   "metadata": {},
   "outputs": [
    {
     "data": {
      "text/plain": [
       "2"
      ]
     },
     "execution_count": 68,
     "metadata": {},
     "output_type": "execute_result"
    }
   ],
   "source": [
    "a='hobby'\n",
    "a.count('b')"
   ]
  },
  {
   "cell_type": "code",
   "execution_count": 70,
   "id": "e8c12970",
   "metadata": {},
   "outputs": [
    {
     "data": {
      "text/plain": [
       "4"
      ]
     },
     "execution_count": 70,
     "metadata": {},
     "output_type": "execute_result"
    }
   ],
   "source": [
    "a.find('y')"
   ]
  },
  {
   "cell_type": "code",
   "execution_count": 71,
   "id": "10f95f10",
   "metadata": {},
   "outputs": [
    {
     "data": {
      "text/plain": [
       "-1"
      ]
     },
     "execution_count": 71,
     "metadata": {},
     "output_type": "execute_result"
    }
   ],
   "source": [
    "a.find('k')"
   ]
  },
  {
   "cell_type": "code",
   "execution_count": 72,
   "id": "7f7e4a29",
   "metadata": {},
   "outputs": [
    {
     "data": {
      "text/plain": [
       "2"
      ]
     },
     "execution_count": 72,
     "metadata": {},
     "output_type": "execute_result"
    }
   ],
   "source": [
    "a.index('b')"
   ]
  },
  {
   "cell_type": "code",
   "execution_count": 73,
   "id": "9a194964",
   "metadata": {},
   "outputs": [
    {
     "ename": "ValueError",
     "evalue": "substring not found",
     "output_type": "error",
     "traceback": [
      "\u001b[1;31m---------------------------------------------------------------------------\u001b[0m",
      "\u001b[1;31mValueError\u001b[0m                                Traceback (most recent call last)",
      "Cell \u001b[1;32mIn[73], line 1\u001b[0m\n\u001b[1;32m----> 1\u001b[0m a\u001b[38;5;241m.\u001b[39mindex(\u001b[38;5;124m'\u001b[39m\u001b[38;5;124mk\u001b[39m\u001b[38;5;124m'\u001b[39m)\n",
      "\u001b[1;31mValueError\u001b[0m: substring not found"
     ]
    }
   ],
   "source": [
    "a.index('k')"
   ]
  },
  {
   "cell_type": "code",
   "execution_count": 74,
   "id": "907f4346",
   "metadata": {},
   "outputs": [
    {
     "data": {
      "text/plain": [
       "'s,a,d,f,s'"
      ]
     },
     "execution_count": 74,
     "metadata": {},
     "output_type": "execute_result"
    }
   ],
   "source": [
    "\",\".join('sadfs')"
   ]
  },
  {
   "cell_type": "code",
   "execution_count": 75,
   "id": "d00b8517",
   "metadata": {},
   "outputs": [
    {
     "data": {
      "text/plain": [
       "'a,b,c,d'"
      ]
     },
     "execution_count": 75,
     "metadata": {},
     "output_type": "execute_result"
    }
   ],
   "source": [
    "\",\".join(['a', 'b', 'c', 'd'])"
   ]
  },
  {
   "cell_type": "code",
   "execution_count": 76,
   "id": "90fcf41d",
   "metadata": {},
   "outputs": [
    {
     "data": {
      "text/plain": [
       "'HI'"
      ]
     },
     "execution_count": 76,
     "metadata": {},
     "output_type": "execute_result"
    }
   ],
   "source": [
    "a='Hi'\n",
    "a.upper()"
   ]
  },
  {
   "cell_type": "code",
   "execution_count": 77,
   "id": "9fce986f",
   "metadata": {},
   "outputs": [
    {
     "data": {
      "text/plain": [
       "'hi'"
      ]
     },
     "execution_count": 77,
     "metadata": {},
     "output_type": "execute_result"
    }
   ],
   "source": [
    "a='Hi'\n",
    "a.lower()"
   ]
  },
  {
   "cell_type": "code",
   "execution_count": 78,
   "id": "0b42459e",
   "metadata": {},
   "outputs": [
    {
     "data": {
      "text/plain": [
       "'Hi    '"
      ]
     },
     "execution_count": 78,
     "metadata": {},
     "output_type": "execute_result"
    }
   ],
   "source": [
    "a='    Hi    '\n",
    "a.lstrip()"
   ]
  },
  {
   "cell_type": "code",
   "execution_count": 79,
   "id": "0a00c066",
   "metadata": {},
   "outputs": [
    {
     "data": {
      "text/plain": [
       "'    Hi'"
      ]
     },
     "execution_count": 79,
     "metadata": {},
     "output_type": "execute_result"
    }
   ],
   "source": [
    "a='    Hi    '\n",
    "a.rstrip()"
   ]
  },
  {
   "cell_type": "code",
   "execution_count": 80,
   "id": "d7c98c5a",
   "metadata": {},
   "outputs": [
    {
     "data": {
      "text/plain": [
       "'Hi'"
      ]
     },
     "execution_count": 80,
     "metadata": {},
     "output_type": "execute_result"
    }
   ],
   "source": [
    "a='    Hi    '\n",
    "a.strip()"
   ]
  },
  {
   "cell_type": "code",
   "execution_count": 81,
   "id": "8ec9e8c1",
   "metadata": {},
   "outputs": [
    {
     "data": {
      "text/plain": [
       "'Your leg is too short'"
      ]
     },
     "execution_count": 81,
     "metadata": {},
     "output_type": "execute_result"
    }
   ],
   "source": [
    "a=\"Life is too short\"\n",
    "a.replace('Life', 'Your leg')"
   ]
  },
  {
   "cell_type": "code",
   "execution_count": 82,
   "id": "b3c218bd",
   "metadata": {},
   "outputs": [
    {
     "data": {
      "text/plain": [
       "'Life is too short'"
      ]
     },
     "execution_count": 82,
     "metadata": {},
     "output_type": "execute_result"
    }
   ],
   "source": [
    "a"
   ]
  },
  {
   "cell_type": "code",
   "execution_count": 83,
   "id": "5427e245",
   "metadata": {},
   "outputs": [
    {
     "data": {
      "text/plain": [
       "['Life', 'is', 'too', 'short']"
      ]
     },
     "execution_count": 83,
     "metadata": {},
     "output_type": "execute_result"
    }
   ],
   "source": [
    "a.split()"
   ]
  },
  {
   "cell_type": "code",
   "execution_count": 85,
   "id": "d4d2e5c3",
   "metadata": {},
   "outputs": [
    {
     "data": {
      "text/plain": [
       "['a', 'b', 'c', 'd']"
      ]
     },
     "execution_count": 85,
     "metadata": {},
     "output_type": "execute_result"
    }
   ],
   "source": [
    "b='a:b:c:d'\n",
    "b.split(':')"
   ]
  },
  {
   "cell_type": "markdown",
   "id": "7e34e58c",
   "metadata": {},
   "source": [
    "## 자료형의 값을 저장하는 공간, 변수"
   ]
  },
  {
   "cell_type": "code",
   "execution_count": 1,
   "id": "e6d072bc",
   "metadata": {},
   "outputs": [],
   "source": [
    "a=[1,2,3]"
   ]
  },
  {
   "cell_type": "code",
   "execution_count": 2,
   "id": "b3b74125",
   "metadata": {},
   "outputs": [
    {
     "data": {
      "text/plain": [
       "2197253333312"
      ]
     },
     "execution_count": 2,
     "metadata": {},
     "output_type": "execute_result"
    }
   ],
   "source": [
    "id(a)"
   ]
  },
  {
   "cell_type": "code",
   "execution_count": 3,
   "id": "08e9eafb",
   "metadata": {},
   "outputs": [],
   "source": [
    "b=a"
   ]
  },
  {
   "cell_type": "code",
   "execution_count": 4,
   "id": "211f683b",
   "metadata": {},
   "outputs": [
    {
     "data": {
      "text/plain": [
       "2197253333312"
      ]
     },
     "execution_count": 4,
     "metadata": {},
     "output_type": "execute_result"
    }
   ],
   "source": [
    "id(b)"
   ]
  },
  {
   "cell_type": "code",
   "execution_count": 5,
   "id": "d3cc8e72",
   "metadata": {},
   "outputs": [
    {
     "data": {
      "text/plain": [
       "True"
      ]
     },
     "execution_count": 5,
     "metadata": {},
     "output_type": "execute_result"
    }
   ],
   "source": [
    "a is b"
   ]
  },
  {
   "cell_type": "code",
   "execution_count": 6,
   "id": "cf4da032",
   "metadata": {},
   "outputs": [],
   "source": [
    "a[1]=4"
   ]
  },
  {
   "cell_type": "code",
   "execution_count": 7,
   "id": "5b5f26f8",
   "metadata": {},
   "outputs": [
    {
     "data": {
      "text/plain": [
       "[1, 4, 3]"
      ]
     },
     "execution_count": 7,
     "metadata": {},
     "output_type": "execute_result"
    }
   ],
   "source": [
    "a"
   ]
  },
  {
   "cell_type": "code",
   "execution_count": 8,
   "id": "a33839af",
   "metadata": {},
   "outputs": [
    {
     "data": {
      "text/plain": [
       "[1, 4, 3]"
      ]
     },
     "execution_count": 8,
     "metadata": {},
     "output_type": "execute_result"
    }
   ],
   "source": [
    "b"
   ]
  },
  {
   "cell_type": "code",
   "execution_count": 9,
   "id": "d0b1d317",
   "metadata": {},
   "outputs": [],
   "source": [
    "from copy import copy"
   ]
  },
  {
   "cell_type": "code",
   "execution_count": 10,
   "id": "20bc303f",
   "metadata": {},
   "outputs": [],
   "source": [
    "a=[1,2,3]"
   ]
  },
  {
   "cell_type": "code",
   "execution_count": 11,
   "id": "79b8b4f2",
   "metadata": {},
   "outputs": [],
   "source": [
    "b=copy(a)"
   ]
  },
  {
   "cell_type": "code",
   "execution_count": 12,
   "id": "a71f2de7",
   "metadata": {},
   "outputs": [
    {
     "data": {
      "text/plain": [
       "False"
      ]
     },
     "execution_count": 12,
     "metadata": {},
     "output_type": "execute_result"
    }
   ],
   "source": [
    "a is b"
   ]
  },
  {
   "cell_type": "code",
   "execution_count": 13,
   "id": "6212b32c",
   "metadata": {},
   "outputs": [],
   "source": [
    "b=a.copy()"
   ]
  },
  {
   "cell_type": "code",
   "execution_count": 14,
   "id": "af2277bc",
   "metadata": {},
   "outputs": [
    {
     "data": {
      "text/plain": [
       "False"
      ]
     },
     "execution_count": 14,
     "metadata": {},
     "output_type": "execute_result"
    }
   ],
   "source": [
    "a is b"
   ]
  },
  {
   "cell_type": "markdown",
   "id": "23a611df",
   "metadata": {},
   "source": [
    "## 변수를 만드는 여러가지 방법"
   ]
  },
  {
   "cell_type": "code",
   "execution_count": 15,
   "id": "5af58c0c",
   "metadata": {},
   "outputs": [],
   "source": [
    "a, b = ('python', 'life')"
   ]
  },
  {
   "cell_type": "code",
   "execution_count": 16,
   "id": "e0544fd1",
   "metadata": {},
   "outputs": [
    {
     "data": {
      "text/plain": [
       "'python'"
      ]
     },
     "execution_count": 16,
     "metadata": {},
     "output_type": "execute_result"
    }
   ],
   "source": [
    "a"
   ]
  },
  {
   "cell_type": "code",
   "execution_count": 17,
   "id": "88771274",
   "metadata": {},
   "outputs": [
    {
     "data": {
      "text/plain": [
       "'life'"
      ]
     },
     "execution_count": 17,
     "metadata": {},
     "output_type": "execute_result"
    }
   ],
   "source": [
    "b"
   ]
  },
  {
   "cell_type": "code",
   "execution_count": 18,
   "id": "91700eea",
   "metadata": {},
   "outputs": [],
   "source": [
    "(a,b)='python', 'life'"
   ]
  },
  {
   "cell_type": "code",
   "execution_count": 19,
   "id": "dbaec0ea",
   "metadata": {},
   "outputs": [
    {
     "data": {
      "text/plain": [
       "'python'"
      ]
     },
     "execution_count": 19,
     "metadata": {},
     "output_type": "execute_result"
    }
   ],
   "source": [
    "a"
   ]
  },
  {
   "cell_type": "code",
   "execution_count": 20,
   "id": "6534704a",
   "metadata": {},
   "outputs": [
    {
     "data": {
      "text/plain": [
       "'life'"
      ]
     },
     "execution_count": 20,
     "metadata": {},
     "output_type": "execute_result"
    }
   ],
   "source": [
    "b"
   ]
  },
  {
   "cell_type": "code",
   "execution_count": 22,
   "id": "d8000fe9",
   "metadata": {},
   "outputs": [],
   "source": [
    "[a, b] = ['python', 'life']"
   ]
  },
  {
   "cell_type": "code",
   "execution_count": 23,
   "id": "deb9722d",
   "metadata": {},
   "outputs": [
    {
     "data": {
      "text/plain": [
       "'python'"
      ]
     },
     "execution_count": 23,
     "metadata": {},
     "output_type": "execute_result"
    }
   ],
   "source": [
    "a"
   ]
  },
  {
   "cell_type": "code",
   "execution_count": 24,
   "id": "8ff320cc",
   "metadata": {},
   "outputs": [
    {
     "data": {
      "text/plain": [
       "'life'"
      ]
     },
     "execution_count": 24,
     "metadata": {},
     "output_type": "execute_result"
    }
   ],
   "source": [
    "b"
   ]
  },
  {
   "cell_type": "code",
   "execution_count": 25,
   "id": "14783c21",
   "metadata": {},
   "outputs": [],
   "source": [
    "a=3\n",
    "b=5"
   ]
  },
  {
   "cell_type": "code",
   "execution_count": 26,
   "id": "a2719f79",
   "metadata": {},
   "outputs": [],
   "source": [
    "a,b=b,a"
   ]
  },
  {
   "cell_type": "code",
   "execution_count": 27,
   "id": "34ee257b",
   "metadata": {},
   "outputs": [
    {
     "data": {
      "text/plain": [
       "5"
      ]
     },
     "execution_count": 27,
     "metadata": {},
     "output_type": "execute_result"
    }
   ],
   "source": [
    "a"
   ]
  },
  {
   "cell_type": "code",
   "execution_count": 28,
   "id": "944a4e48",
   "metadata": {},
   "outputs": [
    {
     "data": {
      "text/plain": [
       "3"
      ]
     },
     "execution_count": 28,
     "metadata": {},
     "output_type": "execute_result"
    }
   ],
   "source": [
    "b"
   ]
  },
  {
   "cell_type": "code",
   "execution_count": null,
   "id": "8bf32f4b",
   "metadata": {},
   "outputs": [],
   "source": []
  }
 ],
 "metadata": {
  "kernelspec": {
   "display_name": "Python 3 (ipykernel)",
   "language": "python",
   "name": "python3"
  },
  "language_info": {
   "codemirror_mode": {
    "name": "ipython",
    "version": 3
   },
   "file_extension": ".py",
   "mimetype": "text/x-python",
   "name": "python",
   "nbconvert_exporter": "python",
   "pygments_lexer": "ipython3",
   "version": "3.11.5"
  }
 },
 "nbformat": 4,
 "nbformat_minor": 5
}
