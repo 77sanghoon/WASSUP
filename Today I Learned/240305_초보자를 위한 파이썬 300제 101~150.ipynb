{
 "cells": [
  {
   "cell_type": "markdown",
   "id": "ef8f5b12",
   "metadata": {},
   "source": [
    "## 101\n",
    "파이썬에서 True 혹은 False를 갖는 데이터 타입은 무엇인가?"
   ]
  },
  {
   "cell_type": "markdown",
   "id": "e2e65a17",
   "metadata": {},
   "source": [
    "bool 자료형"
   ]
  },
  {
   "cell_type": "markdown",
   "id": "2d9ffade",
   "metadata": {},
   "source": [
    "## 102\n",
    "아래 코드의 출력 결과를 예상하라\n",
    "\n",
    "print(3 == 5)"
   ]
  },
  {
   "cell_type": "markdown",
   "id": "52e6c071",
   "metadata": {},
   "source": [
    "False로 예상"
   ]
  },
  {
   "cell_type": "code",
   "execution_count": 1,
   "id": "563d2e10",
   "metadata": {},
   "outputs": [
    {
     "name": "stdout",
     "output_type": "stream",
     "text": [
      "False\n"
     ]
    }
   ],
   "source": [
    "print(3 == 5)"
   ]
  },
  {
   "cell_type": "markdown",
   "id": "79daae25",
   "metadata": {},
   "source": [
    "## 103\n",
    "아래 코드의 출력 결과를 예상하라\n",
    "\n",
    "print(3 < 5)"
   ]
  },
  {
   "cell_type": "markdown",
   "id": "a2fa0e57",
   "metadata": {},
   "source": [
    "True로 예상"
   ]
  },
  {
   "cell_type": "code",
   "execution_count": 2,
   "id": "1e8d5800",
   "metadata": {},
   "outputs": [
    {
     "name": "stdout",
     "output_type": "stream",
     "text": [
      "True\n"
     ]
    }
   ],
   "source": [
    "print(3 < 5)"
   ]
  },
  {
   "cell_type": "markdown",
   "id": "f40e3f0b",
   "metadata": {},
   "source": [
    "## 104\n",
    "아래 코드의 결과를 예상하라.\n",
    "\n",
    "x = 4   \n",
    "print(1 < x < 5)"
   ]
  },
  {
   "cell_type": "markdown",
   "id": "4d4bdfb6",
   "metadata": {},
   "source": [
    "True로 예상"
   ]
  },
  {
   "cell_type": "code",
   "execution_count": 4,
   "id": "01d83649",
   "metadata": {},
   "outputs": [
    {
     "name": "stdout",
     "output_type": "stream",
     "text": [
      "True\n"
     ]
    }
   ],
   "source": [
    "x = 4   \n",
    "print(1 < x < 5)"
   ]
  },
  {
   "cell_type": "markdown",
   "id": "68773755",
   "metadata": {},
   "source": [
    "## 105\n",
    "아래 코드의 결과를 예상하라.\n",
    "\n",
    "print ((3 == 3) and (4 != 3))"
   ]
  },
  {
   "cell_type": "markdown",
   "id": "1bfc98ae",
   "metadata": {},
   "source": [
    "True로 예상"
   ]
  },
  {
   "cell_type": "code",
   "execution_count": 5,
   "id": "eefc311a",
   "metadata": {},
   "outputs": [
    {
     "name": "stdout",
     "output_type": "stream",
     "text": [
      "True\n"
     ]
    }
   ],
   "source": [
    "print ((3 == 3) and (4 != 3))"
   ]
  },
  {
   "cell_type": "markdown",
   "id": "bf8a4572",
   "metadata": {},
   "source": [
    "## 106\n",
    "아래 코드에서 에러가 발생하는 원인에 대해 설명하라.\n",
    "\n",
    "print(3 => 4)"
   ]
  },
  {
   "cell_type": "markdown",
   "id": "fbee9b78",
   "metadata": {},
   "source": [
    "지원하지 않는 연산자"
   ]
  },
  {
   "cell_type": "markdown",
   "id": "58c03943",
   "metadata": {},
   "source": [
    "## 107\n",
    "아래 코드의 출력 결과를 예상하라\n",
    "\n",
    "if 4 < 3:   \n",
    "    print(\"Hello World\")"
   ]
  },
  {
   "cell_type": "markdown",
   "id": "05e65ab5",
   "metadata": {},
   "source": [
    "아무것도 뜨지 않는다"
   ]
  },
  {
   "cell_type": "markdown",
   "id": "c787c04d",
   "metadata": {},
   "source": [
    "if 4 < 3:   \n",
    "    print(\"Hello World\")"
   ]
  },
  {
   "cell_type": "markdown",
   "id": "76b1e4b1",
   "metadata": {},
   "source": [
    "## 108\n",
    "아래 코드의 출력 결과를 예상하라\n",
    "\n",
    "if 4 < 3:   \n",
    "    print(\"Hello World.\")   \n",
    "else:   \n",
    "    print(\"Hi, there.\")"
   ]
  },
  {
   "cell_type": "markdown",
   "id": "df781b49",
   "metadata": {},
   "source": [
    "Hi, there. 으로 나타난다."
   ]
  },
  {
   "cell_type": "code",
   "execution_count": 8,
   "id": "a33d4f2f",
   "metadata": {},
   "outputs": [
    {
     "name": "stdout",
     "output_type": "stream",
     "text": [
      "Hi, there.\n"
     ]
    }
   ],
   "source": [
    "if 4 < 3:   \n",
    "    print(\"Hello World.\")   \n",
    "else:   \n",
    "    print(\"Hi, there.\")"
   ]
  },
  {
   "cell_type": "markdown",
   "id": "5920f3d6",
   "metadata": {},
   "source": [
    "## 109\n",
    "아래 코드의 출력 결과를 예상하라\n",
    " \n",
    "if True :   \n",
    "    print (\"1\")   \n",
    "    print (\"2\")   \n",
    "else :   \n",
    "    print(\"3\")   \n",
    "print(\"4\")"
   ]
  },
  {
   "cell_type": "markdown",
   "id": "dc66fbca",
   "metadata": {},
   "source": [
    "1   \n",
    "2   \n",
    "4   \n",
    "이렇게 나타난다."
   ]
  },
  {
   "cell_type": "code",
   "execution_count": 9,
   "id": "b1401b35",
   "metadata": {},
   "outputs": [
    {
     "name": "stdout",
     "output_type": "stream",
     "text": [
      "1\n",
      "2\n",
      "4\n"
     ]
    }
   ],
   "source": [
    "if True :   \n",
    "    print (\"1\")   \n",
    "    print (\"2\")   \n",
    "else :   \n",
    "    print(\"3\")   \n",
    "print(\"4\")"
   ]
  },
  {
   "cell_type": "markdown",
   "id": "b941f66a",
   "metadata": {},
   "source": [
    "## 110\n",
    "아래 코드의 출력 결과를 예상하라\n",
    "\n",
    "if True :   \n",
    "    if False:   \n",
    "        print(\"1\")   \n",
    "        print(\"2\")   \n",
    "    else:   \n",
    "        print(\"3\")   \n",
    "else :   \n",
    "    print(\"4\")   \n",
    "print(\"5\")"
   ]
  },
  {
   "cell_type": "markdown",
   "id": "aed622ef",
   "metadata": {},
   "source": [
    "3   \n",
    "5   \n",
    "이렇게 나타난다"
   ]
  },
  {
   "cell_type": "code",
   "execution_count": 10,
   "id": "ed37ee8b",
   "metadata": {},
   "outputs": [
    {
     "name": "stdout",
     "output_type": "stream",
     "text": [
      "3\n",
      "5\n"
     ]
    }
   ],
   "source": [
    "if True :   \n",
    "    if False:   \n",
    "        print(\"1\")   \n",
    "        print(\"2\")   \n",
    "    else:   \n",
    "        print(\"3\")   \n",
    "else :   \n",
    "    print(\"4\")   \n",
    "print(\"5\")"
   ]
  },
  {
   "cell_type": "markdown",
   "id": "5d7a1bc8",
   "metadata": {},
   "source": [
    "## 111\n",
    "사용자로부터 입력받은 문자열을 두 번 출력하라. 아래는 사용자가 \"안녕하세요\"를 입력한 경우의 출력 결과이다.\n",
    "\n",
    "안녕하세요   \n",
    "안녕하세요안녕하세요"
   ]
  },
  {
   "cell_type": "code",
   "execution_count": 11,
   "id": "9d17ce27",
   "metadata": {},
   "outputs": [
    {
     "name": "stdout",
     "output_type": "stream",
     "text": [
      "안녕하세요\n",
      "안녕하세요안녕하세요\n"
     ]
    }
   ],
   "source": [
    "print(2*input())"
   ]
  },
  {
   "cell_type": "markdown",
   "id": "88ccb46c",
   "metadata": {},
   "source": [
    "## 112\n",
    "사용자로부터 하나의 숫자를 입력받고, 입력 받은 숫자에 10을 더해 출력하라.\n",
    "\n",
    "숫자를 입력하세요: 30\n",
    "40"
   ]
  },
  {
   "cell_type": "code",
   "execution_count": 134,
   "id": "102aa597",
   "metadata": {},
   "outputs": [
    {
     "name": "stdout",
     "output_type": "stream",
     "text": [
      "숫자를 입력하세요: 20\n",
      "30\n"
     ]
    }
   ],
   "source": [
    "a=int(input('숫자를 입력하세요: '))\n",
    "print(a+10)"
   ]
  },
  {
   "cell_type": "markdown",
   "id": "7b39849b",
   "metadata": {},
   "source": [
    "## 113\n",
    "사용자로부터 하나의 숫자를 입력 받고 짝수/홀수를 판별하라.\n",
    "\n",
    "30   \n",
    "짝수"
   ]
  },
  {
   "cell_type": "code",
   "execution_count": 136,
   "id": "bf529c30",
   "metadata": {},
   "outputs": [
    {
     "name": "stdout",
     "output_type": "stream",
     "text": [
      "13\n",
      "홀수\n"
     ]
    }
   ],
   "source": [
    "a=int(input())\n",
    "if a % 2 == 0:\n",
    "    print('짝수')\n",
    "else:\n",
    "    print('홀수')"
   ]
  },
  {
   "cell_type": "markdown",
   "id": "c051b308",
   "metadata": {},
   "source": [
    "## 114\n",
    "사용자로부터 값을 입력받은 후 해당 값에 20을 더한 값을 출력하라. 단 사용자가 입력한 값과 20을 더한 계산 값이 255를 초과하는 경우 255를 출력해야 한다.\n",
    "\n",
    "입력값: 200   \n",
    "출력값: 220   \n",
    "\n",
    "입력값: 240   \n",
    "출력값: 255"
   ]
  },
  {
   "cell_type": "code",
   "execution_count": 139,
   "id": "3cb06c25",
   "metadata": {},
   "outputs": [
    {
     "name": "stdout",
     "output_type": "stream",
     "text": [
      "255\n",
      "275\n"
     ]
    }
   ],
   "source": [
    "a=int(input())\n",
    "\n",
    "if a <= 255:\n",
    "    print(a+20)\n",
    "else:\n",
    "    print(255)"
   ]
  },
  {
   "cell_type": "markdown",
   "id": "2b22de6f",
   "metadata": {},
   "source": [
    "## 115\n",
    "사용자로부터 하나의 값을 입력받은 후 해당 값에 20을 뺀 값을 출력하라. 단 출력 값의 범위는 0~255이다. 예를 들어 결괏값이 0보다 작은 값이되는 경우 0을 출력하고 255보다 큰 값이 되는 경우 255를 출력해야 한다.\n",
    "\n",
    "입력값: 200   \n",
    "출력값: 180\n",
    "\n",
    "입력값: 15   \n",
    "출력값: 0"
   ]
  },
  {
   "cell_type": "code",
   "execution_count": 143,
   "id": "37b4cec6",
   "metadata": {},
   "outputs": [
    {
     "name": "stdout",
     "output_type": "stream",
     "text": [
      "275\n",
      "255\n"
     ]
    }
   ],
   "source": [
    "a=int(input())-20\n",
    "\n",
    "if a < 0:\n",
    "    print(0)\n",
    "elif a > 255:\n",
    "    print(255)\n",
    "else:\n",
    "    print(a)"
   ]
  },
  {
   "cell_type": "markdown",
   "id": "a8897dd7",
   "metadata": {},
   "source": [
    "## 116\n",
    "사용자로부터 입력 받은 시간이 정각인지 판별하라.\n",
    "\n",
    "현재시간:02:00   \n",
    "정각 입니다.\n",
    "\n",
    "현재시간:03:10   \n",
    "정각이 아닙니다"
   ]
  },
  {
   "cell_type": "code",
   "execution_count": 151,
   "id": "5c349335",
   "metadata": {},
   "outputs": [
    {
     "name": "stdout",
     "output_type": "stream",
     "text": [
      "현재시간:02:30\n",
      "정각이 아닙니다\n"
     ]
    }
   ],
   "source": [
    "a=input('현재시간:')\n",
    "a=a.split(':')[1]\n",
    "\n",
    "if a == '00':\n",
    "    print('정각 입니다.')\n",
    "else:\n",
    "    print('정각이 아닙니다')"
   ]
  },
  {
   "cell_type": "markdown",
   "id": "ad9d8029",
   "metadata": {},
   "source": [
    "## 117\n",
    "사용자로 입력받은 단어가 아래 fruit 리스트에 포함되어 있는지를 확인하라. 포함되었다면 \"정답입니다\"를 아닐 경우 \"오답입니다\" 출력하라.\n",
    "\n",
    "fruit = [\"사과\", \"포도\", \"홍시\"]\n",
    "\n",
    "좋아하는 과일은? 사과   \n",
    "정답입니다."
   ]
  },
  {
   "cell_type": "code",
   "execution_count": 154,
   "id": "b8c25d13",
   "metadata": {},
   "outputs": [
    {
     "name": "stdout",
     "output_type": "stream",
     "text": [
      "좋아하는 과일은? 포도\n",
      "정답입니다.\n"
     ]
    }
   ],
   "source": [
    "fruit = [\"사과\", \"포도\", \"홍시\"]\n",
    "\n",
    "a=input('좋아하는 과일은? ')\n",
    "\n",
    "if a in fruit:\n",
    "    print('정답입니다.')\n",
    "else:\n",
    "    print('오답입니다.')"
   ]
  },
  {
   "cell_type": "code",
   "execution_count": null,
   "id": "8b45a066",
   "metadata": {},
   "outputs": [],
   "source": []
  },
  {
   "cell_type": "markdown",
   "id": "6ae60106",
   "metadata": {},
   "source": [
    "## 123\n",
    "사용자로부터 달러, 엔, 유로, 또는 위안 금액을 입력받은 후 이를 원으로 변환하는 프로그램을 작성하라. 각 통화별 환율은 다음과 같다. 사용자는 100 달러, 1000 엔, 13 유로, 100 위안과 같이 금액과 통화명 사이에 공백을 넣어 입력한다고 가정한다.\n",
    "\n",
    "통화명\t환율   \n",
    "달러\t1167   \n",
    "엔\t1.096   \n",
    "유로\t1268   \n",
    "위안\t171   "
   ]
  },
  {
   "cell_type": "code",
   "execution_count": 26,
   "id": "ff05abc7",
   "metadata": {},
   "outputs": [
    {
     "name": "stdout",
     "output_type": "stream",
     "text": [
      "123123123 위안\n",
      "21054054033 원\n"
     ]
    }
   ],
   "source": [
    "money=str(input())\n",
    "\n",
    "if money[-2:] == '달러':\n",
    "    print(int(money[:-3])*1167,'원')\n",
    "elif money[-1:] == '엔':\n",
    "    print(int(money[:-2])*1.096,'원')\n",
    "elif money[-2:] == '유로':\n",
    "    print(int(money[:-3])*1268,'원')\n",
    "elif money[-2:] == '위안':\n",
    "    print(int(money[:-3])*171,'원')"
   ]
  },
  {
   "cell_type": "code",
   "execution_count": 27,
   "id": "4516aa8d",
   "metadata": {},
   "outputs": [
    {
     "name": "stdout",
     "output_type": "stream",
     "text": [
      "입력: 100 달러\n",
      "116700.0 원\n"
     ]
    }
   ],
   "source": [
    "환율 = {\"달러\": 1167, \n",
    "        \"엔\": 1.096, \n",
    "        \"유로\": 1268, \n",
    "        \"위안\": 171}\n",
    "\n",
    "user = input(\"입력: \")\n",
    "num, currency = user.split()\n",
    "print(float(num)*환율[currency],'원')"
   ]
  },
  {
   "cell_type": "markdown",
   "id": "9bc63919",
   "metadata": {},
   "source": [
    "## 124\n",
    "사용자로부터 세 개의 숫자를 입력 받은 후 가장 큰 숫자를 출력하라.\n",
    "\n",
    "input number1: 10   \n",
    "input number2: 9   \n",
    "input number3: 20   \n",
    "20"
   ]
  },
  {
   "cell_type": "code",
   "execution_count": 34,
   "id": "6bde5cc4",
   "metadata": {},
   "outputs": [
    {
     "name": "stdout",
     "output_type": "stream",
     "text": [
      "input number1: 100\n",
      "input number2: 2\n",
      "input number3: 40\n",
      "100\n"
     ]
    }
   ],
   "source": [
    "number1 = int(input('input number1: '))\n",
    "number2 = int(input('input number2: '))\n",
    "number3 = int(input('input number3: '))\n",
    "\n",
    "data=[number1, number2, number3]\n",
    "print(max(data))"
   ]
  },
  {
   "cell_type": "code",
   "execution_count": 35,
   "id": "f7e7a7fc",
   "metadata": {},
   "outputs": [
    {
     "name": "stdout",
     "output_type": "stream",
     "text": [
      "input number1: 30\n",
      "input number2: 20\n",
      "input number3: 40\n",
      "40\n"
     ]
    }
   ],
   "source": [
    "num1 = input(\"input number1: \")\n",
    "num2 = input(\"input number2: \")\n",
    "num3 = input(\"input number3: \")\n",
    "num1 = int(num1)\n",
    "num2 = int(num2)\n",
    "num3 = int(num3)\n",
    "\n",
    "if num1 >= num2 and num1 >= num3:\n",
    "    print(num1)\n",
    "elif num2 >= num1 and num2 >= num3:\n",
    "    print(num2)\n",
    "else:\n",
    "    print(num3)"
   ]
  },
  {
   "cell_type": "markdown",
   "id": "4a74e977",
   "metadata": {},
   "source": [
    "## 125\n",
    "휴대폰 번호 앞자리에 따라 통신사는 아래와 같이 구분된다. 사용자로부터 휴대전화 번호를 입력 받고, 통신사를 출력하는 프로그램을 작성하라.\n",
    "\n",
    "번호\t통신사   \n",
    "011\tSKT   \n",
    "016\tKT   \n",
    "019\tLGU   \n",
    "010\t알수없음   \n",
    "\n",
    "휴대전화 번호 입력: 011-345-1922\n",
    "당신은 SKT 사용자입니다."
   ]
  },
  {
   "cell_type": "code",
   "execution_count": 60,
   "id": "372f8920",
   "metadata": {},
   "outputs": [
    {
     "name": "stdout",
     "output_type": "stream",
     "text": [
      "휴대전화 번호 입력: 019-345-1922\n",
      "당신은 LGU 사용자입니다.\n"
     ]
    }
   ],
   "source": [
    "data={'011':'SKT',\n",
    "     '016':'KT',\n",
    "     '019':'LGU',\n",
    "     '010':'알수없음'}\n",
    "\n",
    "number=input('휴대전화 번호 입력: ')\n",
    "first_number=number.split('-')\n",
    "\n",
    "print('당신은', data[first_number[0]], '사용자입니다.')"
   ]
  },
  {
   "cell_type": "markdown",
   "id": "c9427c58",
   "metadata": {},
   "source": [
    "## 126\n",
    "우편번호는 5자리로 구성되는데, 앞의 세자리는 구를 나타낸다. 예를들어, 강북구의 경우 010, 011, 012 세 자리로 시작한다.\n",
    "\n",
    "-\t0\t1\t2\t3\t4\t5\t6\t7\t8\t9   \n",
    "01\t강북구\t강북구\t강북구\t도봉구\t도봉구\t도봉구\t노원구\t노원구\t노원구\t노원구   \n",
    "사용자로 부터 5자리 우편번호를 입력받고 구를 판별하라\n",
    "\n",
    "우편번호: 01400   \n",
    "도봉구"
   ]
  },
  {
   "cell_type": "code",
   "execution_count": 85,
   "id": "535cf527",
   "metadata": {},
   "outputs": [
    {
     "name": "stdout",
     "output_type": "stream",
     "text": [
      "우편번호: 016234\n",
      "노원구\n"
     ]
    }
   ],
   "source": [
    "a=(input('우편번호: '))\n",
    "\n",
    "if a[:3] in ['010', '011', '012']:\n",
    "    print('강북구')\n",
    "elif a[:3] in ['013', '014', '015']:\n",
    "    print('도봉구')\n",
    "elif a[:3] in ['016', '017', '018', '019']:\n",
    "    print('노원구')"
   ]
  },
  {
   "cell_type": "markdown",
   "id": "2089a5f0",
   "metadata": {},
   "source": [
    "## 127\n",
    "주민등록번호 뒷 자리 7자리 중 첫째 자리는 성별을 나타내는데, 1, 3은 남자 2, 4는 여자를 의미한다. 사용자로부터 13자리의 주민등록번호를 입력 받은 후 성별 (남자, 여자)를 출력하는 프로그램을 작성하라.\n",
    "\n",
    "주민등록번호: 821010-1635210   \n",
    "남자"
   ]
  },
  {
   "cell_type": "code",
   "execution_count": 90,
   "id": "0c8b7827",
   "metadata": {},
   "outputs": [
    {
     "name": "stdout",
     "output_type": "stream",
     "text": [
      "주민등록번호: 821010-5635210\n"
     ]
    }
   ],
   "source": [
    "number=input('주민등록번호: ')\n",
    "\n",
    "if number[7] in ['1', '3']:\n",
    "    print('남자')\n",
    "elif number[7] in ['2', '4']:\n",
    "    print('여자')"
   ]
  },
  {
   "cell_type": "markdown",
   "id": "b9dd1a11",
   "metadata": {},
   "source": [
    "## 128\n",
    "주민등록번호의 뒷 자리 7자리 중 두번째와 세번째는 지역코드를 의미한다. 주민 등록 번호를 입력 받은 후 출생지가 서울인지 아닌지 판단하는 코드를 작성하라\n",
    "\n",
    "지역코드\t출생지   \n",
    "00 ~ 08\t서울   \n",
    "09 ~ 12\t부산\n",
    "\n",
    "주민등록번호: 821010-1635210   \n",
    "서울이 아닙니다.   \n",
    "주민등록번호: 861010-1015210   \n",
    "서울 입니다."
   ]
  },
  {
   "cell_type": "code",
   "execution_count": 95,
   "id": "2220a873",
   "metadata": {},
   "outputs": [
    {
     "name": "stdout",
     "output_type": "stream",
     "text": [
      "주민등록번호: 861010-1015210\n",
      "서울 입니다.\n"
     ]
    }
   ],
   "source": [
    "number=input('주민등록번호: ')\n",
    "district=number.split('-')[1][1:3]\n",
    "\n",
    "if district in ['00', '01', '02', '03', '04', '05', '06', '07', '08']:\n",
    "    print('서울 입니다.')\n",
    "else:\n",
    "    print('서울이 아닙니다.')\n",
    "    "
   ]
  },
  {
   "cell_type": "markdown",
   "id": "10ceb93c",
   "metadata": {},
   "source": [
    "## 129\n",
    "주민등록번호는 13자리로 구성되는데 마지막 자리수는 주민등록번호의 유효성을 체크하는데 사용된다. 먼저 앞에서부터 12자리의 숫자에 2, 3, 4, 5, 6, 7, 8, 9, 2, 3, 4, 5를 차례로 곱한 뒤 그 값을 전부 더한다. 연산 결과 값을 11로 나누면 나머지가 나오는데 11에서 나머지를 뺀 값이 주민등록번호의 마지막 번호가 된다.\n",
    "\n",
    "  8 2 1 0 1 0 - 1 6 3 5 2 1 0\n",
    "x 2 3 4 5 6 7   8 9 2 3 4 5 \n",
    "-----------------------------\n",
    "1차 계산: (8*2 + 2*3 + 1*4 + 0*5 + 1*6 + 0*7 + 1*8 + 6*9 + 3*2 + 5*3 + 2*4 + 1*5) = (128 % 11) = 7\n",
    "2차 계산: 11 -7 = 4\n",
    "위와 같이 821010-1635210에 대해서 계산을 해보면 마지막 자리는 4가 되어야 함을 알 수 있다. 즉, 821010-1635210은 유효하지 않은 주민등록번호임을 알 수 있다.\n",
    "\n",
    "다음과 같이 사용자로부터 주민등록번호를 입력받은 후 주민등록번호가 유효한지를 출력하는 프로그램을 작성하라.\n",
    "\n",
    "주민등록번호: 821010-1635210\n",
    "유효하지 않은 주민등록번호입니다. "
   ]
  },
  {
   "cell_type": "code",
   "execution_count": 122,
   "id": "7c8093c7",
   "metadata": {},
   "outputs": [
    {
     "name": "stdout",
     "output_type": "stream",
     "text": [
      "주민등록번호: 821010-1635210\n",
      "유효하지 않은 주민등록번호입니다.\n"
     ]
    }
   ],
   "source": [
    "a=(list(input('주민등록번호: ')))\n",
    "del a[6]\n",
    "\n",
    "j=[2, 3, 4, 5, 6, 7, 8, 9, 2, 3, 4, 5]\n",
    "num=[]\n",
    "\n",
    "for i in range(12):\n",
    "    b=int(a[i])*int(j[i])\n",
    "    num.append(b)\n",
    "    i+=1\n",
    "\n",
    "count=11-sum(num)%11\n",
    "if a[-1]==count:\n",
    "    print('유효한 주민등록번호입니다.')\n",
    "else:\n",
    "    print('유효하지 않은 주민등록번호입니다.')"
   ]
  },
  {
   "cell_type": "markdown",
   "id": "873d8d04",
   "metadata": {},
   "source": [
    "## 130\n",
    "아래 코드는 비트코인의 가격 정보를 딕셔너리로 가져오는 코드이다.\n",
    "\n",
    "import requests   \n",
    "btc = requests.get(\"https://api.bithumb.com/public/ticker/\").json()['data']   \n",
    "btc 딕셔너리 안에는 시가, 종가, 최고가, 최저가 등이 저장되어 있다. 최고가와 최저가의 차이를 변동폭으로 정의할 때 (시가 + 변동폭)이 최고가 보다 높을 경우 \"상승장\", 그렇지 않은 경우 \"하락장\" 문자열을 출력하라.\n",
    "\n",
    "Key Name\tDescription   \n",
    "opening_price\t최근 24시간 내 시작 거래금액   \n",
    "closing_price\t최근 24시간 내 마지막 거래금액   \n",
    "min_price\t최근 24시간 내 최저 거래금액   \n",
    "max_price\t최근 24시간 내 최고 거래금액   "
   ]
  },
  {
   "cell_type": "code",
   "execution_count": 123,
   "id": "bda0bb54",
   "metadata": {},
   "outputs": [],
   "source": [
    "import requests   \n",
    "btc = requests.get(\"https://api.bithumb.com/public/ticker/\").json()['data']   "
   ]
  },
  {
   "cell_type": "code",
   "execution_count": 124,
   "id": "aae67124",
   "metadata": {},
   "outputs": [
    {
     "data": {
      "text/plain": [
       "{'opening_price': '96316000',\n",
       " 'closing_price': '92904000',\n",
       " 'min_price': '92150000',\n",
       " 'max_price': '96828000',\n",
       " 'units_traded': '638.53526402',\n",
       " 'acc_trade_value': '60076619707.3576',\n",
       " 'prev_closing_price': '96316000',\n",
       " 'units_traded_24H': '4753.34665441',\n",
       " 'acc_trade_value_24H': '449249115220.165',\n",
       " 'fluctate_24H': '284000',\n",
       " 'fluctate_rate_24H': '0.31',\n",
       " 'date': '1709657713669'}"
      ]
     },
     "execution_count": 124,
     "metadata": {},
     "output_type": "execute_result"
    }
   ],
   "source": [
    "btc"
   ]
  },
  {
   "cell_type": "code",
   "execution_count": 131,
   "id": "3bbe0599",
   "metadata": {},
   "outputs": [
    {
     "name": "stdout",
     "output_type": "stream",
     "text": [
      "상승장\n"
     ]
    }
   ],
   "source": [
    "fluc=int(btc['max_price'])-int(btc['min_price'])\n",
    "data=int(btc['opening_price'])+fluc\n",
    "\n",
    "if data > int(btc['max_price']):\n",
    "    print('상승장')\n",
    "else:\n",
    "    print('하락장')"
   ]
  },
  {
   "cell_type": "code",
   "execution_count": null,
   "id": "d2741f42",
   "metadata": {},
   "outputs": [],
   "source": []
  }
 ],
 "metadata": {
  "kernelspec": {
   "display_name": "Python 3 (ipykernel)",
   "language": "python",
   "name": "python3"
  },
  "language_info": {
   "codemirror_mode": {
    "name": "ipython",
    "version": 3
   },
   "file_extension": ".py",
   "mimetype": "text/x-python",
   "name": "python",
   "nbconvert_exporter": "python",
   "pygments_lexer": "ipython3",
   "version": "3.11.5"
  }
 },
 "nbformat": 4,
 "nbformat_minor": 5
}
