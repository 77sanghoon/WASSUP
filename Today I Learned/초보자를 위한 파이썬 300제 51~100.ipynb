{
 "cells": [
  {
   "cell_type": "markdown",
   "id": "198603df",
   "metadata": {},
   "source": [
    "## 051 2016년 11월 영화 예매 순위 기준 top3는 다음과 같습니다. 영화 제목을 movie_rank 이름의 리스트에 저장해보세요. (순위 정보는 저장하지 않습니다.)\n",
    "\n",
    "순위\t영화\n",
    "1\t닥터 스트레인지\n",
    "2\t스플릿\n",
    "3\t럭키"
   ]
  },
  {
   "cell_type": "code",
   "execution_count": 3,
   "id": "5834dfe3",
   "metadata": {},
   "outputs": [],
   "source": [
    "movie_rank=['닥터 스트레인지', '스플릿', '럭키']"
   ]
  },
  {
   "cell_type": "code",
   "execution_count": 4,
   "id": "12db260e",
   "metadata": {},
   "outputs": [
    {
     "name": "stdout",
     "output_type": "stream",
     "text": [
      "['닥터 스트레인지', '스플릿', '럭키']\n"
     ]
    }
   ],
   "source": [
    "print(movie_rank)"
   ]
  },
  {
   "cell_type": "markdown",
   "id": "080efa60",
   "metadata": {},
   "source": [
    "## 052 051의 movie_rank 리스트에 \"배트맨\"을 추가하라."
   ]
  },
  {
   "cell_type": "code",
   "execution_count": 6,
   "id": "7c4425a2",
   "metadata": {},
   "outputs": [],
   "source": [
    "movie_rank.append('배트맨')"
   ]
  },
  {
   "cell_type": "code",
   "execution_count": 7,
   "id": "163f4f08",
   "metadata": {},
   "outputs": [
    {
     "name": "stdout",
     "output_type": "stream",
     "text": [
      "['닥터 스트레인지', '스플릿', '럭키', '배트맨']\n"
     ]
    }
   ],
   "source": [
    "print(movie_rank)"
   ]
  },
  {
   "cell_type": "markdown",
   "id": "a19322be",
   "metadata": {},
   "source": [
    "## 053 movie_rank 리스트에는 아래와 같이 네 개의 영화 제목이 바인딩되어 있다. \"슈퍼맨\"을 \"닥터 스트레인지\"와 \"스플릿\" 사이에 추가하라.\n",
    "\n",
    "movie_rank = ['닥터 스트레인지', '스플릿', '럭키', '배트맨']"
   ]
  },
  {
   "cell_type": "code",
   "execution_count": 8,
   "id": "a7bfaa79",
   "metadata": {},
   "outputs": [],
   "source": [
    "movie_rank = ['닥터 스트레인지', '스플릿', '럭키', '배트맨']"
   ]
  },
  {
   "cell_type": "code",
   "execution_count": 11,
   "id": "6d73deda",
   "metadata": {},
   "outputs": [],
   "source": [
    "movie_rank.insert(1, '슈퍼맨')"
   ]
  },
  {
   "cell_type": "code",
   "execution_count": 12,
   "id": "2d4487f1",
   "metadata": {},
   "outputs": [
    {
     "name": "stdout",
     "output_type": "stream",
     "text": [
      "['닥터 스트레인지', '슈퍼맨', '스플릿', '럭키', '배트맨']\n"
     ]
    }
   ],
   "source": [
    "print(movie_rank)"
   ]
  },
  {
   "cell_type": "markdown",
   "id": "26b99315",
   "metadata": {},
   "source": [
    "## 054 movie_rank 리스트에서 '럭키'를 삭제하라.\n",
    "\n",
    "movie_rank = ['닥터 스트레인지', '슈퍼맨', '스플릿', '럭키', '배트맨']"
   ]
  },
  {
   "cell_type": "code",
   "execution_count": 13,
   "id": "df204dc9",
   "metadata": {},
   "outputs": [],
   "source": [
    "del movie_rank[3]"
   ]
  },
  {
   "cell_type": "code",
   "execution_count": 14,
   "id": "ac69493d",
   "metadata": {},
   "outputs": [
    {
     "name": "stdout",
     "output_type": "stream",
     "text": [
      "['닥터 스트레인지', '슈퍼맨', '스플릿', '배트맨']\n"
     ]
    }
   ],
   "source": [
    "print(movie_rank)"
   ]
  },
  {
   "cell_type": "markdown",
   "id": "007dafd5",
   "metadata": {},
   "source": [
    "## 055 movie_rank 리스트에서 '스플릿' 과 '배트맨'을 를 삭제하라.\n",
    "\n",
    "movie_rank = ['닥터 스트레인지', '슈퍼맨', '스플릿', '배트맨']"
   ]
  },
  {
   "cell_type": "code",
   "execution_count": 15,
   "id": "b22fea22",
   "metadata": {},
   "outputs": [],
   "source": [
    "del movie_rank[2:]"
   ]
  },
  {
   "cell_type": "code",
   "execution_count": 16,
   "id": "28659746",
   "metadata": {},
   "outputs": [
    {
     "name": "stdout",
     "output_type": "stream",
     "text": [
      "['닥터 스트레인지', '슈퍼맨']\n"
     ]
    }
   ],
   "source": [
    "print(movie_rank)"
   ]
  },
  {
   "cell_type": "markdown",
   "id": "15c673c9",
   "metadata": {},
   "source": [
    "## 056 lang1과 lang2 리스트가 있을 때 lang1과 lang2의 원소를 모두 갖고 있는 langs 리스트를 만들어라.\n",
    "\n",
    "lang1 = [\"C\", \"C++\", \"JAVA\"]\n",
    "lang2 = [\"Python\", \"Go\", \"C#\"]   \n",
    "\n",
    "실행 예:\n",
    "langs\n",
    "['C', 'C++', 'JAVA', 'Python', 'Go', 'C#']"
   ]
  },
  {
   "cell_type": "code",
   "execution_count": 17,
   "id": "510269f9",
   "metadata": {},
   "outputs": [],
   "source": [
    "lang1 = [\"C\", \"C++\", \"JAVA\"]\n",
    "lang2 = [\"Python\", \"Go\", \"C#\"]   "
   ]
  },
  {
   "cell_type": "code",
   "execution_count": 18,
   "id": "1fd20c28",
   "metadata": {},
   "outputs": [
    {
     "name": "stdout",
     "output_type": "stream",
     "text": [
      "['C', 'C++', 'JAVA', 'Python', 'Go', 'C#']\n"
     ]
    }
   ],
   "source": [
    "langs=lang1+lang2\n",
    "print(langs)"
   ]
  },
  {
   "cell_type": "markdown",
   "id": "10d4bdb4",
   "metadata": {},
   "source": [
    "## 057 다음 리스트에서 최댓값과 최솟값을 출력하라. (힌트: min(), max() 함수 사용)\n",
    "\n",
    "nums = [1, 2, 3, 4, 5, 6, 7]\n",
    "\n",
    "실행 예:\n",
    "max:  7\n",
    "min:  1"
   ]
  },
  {
   "cell_type": "code",
   "execution_count": 36,
   "id": "c3a4e288",
   "metadata": {},
   "outputs": [],
   "source": [
    "nums = [1, 2, 3, 4, 5, 6, 7]"
   ]
  },
  {
   "cell_type": "code",
   "execution_count": 45,
   "id": "9f3943c8",
   "metadata": {},
   "outputs": [
    {
     "name": "stdout",
     "output_type": "stream",
     "text": [
      "max:  7\n",
      "min:  1\n"
     ]
    }
   ],
   "source": [
    "print(\"max: \", max(nums))\n",
    "print(\"min: \", min(nums))"
   ]
  },
  {
   "cell_type": "markdown",
   "id": "942e760a",
   "metadata": {},
   "source": [
    "## 058 다음 리스트의 합을 출력하라.\n",
    "\n",
    "nums = [1, 2, 3, 4, 5]\n",
    "\n",
    "실행 예:\n",
    "15"
   ]
  },
  {
   "cell_type": "code",
   "execution_count": 47,
   "id": "0c819d14",
   "metadata": {},
   "outputs": [],
   "source": [
    "nums = [1, 2, 3, 4, 5]"
   ]
  },
  {
   "cell_type": "code",
   "execution_count": 49,
   "id": "f5baece5",
   "metadata": {},
   "outputs": [
    {
     "name": "stdout",
     "output_type": "stream",
     "text": [
      "15\n"
     ]
    }
   ],
   "source": [
    "print(sum(nums))"
   ]
  },
  {
   "cell_type": "markdown",
   "id": "fc62ebfb",
   "metadata": {},
   "source": [
    "## 059 다음 리스트에 저장된 데이터의 개수를 화면에 구하하라.\n",
    "\n",
    "cook = [\"피자\", \"김밥\", \"만두\", \"양념치킨\", \"족발\", \"피자\", \"김치만두\", \"쫄면\", \"소시지\", \"라면\", \"팥빙수\", \"김치전\"]"
   ]
  },
  {
   "cell_type": "code",
   "execution_count": 52,
   "id": "fb64c8c3",
   "metadata": {},
   "outputs": [],
   "source": [
    "cook = [\"피자\", \"김밥\", \"만두\", \"양념치킨\", \"족발\", \"피자\", \"김치만두\", \"쫄면\", \"소시지\", \"라면\", \"팥빙수\", \"김치전\"]"
   ]
  },
  {
   "cell_type": "code",
   "execution_count": 53,
   "id": "e140ee67",
   "metadata": {},
   "outputs": [
    {
     "name": "stdout",
     "output_type": "stream",
     "text": [
      "12\n"
     ]
    }
   ],
   "source": [
    "print(len(cook))"
   ]
  },
  {
   "cell_type": "markdown",
   "id": "f4ec4d78",
   "metadata": {},
   "source": [
    "## 060 다음 리스트의 평균을 출력하라.\n",
    "\n",
    "nums = [1, 2, 3, 4, 5]\n",
    "실행 예:\n",
    "3.0"
   ]
  },
  {
   "cell_type": "code",
   "execution_count": 54,
   "id": "ad6ac4be",
   "metadata": {},
   "outputs": [],
   "source": [
    "nums = [1, 2, 3, 4, 5]"
   ]
  },
  {
   "cell_type": "code",
   "execution_count": 56,
   "id": "84593e6e",
   "metadata": {},
   "outputs": [
    {
     "name": "stdout",
     "output_type": "stream",
     "text": [
      "3.0\n"
     ]
    }
   ],
   "source": [
    "print(sum(nums)/len(nums))"
   ]
  },
  {
   "cell_type": "markdown",
   "id": "5986ccff",
   "metadata": {},
   "source": [
    "## 061 price 변수에는 날짜와 종가 정보가 저장돼 있다. 날짜 정보를 제외하고 가격 정보만을 출력하라. (힌트 : 슬라이싱)\n",
    "\n",
    "price = ['20180728', 100, 130, 140, 150, 160, 170]\n",
    "\n",
    "출력 예시:   \n",
    "[100, 130, 140, 150, 160, 170]"
   ]
  },
  {
   "cell_type": "code",
   "execution_count": 57,
   "id": "d8ceb7c3",
   "metadata": {},
   "outputs": [],
   "source": [
    "price = ['20180728', 100, 130, 140, 150, 160, 170]"
   ]
  },
  {
   "cell_type": "code",
   "execution_count": 58,
   "id": "07d061aa",
   "metadata": {},
   "outputs": [
    {
     "name": "stdout",
     "output_type": "stream",
     "text": [
      "[100, 130, 140, 150, 160, 170]\n"
     ]
    }
   ],
   "source": [
    "print(price[1:])"
   ]
  },
  {
   "cell_type": "markdown",
   "id": "06c439e0",
   "metadata": {},
   "source": [
    "## 062 슬라이싱을 사용해서 홀수만 출력하라.\n",
    "\n",
    "nums = [1, 2, 3, 4, 5, 6, 7, 8, 9, 10]\n",
    "\n",
    "실행 예:   \n",
    "[1, 3, 5, 7, 9]"
   ]
  },
  {
   "cell_type": "code",
   "execution_count": 69,
   "id": "5e049647",
   "metadata": {},
   "outputs": [],
   "source": [
    "nums = [1, 2, 3, 4, 5, 6, 7, 8, 9, 10]"
   ]
  },
  {
   "cell_type": "code",
   "execution_count": 73,
   "id": "58ac4c7a",
   "metadata": {},
   "outputs": [
    {
     "data": {
      "text/plain": [
       "[1, 3, 5, 7, 9]"
      ]
     },
     "execution_count": 73,
     "metadata": {},
     "output_type": "execute_result"
    }
   ],
   "source": [
    "nums[::2]"
   ]
  },
  {
   "cell_type": "markdown",
   "id": "e64dc5c5",
   "metadata": {},
   "source": [
    "## 063 슬라이싱을 사용해서 짝수만 출력하라.\n",
    "\n",
    "nums = [1, 2, 3, 4, 5, 6, 7, 8, 9, 10]\n",
    "\n",
    "실행 예:   \n",
    "[2, 4, 6, 8, 10]"
   ]
  },
  {
   "cell_type": "code",
   "execution_count": 74,
   "id": "57488eda",
   "metadata": {},
   "outputs": [],
   "source": [
    "nums = [1, 2, 3, 4, 5, 6, 7, 8, 9, 10]"
   ]
  },
  {
   "cell_type": "code",
   "execution_count": 75,
   "id": "6ea7588b",
   "metadata": {},
   "outputs": [
    {
     "data": {
      "text/plain": [
       "[2, 4, 6, 8, 10]"
      ]
     },
     "execution_count": 75,
     "metadata": {},
     "output_type": "execute_result"
    }
   ],
   "source": [
    "nums[1::2]"
   ]
  },
  {
   "cell_type": "markdown",
   "id": "01767a5e",
   "metadata": {},
   "source": [
    "## 064 슬라이싱을 사용해서 리스트의 숫자를 역 방향으로 출력하라.\n",
    "\n",
    "nums = [1, 2, 3, 4, 5]\n",
    "\n",
    "실행 예:   \n",
    "[5, 4, 3, 2, 1]"
   ]
  },
  {
   "cell_type": "code",
   "execution_count": 85,
   "id": "ea83c6f4",
   "metadata": {},
   "outputs": [],
   "source": [
    "nums = [1, 2, 3, 4, 5]"
   ]
  },
  {
   "cell_type": "code",
   "execution_count": 90,
   "id": "87f1b198",
   "metadata": {},
   "outputs": [
    {
     "name": "stdout",
     "output_type": "stream",
     "text": [
      "[5, 4, 3, 2, 1]\n"
     ]
    }
   ],
   "source": [
    "print(nums[::-1])"
   ]
  },
  {
   "cell_type": "markdown",
   "id": "4c947ea8",
   "metadata": {},
   "source": [
    "## 065 interest 리스트에는 아래의 데이터가 바인딩되어 있다.\n",
    "\n",
    "interest = ['삼성전자', 'LG전자', 'Naver']   \n",
    "interest 리스트를 사용하여 아래와 같이 화면에 출력하라.\n",
    "\n",
    "출력 예시:   \n",
    "삼성전자 Naver"
   ]
  },
  {
   "cell_type": "code",
   "execution_count": 1,
   "id": "b8e31428",
   "metadata": {},
   "outputs": [],
   "source": [
    "interest = ['삼성전자', 'LG전자', 'Naver']   "
   ]
  },
  {
   "cell_type": "code",
   "execution_count": 5,
   "id": "5869863f",
   "metadata": {},
   "outputs": [
    {
     "name": "stdout",
     "output_type": "stream",
     "text": [
      "삼성전자 Naver\n"
     ]
    }
   ],
   "source": [
    "print(interest[0], interest[2])"
   ]
  },
  {
   "cell_type": "markdown",
   "id": "1f10a86e",
   "metadata": {},
   "source": [
    "## 066 interest 리스트에는 아래의 데이터가 바인딩되어 있다.\n",
    "\n",
    "interest = ['삼성전자', 'LG전자', 'Naver', 'SK하이닉스', '미래에셋대우']   \n",
    "interest 리스트를 사용하여 아래와 같이 화면에 출력하라.\n",
    "\n",
    "출력 예시:   \n",
    "삼성전자 LG전자 Naver SK하이닉스 미래에셋대우"
   ]
  },
  {
   "cell_type": "code",
   "execution_count": 6,
   "id": "da0e57b8",
   "metadata": {},
   "outputs": [],
   "source": [
    "interest = ['삼성전자', 'LG전자', 'Naver', 'SK하이닉스', '미래에셋대우']   "
   ]
  },
  {
   "cell_type": "code",
   "execution_count": 8,
   "id": "3faa24c2",
   "metadata": {},
   "outputs": [
    {
     "name": "stdout",
     "output_type": "stream",
     "text": [
      "삼성전자 LG전자 Naver SK하이닉스 미래에셋대우\n"
     ]
    }
   ],
   "source": [
    "print(\" \".join(interest))"
   ]
  },
  {
   "cell_type": "markdown",
   "id": "ab05e441",
   "metadata": {},
   "source": [
    "## 067 join 메서드\n",
    "interest 리스트에는 아래의 데이터가 바인딩되어 있다.\n",
    "\n",
    "interest = ['삼성전자', 'LG전자', 'Naver', 'SK하이닉스', '미래에셋대우']   \n",
    "interest 리스트를 사용하여 아래와 같이 화면에 출력하라.\n",
    "\n",
    "출력 예시:   \n",
    "삼성전자/LG전자/Naver/SK하이닉스/미래에셋대우"
   ]
  },
  {
   "cell_type": "code",
   "execution_count": 10,
   "id": "0d330a5d",
   "metadata": {},
   "outputs": [],
   "source": [
    "interest = ['삼성전자', 'LG전자', 'Naver', 'SK하이닉스', '미래에셋대우']   "
   ]
  },
  {
   "cell_type": "code",
   "execution_count": 13,
   "id": "9319cdf8",
   "metadata": {},
   "outputs": [
    {
     "name": "stdout",
     "output_type": "stream",
     "text": [
      "삼성전자/LG전자/Naver/SK하이닉스/미래에셋대우\n"
     ]
    }
   ],
   "source": [
    "print(\"/\".join(interest))"
   ]
  },
  {
   "cell_type": "markdown",
   "id": "26150fb1",
   "metadata": {},
   "source": [
    "## 068 interest 리스트에는 아래의 데이터가 바인딩되어 있다.\n",
    "\n",
    "interest = ['삼성전자', 'LG전자', 'Naver', 'SK하이닉스', '미래에셋대우']   \n",
    "join() 메서드를 사용해서 interest 리스트를 아래와 같이 화면에 출력하라.\n",
    "\n",
    "출력 예시:   \n",
    "삼성전자   \n",
    "LG전자   \n",
    "Naver   \n",
    "SK하이닉스   \n",
    "미래에셋대우   "
   ]
  },
  {
   "cell_type": "code",
   "execution_count": 15,
   "id": "927c2d01",
   "metadata": {},
   "outputs": [
    {
     "name": "stdout",
     "output_type": "stream",
     "text": [
      "삼성전자\n",
      "LG전자\n",
      "Naver\n",
      "SK하이닉스\n",
      "미래에셋대우\n"
     ]
    }
   ],
   "source": [
    "print('\\n'.join(interest))"
   ]
  },
  {
   "cell_type": "markdown",
   "id": "cc2e9740",
   "metadata": {},
   "source": [
    "## 069 문자열 split 메서드\n",
    "회사 이름이 슬래시 ('/')로 구분되어 하나의 문자열로 저장되어 있다.\n",
    "\n",
    "string = \"삼성전자/LG전자/Naver\"   \n",
    "이를 interest 이름의 리스트로 분리 저장하라.\n",
    "\n",
    "실행 예시   \n",
    "print(interest)   \n",
    "['삼성전자', 'LG전자', 'Naver']"
   ]
  },
  {
   "cell_type": "code",
   "execution_count": 16,
   "id": "58faa9e1",
   "metadata": {},
   "outputs": [],
   "source": [
    "string = \"삼성전자/LG전자/Naver\"   "
   ]
  },
  {
   "cell_type": "code",
   "execution_count": 22,
   "id": "13dddbc5",
   "metadata": {},
   "outputs": [],
   "source": [
    "interest=list(string.split('/'))"
   ]
  },
  {
   "cell_type": "code",
   "execution_count": 23,
   "id": "cd946800",
   "metadata": {},
   "outputs": [
    {
     "name": "stdout",
     "output_type": "stream",
     "text": [
      "['삼성전자', 'LG전자', 'Naver']\n"
     ]
    }
   ],
   "source": [
    "print(interest)"
   ]
  },
  {
   "cell_type": "markdown",
   "id": "a75215e9",
   "metadata": {},
   "source": [
    "## 070 리스트 정렬\n",
    "리스트에 있는 값을 오름차순으로 정렬하세요.\n",
    "\n",
    "data = [2, 4, 3, 1, 5, 10, 9]"
   ]
  },
  {
   "cell_type": "code",
   "execution_count": 24,
   "id": "2c26df0a",
   "metadata": {},
   "outputs": [],
   "source": [
    "data = [2, 4, 3, 1, 5, 10, 9]"
   ]
  },
  {
   "cell_type": "code",
   "execution_count": 26,
   "id": "88cc69e2",
   "metadata": {},
   "outputs": [
    {
     "name": "stdout",
     "output_type": "stream",
     "text": [
      "[1, 2, 3, 4, 5, 9, 10]\n"
     ]
    }
   ],
   "source": [
    "data.sort()\n",
    "print(data)"
   ]
  },
  {
   "cell_type": "markdown",
   "id": "d6b856e1",
   "metadata": {},
   "source": [
    "## 071\n",
    "my_variable 이름의 비어있는 튜플을 만들라."
   ]
  },
  {
   "cell_type": "code",
   "execution_count": 27,
   "id": "2b97a1bd",
   "metadata": {},
   "outputs": [],
   "source": [
    "my_variable=()"
   ]
  },
  {
   "cell_type": "code",
   "execution_count": 28,
   "id": "8e2904aa",
   "metadata": {},
   "outputs": [
    {
     "data": {
      "text/plain": [
       "tuple"
      ]
     },
     "execution_count": 28,
     "metadata": {},
     "output_type": "execute_result"
    }
   ],
   "source": [
    "type(my_variable)"
   ]
  },
  {
   "cell_type": "markdown",
   "id": "2355ec1e",
   "metadata": {},
   "source": [
    "## 072 2016년 11월 영화 예매 순위 기준 top3는 다음과 같다. 영화 제목을 movie_rank 이름의 튜플에 저장하라. (순위 정보는 저장하지 않는다.)\n",
    "\n",
    "순위\t영화   \n",
    "1\t닥터 스트레인지   \n",
    "2\t스플릿   \n",
    "3\t럭키"
   ]
  },
  {
   "cell_type": "code",
   "execution_count": 30,
   "id": "78c9e95a",
   "metadata": {},
   "outputs": [],
   "source": [
    "movie_rank=('닥터 스트레인지', '스플릿', '럭키')"
   ]
  },
  {
   "cell_type": "markdown",
   "id": "7c03e155",
   "metadata": {},
   "source": [
    "## 073 숫자 1 이 저장된 튜플을 생성하라."
   ]
  },
  {
   "cell_type": "code",
   "execution_count": 31,
   "id": "bed473d1",
   "metadata": {},
   "outputs": [],
   "source": [
    "a=(1, )"
   ]
  },
  {
   "cell_type": "markdown",
   "id": "55efbcef",
   "metadata": {},
   "source": [
    "## 074 다음 코드를 실행해보고 오류가 발생하는 원인을 설명하라.\n",
    "\n",
    "t = (1, 2, 3)   \n",
    "t[0] = 'a'   \n",
    "Traceback (most recent call last):   \n",
    "  File \"<pyshell#46>\", line 1, in <module>   \n",
    "    t[0] = 'a'   \n",
    "TypeError: 'tuple' object does not support item assignment   "
   ]
  },
  {
   "cell_type": "markdown",
   "id": "602d77fa",
   "metadata": {},
   "source": [
    "튜플은 수정이 불가능한 immutable 자료형"
   ]
  },
  {
   "cell_type": "markdown",
   "id": "a196bb7b",
   "metadata": {},
   "source": [
    "## 075 아래와 같이 t에는 1, 2, 3, 4 데이터가 바인딩되어 있다. t가 바인딩하는 데이터 타입은 무엇인가?\n",
    "\n",
    "t = 1, 2, 3, 4"
   ]
  },
  {
   "cell_type": "markdown",
   "id": "12ed74ad",
   "metadata": {},
   "source": [
    "tuple"
   ]
  },
  {
   "cell_type": "code",
   "execution_count": 1,
   "id": "5a887ab2",
   "metadata": {},
   "outputs": [],
   "source": [
    "t = 1, 2, 3, 4"
   ]
  },
  {
   "cell_type": "code",
   "execution_count": 2,
   "id": "6e88b182",
   "metadata": {},
   "outputs": [
    {
     "data": {
      "text/plain": [
       "tuple"
      ]
     },
     "execution_count": 2,
     "metadata": {},
     "output_type": "execute_result"
    }
   ],
   "source": [
    "type(t)"
   ]
  },
  {
   "cell_type": "markdown",
   "id": "9c13b8e9",
   "metadata": {},
   "source": [
    "## 076 변수 t에는 아래와 같은 값이 저장되어 있다. 변수 t가 ('A', 'b', 'c') 튜플을 가리키도록 수정 하라.\n",
    "\n",
    "t = ('a', 'b', 'c')"
   ]
  },
  {
   "cell_type": "code",
   "execution_count": 3,
   "id": "7d4547e5",
   "metadata": {},
   "outputs": [],
   "source": [
    "t = ('a', 'b', 'c')"
   ]
  },
  {
   "cell_type": "code",
   "execution_count": 5,
   "id": "9b90a5fd",
   "metadata": {},
   "outputs": [],
   "source": [
    "t=('A', 'b', 'c')"
   ]
  },
  {
   "cell_type": "code",
   "execution_count": 6,
   "id": "cddd07f2",
   "metadata": {},
   "outputs": [
    {
     "name": "stdout",
     "output_type": "stream",
     "text": [
      "('A', 'b', 'c')\n"
     ]
    }
   ],
   "source": [
    "print(t)"
   ]
  },
  {
   "cell_type": "markdown",
   "id": "06afe286",
   "metadata": {},
   "source": [
    "## 077 다음 튜플을 리스트로 변환하라.\n",
    "\n",
    "interest = ('삼성전자', 'LG전자', 'SK Hynix')"
   ]
  },
  {
   "cell_type": "code",
   "execution_count": 7,
   "id": "f591ae5b",
   "metadata": {},
   "outputs": [],
   "source": [
    "interest = ('삼성전자', 'LG전자', 'SK Hynix')"
   ]
  },
  {
   "cell_type": "code",
   "execution_count": 8,
   "id": "f546866f",
   "metadata": {},
   "outputs": [
    {
     "data": {
      "text/plain": [
       "['삼성전자', 'LG전자', 'SK Hynix']"
      ]
     },
     "execution_count": 8,
     "metadata": {},
     "output_type": "execute_result"
    }
   ],
   "source": [
    "list(interest)"
   ]
  },
  {
   "cell_type": "markdown",
   "id": "a4b07d6e",
   "metadata": {},
   "source": [
    "## 078 다음 리스트를 튜플로 변경하라.\n",
    "\n",
    "interest = ['삼성전자', 'LG전자', 'SK Hynix']"
   ]
  },
  {
   "cell_type": "code",
   "execution_count": 9,
   "id": "232afe43",
   "metadata": {},
   "outputs": [],
   "source": [
    "interest = ['삼성전자', 'LG전자', 'SK Hynix']"
   ]
  },
  {
   "cell_type": "code",
   "execution_count": 10,
   "id": "146c1801",
   "metadata": {},
   "outputs": [
    {
     "data": {
      "text/plain": [
       "('삼성전자', 'LG전자', 'SK Hynix')"
      ]
     },
     "execution_count": 10,
     "metadata": {},
     "output_type": "execute_result"
    }
   ],
   "source": [
    "tuple(interest)"
   ]
  },
  {
   "cell_type": "markdown",
   "id": "7c8b34ff",
   "metadata": {},
   "source": [
    "## 079 튜플 언팩킹\n",
    "다음 코드의 실행 결과를 예상하라.\n",
    "\n",
    "temp = ('apple', 'banana', 'cake')   \n",
    "a, b, c = temp   \n",
    "print(a, b, c)\n"
   ]
  },
  {
   "cell_type": "markdown",
   "id": "fd49fd69",
   "metadata": {},
   "source": [
    "apple banana cake"
   ]
  },
  {
   "cell_type": "code",
   "execution_count": 12,
   "id": "ad703e78",
   "metadata": {},
   "outputs": [
    {
     "name": "stdout",
     "output_type": "stream",
     "text": [
      "apple banana cake\n"
     ]
    }
   ],
   "source": [
    "temp = ('apple', 'banana', 'cake')   \n",
    "a, b, c = temp   \n",
    "print(a, b, c)"
   ]
  },
  {
   "cell_type": "markdown",
   "id": "559a7e4f",
   "metadata": {},
   "source": [
    "## 080 range 함수\n",
    "1 부터 99까지의 정수 중 짝수만 저장된 튜플을 생성하라.\n",
    "\n",
    "(2, 4, 6, 8 ... 98)"
   ]
  },
  {
   "cell_type": "code",
   "execution_count": 19,
   "id": "f6afe2b5",
   "metadata": {},
   "outputs": [],
   "source": [
    "data= tuple(range(2, 100, 2))"
   ]
  },
  {
   "cell_type": "code",
   "execution_count": 20,
   "id": "8193b007",
   "metadata": {},
   "outputs": [
    {
     "name": "stdout",
     "output_type": "stream",
     "text": [
      "(2, 4, 6, 8, 10, 12, 14, 16, 18, 20, 22, 24, 26, 28, 30, 32, 34, 36, 38, 40, 42, 44, 46, 48, 50, 52, 54, 56, 58, 60, 62, 64, 66, 68, 70, 72, 74, 76, 78, 80, 82, 84, 86, 88, 90, 92, 94, 96, 98)\n"
     ]
    }
   ],
   "source": [
    "print(data)"
   ]
  },
  {
   "cell_type": "markdown",
   "id": "3623baa5",
   "metadata": {},
   "source": [
    "## 081 별 표현식\n",
    "기본적으로 데이터 언패킹은 좌변의 변수와 우변 데이터 개수가 같아야 합니다. 하지만 star expression을 사용하면 변수의 개수가 달라도 데이터 언패킹을 할 수 있습니다. 튜플에 저장된 데이터 중에서 앞에 있는 두 개의 데이터만 필요할 경우 나머지 데이터의 언패킹 코드를 작성할 필요가 없습니다.\n",
    "\n",
    "a, b, *c = (0, 1, 2, 3, 4, 5)   \n",
    "\n",
    "a\n",
    "0\n",
    "\n",
    "b\n",
    "1\n",
    "\n",
    "c\n",
    "[2, 3, 4, 5]\n",
    "\n",
    "다음과 같이 10개의 값이 저장된 scores 리스트가 있을 때, start expression을 사용하여 좌측 8개의 값을 valid_score 변수에 바인딩하여라.\n",
    "\n",
    "scores = [8.8, 8.9, 8.7, 9.2, 9.3, 9.7, 9.9, 9.5, 7.8, 9.4]"
   ]
  },
  {
   "cell_type": "code",
   "execution_count": 28,
   "id": "14f9c2db",
   "metadata": {},
   "outputs": [],
   "source": [
    "scores = [8.8, 8.9, 8.7, 9.2, 9.3, 9.7, 9.9, 9.5, 7.8, 9.4]"
   ]
  },
  {
   "cell_type": "code",
   "execution_count": 32,
   "id": "78e09f56",
   "metadata": {},
   "outputs": [],
   "source": [
    "*valid_score, _, _ = scores"
   ]
  },
  {
   "cell_type": "code",
   "execution_count": 33,
   "id": "7e5990a6",
   "metadata": {},
   "outputs": [
    {
     "name": "stdout",
     "output_type": "stream",
     "text": [
      "[8.8, 8.9, 8.7, 9.2, 9.3, 9.7, 9.9, 9.5]\n"
     ]
    }
   ],
   "source": [
    "print(valid_score)"
   ]
  },
  {
   "cell_type": "markdown",
   "id": "3945b593",
   "metadata": {},
   "source": [
    "## 082 다음과 같이 10개의 값이 저장된 scores 리스트가 있을 때, start expression을 사용하여 우측 8개의 값을 valid_score 변수에 바인딩하여라.\n",
    "\n",
    "scores = [8.8, 8.9, 8.7, 9.2, 9.3, 9.7, 9.9, 9.5, 7.8, 9.4]"
   ]
  },
  {
   "cell_type": "code",
   "execution_count": 35,
   "id": "3e843678",
   "metadata": {},
   "outputs": [],
   "source": [
    "scores = [8.8, 8.9, 8.7, 9.2, 9.3, 9.7, 9.9, 9.5, 7.8, 9.4]"
   ]
  },
  {
   "cell_type": "code",
   "execution_count": 36,
   "id": "e5484560",
   "metadata": {},
   "outputs": [],
   "source": [
    "_, _, *valid_score=scores"
   ]
  },
  {
   "cell_type": "code",
   "execution_count": 37,
   "id": "04100d5f",
   "metadata": {},
   "outputs": [
    {
     "name": "stdout",
     "output_type": "stream",
     "text": [
      "[8.7, 9.2, 9.3, 9.7, 9.9, 9.5, 7.8, 9.4]\n"
     ]
    }
   ],
   "source": [
    "print(valid_score)"
   ]
  },
  {
   "cell_type": "markdown",
   "id": "baf95d80",
   "metadata": {},
   "source": [
    "## 083\n",
    "다음과 같이 10개의 값이 저장된 scores 리스트가 있을 때, start expression을 사용하여 가운데 있는 8개의 값을 valid_score 변수에 바인딩하여라.\n",
    "\n",
    "scores = [8.8, 8.9, 8.7, 9.2, 9.3, 9.7, 9.9, 9.5, 7.8, 9.4]"
   ]
  },
  {
   "cell_type": "code",
   "execution_count": 38,
   "id": "58604301",
   "metadata": {},
   "outputs": [],
   "source": [
    "scores = [8.8, 8.9, 8.7, 9.2, 9.3, 9.7, 9.9, 9.5, 7.8, 9.4]"
   ]
  },
  {
   "cell_type": "code",
   "execution_count": 39,
   "id": "4cd72faa",
   "metadata": {},
   "outputs": [],
   "source": [
    "_, *valid_score, _=scores"
   ]
  },
  {
   "cell_type": "code",
   "execution_count": 40,
   "id": "97f480dc",
   "metadata": {},
   "outputs": [
    {
     "name": "stdout",
     "output_type": "stream",
     "text": [
      "[8.9, 8.7, 9.2, 9.3, 9.7, 9.9, 9.5, 7.8]\n"
     ]
    }
   ],
   "source": [
    "print(valid_score)"
   ]
  },
  {
   "cell_type": "markdown",
   "id": "6f703b81",
   "metadata": {},
   "source": [
    "## 084 비어있는 딕셔너리\n",
    "temp 이름의 비어있는 딕셔너리를 만들라."
   ]
  },
  {
   "cell_type": "code",
   "execution_count": 41,
   "id": "eba900e4",
   "metadata": {},
   "outputs": [],
   "source": [
    "temp={}"
   ]
  },
  {
   "cell_type": "markdown",
   "id": "80f31455",
   "metadata": {},
   "source": [
    "## 085\n",
    "다음 아이스크림 이름과 희망 가격을 딕셔너리로 구성하라.\n",
    "\n",
    "이름\t희망 가격   \n",
    "메로나\t1000   \n",
    "폴라포\t1200   \n",
    "빵빠레\t1800"
   ]
  },
  {
   "cell_type": "code",
   "execution_count": 43,
   "id": "68d76ad9",
   "metadata": {},
   "outputs": [],
   "source": [
    "icecream={'메로나':1000, '폴라포':1200, '빵빠레':1800}"
   ]
  },
  {
   "cell_type": "markdown",
   "id": "b26d995b",
   "metadata": {},
   "source": [
    "## 086\n",
    "085 번의 딕셔너리에 아래 아이스크림 가격정보를 추가하라.\n",
    "\n",
    "이름\t희망 가격   \n",
    "죠스바\t1200   \n",
    "월드콘\t1500"
   ]
  },
  {
   "cell_type": "code",
   "execution_count": 50,
   "id": "3e37e038",
   "metadata": {},
   "outputs": [],
   "source": [
    "icecream['죠스바']=1200"
   ]
  },
  {
   "cell_type": "code",
   "execution_count": 51,
   "id": "262045d5",
   "metadata": {},
   "outputs": [],
   "source": [
    "icecream['월드콘']=1500"
   ]
  },
  {
   "cell_type": "code",
   "execution_count": 52,
   "id": "443e0234",
   "metadata": {},
   "outputs": [
    {
     "name": "stdout",
     "output_type": "stream",
     "text": [
      "{'메로나': 1000, '폴라포': 1200, '빵빠레': 1800, '죠스바': 1200, '월드콘': 1500}\n"
     ]
    }
   ],
   "source": [
    "print(icecream)"
   ]
  },
  {
   "cell_type": "markdown",
   "id": "b25a9238",
   "metadata": {},
   "source": [
    "## 087 다음 딕셔너리를 사용하여 메로나 가격을 출력하라.\n",
    "\n",
    "ice = {'메로나': 1000,\n",
    "       '폴로포': 1200,\n",
    "       '빵빠레': 1800,\n",
    "       '죠스바': 1200,\n",
    "       '월드콘': 1500}\n",
    "       \n",
    "실행 예:\n",
    "메로나 가격: 1000"
   ]
  },
  {
   "cell_type": "code",
   "execution_count": 55,
   "id": "bc663a68",
   "metadata": {},
   "outputs": [
    {
     "data": {
      "text/plain": [
       "1000"
      ]
     },
     "execution_count": 55,
     "metadata": {},
     "output_type": "execute_result"
    }
   ],
   "source": [
    "icecream.get('메로나')"
   ]
  },
  {
   "cell_type": "code",
   "execution_count": 58,
   "id": "f39765f2",
   "metadata": {},
   "outputs": [
    {
     "name": "stdout",
     "output_type": "stream",
     "text": [
      "메로나 가격: 1000\n"
     ]
    }
   ],
   "source": [
    "print('메로나 가격:', icecream['메로나'])"
   ]
  },
  {
   "cell_type": "markdown",
   "id": "9036e4a7",
   "metadata": {},
   "source": [
    "## 088 다음 딕셔너리에서 메로나의 가격을 1300으로 수정하라.\n",
    "\n",
    "ice = {'메로나': 1000,\n",
    "       '폴로포': 1200,\n",
    "       '빵빠레': 1800,\n",
    "       '죠스바': 1200,\n",
    "       '월드콘': 1500}"
   ]
  },
  {
   "cell_type": "code",
   "execution_count": 59,
   "id": "c744056e",
   "metadata": {},
   "outputs": [],
   "source": [
    "icecream['메로나']=1300"
   ]
  },
  {
   "cell_type": "code",
   "execution_count": 60,
   "id": "9c837c1f",
   "metadata": {},
   "outputs": [
    {
     "name": "stdout",
     "output_type": "stream",
     "text": [
      "{'메로나': 1300, '폴라포': 1200, '빵빠레': 1800, '죠스바': 1200, '월드콘': 1500}\n"
     ]
    }
   ],
   "source": [
    "print(icecream)"
   ]
  },
  {
   "cell_type": "markdown",
   "id": "50717d2f",
   "metadata": {},
   "source": [
    "## 089\n",
    "다음 딕셔너리에서 메로나를 삭제하라.\n",
    "\n",
    "ice = {'메로나': 1000,\n",
    "       '폴로포': 1200,\n",
    "       '빵빠레': 1800,\n",
    "       '죠스바': 1200,\n",
    "       '월드콘': 1500}"
   ]
  },
  {
   "cell_type": "code",
   "execution_count": 61,
   "id": "c4c60976",
   "metadata": {},
   "outputs": [],
   "source": [
    "del icecream['메로나']"
   ]
  },
  {
   "cell_type": "code",
   "execution_count": 62,
   "id": "ad7c7a27",
   "metadata": {},
   "outputs": [
    {
     "name": "stdout",
     "output_type": "stream",
     "text": [
      "{'폴라포': 1200, '빵빠레': 1800, '죠스바': 1200, '월드콘': 1500}\n"
     ]
    }
   ],
   "source": [
    "print(icecream)"
   ]
  },
  {
   "cell_type": "markdown",
   "id": "9aed3d0e",
   "metadata": {},
   "source": [
    "## 090\n",
    "다음 코드에서 에러가 발생한 원인을 설명하라.\n",
    "\n",
    "icecream = {'폴라포': 1200, '빵빠레': 1800, '월드콘': 1500, '메로나': 1000}\n",
    "\n",
    "icecream['누가바']   \n",
    "Traceback (most recent call last):   \n",
    "  File \"<pyshell#69>\", line 1, in <module>   \n",
    "    icecream['누가바']   \n",
    "KeyError: '누가바'"
   ]
  },
  {
   "cell_type": "markdown",
   "id": "c68ce7a9",
   "metadata": {},
   "source": [
    "icecream 딕셔너리에는 '누가바'라는 key가 없는데 인덱싱했으므로 에러 발생"
   ]
  },
  {
   "cell_type": "code",
   "execution_count": null,
   "id": "88623379",
   "metadata": {},
   "outputs": [],
   "source": []
  }
 ],
 "metadata": {
  "kernelspec": {
   "display_name": "Python 3 (ipykernel)",
   "language": "python",
   "name": "python3"
  },
  "language_info": {
   "codemirror_mode": {
    "name": "ipython",
    "version": 3
   },
   "file_extension": ".py",
   "mimetype": "text/x-python",
   "name": "python",
   "nbconvert_exporter": "python",
   "pygments_lexer": "ipython3",
   "version": "3.11.5"
  }
 },
 "nbformat": 4,
 "nbformat_minor": 5
}
