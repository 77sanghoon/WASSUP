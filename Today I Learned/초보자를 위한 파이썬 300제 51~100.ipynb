{
 "cells": [
  {
   "cell_type": "markdown",
   "id": "198603df",
   "metadata": {},
   "source": [
    "## 051 2016년 11월 영화 예매 순위 기준 top3는 다음과 같습니다. 영화 제목을 movie_rank 이름의 리스트에 저장해보세요. (순위 정보는 저장하지 않습니다.)\n",
    "\n",
    "순위\t영화\n",
    "1\t닥터 스트레인지\n",
    "2\t스플릿\n",
    "3\t럭키"
   ]
  },
  {
   "cell_type": "code",
   "execution_count": 3,
   "id": "5834dfe3",
   "metadata": {},
   "outputs": [],
   "source": [
    "movie_rank=['닥터 스트레인지', '스플릿', '럭키']"
   ]
  },
  {
   "cell_type": "code",
   "execution_count": 4,
   "id": "12db260e",
   "metadata": {},
   "outputs": [
    {
     "name": "stdout",
     "output_type": "stream",
     "text": [
      "['닥터 스트레인지', '스플릿', '럭키']\n"
     ]
    }
   ],
   "source": [
    "print(movie_rank)"
   ]
  },
  {
   "cell_type": "markdown",
   "id": "080efa60",
   "metadata": {},
   "source": [
    "## 052 051의 movie_rank 리스트에 \"배트맨\"을 추가하라."
   ]
  },
  {
   "cell_type": "code",
   "execution_count": 6,
   "id": "7c4425a2",
   "metadata": {},
   "outputs": [],
   "source": [
    "movie_rank.append('배트맨')"
   ]
  },
  {
   "cell_type": "code",
   "execution_count": 7,
   "id": "163f4f08",
   "metadata": {},
   "outputs": [
    {
     "name": "stdout",
     "output_type": "stream",
     "text": [
      "['닥터 스트레인지', '스플릿', '럭키', '배트맨']\n"
     ]
    }
   ],
   "source": [
    "print(movie_rank)"
   ]
  },
  {
   "cell_type": "markdown",
   "id": "a19322be",
   "metadata": {},
   "source": [
    "## 053 movie_rank 리스트에는 아래와 같이 네 개의 영화 제목이 바인딩되어 있다. \"슈퍼맨\"을 \"닥터 스트레인지\"와 \"스플릿\" 사이에 추가하라.\n",
    "\n",
    "movie_rank = ['닥터 스트레인지', '스플릿', '럭키', '배트맨']"
   ]
  },
  {
   "cell_type": "code",
   "execution_count": 8,
   "id": "a7bfaa79",
   "metadata": {},
   "outputs": [],
   "source": [
    "movie_rank = ['닥터 스트레인지', '스플릿', '럭키', '배트맨']"
   ]
  },
  {
   "cell_type": "code",
   "execution_count": 11,
   "id": "6d73deda",
   "metadata": {},
   "outputs": [],
   "source": [
    "movie_rank.insert(1, '슈퍼맨')"
   ]
  },
  {
   "cell_type": "code",
   "execution_count": 12,
   "id": "2d4487f1",
   "metadata": {},
   "outputs": [
    {
     "name": "stdout",
     "output_type": "stream",
     "text": [
      "['닥터 스트레인지', '슈퍼맨', '스플릿', '럭키', '배트맨']\n"
     ]
    }
   ],
   "source": [
    "print(movie_rank)"
   ]
  },
  {
   "cell_type": "markdown",
   "id": "26b99315",
   "metadata": {},
   "source": [
    "## 054 movie_rank 리스트에서 '럭키'를 삭제하라.\n",
    "\n",
    "movie_rank = ['닥터 스트레인지', '슈퍼맨', '스플릿', '럭키', '배트맨']"
   ]
  },
  {
   "cell_type": "code",
   "execution_count": 13,
   "id": "df204dc9",
   "metadata": {},
   "outputs": [],
   "source": [
    "del movie_rank[3]"
   ]
  },
  {
   "cell_type": "code",
   "execution_count": 14,
   "id": "ac69493d",
   "metadata": {},
   "outputs": [
    {
     "name": "stdout",
     "output_type": "stream",
     "text": [
      "['닥터 스트레인지', '슈퍼맨', '스플릿', '배트맨']\n"
     ]
    }
   ],
   "source": [
    "print(movie_rank)"
   ]
  },
  {
   "cell_type": "markdown",
   "id": "007dafd5",
   "metadata": {},
   "source": [
    "## 055 movie_rank 리스트에서 '스플릿' 과 '배트맨'을 를 삭제하라.\n",
    "\n",
    "movie_rank = ['닥터 스트레인지', '슈퍼맨', '스플릿', '배트맨']"
   ]
  },
  {
   "cell_type": "code",
   "execution_count": 15,
   "id": "b22fea22",
   "metadata": {},
   "outputs": [],
   "source": [
    "del movie_rank[2:]"
   ]
  },
  {
   "cell_type": "code",
   "execution_count": 16,
   "id": "28659746",
   "metadata": {},
   "outputs": [
    {
     "name": "stdout",
     "output_type": "stream",
     "text": [
      "['닥터 스트레인지', '슈퍼맨']\n"
     ]
    }
   ],
   "source": [
    "print(movie_rank)"
   ]
  },
  {
   "cell_type": "markdown",
   "id": "15c673c9",
   "metadata": {},
   "source": [
    "## 056 lang1과 lang2 리스트가 있을 때 lang1과 lang2의 원소를 모두 갖고 있는 langs 리스트를 만들어라.\n",
    "\n",
    "lang1 = [\"C\", \"C++\", \"JAVA\"]\n",
    "lang2 = [\"Python\", \"Go\", \"C#\"]   \n",
    "\n",
    "실행 예:\n",
    "langs\n",
    "['C', 'C++', 'JAVA', 'Python', 'Go', 'C#']"
   ]
  },
  {
   "cell_type": "code",
   "execution_count": 17,
   "id": "510269f9",
   "metadata": {},
   "outputs": [],
   "source": [
    "lang1 = [\"C\", \"C++\", \"JAVA\"]\n",
    "lang2 = [\"Python\", \"Go\", \"C#\"]   "
   ]
  },
  {
   "cell_type": "code",
   "execution_count": 18,
   "id": "1fd20c28",
   "metadata": {},
   "outputs": [
    {
     "name": "stdout",
     "output_type": "stream",
     "text": [
      "['C', 'C++', 'JAVA', 'Python', 'Go', 'C#']\n"
     ]
    }
   ],
   "source": [
    "langs=lang1+lang2\n",
    "print(langs)"
   ]
  },
  {
   "cell_type": "markdown",
   "id": "10d4bdb4",
   "metadata": {},
   "source": [
    "## 057 다음 리스트에서 최댓값과 최솟값을 출력하라. (힌트: min(), max() 함수 사용)\n",
    "\n",
    "nums = [1, 2, 3, 4, 5, 6, 7]\n",
    "\n",
    "실행 예:\n",
    "max:  7\n",
    "min:  1"
   ]
  },
  {
   "cell_type": "code",
   "execution_count": 36,
   "id": "c3a4e288",
   "metadata": {},
   "outputs": [],
   "source": [
    "nums = [1, 2, 3, 4, 5, 6, 7]"
   ]
  },
  {
   "cell_type": "code",
   "execution_count": 45,
   "id": "9f3943c8",
   "metadata": {},
   "outputs": [
    {
     "name": "stdout",
     "output_type": "stream",
     "text": [
      "max:  7\n",
      "min:  1\n"
     ]
    }
   ],
   "source": [
    "print(\"max: \", max(nums))\n",
    "print(\"min: \", min(nums))"
   ]
  },
  {
   "cell_type": "markdown",
   "id": "942e760a",
   "metadata": {},
   "source": [
    "## 058 다음 리스트의 합을 출력하라.\n",
    "\n",
    "nums = [1, 2, 3, 4, 5]\n",
    "\n",
    "실행 예:\n",
    "15"
   ]
  },
  {
   "cell_type": "code",
   "execution_count": 47,
   "id": "0c819d14",
   "metadata": {},
   "outputs": [],
   "source": [
    "nums = [1, 2, 3, 4, 5]"
   ]
  },
  {
   "cell_type": "code",
   "execution_count": 49,
   "id": "f5baece5",
   "metadata": {},
   "outputs": [
    {
     "name": "stdout",
     "output_type": "stream",
     "text": [
      "15\n"
     ]
    }
   ],
   "source": [
    "print(sum(nums))"
   ]
  },
  {
   "cell_type": "markdown",
   "id": "fc62ebfb",
   "metadata": {},
   "source": [
    "## 059 다음 리스트에 저장된 데이터의 개수를 화면에 구하하라.\n",
    "\n",
    "cook = [\"피자\", \"김밥\", \"만두\", \"양념치킨\", \"족발\", \"피자\", \"김치만두\", \"쫄면\", \"소시지\", \"라면\", \"팥빙수\", \"김치전\"]"
   ]
  },
  {
   "cell_type": "code",
   "execution_count": 52,
   "id": "fb64c8c3",
   "metadata": {},
   "outputs": [],
   "source": [
    "cook = [\"피자\", \"김밥\", \"만두\", \"양념치킨\", \"족발\", \"피자\", \"김치만두\", \"쫄면\", \"소시지\", \"라면\", \"팥빙수\", \"김치전\"]"
   ]
  },
  {
   "cell_type": "code",
   "execution_count": 53,
   "id": "e140ee67",
   "metadata": {},
   "outputs": [
    {
     "name": "stdout",
     "output_type": "stream",
     "text": [
      "12\n"
     ]
    }
   ],
   "source": [
    "print(len(cook))"
   ]
  },
  {
   "cell_type": "markdown",
   "id": "f4ec4d78",
   "metadata": {},
   "source": [
    "## 060 다음 리스트의 평균을 출력하라.\n",
    "\n",
    "nums = [1, 2, 3, 4, 5]\n",
    "실행 예:\n",
    "3.0"
   ]
  },
  {
   "cell_type": "code",
   "execution_count": 54,
   "id": "ad6ac4be",
   "metadata": {},
   "outputs": [],
   "source": [
    "nums = [1, 2, 3, 4, 5]"
   ]
  },
  {
   "cell_type": "code",
   "execution_count": 56,
   "id": "84593e6e",
   "metadata": {},
   "outputs": [
    {
     "name": "stdout",
     "output_type": "stream",
     "text": [
      "3.0\n"
     ]
    }
   ],
   "source": [
    "print(sum(nums)/len(nums))"
   ]
  },
  {
   "cell_type": "markdown",
   "id": "5986ccff",
   "metadata": {},
   "source": [
    "## 061 price 변수에는 날짜와 종가 정보가 저장돼 있다. 날짜 정보를 제외하고 가격 정보만을 출력하라. (힌트 : 슬라이싱)\n",
    "\n",
    "price = ['20180728', 100, 130, 140, 150, 160, 170]\n",
    "\n",
    "출력 예시:   \n",
    "[100, 130, 140, 150, 160, 170]"
   ]
  },
  {
   "cell_type": "code",
   "execution_count": 57,
   "id": "d8ceb7c3",
   "metadata": {},
   "outputs": [],
   "source": [
    "price = ['20180728', 100, 130, 140, 150, 160, 170]"
   ]
  },
  {
   "cell_type": "code",
   "execution_count": 58,
   "id": "07d061aa",
   "metadata": {},
   "outputs": [
    {
     "name": "stdout",
     "output_type": "stream",
     "text": [
      "[100, 130, 140, 150, 160, 170]\n"
     ]
    }
   ],
   "source": [
    "print(price[1:])"
   ]
  },
  {
   "cell_type": "markdown",
   "id": "06c439e0",
   "metadata": {},
   "source": [
    "## 062 슬라이싱을 사용해서 홀수만 출력하라.\n",
    "\n",
    "nums = [1, 2, 3, 4, 5, 6, 7, 8, 9, 10]\n",
    "\n",
    "실행 예:   \n",
    "[1, 3, 5, 7, 9]"
   ]
  },
  {
   "cell_type": "code",
   "execution_count": 69,
   "id": "5e049647",
   "metadata": {},
   "outputs": [],
   "source": [
    "nums = [1, 2, 3, 4, 5, 6, 7, 8, 9, 10]"
   ]
  },
  {
   "cell_type": "code",
   "execution_count": 73,
   "id": "58ac4c7a",
   "metadata": {},
   "outputs": [
    {
     "data": {
      "text/plain": [
       "[1, 3, 5, 7, 9]"
      ]
     },
     "execution_count": 73,
     "metadata": {},
     "output_type": "execute_result"
    }
   ],
   "source": [
    "nums[::2]"
   ]
  },
  {
   "cell_type": "markdown",
   "id": "e64dc5c5",
   "metadata": {},
   "source": [
    "## 063 슬라이싱을 사용해서 짝수만 출력하라.\n",
    "\n",
    "nums = [1, 2, 3, 4, 5, 6, 7, 8, 9, 10]\n",
    "\n",
    "실행 예:   \n",
    "[2, 4, 6, 8, 10]"
   ]
  },
  {
   "cell_type": "code",
   "execution_count": 74,
   "id": "57488eda",
   "metadata": {},
   "outputs": [],
   "source": [
    "nums = [1, 2, 3, 4, 5, 6, 7, 8, 9, 10]"
   ]
  },
  {
   "cell_type": "code",
   "execution_count": 75,
   "id": "6ea7588b",
   "metadata": {},
   "outputs": [
    {
     "data": {
      "text/plain": [
       "[2, 4, 6, 8, 10]"
      ]
     },
     "execution_count": 75,
     "metadata": {},
     "output_type": "execute_result"
    }
   ],
   "source": [
    "nums[1::2]"
   ]
  },
  {
   "cell_type": "markdown",
   "id": "01767a5e",
   "metadata": {},
   "source": [
    "## 064 슬라이싱을 사용해서 리스트의 숫자를 역 방향으로 출력하라.\n",
    "\n",
    "nums = [1, 2, 3, 4, 5]\n",
    "\n",
    "실행 예:   \n",
    "[5, 4, 3, 2, 1]"
   ]
  },
  {
   "cell_type": "code",
   "execution_count": 85,
   "id": "ea83c6f4",
   "metadata": {},
   "outputs": [],
   "source": [
    "nums = [1, 2, 3, 4, 5]"
   ]
  },
  {
   "cell_type": "code",
   "execution_count": 90,
   "id": "87f1b198",
   "metadata": {},
   "outputs": [
    {
     "name": "stdout",
     "output_type": "stream",
     "text": [
      "[5, 4, 3, 2, 1]\n"
     ]
    }
   ],
   "source": [
    "print(nums[::-1])"
   ]
  },
  {
   "cell_type": "markdown",
   "id": "4c947ea8",
   "metadata": {},
   "source": [
    "## 065 interest 리스트에는 아래의 데이터가 바인딩되어 있다.\n",
    "\n",
    "interest = ['삼성전자', 'LG전자', 'Naver']   \n",
    "interest 리스트를 사용하여 아래와 같이 화면에 출력하라.\n",
    "\n",
    "출력 예시:   \n",
    "삼성전자 Naver"
   ]
  },
  {
   "cell_type": "code",
   "execution_count": null,
   "id": "b8e31428",
   "metadata": {},
   "outputs": [],
   "source": []
  }
 ],
 "metadata": {
  "kernelspec": {
   "display_name": "Python 3 (ipykernel)",
   "language": "python",
   "name": "python3"
  },
  "language_info": {
   "codemirror_mode": {
    "name": "ipython",
    "version": 3
   },
   "file_extension": ".py",
   "mimetype": "text/x-python",
   "name": "python",
   "nbconvert_exporter": "python",
   "pygments_lexer": "ipython3",
   "version": "3.11.5"
  }
 },
 "nbformat": 4,
 "nbformat_minor": 5
}
