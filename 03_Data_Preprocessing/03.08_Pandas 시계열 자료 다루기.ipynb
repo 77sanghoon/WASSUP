{
 "cells": [
  {
   "cell_type": "markdown",
   "metadata": {
    "school_cell_uuid": "7d54ee7f802c45cfb71ada449384a607"
   },
   "source": [
    "# 4.8 시계열 자료 다루기"
   ]
  },
  {
   "cell_type": "markdown",
   "metadata": {},
   "source": [
    "```{margin}\n",
    "`DatetimeIndex`\n",
    "```"
   ]
  },
  {
   "cell_type": "code",
   "execution_count": 1,
   "metadata": {
    "ExecuteTime": {
     "end_time": "2023-11-21T14:10:54.300967Z",
     "start_time": "2023-11-21T14:10:54.297845Z"
    }
   },
   "outputs": [],
   "source": [
    "from datetime import datetime"
   ]
  },
  {
   "cell_type": "code",
   "execution_count": 2,
   "metadata": {
    "ExecuteTime": {
     "end_time": "2023-11-21T14:10:54.600447Z",
     "start_time": "2023-11-21T14:10:54.593134Z"
    }
   },
   "outputs": [
    {
     "data": {
      "text/plain": [
       "datetime.datetime(2023, 12, 22, 15, 30, 45)"
      ]
     },
     "execution_count": 2,
     "metadata": {},
     "output_type": "execute_result"
    }
   ],
   "source": [
    "dt = datetime(2023, 12, 22, 15, 30, 45)\n",
    "dt"
   ]
  },
  {
   "cell_type": "code",
   "execution_count": 3,
   "metadata": {
    "ExecuteTime": {
     "end_time": "2023-11-21T14:10:54.916880Z",
     "start_time": "2023-11-21T14:10:54.913255Z"
    }
   },
   "outputs": [
    {
     "name": "stdout",
     "output_type": "stream",
     "text": [
      "2023 12 22 15 30 45\n"
     ]
    }
   ],
   "source": [
    "print(dt.year, dt.month, dt.day, dt.hour, dt.minute, dt.second)"
   ]
  },
  {
   "cell_type": "code",
   "execution_count": 4,
   "metadata": {
    "ExecuteTime": {
     "end_time": "2023-11-21T14:10:55.246734Z",
     "start_time": "2023-11-21T14:10:55.242246Z"
    }
   },
   "outputs": [
    {
     "data": {
      "text/plain": [
       "datetime.datetime(2023, 12, 22, 15, 9, 4, 58485)"
      ]
     },
     "execution_count": 4,
     "metadata": {},
     "output_type": "execute_result"
    }
   ],
   "source": [
    "cur = datetime.now()\n",
    "cur"
   ]
  },
  {
   "cell_type": "markdown",
   "metadata": {},
   "source": [
    "## `DatetimeIndex` 인덱스"
   ]
  },
  {
   "cell_type": "markdown",
   "metadata": {
    "school_cell_uuid": "c4ff6bd707744fd5bab97a0a48aa0e56"
   },
   "source": [
    "시계열 자료는 인덱스가 날짜 혹은 시간인 데이터를 말한다.   \n",
    "판다스에서 시계열 자료를 생성하려면 인덱스를 `DatetimeIndex` 자료형으로 만들어야 한다.   \n",
    "`DatetimeIndex`는 특정한 순간에 기록된 타임스탬프(timestamp) 형식의 시계열 자료를 다루기 위한 인덱스이다.   \n",
    "타임스탬프 인덱스의 라벨값이 반드시 일정한 간격일 필요는 없다."
   ]
  },
  {
   "cell_type": "markdown",
   "metadata": {
    "school_cell_uuid": "ce5fee80fb074e519168a13a7c159f09"
   },
   "source": [
    "`DatetimeIndex` 인덱스는 다음과 같은 보조 함수를 사용하여 생성한다.\n",
    "\n",
    "* `pd.to_datetime` 함수\n",
    "* `pd.date_range` 함수"
   ]
  },
  {
   "cell_type": "markdown",
   "metadata": {},
   "source": [
    "```{margin}\n",
    "to_datetime\n",
    "```"
   ]
  },
  {
   "cell_type": "markdown",
   "metadata": {
    "school_cell_uuid": "a4111d07ea994b7182d2010b1019281c"
   },
   "source": [
    "`pd.to_datetime` 함수를 쓰면 날짜/시간을 나타내는 문자열을 자동으로 datetime 자료형으로 바꾼 후 `DatetimeIndex` 자료형 인덱스를 생성한다.\n",
    "https://docs.python.org/3/library/datetime.html#strftime-and-strptime-behavior"
   ]
  },
  {
   "cell_type": "code",
   "execution_count": 2,
   "metadata": {
    "ExecuteTime": {
     "end_time": "2023-11-21T14:12:38.251715Z",
     "start_time": "2023-11-21T14:12:38.249303Z"
    }
   },
   "outputs": [],
   "source": [
    "import pandas as pd"
   ]
  },
  {
   "cell_type": "code",
   "execution_count": 3,
   "metadata": {
    "ExecuteTime": {
     "end_time": "2023-11-21T14:12:38.631724Z",
     "start_time": "2023-11-21T14:12:38.625790Z"
    },
    "school_cell_uuid": "37627593f6d94bbca2c637eb1df845f1"
   },
   "outputs": [
    {
     "name": "stdout",
     "output_type": "stream",
     "text": [
      "<class 'str'>\n"
     ]
    },
    {
     "data": {
      "text/plain": [
       "DatetimeIndex(['2024-01-01', '2024-01-04', '2024-01-05', '2024-01-06'], dtype='datetime64[ns]', freq=None)"
      ]
     },
     "execution_count": 3,
     "metadata": {},
     "output_type": "execute_result"
    }
   ],
   "source": [
    "# format 생략해도 자동으로 잡히긴하지만 포맷을 지정하는게 좋음\n",
    "date_str = [\"2024, 1, 1\", \"2024, 1, 4\", \"2024, 1, 5\", \"2024, 1, 6\"]\n",
    "print(type(date_str[0]))\n",
    "idx = pd.to_datetime(date_str) \n",
    "idx"
   ]
  },
  {
   "cell_type": "markdown",
   "metadata": {
    "school_cell_uuid": "05d388a37b0343cab334b7dbf7fa9d95"
   },
   "source": [
    "이렇게 만들어진 인덱스를 사용하여 시리즈나 데이터프레임을 생성하면 된다."
   ]
  },
  {
   "cell_type": "code",
   "execution_count": 10,
   "metadata": {},
   "outputs": [],
   "source": [
    "import numpy as np"
   ]
  },
  {
   "cell_type": "code",
   "execution_count": 11,
   "metadata": {
    "ExecuteTime": {
     "end_time": "2023-11-21T14:11:21.696896Z",
     "start_time": "2023-11-21T14:11:21.689407Z"
    },
    "school_cell_uuid": "71e4a6adeafa4c199115489911fa9e98"
   },
   "outputs": [
    {
     "data": {
      "text/plain": [
       "2023-01-01    1.764052\n",
       "2023-01-04    0.400157\n",
       "2023-01-05    0.978738\n",
       "2023-01-06    2.240893\n",
       "dtype: float64"
      ]
     },
     "execution_count": 11,
     "metadata": {},
     "output_type": "execute_result"
    }
   ],
   "source": [
    "np.random.seed(0)\n",
    "s = pd.Series(np.random.randn(4), index=idx)\n",
    "s"
   ]
  },
  {
   "cell_type": "code",
   "execution_count": 12,
   "metadata": {
    "ExecuteTime": {
     "end_time": "2023-11-21T14:11:33.544546Z",
     "start_time": "2023-11-21T14:11:33.537566Z"
    }
   },
   "outputs": [
    {
     "name": "stdout",
     "output_type": "stream",
     "text": [
      "<class 'pandas.core.series.Series'>\n",
      "DatetimeIndex: 4 entries, 2023-01-01 to 2023-01-06\n",
      "Series name: None\n",
      "Non-Null Count  Dtype  \n",
      "--------------  -----  \n",
      "4 non-null      float64\n",
      "dtypes: float64(1)\n",
      "memory usage: 64.0 bytes\n"
     ]
    }
   ],
   "source": [
    "s.info()"
   ]
  },
  {
   "cell_type": "code",
   "execution_count": 18,
   "metadata": {
    "ExecuteTime": {
     "end_time": "2023-11-21T14:13:51.604373Z",
     "start_time": "2023-11-21T14:13:51.601391Z"
    }
   },
   "outputs": [],
   "source": [
    "data ={'2023년11월19일':[10,20,30],\n",
    "       '2023년11월20일':[40,50,60],\n",
    "       '2023년11월21일':[70,80,90],\n",
    "       '2023년11월22일':[100,120,130]}"
   ]
  },
  {
   "cell_type": "code",
   "execution_count": 19,
   "metadata": {
    "ExecuteTime": {
     "end_time": "2023-11-21T14:13:54.187458Z",
     "start_time": "2023-11-21T14:13:54.177076Z"
    }
   },
   "outputs": [
    {
     "data": {
      "text/html": [
       "<div>\n",
       "<style scoped>\n",
       "    .dataframe tbody tr th:only-of-type {\n",
       "        vertical-align: middle;\n",
       "    }\n",
       "\n",
       "    .dataframe tbody tr th {\n",
       "        vertical-align: top;\n",
       "    }\n",
       "\n",
       "    .dataframe thead th {\n",
       "        text-align: right;\n",
       "    }\n",
       "</style>\n",
       "<table border=\"1\" class=\"dataframe\">\n",
       "  <thead>\n",
       "    <tr style=\"text-align: right;\">\n",
       "      <th></th>\n",
       "      <th>2023년11월19일</th>\n",
       "      <th>2023년11월20일</th>\n",
       "      <th>2023년11월21일</th>\n",
       "      <th>2023년11월22일</th>\n",
       "    </tr>\n",
       "  </thead>\n",
       "  <tbody>\n",
       "    <tr>\n",
       "      <th>0</th>\n",
       "      <td>10</td>\n",
       "      <td>40</td>\n",
       "      <td>70</td>\n",
       "      <td>100</td>\n",
       "    </tr>\n",
       "    <tr>\n",
       "      <th>1</th>\n",
       "      <td>20</td>\n",
       "      <td>50</td>\n",
       "      <td>80</td>\n",
       "      <td>120</td>\n",
       "    </tr>\n",
       "    <tr>\n",
       "      <th>2</th>\n",
       "      <td>30</td>\n",
       "      <td>60</td>\n",
       "      <td>90</td>\n",
       "      <td>130</td>\n",
       "    </tr>\n",
       "  </tbody>\n",
       "</table>\n",
       "</div>"
      ],
      "text/plain": [
       "   2023년11월19일  2023년11월20일  2023년11월21일  2023년11월22일\n",
       "0           10           40           70          100\n",
       "1           20           50           80          120\n",
       "2           30           60           90          130"
      ]
     },
     "execution_count": 19,
     "metadata": {},
     "output_type": "execute_result"
    }
   ],
   "source": [
    "df = pd.DataFrame(data)\n",
    "df "
   ]
  },
  {
   "cell_type": "code",
   "execution_count": 20,
   "metadata": {
    "ExecuteTime": {
     "end_time": "2023-11-21T14:13:58.160032Z",
     "start_time": "2023-11-21T14:13:58.153286Z"
    }
   },
   "outputs": [
    {
     "data": {
      "text/html": [
       "<div>\n",
       "<style scoped>\n",
       "    .dataframe tbody tr th:only-of-type {\n",
       "        vertical-align: middle;\n",
       "    }\n",
       "\n",
       "    .dataframe tbody tr th {\n",
       "        vertical-align: top;\n",
       "    }\n",
       "\n",
       "    .dataframe thead th {\n",
       "        text-align: right;\n",
       "    }\n",
       "</style>\n",
       "<table border=\"1\" class=\"dataframe\">\n",
       "  <thead>\n",
       "    <tr style=\"text-align: right;\">\n",
       "      <th></th>\n",
       "      <th>0</th>\n",
       "      <th>1</th>\n",
       "      <th>2</th>\n",
       "    </tr>\n",
       "  </thead>\n",
       "  <tbody>\n",
       "    <tr>\n",
       "      <th>2023년11월19일</th>\n",
       "      <td>10</td>\n",
       "      <td>20</td>\n",
       "      <td>30</td>\n",
       "    </tr>\n",
       "    <tr>\n",
       "      <th>2023년11월20일</th>\n",
       "      <td>40</td>\n",
       "      <td>50</td>\n",
       "      <td>60</td>\n",
       "    </tr>\n",
       "    <tr>\n",
       "      <th>2023년11월21일</th>\n",
       "      <td>70</td>\n",
       "      <td>80</td>\n",
       "      <td>90</td>\n",
       "    </tr>\n",
       "    <tr>\n",
       "      <th>2023년11월22일</th>\n",
       "      <td>100</td>\n",
       "      <td>120</td>\n",
       "      <td>130</td>\n",
       "    </tr>\n",
       "  </tbody>\n",
       "</table>\n",
       "</div>"
      ],
      "text/plain": [
       "               0    1    2\n",
       "2023년11월19일   10   20   30\n",
       "2023년11월20일   40   50   60\n",
       "2023년11월21일   70   80   90\n",
       "2023년11월22일  100  120  130"
      ]
     },
     "execution_count": 20,
     "metadata": {},
     "output_type": "execute_result"
    }
   ],
   "source": [
    "df = df.T\n",
    "df"
   ]
  },
  {
   "cell_type": "code",
   "execution_count": 21,
   "metadata": {
    "ExecuteTime": {
     "end_time": "2023-11-21T14:14:03.965416Z",
     "start_time": "2023-11-21T14:14:03.960940Z"
    }
   },
   "outputs": [
    {
     "data": {
      "text/plain": [
       "(Index(['2023년11월19일', '2023년11월20일', '2023년11월21일', '2023년11월22일'], dtype='object'),\n",
       " str)"
      ]
     },
     "execution_count": 21,
     "metadata": {},
     "output_type": "execute_result"
    }
   ],
   "source": [
    "# object형은 시계열 데이터 아님\n",
    "df.index, type(df.index[0])"
   ]
  },
  {
   "cell_type": "code",
   "execution_count": 17,
   "metadata": {
    "ExecuteTime": {
     "end_time": "2023-11-21T14:15:31.015435Z",
     "start_time": "2023-11-21T14:15:31.009206Z"
    }
   },
   "outputs": [
    {
     "data": {
      "text/plain": [
       "DatetimeIndex(['2023-11-19', '2023-11-20', '2023-11-21', '2023-11-22'], dtype='datetime64[ns]', freq=None)"
      ]
     },
     "execution_count": 17,
     "metadata": {},
     "output_type": "execute_result"
    }
   ],
   "source": [
    "# 인덱스만 date타입으로 변경 \n",
    "df.index  = pd.to_datetime(df.index, format='%Y년%m월%d일')  \n",
    "# df.index  = pd.to_datetime(df.index, format='mixed') # 가능하긴 한데 권장안함\n",
    "df.index"
   ]
  },
  {
   "cell_type": "markdown",
   "metadata": {},
   "source": [
    "```{margin}\n",
    "date_range\n",
    "```"
   ]
  },
  {
   "cell_type": "markdown",
   "metadata": {
    "school_cell_uuid": "fd052091c90d4e31be6feca8cceaa90c"
   },
   "source": [
    "`pd.date_range` 함수를 쓰면 모든 날짜/시간을 일일히 입력할 필요없이 시작일과 종료일 또는 시작일과 기간을 입력하면 범위 내의 인덱스를 생성해 준다."
   ]
  },
  {
   "cell_type": "code",
   "execution_count": 4,
   "metadata": {},
   "outputs": [],
   "source": [
    "pd.date_range?"
   ]
  },
  {
   "cell_type": "code",
   "execution_count": 24,
   "metadata": {
    "ExecuteTime": {
     "end_time": "2023-11-21T14:11:43.614561Z",
     "start_time": "2023-11-21T14:11:43.608577Z"
    },
    "school_cell_uuid": "f9597a1a250140da93f1c16a006dc132"
   },
   "outputs": [
    {
     "data": {
      "text/plain": [
       "DatetimeIndex(['2023-11-01', '2023-11-02', '2023-11-03', '2023-11-04',\n",
       "               '2023-11-05', '2023-11-06', '2023-11-07', '2023-11-08',\n",
       "               '2023-11-09', '2023-11-10', '2023-11-11', '2023-11-12',\n",
       "               '2023-11-13', '2023-11-14', '2023-11-15', '2023-11-16',\n",
       "               '2023-11-17', '2023-11-18', '2023-11-19', '2023-11-20',\n",
       "               '2023-11-21', '2023-11-22', '2023-11-23', '2023-11-24',\n",
       "               '2023-11-25', '2023-11-26', '2023-11-27', '2023-11-28',\n",
       "               '2023-11-29', '2023-11-30'],\n",
       "              dtype='datetime64[ns]', freq='D')"
      ]
     },
     "execution_count": 24,
     "metadata": {},
     "output_type": "execute_result"
    }
   ],
   "source": [
    "pd.date_range(\"2023-11-1\", \"2023-11-30\")"
   ]
  },
  {
   "cell_type": "code",
   "execution_count": 26,
   "metadata": {
    "ExecuteTime": {
     "end_time": "2023-11-21T14:12:01.693706Z",
     "start_time": "2023-11-21T14:12:01.688719Z"
    },
    "school_cell_uuid": "476cee21be454c8b9503c06de4a4adf3"
   },
   "outputs": [
    {
     "data": {
      "text/plain": [
       "DatetimeIndex(['2023-11-01', '2023-11-02', '2023-11-03', '2023-11-04',\n",
       "               '2023-11-05', '2023-11-06', '2023-11-07', '2023-11-08',\n",
       "               '2023-11-09', '2023-11-10', '2023-11-11', '2023-11-12',\n",
       "               '2023-11-13', '2023-11-14', '2023-11-15', '2023-11-16',\n",
       "               '2023-11-17', '2023-11-18', '2023-11-19', '2023-11-20',\n",
       "               '2023-11-21', '2023-11-22', '2023-11-23', '2023-11-24',\n",
       "               '2023-11-25', '2023-11-26', '2023-11-27', '2023-11-28',\n",
       "               '2023-11-29', '2023-11-30', '2023-12-01', '2023-12-02',\n",
       "               '2023-12-03', '2023-12-04', '2023-12-05', '2023-12-06',\n",
       "               '2023-12-07', '2023-12-08', '2023-12-09', '2023-12-10'],\n",
       "              dtype='datetime64[ns]', freq='D')"
      ]
     },
     "execution_count": 26,
     "metadata": {},
     "output_type": "execute_result"
    }
   ],
   "source": [
    "pd.date_range(start=\"2023-11-1\", periods=40)"
   ]
  },
  {
   "cell_type": "markdown",
   "metadata": {
    "school_cell_uuid": "3bad3aff349649b083b4867843705dd0"
   },
   "source": [
    "`freq` 인수로 특정한 날짜만 생성되도록 할 수도 있다. 많이 사용되는 `freq` 인수값은 다음과 같다.\n",
    "\n",
    "* `s`: 초\n",
    "* `T`: 분\n",
    "* `H`: 시간\n",
    "* `D`: 일(day)\n",
    "* `B`: 주말이 아닌 평일\n",
    "* `W`: 주(일요일)\n",
    "* `W-MON`: 주(월요일)\n",
    "* `M`: 각 달(month)의 마지막 날\n",
    "* `MS`: 각 달의 첫날\n",
    "* `BM`: 주말이 아닌 평일 중에서 각 달의 마지막 날\n",
    "* `BMS`: 주말이 아닌 평일 중에서 각 달의 첫날\n",
    "* `WOM-2THU`: 각 달의 두번째 목요일\n",
    "* `Q-JAN`: 각 분기의 첫달의 마지막 날\n",
    "* `Q-DEC`: 각 분기의 마지막 달의 마지막 날\n",
    "\n",
    "보다 자세한 내용은 다음 웹사이트를 참조한다.\n",
    "\n",
    "* [https://pandas.pydata.org/pandas-docs/stable/user_guide/timeseries.html#dateoffset-objects](https://pandas.pydata.org/pandas-docs/stable/user_guide/timeseries.html#dateoffset-objects)"
   ]
  },
  {
   "cell_type": "code",
   "execution_count": 28,
   "metadata": {
    "ExecuteTime": {
     "end_time": "2023-11-21T14:12:15.448619Z",
     "start_time": "2023-11-21T14:12:15.441007Z"
    },
    "school_cell_uuid": "6608d599e5924ed5a87525d8eca61478"
   },
   "outputs": [
    {
     "data": {
      "text/plain": [
       "DatetimeIndex(['2023-12-01', '2023-12-04', '2023-12-05', '2023-12-06',\n",
       "               '2023-12-07', '2023-12-08', '2023-12-11', '2023-12-12',\n",
       "               '2023-12-13', '2023-12-14', '2023-12-15', '2023-12-18',\n",
       "               '2023-12-19', '2023-12-20', '2023-12-21', '2023-12-22',\n",
       "               '2023-12-25', '2023-12-26', '2023-12-27', '2023-12-28',\n",
       "               '2023-12-29'],\n",
       "              dtype='datetime64[ns]', freq='B')"
      ]
     },
     "execution_count": 28,
     "metadata": {},
     "output_type": "execute_result"
    }
   ],
   "source": [
    "pd.date_range(\"2023-12-1\", \"2023-12-30\", freq=\"B\")"
   ]
  },
  {
   "cell_type": "code",
   "execution_count": 29,
   "metadata": {
    "ExecuteTime": {
     "end_time": "2023-11-06T08:42:09.666532Z",
     "start_time": "2023-11-06T08:42:09.659551Z"
    },
    "school_cell_uuid": "6cd6c97dc5054162abf7e9f9a3a3093e"
   },
   "outputs": [
    {
     "data": {
      "text/plain": [
       "DatetimeIndex(['2023-12-03', '2023-12-10', '2023-12-17', '2023-12-24'], dtype='datetime64[ns]', freq='W-SUN')"
      ]
     },
     "execution_count": 29,
     "metadata": {},
     "output_type": "execute_result"
    }
   ],
   "source": [
    "pd.date_range(\"2023-12-1\", \"2023-12-30\", freq=\"W\")"
   ]
  },
  {
   "cell_type": "code",
   "execution_count": 31,
   "metadata": {
    "ExecuteTime": {
     "end_time": "2023-11-06T08:42:11.968587Z",
     "start_time": "2023-11-06T08:42:11.962829Z"
    },
    "school_cell_uuid": "6cd6c97dc5054162abf7e9f9a3a3093e"
   },
   "outputs": [
    {
     "data": {
      "text/plain": [
       "DatetimeIndex(['2023-12-04', '2023-12-11', '2023-12-18', '2023-12-25'], dtype='datetime64[ns]', freq='W-MON')"
      ]
     },
     "execution_count": 31,
     "metadata": {},
     "output_type": "execute_result"
    }
   ],
   "source": [
    "pd.date_range(\"2023-12-1\", \"2023-12-30\", freq=\"W-MON\")"
   ]
  },
  {
   "cell_type": "code",
   "execution_count": 32,
   "metadata": {
    "ExecuteTime": {
     "end_time": "2023-11-06T08:42:12.300357Z",
     "start_time": "2023-11-06T08:42:12.289943Z"
    },
    "school_cell_uuid": "303d33432bd64ad58b63fc397dd271f5"
   },
   "outputs": [
    {
     "data": {
      "text/plain": [
       "DatetimeIndex(['2023-11-01'], dtype='datetime64[ns]', freq='MS')"
      ]
     },
     "execution_count": 32,
     "metadata": {},
     "output_type": "execute_result"
    }
   ],
   "source": [
    "pd.date_range(\"2023-11-1\", \"2023-11-30\", freq=\"MS\")"
   ]
  },
  {
   "cell_type": "code",
   "execution_count": 33,
   "metadata": {
    "ExecuteTime": {
     "end_time": "2023-11-06T08:42:12.536722Z",
     "start_time": "2023-11-06T08:42:12.524754Z"
    },
    "school_cell_uuid": "9e558fec73084d179fa1d643395d2a85"
   },
   "outputs": [
    {
     "data": {
      "text/plain": [
       "DatetimeIndex(['2023-11-30'], dtype='datetime64[ns]', freq='M')"
      ]
     },
     "execution_count": 33,
     "metadata": {},
     "output_type": "execute_result"
    }
   ],
   "source": [
    "pd.date_range(\"2023-11-1\", \"2023-11-30\", freq=\"M\")"
   ]
  },
  {
   "cell_type": "code",
   "execution_count": 34,
   "metadata": {
    "ExecuteTime": {
     "end_time": "2023-11-06T08:42:12.755354Z",
     "start_time": "2023-11-06T08:42:12.744870Z"
    },
    "school_cell_uuid": "c4952b28e6b34afda26867c79a8a0aa6"
   },
   "outputs": [
    {
     "data": {
      "text/plain": [
       "DatetimeIndex(['2023-11-01'], dtype='datetime64[ns]', freq='BMS')"
      ]
     },
     "execution_count": 34,
     "metadata": {},
     "output_type": "execute_result"
    }
   ],
   "source": [
    "pd.date_range(\"2023-11-1\", \"2023-11-30\", freq=\"BMS\")"
   ]
  },
  {
   "cell_type": "code",
   "execution_count": 35,
   "metadata": {
    "ExecuteTime": {
     "end_time": "2023-11-06T08:42:12.997694Z",
     "start_time": "2023-11-06T08:42:12.988612Z"
    },
    "school_cell_uuid": "6b151f915de047bca5a6488a512d7d1c"
   },
   "outputs": [
    {
     "data": {
      "text/plain": [
       "DatetimeIndex(['2023-11-30'], dtype='datetime64[ns]', freq='BM')"
      ]
     },
     "execution_count": 35,
     "metadata": {},
     "output_type": "execute_result"
    }
   ],
   "source": [
    "pd.date_range(\"2023-11-1\", \"2023-11-30\", freq=\"BM\")"
   ]
  },
  {
   "cell_type": "code",
   "execution_count": 36,
   "metadata": {
    "ExecuteTime": {
     "end_time": "2023-11-06T08:42:13.597317Z",
     "start_time": "2023-11-06T08:42:13.588337Z"
    },
    "school_cell_uuid": "af918cf8514a47cfbfdda1663c544cec"
   },
   "outputs": [
    {
     "data": {
      "text/plain": [
       "DatetimeIndex(['2023-11-09'], dtype='datetime64[ns]', freq='WOM-2THU')"
      ]
     },
     "execution_count": 36,
     "metadata": {},
     "output_type": "execute_result"
    }
   ],
   "source": [
    "pd.date_range(\"2023-11-1\", \"2023-11-30\", freq=\"WOM-2THU\")"
   ]
  },
  {
   "cell_type": "code",
   "execution_count": 37,
   "metadata": {
    "ExecuteTime": {
     "end_time": "2023-11-06T08:42:13.881804Z",
     "start_time": "2023-11-06T08:42:13.873455Z"
    },
    "school_cell_uuid": "c726f07103874171bedce2e22533f7a9"
   },
   "outputs": [
    {
     "data": {
      "text/plain": [
       "DatetimeIndex(['2023-01-31', '2023-04-30', '2023-07-31', '2023-10-31'], dtype='datetime64[ns]', freq='Q-JAN')"
      ]
     },
     "execution_count": 37,
     "metadata": {},
     "output_type": "execute_result"
    }
   ],
   "source": [
    "pd.date_range(\"2023-01-1\", \"2023-11-30\", freq=\"Q-JAN\")"
   ]
  },
  {
   "cell_type": "code",
   "execution_count": 38,
   "metadata": {
    "ExecuteTime": {
     "end_time": "2023-11-06T08:42:14.192968Z",
     "start_time": "2023-11-06T08:42:14.184372Z"
    },
    "school_cell_uuid": "c726f07103874171bedce2e22533f7a9"
   },
   "outputs": [
    {
     "data": {
      "text/plain": [
       "DatetimeIndex(['2023-03-31', '2023-06-30', '2023-09-30'], dtype='datetime64[ns]', freq='Q-DEC')"
      ]
     },
     "execution_count": 38,
     "metadata": {},
     "output_type": "execute_result"
    }
   ],
   "source": [
    "pd.date_range(\"2023-01-1\", \"2023-11-30\", freq=\"Q-DEC\")"
   ]
  },
  {
   "cell_type": "markdown",
   "metadata": {
    "school_cell_uuid": "6c52ae3d5ccb4f9ea14aa8673c287d85"
   },
   "source": [
    "## `shift` 연산"
   ]
  },
  {
   "cell_type": "markdown",
   "metadata": {
    "school_cell_uuid": "ed3a5e938ba64f5484ea726069fa8e97"
   },
   "source": [
    "시계열 데이터의 인덱스는 시간이나 날짜를 나타내기 때문에 날짜 이동 등의 다양한 연산이 가능하다.   \n",
    "예를 들어 `shift` 연산을 사용하면 인덱스는 그대로 두고 데이터만 이동할 수도 있다."
   ]
  },
  {
   "cell_type": "code",
   "execution_count": 39,
   "metadata": {
    "ExecuteTime": {
     "end_time": "2023-11-06T08:42:53.791120Z",
     "start_time": "2023-11-06T08:42:53.777869Z"
    },
    "school_cell_uuid": "7c4b915c88ee4be28a67786ceb1ff69e"
   },
   "outputs": [
    {
     "data": {
      "text/plain": [
       "2018-01-31    1.764052\n",
       "2018-02-28    0.400157\n",
       "2018-03-31    0.978738\n",
       "2018-04-30    2.240893\n",
       "Freq: M, dtype: float64"
      ]
     },
     "execution_count": 39,
     "metadata": {},
     "output_type": "execute_result"
    }
   ],
   "source": [
    "np.random.seed(0)\n",
    "ts = pd.Series(np.random.randn(4), index=pd.date_range(\n",
    "    \"2018-1-1\", periods=4, freq=\"M\"))\n",
    "ts"
   ]
  },
  {
   "cell_type": "code",
   "execution_count": 40,
   "metadata": {
    "ExecuteTime": {
     "end_time": "2023-11-06T08:42:55.684146Z",
     "start_time": "2023-11-06T08:42:55.675726Z"
    },
    "school_cell_uuid": "6bce1f04b30f495f8e90b11739a7f921"
   },
   "outputs": [
    {
     "data": {
      "text/plain": [
       "2018-01-31         NaN\n",
       "2018-02-28    1.764052\n",
       "2018-03-31    0.400157\n",
       "2018-04-30    0.978738\n",
       "Freq: M, dtype: float64"
      ]
     },
     "execution_count": 40,
     "metadata": {},
     "output_type": "execute_result"
    }
   ],
   "source": [
    "ts.shift(1)"
   ]
  },
  {
   "cell_type": "code",
   "execution_count": 41,
   "metadata": {
    "ExecuteTime": {
     "end_time": "2023-11-06T08:43:01.203397Z",
     "start_time": "2023-11-06T08:43:01.188472Z"
    },
    "school_cell_uuid": "9bf7c19b851a44df95d38a9e5180baa5"
   },
   "outputs": [
    {
     "data": {
      "text/plain": [
       "2018-01-31    0.400157\n",
       "2018-02-28    0.978738\n",
       "2018-03-31    2.240893\n",
       "2018-04-30         NaN\n",
       "Freq: M, dtype: float64"
      ]
     },
     "execution_count": 41,
     "metadata": {},
     "output_type": "execute_result"
    }
   ],
   "source": [
    "ts.shift(-1)"
   ]
  },
  {
   "cell_type": "code",
   "execution_count": 42,
   "metadata": {
    "ExecuteTime": {
     "end_time": "2023-11-06T08:43:30.322725Z",
     "start_time": "2023-11-06T08:43:30.312461Z"
    },
    "school_cell_uuid": "bf53db50efff4a0b9ff686300dc6a1c4"
   },
   "outputs": [
    {
     "data": {
      "text/plain": [
       "2018-02-28    1.764052\n",
       "2018-03-31    0.400157\n",
       "2018-04-30    0.978738\n",
       "2018-05-31    2.240893\n",
       "Freq: M, dtype: float64"
      ]
     },
     "execution_count": 42,
     "metadata": {},
     "output_type": "execute_result"
    }
   ],
   "source": [
    "ts.shift(1, freq=\"M\")"
   ]
  },
  {
   "cell_type": "code",
   "execution_count": 43,
   "metadata": {
    "ExecuteTime": {
     "end_time": "2023-11-06T08:43:35.628608Z",
     "start_time": "2023-11-06T08:43:35.616658Z"
    }
   },
   "outputs": [
    {
     "data": {
      "text/plain": [
       "2018-02-04    1.764052\n",
       "2018-03-04    0.400157\n",
       "2018-04-01    0.978738\n",
       "2018-05-06    2.240893\n",
       "dtype: float64"
      ]
     },
     "execution_count": 43,
     "metadata": {},
     "output_type": "execute_result"
    }
   ],
   "source": [
    "ts.shift(1, freq=\"W\")"
   ]
  },
  {
   "cell_type": "markdown",
   "metadata": {
    "school_cell_uuid": "770673825a1a40d0b6741808a628edfa"
   },
   "source": [
    "## `resample` 연산"
   ]
  },
  {
   "cell_type": "markdown",
   "metadata": {
    "school_cell_uuid": "1c1b825db0d3484e8f778e5bb2496d10"
   },
   "source": [
    "`resample` 연산을 쓰면 시간 간격을 재조정하는 리샘플링(resampling)이 가능하다.    \n",
    "이 때 시간 구간이 작아지면 데이터 양이 증가한다고 해서 업-샘플링(up-sampling)이라 하고    \n",
    "시간 구간이 커지면 데이터 양이 감소한다고 해서 다운-샘플링(down-sampling)이라 부른다."
   ]
  },
  {
   "cell_type": "code",
   "execution_count": 44,
   "metadata": {
    "ExecuteTime": {
     "end_time": "2023-11-06T08:43:57.693211Z",
     "start_time": "2023-11-06T08:43:57.684229Z"
    },
    "school_cell_uuid": "c0ce7a3b53954f87abbbe4dbd23ffbd2"
   },
   "outputs": [
    {
     "data": {
      "text/plain": [
       "2018-03-22    1.488252\n",
       "2018-03-23    1.895889\n",
       "2018-03-24    1.178780\n",
       "2018-03-25   -0.179925\n",
       "2018-03-26   -1.070753\n",
       "2018-03-27    1.054452\n",
       "2018-03-28   -0.403177\n",
       "2018-03-29    1.222445\n",
       "2018-03-30    0.208275\n",
       "2018-03-31    0.976639\n",
       "2018-04-01    0.356366\n",
       "2018-04-02    0.706573\n",
       "2018-04-03    0.010500\n",
       "2018-04-04    1.785870\n",
       "2018-04-05    0.126912\n",
       "2018-04-06    0.401989\n",
       "2018-04-07    1.883151\n",
       "2018-04-08   -1.347759\n",
       "2018-04-09   -1.270485\n",
       "2018-04-10    0.969397\n",
       "Freq: D, dtype: float64"
      ]
     },
     "execution_count": 44,
     "metadata": {},
     "output_type": "execute_result"
    }
   ],
   "source": [
    "ts = pd.Series(np.random.randn(100), index=pd.date_range(\"2018-1-1\", periods=100, freq=\"D\"))\n",
    "ts.tail(20)"
   ]
  },
  {
   "cell_type": "markdown",
   "metadata": {
    "school_cell_uuid": "76ed6719f0974c1b9c0380feb5bec180"
   },
   "source": [
    "다운-샘플링의 경우에는 원래의 데이터가 그룹으로 묶이기 때문에 그룹바이(groupby)때와 같이 그룹 연산을 해서 대표값을 구해야 한다."
   ]
  },
  {
   "cell_type": "code",
   "execution_count": 46,
   "metadata": {},
   "outputs": [
    {
     "data": {
      "text/plain": [
       "<pandas.core.resample.DatetimeIndexResampler object at 0x000001A2ACF7AF90>"
      ]
     },
     "execution_count": 46,
     "metadata": {},
     "output_type": "execute_result"
    }
   ],
   "source": [
    "ts.resample('W')"
   ]
  },
  {
   "cell_type": "code",
   "execution_count": 47,
   "metadata": {
    "ExecuteTime": {
     "end_time": "2023-11-06T08:44:09.283114Z",
     "start_time": "2023-11-06T08:44:09.266282Z"
    },
    "school_cell_uuid": "293752ebf54641fc831846a7ead19096"
   },
   "outputs": [
    {
     "data": {
      "text/plain": [
       "2018-01-07    0.305776\n",
       "2018-01-14    0.629064\n",
       "2018-01-21   -0.006910\n",
       "2018-01-28    0.277065\n",
       "2018-02-04   -0.144972\n",
       "2018-02-11   -0.496299\n",
       "2018-02-18   -0.474473\n",
       "2018-02-25   -0.201222\n",
       "2018-03-04   -0.775142\n",
       "2018-03-11    0.052868\n",
       "2018-03-18   -0.450379\n",
       "2018-03-25    0.601892\n",
       "2018-04-01    0.334893\n",
       "2018-04-08    0.509605\n",
       "2018-04-15   -0.150544\n",
       "Freq: W-SUN, dtype: float64"
      ]
     },
     "execution_count": 47,
     "metadata": {},
     "output_type": "execute_result"
    }
   ],
   "source": [
    "ts.resample('W').mean()"
   ]
  },
  {
   "cell_type": "code",
   "execution_count": 48,
   "metadata": {
    "ExecuteTime": {
     "end_time": "2023-11-06T08:44:18.213750Z",
     "start_time": "2023-11-06T08:44:18.199795Z"
    },
    "school_cell_uuid": "d7c9890078004169b34a557164f129f5"
   },
   "outputs": [
    {
     "data": {
      "text/plain": [
       "2018-01-31    1.867558\n",
       "2018-02-28    0.156349\n",
       "2018-03-31   -1.726283\n",
       "2018-04-30    0.356366\n",
       "Freq: M, dtype: float64"
      ]
     },
     "execution_count": 48,
     "metadata": {},
     "output_type": "execute_result"
    }
   ],
   "source": [
    "ts.resample('M').first()"
   ]
  },
  {
   "cell_type": "markdown",
   "metadata": {
    "school_cell_uuid": "12f3a566eb4c41738797e094843d0f43"
   },
   "source": [
    "날짜가 아닌 시/분 단위에서는 구간위 왼쪽 한계값(가장 빠른 값)은 포함하고   \n",
    "오른쪽 한계값(가장 늦은 값)은 포함하지 않는다.   \n",
    "즉, 가장 늦은 값은 다음 구간에 포함된다. 예를 들어 10분 간격으로 구간을 만들면 10의 배수가 되는 시각은 구간의 시작점이 된다."
   ]
  },
  {
   "cell_type": "code",
   "execution_count": 49,
   "metadata": {
    "ExecuteTime": {
     "end_time": "2023-11-06T08:44:37.746970Z",
     "start_time": "2023-11-06T08:44:37.736995Z"
    },
    "school_cell_uuid": "be97af4119bd46d69d249294de2dba1c"
   },
   "outputs": [
    {
     "data": {
      "text/plain": [
       "2018-01-01 00:00:00   -1.173123\n",
       "2018-01-01 00:01:00    1.943621\n",
       "2018-01-01 00:02:00   -0.413619\n",
       "2018-01-01 00:03:00   -0.747455\n",
       "2018-01-01 00:04:00    1.922942\n",
       "2018-01-01 00:05:00    1.480515\n",
       "2018-01-01 00:06:00    1.867559\n",
       "2018-01-01 00:07:00    0.906045\n",
       "2018-01-01 00:08:00   -0.861226\n",
       "2018-01-01 00:09:00    1.910065\n",
       "2018-01-01 00:10:00   -0.268003\n",
       "2018-01-01 00:11:00    0.802456\n",
       "2018-01-01 00:12:00    0.947252\n",
       "2018-01-01 00:13:00   -0.155010\n",
       "2018-01-01 00:14:00    0.614079\n",
       "2018-01-01 00:15:00    0.922207\n",
       "2018-01-01 00:16:00    0.376426\n",
       "2018-01-01 00:17:00   -1.099401\n",
       "2018-01-01 00:18:00    0.298238\n",
       "2018-01-01 00:19:00    1.326386\n",
       "Freq: T, dtype: float64"
      ]
     },
     "execution_count": 49,
     "metadata": {},
     "output_type": "execute_result"
    }
   ],
   "source": [
    "ts = pd.Series(np.random.randn(60), index=pd.date_range(\n",
    "    \"2018-1-1\", periods=60, freq=\"T\"))\n",
    "ts.head(20)"
   ]
  },
  {
   "cell_type": "code",
   "execution_count": 50,
   "metadata": {
    "ExecuteTime": {
     "end_time": "2023-11-06T08:45:14.054666Z",
     "start_time": "2023-11-06T08:45:14.044428Z"
    },
    "school_cell_uuid": "9080aeb351774c32923d54a62b0b9340"
   },
   "outputs": [
    {
     "data": {
      "text/plain": [
       "2018-01-01 00:00:00    6.835324\n",
       "2018-01-01 00:10:00    3.764630\n",
       "2018-01-01 00:20:00    0.776495\n",
       "2018-01-01 00:30:00   -0.538336\n",
       "2018-01-01 00:40:00    1.828234\n",
       "2018-01-01 00:50:00    0.167957\n",
       "Freq: 10T, dtype: float64"
      ]
     },
     "execution_count": 50,
     "metadata": {},
     "output_type": "execute_result"
    }
   ],
   "source": [
    "ts.resample('10T').sum()"
   ]
  },
  {
   "cell_type": "markdown",
   "metadata": {
    "school_cell_uuid": "d56640fdc6454a4ab6fc13d6037ef192"
   },
   "source": [
    "왼쪽이 아니라 오른쪽 한계값을 구간에 포함하려면 `closed=\"right\"` 인수를 사용한다. 이 때는 10의 배수가 되는 시각이 앞 구간에 포함된다."
   ]
  },
  {
   "cell_type": "code",
   "execution_count": 51,
   "metadata": {
    "ExecuteTime": {
     "end_time": "2023-11-06T08:45:44.317182Z",
     "start_time": "2023-11-06T08:45:44.307212Z"
    },
    "school_cell_uuid": "6b979c1732e947d2a6b4f210a8acd1f7"
   },
   "outputs": [
    {
     "data": {
      "text/plain": [
       "2017-12-31 23:50:00   -1.173123\n",
       "2018-01-01 00:00:00    7.740444\n",
       "2018-01-01 00:10:00    3.338065\n",
       "2018-01-01 00:20:00    0.835217\n",
       "2018-01-01 00:30:00    2.480654\n",
       "2018-01-01 00:40:00   -0.653363\n",
       "2018-01-01 00:50:00    0.266409\n",
       "Freq: 10T, dtype: float64"
      ]
     },
     "execution_count": 51,
     "metadata": {},
     "output_type": "execute_result"
    }
   ],
   "source": [
    "ts.resample('10T', closed=\"right\").sum()"
   ]
  },
  {
   "cell_type": "markdown",
   "metadata": {
    "school_cell_uuid": "f941fd4732304035af2977ec9164f5a2"
   },
   "source": [
    "`ohlc` 메서드는 구간의 시고저종(open, high, low, close)값을 구한다."
   ]
  },
  {
   "cell_type": "code",
   "execution_count": 53,
   "metadata": {
    "ExecuteTime": {
     "end_time": "2023-11-06T08:46:09.779662Z",
     "start_time": "2023-11-06T08:46:09.757736Z"
    },
    "school_cell_uuid": "07e0baad82574cf98d4c79a68b43e41f"
   },
   "outputs": [
    {
     "data": {
      "text/html": [
       "<div>\n",
       "<style scoped>\n",
       "    .dataframe tbody tr th:only-of-type {\n",
       "        vertical-align: middle;\n",
       "    }\n",
       "\n",
       "    .dataframe tbody tr th {\n",
       "        vertical-align: top;\n",
       "    }\n",
       "\n",
       "    .dataframe thead th {\n",
       "        text-align: right;\n",
       "    }\n",
       "</style>\n",
       "<table border=\"1\" class=\"dataframe\">\n",
       "  <thead>\n",
       "    <tr style=\"text-align: right;\">\n",
       "      <th></th>\n",
       "      <th>open</th>\n",
       "      <th>high</th>\n",
       "      <th>low</th>\n",
       "      <th>close</th>\n",
       "    </tr>\n",
       "  </thead>\n",
       "  <tbody>\n",
       "    <tr>\n",
       "      <th>2018-01-01 00:00:00</th>\n",
       "      <td>-1.173123</td>\n",
       "      <td>1.943621</td>\n",
       "      <td>-1.173123</td>\n",
       "      <td>1.922942</td>\n",
       "    </tr>\n",
       "    <tr>\n",
       "      <th>2018-01-01 00:05:00</th>\n",
       "      <td>1.480515</td>\n",
       "      <td>1.910065</td>\n",
       "      <td>-0.861226</td>\n",
       "      <td>1.910065</td>\n",
       "    </tr>\n",
       "    <tr>\n",
       "      <th>2018-01-01 00:10:00</th>\n",
       "      <td>-0.268003</td>\n",
       "      <td>0.947252</td>\n",
       "      <td>-0.268003</td>\n",
       "      <td>0.614079</td>\n",
       "    </tr>\n",
       "    <tr>\n",
       "      <th>2018-01-01 00:15:00</th>\n",
       "      <td>0.922207</td>\n",
       "      <td>1.326386</td>\n",
       "      <td>-1.099401</td>\n",
       "      <td>1.326386</td>\n",
       "    </tr>\n",
       "    <tr>\n",
       "      <th>2018-01-01 00:20:00</th>\n",
       "      <td>-0.694568</td>\n",
       "      <td>1.849264</td>\n",
       "      <td>-0.694568</td>\n",
       "      <td>0.672295</td>\n",
       "    </tr>\n",
       "    <tr>\n",
       "      <th>2018-01-01 00:25:00</th>\n",
       "      <td>0.407462</td>\n",
       "      <td>0.539249</td>\n",
       "      <td>-0.769916</td>\n",
       "      <td>0.031831</td>\n",
       "    </tr>\n",
       "    <tr>\n",
       "      <th>2018-01-01 00:30:00</th>\n",
       "      <td>-0.635846</td>\n",
       "      <td>0.676433</td>\n",
       "      <td>-0.635846</td>\n",
       "      <td>0.396007</td>\n",
       "    </tr>\n",
       "    <tr>\n",
       "      <th>2018-01-01 00:35:00</th>\n",
       "      <td>-1.093062</td>\n",
       "      <td>0.635031</td>\n",
       "      <td>-1.491258</td>\n",
       "      <td>0.635031</td>\n",
       "    </tr>\n",
       "    <tr>\n",
       "      <th>2018-01-01 00:40:00</th>\n",
       "      <td>2.383145</td>\n",
       "      <td>2.383145</td>\n",
       "      <td>-1.315907</td>\n",
       "      <td>-1.315907</td>\n",
       "    </tr>\n",
       "    <tr>\n",
       "      <th>2018-01-01 00:45:00</th>\n",
       "      <td>-0.461585</td>\n",
       "      <td>1.713343</td>\n",
       "      <td>-0.826439</td>\n",
       "      <td>-0.826439</td>\n",
       "    </tr>\n",
       "    <tr>\n",
       "      <th>2018-01-01 00:50:00</th>\n",
       "      <td>-0.098453</td>\n",
       "      <td>1.126636</td>\n",
       "      <td>-1.147469</td>\n",
       "      <td>-1.147469</td>\n",
       "    </tr>\n",
       "    <tr>\n",
       "      <th>2018-01-01 00:55:00</th>\n",
       "      <td>-0.437820</td>\n",
       "      <td>1.929532</td>\n",
       "      <td>-0.498032</td>\n",
       "      <td>0.087551</td>\n",
       "    </tr>\n",
       "  </tbody>\n",
       "</table>\n",
       "</div>"
      ],
      "text/plain": [
       "                         open      high       low     close\n",
       "2018-01-01 00:00:00 -1.173123  1.943621 -1.173123  1.922942\n",
       "2018-01-01 00:05:00  1.480515  1.910065 -0.861226  1.910065\n",
       "2018-01-01 00:10:00 -0.268003  0.947252 -0.268003  0.614079\n",
       "2018-01-01 00:15:00  0.922207  1.326386 -1.099401  1.326386\n",
       "2018-01-01 00:20:00 -0.694568  1.849264 -0.694568  0.672295\n",
       "2018-01-01 00:25:00  0.407462  0.539249 -0.769916  0.031831\n",
       "2018-01-01 00:30:00 -0.635846  0.676433 -0.635846  0.396007\n",
       "2018-01-01 00:35:00 -1.093062  0.635031 -1.491258  0.635031\n",
       "2018-01-01 00:40:00  2.383145  2.383145 -1.315907 -1.315907\n",
       "2018-01-01 00:45:00 -0.461585  1.713343 -0.826439 -0.826439\n",
       "2018-01-01 00:50:00 -0.098453  1.126636 -1.147469 -1.147469\n",
       "2018-01-01 00:55:00 -0.437820  1.929532 -0.498032  0.087551"
      ]
     },
     "execution_count": 53,
     "metadata": {},
     "output_type": "execute_result"
    }
   ],
   "source": [
    "ts.resample('5T').ohlc()"
   ]
  },
  {
   "cell_type": "code",
   "execution_count": 54,
   "metadata": {
    "ExecuteTime": {
     "end_time": "2023-11-06T08:46:23.317401Z",
     "start_time": "2023-11-06T08:46:23.299856Z"
    }
   },
   "outputs": [
    {
     "data": {
      "text/html": [
       "<div>\n",
       "<style scoped>\n",
       "    .dataframe tbody tr th:only-of-type {\n",
       "        vertical-align: middle;\n",
       "    }\n",
       "\n",
       "    .dataframe tbody tr th {\n",
       "        vertical-align: top;\n",
       "    }\n",
       "\n",
       "    .dataframe thead th {\n",
       "        text-align: right;\n",
       "    }\n",
       "</style>\n",
       "<table border=\"1\" class=\"dataframe\">\n",
       "  <thead>\n",
       "    <tr style=\"text-align: right;\">\n",
       "      <th></th>\n",
       "      <th>open</th>\n",
       "      <th>high</th>\n",
       "      <th>low</th>\n",
       "      <th>close</th>\n",
       "    </tr>\n",
       "  </thead>\n",
       "  <tbody>\n",
       "    <tr>\n",
       "      <th>2017-12-31 23:55:00</th>\n",
       "      <td>-1.173123</td>\n",
       "      <td>-1.173123</td>\n",
       "      <td>-1.173123</td>\n",
       "      <td>-1.173123</td>\n",
       "    </tr>\n",
       "    <tr>\n",
       "      <th>2018-01-01 00:00:00</th>\n",
       "      <td>1.943621</td>\n",
       "      <td>1.943621</td>\n",
       "      <td>-0.747455</td>\n",
       "      <td>1.480515</td>\n",
       "    </tr>\n",
       "    <tr>\n",
       "      <th>2018-01-01 00:05:00</th>\n",
       "      <td>1.867559</td>\n",
       "      <td>1.910065</td>\n",
       "      <td>-0.861226</td>\n",
       "      <td>-0.268003</td>\n",
       "    </tr>\n",
       "    <tr>\n",
       "      <th>2018-01-01 00:10:00</th>\n",
       "      <td>0.802456</td>\n",
       "      <td>0.947252</td>\n",
       "      <td>-0.155010</td>\n",
       "      <td>0.922207</td>\n",
       "    </tr>\n",
       "    <tr>\n",
       "      <th>2018-01-01 00:15:00</th>\n",
       "      <td>0.376426</td>\n",
       "      <td>1.326386</td>\n",
       "      <td>-1.099401</td>\n",
       "      <td>-0.694568</td>\n",
       "    </tr>\n",
       "    <tr>\n",
       "      <th>2018-01-01 00:20:00</th>\n",
       "      <td>-0.149635</td>\n",
       "      <td>1.849264</td>\n",
       "      <td>-0.435154</td>\n",
       "      <td>0.407462</td>\n",
       "    </tr>\n",
       "    <tr>\n",
       "      <th>2018-01-01 00:25:00</th>\n",
       "      <td>-0.769916</td>\n",
       "      <td>0.539249</td>\n",
       "      <td>-0.769916</td>\n",
       "      <td>-0.635846</td>\n",
       "    </tr>\n",
       "    <tr>\n",
       "      <th>2018-01-01 00:30:00</th>\n",
       "      <td>0.676433</td>\n",
       "      <td>0.676433</td>\n",
       "      <td>-1.093062</td>\n",
       "      <td>-1.093062</td>\n",
       "    </tr>\n",
       "    <tr>\n",
       "      <th>2018-01-01 00:35:00</th>\n",
       "      <td>-1.491258</td>\n",
       "      <td>2.383145</td>\n",
       "      <td>-1.491258</td>\n",
       "      <td>2.383145</td>\n",
       "    </tr>\n",
       "    <tr>\n",
       "      <th>2018-01-01 00:40:00</th>\n",
       "      <td>0.944479</td>\n",
       "      <td>1.117016</td>\n",
       "      <td>-1.315907</td>\n",
       "      <td>-0.461585</td>\n",
       "    </tr>\n",
       "    <tr>\n",
       "      <th>2018-01-01 00:45:00</th>\n",
       "      <td>-0.068242</td>\n",
       "      <td>1.713343</td>\n",
       "      <td>-0.826439</td>\n",
       "      <td>-0.098453</td>\n",
       "    </tr>\n",
       "    <tr>\n",
       "      <th>2018-01-01 00:50:00</th>\n",
       "      <td>-0.663478</td>\n",
       "      <td>1.126636</td>\n",
       "      <td>-1.147469</td>\n",
       "      <td>-0.437820</td>\n",
       "    </tr>\n",
       "    <tr>\n",
       "      <th>2018-01-01 00:55:00</th>\n",
       "      <td>-0.498032</td>\n",
       "      <td>1.929532</td>\n",
       "      <td>-0.498032</td>\n",
       "      <td>0.087551</td>\n",
       "    </tr>\n",
       "  </tbody>\n",
       "</table>\n",
       "</div>"
      ],
      "text/plain": [
       "                         open      high       low     close\n",
       "2017-12-31 23:55:00 -1.173123 -1.173123 -1.173123 -1.173123\n",
       "2018-01-01 00:00:00  1.943621  1.943621 -0.747455  1.480515\n",
       "2018-01-01 00:05:00  1.867559  1.910065 -0.861226 -0.268003\n",
       "2018-01-01 00:10:00  0.802456  0.947252 -0.155010  0.922207\n",
       "2018-01-01 00:15:00  0.376426  1.326386 -1.099401 -0.694568\n",
       "2018-01-01 00:20:00 -0.149635  1.849264 -0.435154  0.407462\n",
       "2018-01-01 00:25:00 -0.769916  0.539249 -0.769916 -0.635846\n",
       "2018-01-01 00:30:00  0.676433  0.676433 -1.093062 -1.093062\n",
       "2018-01-01 00:35:00 -1.491258  2.383145 -1.491258  2.383145\n",
       "2018-01-01 00:40:00  0.944479  1.117016 -1.315907 -0.461585\n",
       "2018-01-01 00:45:00 -0.068242  1.713343 -0.826439 -0.098453\n",
       "2018-01-01 00:50:00 -0.663478  1.126636 -1.147469 -0.437820\n",
       "2018-01-01 00:55:00 -0.498032  1.929532 -0.498032  0.087551"
      ]
     },
     "execution_count": 54,
     "metadata": {},
     "output_type": "execute_result"
    }
   ],
   "source": [
    "ts.resample('5T', closed='right').ohlc()"
   ]
  },
  {
   "cell_type": "markdown",
   "metadata": {
    "school_cell_uuid": "5b4fb3fee379420e83812348e7d74b14"
   },
   "source": [
    "업-샘플링의 경우에는 실제로 존재하지 않는 데이터를 만들어야 한다.    \n",
    "이 때는 앞에서 나온 데이터를 뒤에서 그대로 쓰는 forward filling 방식과    \n",
    "뒤에서 나올 데이터를 앞에서 미리 쓰는 backward filling 방식을 사용할 수 있다.   \n",
    "각각 `ffill`, `bfill` 메서드를 이용한다."
   ]
  },
  {
   "cell_type": "code",
   "execution_count": 55,
   "metadata": {
    "ExecuteTime": {
     "end_time": "2023-11-03T08:48:18.011201Z",
     "start_time": "2023-11-03T08:48:17.998565Z"
    },
    "school_cell_uuid": "4e4dfa87aaa84d9fac24a26a07c56c0f"
   },
   "outputs": [
    {
     "data": {
      "text/plain": [
       "2018-01-01 00:00:00   -1.173123\n",
       "2018-01-01 00:00:30   -1.173123\n",
       "2018-01-01 00:01:00    1.943621\n",
       "2018-01-01 00:01:30    1.943621\n",
       "2018-01-01 00:02:00   -0.413619\n",
       "2018-01-01 00:02:30   -0.413619\n",
       "2018-01-01 00:03:00   -0.747455\n",
       "2018-01-01 00:03:30   -0.747455\n",
       "2018-01-01 00:04:00    1.922942\n",
       "2018-01-01 00:04:30    1.922942\n",
       "2018-01-01 00:05:00    1.480515\n",
       "2018-01-01 00:05:30    1.480515\n",
       "2018-01-01 00:06:00    1.867559\n",
       "2018-01-01 00:06:30    1.867559\n",
       "2018-01-01 00:07:00    0.906045\n",
       "2018-01-01 00:07:30    0.906045\n",
       "2018-01-01 00:08:00   -0.861226\n",
       "2018-01-01 00:08:30   -0.861226\n",
       "2018-01-01 00:09:00    1.910065\n",
       "2018-01-01 00:09:30    1.910065\n",
       "Freq: 30S, dtype: float64"
      ]
     },
     "execution_count": 55,
     "metadata": {},
     "output_type": "execute_result"
    }
   ],
   "source": [
    "ts.resample('30s').ffill().head(20)"
   ]
  },
  {
   "cell_type": "code",
   "execution_count": 56,
   "metadata": {
    "ExecuteTime": {
     "end_time": "2023-11-06T08:47:31.960083Z",
     "start_time": "2023-11-06T08:47:31.945468Z"
    },
    "school_cell_uuid": "e5d35e6fc62b455a97fc164c48a13489"
   },
   "outputs": [
    {
     "data": {
      "text/plain": [
       "2018-01-01 00:00:00   -1.173123\n",
       "2018-01-01 00:00:30    1.943621\n",
       "2018-01-01 00:01:00    1.943621\n",
       "2018-01-01 00:01:30   -0.413619\n",
       "2018-01-01 00:02:00   -0.413619\n",
       "2018-01-01 00:02:30   -0.747455\n",
       "2018-01-01 00:03:00   -0.747455\n",
       "2018-01-01 00:03:30    1.922942\n",
       "2018-01-01 00:04:00    1.922942\n",
       "2018-01-01 00:04:30    1.480515\n",
       "2018-01-01 00:05:00    1.480515\n",
       "2018-01-01 00:05:30    1.867559\n",
       "2018-01-01 00:06:00    1.867559\n",
       "2018-01-01 00:06:30    0.906045\n",
       "2018-01-01 00:07:00    0.906045\n",
       "2018-01-01 00:07:30   -0.861226\n",
       "2018-01-01 00:08:00   -0.861226\n",
       "2018-01-01 00:08:30    1.910065\n",
       "2018-01-01 00:09:00    1.910065\n",
       "2018-01-01 00:09:30   -0.268003\n",
       "Freq: 30S, dtype: float64"
      ]
     },
     "execution_count": 56,
     "metadata": {},
     "output_type": "execute_result"
    }
   ],
   "source": [
    "ts.resample('30s').bfill().head(20)"
   ]
  },
  {
   "cell_type": "markdown",
   "metadata": {},
   "source": [
    "## `dt` 접근자"
   ]
  },
  {
   "cell_type": "markdown",
   "metadata": {},
   "source": [
    "datetime 자료형 시리즈에는 dt 접근자가 있어 datetime 자료형이 가진 몇가지 유용한 속성과 메서드를 사용할 수 있다."
   ]
  },
  {
   "cell_type": "code",
   "execution_count": 57,
   "metadata": {
    "ExecuteTime": {
     "end_time": "2023-11-06T08:47:37.676901Z",
     "start_time": "2023-11-06T08:47:37.652966Z"
    }
   },
   "outputs": [
    {
     "data": {
      "text/plain": [
       "0    2020-12-25\n",
       "1    2020-12-26\n",
       "2    2020-12-27\n",
       "3    2020-12-28\n",
       "4    2020-12-29\n",
       "        ...    \n",
       "95   2021-03-30\n",
       "96   2021-03-31\n",
       "97   2021-04-01\n",
       "98   2021-04-02\n",
       "99   2021-04-03\n",
       "Length: 100, dtype: datetime64[ns]"
      ]
     },
     "execution_count": 57,
     "metadata": {},
     "output_type": "execute_result"
    }
   ],
   "source": [
    "s = pd.Series(pd.date_range(\"2020-12-25\", periods=100, freq=\"D\"))\n",
    "s"
   ]
  },
  {
   "cell_type": "markdown",
   "metadata": {},
   "source": [
    "예를 들어 `year`, `month`, `day`, `weekday` 등의 속성을 이용하면 년, 월, 일, 요일 정보를 빼낼 수 있다."
   ]
  },
  {
   "cell_type": "code",
   "execution_count": 58,
   "metadata": {
    "ExecuteTime": {
     "end_time": "2023-11-06T08:47:41.194412Z",
     "start_time": "2023-11-06T08:47:41.187395Z"
    }
   },
   "outputs": [
    {
     "data": {
      "text/plain": [
       "0     2020\n",
       "1     2020\n",
       "2     2020\n",
       "3     2020\n",
       "4     2020\n",
       "      ... \n",
       "95    2021\n",
       "96    2021\n",
       "97    2021\n",
       "98    2021\n",
       "99    2021\n",
       "Length: 100, dtype: int32"
      ]
     },
     "execution_count": 58,
     "metadata": {},
     "output_type": "execute_result"
    }
   ],
   "source": [
    "s.dt.year"
   ]
  },
  {
   "cell_type": "code",
   "execution_count": 59,
   "metadata": {
    "ExecuteTime": {
     "end_time": "2023-11-06T08:47:43.883465Z",
     "start_time": "2023-11-06T08:47:43.875344Z"
    }
   },
   "outputs": [
    {
     "data": {
      "text/plain": [
       "0     4\n",
       "1     5\n",
       "2     6\n",
       "3     0\n",
       "4     1\n",
       "     ..\n",
       "95    1\n",
       "96    2\n",
       "97    3\n",
       "98    4\n",
       "99    5\n",
       "Length: 100, dtype: int32"
      ]
     },
     "execution_count": 59,
     "metadata": {},
     "output_type": "execute_result"
    }
   ],
   "source": [
    "s.dt.weekday"
   ]
  },
  {
   "cell_type": "markdown",
   "metadata": {},
   "source": [
    "`strftime` 메서드를 이용하여 문자열을 만드는 것도 가능하다."
   ]
  },
  {
   "cell_type": "code",
   "execution_count": 60,
   "metadata": {
    "ExecuteTime": {
     "end_time": "2023-11-06T08:47:45.979897Z",
     "start_time": "2023-11-06T08:47:45.969685Z"
    }
   },
   "outputs": [
    {
     "data": {
      "text/plain": [
       "0     2020년 12월 25일\n",
       "1     2020년 12월 26일\n",
       "2     2020년 12월 27일\n",
       "3     2020년 12월 28일\n",
       "4     2020년 12월 29일\n",
       "          ...      \n",
       "95    2021년 03월 30일\n",
       "96    2021년 03월 31일\n",
       "97    2021년 04월 01일\n",
       "98    2021년 04월 02일\n",
       "99    2021년 04월 03일\n",
       "Length: 100, dtype: object"
      ]
     },
     "execution_count": 60,
     "metadata": {},
     "output_type": "execute_result"
    }
   ],
   "source": [
    "s.dt.strftime(\"%Y년 %m월 %d일\")"
   ]
  },
  {
   "cell_type": "markdown",
   "metadata": {},
   "source": [
    "## 연습문제\n",
    "````\n",
    "\n",
    "다음 명령으로 만들어진 데이터프레임에 대해 월별 value의 합계를 구하라.\n",
    "(힌트: `groupby` 메서드와 `dt` 접근자를 사용하라)\n",
    "\n",
    "```\n",
    "np.random.seed(0)\n",
    "df = pd.DataFrame({\n",
    "    \"date\": pd.date_range(\"2020-12-25\", periods=100, freq=\"D\"), \n",
    "    \"value\": np.random.randint(100, size=(100,))\n",
    "})\n",
    "```\n",
    "````"
   ]
  },
  {
   "cell_type": "code",
   "execution_count": 6,
   "metadata": {},
   "outputs": [],
   "source": [
    "import numpy as np"
   ]
  },
  {
   "cell_type": "code",
   "execution_count": 8,
   "metadata": {},
   "outputs": [
    {
     "data": {
      "text/html": [
       "<div>\n",
       "<style scoped>\n",
       "    .dataframe tbody tr th:only-of-type {\n",
       "        vertical-align: middle;\n",
       "    }\n",
       "\n",
       "    .dataframe tbody tr th {\n",
       "        vertical-align: top;\n",
       "    }\n",
       "\n",
       "    .dataframe thead th {\n",
       "        text-align: right;\n",
       "    }\n",
       "</style>\n",
       "<table border=\"1\" class=\"dataframe\">\n",
       "  <thead>\n",
       "    <tr style=\"text-align: right;\">\n",
       "      <th></th>\n",
       "      <th>date</th>\n",
       "      <th>value</th>\n",
       "    </tr>\n",
       "  </thead>\n",
       "  <tbody>\n",
       "    <tr>\n",
       "      <th>0</th>\n",
       "      <td>2020-12-25</td>\n",
       "      <td>44</td>\n",
       "    </tr>\n",
       "    <tr>\n",
       "      <th>1</th>\n",
       "      <td>2020-12-26</td>\n",
       "      <td>47</td>\n",
       "    </tr>\n",
       "    <tr>\n",
       "      <th>2</th>\n",
       "      <td>2020-12-27</td>\n",
       "      <td>64</td>\n",
       "    </tr>\n",
       "    <tr>\n",
       "      <th>3</th>\n",
       "      <td>2020-12-28</td>\n",
       "      <td>67</td>\n",
       "    </tr>\n",
       "    <tr>\n",
       "      <th>4</th>\n",
       "      <td>2020-12-29</td>\n",
       "      <td>67</td>\n",
       "    </tr>\n",
       "    <tr>\n",
       "      <th>...</th>\n",
       "      <td>...</td>\n",
       "      <td>...</td>\n",
       "    </tr>\n",
       "    <tr>\n",
       "      <th>95</th>\n",
       "      <td>2021-03-30</td>\n",
       "      <td>23</td>\n",
       "    </tr>\n",
       "    <tr>\n",
       "      <th>96</th>\n",
       "      <td>2021-03-31</td>\n",
       "      <td>79</td>\n",
       "    </tr>\n",
       "    <tr>\n",
       "      <th>97</th>\n",
       "      <td>2021-04-01</td>\n",
       "      <td>13</td>\n",
       "    </tr>\n",
       "    <tr>\n",
       "      <th>98</th>\n",
       "      <td>2021-04-02</td>\n",
       "      <td>85</td>\n",
       "    </tr>\n",
       "    <tr>\n",
       "      <th>99</th>\n",
       "      <td>2021-04-03</td>\n",
       "      <td>48</td>\n",
       "    </tr>\n",
       "  </tbody>\n",
       "</table>\n",
       "<p>100 rows × 2 columns</p>\n",
       "</div>"
      ],
      "text/plain": [
       "         date  value\n",
       "0  2020-12-25     44\n",
       "1  2020-12-26     47\n",
       "2  2020-12-27     64\n",
       "3  2020-12-28     67\n",
       "4  2020-12-29     67\n",
       "..        ...    ...\n",
       "95 2021-03-30     23\n",
       "96 2021-03-31     79\n",
       "97 2021-04-01     13\n",
       "98 2021-04-02     85\n",
       "99 2021-04-03     48\n",
       "\n",
       "[100 rows x 2 columns]"
      ]
     },
     "execution_count": 8,
     "metadata": {},
     "output_type": "execute_result"
    }
   ],
   "source": [
    "np.random.seed(0)\n",
    "df = pd.DataFrame({\n",
    "    \"date\": pd.date_range(\"2020-12-25\", periods=100, freq=\"D\"), \n",
    "    \"value\": np.random.randint(100, size=(100,))\n",
    "})\n",
    "df"
   ]
  },
  {
   "cell_type": "code",
   "execution_count": 12,
   "metadata": {},
   "outputs": [
    {
     "data": {
      "text/plain": [
       "date\n",
       "1     1811\n",
       "2      985\n",
       "3     1500\n",
       "4      146\n",
       "12     381\n",
       "Name: value, dtype: int32"
      ]
     },
     "execution_count": 12,
     "metadata": {},
     "output_type": "execute_result"
    }
   ],
   "source": [
    "df.groupby(df['date'].dt.month)['value'].sum()"
   ]
  },
  {
   "cell_type": "code",
   "execution_count": null,
   "metadata": {},
   "outputs": [],
   "source": []
  },
  {
   "cell_type": "code",
   "execution_count": null,
   "metadata": {},
   "outputs": [],
   "source": []
  },
  {
   "cell_type": "code",
   "execution_count": null,
   "metadata": {},
   "outputs": [],
   "source": []
  },
  {
   "cell_type": "code",
   "execution_count": null,
   "metadata": {},
   "outputs": [],
   "source": []
  },
  {
   "cell_type": "markdown",
   "metadata": {},
   "source": [
    "---"
   ]
  },
  {
   "cell_type": "code",
   "execution_count": 64,
   "metadata": {
    "ExecuteTime": {
     "end_time": "2023-11-06T08:48:29.414416Z",
     "start_time": "2023-11-06T08:48:29.410212Z"
    }
   },
   "outputs": [],
   "source": [
    "import pandas as pd\n",
    "import numpy as np"
   ]
  },
  {
   "cell_type": "code",
   "execution_count": 65,
   "metadata": {
    "ExecuteTime": {
     "end_time": "2023-11-06T08:48:44.475828Z",
     "start_time": "2023-11-06T08:48:44.461869Z"
    },
    "scrolled": true
   },
   "outputs": [
    {
     "data": {
      "text/html": [
       "<div>\n",
       "<style scoped>\n",
       "    .dataframe tbody tr th:only-of-type {\n",
       "        vertical-align: middle;\n",
       "    }\n",
       "\n",
       "    .dataframe tbody tr th {\n",
       "        vertical-align: top;\n",
       "    }\n",
       "\n",
       "    .dataframe thead th {\n",
       "        text-align: right;\n",
       "    }\n",
       "</style>\n",
       "<table border=\"1\" class=\"dataframe\">\n",
       "  <thead>\n",
       "    <tr style=\"text-align: right;\">\n",
       "      <th></th>\n",
       "      <th>date</th>\n",
       "      <th>value</th>\n",
       "    </tr>\n",
       "  </thead>\n",
       "  <tbody>\n",
       "    <tr>\n",
       "      <th>0</th>\n",
       "      <td>2020-12-25</td>\n",
       "      <td>44</td>\n",
       "    </tr>\n",
       "    <tr>\n",
       "      <th>1</th>\n",
       "      <td>2020-12-26</td>\n",
       "      <td>47</td>\n",
       "    </tr>\n",
       "    <tr>\n",
       "      <th>2</th>\n",
       "      <td>2020-12-27</td>\n",
       "      <td>64</td>\n",
       "    </tr>\n",
       "    <tr>\n",
       "      <th>3</th>\n",
       "      <td>2020-12-28</td>\n",
       "      <td>67</td>\n",
       "    </tr>\n",
       "    <tr>\n",
       "      <th>4</th>\n",
       "      <td>2020-12-29</td>\n",
       "      <td>67</td>\n",
       "    </tr>\n",
       "    <tr>\n",
       "      <th>...</th>\n",
       "      <td>...</td>\n",
       "      <td>...</td>\n",
       "    </tr>\n",
       "    <tr>\n",
       "      <th>95</th>\n",
       "      <td>2021-03-30</td>\n",
       "      <td>23</td>\n",
       "    </tr>\n",
       "    <tr>\n",
       "      <th>96</th>\n",
       "      <td>2021-03-31</td>\n",
       "      <td>79</td>\n",
       "    </tr>\n",
       "    <tr>\n",
       "      <th>97</th>\n",
       "      <td>2021-04-01</td>\n",
       "      <td>13</td>\n",
       "    </tr>\n",
       "    <tr>\n",
       "      <th>98</th>\n",
       "      <td>2021-04-02</td>\n",
       "      <td>85</td>\n",
       "    </tr>\n",
       "    <tr>\n",
       "      <th>99</th>\n",
       "      <td>2021-04-03</td>\n",
       "      <td>48</td>\n",
       "    </tr>\n",
       "  </tbody>\n",
       "</table>\n",
       "<p>100 rows × 2 columns</p>\n",
       "</div>"
      ],
      "text/plain": [
       "         date  value\n",
       "0  2020-12-25     44\n",
       "1  2020-12-26     47\n",
       "2  2020-12-27     64\n",
       "3  2020-12-28     67\n",
       "4  2020-12-29     67\n",
       "..        ...    ...\n",
       "95 2021-03-30     23\n",
       "96 2021-03-31     79\n",
       "97 2021-04-01     13\n",
       "98 2021-04-02     85\n",
       "99 2021-04-03     48\n",
       "\n",
       "[100 rows x 2 columns]"
      ]
     },
     "execution_count": 65,
     "metadata": {},
     "output_type": "execute_result"
    }
   ],
   "source": [
    "np.random.seed(0)\n",
    "df = pd.DataFrame({\n",
    "    \"date\": pd.date_range(\"2020-12-25\", periods=100, freq=\"D\"), \n",
    "    \"value\": np.random.randint(100, size=(100,))\n",
    "})\n",
    "df"
   ]
  },
  {
   "cell_type": "code",
   "execution_count": 66,
   "metadata": {
    "ExecuteTime": {
     "end_time": "2023-11-06T08:49:18.857214Z",
     "start_time": "2023-11-06T08:49:18.842057Z"
    }
   },
   "outputs": [
    {
     "data": {
      "text/html": [
       "<div>\n",
       "<style scoped>\n",
       "    .dataframe tbody tr th:only-of-type {\n",
       "        vertical-align: middle;\n",
       "    }\n",
       "\n",
       "    .dataframe tbody tr th {\n",
       "        vertical-align: top;\n",
       "    }\n",
       "\n",
       "    .dataframe thead th {\n",
       "        text-align: right;\n",
       "    }\n",
       "</style>\n",
       "<table border=\"1\" class=\"dataframe\">\n",
       "  <thead>\n",
       "    <tr style=\"text-align: right;\">\n",
       "      <th></th>\n",
       "      <th>date</th>\n",
       "      <th>value</th>\n",
       "      <th>month</th>\n",
       "    </tr>\n",
       "  </thead>\n",
       "  <tbody>\n",
       "    <tr>\n",
       "      <th>0</th>\n",
       "      <td>2020-12-25</td>\n",
       "      <td>44</td>\n",
       "      <td>12</td>\n",
       "    </tr>\n",
       "    <tr>\n",
       "      <th>1</th>\n",
       "      <td>2020-12-26</td>\n",
       "      <td>47</td>\n",
       "      <td>12</td>\n",
       "    </tr>\n",
       "    <tr>\n",
       "      <th>2</th>\n",
       "      <td>2020-12-27</td>\n",
       "      <td>64</td>\n",
       "      <td>12</td>\n",
       "    </tr>\n",
       "    <tr>\n",
       "      <th>3</th>\n",
       "      <td>2020-12-28</td>\n",
       "      <td>67</td>\n",
       "      <td>12</td>\n",
       "    </tr>\n",
       "    <tr>\n",
       "      <th>4</th>\n",
       "      <td>2020-12-29</td>\n",
       "      <td>67</td>\n",
       "      <td>12</td>\n",
       "    </tr>\n",
       "    <tr>\n",
       "      <th>...</th>\n",
       "      <td>...</td>\n",
       "      <td>...</td>\n",
       "      <td>...</td>\n",
       "    </tr>\n",
       "    <tr>\n",
       "      <th>95</th>\n",
       "      <td>2021-03-30</td>\n",
       "      <td>23</td>\n",
       "      <td>3</td>\n",
       "    </tr>\n",
       "    <tr>\n",
       "      <th>96</th>\n",
       "      <td>2021-03-31</td>\n",
       "      <td>79</td>\n",
       "      <td>3</td>\n",
       "    </tr>\n",
       "    <tr>\n",
       "      <th>97</th>\n",
       "      <td>2021-04-01</td>\n",
       "      <td>13</td>\n",
       "      <td>4</td>\n",
       "    </tr>\n",
       "    <tr>\n",
       "      <th>98</th>\n",
       "      <td>2021-04-02</td>\n",
       "      <td>85</td>\n",
       "      <td>4</td>\n",
       "    </tr>\n",
       "    <tr>\n",
       "      <th>99</th>\n",
       "      <td>2021-04-03</td>\n",
       "      <td>48</td>\n",
       "      <td>4</td>\n",
       "    </tr>\n",
       "  </tbody>\n",
       "</table>\n",
       "<p>100 rows × 3 columns</p>\n",
       "</div>"
      ],
      "text/plain": [
       "         date  value  month\n",
       "0  2020-12-25     44     12\n",
       "1  2020-12-26     47     12\n",
       "2  2020-12-27     64     12\n",
       "3  2020-12-28     67     12\n",
       "4  2020-12-29     67     12\n",
       "..        ...    ...    ...\n",
       "95 2021-03-30     23      3\n",
       "96 2021-03-31     79      3\n",
       "97 2021-04-01     13      4\n",
       "98 2021-04-02     85      4\n",
       "99 2021-04-03     48      4\n",
       "\n",
       "[100 rows x 3 columns]"
      ]
     },
     "execution_count": 66,
     "metadata": {},
     "output_type": "execute_result"
    }
   ],
   "source": [
    "df['month']=df['date'].dt.month\n",
    "df"
   ]
  },
  {
   "cell_type": "code",
   "execution_count": 67,
   "metadata": {
    "ExecuteTime": {
     "end_time": "2023-11-06T08:49:30.339563Z",
     "start_time": "2023-11-06T08:49:30.331967Z"
    }
   },
   "outputs": [
    {
     "data": {
      "text/plain": [
       "month\n",
       "1     1811\n",
       "2      985\n",
       "3     1500\n",
       "4      146\n",
       "12     381\n",
       "Name: value, dtype: int32"
      ]
     },
     "execution_count": 67,
     "metadata": {},
     "output_type": "execute_result"
    }
   ],
   "source": [
    "df.groupby('month')['value'].sum()"
   ]
  },
  {
   "cell_type": "code",
   "execution_count": 69,
   "metadata": {},
   "outputs": [
    {
     "data": {
      "text/html": [
       "<div>\n",
       "<style scoped>\n",
       "    .dataframe tbody tr th:only-of-type {\n",
       "        vertical-align: middle;\n",
       "    }\n",
       "\n",
       "    .dataframe tbody tr th {\n",
       "        vertical-align: top;\n",
       "    }\n",
       "\n",
       "    .dataframe thead th {\n",
       "        text-align: right;\n",
       "    }\n",
       "</style>\n",
       "<table border=\"1\" class=\"dataframe\">\n",
       "  <thead>\n",
       "    <tr style=\"text-align: right;\">\n",
       "      <th></th>\n",
       "      <th>value</th>\n",
       "    </tr>\n",
       "    <tr>\n",
       "      <th>date</th>\n",
       "      <th></th>\n",
       "    </tr>\n",
       "  </thead>\n",
       "  <tbody>\n",
       "    <tr>\n",
       "      <th>2020-12-31</th>\n",
       "      <td>381</td>\n",
       "    </tr>\n",
       "    <tr>\n",
       "      <th>2021-01-31</th>\n",
       "      <td>1811</td>\n",
       "    </tr>\n",
       "    <tr>\n",
       "      <th>2021-02-28</th>\n",
       "      <td>985</td>\n",
       "    </tr>\n",
       "    <tr>\n",
       "      <th>2021-03-31</th>\n",
       "      <td>1500</td>\n",
       "    </tr>\n",
       "    <tr>\n",
       "      <th>2021-04-30</th>\n",
       "      <td>146</td>\n",
       "    </tr>\n",
       "  </tbody>\n",
       "</table>\n",
       "</div>"
      ],
      "text/plain": [
       "            value\n",
       "date             \n",
       "2020-12-31    381\n",
       "2021-01-31   1811\n",
       "2021-02-28    985\n",
       "2021-03-31   1500\n",
       "2021-04-30    146"
      ]
     },
     "execution_count": 69,
     "metadata": {},
     "output_type": "execute_result"
    }
   ],
   "source": [
    "# datetime index로도 풀어보자\n",
    "np.random.seed(0)\n",
    "df = pd.DataFrame({\n",
    "    \"date\": pd.date_range(\"2020-12-25\", periods=100, freq=\"D\"), \n",
    "    \"value\": np.random.randint(100, size=(100,))})\n",
    "df = df.set_index('date')\n",
    "df.resample('M').sum()"
   ]
  },
  {
   "cell_type": "markdown",
   "metadata": {},
   "source": [
    "# 주식 데이터로 연습하기\n",
    "* !pip install pandas_datareader\n",
    "* !pip install yfinance\n",
    "- 각종 금융정보를 dataframe으로 제공하는 라이브러리"
   ]
  },
  {
   "cell_type": "code",
   "execution_count": 15,
   "metadata": {},
   "outputs": [
    {
     "name": "stdout",
     "output_type": "stream",
     "text": [
      "Requirement already satisfied: pandas_datareader in c:\\users\\7sang\\anaconda3\\lib\\site-packages (0.10.0)\n",
      "Requirement already satisfied: lxml in c:\\users\\7sang\\anaconda3\\lib\\site-packages (from pandas_datareader) (4.9.3)\n",
      "Requirement already satisfied: pandas>=0.23 in c:\\users\\7sang\\anaconda3\\lib\\site-packages (from pandas_datareader) (2.0.3)\n",
      "Requirement already satisfied: requests>=2.19.0 in c:\\users\\7sang\\anaconda3\\lib\\site-packages (from pandas_datareader) (2.31.0)\n",
      "Requirement already satisfied: python-dateutil>=2.8.2 in c:\\users\\7sang\\anaconda3\\lib\\site-packages (from pandas>=0.23->pandas_datareader) (2.8.2)\n",
      "Requirement already satisfied: pytz>=2020.1 in c:\\users\\7sang\\anaconda3\\lib\\site-packages (from pandas>=0.23->pandas_datareader) (2023.3.post1)\n",
      "Requirement already satisfied: tzdata>=2022.1 in c:\\users\\7sang\\anaconda3\\lib\\site-packages (from pandas>=0.23->pandas_datareader) (2023.3)\n",
      "Requirement already satisfied: numpy>=1.21.0 in c:\\users\\7sang\\anaconda3\\lib\\site-packages (from pandas>=0.23->pandas_datareader) (1.24.3)\n",
      "Requirement already satisfied: charset-normalizer<4,>=2 in c:\\users\\7sang\\anaconda3\\lib\\site-packages (from requests>=2.19.0->pandas_datareader) (2.0.4)\n",
      "Requirement already satisfied: idna<4,>=2.5 in c:\\users\\7sang\\anaconda3\\lib\\site-packages (from requests>=2.19.0->pandas_datareader) (3.4)\n",
      "Requirement already satisfied: urllib3<3,>=1.21.1 in c:\\users\\7sang\\anaconda3\\lib\\site-packages (from requests>=2.19.0->pandas_datareader) (1.26.16)\n",
      "Requirement already satisfied: certifi>=2017.4.17 in c:\\users\\7sang\\anaconda3\\lib\\site-packages (from requests>=2.19.0->pandas_datareader) (2024.2.2)\n",
      "Requirement already satisfied: six>=1.5 in c:\\users\\7sang\\anaconda3\\lib\\site-packages (from python-dateutil>=2.8.2->pandas>=0.23->pandas_datareader) (1.16.0)\n",
      "Collecting yfinance\n",
      "  Obtaining dependency information for yfinance from https://files.pythonhosted.org/packages/14/03/3c854ca3e02eedf614abba4b2e177c469bf3af58207fa30d5098c5d652fe/yfinance-0.2.37-py2.py3-none-any.whl.metadata\n",
      "  Downloading yfinance-0.2.37-py2.py3-none-any.whl.metadata (11 kB)\n",
      "Requirement already satisfied: pandas>=1.3.0 in c:\\users\\7sang\\anaconda3\\lib\\site-packages (from yfinance) (2.0.3)\n",
      "Requirement already satisfied: numpy>=1.16.5 in c:\\users\\7sang\\anaconda3\\lib\\site-packages (from yfinance) (1.24.3)\n",
      "Requirement already satisfied: requests>=2.31 in c:\\users\\7sang\\anaconda3\\lib\\site-packages (from yfinance) (2.31.0)\n",
      "Collecting multitasking>=0.0.7 (from yfinance)\n",
      "  Obtaining dependency information for multitasking>=0.0.7 from https://files.pythonhosted.org/packages/3e/8a/bb3160e76e844db9e69a413f055818969c8acade64e1a9ac5ce9dfdcf6c1/multitasking-0.0.11-py3-none-any.whl.metadata\n",
      "  Downloading multitasking-0.0.11-py3-none-any.whl.metadata (5.5 kB)\n",
      "Requirement already satisfied: lxml>=4.9.1 in c:\\users\\7sang\\anaconda3\\lib\\site-packages (from yfinance) (4.9.3)\n",
      "Requirement already satisfied: appdirs>=1.4.4 in c:\\users\\7sang\\anaconda3\\lib\\site-packages (from yfinance) (1.4.4)\n",
      "Requirement already satisfied: pytz>=2022.5 in c:\\users\\7sang\\anaconda3\\lib\\site-packages (from yfinance) (2023.3.post1)\n",
      "Collecting frozendict>=2.3.4 (from yfinance)\n",
      "  Downloading frozendict-2.4.0.tar.gz (314 kB)\n",
      "     ---------------------------------------- 0.0/314.6 kB ? eta -:--:--\n",
      "     - -------------------------------------- 10.2/314.6 kB ? eta -:--:--\n",
      "     ------- ------------------------------- 61.4/314.6 kB 1.1 MB/s eta 0:00:01\n",
      "     ------------------- ------------------ 163.8/314.6 kB 1.6 MB/s eta 0:00:01\n",
      "     -------------------------------------  307.2/314.6 kB 2.4 MB/s eta 0:00:01\n",
      "     -------------------------------------- 314.6/314.6 kB 2.2 MB/s eta 0:00:00\n",
      "  Installing build dependencies: started\n",
      "  Installing build dependencies: finished with status 'done'\n",
      "  Getting requirements to build wheel: started\n",
      "  Getting requirements to build wheel: finished with status 'done'\n",
      "  Preparing metadata (pyproject.toml): started\n",
      "  Preparing metadata (pyproject.toml): finished with status 'done'\n",
      "Collecting peewee>=3.16.2 (from yfinance)\n",
      "  Downloading peewee-3.17.1.tar.gz (3.0 MB)\n",
      "     ---------------------------------------- 0.0/3.0 MB ? eta -:--:--\n",
      "     ---- ----------------------------------- 0.4/3.0 MB 11.6 MB/s eta 0:00:01\n",
      "     ----------- ---------------------------- 0.8/3.0 MB 13.4 MB/s eta 0:00:01\n",
      "     ----------------- ---------------------- 1.3/3.0 MB 11.5 MB/s eta 0:00:01\n",
      "     ------------------ --------------------- 1.3/3.0 MB 12.1 MB/s eta 0:00:01\n",
      "     ------------------- -------------------- 1.4/3.0 MB 7.7 MB/s eta 0:00:01\n",
      "     ------------------- -------------------- 1.4/3.0 MB 7.7 MB/s eta 0:00:01\n",
      "     --------------------------------- ------ 2.5/3.0 MB 10.0 MB/s eta 0:00:01\n",
      "     ---------------------------------------  2.9/3.0 MB 9.7 MB/s eta 0:00:01\n",
      "     ---------------------------------------- 3.0/3.0 MB 9.0 MB/s eta 0:00:00\n",
      "  Installing build dependencies: started\n",
      "  Installing build dependencies: finished with status 'done'\n",
      "  Getting requirements to build wheel: started\n",
      "  Getting requirements to build wheel: finished with status 'done'\n",
      "  Preparing metadata (pyproject.toml): started\n",
      "  Preparing metadata (pyproject.toml): finished with status 'done'\n",
      "Requirement already satisfied: beautifulsoup4>=4.11.1 in c:\\users\\7sang\\anaconda3\\lib\\site-packages (from yfinance) (4.12.2)\n",
      "Collecting html5lib>=1.1 (from yfinance)\n",
      "  Obtaining dependency information for html5lib>=1.1 from https://files.pythonhosted.org/packages/6c/dd/a834df6482147d48e225a49515aabc28974ad5a4ca3215c18a882565b028/html5lib-1.1-py2.py3-none-any.whl.metadata\n",
      "  Downloading html5lib-1.1-py2.py3-none-any.whl.metadata (16 kB)\n",
      "Requirement already satisfied: soupsieve>1.2 in c:\\users\\7sang\\anaconda3\\lib\\site-packages (from beautifulsoup4>=4.11.1->yfinance) (2.4)\n",
      "Requirement already satisfied: six>=1.9 in c:\\users\\7sang\\anaconda3\\lib\\site-packages (from html5lib>=1.1->yfinance) (1.16.0)\n",
      "Requirement already satisfied: webencodings in c:\\users\\7sang\\anaconda3\\lib\\site-packages (from html5lib>=1.1->yfinance) (0.5.1)\n",
      "Requirement already satisfied: python-dateutil>=2.8.2 in c:\\users\\7sang\\anaconda3\\lib\\site-packages (from pandas>=1.3.0->yfinance) (2.8.2)\n",
      "Requirement already satisfied: tzdata>=2022.1 in c:\\users\\7sang\\anaconda3\\lib\\site-packages (from pandas>=1.3.0->yfinance) (2023.3)\n",
      "Requirement already satisfied: charset-normalizer<4,>=2 in c:\\users\\7sang\\anaconda3\\lib\\site-packages (from requests>=2.31->yfinance) (2.0.4)\n",
      "Requirement already satisfied: idna<4,>=2.5 in c:\\users\\7sang\\anaconda3\\lib\\site-packages (from requests>=2.31->yfinance) (3.4)\n",
      "Requirement already satisfied: urllib3<3,>=1.21.1 in c:\\users\\7sang\\anaconda3\\lib\\site-packages (from requests>=2.31->yfinance) (1.26.16)\n",
      "Requirement already satisfied: certifi>=2017.4.17 in c:\\users\\7sang\\anaconda3\\lib\\site-packages (from requests>=2.31->yfinance) (2024.2.2)\n",
      "Downloading yfinance-0.2.37-py2.py3-none-any.whl (72 kB)\n",
      "   ---------------------------------------- 0.0/73.0 kB ? eta -:--:--\n",
      "   ---------------------------------------- 73.0/73.0 kB 4.2 MB/s eta 0:00:00\n",
      "Downloading html5lib-1.1-py2.py3-none-any.whl (112 kB)\n",
      "   ---------------------------------------- 0.0/112.2 kB ? eta -:--:--\n",
      "   ---------------------------------------- 112.2/112.2 kB 6.4 MB/s eta 0:00:00\n",
      "Downloading multitasking-0.0.11-py3-none-any.whl (8.5 kB)\n",
      "Building wheels for collected packages: frozendict, peewee\n",
      "  Building wheel for frozendict (pyproject.toml): started\n",
      "  Building wheel for frozendict (pyproject.toml): finished with status 'done'\n",
      "  Created wheel for frozendict: filename=frozendict-2.4.0-py3-none-any.whl size=15471 sha256=8b22a909d9bb10c561f6306929d00a9e5b0c4d4976a029ba2edab310ab405cc0\n",
      "  Stored in directory: c:\\users\\7sang\\appdata\\local\\pip\\cache\\wheels\\31\\dd\\81\\a814e6f8cde8a1bbc1f088fdc273943371f10478b91a605e14\n",
      "  Building wheel for peewee (pyproject.toml): started\n",
      "  Building wheel for peewee (pyproject.toml): finished with status 'done'\n",
      "  Created wheel for peewee: filename=peewee-3.17.1-py3-none-any.whl size=136948 sha256=4ee941261330363a303b37b7728f562a9cd410159196532b9ec544f82aa2b820\n",
      "  Stored in directory: c:\\users\\7sang\\appdata\\local\\pip\\cache\\wheels\\33\\d2\\ca\\79b9807826bc7ef0b86a1ee28c372daaf073f9aa8756eedd7f\n",
      "Successfully built frozendict peewee\n",
      "Installing collected packages: peewee, multitasking, html5lib, frozendict, yfinance\n",
      "Successfully installed frozendict-2.4.0 html5lib-1.1 multitasking-0.0.11 peewee-3.17.1 yfinance-0.2.37\n"
     ]
    }
   ],
   "source": [
    "!pip install pandas_datareader\n",
    "!pip install yfinance"
   ]
  },
  {
   "cell_type": "code",
   "execution_count": 16,
   "metadata": {},
   "outputs": [],
   "source": [
    "import matplotlib.pyplot as plt\n",
    "plt.style.use(\"ggplot\")\n",
    "\n",
    "# 한글 및 특정 문자 깨짐 문제 해결\n",
    "# import koreanize_matplotlib # 시본의 한글 깨짐은 해결못하지만 - 깨짐 해결\n",
    "from matplotlib import font_manager, rc # 폰트 세팅을 위한 모듈 추가\n",
    "font_path = \"C:/Windows/Fonts/malgun.ttf\" # 사용할 폰트명 경로 삽입\n",
    "font = font_manager.FontProperties(fname = font_path).get_name()\n",
    "rc('font', family = font)"
   ]
  },
  {
   "cell_type": "code",
   "execution_count": 17,
   "metadata": {
    "ExecuteTime": {
     "end_time": "2023-11-21T13:15:45.769042Z",
     "start_time": "2023-11-21T13:15:45.540604Z"
    }
   },
   "outputs": [],
   "source": [
    "from pandas_datareader import data \n",
    "import yfinance as yfin\n",
    "yfin.pdr_override()"
   ]
  },
  {
   "cell_type": "code",
   "execution_count": null,
   "metadata": {
    "ExecuteTime": {
     "end_time": "2023-11-21T13:14:06.473122Z",
     "start_time": "2023-11-21T13:14:06.468078Z"
    }
   },
   "outputs": [],
   "source": [
    "data.get_data_yahoo?"
   ]
  },
  {
   "cell_type": "code",
   "execution_count": 18,
   "metadata": {
    "ExecuteTime": {
     "end_time": "2023-11-21T13:21:39.618786Z",
     "start_time": "2023-11-21T13:21:38.644291Z"
    },
    "scrolled": true
   },
   "outputs": [
    {
     "name": "stderr",
     "output_type": "stream",
     "text": [
      "[*********************100%%**********************]  1 of 1 completed\n"
     ]
    },
    {
     "data": {
      "text/html": [
       "<div>\n",
       "<style scoped>\n",
       "    .dataframe tbody tr th:only-of-type {\n",
       "        vertical-align: middle;\n",
       "    }\n",
       "\n",
       "    .dataframe tbody tr th {\n",
       "        vertical-align: top;\n",
       "    }\n",
       "\n",
       "    .dataframe thead th {\n",
       "        text-align: right;\n",
       "    }\n",
       "</style>\n",
       "<table border=\"1\" class=\"dataframe\">\n",
       "  <thead>\n",
       "    <tr style=\"text-align: right;\">\n",
       "      <th></th>\n",
       "      <th>Open</th>\n",
       "      <th>High</th>\n",
       "      <th>Low</th>\n",
       "      <th>Close</th>\n",
       "      <th>Adj Close</th>\n",
       "      <th>Volume</th>\n",
       "    </tr>\n",
       "    <tr>\n",
       "      <th>Date</th>\n",
       "      <th></th>\n",
       "      <th></th>\n",
       "      <th></th>\n",
       "      <th></th>\n",
       "      <th></th>\n",
       "      <th></th>\n",
       "    </tr>\n",
       "  </thead>\n",
       "  <tbody>\n",
       "    <tr>\n",
       "      <th>2000-01-04</th>\n",
       "      <td>6000.0</td>\n",
       "      <td>6110.0</td>\n",
       "      <td>5660.0</td>\n",
       "      <td>6110.0</td>\n",
       "      <td>4469.932617</td>\n",
       "      <td>74195000</td>\n",
       "    </tr>\n",
       "    <tr>\n",
       "      <th>2000-01-05</th>\n",
       "      <td>5800.0</td>\n",
       "      <td>6060.0</td>\n",
       "      <td>5520.0</td>\n",
       "      <td>5580.0</td>\n",
       "      <td>4082.196289</td>\n",
       "      <td>74680000</td>\n",
       "    </tr>\n",
       "    <tr>\n",
       "      <th>2000-01-06</th>\n",
       "      <td>5750.0</td>\n",
       "      <td>5780.0</td>\n",
       "      <td>5580.0</td>\n",
       "      <td>5620.0</td>\n",
       "      <td>4111.458984</td>\n",
       "      <td>54390000</td>\n",
       "    </tr>\n",
       "    <tr>\n",
       "      <th>2000-01-07</th>\n",
       "      <td>5560.0</td>\n",
       "      <td>5670.0</td>\n",
       "      <td>5360.0</td>\n",
       "      <td>5540.0</td>\n",
       "      <td>4052.933350</td>\n",
       "      <td>40305000</td>\n",
       "    </tr>\n",
       "    <tr>\n",
       "      <th>2000-01-10</th>\n",
       "      <td>5600.0</td>\n",
       "      <td>5770.0</td>\n",
       "      <td>5580.0</td>\n",
       "      <td>5770.0</td>\n",
       "      <td>4221.196289</td>\n",
       "      <td>46880000</td>\n",
       "    </tr>\n",
       "    <tr>\n",
       "      <th>...</th>\n",
       "      <td>...</td>\n",
       "      <td>...</td>\n",
       "      <td>...</td>\n",
       "      <td>...</td>\n",
       "      <td>...</td>\n",
       "      <td>...</td>\n",
       "    </tr>\n",
       "    <tr>\n",
       "      <th>2024-03-20</th>\n",
       "      <td>73700.0</td>\n",
       "      <td>77200.0</td>\n",
       "      <td>73400.0</td>\n",
       "      <td>76900.0</td>\n",
       "      <td>76900.000000</td>\n",
       "      <td>50106297</td>\n",
       "    </tr>\n",
       "    <tr>\n",
       "      <th>2024-03-21</th>\n",
       "      <td>79200.0</td>\n",
       "      <td>79300.0</td>\n",
       "      <td>77700.0</td>\n",
       "      <td>79300.0</td>\n",
       "      <td>79300.000000</td>\n",
       "      <td>44569799</td>\n",
       "    </tr>\n",
       "    <tr>\n",
       "      <th>2024-03-22</th>\n",
       "      <td>79600.0</td>\n",
       "      <td>79900.0</td>\n",
       "      <td>77800.0</td>\n",
       "      <td>78900.0</td>\n",
       "      <td>78900.000000</td>\n",
       "      <td>26724761</td>\n",
       "    </tr>\n",
       "    <tr>\n",
       "      <th>2024-03-25</th>\n",
       "      <td>79600.0</td>\n",
       "      <td>79800.0</td>\n",
       "      <td>77800.0</td>\n",
       "      <td>78200.0</td>\n",
       "      <td>78200.000000</td>\n",
       "      <td>18703996</td>\n",
       "    </tr>\n",
       "    <tr>\n",
       "      <th>2024-03-26</th>\n",
       "      <td>79700.0</td>\n",
       "      <td>80100.0</td>\n",
       "      <td>79200.0</td>\n",
       "      <td>79500.0</td>\n",
       "      <td>79500.000000</td>\n",
       "      <td>21831562</td>\n",
       "    </tr>\n",
       "  </tbody>\n",
       "</table>\n",
       "<p>6075 rows × 6 columns</p>\n",
       "</div>"
      ],
      "text/plain": [
       "               Open     High      Low    Close     Adj Close    Volume\n",
       "Date                                                                  \n",
       "2000-01-04   6000.0   6110.0   5660.0   6110.0   4469.932617  74195000\n",
       "2000-01-05   5800.0   6060.0   5520.0   5580.0   4082.196289  74680000\n",
       "2000-01-06   5750.0   5780.0   5580.0   5620.0   4111.458984  54390000\n",
       "2000-01-07   5560.0   5670.0   5360.0   5540.0   4052.933350  40305000\n",
       "2000-01-10   5600.0   5770.0   5580.0   5770.0   4221.196289  46880000\n",
       "...             ...      ...      ...      ...           ...       ...\n",
       "2024-03-20  73700.0  77200.0  73400.0  76900.0  76900.000000  50106297\n",
       "2024-03-21  79200.0  79300.0  77700.0  79300.0  79300.000000  44569799\n",
       "2024-03-22  79600.0  79900.0  77800.0  78900.0  78900.000000  26724761\n",
       "2024-03-25  79600.0  79800.0  77800.0  78200.0  78200.000000  18703996\n",
       "2024-03-26  79700.0  80100.0  79200.0  79500.0  79500.000000  21831562\n",
       "\n",
       "[6075 rows x 6 columns]"
      ]
     },
     "execution_count": 18,
     "metadata": {},
     "output_type": "execute_result"
    }
   ],
   "source": [
    "# 삼성전자 주가 읽어오기(종목코드, start, end)\n",
    "sdf = data.get_data_yahoo('005930.KS') # 삼성전자 KOSPI 지수, 끝을 생략하는 오늘까지 가져옴\n",
    "sdf"
   ]
  },
  {
   "cell_type": "code",
   "execution_count": 19,
   "metadata": {
    "ExecuteTime": {
     "end_time": "2023-11-21T13:22:09.441991Z",
     "start_time": "2023-11-21T13:22:09.437004Z"
    }
   },
   "outputs": [
    {
     "data": {
      "text/plain": [
       "DatetimeIndex(['2000-01-04', '2000-01-05', '2000-01-06', '2000-01-07',\n",
       "               '2000-01-10', '2000-01-11', '2000-01-12', '2000-01-13',\n",
       "               '2000-01-14', '2000-01-17',\n",
       "               ...\n",
       "               '2024-03-13', '2024-03-14', '2024-03-15', '2024-03-18',\n",
       "               '2024-03-19', '2024-03-20', '2024-03-21', '2024-03-22',\n",
       "               '2024-03-25', '2024-03-26'],\n",
       "              dtype='datetime64[ns]', name='Date', length=6075, freq=None)"
      ]
     },
     "execution_count": 19,
     "metadata": {},
     "output_type": "execute_result"
    }
   ],
   "source": [
    "sdf.index"
   ]
  },
  {
   "cell_type": "code",
   "execution_count": 20,
   "metadata": {},
   "outputs": [
    {
     "data": {
      "text/plain": [
       "<Axes: xlabel='Date'>"
      ]
     },
     "execution_count": 20,
     "metadata": {},
     "output_type": "execute_result"
    },
    {
     "data": {
      "image/png": "[encoded data removed]",
      "text/plain": [
       "<Figure size 640x480 with 1 Axes>"
      ]
     },
     "metadata": {},
     "output_type": "display_data"
    }
   ],
   "source": [
    "sdf['Close'].plot()"
   ]
  },
  {
   "cell_type": "code",
   "execution_count": 21,
   "metadata": {
    "ExecuteTime": {
     "end_time": "2023-11-21T13:21:45.894453Z",
     "start_time": "2023-11-21T13:21:45.725198Z"
    }
   },
   "outputs": [
    {
     "data": {
      "image/png": "[encoded data removed]",
      "text/plain": [
       "<Figure size 640x480 with 1 Axes>"
      ]
     },
     "metadata": {},
     "output_type": "display_data"
    }
   ],
   "source": [
    "plt.plot(sdf['Close'])\n",
    "plt.show()"
   ]
  },
  {
   "cell_type": "markdown",
   "metadata": {},
   "source": [
    "## 이동 평균(Move Average)\n",
    "- 기간별 추세 확인시 사용"
   ]
  },
  {
   "cell_type": "code",
   "execution_count": 22,
   "metadata": {
    "ExecuteTime": {
     "end_time": "2023-11-21T13:19:26.078365Z",
     "start_time": "2023-11-21T13:19:26.068495Z"
    }
   },
   "outputs": [
    {
     "data": {
      "text/html": [
       "<div>\n",
       "<style scoped>\n",
       "    .dataframe tbody tr th:only-of-type {\n",
       "        vertical-align: middle;\n",
       "    }\n",
       "\n",
       "    .dataframe tbody tr th {\n",
       "        vertical-align: top;\n",
       "    }\n",
       "\n",
       "    .dataframe thead th {\n",
       "        text-align: right;\n",
       "    }\n",
       "</style>\n",
       "<table border=\"1\" class=\"dataframe\">\n",
       "  <thead>\n",
       "    <tr style=\"text-align: right;\">\n",
       "      <th></th>\n",
       "      <th>A</th>\n",
       "      <th>B</th>\n",
       "    </tr>\n",
       "  </thead>\n",
       "  <tbody>\n",
       "    <tr>\n",
       "      <th>2023-01-01</th>\n",
       "      <td>1</td>\n",
       "      <td>2</td>\n",
       "    </tr>\n",
       "    <tr>\n",
       "      <th>2023-02-01</th>\n",
       "      <td>3</td>\n",
       "      <td>4</td>\n",
       "    </tr>\n",
       "    <tr>\n",
       "      <th>2023-03-01</th>\n",
       "      <td>5</td>\n",
       "      <td>8</td>\n",
       "    </tr>\n",
       "    <tr>\n",
       "      <th>2023-04-01</th>\n",
       "      <td>7</td>\n",
       "      <td>6</td>\n",
       "    </tr>\n",
       "    <tr>\n",
       "      <th>2023-05-01</th>\n",
       "      <td>9</td>\n",
       "      <td>12</td>\n",
       "    </tr>\n",
       "    <tr>\n",
       "      <th>2023-06-01</th>\n",
       "      <td>11</td>\n",
       "      <td>10</td>\n",
       "    </tr>\n",
       "    <tr>\n",
       "      <th>2023-07-01</th>\n",
       "      <td>13</td>\n",
       "      <td>16</td>\n",
       "    </tr>\n",
       "    <tr>\n",
       "      <th>2023-08-01</th>\n",
       "      <td>15</td>\n",
       "      <td>20</td>\n",
       "    </tr>\n",
       "  </tbody>\n",
       "</table>\n",
       "</div>"
      ],
      "text/plain": [
       "             A   B\n",
       "2023-01-01   1   2\n",
       "2023-02-01   3   4\n",
       "2023-03-01   5   8\n",
       "2023-04-01   7   6\n",
       "2023-05-01   9  12\n",
       "2023-06-01  11  10\n",
       "2023-07-01  13  16\n",
       "2023-08-01  15  20"
      ]
     },
     "execution_count": 22,
     "metadata": {},
     "output_type": "execute_result"
    }
   ],
   "source": [
    "data1 = [[1,2],[3,4],[5,8],[7,6],[9,12],[11,10],[13,16],[15,20]]\n",
    "df = pd.DataFrame( data1, columns=['A', 'B'] )\n",
    "\n",
    "df.index=['2023-01-01','2023-02-01','2023-03-01','2023-04-01',\n",
    "          '2023-05-01','2023-06-01','2023-07-01','2023-08-01']\n",
    "df"
   ]
  },
  {
   "cell_type": "code",
   "execution_count": 23,
   "metadata": {
    "ExecuteTime": {
     "end_time": "2023-11-21T13:19:43.941172Z",
     "start_time": "2023-11-21T13:19:43.932197Z"
    }
   },
   "outputs": [
    {
     "data": {
      "text/html": [
       "<div>\n",
       "<style scoped>\n",
       "    .dataframe tbody tr th:only-of-type {\n",
       "        vertical-align: middle;\n",
       "    }\n",
       "\n",
       "    .dataframe tbody tr th {\n",
       "        vertical-align: top;\n",
       "    }\n",
       "\n",
       "    .dataframe thead th {\n",
       "        text-align: right;\n",
       "    }\n",
       "</style>\n",
       "<table border=\"1\" class=\"dataframe\">\n",
       "  <thead>\n",
       "    <tr style=\"text-align: right;\">\n",
       "      <th></th>\n",
       "      <th>A</th>\n",
       "      <th>B</th>\n",
       "    </tr>\n",
       "  </thead>\n",
       "  <tbody>\n",
       "    <tr>\n",
       "      <th>2023-01-01</th>\n",
       "      <td>NaN</td>\n",
       "      <td>NaN</td>\n",
       "    </tr>\n",
       "    <tr>\n",
       "      <th>2023-02-01</th>\n",
       "      <td>2.0</td>\n",
       "      <td>3.0</td>\n",
       "    </tr>\n",
       "    <tr>\n",
       "      <th>2023-03-01</th>\n",
       "      <td>4.0</td>\n",
       "      <td>6.0</td>\n",
       "    </tr>\n",
       "    <tr>\n",
       "      <th>2023-04-01</th>\n",
       "      <td>6.0</td>\n",
       "      <td>7.0</td>\n",
       "    </tr>\n",
       "    <tr>\n",
       "      <th>2023-05-01</th>\n",
       "      <td>8.0</td>\n",
       "      <td>9.0</td>\n",
       "    </tr>\n",
       "    <tr>\n",
       "      <th>2023-06-01</th>\n",
       "      <td>10.0</td>\n",
       "      <td>11.0</td>\n",
       "    </tr>\n",
       "    <tr>\n",
       "      <th>2023-07-01</th>\n",
       "      <td>12.0</td>\n",
       "      <td>13.0</td>\n",
       "    </tr>\n",
       "    <tr>\n",
       "      <th>2023-08-01</th>\n",
       "      <td>14.0</td>\n",
       "      <td>18.0</td>\n",
       "    </tr>\n",
       "  </tbody>\n",
       "</table>\n",
       "</div>"
      ],
      "text/plain": [
       "               A     B\n",
       "2023-01-01   NaN   NaN\n",
       "2023-02-01   2.0   3.0\n",
       "2023-03-01   4.0   6.0\n",
       "2023-04-01   6.0   7.0\n",
       "2023-05-01   8.0   9.0\n",
       "2023-06-01  10.0  11.0\n",
       "2023-07-01  12.0  13.0\n",
       "2023-08-01  14.0  18.0"
      ]
     },
     "execution_count": 23,
     "metadata": {},
     "output_type": "execute_result"
    }
   ],
   "source": [
    "#rolling 객체의 멤버함수 mean, sum, max, min\n",
    "df.rolling(window=2).mean() \n",
    "# 1행값 nan, 2행값 = 2행 - 1행 ..."
   ]
  },
  {
   "cell_type": "code",
   "execution_count": 24,
   "metadata": {
    "ExecuteTime": {
     "end_time": "2023-11-21T13:20:06.701735Z",
     "start_time": "2023-11-21T13:20:06.692767Z"
    }
   },
   "outputs": [
    {
     "data": {
      "text/html": [
       "<div>\n",
       "<style scoped>\n",
       "    .dataframe tbody tr th:only-of-type {\n",
       "        vertical-align: middle;\n",
       "    }\n",
       "\n",
       "    .dataframe tbody tr th {\n",
       "        vertical-align: top;\n",
       "    }\n",
       "\n",
       "    .dataframe thead th {\n",
       "        text-align: right;\n",
       "    }\n",
       "</style>\n",
       "<table border=\"1\" class=\"dataframe\">\n",
       "  <thead>\n",
       "    <tr style=\"text-align: right;\">\n",
       "      <th></th>\n",
       "      <th>A</th>\n",
       "      <th>B</th>\n",
       "    </tr>\n",
       "  </thead>\n",
       "  <tbody>\n",
       "    <tr>\n",
       "      <th>2023-01-01</th>\n",
       "      <td>NaN</td>\n",
       "      <td>NaN</td>\n",
       "    </tr>\n",
       "    <tr>\n",
       "      <th>2023-02-01</th>\n",
       "      <td>NaN</td>\n",
       "      <td>NaN</td>\n",
       "    </tr>\n",
       "    <tr>\n",
       "      <th>2023-03-01</th>\n",
       "      <td>3.0</td>\n",
       "      <td>4.666667</td>\n",
       "    </tr>\n",
       "    <tr>\n",
       "      <th>2023-04-01</th>\n",
       "      <td>5.0</td>\n",
       "      <td>6.000000</td>\n",
       "    </tr>\n",
       "    <tr>\n",
       "      <th>2023-05-01</th>\n",
       "      <td>7.0</td>\n",
       "      <td>8.666667</td>\n",
       "    </tr>\n",
       "    <tr>\n",
       "      <th>2023-06-01</th>\n",
       "      <td>9.0</td>\n",
       "      <td>9.333333</td>\n",
       "    </tr>\n",
       "    <tr>\n",
       "      <th>2023-07-01</th>\n",
       "      <td>11.0</td>\n",
       "      <td>12.666667</td>\n",
       "    </tr>\n",
       "    <tr>\n",
       "      <th>2023-08-01</th>\n",
       "      <td>13.0</td>\n",
       "      <td>15.333333</td>\n",
       "    </tr>\n",
       "  </tbody>\n",
       "</table>\n",
       "</div>"
      ],
      "text/plain": [
       "               A          B\n",
       "2023-01-01   NaN        NaN\n",
       "2023-02-01   NaN        NaN\n",
       "2023-03-01   3.0   4.666667\n",
       "2023-04-01   5.0   6.000000\n",
       "2023-05-01   7.0   8.666667\n",
       "2023-06-01   9.0   9.333333\n",
       "2023-07-01  11.0  12.666667\n",
       "2023-08-01  13.0  15.333333"
      ]
     },
     "execution_count": 24,
     "metadata": {},
     "output_type": "execute_result"
    }
   ],
   "source": [
    "df.rolling(window=3).mean()"
   ]
  },
  {
   "cell_type": "code",
   "execution_count": 25,
   "metadata": {
    "ExecuteTime": {
     "end_time": "2023-11-21T13:20:30.795185Z",
     "start_time": "2023-11-21T13:20:30.635831Z"
    }
   },
   "outputs": [
    {
     "data": {
      "image/png": "[encoded data removed]",
      "text/plain": [
       "<Figure size 640x480 with 1 Axes>"
      ]
     },
     "metadata": {},
     "output_type": "display_data"
    }
   ],
   "source": [
    "plt.xticks(rotation=45)\n",
    "plt.plot(df.index, df['B'])\n",
    "plt.plot(df.index, df['B'].rolling(window=2).mean())\n",
    "plt.show()"
   ]
  },
  {
   "cell_type": "code",
   "execution_count": 95,
   "metadata": {
    "ExecuteTime": {
     "end_time": "2023-11-21T13:22:33.938536Z",
     "start_time": "2023-11-21T13:22:33.932046Z"
    }
   },
   "outputs": [
    {
     "data": {
      "text/plain": [
       "Date\n",
       "2000-01-04             NaN\n",
       "2000-01-05             NaN\n",
       "2000-01-06             NaN\n",
       "2000-01-07             NaN\n",
       "2000-01-10             NaN\n",
       "                  ...     \n",
       "2023-12-18    70120.000000\n",
       "2023-12-19    70128.333333\n",
       "2023-12-20    70146.666667\n",
       "2023-12-21    70165.833333\n",
       "2023-12-22    70195.000000\n",
       "Name: Close, Length: 6014, dtype: float64"
      ]
     },
     "execution_count": 95,
     "metadata": {},
     "output_type": "execute_result"
    }
   ],
   "source": [
    "sdf['Close'].rolling(window=120).mean()"
   ]
  },
  {
   "cell_type": "code",
   "execution_count": 96,
   "metadata": {
    "ExecuteTime": {
     "end_time": "2023-11-21T13:22:36.593244Z",
     "start_time": "2023-11-21T13:22:36.363837Z"
    }
   },
   "outputs": [
    {
     "data": {
      "text/plain": [
       "[<matplotlib.lines.Line2D at 0x1a2b0b55fd0>]"
      ]
     },
     "execution_count": 96,
     "metadata": {},
     "output_type": "execute_result"
    },
    {
     "data": {
      "image/png": "[encoded data removed]",
      "text/plain": [
       "<Figure size 640x480 with 1 Axes>"
      ]
     },
     "metadata": {},
     "output_type": "display_data"
    }
   ],
   "source": [
    "plt.xticks(rotation=45)\n",
    "plt.plot(sdf.index, sdf['Close'])\n",
    "plt.plot(sdf.index, sdf['Close'].rolling(window=120).mean(), 'b--')"
   ]
  },
  {
   "cell_type": "markdown",
   "metadata": {},
   "source": [
    "## 시계열데이터 인덱싱 슬라이싱\n",
    "- 인덱스가 datetime형일 경우, 인덱스로 슬라이싱이 가능하다(object는 불가)"
   ]
  },
  {
   "cell_type": "code",
   "execution_count": 26,
   "metadata": {
    "ExecuteTime": {
     "end_time": "2023-11-21T13:22:50.553199Z",
     "start_time": "2023-11-21T13:22:50.547701Z"
    }
   },
   "outputs": [
    {
     "data": {
      "text/plain": [
       "DatetimeIndex(['2000-01-04', '2000-01-05', '2000-01-06', '2000-01-07',\n",
       "               '2000-01-10', '2000-01-11', '2000-01-12', '2000-01-13',\n",
       "               '2000-01-14', '2000-01-17',\n",
       "               ...\n",
       "               '2024-03-13', '2024-03-14', '2024-03-15', '2024-03-18',\n",
       "               '2024-03-19', '2024-03-20', '2024-03-21', '2024-03-22',\n",
       "               '2024-03-25', '2024-03-26'],\n",
       "              dtype='datetime64[ns]', name='Date', length=6075, freq=None)"
      ]
     },
     "execution_count": 26,
     "metadata": {},
     "output_type": "execute_result"
    }
   ],
   "source": [
    "sdf.index"
   ]
  },
  {
   "cell_type": "code",
   "execution_count": 27,
   "metadata": {
    "ExecuteTime": {
     "end_time": "2023-11-21T13:35:53.503664Z",
     "start_time": "2023-11-21T13:35:53.483695Z"
    }
   },
   "outputs": [
    {
     "data": {
      "text/html": [
       "<div>\n",
       "<style scoped>\n",
       "    .dataframe tbody tr th:only-of-type {\n",
       "        vertical-align: middle;\n",
       "    }\n",
       "\n",
       "    .dataframe tbody tr th {\n",
       "        vertical-align: top;\n",
       "    }\n",
       "\n",
       "    .dataframe thead th {\n",
       "        text-align: right;\n",
       "    }\n",
       "</style>\n",
       "<table border=\"1\" class=\"dataframe\">\n",
       "  <thead>\n",
       "    <tr style=\"text-align: right;\">\n",
       "      <th></th>\n",
       "      <th>Open</th>\n",
       "      <th>High</th>\n",
       "      <th>Low</th>\n",
       "      <th>Close</th>\n",
       "      <th>Adj Close</th>\n",
       "      <th>Volume</th>\n",
       "    </tr>\n",
       "    <tr>\n",
       "      <th>Date</th>\n",
       "      <th></th>\n",
       "      <th></th>\n",
       "      <th></th>\n",
       "      <th></th>\n",
       "      <th></th>\n",
       "      <th></th>\n",
       "    </tr>\n",
       "  </thead>\n",
       "  <tbody>\n",
       "    <tr>\n",
       "      <th>2023-01-02</th>\n",
       "      <td>55500.0</td>\n",
       "      <td>56100.0</td>\n",
       "      <td>55200.0</td>\n",
       "      <td>55500.0</td>\n",
       "      <td>54363.421875</td>\n",
       "      <td>10031448</td>\n",
       "    </tr>\n",
       "    <tr>\n",
       "      <th>2023-01-03</th>\n",
       "      <td>55400.0</td>\n",
       "      <td>56000.0</td>\n",
       "      <td>54500.0</td>\n",
       "      <td>55400.0</td>\n",
       "      <td>54265.472656</td>\n",
       "      <td>13547030</td>\n",
       "    </tr>\n",
       "    <tr>\n",
       "      <th>2023-01-04</th>\n",
       "      <td>55700.0</td>\n",
       "      <td>58000.0</td>\n",
       "      <td>55600.0</td>\n",
       "      <td>57800.0</td>\n",
       "      <td>56616.316406</td>\n",
       "      <td>20188071</td>\n",
       "    </tr>\n",
       "    <tr>\n",
       "      <th>2023-01-05</th>\n",
       "      <td>58200.0</td>\n",
       "      <td>58800.0</td>\n",
       "      <td>57600.0</td>\n",
       "      <td>58200.0</td>\n",
       "      <td>57008.128906</td>\n",
       "      <td>15682826</td>\n",
       "    </tr>\n",
       "    <tr>\n",
       "      <th>2023-01-06</th>\n",
       "      <td>58300.0</td>\n",
       "      <td>59400.0</td>\n",
       "      <td>57900.0</td>\n",
       "      <td>59000.0</td>\n",
       "      <td>57791.746094</td>\n",
       "      <td>17334989</td>\n",
       "    </tr>\n",
       "    <tr>\n",
       "      <th>...</th>\n",
       "      <td>...</td>\n",
       "      <td>...</td>\n",
       "      <td>...</td>\n",
       "      <td>...</td>\n",
       "      <td>...</td>\n",
       "      <td>...</td>\n",
       "    </tr>\n",
       "    <tr>\n",
       "      <th>2023-12-21</th>\n",
       "      <td>74600.0</td>\n",
       "      <td>75000.0</td>\n",
       "      <td>74300.0</td>\n",
       "      <td>75000.0</td>\n",
       "      <td>74646.539062</td>\n",
       "      <td>13478766</td>\n",
       "    </tr>\n",
       "    <tr>\n",
       "      <th>2023-12-22</th>\n",
       "      <td>75800.0</td>\n",
       "      <td>76300.0</td>\n",
       "      <td>75400.0</td>\n",
       "      <td>75900.0</td>\n",
       "      <td>75542.296875</td>\n",
       "      <td>14515608</td>\n",
       "    </tr>\n",
       "    <tr>\n",
       "      <th>2023-12-26</th>\n",
       "      <td>76100.0</td>\n",
       "      <td>76700.0</td>\n",
       "      <td>75700.0</td>\n",
       "      <td>76600.0</td>\n",
       "      <td>76239.000000</td>\n",
       "      <td>13164909</td>\n",
       "    </tr>\n",
       "    <tr>\n",
       "      <th>2023-12-27</th>\n",
       "      <td>76700.0</td>\n",
       "      <td>78000.0</td>\n",
       "      <td>76500.0</td>\n",
       "      <td>78000.0</td>\n",
       "      <td>78000.000000</td>\n",
       "      <td>20651042</td>\n",
       "    </tr>\n",
       "    <tr>\n",
       "      <th>2023-12-28</th>\n",
       "      <td>77700.0</td>\n",
       "      <td>78500.0</td>\n",
       "      <td>77500.0</td>\n",
       "      <td>78500.0</td>\n",
       "      <td>78500.000000</td>\n",
       "      <td>17797536</td>\n",
       "    </tr>\n",
       "  </tbody>\n",
       "</table>\n",
       "<p>245 rows × 6 columns</p>\n",
       "</div>"
      ],
      "text/plain": [
       "               Open     High      Low    Close     Adj Close    Volume\n",
       "Date                                                                  \n",
       "2023-01-02  55500.0  56100.0  55200.0  55500.0  54363.421875  10031448\n",
       "2023-01-03  55400.0  56000.0  54500.0  55400.0  54265.472656  13547030\n",
       "2023-01-04  55700.0  58000.0  55600.0  57800.0  56616.316406  20188071\n",
       "2023-01-05  58200.0  58800.0  57600.0  58200.0  57008.128906  15682826\n",
       "2023-01-06  58300.0  59400.0  57900.0  59000.0  57791.746094  17334989\n",
       "...             ...      ...      ...      ...           ...       ...\n",
       "2023-12-21  74600.0  75000.0  74300.0  75000.0  74646.539062  13478766\n",
       "2023-12-22  75800.0  76300.0  75400.0  75900.0  75542.296875  14515608\n",
       "2023-12-26  76100.0  76700.0  75700.0  76600.0  76239.000000  13164909\n",
       "2023-12-27  76700.0  78000.0  76500.0  78000.0  78000.000000  20651042\n",
       "2023-12-28  77700.0  78500.0  77500.0  78500.0  78500.000000  17797536\n",
       "\n",
       "[245 rows x 6 columns]"
      ]
     },
     "execution_count": 27,
     "metadata": {},
     "output_type": "execute_result"
    }
   ],
   "source": [
    "# 2023년 조회하기 # sdf['2023'] 에러남, 칼럼 조회와 헷갈리니 가능하면 loc을 쓰자\n",
    "sdf.loc['2023']"
   ]
  },
  {
   "cell_type": "code",
   "execution_count": 28,
   "metadata": {
    "ExecuteTime": {
     "end_time": "2023-11-21T13:39:26.850907Z",
     "start_time": "2023-11-21T13:39:26.835429Z"
    },
    "scrolled": true
   },
   "outputs": [
    {
     "data": {
      "text/html": [
       "<div>\n",
       "<style scoped>\n",
       "    .dataframe tbody tr th:only-of-type {\n",
       "        vertical-align: middle;\n",
       "    }\n",
       "\n",
       "    .dataframe tbody tr th {\n",
       "        vertical-align: top;\n",
       "    }\n",
       "\n",
       "    .dataframe thead th {\n",
       "        text-align: right;\n",
       "    }\n",
       "</style>\n",
       "<table border=\"1\" class=\"dataframe\">\n",
       "  <thead>\n",
       "    <tr style=\"text-align: right;\">\n",
       "      <th></th>\n",
       "      <th>Open</th>\n",
       "      <th>High</th>\n",
       "      <th>Low</th>\n",
       "      <th>Close</th>\n",
       "      <th>Adj Close</th>\n",
       "      <th>Volume</th>\n",
       "    </tr>\n",
       "    <tr>\n",
       "      <th>Date</th>\n",
       "      <th></th>\n",
       "      <th></th>\n",
       "      <th></th>\n",
       "      <th></th>\n",
       "      <th></th>\n",
       "      <th></th>\n",
       "    </tr>\n",
       "  </thead>\n",
       "  <tbody>\n",
       "    <tr>\n",
       "      <th>2023-11-01</th>\n",
       "      <td>67500.0</td>\n",
       "      <td>68900.0</td>\n",
       "      <td>67300.0</td>\n",
       "      <td>68600.0</td>\n",
       "      <td>68276.703125</td>\n",
       "      <td>13775256</td>\n",
       "    </tr>\n",
       "    <tr>\n",
       "      <th>2023-11-02</th>\n",
       "      <td>70000.0</td>\n",
       "      <td>70000.0</td>\n",
       "      <td>69400.0</td>\n",
       "      <td>69700.0</td>\n",
       "      <td>69371.515625</td>\n",
       "      <td>16350031</td>\n",
       "    </tr>\n",
       "    <tr>\n",
       "      <th>2023-11-03</th>\n",
       "      <td>69700.0</td>\n",
       "      <td>70200.0</td>\n",
       "      <td>69500.0</td>\n",
       "      <td>69600.0</td>\n",
       "      <td>69271.984375</td>\n",
       "      <td>10322234</td>\n",
       "    </tr>\n",
       "    <tr>\n",
       "      <th>2023-11-06</th>\n",
       "      <td>69800.0</td>\n",
       "      <td>70900.0</td>\n",
       "      <td>69300.0</td>\n",
       "      <td>70900.0</td>\n",
       "      <td>70565.859375</td>\n",
       "      <td>22228489</td>\n",
       "    </tr>\n",
       "    <tr>\n",
       "      <th>2023-11-07</th>\n",
       "      <td>70600.0</td>\n",
       "      <td>70900.0</td>\n",
       "      <td>70000.0</td>\n",
       "      <td>70900.0</td>\n",
       "      <td>70565.859375</td>\n",
       "      <td>17228731</td>\n",
       "    </tr>\n",
       "    <tr>\n",
       "      <th>2023-11-08</th>\n",
       "      <td>71300.0</td>\n",
       "      <td>71400.0</td>\n",
       "      <td>69700.0</td>\n",
       "      <td>69900.0</td>\n",
       "      <td>69570.570312</td>\n",
       "      <td>12901310</td>\n",
       "    </tr>\n",
       "    <tr>\n",
       "      <th>2023-11-09</th>\n",
       "      <td>69900.0</td>\n",
       "      <td>70800.0</td>\n",
       "      <td>69600.0</td>\n",
       "      <td>70300.0</td>\n",
       "      <td>69968.687500</td>\n",
       "      <td>12301373</td>\n",
       "    </tr>\n",
       "    <tr>\n",
       "      <th>2023-11-10</th>\n",
       "      <td>70000.0</td>\n",
       "      <td>70500.0</td>\n",
       "      <td>69500.0</td>\n",
       "      <td>70500.0</td>\n",
       "      <td>70167.750000</td>\n",
       "      <td>9684347</td>\n",
       "    </tr>\n",
       "    <tr>\n",
       "      <th>2023-11-13</th>\n",
       "      <td>71300.0</td>\n",
       "      <td>71300.0</td>\n",
       "      <td>70300.0</td>\n",
       "      <td>70400.0</td>\n",
       "      <td>70068.218750</td>\n",
       "      <td>9246919</td>\n",
       "    </tr>\n",
       "    <tr>\n",
       "      <th>2023-11-14</th>\n",
       "      <td>71000.0</td>\n",
       "      <td>71100.0</td>\n",
       "      <td>70600.0</td>\n",
       "      <td>70800.0</td>\n",
       "      <td>70466.335938</td>\n",
       "      <td>9567984</td>\n",
       "    </tr>\n",
       "    <tr>\n",
       "      <th>2023-11-15</th>\n",
       "      <td>71600.0</td>\n",
       "      <td>72200.0</td>\n",
       "      <td>71500.0</td>\n",
       "      <td>72200.0</td>\n",
       "      <td>71859.734375</td>\n",
       "      <td>20148677</td>\n",
       "    </tr>\n",
       "    <tr>\n",
       "      <th>2023-11-16</th>\n",
       "      <td>72500.0</td>\n",
       "      <td>73000.0</td>\n",
       "      <td>72300.0</td>\n",
       "      <td>72800.0</td>\n",
       "      <td>72456.906250</td>\n",
       "      <td>15860451</td>\n",
       "    </tr>\n",
       "    <tr>\n",
       "      <th>2023-11-17</th>\n",
       "      <td>72300.0</td>\n",
       "      <td>73000.0</td>\n",
       "      <td>72300.0</td>\n",
       "      <td>72500.0</td>\n",
       "      <td>72158.320312</td>\n",
       "      <td>11494644</td>\n",
       "    </tr>\n",
       "    <tr>\n",
       "      <th>2023-11-20</th>\n",
       "      <td>72100.0</td>\n",
       "      <td>73000.0</td>\n",
       "      <td>72100.0</td>\n",
       "      <td>72700.0</td>\n",
       "      <td>72357.375000</td>\n",
       "      <td>10610157</td>\n",
       "    </tr>\n",
       "    <tr>\n",
       "      <th>2023-11-21</th>\n",
       "      <td>73100.0</td>\n",
       "      <td>73400.0</td>\n",
       "      <td>72700.0</td>\n",
       "      <td>72800.0</td>\n",
       "      <td>72456.906250</td>\n",
       "      <td>9712881</td>\n",
       "    </tr>\n",
       "    <tr>\n",
       "      <th>2023-11-22</th>\n",
       "      <td>72200.0</td>\n",
       "      <td>73000.0</td>\n",
       "      <td>71900.0</td>\n",
       "      <td>72800.0</td>\n",
       "      <td>72456.906250</td>\n",
       "      <td>11105143</td>\n",
       "    </tr>\n",
       "    <tr>\n",
       "      <th>2023-11-23</th>\n",
       "      <td>73000.0</td>\n",
       "      <td>73200.0</td>\n",
       "      <td>72200.0</td>\n",
       "      <td>72400.0</td>\n",
       "      <td>72058.789062</td>\n",
       "      <td>6775614</td>\n",
       "    </tr>\n",
       "    <tr>\n",
       "      <th>2023-11-24</th>\n",
       "      <td>72400.0</td>\n",
       "      <td>72600.0</td>\n",
       "      <td>71700.0</td>\n",
       "      <td>71700.0</td>\n",
       "      <td>71362.093750</td>\n",
       "      <td>6676685</td>\n",
       "    </tr>\n",
       "    <tr>\n",
       "      <th>2023-11-27</th>\n",
       "      <td>71500.0</td>\n",
       "      <td>72100.0</td>\n",
       "      <td>71100.0</td>\n",
       "      <td>71300.0</td>\n",
       "      <td>70963.976562</td>\n",
       "      <td>9113857</td>\n",
       "    </tr>\n",
       "    <tr>\n",
       "      <th>2023-11-28</th>\n",
       "      <td>71400.0</td>\n",
       "      <td>72700.0</td>\n",
       "      <td>71300.0</td>\n",
       "      <td>72700.0</td>\n",
       "      <td>72357.375000</td>\n",
       "      <td>13283081</td>\n",
       "    </tr>\n",
       "    <tr>\n",
       "      <th>2023-11-29</th>\n",
       "      <td>72400.0</td>\n",
       "      <td>72800.0</td>\n",
       "      <td>72200.0</td>\n",
       "      <td>72700.0</td>\n",
       "      <td>72357.375000</td>\n",
       "      <td>9283933</td>\n",
       "    </tr>\n",
       "    <tr>\n",
       "      <th>2023-11-30</th>\n",
       "      <td>72700.0</td>\n",
       "      <td>72800.0</td>\n",
       "      <td>72200.0</td>\n",
       "      <td>72800.0</td>\n",
       "      <td>72456.906250</td>\n",
       "      <td>15783714</td>\n",
       "    </tr>\n",
       "  </tbody>\n",
       "</table>\n",
       "</div>"
      ],
      "text/plain": [
       "               Open     High      Low    Close     Adj Close    Volume\n",
       "Date                                                                  \n",
       "2023-11-01  67500.0  68900.0  67300.0  68600.0  68276.703125  13775256\n",
       "2023-11-02  70000.0  70000.0  69400.0  69700.0  69371.515625  16350031\n",
       "2023-11-03  69700.0  70200.0  69500.0  69600.0  69271.984375  10322234\n",
       "2023-11-06  69800.0  70900.0  69300.0  70900.0  70565.859375  22228489\n",
       "2023-11-07  70600.0  70900.0  70000.0  70900.0  70565.859375  17228731\n",
       "2023-11-08  71300.0  71400.0  69700.0  69900.0  69570.570312  12901310\n",
       "2023-11-09  69900.0  70800.0  69600.0  70300.0  69968.687500  12301373\n",
       "2023-11-10  70000.0  70500.0  69500.0  70500.0  70167.750000   9684347\n",
       "2023-11-13  71300.0  71300.0  70300.0  70400.0  70068.218750   9246919\n",
       "2023-11-14  71000.0  71100.0  70600.0  70800.0  70466.335938   9567984\n",
       "2023-11-15  71600.0  72200.0  71500.0  72200.0  71859.734375  20148677\n",
       "2023-11-16  72500.0  73000.0  72300.0  72800.0  72456.906250  15860451\n",
       "2023-11-17  72300.0  73000.0  72300.0  72500.0  72158.320312  11494644\n",
       "2023-11-20  72100.0  73000.0  72100.0  72700.0  72357.375000  10610157\n",
       "2023-11-21  73100.0  73400.0  72700.0  72800.0  72456.906250   9712881\n",
       "2023-11-22  72200.0  73000.0  71900.0  72800.0  72456.906250  11105143\n",
       "2023-11-23  73000.0  73200.0  72200.0  72400.0  72058.789062   6775614\n",
       "2023-11-24  72400.0  72600.0  71700.0  71700.0  71362.093750   6676685\n",
       "2023-11-27  71500.0  72100.0  71100.0  71300.0  70963.976562   9113857\n",
       "2023-11-28  71400.0  72700.0  71300.0  72700.0  72357.375000  13283081\n",
       "2023-11-29  72400.0  72800.0  72200.0  72700.0  72357.375000   9283933\n",
       "2023-11-30  72700.0  72800.0  72200.0  72800.0  72456.906250  15783714"
      ]
     },
     "execution_count": 28,
     "metadata": {},
     "output_type": "execute_result"
    }
   ],
   "source": [
    "sdf.loc['2023-11']"
   ]
  },
  {
   "cell_type": "code",
   "execution_count": 29,
   "metadata": {
    "ExecuteTime": {
     "end_time": "2023-11-21T13:39:38.298340Z",
     "start_time": "2023-11-21T13:39:38.283134Z"
    }
   },
   "outputs": [
    {
     "data": {
      "text/html": [
       "<div>\n",
       "<style scoped>\n",
       "    .dataframe tbody tr th:only-of-type {\n",
       "        vertical-align: middle;\n",
       "    }\n",
       "\n",
       "    .dataframe tbody tr th {\n",
       "        vertical-align: top;\n",
       "    }\n",
       "\n",
       "    .dataframe thead th {\n",
       "        text-align: right;\n",
       "    }\n",
       "</style>\n",
       "<table border=\"1\" class=\"dataframe\">\n",
       "  <thead>\n",
       "    <tr style=\"text-align: right;\">\n",
       "      <th></th>\n",
       "      <th>Open</th>\n",
       "      <th>High</th>\n",
       "      <th>Low</th>\n",
       "      <th>Close</th>\n",
       "      <th>Adj Close</th>\n",
       "      <th>Volume</th>\n",
       "    </tr>\n",
       "    <tr>\n",
       "      <th>Date</th>\n",
       "      <th></th>\n",
       "      <th></th>\n",
       "      <th></th>\n",
       "      <th></th>\n",
       "      <th></th>\n",
       "      <th></th>\n",
       "    </tr>\n",
       "  </thead>\n",
       "  <tbody>\n",
       "    <tr>\n",
       "      <th>2022-01-04</th>\n",
       "      <td>78800.0</td>\n",
       "      <td>79200.0</td>\n",
       "      <td>78300.0</td>\n",
       "      <td>78700.0</td>\n",
       "      <td>75235.234375</td>\n",
       "      <td>12427416</td>\n",
       "    </tr>\n",
       "    <tr>\n",
       "      <th>2022-01-05</th>\n",
       "      <td>78800.0</td>\n",
       "      <td>79000.0</td>\n",
       "      <td>76400.0</td>\n",
       "      <td>77400.0</td>\n",
       "      <td>73992.445312</td>\n",
       "      <td>25470640</td>\n",
       "    </tr>\n",
       "    <tr>\n",
       "      <th>2022-01-06</th>\n",
       "      <td>76700.0</td>\n",
       "      <td>77600.0</td>\n",
       "      <td>76600.0</td>\n",
       "      <td>76900.0</td>\n",
       "      <td>73514.476562</td>\n",
       "      <td>12931954</td>\n",
       "    </tr>\n",
       "    <tr>\n",
       "      <th>2022-01-07</th>\n",
       "      <td>78100.0</td>\n",
       "      <td>78400.0</td>\n",
       "      <td>77400.0</td>\n",
       "      <td>78300.0</td>\n",
       "      <td>74852.843750</td>\n",
       "      <td>15163757</td>\n",
       "    </tr>\n",
       "    <tr>\n",
       "      <th>2022-01-10</th>\n",
       "      <td>78100.0</td>\n",
       "      <td>78100.0</td>\n",
       "      <td>77100.0</td>\n",
       "      <td>78000.0</td>\n",
       "      <td>74566.039062</td>\n",
       "      <td>9947422</td>\n",
       "    </tr>\n",
       "    <tr>\n",
       "      <th>...</th>\n",
       "      <td>...</td>\n",
       "      <td>...</td>\n",
       "      <td>...</td>\n",
       "      <td>...</td>\n",
       "      <td>...</td>\n",
       "      <td>...</td>\n",
       "    </tr>\n",
       "    <tr>\n",
       "      <th>2023-12-21</th>\n",
       "      <td>74600.0</td>\n",
       "      <td>75000.0</td>\n",
       "      <td>74300.0</td>\n",
       "      <td>75000.0</td>\n",
       "      <td>74646.539062</td>\n",
       "      <td>13478766</td>\n",
       "    </tr>\n",
       "    <tr>\n",
       "      <th>2023-12-22</th>\n",
       "      <td>75800.0</td>\n",
       "      <td>76300.0</td>\n",
       "      <td>75400.0</td>\n",
       "      <td>75900.0</td>\n",
       "      <td>75542.296875</td>\n",
       "      <td>14515608</td>\n",
       "    </tr>\n",
       "    <tr>\n",
       "      <th>2023-12-26</th>\n",
       "      <td>76100.0</td>\n",
       "      <td>76700.0</td>\n",
       "      <td>75700.0</td>\n",
       "      <td>76600.0</td>\n",
       "      <td>76239.000000</td>\n",
       "      <td>13164909</td>\n",
       "    </tr>\n",
       "    <tr>\n",
       "      <th>2023-12-27</th>\n",
       "      <td>76700.0</td>\n",
       "      <td>78000.0</td>\n",
       "      <td>76500.0</td>\n",
       "      <td>78000.0</td>\n",
       "      <td>78000.000000</td>\n",
       "      <td>20651042</td>\n",
       "    </tr>\n",
       "    <tr>\n",
       "      <th>2023-12-28</th>\n",
       "      <td>77700.0</td>\n",
       "      <td>78500.0</td>\n",
       "      <td>77500.0</td>\n",
       "      <td>78500.0</td>\n",
       "      <td>78500.000000</td>\n",
       "      <td>17797536</td>\n",
       "    </tr>\n",
       "  </tbody>\n",
       "</table>\n",
       "<p>489 rows × 6 columns</p>\n",
       "</div>"
      ],
      "text/plain": [
       "               Open     High      Low    Close     Adj Close    Volume\n",
       "Date                                                                  \n",
       "2022-01-04  78800.0  79200.0  78300.0  78700.0  75235.234375  12427416\n",
       "2022-01-05  78800.0  79000.0  76400.0  77400.0  73992.445312  25470640\n",
       "2022-01-06  76700.0  77600.0  76600.0  76900.0  73514.476562  12931954\n",
       "2022-01-07  78100.0  78400.0  77400.0  78300.0  74852.843750  15163757\n",
       "2022-01-10  78100.0  78100.0  77100.0  78000.0  74566.039062   9947422\n",
       "...             ...      ...      ...      ...           ...       ...\n",
       "2023-12-21  74600.0  75000.0  74300.0  75000.0  74646.539062  13478766\n",
       "2023-12-22  75800.0  76300.0  75400.0  75900.0  75542.296875  14515608\n",
       "2023-12-26  76100.0  76700.0  75700.0  76600.0  76239.000000  13164909\n",
       "2023-12-27  76700.0  78000.0  76500.0  78000.0  78000.000000  20651042\n",
       "2023-12-28  77700.0  78500.0  77500.0  78500.0  78500.000000  17797536\n",
       "\n",
       "[489 rows x 6 columns]"
      ]
     },
     "execution_count": 29,
     "metadata": {},
     "output_type": "execute_result"
    }
   ],
   "source": [
    "sdf.loc['2022':'2023']"
   ]
  },
  {
   "cell_type": "code",
   "execution_count": 30,
   "metadata": {
    "ExecuteTime": {
     "end_time": "2023-11-21T13:40:25.145371Z",
     "start_time": "2023-11-21T13:40:25.130426Z"
    }
   },
   "outputs": [
    {
     "data": {
      "text/html": [
       "<div>\n",
       "<style scoped>\n",
       "    .dataframe tbody tr th:only-of-type {\n",
       "        vertical-align: middle;\n",
       "    }\n",
       "\n",
       "    .dataframe tbody tr th {\n",
       "        vertical-align: top;\n",
       "    }\n",
       "\n",
       "    .dataframe thead th {\n",
       "        text-align: right;\n",
       "    }\n",
       "</style>\n",
       "<table border=\"1\" class=\"dataframe\">\n",
       "  <thead>\n",
       "    <tr style=\"text-align: right;\">\n",
       "      <th></th>\n",
       "      <th>Open</th>\n",
       "      <th>High</th>\n",
       "      <th>Low</th>\n",
       "      <th>Close</th>\n",
       "      <th>Adj Close</th>\n",
       "      <th>Volume</th>\n",
       "    </tr>\n",
       "    <tr>\n",
       "      <th>Date</th>\n",
       "      <th></th>\n",
       "      <th></th>\n",
       "      <th></th>\n",
       "      <th></th>\n",
       "      <th></th>\n",
       "      <th></th>\n",
       "    </tr>\n",
       "  </thead>\n",
       "  <tbody>\n",
       "    <tr>\n",
       "      <th>2020-12-01</th>\n",
       "      <td>67100.0</td>\n",
       "      <td>68300.0</td>\n",
       "      <td>67100.0</td>\n",
       "      <td>67800.0</td>\n",
       "      <td>62089.910156</td>\n",
       "      <td>22327173</td>\n",
       "    </tr>\n",
       "    <tr>\n",
       "      <th>2020-12-02</th>\n",
       "      <td>68400.0</td>\n",
       "      <td>69900.0</td>\n",
       "      <td>68300.0</td>\n",
       "      <td>69500.0</td>\n",
       "      <td>63646.738281</td>\n",
       "      <td>29703942</td>\n",
       "    </tr>\n",
       "    <tr>\n",
       "      <th>2020-12-03</th>\n",
       "      <td>70100.0</td>\n",
       "      <td>70500.0</td>\n",
       "      <td>69300.0</td>\n",
       "      <td>69700.0</td>\n",
       "      <td>63829.894531</td>\n",
       "      <td>23677989</td>\n",
       "    </tr>\n",
       "    <tr>\n",
       "      <th>2020-12-04</th>\n",
       "      <td>70400.0</td>\n",
       "      <td>72100.0</td>\n",
       "      <td>70100.0</td>\n",
       "      <td>71500.0</td>\n",
       "      <td>65478.289062</td>\n",
       "      <td>28130533</td>\n",
       "    </tr>\n",
       "    <tr>\n",
       "      <th>2020-12-07</th>\n",
       "      <td>72400.0</td>\n",
       "      <td>73500.0</td>\n",
       "      <td>71900.0</td>\n",
       "      <td>72900.0</td>\n",
       "      <td>66760.390625</td>\n",
       "      <td>28490496</td>\n",
       "    </tr>\n",
       "    <tr>\n",
       "      <th>...</th>\n",
       "      <td>...</td>\n",
       "      <td>...</td>\n",
       "      <td>...</td>\n",
       "      <td>...</td>\n",
       "      <td>...</td>\n",
       "      <td>...</td>\n",
       "    </tr>\n",
       "    <tr>\n",
       "      <th>2022-12-23</th>\n",
       "      <td>58200.0</td>\n",
       "      <td>58400.0</td>\n",
       "      <td>57700.0</td>\n",
       "      <td>58100.0</td>\n",
       "      <td>56556.570312</td>\n",
       "      <td>9829407</td>\n",
       "    </tr>\n",
       "    <tr>\n",
       "      <th>2022-12-26</th>\n",
       "      <td>58000.0</td>\n",
       "      <td>58100.0</td>\n",
       "      <td>57700.0</td>\n",
       "      <td>57900.0</td>\n",
       "      <td>56361.882812</td>\n",
       "      <td>6756411</td>\n",
       "    </tr>\n",
       "    <tr>\n",
       "      <th>2022-12-27</th>\n",
       "      <td>58000.0</td>\n",
       "      <td>58400.0</td>\n",
       "      <td>57900.0</td>\n",
       "      <td>58100.0</td>\n",
       "      <td>56556.570312</td>\n",
       "      <td>10667027</td>\n",
       "    </tr>\n",
       "    <tr>\n",
       "      <th>2022-12-28</th>\n",
       "      <td>57600.0</td>\n",
       "      <td>57600.0</td>\n",
       "      <td>56400.0</td>\n",
       "      <td>56600.0</td>\n",
       "      <td>55440.894531</td>\n",
       "      <td>14665410</td>\n",
       "    </tr>\n",
       "    <tr>\n",
       "      <th>2022-12-29</th>\n",
       "      <td>56000.0</td>\n",
       "      <td>56200.0</td>\n",
       "      <td>55300.0</td>\n",
       "      <td>55300.0</td>\n",
       "      <td>54167.519531</td>\n",
       "      <td>11295935</td>\n",
       "    </tr>\n",
       "  </tbody>\n",
       "</table>\n",
       "<p>513 rows × 6 columns</p>\n",
       "</div>"
      ],
      "text/plain": [
       "               Open     High      Low    Close     Adj Close    Volume\n",
       "Date                                                                  \n",
       "2020-12-01  67100.0  68300.0  67100.0  67800.0  62089.910156  22327173\n",
       "2020-12-02  68400.0  69900.0  68300.0  69500.0  63646.738281  29703942\n",
       "2020-12-03  70100.0  70500.0  69300.0  69700.0  63829.894531  23677989\n",
       "2020-12-04  70400.0  72100.0  70100.0  71500.0  65478.289062  28130533\n",
       "2020-12-07  72400.0  73500.0  71900.0  72900.0  66760.390625  28490496\n",
       "...             ...      ...      ...      ...           ...       ...\n",
       "2022-12-23  58200.0  58400.0  57700.0  58100.0  56556.570312   9829407\n",
       "2022-12-26  58000.0  58100.0  57700.0  57900.0  56361.882812   6756411\n",
       "2022-12-27  58000.0  58400.0  57900.0  58100.0  56556.570312  10667027\n",
       "2022-12-28  57600.0  57600.0  56400.0  56600.0  55440.894531  14665410\n",
       "2022-12-29  56000.0  56200.0  55300.0  55300.0  54167.519531  11295935\n",
       "\n",
       "[513 rows x 6 columns]"
      ]
     },
     "execution_count": 30,
     "metadata": {},
     "output_type": "execute_result"
    }
   ],
   "source": [
    "sdf.loc['2020-12-01':'2022-12-31']"
   ]
  },
  {
   "cell_type": "code",
   "execution_count": 31,
   "metadata": {
    "ExecuteTime": {
     "end_time": "2023-11-21T13:40:37.098050Z",
     "start_time": "2023-11-21T13:40:37.082958Z"
    }
   },
   "outputs": [
    {
     "data": {
      "text/html": [
       "<div>\n",
       "<style scoped>\n",
       "    .dataframe tbody tr th:only-of-type {\n",
       "        vertical-align: middle;\n",
       "    }\n",
       "\n",
       "    .dataframe tbody tr th {\n",
       "        vertical-align: top;\n",
       "    }\n",
       "\n",
       "    .dataframe thead th {\n",
       "        text-align: right;\n",
       "    }\n",
       "</style>\n",
       "<table border=\"1\" class=\"dataframe\">\n",
       "  <thead>\n",
       "    <tr style=\"text-align: right;\">\n",
       "      <th></th>\n",
       "      <th>Open</th>\n",
       "      <th>High</th>\n",
       "      <th>Low</th>\n",
       "      <th>Close</th>\n",
       "      <th>Adj Close</th>\n",
       "      <th>Volume</th>\n",
       "      <th>year</th>\n",
       "    </tr>\n",
       "    <tr>\n",
       "      <th>Date</th>\n",
       "      <th></th>\n",
       "      <th></th>\n",
       "      <th></th>\n",
       "      <th></th>\n",
       "      <th></th>\n",
       "      <th></th>\n",
       "      <th></th>\n",
       "    </tr>\n",
       "  </thead>\n",
       "  <tbody>\n",
       "    <tr>\n",
       "      <th>2000-01-04</th>\n",
       "      <td>6000.0</td>\n",
       "      <td>6110.0</td>\n",
       "      <td>5660.0</td>\n",
       "      <td>6110.0</td>\n",
       "      <td>4469.932617</td>\n",
       "      <td>74195000</td>\n",
       "      <td>2000</td>\n",
       "    </tr>\n",
       "    <tr>\n",
       "      <th>2000-01-05</th>\n",
       "      <td>5800.0</td>\n",
       "      <td>6060.0</td>\n",
       "      <td>5520.0</td>\n",
       "      <td>5580.0</td>\n",
       "      <td>4082.196289</td>\n",
       "      <td>74680000</td>\n",
       "      <td>2000</td>\n",
       "    </tr>\n",
       "    <tr>\n",
       "      <th>2000-01-06</th>\n",
       "      <td>5750.0</td>\n",
       "      <td>5780.0</td>\n",
       "      <td>5580.0</td>\n",
       "      <td>5620.0</td>\n",
       "      <td>4111.458984</td>\n",
       "      <td>54390000</td>\n",
       "      <td>2000</td>\n",
       "    </tr>\n",
       "    <tr>\n",
       "      <th>2000-01-07</th>\n",
       "      <td>5560.0</td>\n",
       "      <td>5670.0</td>\n",
       "      <td>5360.0</td>\n",
       "      <td>5540.0</td>\n",
       "      <td>4052.933350</td>\n",
       "      <td>40305000</td>\n",
       "      <td>2000</td>\n",
       "    </tr>\n",
       "    <tr>\n",
       "      <th>2000-01-10</th>\n",
       "      <td>5600.0</td>\n",
       "      <td>5770.0</td>\n",
       "      <td>5580.0</td>\n",
       "      <td>5770.0</td>\n",
       "      <td>4221.196289</td>\n",
       "      <td>46880000</td>\n",
       "      <td>2000</td>\n",
       "    </tr>\n",
       "    <tr>\n",
       "      <th>...</th>\n",
       "      <td>...</td>\n",
       "      <td>...</td>\n",
       "      <td>...</td>\n",
       "      <td>...</td>\n",
       "      <td>...</td>\n",
       "      <td>...</td>\n",
       "      <td>...</td>\n",
       "    </tr>\n",
       "    <tr>\n",
       "      <th>2024-03-20</th>\n",
       "      <td>73700.0</td>\n",
       "      <td>77200.0</td>\n",
       "      <td>73400.0</td>\n",
       "      <td>76900.0</td>\n",
       "      <td>76900.000000</td>\n",
       "      <td>50106297</td>\n",
       "      <td>2024</td>\n",
       "    </tr>\n",
       "    <tr>\n",
       "      <th>2024-03-21</th>\n",
       "      <td>79200.0</td>\n",
       "      <td>79300.0</td>\n",
       "      <td>77700.0</td>\n",
       "      <td>79300.0</td>\n",
       "      <td>79300.000000</td>\n",
       "      <td>44569799</td>\n",
       "      <td>2024</td>\n",
       "    </tr>\n",
       "    <tr>\n",
       "      <th>2024-03-22</th>\n",
       "      <td>79600.0</td>\n",
       "      <td>79900.0</td>\n",
       "      <td>77800.0</td>\n",
       "      <td>78900.0</td>\n",
       "      <td>78900.000000</td>\n",
       "      <td>26724761</td>\n",
       "      <td>2024</td>\n",
       "    </tr>\n",
       "    <tr>\n",
       "      <th>2024-03-25</th>\n",
       "      <td>79600.0</td>\n",
       "      <td>79800.0</td>\n",
       "      <td>77800.0</td>\n",
       "      <td>78200.0</td>\n",
       "      <td>78200.000000</td>\n",
       "      <td>18703996</td>\n",
       "      <td>2024</td>\n",
       "    </tr>\n",
       "    <tr>\n",
       "      <th>2024-03-26</th>\n",
       "      <td>79700.0</td>\n",
       "      <td>80100.0</td>\n",
       "      <td>79200.0</td>\n",
       "      <td>79500.0</td>\n",
       "      <td>79500.000000</td>\n",
       "      <td>21831562</td>\n",
       "      <td>2024</td>\n",
       "    </tr>\n",
       "  </tbody>\n",
       "</table>\n",
       "<p>6075 rows × 7 columns</p>\n",
       "</div>"
      ],
      "text/plain": [
       "               Open     High      Low    Close     Adj Close    Volume  year\n",
       "Date                                                                        \n",
       "2000-01-04   6000.0   6110.0   5660.0   6110.0   4469.932617  74195000  2000\n",
       "2000-01-05   5800.0   6060.0   5520.0   5580.0   4082.196289  74680000  2000\n",
       "2000-01-06   5750.0   5780.0   5580.0   5620.0   4111.458984  54390000  2000\n",
       "2000-01-07   5560.0   5670.0   5360.0   5540.0   4052.933350  40305000  2000\n",
       "2000-01-10   5600.0   5770.0   5580.0   5770.0   4221.196289  46880000  2000\n",
       "...             ...      ...      ...      ...           ...       ...   ...\n",
       "2024-03-20  73700.0  77200.0  73400.0  76900.0  76900.000000  50106297  2024\n",
       "2024-03-21  79200.0  79300.0  77700.0  79300.0  79300.000000  44569799  2024\n",
       "2024-03-22  79600.0  79900.0  77800.0  78900.0  78900.000000  26724761  2024\n",
       "2024-03-25  79600.0  79800.0  77800.0  78200.0  78200.000000  18703996  2024\n",
       "2024-03-26  79700.0  80100.0  79200.0  79500.0  79500.000000  21831562  2024\n",
       "\n",
       "[6075 rows x 7 columns]"
      ]
     },
     "execution_count": 31,
     "metadata": {},
     "output_type": "execute_result"
    }
   ],
   "source": [
    "sdf['year'] = sdf.index.year\n",
    "sdf"
   ]
  },
  {
   "cell_type": "markdown",
   "metadata": {},
   "source": [
    "## 시계열 데이터의 통계(집계)\n"
   ]
  },
  {
   "cell_type": "code",
   "execution_count": 32,
   "metadata": {
    "ExecuteTime": {
     "end_time": "2023-11-21T13:42:34.321547Z",
     "start_time": "2023-11-21T13:42:34.298418Z"
    },
    "scrolled": true
   },
   "outputs": [
    {
     "data": {
      "text/html": [
       "<div>\n",
       "<style scoped>\n",
       "    .dataframe tbody tr th:only-of-type {\n",
       "        vertical-align: middle;\n",
       "    }\n",
       "\n",
       "    .dataframe tbody tr th {\n",
       "        vertical-align: top;\n",
       "    }\n",
       "\n",
       "    .dataframe thead th {\n",
       "        text-align: right;\n",
       "    }\n",
       "</style>\n",
       "<table border=\"1\" class=\"dataframe\">\n",
       "  <thead>\n",
       "    <tr style=\"text-align: right;\">\n",
       "      <th></th>\n",
       "      <th>Open</th>\n",
       "      <th>High</th>\n",
       "      <th>Low</th>\n",
       "      <th>Close</th>\n",
       "      <th>Adj Close</th>\n",
       "      <th>Volume</th>\n",
       "    </tr>\n",
       "    <tr>\n",
       "      <th>year</th>\n",
       "      <th></th>\n",
       "      <th></th>\n",
       "      <th></th>\n",
       "      <th></th>\n",
       "      <th></th>\n",
       "      <th></th>\n",
       "    </tr>\n",
       "  </thead>\n",
       "  <tbody>\n",
       "    <tr>\n",
       "      <th>2000</th>\n",
       "      <td>5370.0</td>\n",
       "      <td>5494.0</td>\n",
       "      <td>5248.0</td>\n",
       "      <td>5362.0</td>\n",
       "      <td>3922.0</td>\n",
       "      <td>50783205.0</td>\n",
       "    </tr>\n",
       "    <tr>\n",
       "      <th>2001</th>\n",
       "      <td>3989.0</td>\n",
       "      <td>4062.0</td>\n",
       "      <td>3928.0</td>\n",
       "      <td>3999.0</td>\n",
       "      <td>2925.0</td>\n",
       "      <td>33614195.0</td>\n",
       "    </tr>\n",
       "    <tr>\n",
       "      <th>2002</th>\n",
       "      <td>6850.0</td>\n",
       "      <td>6955.0</td>\n",
       "      <td>6752.0</td>\n",
       "      <td>6857.0</td>\n",
       "      <td>5016.0</td>\n",
       "      <td>39264176.0</td>\n",
       "    </tr>\n",
       "    <tr>\n",
       "      <th>2003</th>\n",
       "      <td>7461.0</td>\n",
       "      <td>7554.0</td>\n",
       "      <td>7372.0</td>\n",
       "      <td>7468.0</td>\n",
       "      <td>5464.0</td>\n",
       "      <td>29283123.0</td>\n",
       "    </tr>\n",
       "    <tr>\n",
       "      <th>2004</th>\n",
       "      <td>9675.0</td>\n",
       "      <td>9787.0</td>\n",
       "      <td>9557.0</td>\n",
       "      <td>9675.0</td>\n",
       "      <td>7078.0</td>\n",
       "      <td>27187061.0</td>\n",
       "    </tr>\n",
       "    <tr>\n",
       "      <th>2005</th>\n",
       "      <td>10723.0</td>\n",
       "      <td>10825.0</td>\n",
       "      <td>10632.0</td>\n",
       "      <td>10733.0</td>\n",
       "      <td>7852.0</td>\n",
       "      <td>20577988.0</td>\n",
       "    </tr>\n",
       "    <tr>\n",
       "      <th>2006</th>\n",
       "      <td>12768.0</td>\n",
       "      <td>12893.0</td>\n",
       "      <td>12638.0</td>\n",
       "      <td>12762.0</td>\n",
       "      <td>9341.0</td>\n",
       "      <td>19283371.0</td>\n",
       "    </tr>\n",
       "    <tr>\n",
       "      <th>2007</th>\n",
       "      <td>11556.0</td>\n",
       "      <td>11681.0</td>\n",
       "      <td>11418.0</td>\n",
       "      <td>11546.0</td>\n",
       "      <td>8529.0</td>\n",
       "      <td>27934642.0</td>\n",
       "    </tr>\n",
       "    <tr>\n",
       "      <th>2008</th>\n",
       "      <td>11486.0</td>\n",
       "      <td>11670.0</td>\n",
       "      <td>11315.0</td>\n",
       "      <td>11494.0</td>\n",
       "      <td>8610.0</td>\n",
       "      <td>27783142.0</td>\n",
       "    </tr>\n",
       "    <tr>\n",
       "      <th>2009</th>\n",
       "      <td>12835.0</td>\n",
       "      <td>13003.0</td>\n",
       "      <td>12665.0</td>\n",
       "      <td>12840.0</td>\n",
       "      <td>9733.0</td>\n",
       "      <td>24055224.0</td>\n",
       "    </tr>\n",
       "    <tr>\n",
       "      <th>2010</th>\n",
       "      <td>16081.0</td>\n",
       "      <td>16223.0</td>\n",
       "      <td>15914.0</td>\n",
       "      <td>16071.0</td>\n",
       "      <td>12343.0</td>\n",
       "      <td>17372052.0</td>\n",
       "    </tr>\n",
       "    <tr>\n",
       "      <th>2011</th>\n",
       "      <td>17932.0</td>\n",
       "      <td>18148.0</td>\n",
       "      <td>17705.0</td>\n",
       "      <td>17926.0</td>\n",
       "      <td>13888.0</td>\n",
       "      <td>19757473.0</td>\n",
       "    </tr>\n",
       "    <tr>\n",
       "      <th>2012</th>\n",
       "      <td>25183.0</td>\n",
       "      <td>25454.0</td>\n",
       "      <td>24928.0</td>\n",
       "      <td>25215.0</td>\n",
       "      <td>19636.0</td>\n",
       "      <td>16173437.0</td>\n",
       "    </tr>\n",
       "    <tr>\n",
       "      <th>2013</th>\n",
       "      <td>28617.0</td>\n",
       "      <td>28848.0</td>\n",
       "      <td>28320.0</td>\n",
       "      <td>28579.0</td>\n",
       "      <td>22379.0</td>\n",
       "      <td>12883379.0</td>\n",
       "    </tr>\n",
       "    <tr>\n",
       "      <th>2014</th>\n",
       "      <td>25873.0</td>\n",
       "      <td>26082.0</td>\n",
       "      <td>25613.0</td>\n",
       "      <td>25836.0</td>\n",
       "      <td>20441.0</td>\n",
       "      <td>12487455.0</td>\n",
       "    </tr>\n",
       "    <tr>\n",
       "      <th>2015</th>\n",
       "      <td>25986.0</td>\n",
       "      <td>26246.0</td>\n",
       "      <td>25711.0</td>\n",
       "      <td>25971.0</td>\n",
       "      <td>20860.0</td>\n",
       "      <td>11929520.0</td>\n",
       "    </tr>\n",
       "    <tr>\n",
       "      <th>2016</th>\n",
       "      <td>28734.0</td>\n",
       "      <td>29054.0</td>\n",
       "      <td>28489.0</td>\n",
       "      <td>28800.0</td>\n",
       "      <td>23524.0</td>\n",
       "      <td>12082143.0</td>\n",
       "    </tr>\n",
       "    <tr>\n",
       "      <th>2017</th>\n",
       "      <td>46363.0</td>\n",
       "      <td>46790.0</td>\n",
       "      <td>45965.0</td>\n",
       "      <td>46377.0</td>\n",
       "      <td>38671.0</td>\n",
       "      <td>11449286.0</td>\n",
       "    </tr>\n",
       "    <tr>\n",
       "      <th>2018</th>\n",
       "      <td>46868.0</td>\n",
       "      <td>47351.0</td>\n",
       "      <td>46342.0</td>\n",
       "      <td>46830.0</td>\n",
       "      <td>39989.0</td>\n",
       "      <td>12553307.0</td>\n",
       "    </tr>\n",
       "    <tr>\n",
       "      <th>2019</th>\n",
       "      <td>46563.0</td>\n",
       "      <td>46989.0</td>\n",
       "      <td>46122.0</td>\n",
       "      <td>46583.0</td>\n",
       "      <td>41115.0</td>\n",
       "      <td>10896526.0</td>\n",
       "    </tr>\n",
       "    <tr>\n",
       "      <th>2020</th>\n",
       "      <td>57145.0</td>\n",
       "      <td>57828.0</td>\n",
       "      <td>56499.0</td>\n",
       "      <td>57168.0</td>\n",
       "      <td>51894.0</td>\n",
       "      <td>21747329.0</td>\n",
       "    </tr>\n",
       "    <tr>\n",
       "      <th>2021</th>\n",
       "      <td>79258.0</td>\n",
       "      <td>79912.0</td>\n",
       "      <td>78568.0</td>\n",
       "      <td>79156.0</td>\n",
       "      <td>74813.0</td>\n",
       "      <td>18784212.0</td>\n",
       "    </tr>\n",
       "    <tr>\n",
       "      <th>2022</th>\n",
       "      <td>63925.0</td>\n",
       "      <td>64401.0</td>\n",
       "      <td>63414.0</td>\n",
       "      <td>63867.0</td>\n",
       "      <td>61573.0</td>\n",
       "      <td>13895826.0</td>\n",
       "    </tr>\n",
       "    <tr>\n",
       "      <th>2023</th>\n",
       "      <td>67506.0</td>\n",
       "      <td>67982.0</td>\n",
       "      <td>66937.0</td>\n",
       "      <td>67456.0</td>\n",
       "      <td>66643.0</td>\n",
       "      <td>12221286.0</td>\n",
       "    </tr>\n",
       "    <tr>\n",
       "      <th>2024</th>\n",
       "      <td>74441.0</td>\n",
       "      <td>75017.0</td>\n",
       "      <td>73703.0</td>\n",
       "      <td>74310.0</td>\n",
       "      <td>74310.0</td>\n",
       "      <td>18212859.0</td>\n",
       "    </tr>\n",
       "  </tbody>\n",
       "</table>\n",
       "</div>"
      ],
      "text/plain": [
       "         Open     High      Low    Close  Adj Close      Volume\n",
       "year                                                           \n",
       "2000   5370.0   5494.0   5248.0   5362.0     3922.0  50783205.0\n",
       "2001   3989.0   4062.0   3928.0   3999.0     2925.0  33614195.0\n",
       "2002   6850.0   6955.0   6752.0   6857.0     5016.0  39264176.0\n",
       "2003   7461.0   7554.0   7372.0   7468.0     5464.0  29283123.0\n",
       "2004   9675.0   9787.0   9557.0   9675.0     7078.0  27187061.0\n",
       "2005  10723.0  10825.0  10632.0  10733.0     7852.0  20577988.0\n",
       "2006  12768.0  12893.0  12638.0  12762.0     9341.0  19283371.0\n",
       "2007  11556.0  11681.0  11418.0  11546.0     8529.0  27934642.0\n",
       "2008  11486.0  11670.0  11315.0  11494.0     8610.0  27783142.0\n",
       "2009  12835.0  13003.0  12665.0  12840.0     9733.0  24055224.0\n",
       "2010  16081.0  16223.0  15914.0  16071.0    12343.0  17372052.0\n",
       "2011  17932.0  18148.0  17705.0  17926.0    13888.0  19757473.0\n",
       "2012  25183.0  25454.0  24928.0  25215.0    19636.0  16173437.0\n",
       "2013  28617.0  28848.0  28320.0  28579.0    22379.0  12883379.0\n",
       "2014  25873.0  26082.0  25613.0  25836.0    20441.0  12487455.0\n",
       "2015  25986.0  26246.0  25711.0  25971.0    20860.0  11929520.0\n",
       "2016  28734.0  29054.0  28489.0  28800.0    23524.0  12082143.0\n",
       "2017  46363.0  46790.0  45965.0  46377.0    38671.0  11449286.0\n",
       "2018  46868.0  47351.0  46342.0  46830.0    39989.0  12553307.0\n",
       "2019  46563.0  46989.0  46122.0  46583.0    41115.0  10896526.0\n",
       "2020  57145.0  57828.0  56499.0  57168.0    51894.0  21747329.0\n",
       "2021  79258.0  79912.0  78568.0  79156.0    74813.0  18784212.0\n",
       "2022  63925.0  64401.0  63414.0  63867.0    61573.0  13895826.0\n",
       "2023  67506.0  67982.0  66937.0  67456.0    66643.0  12221286.0\n",
       "2024  74441.0  75017.0  73703.0  74310.0    74310.0  18212859.0"
      ]
     },
     "execution_count": 32,
     "metadata": {},
     "output_type": "execute_result"
    }
   ],
   "source": [
    "# 년도별 평균(수치데이터 칼럼 전체 적용 ), 년도 칼럼 활용\n",
    "round(sdf.groupby('year').mean()) # groupby객체 멤버함수 sum mean max min agg"
   ]
  },
  {
   "cell_type": "code",
   "execution_count": 34,
   "metadata": {
    "ExecuteTime": {
     "end_time": "2023-11-21T13:42:43.323131Z",
     "start_time": "2023-11-21T13:42:43.300432Z"
    },
    "scrolled": true
   },
   "outputs": [
    {
     "data": {
      "text/html": [
       "<div>\n",
       "<style scoped>\n",
       "    .dataframe tbody tr th:only-of-type {\n",
       "        vertical-align: middle;\n",
       "    }\n",
       "\n",
       "    .dataframe tbody tr th {\n",
       "        vertical-align: top;\n",
       "    }\n",
       "\n",
       "    .dataframe thead th {\n",
       "        text-align: right;\n",
       "    }\n",
       "</style>\n",
       "<table border=\"1\" class=\"dataframe\">\n",
       "  <thead>\n",
       "    <tr style=\"text-align: right;\">\n",
       "      <th></th>\n",
       "      <th>Open</th>\n",
       "      <th>High</th>\n",
       "      <th>Low</th>\n",
       "      <th>Close</th>\n",
       "      <th>Adj Close</th>\n",
       "      <th>Volume</th>\n",
       "      <th>year</th>\n",
       "    </tr>\n",
       "    <tr>\n",
       "      <th>Date</th>\n",
       "      <th></th>\n",
       "      <th></th>\n",
       "      <th></th>\n",
       "      <th></th>\n",
       "      <th></th>\n",
       "      <th></th>\n",
       "      <th></th>\n",
       "    </tr>\n",
       "  </thead>\n",
       "  <tbody>\n",
       "    <tr>\n",
       "      <th>2000</th>\n",
       "      <td>5370.0</td>\n",
       "      <td>5494.0</td>\n",
       "      <td>5248.0</td>\n",
       "      <td>5362.0</td>\n",
       "      <td>3922.0</td>\n",
       "      <td>50783205.0</td>\n",
       "      <td>2000.0</td>\n",
       "    </tr>\n",
       "    <tr>\n",
       "      <th>2001</th>\n",
       "      <td>3989.0</td>\n",
       "      <td>4062.0</td>\n",
       "      <td>3928.0</td>\n",
       "      <td>3999.0</td>\n",
       "      <td>2925.0</td>\n",
       "      <td>33614195.0</td>\n",
       "      <td>2001.0</td>\n",
       "    </tr>\n",
       "    <tr>\n",
       "      <th>2002</th>\n",
       "      <td>6850.0</td>\n",
       "      <td>6955.0</td>\n",
       "      <td>6752.0</td>\n",
       "      <td>6857.0</td>\n",
       "      <td>5016.0</td>\n",
       "      <td>39264176.0</td>\n",
       "      <td>2002.0</td>\n",
       "    </tr>\n",
       "    <tr>\n",
       "      <th>2003</th>\n",
       "      <td>7461.0</td>\n",
       "      <td>7554.0</td>\n",
       "      <td>7372.0</td>\n",
       "      <td>7468.0</td>\n",
       "      <td>5464.0</td>\n",
       "      <td>29283123.0</td>\n",
       "      <td>2003.0</td>\n",
       "    </tr>\n",
       "    <tr>\n",
       "      <th>2004</th>\n",
       "      <td>9675.0</td>\n",
       "      <td>9787.0</td>\n",
       "      <td>9557.0</td>\n",
       "      <td>9675.0</td>\n",
       "      <td>7078.0</td>\n",
       "      <td>27187061.0</td>\n",
       "      <td>2004.0</td>\n",
       "    </tr>\n",
       "    <tr>\n",
       "      <th>2005</th>\n",
       "      <td>10723.0</td>\n",
       "      <td>10825.0</td>\n",
       "      <td>10632.0</td>\n",
       "      <td>10733.0</td>\n",
       "      <td>7852.0</td>\n",
       "      <td>20577988.0</td>\n",
       "      <td>2005.0</td>\n",
       "    </tr>\n",
       "    <tr>\n",
       "      <th>2006</th>\n",
       "      <td>12768.0</td>\n",
       "      <td>12893.0</td>\n",
       "      <td>12638.0</td>\n",
       "      <td>12762.0</td>\n",
       "      <td>9341.0</td>\n",
       "      <td>19283371.0</td>\n",
       "      <td>2006.0</td>\n",
       "    </tr>\n",
       "    <tr>\n",
       "      <th>2007</th>\n",
       "      <td>11556.0</td>\n",
       "      <td>11681.0</td>\n",
       "      <td>11418.0</td>\n",
       "      <td>11546.0</td>\n",
       "      <td>8529.0</td>\n",
       "      <td>27934642.0</td>\n",
       "      <td>2007.0</td>\n",
       "    </tr>\n",
       "    <tr>\n",
       "      <th>2008</th>\n",
       "      <td>11486.0</td>\n",
       "      <td>11670.0</td>\n",
       "      <td>11315.0</td>\n",
       "      <td>11494.0</td>\n",
       "      <td>8610.0</td>\n",
       "      <td>27783142.0</td>\n",
       "      <td>2008.0</td>\n",
       "    </tr>\n",
       "    <tr>\n",
       "      <th>2009</th>\n",
       "      <td>12835.0</td>\n",
       "      <td>13003.0</td>\n",
       "      <td>12665.0</td>\n",
       "      <td>12840.0</td>\n",
       "      <td>9733.0</td>\n",
       "      <td>24055224.0</td>\n",
       "      <td>2009.0</td>\n",
       "    </tr>\n",
       "    <tr>\n",
       "      <th>2010</th>\n",
       "      <td>16081.0</td>\n",
       "      <td>16223.0</td>\n",
       "      <td>15914.0</td>\n",
       "      <td>16071.0</td>\n",
       "      <td>12343.0</td>\n",
       "      <td>17372052.0</td>\n",
       "      <td>2010.0</td>\n",
       "    </tr>\n",
       "    <tr>\n",
       "      <th>2011</th>\n",
       "      <td>17932.0</td>\n",
       "      <td>18148.0</td>\n",
       "      <td>17705.0</td>\n",
       "      <td>17926.0</td>\n",
       "      <td>13888.0</td>\n",
       "      <td>19757473.0</td>\n",
       "      <td>2011.0</td>\n",
       "    </tr>\n",
       "    <tr>\n",
       "      <th>2012</th>\n",
       "      <td>25183.0</td>\n",
       "      <td>25454.0</td>\n",
       "      <td>24928.0</td>\n",
       "      <td>25215.0</td>\n",
       "      <td>19636.0</td>\n",
       "      <td>16173437.0</td>\n",
       "      <td>2012.0</td>\n",
       "    </tr>\n",
       "    <tr>\n",
       "      <th>2013</th>\n",
       "      <td>28617.0</td>\n",
       "      <td>28848.0</td>\n",
       "      <td>28320.0</td>\n",
       "      <td>28579.0</td>\n",
       "      <td>22379.0</td>\n",
       "      <td>12883379.0</td>\n",
       "      <td>2013.0</td>\n",
       "    </tr>\n",
       "    <tr>\n",
       "      <th>2014</th>\n",
       "      <td>25873.0</td>\n",
       "      <td>26082.0</td>\n",
       "      <td>25613.0</td>\n",
       "      <td>25836.0</td>\n",
       "      <td>20441.0</td>\n",
       "      <td>12487455.0</td>\n",
       "      <td>2014.0</td>\n",
       "    </tr>\n",
       "    <tr>\n",
       "      <th>2015</th>\n",
       "      <td>25986.0</td>\n",
       "      <td>26246.0</td>\n",
       "      <td>25711.0</td>\n",
       "      <td>25971.0</td>\n",
       "      <td>20860.0</td>\n",
       "      <td>11929520.0</td>\n",
       "      <td>2015.0</td>\n",
       "    </tr>\n",
       "    <tr>\n",
       "      <th>2016</th>\n",
       "      <td>28734.0</td>\n",
       "      <td>29054.0</td>\n",
       "      <td>28489.0</td>\n",
       "      <td>28800.0</td>\n",
       "      <td>23524.0</td>\n",
       "      <td>12082143.0</td>\n",
       "      <td>2016.0</td>\n",
       "    </tr>\n",
       "    <tr>\n",
       "      <th>2017</th>\n",
       "      <td>46363.0</td>\n",
       "      <td>46790.0</td>\n",
       "      <td>45965.0</td>\n",
       "      <td>46377.0</td>\n",
       "      <td>38671.0</td>\n",
       "      <td>11449286.0</td>\n",
       "      <td>2017.0</td>\n",
       "    </tr>\n",
       "    <tr>\n",
       "      <th>2018</th>\n",
       "      <td>46868.0</td>\n",
       "      <td>47351.0</td>\n",
       "      <td>46342.0</td>\n",
       "      <td>46830.0</td>\n",
       "      <td>39989.0</td>\n",
       "      <td>12553307.0</td>\n",
       "      <td>2018.0</td>\n",
       "    </tr>\n",
       "    <tr>\n",
       "      <th>2019</th>\n",
       "      <td>46563.0</td>\n",
       "      <td>46989.0</td>\n",
       "      <td>46122.0</td>\n",
       "      <td>46583.0</td>\n",
       "      <td>41115.0</td>\n",
       "      <td>10896526.0</td>\n",
       "      <td>2019.0</td>\n",
       "    </tr>\n",
       "    <tr>\n",
       "      <th>2020</th>\n",
       "      <td>57145.0</td>\n",
       "      <td>57828.0</td>\n",
       "      <td>56499.0</td>\n",
       "      <td>57168.0</td>\n",
       "      <td>51894.0</td>\n",
       "      <td>21747329.0</td>\n",
       "      <td>2020.0</td>\n",
       "    </tr>\n",
       "    <tr>\n",
       "      <th>2021</th>\n",
       "      <td>79258.0</td>\n",
       "      <td>79912.0</td>\n",
       "      <td>78568.0</td>\n",
       "      <td>79156.0</td>\n",
       "      <td>74813.0</td>\n",
       "      <td>18784212.0</td>\n",
       "      <td>2021.0</td>\n",
       "    </tr>\n",
       "    <tr>\n",
       "      <th>2022</th>\n",
       "      <td>63925.0</td>\n",
       "      <td>64401.0</td>\n",
       "      <td>63414.0</td>\n",
       "      <td>63867.0</td>\n",
       "      <td>61573.0</td>\n",
       "      <td>13895826.0</td>\n",
       "      <td>2022.0</td>\n",
       "    </tr>\n",
       "    <tr>\n",
       "      <th>2023</th>\n",
       "      <td>67506.0</td>\n",
       "      <td>67982.0</td>\n",
       "      <td>66937.0</td>\n",
       "      <td>67456.0</td>\n",
       "      <td>66643.0</td>\n",
       "      <td>12221286.0</td>\n",
       "      <td>2023.0</td>\n",
       "    </tr>\n",
       "    <tr>\n",
       "      <th>2024</th>\n",
       "      <td>74441.0</td>\n",
       "      <td>75017.0</td>\n",
       "      <td>73703.0</td>\n",
       "      <td>74310.0</td>\n",
       "      <td>74310.0</td>\n",
       "      <td>18212859.0</td>\n",
       "      <td>2024.0</td>\n",
       "    </tr>\n",
       "  </tbody>\n",
       "</table>\n",
       "</div>"
      ],
      "text/plain": [
       "         Open     High      Low    Close  Adj Close      Volume    year\n",
       "Date                                                                   \n",
       "2000   5370.0   5494.0   5248.0   5362.0     3922.0  50783205.0  2000.0\n",
       "2001   3989.0   4062.0   3928.0   3999.0     2925.0  33614195.0  2001.0\n",
       "2002   6850.0   6955.0   6752.0   6857.0     5016.0  39264176.0  2002.0\n",
       "2003   7461.0   7554.0   7372.0   7468.0     5464.0  29283123.0  2003.0\n",
       "2004   9675.0   9787.0   9557.0   9675.0     7078.0  27187061.0  2004.0\n",
       "2005  10723.0  10825.0  10632.0  10733.0     7852.0  20577988.0  2005.0\n",
       "2006  12768.0  12893.0  12638.0  12762.0     9341.0  19283371.0  2006.0\n",
       "2007  11556.0  11681.0  11418.0  11546.0     8529.0  27934642.0  2007.0\n",
       "2008  11486.0  11670.0  11315.0  11494.0     8610.0  27783142.0  2008.0\n",
       "2009  12835.0  13003.0  12665.0  12840.0     9733.0  24055224.0  2009.0\n",
       "2010  16081.0  16223.0  15914.0  16071.0    12343.0  17372052.0  2010.0\n",
       "2011  17932.0  18148.0  17705.0  17926.0    13888.0  19757473.0  2011.0\n",
       "2012  25183.0  25454.0  24928.0  25215.0    19636.0  16173437.0  2012.0\n",
       "2013  28617.0  28848.0  28320.0  28579.0    22379.0  12883379.0  2013.0\n",
       "2014  25873.0  26082.0  25613.0  25836.0    20441.0  12487455.0  2014.0\n",
       "2015  25986.0  26246.0  25711.0  25971.0    20860.0  11929520.0  2015.0\n",
       "2016  28734.0  29054.0  28489.0  28800.0    23524.0  12082143.0  2016.0\n",
       "2017  46363.0  46790.0  45965.0  46377.0    38671.0  11449286.0  2017.0\n",
       "2018  46868.0  47351.0  46342.0  46830.0    39989.0  12553307.0  2018.0\n",
       "2019  46563.0  46989.0  46122.0  46583.0    41115.0  10896526.0  2019.0\n",
       "2020  57145.0  57828.0  56499.0  57168.0    51894.0  21747329.0  2020.0\n",
       "2021  79258.0  79912.0  78568.0  79156.0    74813.0  18784212.0  2021.0\n",
       "2022  63925.0  64401.0  63414.0  63867.0    61573.0  13895826.0  2022.0\n",
       "2023  67506.0  67982.0  66937.0  67456.0    66643.0  12221286.0  2023.0\n",
       "2024  74441.0  75017.0  73703.0  74310.0    74310.0  18212859.0  2024.0"
      ]
     },
     "execution_count": 34,
     "metadata": {},
     "output_type": "execute_result"
    }
   ],
   "source": [
    "# 인덱스의 연도만 추출해서 그루핑\n",
    "round(sdf.groupby(sdf.index.year).mean())"
   ]
  },
  {
   "cell_type": "code",
   "execution_count": 35,
   "metadata": {
    "ExecuteTime": {
     "end_time": "2023-11-21T13:44:53.287225Z",
     "start_time": "2023-11-21T13:44:53.268101Z"
    }
   },
   "outputs": [
    {
     "data": {
      "text/html": [
       "<div>\n",
       "<style scoped>\n",
       "    .dataframe tbody tr th:only-of-type {\n",
       "        vertical-align: middle;\n",
       "    }\n",
       "\n",
       "    .dataframe tbody tr th {\n",
       "        vertical-align: top;\n",
       "    }\n",
       "\n",
       "    .dataframe thead th {\n",
       "        text-align: right;\n",
       "    }\n",
       "</style>\n",
       "<table border=\"1\" class=\"dataframe\">\n",
       "  <thead>\n",
       "    <tr style=\"text-align: right;\">\n",
       "      <th></th>\n",
       "      <th></th>\n",
       "      <th>Open</th>\n",
       "      <th>High</th>\n",
       "      <th>Low</th>\n",
       "      <th>Close</th>\n",
       "      <th>Adj Close</th>\n",
       "      <th>Volume</th>\n",
       "      <th>year</th>\n",
       "    </tr>\n",
       "    <tr>\n",
       "      <th>Date</th>\n",
       "      <th>Date</th>\n",
       "      <th></th>\n",
       "      <th></th>\n",
       "      <th></th>\n",
       "      <th></th>\n",
       "      <th></th>\n",
       "      <th></th>\n",
       "      <th></th>\n",
       "    </tr>\n",
       "  </thead>\n",
       "  <tbody>\n",
       "    <tr>\n",
       "      <th rowspan=\"5\" valign=\"top\">2000</th>\n",
       "      <th>1</th>\n",
       "      <td>5750.500000</td>\n",
       "      <td>5877.000000</td>\n",
       "      <td>5647.500000</td>\n",
       "      <td>5763.500000</td>\n",
       "      <td>4216.440552</td>\n",
       "      <td>4.512675e+07</td>\n",
       "      <td>2000.0</td>\n",
       "    </tr>\n",
       "    <tr>\n",
       "      <th>2</th>\n",
       "      <td>5278.571429</td>\n",
       "      <td>5398.095238</td>\n",
       "      <td>5129.523810</td>\n",
       "      <td>5241.904762</td>\n",
       "      <td>3834.853492</td>\n",
       "      <td>5.201405e+07</td>\n",
       "      <td>2000.0</td>\n",
       "    </tr>\n",
       "    <tr>\n",
       "      <th>3</th>\n",
       "      <td>6009.565217</td>\n",
       "      <td>6188.260870</td>\n",
       "      <td>5827.826087</td>\n",
       "      <td>5999.565217</td>\n",
       "      <td>4389.139893</td>\n",
       "      <td>5.558217e+07</td>\n",
       "      <td>2000.0</td>\n",
       "    </tr>\n",
       "    <tr>\n",
       "      <th>4</th>\n",
       "      <td>6399.000000</td>\n",
       "      <td>6559.500000</td>\n",
       "      <td>6232.500000</td>\n",
       "      <td>6356.500000</td>\n",
       "      <td>4650.264709</td>\n",
       "      <td>4.375625e+07</td>\n",
       "      <td>2000.0</td>\n",
       "    </tr>\n",
       "    <tr>\n",
       "      <th>5</th>\n",
       "      <td>6282.608696</td>\n",
       "      <td>6436.521739</td>\n",
       "      <td>6181.739130</td>\n",
       "      <td>6286.521739</td>\n",
       "      <td>4599.070482</td>\n",
       "      <td>4.119413e+07</td>\n",
       "      <td>2000.0</td>\n",
       "    </tr>\n",
       "    <tr>\n",
       "      <th>...</th>\n",
       "      <th>...</th>\n",
       "      <td>...</td>\n",
       "      <td>...</td>\n",
       "      <td>...</td>\n",
       "      <td>...</td>\n",
       "      <td>...</td>\n",
       "      <td>...</td>\n",
       "      <td>...</td>\n",
       "    </tr>\n",
       "    <tr>\n",
       "      <th rowspan=\"2\" valign=\"top\">2023</th>\n",
       "      <th>11</th>\n",
       "      <td>71286.363636</td>\n",
       "      <td>71809.090909</td>\n",
       "      <td>70850.000000</td>\n",
       "      <td>71409.090909</td>\n",
       "      <td>71072.552202</td>\n",
       "      <td>1.242980e+07</td>\n",
       "      <td>2023.0</td>\n",
       "    </tr>\n",
       "    <tr>\n",
       "      <th>12</th>\n",
       "      <td>73784.210526</td>\n",
       "      <td>74163.157895</td>\n",
       "      <td>73289.473684</td>\n",
       "      <td>73810.526316</td>\n",
       "      <td>73501.489720</td>\n",
       "      <td>1.341451e+07</td>\n",
       "      <td>2023.0</td>\n",
       "    </tr>\n",
       "    <tr>\n",
       "      <th rowspan=\"3\" valign=\"top\">2024</th>\n",
       "      <th>1</th>\n",
       "      <td>74845.454545</td>\n",
       "      <td>75436.363636</td>\n",
       "      <td>73954.545455</td>\n",
       "      <td>74454.545455</td>\n",
       "      <td>74454.545455</td>\n",
       "      <td>1.760838e+07</td>\n",
       "      <td>2024.0</td>\n",
       "    </tr>\n",
       "    <tr>\n",
       "      <th>2</th>\n",
       "      <td>73647.368421</td>\n",
       "      <td>74221.052632</td>\n",
       "      <td>73089.473684</td>\n",
       "      <td>73694.736842</td>\n",
       "      <td>73694.736842</td>\n",
       "      <td>1.573450e+07</td>\n",
       "      <td>2024.0</td>\n",
       "    </tr>\n",
       "    <tr>\n",
       "      <th>3</th>\n",
       "      <td>74805.882353</td>\n",
       "      <td>75364.705882</td>\n",
       "      <td>74064.705882</td>\n",
       "      <td>74811.764706</td>\n",
       "      <td>74811.764706</td>\n",
       "      <td>2.176506e+07</td>\n",
       "      <td>2024.0</td>\n",
       "    </tr>\n",
       "  </tbody>\n",
       "</table>\n",
       "<p>291 rows × 7 columns</p>\n",
       "</div>"
      ],
      "text/plain": [
       "                   Open          High           Low         Close  \\\n",
       "Date Date                                                           \n",
       "2000 1      5750.500000   5877.000000   5647.500000   5763.500000   \n",
       "     2      5278.571429   5398.095238   5129.523810   5241.904762   \n",
       "     3      6009.565217   6188.260870   5827.826087   5999.565217   \n",
       "     4      6399.000000   6559.500000   6232.500000   6356.500000   \n",
       "     5      6282.608696   6436.521739   6181.739130   6286.521739   \n",
       "...                 ...           ...           ...           ...   \n",
       "2023 11    71286.363636  71809.090909  70850.000000  71409.090909   \n",
       "     12    73784.210526  74163.157895  73289.473684  73810.526316   \n",
       "2024 1     74845.454545  75436.363636  73954.545455  74454.545455   \n",
       "     2     73647.368421  74221.052632  73089.473684  73694.736842   \n",
       "     3     74805.882353  75364.705882  74064.705882  74811.764706   \n",
       "\n",
       "              Adj Close        Volume    year  \n",
       "Date Date                                      \n",
       "2000 1      4216.440552  4.512675e+07  2000.0  \n",
       "     2      3834.853492  5.201405e+07  2000.0  \n",
       "     3      4389.139893  5.558217e+07  2000.0  \n",
       "     4      4650.264709  4.375625e+07  2000.0  \n",
       "     5      4599.070482  4.119413e+07  2000.0  \n",
       "...                 ...           ...     ...  \n",
       "2023 11    71072.552202  1.242980e+07  2023.0  \n",
       "     12    73501.489720  1.341451e+07  2023.0  \n",
       "2024 1     74454.545455  1.760838e+07  2024.0  \n",
       "     2     73694.736842  1.573450e+07  2024.0  \n",
       "     3     74811.764706  2.176506e+07  2024.0  \n",
       "\n",
       "[291 rows x 7 columns]"
      ]
     },
     "execution_count": 35,
     "metadata": {},
     "output_type": "execute_result"
    }
   ],
   "source": [
    "# 연도 및 월별\n",
    "sdf.groupby([sdf.index.year, sdf.index.month]).mean()"
   ]
  },
  {
   "cell_type": "markdown",
   "metadata": {},
   "source": [
    "## resample : 시계열데이터 전용 집계함수\n",
    "resample rule\n",
    "http://pandas.pydata.org/pandas-docs/stable/user_guide/timeseries.html"
   ]
  },
  {
   "cell_type": "code",
   "execution_count": 107,
   "metadata": {
    "ExecuteTime": {
     "end_time": "2023-11-21T13:45:47.517124Z",
     "start_time": "2023-11-21T13:45:47.505544Z"
    },
    "jupyter": {
     "outputs_hidden": true
    },
    "scrolled": true
   },
   "outputs": [
    {
     "data": {
      "text/plain": [
       "\u001b[1;31mSignature:\u001b[0m\n",
       "\u001b[0msdf\u001b[0m\u001b[1;33m.\u001b[0m\u001b[0mresample\u001b[0m\u001b[1;33m(\u001b[0m\u001b[1;33m\n",
       "\u001b[0m    \u001b[0mrule\u001b[0m\u001b[1;33m,\u001b[0m\u001b[1;33m\n",
       "\u001b[0m    \u001b[0maxis\u001b[0m\u001b[1;33m:\u001b[0m \u001b[1;34m'Axis'\u001b[0m \u001b[1;33m=\u001b[0m \u001b[1;36m0\u001b[0m\u001b[1;33m,\u001b[0m\u001b[1;33m\n",
       "\u001b[0m    \u001b[0mclosed\u001b[0m\u001b[1;33m:\u001b[0m \u001b[1;34m'str | None'\u001b[0m \u001b[1;33m=\u001b[0m \u001b[1;32mNone\u001b[0m\u001b[1;33m,\u001b[0m\u001b[1;33m\n",
       "\u001b[0m    \u001b[0mlabel\u001b[0m\u001b[1;33m:\u001b[0m \u001b[1;34m'str | None'\u001b[0m \u001b[1;33m=\u001b[0m \u001b[1;32mNone\u001b[0m\u001b[1;33m,\u001b[0m\u001b[1;33m\n",
       "\u001b[0m    \u001b[0mconvention\u001b[0m\u001b[1;33m:\u001b[0m \u001b[1;34m'str'\u001b[0m \u001b[1;33m=\u001b[0m \u001b[1;34m'start'\u001b[0m\u001b[1;33m,\u001b[0m\u001b[1;33m\n",
       "\u001b[0m    \u001b[0mkind\u001b[0m\u001b[1;33m:\u001b[0m \u001b[1;34m'str | None'\u001b[0m \u001b[1;33m=\u001b[0m \u001b[1;32mNone\u001b[0m\u001b[1;33m,\u001b[0m\u001b[1;33m\n",
       "\u001b[0m    \u001b[0mon\u001b[0m\u001b[1;33m:\u001b[0m \u001b[1;34m'Level'\u001b[0m \u001b[1;33m=\u001b[0m \u001b[1;32mNone\u001b[0m\u001b[1;33m,\u001b[0m\u001b[1;33m\n",
       "\u001b[0m    \u001b[0mlevel\u001b[0m\u001b[1;33m:\u001b[0m \u001b[1;34m'Level'\u001b[0m \u001b[1;33m=\u001b[0m \u001b[1;32mNone\u001b[0m\u001b[1;33m,\u001b[0m\u001b[1;33m\n",
       "\u001b[0m    \u001b[0morigin\u001b[0m\u001b[1;33m:\u001b[0m \u001b[1;34m'str | TimestampConvertibleTypes'\u001b[0m \u001b[1;33m=\u001b[0m \u001b[1;34m'start_day'\u001b[0m\u001b[1;33m,\u001b[0m\u001b[1;33m\n",
       "\u001b[0m    \u001b[0moffset\u001b[0m\u001b[1;33m:\u001b[0m \u001b[1;34m'TimedeltaConvertibleTypes | None'\u001b[0m \u001b[1;33m=\u001b[0m \u001b[1;32mNone\u001b[0m\u001b[1;33m,\u001b[0m\u001b[1;33m\n",
       "\u001b[0m    \u001b[0mgroup_keys\u001b[0m\u001b[1;33m:\u001b[0m \u001b[1;34m'bool'\u001b[0m \u001b[1;33m=\u001b[0m \u001b[1;32mFalse\u001b[0m\u001b[1;33m,\u001b[0m\u001b[1;33m\n",
       "\u001b[0m\u001b[1;33m)\u001b[0m \u001b[1;33m->\u001b[0m \u001b[1;34m'Resampler'\u001b[0m\u001b[1;33m\u001b[0m\u001b[1;33m\u001b[0m\u001b[0m\n",
       "\u001b[1;31mDocstring:\u001b[0m\n",
       "Resample time-series data.\n",
       "\n",
       "Convenience method for frequency conversion and resampling of time series.\n",
       "The object must have a datetime-like index (`DatetimeIndex`, `PeriodIndex`,\n",
       "or `TimedeltaIndex`), or the caller must pass the label of a datetime-like\n",
       "series/index to the ``on``/``level`` keyword parameter.\n",
       "\n",
       "Parameters\n",
       "----------\n",
       "rule : DateOffset, Timedelta or str\n",
       "    The offset string or object representing target conversion.\n",
       "axis : {0 or 'index', 1 or 'columns'}, default 0\n",
       "    Which axis to use for up- or down-sampling. For `Series` this parameter\n",
       "    is unused and defaults to 0. Must be\n",
       "    `DatetimeIndex`, `TimedeltaIndex` or `PeriodIndex`.\n",
       "closed : {'right', 'left'}, default None\n",
       "    Which side of bin interval is closed. The default is 'left'\n",
       "    for all frequency offsets except for 'M', 'A', 'Q', 'BM',\n",
       "    'BA', 'BQ', and 'W' which all have a default of 'right'.\n",
       "label : {'right', 'left'}, default None\n",
       "    Which bin edge label to label bucket with. The default is 'left'\n",
       "    for all frequency offsets except for 'M', 'A', 'Q', 'BM',\n",
       "    'BA', 'BQ', and 'W' which all have a default of 'right'.\n",
       "convention : {'start', 'end', 's', 'e'}, default 'start'\n",
       "    For `PeriodIndex` only, controls whether to use the start or\n",
       "    end of `rule`.\n",
       "kind : {'timestamp', 'period'}, optional, default None\n",
       "    Pass 'timestamp' to convert the resulting index to a\n",
       "    `DateTimeIndex` or 'period' to convert it to a `PeriodIndex`.\n",
       "    By default the input representation is retained.\n",
       "\n",
       "on : str, optional\n",
       "    For a DataFrame, column to use instead of index for resampling.\n",
       "    Column must be datetime-like.\n",
       "level : str or int, optional\n",
       "    For a MultiIndex, level (name or number) to use for\n",
       "    resampling. `level` must be datetime-like.\n",
       "origin : Timestamp or str, default 'start_day'\n",
       "    The timestamp on which to adjust the grouping. The timezone of origin\n",
       "    must match the timezone of the index.\n",
       "    If string, must be one of the following:\n",
       "\n",
       "    - 'epoch': `origin` is 1970-01-01\n",
       "    - 'start': `origin` is the first value of the timeseries\n",
       "    - 'start_day': `origin` is the first day at midnight of the timeseries\n",
       "\n",
       "    .. versionadded:: 1.1.0\n",
       "\n",
       "    - 'end': `origin` is the last value of the timeseries\n",
       "    - 'end_day': `origin` is the ceiling midnight of the last day\n",
       "\n",
       "    .. versionadded:: 1.3.0\n",
       "\n",
       "offset : Timedelta or str, default is None\n",
       "    An offset timedelta added to the origin.\n",
       "\n",
       "    .. versionadded:: 1.1.0\n",
       "\n",
       "group_keys : bool, default False\n",
       "    Whether to include the group keys in the result index when using\n",
       "    ``.apply()`` on the resampled object.\n",
       "\n",
       "    .. versionadded:: 1.5.0\n",
       "\n",
       "        Not specifying ``group_keys`` will retain values-dependent behavior\n",
       "        from pandas 1.4 and earlier (see :ref:`pandas 1.5.0 Release notes\n",
       "        <whatsnew_150.enhancements.resample_group_keys>` for examples).\n",
       "\n",
       "    .. versionchanged:: 2.0.0\n",
       "\n",
       "        ``group_keys`` now defaults to ``False``.\n",
       "\n",
       "Returns\n",
       "-------\n",
       "pandas.core.Resampler\n",
       "    :class:`~pandas.core.Resampler` object.\n",
       "\n",
       "See Also\n",
       "--------\n",
       "Series.resample : Resample a Series.\n",
       "DataFrame.resample : Resample a DataFrame.\n",
       "groupby : Group DataFrame by mapping, function, label, or list of labels.\n",
       "asfreq : Reindex a DataFrame with the given frequency without grouping.\n",
       "\n",
       "Notes\n",
       "-----\n",
       "See the `user guide\n",
       "<https://pandas.pydata.org/pandas-docs/stable/user_guide/timeseries.html#resampling>`__\n",
       "for more.\n",
       "\n",
       "To learn more about the offset strings, please see `this link\n",
       "<https://pandas.pydata.org/pandas-docs/stable/user_guide/timeseries.html#dateoffset-objects>`__.\n",
       "\n",
       "Examples\n",
       "--------\n",
       "Start by creating a series with 9 one minute timestamps.\n",
       "\n",
       ">>> index = pd.date_range('1/1/2000', periods=9, freq='T')\n",
       ">>> series = pd.Series(range(9), index=index)\n",
       ">>> series\n",
       "2000-01-01 00:00:00    0\n",
       "2000-01-01 00:01:00    1\n",
       "2000-01-01 00:02:00    2\n",
       "2000-01-01 00:03:00    3\n",
       "2000-01-01 00:04:00    4\n",
       "2000-01-01 00:05:00    5\n",
       "2000-01-01 00:06:00    6\n",
       "2000-01-01 00:07:00    7\n",
       "2000-01-01 00:08:00    8\n",
       "Freq: T, dtype: int64\n",
       "\n",
       "Downsample the series into 3 minute bins and sum the values\n",
       "of the timestamps falling into a bin.\n",
       "\n",
       ">>> series.resample('3T').sum()\n",
       "2000-01-01 00:00:00     3\n",
       "2000-01-01 00:03:00    12\n",
       "2000-01-01 00:06:00    21\n",
       "Freq: 3T, dtype: int64\n",
       "\n",
       "Downsample the series into 3 minute bins as above, but label each\n",
       "bin using the right edge instead of the left. Please note that the\n",
       "value in the bucket used as the label is not included in the bucket,\n",
       "which it labels. For example, in the original series the\n",
       "bucket ``2000-01-01 00:03:00`` contains the value 3, but the summed\n",
       "value in the resampled bucket with the label ``2000-01-01 00:03:00``\n",
       "does not include 3 (if it did, the summed value would be 6, not 3).\n",
       "To include this value close the right side of the bin interval as\n",
       "illustrated in the example below this one.\n",
       "\n",
       ">>> series.resample('3T', label='right').sum()\n",
       "2000-01-01 00:03:00     3\n",
       "2000-01-01 00:06:00    12\n",
       "2000-01-01 00:09:00    21\n",
       "Freq: 3T, dtype: int64\n",
       "\n",
       "Downsample the series into 3 minute bins as above, but close the right\n",
       "side of the bin interval.\n",
       "\n",
       ">>> series.resample('3T', label='right', closed='right').sum()\n",
       "2000-01-01 00:00:00     0\n",
       "2000-01-01 00:03:00     6\n",
       "2000-01-01 00:06:00    15\n",
       "2000-01-01 00:09:00    15\n",
       "Freq: 3T, dtype: int64\n",
       "\n",
       "Upsample the series into 30 second bins.\n",
       "\n",
       ">>> series.resample('30S').asfreq()[0:5]   # Select first 5 rows\n",
       "2000-01-01 00:00:00   0.0\n",
       "2000-01-01 00:00:30   NaN\n",
       "2000-01-01 00:01:00   1.0\n",
       "2000-01-01 00:01:30   NaN\n",
       "2000-01-01 00:02:00   2.0\n",
       "Freq: 30S, dtype: float64\n",
       "\n",
       "Upsample the series into 30 second bins and fill the ``NaN``\n",
       "values using the ``ffill`` method.\n",
       "\n",
       ">>> series.resample('30S').ffill()[0:5]\n",
       "2000-01-01 00:00:00    0\n",
       "2000-01-01 00:00:30    0\n",
       "2000-01-01 00:01:00    1\n",
       "2000-01-01 00:01:30    1\n",
       "2000-01-01 00:02:00    2\n",
       "Freq: 30S, dtype: int64\n",
       "\n",
       "Upsample the series into 30 second bins and fill the\n",
       "``NaN`` values using the ``bfill`` method.\n",
       "\n",
       ">>> series.resample('30S').bfill()[0:5]\n",
       "2000-01-01 00:00:00    0\n",
       "2000-01-01 00:00:30    1\n",
       "2000-01-01 00:01:00    1\n",
       "2000-01-01 00:01:30    2\n",
       "2000-01-01 00:02:00    2\n",
       "Freq: 30S, dtype: int64\n",
       "\n",
       "Pass a custom function via ``apply``\n",
       "\n",
       ">>> def custom_resampler(arraylike):\n",
       "...     return np.sum(arraylike) + 5\n",
       "...\n",
       ">>> series.resample('3T').apply(custom_resampler)\n",
       "2000-01-01 00:00:00     8\n",
       "2000-01-01 00:03:00    17\n",
       "2000-01-01 00:06:00    26\n",
       "Freq: 3T, dtype: int64\n",
       "\n",
       "For a Series with a PeriodIndex, the keyword `convention` can be\n",
       "used to control whether to use the start or end of `rule`.\n",
       "\n",
       "Resample a year by quarter using 'start' `convention`. Values are\n",
       "assigned to the first quarter of the period.\n",
       "\n",
       ">>> s = pd.Series([1, 2], index=pd.period_range('2012-01-01',\n",
       "...                                             freq='A',\n",
       "...                                             periods=2))\n",
       ">>> s\n",
       "2012    1\n",
       "2013    2\n",
       "Freq: A-DEC, dtype: int64\n",
       ">>> s.resample('Q', convention='start').asfreq()\n",
       "2012Q1    1.0\n",
       "2012Q2    NaN\n",
       "2012Q3    NaN\n",
       "2012Q4    NaN\n",
       "2013Q1    2.0\n",
       "2013Q2    NaN\n",
       "2013Q3    NaN\n",
       "2013Q4    NaN\n",
       "Freq: Q-DEC, dtype: float64\n",
       "\n",
       "Resample quarters by month using 'end' `convention`. Values are\n",
       "assigned to the last month of the period.\n",
       "\n",
       ">>> q = pd.Series([1, 2, 3, 4], index=pd.period_range('2018-01-01',\n",
       "...                                                   freq='Q',\n",
       "...                                                   periods=4))\n",
       ">>> q\n",
       "2018Q1    1\n",
       "2018Q2    2\n",
       "2018Q3    3\n",
       "2018Q4    4\n",
       "Freq: Q-DEC, dtype: int64\n",
       ">>> q.resample('M', convention='end').asfreq()\n",
       "2018-03    1.0\n",
       "2018-04    NaN\n",
       "2018-05    NaN\n",
       "2018-06    2.0\n",
       "2018-07    NaN\n",
       "2018-08    NaN\n",
       "2018-09    3.0\n",
       "2018-10    NaN\n",
       "2018-11    NaN\n",
       "2018-12    4.0\n",
       "Freq: M, dtype: float64\n",
       "\n",
       "For DataFrame objects, the keyword `on` can be used to specify the\n",
       "column instead of the index for resampling.\n",
       "\n",
       ">>> d = {'price': [10, 11, 9, 13, 14, 18, 17, 19],\n",
       "...      'volume': [50, 60, 40, 100, 50, 100, 40, 50]}\n",
       ">>> df = pd.DataFrame(d)\n",
       ">>> df['week_starting'] = pd.date_range('01/01/2018',\n",
       "...                                     periods=8,\n",
       "...                                     freq='W')\n",
       ">>> df\n",
       "   price  volume week_starting\n",
       "0     10      50    2018-01-07\n",
       "1     11      60    2018-01-14\n",
       "2      9      40    2018-01-21\n",
       "3     13     100    2018-01-28\n",
       "4     14      50    2018-02-04\n",
       "5     18     100    2018-02-11\n",
       "6     17      40    2018-02-18\n",
       "7     19      50    2018-02-25\n",
       ">>> df.resample('M', on='week_starting').mean()\n",
       "               price  volume\n",
       "week_starting\n",
       "2018-01-31     10.75    62.5\n",
       "2018-02-28     17.00    60.0\n",
       "\n",
       "For a DataFrame with MultiIndex, the keyword `level` can be used to\n",
       "specify on which level the resampling needs to take place.\n",
       "\n",
       ">>> days = pd.date_range('1/1/2000', periods=4, freq='D')\n",
       ">>> d2 = {'price': [10, 11, 9, 13, 14, 18, 17, 19],\n",
       "...       'volume': [50, 60, 40, 100, 50, 100, 40, 50]}\n",
       ">>> df2 = pd.DataFrame(\n",
       "...     d2,\n",
       "...     index=pd.MultiIndex.from_product(\n",
       "...         [days, ['morning', 'afternoon']]\n",
       "...     )\n",
       "... )\n",
       ">>> df2\n",
       "                      price  volume\n",
       "2000-01-01 morning       10      50\n",
       "           afternoon     11      60\n",
       "2000-01-02 morning        9      40\n",
       "           afternoon     13     100\n",
       "2000-01-03 morning       14      50\n",
       "           afternoon     18     100\n",
       "2000-01-04 morning       17      40\n",
       "           afternoon     19      50\n",
       ">>> df2.resample('D', level=0).sum()\n",
       "            price  volume\n",
       "2000-01-01     21     110\n",
       "2000-01-02     22     140\n",
       "2000-01-03     32     150\n",
       "2000-01-04     36      90\n",
       "\n",
       "If you want to adjust the start of the bins based on a fixed timestamp:\n",
       "\n",
       ">>> start, end = '2000-10-01 23:30:00', '2000-10-02 00:30:00'\n",
       ">>> rng = pd.date_range(start, end, freq='7min')\n",
       ">>> ts = pd.Series(np.arange(len(rng)) * 3, index=rng)\n",
       ">>> ts\n",
       "2000-10-01 23:30:00     0\n",
       "2000-10-01 23:37:00     3\n",
       "2000-10-01 23:44:00     6\n",
       "2000-10-01 23:51:00     9\n",
       "2000-10-01 23:58:00    12\n",
       "2000-10-02 00:05:00    15\n",
       "2000-10-02 00:12:00    18\n",
       "2000-10-02 00:19:00    21\n",
       "2000-10-02 00:26:00    24\n",
       "Freq: 7T, dtype: int64\n",
       "\n",
       ">>> ts.resample('17min').sum()\n",
       "2000-10-01 23:14:00     0\n",
       "2000-10-01 23:31:00     9\n",
       "2000-10-01 23:48:00    21\n",
       "2000-10-02 00:05:00    54\n",
       "2000-10-02 00:22:00    24\n",
       "Freq: 17T, dtype: int64\n",
       "\n",
       ">>> ts.resample('17min', origin='epoch').sum()\n",
       "2000-10-01 23:18:00     0\n",
       "2000-10-01 23:35:00    18\n",
       "2000-10-01 23:52:00    27\n",
       "2000-10-02 00:09:00    39\n",
       "2000-10-02 00:26:00    24\n",
       "Freq: 17T, dtype: int64\n",
       "\n",
       ">>> ts.resample('17min', origin='2000-01-01').sum()\n",
       "2000-10-01 23:24:00     3\n",
       "2000-10-01 23:41:00    15\n",
       "2000-10-01 23:58:00    45\n",
       "2000-10-02 00:15:00    45\n",
       "Freq: 17T, dtype: int64\n",
       "\n",
       "If you want to adjust the start of the bins with an `offset` Timedelta, the two\n",
       "following lines are equivalent:\n",
       "\n",
       ">>> ts.resample('17min', origin='start').sum()\n",
       "2000-10-01 23:30:00     9\n",
       "2000-10-01 23:47:00    21\n",
       "2000-10-02 00:04:00    54\n",
       "2000-10-02 00:21:00    24\n",
       "Freq: 17T, dtype: int64\n",
       "\n",
       ">>> ts.resample('17min', offset='23h30min').sum()\n",
       "2000-10-01 23:30:00     9\n",
       "2000-10-01 23:47:00    21\n",
       "2000-10-02 00:04:00    54\n",
       "2000-10-02 00:21:00    24\n",
       "Freq: 17T, dtype: int64\n",
       "\n",
       "If you want to take the largest Timestamp as the end of the bins:\n",
       "\n",
       ">>> ts.resample('17min', origin='end').sum()\n",
       "2000-10-01 23:35:00     0\n",
       "2000-10-01 23:52:00    18\n",
       "2000-10-02 00:09:00    27\n",
       "2000-10-02 00:26:00    63\n",
       "Freq: 17T, dtype: int64\n",
       "\n",
       "In contrast with the `start_day`, you can use `end_day` to take the ceiling\n",
       "midnight of the largest Timestamp as the end of the bins and drop the bins\n",
       "not containing data:\n",
       "\n",
       ">>> ts.resample('17min', origin='end_day').sum()\n",
       "2000-10-01 23:38:00     3\n",
       "2000-10-01 23:55:00    15\n",
       "2000-10-02 00:12:00    45\n",
       "2000-10-02 00:29:00    45\n",
       "Freq: 17T, dtype: int64\n",
       "\u001b[1;31mFile:\u001b[0m      c:\\users\\maeng\\anaconda3\\lib\\site-packages\\pandas\\core\\frame.py\n",
       "\u001b[1;31mType:\u001b[0m      method"
      ]
     },
     "metadata": {},
     "output_type": "display_data"
    }
   ],
   "source": [
    "sdf.resample?"
   ]
  },
  {
   "cell_type": "code",
   "execution_count": 108,
   "metadata": {
    "ExecuteTime": {
     "end_time": "2023-11-21T13:48:34.766567Z",
     "start_time": "2023-11-21T13:48:34.748614Z"
    }
   },
   "outputs": [
    {
     "data": {
      "text/html": [
       "<div>\n",
       "<style scoped>\n",
       "    .dataframe tbody tr th:only-of-type {\n",
       "        vertical-align: middle;\n",
       "    }\n",
       "\n",
       "    .dataframe tbody tr th {\n",
       "        vertical-align: top;\n",
       "    }\n",
       "\n",
       "    .dataframe thead th {\n",
       "        text-align: right;\n",
       "    }\n",
       "</style>\n",
       "<table border=\"1\" class=\"dataframe\">\n",
       "  <thead>\n",
       "    <tr style=\"text-align: right;\">\n",
       "      <th></th>\n",
       "      <th>Open</th>\n",
       "      <th>High</th>\n",
       "      <th>Low</th>\n",
       "      <th>Close</th>\n",
       "      <th>Adj Close</th>\n",
       "      <th>Volume</th>\n",
       "      <th>year</th>\n",
       "    </tr>\n",
       "    <tr>\n",
       "      <th>Date</th>\n",
       "      <th></th>\n",
       "      <th></th>\n",
       "      <th></th>\n",
       "      <th></th>\n",
       "      <th></th>\n",
       "      <th></th>\n",
       "      <th></th>\n",
       "    </tr>\n",
       "  </thead>\n",
       "  <tbody>\n",
       "    <tr>\n",
       "      <th>2000-12-31</th>\n",
       "      <td>5370.115830</td>\n",
       "      <td>5493.513514</td>\n",
       "      <td>5248.108108</td>\n",
       "      <td>5361.583012</td>\n",
       "      <td>3961.587652</td>\n",
       "      <td>5.078320e+07</td>\n",
       "      <td>2000.0</td>\n",
       "    </tr>\n",
       "    <tr>\n",
       "      <th>2001-12-31</th>\n",
       "      <td>3989.233716</td>\n",
       "      <td>4061.570881</td>\n",
       "      <td>3928.352490</td>\n",
       "      <td>3998.735632</td>\n",
       "      <td>2954.601587</td>\n",
       "      <td>3.361420e+07</td>\n",
       "      <td>2001.0</td>\n",
       "    </tr>\n",
       "    <tr>\n",
       "      <th>2002-12-31</th>\n",
       "      <td>6850.344828</td>\n",
       "      <td>6955.172414</td>\n",
       "      <td>6752.183908</td>\n",
       "      <td>6856.896552</td>\n",
       "      <td>5066.450831</td>\n",
       "      <td>3.926418e+07</td>\n",
       "      <td>2002.0</td>\n",
       "    </tr>\n",
       "    <tr>\n",
       "      <th>2003-12-31</th>\n",
       "      <td>7460.689655</td>\n",
       "      <td>7554.022989</td>\n",
       "      <td>7371.609195</td>\n",
       "      <td>7468.237548</td>\n",
       "      <td>5518.160808</td>\n",
       "      <td>2.928312e+07</td>\n",
       "      <td>2003.0</td>\n",
       "    </tr>\n",
       "    <tr>\n",
       "      <th>2004-12-31</th>\n",
       "      <td>9675.000000</td>\n",
       "      <td>9787.251908</td>\n",
       "      <td>9556.946565</td>\n",
       "      <td>9674.694656</td>\n",
       "      <td>7148.476536</td>\n",
       "      <td>2.718706e+07</td>\n",
       "      <td>2004.0</td>\n",
       "    </tr>\n",
       "    <tr>\n",
       "      <th>2005-12-31</th>\n",
       "      <td>10722.934363</td>\n",
       "      <td>10825.366795</td>\n",
       "      <td>10631.814672</td>\n",
       "      <td>10733.359073</td>\n",
       "      <td>7930.706767</td>\n",
       "      <td>2.057799e+07</td>\n",
       "      <td>2005.0</td>\n",
       "    </tr>\n",
       "    <tr>\n",
       "      <th>2006-12-31</th>\n",
       "      <td>12768.467742</td>\n",
       "      <td>12892.822581</td>\n",
       "      <td>12637.580645</td>\n",
       "      <td>12762.419355</td>\n",
       "      <td>9434.595301</td>\n",
       "      <td>1.928337e+07</td>\n",
       "      <td>2006.0</td>\n",
       "    </tr>\n",
       "    <tr>\n",
       "      <th>2007-12-31</th>\n",
       "      <td>11555.609756</td>\n",
       "      <td>11681.463415</td>\n",
       "      <td>11418.455285</td>\n",
       "      <td>11546.422764</td>\n",
       "      <td>8614.364847</td>\n",
       "      <td>2.793464e+07</td>\n",
       "      <td>2007.0</td>\n",
       "    </tr>\n",
       "    <tr>\n",
       "      <th>2008-12-31</th>\n",
       "      <td>11485.758755</td>\n",
       "      <td>11669.883268</td>\n",
       "      <td>11314.747082</td>\n",
       "      <td>11494.435798</td>\n",
       "      <td>8695.527842</td>\n",
       "      <td>2.778314e+07</td>\n",
       "      <td>2008.0</td>\n",
       "    </tr>\n",
       "    <tr>\n",
       "      <th>2009-12-31</th>\n",
       "      <td>12834.664032</td>\n",
       "      <td>13002.964427</td>\n",
       "      <td>12665.217391</td>\n",
       "      <td>12840.355731</td>\n",
       "      <td>9830.116342</td>\n",
       "      <td>2.405522e+07</td>\n",
       "      <td>2009.0</td>\n",
       "    </tr>\n",
       "    <tr>\n",
       "      <th>2010-12-31</th>\n",
       "      <td>16081.434263</td>\n",
       "      <td>16222.549801</td>\n",
       "      <td>15914.103586</td>\n",
       "      <td>16070.996016</td>\n",
       "      <td>12466.197056</td>\n",
       "      <td>1.737205e+07</td>\n",
       "      <td>2010.0</td>\n",
       "    </tr>\n",
       "    <tr>\n",
       "      <th>2011-12-31</th>\n",
       "      <td>17931.612903</td>\n",
       "      <td>18147.822581</td>\n",
       "      <td>17704.516129</td>\n",
       "      <td>17926.209677</td>\n",
       "      <td>14026.381328</td>\n",
       "      <td>1.975747e+07</td>\n",
       "      <td>2011.0</td>\n",
       "    </tr>\n",
       "    <tr>\n",
       "      <th>2012-12-31</th>\n",
       "      <td>25182.741935</td>\n",
       "      <td>25454.112903</td>\n",
       "      <td>24927.500000</td>\n",
       "      <td>25214.596774</td>\n",
       "      <td>19832.023071</td>\n",
       "      <td>1.617344e+07</td>\n",
       "      <td>2012.0</td>\n",
       "    </tr>\n",
       "    <tr>\n",
       "      <th>2013-12-31</th>\n",
       "      <td>28617.327935</td>\n",
       "      <td>28847.611336</td>\n",
       "      <td>28320.242915</td>\n",
       "      <td>28578.542510</td>\n",
       "      <td>22602.702943</td>\n",
       "      <td>1.288338e+07</td>\n",
       "      <td>2013.0</td>\n",
       "    </tr>\n",
       "    <tr>\n",
       "      <th>2014-12-31</th>\n",
       "      <td>25872.653061</td>\n",
       "      <td>26082.285714</td>\n",
       "      <td>25613.469388</td>\n",
       "      <td>25835.918367</td>\n",
       "      <td>20644.772146</td>\n",
       "      <td>1.248746e+07</td>\n",
       "      <td>2014.0</td>\n",
       "    </tr>\n",
       "    <tr>\n",
       "      <th>2015-12-31</th>\n",
       "      <td>25985.702811</td>\n",
       "      <td>26245.943775</td>\n",
       "      <td>25710.682731</td>\n",
       "      <td>25971.405622</td>\n",
       "      <td>21068.867274</td>\n",
       "      <td>1.192952e+07</td>\n",
       "      <td>2015.0</td>\n",
       "    </tr>\n",
       "    <tr>\n",
       "      <th>2016-12-31</th>\n",
       "      <td>28733.739837</td>\n",
       "      <td>29054.146341</td>\n",
       "      <td>28488.861789</td>\n",
       "      <td>28800.081301</td>\n",
       "      <td>23758.673820</td>\n",
       "      <td>1.208214e+07</td>\n",
       "      <td>2016.0</td>\n",
       "    </tr>\n",
       "    <tr>\n",
       "      <th>2017-12-31</th>\n",
       "      <td>46363.485477</td>\n",
       "      <td>46790.207469</td>\n",
       "      <td>45965.311203</td>\n",
       "      <td>46377.178423</td>\n",
       "      <td>39057.600128</td>\n",
       "      <td>1.144929e+07</td>\n",
       "      <td>2017.0</td>\n",
       "    </tr>\n",
       "    <tr>\n",
       "      <th>2018-12-31</th>\n",
       "      <td>46867.786885</td>\n",
       "      <td>47351.270492</td>\n",
       "      <td>46341.762295</td>\n",
       "      <td>46830.122951</td>\n",
       "      <td>40387.965708</td>\n",
       "      <td>1.255331e+07</td>\n",
       "      <td>2018.0</td>\n",
       "    </tr>\n",
       "    <tr>\n",
       "      <th>2019-12-31</th>\n",
       "      <td>46563.414634</td>\n",
       "      <td>46989.024390</td>\n",
       "      <td>46122.154472</td>\n",
       "      <td>46583.333333</td>\n",
       "      <td>41525.924177</td>\n",
       "      <td>1.089653e+07</td>\n",
       "      <td>2019.0</td>\n",
       "    </tr>\n",
       "    <tr>\n",
       "      <th>2020-12-31</th>\n",
       "      <td>57144.758065</td>\n",
       "      <td>57828.225806</td>\n",
       "      <td>56498.588710</td>\n",
       "      <td>57167.741935</td>\n",
       "      <td>52412.399745</td>\n",
       "      <td>2.174733e+07</td>\n",
       "      <td>2020.0</td>\n",
       "    </tr>\n",
       "    <tr>\n",
       "      <th>2021-12-31</th>\n",
       "      <td>79257.661290</td>\n",
       "      <td>79912.500000</td>\n",
       "      <td>78567.741935</td>\n",
       "      <td>79155.645161</td>\n",
       "      <td>75560.239636</td>\n",
       "      <td>1.878421e+07</td>\n",
       "      <td>2021.0</td>\n",
       "    </tr>\n",
       "    <tr>\n",
       "      <th>2022-12-31</th>\n",
       "      <td>63924.590164</td>\n",
       "      <td>64400.819672</td>\n",
       "      <td>63413.934426</td>\n",
       "      <td>63867.213115</td>\n",
       "      <td>62187.845991</td>\n",
       "      <td>1.389583e+07</td>\n",
       "      <td>2022.0</td>\n",
       "    </tr>\n",
       "    <tr>\n",
       "      <th>2023-12-31</th>\n",
       "      <td>67390.082645</td>\n",
       "      <td>67860.743802</td>\n",
       "      <td>66817.355372</td>\n",
       "      <td>67328.512397</td>\n",
       "      <td>67081.516029</td>\n",
       "      <td>1.216203e+07</td>\n",
       "      <td>2023.0</td>\n",
       "    </tr>\n",
       "  </tbody>\n",
       "</table>\n",
       "</div>"
      ],
      "text/plain": [
       "                    Open          High           Low         Close  \\\n",
       "Date                                                                 \n",
       "2000-12-31   5370.115830   5493.513514   5248.108108   5361.583012   \n",
       "2001-12-31   3989.233716   4061.570881   3928.352490   3998.735632   \n",
       "2002-12-31   6850.344828   6955.172414   6752.183908   6856.896552   \n",
       "2003-12-31   7460.689655   7554.022989   7371.609195   7468.237548   \n",
       "2004-12-31   9675.000000   9787.251908   9556.946565   9674.694656   \n",
       "2005-12-31  10722.934363  10825.366795  10631.814672  10733.359073   \n",
       "2006-12-31  12768.467742  12892.822581  12637.580645  12762.419355   \n",
       "2007-12-31  11555.609756  11681.463415  11418.455285  11546.422764   \n",
       "2008-12-31  11485.758755  11669.883268  11314.747082  11494.435798   \n",
       "2009-12-31  12834.664032  13002.964427  12665.217391  12840.355731   \n",
       "2010-12-31  16081.434263  16222.549801  15914.103586  16070.996016   \n",
       "2011-12-31  17931.612903  18147.822581  17704.516129  17926.209677   \n",
       "2012-12-31  25182.741935  25454.112903  24927.500000  25214.596774   \n",
       "2013-12-31  28617.327935  28847.611336  28320.242915  28578.542510   \n",
       "2014-12-31  25872.653061  26082.285714  25613.469388  25835.918367   \n",
       "2015-12-31  25985.702811  26245.943775  25710.682731  25971.405622   \n",
       "2016-12-31  28733.739837  29054.146341  28488.861789  28800.081301   \n",
       "2017-12-31  46363.485477  46790.207469  45965.311203  46377.178423   \n",
       "2018-12-31  46867.786885  47351.270492  46341.762295  46830.122951   \n",
       "2019-12-31  46563.414634  46989.024390  46122.154472  46583.333333   \n",
       "2020-12-31  57144.758065  57828.225806  56498.588710  57167.741935   \n",
       "2021-12-31  79257.661290  79912.500000  78567.741935  79155.645161   \n",
       "2022-12-31  63924.590164  64400.819672  63413.934426  63867.213115   \n",
       "2023-12-31  67390.082645  67860.743802  66817.355372  67328.512397   \n",
       "\n",
       "               Adj Close        Volume    year  \n",
       "Date                                            \n",
       "2000-12-31   3961.587652  5.078320e+07  2000.0  \n",
       "2001-12-31   2954.601587  3.361420e+07  2001.0  \n",
       "2002-12-31   5066.450831  3.926418e+07  2002.0  \n",
       "2003-12-31   5518.160808  2.928312e+07  2003.0  \n",
       "2004-12-31   7148.476536  2.718706e+07  2004.0  \n",
       "2005-12-31   7930.706767  2.057799e+07  2005.0  \n",
       "2006-12-31   9434.595301  1.928337e+07  2006.0  \n",
       "2007-12-31   8614.364847  2.793464e+07  2007.0  \n",
       "2008-12-31   8695.527842  2.778314e+07  2008.0  \n",
       "2009-12-31   9830.116342  2.405522e+07  2009.0  \n",
       "2010-12-31  12466.197056  1.737205e+07  2010.0  \n",
       "2011-12-31  14026.381328  1.975747e+07  2011.0  \n",
       "2012-12-31  19832.023071  1.617344e+07  2012.0  \n",
       "2013-12-31  22602.702943  1.288338e+07  2013.0  \n",
       "2014-12-31  20644.772146  1.248746e+07  2014.0  \n",
       "2015-12-31  21068.867274  1.192952e+07  2015.0  \n",
       "2016-12-31  23758.673820  1.208214e+07  2016.0  \n",
       "2017-12-31  39057.600128  1.144929e+07  2017.0  \n",
       "2018-12-31  40387.965708  1.255331e+07  2018.0  \n",
       "2019-12-31  41525.924177  1.089653e+07  2019.0  \n",
       "2020-12-31  52412.399745  2.174733e+07  2020.0  \n",
       "2021-12-31  75560.239636  1.878421e+07  2021.0  \n",
       "2022-12-31  62187.845991  1.389583e+07  2022.0  \n",
       "2023-12-31  67081.516029  1.216203e+07  2023.0  "
      ]
     },
     "execution_count": 108,
     "metadata": {},
     "output_type": "execute_result"
    }
   ],
   "source": [
    "# DatetimeIndexResample : sum, mean, max, min\n",
    "sdf.resample(rule='Y').mean()"
   ]
  },
  {
   "cell_type": "code",
   "execution_count": 109,
   "metadata": {
    "ExecuteTime": {
     "end_time": "2023-11-21T13:48:53.308260Z",
     "start_time": "2023-11-21T13:48:53.290371Z"
    }
   },
   "outputs": [
    {
     "data": {
      "text/html": [
       "<div>\n",
       "<style scoped>\n",
       "    .dataframe tbody tr th:only-of-type {\n",
       "        vertical-align: middle;\n",
       "    }\n",
       "\n",
       "    .dataframe tbody tr th {\n",
       "        vertical-align: top;\n",
       "    }\n",
       "\n",
       "    .dataframe thead th {\n",
       "        text-align: right;\n",
       "    }\n",
       "</style>\n",
       "<table border=\"1\" class=\"dataframe\">\n",
       "  <thead>\n",
       "    <tr style=\"text-align: right;\">\n",
       "      <th></th>\n",
       "      <th>Open</th>\n",
       "      <th>High</th>\n",
       "      <th>Low</th>\n",
       "      <th>Close</th>\n",
       "      <th>Adj Close</th>\n",
       "      <th>Volume</th>\n",
       "      <th>year</th>\n",
       "    </tr>\n",
       "    <tr>\n",
       "      <th>Date</th>\n",
       "      <th></th>\n",
       "      <th></th>\n",
       "      <th></th>\n",
       "      <th></th>\n",
       "      <th></th>\n",
       "      <th></th>\n",
       "      <th></th>\n",
       "    </tr>\n",
       "  </thead>\n",
       "  <tbody>\n",
       "    <tr>\n",
       "      <th>2000-03-31</th>\n",
       "      <td>5688.750000</td>\n",
       "      <td>5831.718750</td>\n",
       "      <td>5542.343750</td>\n",
       "      <td>5677.187500</td>\n",
       "      <td>4194.782784</td>\n",
       "      <td>5.114406e+07</td>\n",
       "      <td>2000.0</td>\n",
       "    </tr>\n",
       "    <tr>\n",
       "      <th>2000-06-30</th>\n",
       "      <td>6562.769231</td>\n",
       "      <td>6726.000000</td>\n",
       "      <td>6422.923077</td>\n",
       "      <td>6553.384615</td>\n",
       "      <td>4842.190708</td>\n",
       "      <td>4.471792e+07</td>\n",
       "      <td>2000.0</td>\n",
       "    </tr>\n",
       "    <tr>\n",
       "      <th>2000-09-30</th>\n",
       "      <td>5934.000000</td>\n",
       "      <td>6033.692308</td>\n",
       "      <td>5807.692308</td>\n",
       "      <td>5910.923077</td>\n",
       "      <td>4367.486144</td>\n",
       "      <td>4.556308e+07</td>\n",
       "      <td>2000.0</td>\n",
       "    </tr>\n",
       "    <tr>\n",
       "      <th>2000-12-31</th>\n",
       "      <td>3299.846154</td>\n",
       "      <td>3387.846154</td>\n",
       "      <td>3224.000000</td>\n",
       "      <td>3309.692308</td>\n",
       "      <td>2445.478591</td>\n",
       "      <td>6.171331e+07</td>\n",
       "      <td>2000.0</td>\n",
       "    </tr>\n",
       "    <tr>\n",
       "      <th>2001-03-31</th>\n",
       "      <td>3975.538462</td>\n",
       "      <td>4055.538462</td>\n",
       "      <td>3912.615385</td>\n",
       "      <td>3990.000000</td>\n",
       "      <td>2948.146991</td>\n",
       "      <td>3.713292e+07</td>\n",
       "      <td>2001.0</td>\n",
       "    </tr>\n",
       "    <tr>\n",
       "      <th>...</th>\n",
       "      <td>...</td>\n",
       "      <td>...</td>\n",
       "      <td>...</td>\n",
       "      <td>...</td>\n",
       "      <td>...</td>\n",
       "      <td>...</td>\n",
       "      <td>...</td>\n",
       "    </tr>\n",
       "    <tr>\n",
       "      <th>2022-12-31</th>\n",
       "      <td>59040.322581</td>\n",
       "      <td>59601.612903</td>\n",
       "      <td>58514.516129</td>\n",
       "      <td>59067.741935</td>\n",
       "      <td>58084.043095</td>\n",
       "      <td>1.373811e+07</td>\n",
       "      <td>2022.0</td>\n",
       "    </tr>\n",
       "    <tr>\n",
       "      <th>2023-03-31</th>\n",
       "      <td>61414.516129</td>\n",
       "      <td>61846.774194</td>\n",
       "      <td>60827.419355</td>\n",
       "      <td>61322.580645</td>\n",
       "      <td>60678.514995</td>\n",
       "      <td>8.145096e+06</td>\n",
       "      <td>2023.0</td>\n",
       "    </tr>\n",
       "    <tr>\n",
       "      <th>2023-06-30</th>\n",
       "      <td>67936.065574</td>\n",
       "      <td>68337.704918</td>\n",
       "      <td>67354.098361</td>\n",
       "      <td>67873.770492</td>\n",
       "      <td>67548.507364</td>\n",
       "      <td>1.353320e+07</td>\n",
       "      <td>2023.0</td>\n",
       "    </tr>\n",
       "    <tr>\n",
       "      <th>2023-09-30</th>\n",
       "      <td>69772.580645</td>\n",
       "      <td>70319.354839</td>\n",
       "      <td>69156.451613</td>\n",
       "      <td>69687.096774</td>\n",
       "      <td>69687.096774</td>\n",
       "      <td>1.363359e+07</td>\n",
       "      <td>2023.0</td>\n",
       "    </tr>\n",
       "    <tr>\n",
       "      <th>2023-12-31</th>\n",
       "      <td>70714.035088</td>\n",
       "      <td>71217.543860</td>\n",
       "      <td>70214.035088</td>\n",
       "      <td>70712.280702</td>\n",
       "      <td>70712.280702</td>\n",
       "      <td>1.346328e+07</td>\n",
       "      <td>2023.0</td>\n",
       "    </tr>\n",
       "  </tbody>\n",
       "</table>\n",
       "<p>96 rows × 7 columns</p>\n",
       "</div>"
      ],
      "text/plain": [
       "                    Open          High           Low         Close  \\\n",
       "Date                                                                 \n",
       "2000-03-31   5688.750000   5831.718750   5542.343750   5677.187500   \n",
       "2000-06-30   6562.769231   6726.000000   6422.923077   6553.384615   \n",
       "2000-09-30   5934.000000   6033.692308   5807.692308   5910.923077   \n",
       "2000-12-31   3299.846154   3387.846154   3224.000000   3309.692308   \n",
       "2001-03-31   3975.538462   4055.538462   3912.615385   3990.000000   \n",
       "...                  ...           ...           ...           ...   \n",
       "2022-12-31  59040.322581  59601.612903  58514.516129  59067.741935   \n",
       "2023-03-31  61414.516129  61846.774194  60827.419355  61322.580645   \n",
       "2023-06-30  67936.065574  68337.704918  67354.098361  67873.770492   \n",
       "2023-09-30  69772.580645  70319.354839  69156.451613  69687.096774   \n",
       "2023-12-31  70714.035088  71217.543860  70214.035088  70712.280702   \n",
       "\n",
       "               Adj Close        Volume    year  \n",
       "Date                                            \n",
       "2000-03-31   4194.782784  5.114406e+07  2000.0  \n",
       "2000-06-30   4842.190708  4.471792e+07  2000.0  \n",
       "2000-09-30   4367.486144  4.556308e+07  2000.0  \n",
       "2000-12-31   2445.478591  6.171331e+07  2000.0  \n",
       "2001-03-31   2948.146991  3.713292e+07  2001.0  \n",
       "...                  ...           ...     ...  \n",
       "2022-12-31  58084.043095  1.373811e+07  2022.0  \n",
       "2023-03-31  60678.514995  8.145096e+06  2023.0  \n",
       "2023-06-30  67548.507364  1.353320e+07  2023.0  \n",
       "2023-09-30  69687.096774  1.363359e+07  2023.0  \n",
       "2023-12-31  70712.280702  1.346328e+07  2023.0  \n",
       "\n",
       "[96 rows x 7 columns]"
      ]
     },
     "execution_count": 109,
     "metadata": {},
     "output_type": "execute_result"
    }
   ],
   "source": [
    "sdf.resample(rule='Q').mean()"
   ]
  },
  {
   "cell_type": "code",
   "execution_count": 110,
   "metadata": {
    "ExecuteTime": {
     "end_time": "2023-11-21T13:48:35.217003Z",
     "start_time": "2023-11-21T13:48:35.195062Z"
    }
   },
   "outputs": [
    {
     "data": {
      "text/html": [
       "<div>\n",
       "<style scoped>\n",
       "    .dataframe tbody tr th:only-of-type {\n",
       "        vertical-align: middle;\n",
       "    }\n",
       "\n",
       "    .dataframe tbody tr th {\n",
       "        vertical-align: top;\n",
       "    }\n",
       "\n",
       "    .dataframe thead th {\n",
       "        text-align: right;\n",
       "    }\n",
       "</style>\n",
       "<table border=\"1\" class=\"dataframe\">\n",
       "  <thead>\n",
       "    <tr style=\"text-align: right;\">\n",
       "      <th></th>\n",
       "      <th>Open</th>\n",
       "      <th>High</th>\n",
       "      <th>Low</th>\n",
       "      <th>Close</th>\n",
       "      <th>Adj Close</th>\n",
       "      <th>Volume</th>\n",
       "      <th>year</th>\n",
       "    </tr>\n",
       "    <tr>\n",
       "      <th>Date</th>\n",
       "      <th></th>\n",
       "      <th></th>\n",
       "      <th></th>\n",
       "      <th></th>\n",
       "      <th></th>\n",
       "      <th></th>\n",
       "      <th></th>\n",
       "    </tr>\n",
       "  </thead>\n",
       "  <tbody>\n",
       "    <tr>\n",
       "      <th>2000-01-31</th>\n",
       "      <td>5750.500000</td>\n",
       "      <td>5877.000000</td>\n",
       "      <td>5647.500000</td>\n",
       "      <td>5763.500000</td>\n",
       "      <td>4258.557825</td>\n",
       "      <td>4.512675e+07</td>\n",
       "      <td>2000.0</td>\n",
       "    </tr>\n",
       "    <tr>\n",
       "      <th>2000-02-29</th>\n",
       "      <td>5278.571429</td>\n",
       "      <td>5398.095238</td>\n",
       "      <td>5129.523810</td>\n",
       "      <td>5241.904762</td>\n",
       "      <td>3873.159145</td>\n",
       "      <td>5.201405e+07</td>\n",
       "      <td>2000.0</td>\n",
       "    </tr>\n",
       "    <tr>\n",
       "      <th>2000-03-31</th>\n",
       "      <td>6009.565217</td>\n",
       "      <td>6188.260870</td>\n",
       "      <td>5827.826087</td>\n",
       "      <td>5999.565217</td>\n",
       "      <td>4432.982592</td>\n",
       "      <td>5.558217e+07</td>\n",
       "      <td>2000.0</td>\n",
       "    </tr>\n",
       "    <tr>\n",
       "      <th>2000-04-30</th>\n",
       "      <td>6399.000000</td>\n",
       "      <td>6559.500000</td>\n",
       "      <td>6232.500000</td>\n",
       "      <td>6356.500000</td>\n",
       "      <td>4696.715820</td>\n",
       "      <td>4.375625e+07</td>\n",
       "      <td>2000.0</td>\n",
       "    </tr>\n",
       "    <tr>\n",
       "      <th>2000-05-31</th>\n",
       "      <td>6282.608696</td>\n",
       "      <td>6436.521739</td>\n",
       "      <td>6181.739130</td>\n",
       "      <td>6286.521739</td>\n",
       "      <td>4645.009935</td>\n",
       "      <td>4.119413e+07</td>\n",
       "      <td>2000.0</td>\n",
       "    </tr>\n",
       "    <tr>\n",
       "      <th>...</th>\n",
       "      <td>...</td>\n",
       "      <td>...</td>\n",
       "      <td>...</td>\n",
       "      <td>...</td>\n",
       "      <td>...</td>\n",
       "      <td>...</td>\n",
       "      <td>...</td>\n",
       "    </tr>\n",
       "    <tr>\n",
       "      <th>2023-08-31</th>\n",
       "      <td>67790.909091</td>\n",
       "      <td>68286.363636</td>\n",
       "      <td>67277.272727</td>\n",
       "      <td>67686.363636</td>\n",
       "      <td>67686.363636</td>\n",
       "      <td>1.174840e+07</td>\n",
       "      <td>2023.0</td>\n",
       "    </tr>\n",
       "    <tr>\n",
       "      <th>2023-09-30</th>\n",
       "      <td>70157.894737</td>\n",
       "      <td>70784.210526</td>\n",
       "      <td>69521.052632</td>\n",
       "      <td>70168.421053</td>\n",
       "      <td>70168.421053</td>\n",
       "      <td>1.492286e+07</td>\n",
       "      <td>2023.0</td>\n",
       "    </tr>\n",
       "    <tr>\n",
       "      <th>2023-10-31</th>\n",
       "      <td>67947.368421</td>\n",
       "      <td>68615.789474</td>\n",
       "      <td>67405.263158</td>\n",
       "      <td>67910.526316</td>\n",
       "      <td>67910.526316</td>\n",
       "      <td>1.526738e+07</td>\n",
       "      <td>2023.0</td>\n",
       "    </tr>\n",
       "    <tr>\n",
       "      <th>2023-11-30</th>\n",
       "      <td>71286.363636</td>\n",
       "      <td>71809.090909</td>\n",
       "      <td>70850.000000</td>\n",
       "      <td>71409.090909</td>\n",
       "      <td>71409.090909</td>\n",
       "      <td>1.242980e+07</td>\n",
       "      <td>2023.0</td>\n",
       "    </tr>\n",
       "    <tr>\n",
       "      <th>2023-12-31</th>\n",
       "      <td>73212.500000</td>\n",
       "      <td>73493.750000</td>\n",
       "      <td>72675.000000</td>\n",
       "      <td>73081.250000</td>\n",
       "      <td>73081.250000</td>\n",
       "      <td>1.274194e+07</td>\n",
       "      <td>2023.0</td>\n",
       "    </tr>\n",
       "  </tbody>\n",
       "</table>\n",
       "<p>288 rows × 7 columns</p>\n",
       "</div>"
      ],
      "text/plain": [
       "                    Open          High           Low         Close  \\\n",
       "Date                                                                 \n",
       "2000-01-31   5750.500000   5877.000000   5647.500000   5763.500000   \n",
       "2000-02-29   5278.571429   5398.095238   5129.523810   5241.904762   \n",
       "2000-03-31   6009.565217   6188.260870   5827.826087   5999.565217   \n",
       "2000-04-30   6399.000000   6559.500000   6232.500000   6356.500000   \n",
       "2000-05-31   6282.608696   6436.521739   6181.739130   6286.521739   \n",
       "...                  ...           ...           ...           ...   \n",
       "2023-08-31  67790.909091  68286.363636  67277.272727  67686.363636   \n",
       "2023-09-30  70157.894737  70784.210526  69521.052632  70168.421053   \n",
       "2023-10-31  67947.368421  68615.789474  67405.263158  67910.526316   \n",
       "2023-11-30  71286.363636  71809.090909  70850.000000  71409.090909   \n",
       "2023-12-31  73212.500000  73493.750000  72675.000000  73081.250000   \n",
       "\n",
       "               Adj Close        Volume    year  \n",
       "Date                                            \n",
       "2000-01-31   4258.557825  4.512675e+07  2000.0  \n",
       "2000-02-29   3873.159145  5.201405e+07  2000.0  \n",
       "2000-03-31   4432.982592  5.558217e+07  2000.0  \n",
       "2000-04-30   4696.715820  4.375625e+07  2000.0  \n",
       "2000-05-31   4645.009935  4.119413e+07  2000.0  \n",
       "...                  ...           ...     ...  \n",
       "2023-08-31  67686.363636  1.174840e+07  2023.0  \n",
       "2023-09-30  70168.421053  1.492286e+07  2023.0  \n",
       "2023-10-31  67910.526316  1.526738e+07  2023.0  \n",
       "2023-11-30  71409.090909  1.242980e+07  2023.0  \n",
       "2023-12-31  73081.250000  1.274194e+07  2023.0  \n",
       "\n",
       "[288 rows x 7 columns]"
      ]
     },
     "execution_count": 110,
     "metadata": {},
     "output_type": "execute_result"
    }
   ],
   "source": [
    "sdf.resample(rule='M').mean()"
   ]
  },
  {
   "cell_type": "code",
   "execution_count": 111,
   "metadata": {
    "ExecuteTime": {
     "end_time": "2023-11-21T13:48:38.171121Z",
     "start_time": "2023-11-21T13:48:38.130170Z"
    }
   },
   "outputs": [
    {
     "data": {
      "text/html": [
       "<div>\n",
       "<style scoped>\n",
       "    .dataframe tbody tr th:only-of-type {\n",
       "        vertical-align: middle;\n",
       "    }\n",
       "\n",
       "    .dataframe tbody tr th {\n",
       "        vertical-align: top;\n",
       "    }\n",
       "\n",
       "    .dataframe thead th {\n",
       "        text-align: right;\n",
       "    }\n",
       "</style>\n",
       "<table border=\"1\" class=\"dataframe\">\n",
       "  <thead>\n",
       "    <tr style=\"text-align: right;\">\n",
       "      <th></th>\n",
       "      <th>Open</th>\n",
       "      <th>High</th>\n",
       "      <th>Low</th>\n",
       "      <th>Close</th>\n",
       "      <th>Adj Close</th>\n",
       "      <th>Volume</th>\n",
       "      <th>year</th>\n",
       "    </tr>\n",
       "    <tr>\n",
       "      <th>Date</th>\n",
       "      <th></th>\n",
       "      <th></th>\n",
       "      <th></th>\n",
       "      <th></th>\n",
       "      <th></th>\n",
       "      <th></th>\n",
       "      <th></th>\n",
       "    </tr>\n",
       "  </thead>\n",
       "  <tbody>\n",
       "    <tr>\n",
       "      <th>2000-01-09</th>\n",
       "      <td>5777.5</td>\n",
       "      <td>5905.0</td>\n",
       "      <td>5530.0</td>\n",
       "      <td>5712.5</td>\n",
       "      <td>4220.874695</td>\n",
       "      <td>60892500.0</td>\n",
       "      <td>2000.0</td>\n",
       "    </tr>\n",
       "    <tr>\n",
       "      <th>2000-01-16</th>\n",
       "      <td>5670.0</td>\n",
       "      <td>5846.0</td>\n",
       "      <td>5638.0</td>\n",
       "      <td>5760.0</td>\n",
       "      <td>4255.971484</td>\n",
       "      <td>45282000.0</td>\n",
       "      <td>2000.0</td>\n",
       "    </tr>\n",
       "    <tr>\n",
       "      <th>2000-01-23</th>\n",
       "      <td>5994.0</td>\n",
       "      <td>6080.0</td>\n",
       "      <td>5912.0</td>\n",
       "      <td>6016.0</td>\n",
       "      <td>4445.126758</td>\n",
       "      <td>43764000.0</td>\n",
       "      <td>2000.0</td>\n",
       "    </tr>\n",
       "    <tr>\n",
       "      <th>2000-01-30</th>\n",
       "      <td>5588.0</td>\n",
       "      <td>5712.0</td>\n",
       "      <td>5504.0</td>\n",
       "      <td>5592.0</td>\n",
       "      <td>4131.839063</td>\n",
       "      <td>34821000.0</td>\n",
       "      <td>2000.0</td>\n",
       "    </tr>\n",
       "    <tr>\n",
       "      <th>2000-02-06</th>\n",
       "      <td>5368.0</td>\n",
       "      <td>5474.0</td>\n",
       "      <td>5206.0</td>\n",
       "      <td>5282.0</td>\n",
       "      <td>3902.784424</td>\n",
       "      <td>63594000.0</td>\n",
       "      <td>2000.0</td>\n",
       "    </tr>\n",
       "    <tr>\n",
       "      <th>...</th>\n",
       "      <td>...</td>\n",
       "      <td>...</td>\n",
       "      <td>...</td>\n",
       "      <td>...</td>\n",
       "      <td>...</td>\n",
       "      <td>...</td>\n",
       "      <td>...</td>\n",
       "    </tr>\n",
       "    <tr>\n",
       "      <th>2023-11-26</th>\n",
       "      <td>72560.0</td>\n",
       "      <td>73040.0</td>\n",
       "      <td>72120.0</td>\n",
       "      <td>72480.0</td>\n",
       "      <td>72480.000000</td>\n",
       "      <td>8976096.0</td>\n",
       "      <td>2023.0</td>\n",
       "    </tr>\n",
       "    <tr>\n",
       "      <th>2023-12-03</th>\n",
       "      <td>72080.0</td>\n",
       "      <td>72580.0</td>\n",
       "      <td>71700.0</td>\n",
       "      <td>72300.0</td>\n",
       "      <td>72300.000000</td>\n",
       "      <td>11467173.8</td>\n",
       "      <td>2023.0</td>\n",
       "    </tr>\n",
       "    <tr>\n",
       "      <th>2023-12-10</th>\n",
       "      <td>72160.0</td>\n",
       "      <td>72420.0</td>\n",
       "      <td>71640.0</td>\n",
       "      <td>71920.0</td>\n",
       "      <td>71920.000000</td>\n",
       "      <td>10040703.2</td>\n",
       "      <td>2023.0</td>\n",
       "    </tr>\n",
       "    <tr>\n",
       "      <th>2023-12-17</th>\n",
       "      <td>73460.0</td>\n",
       "      <td>73660.0</td>\n",
       "      <td>72760.0</td>\n",
       "      <td>73140.0</td>\n",
       "      <td>73140.000000</td>\n",
       "      <td>15944956.0</td>\n",
       "      <td>2023.0</td>\n",
       "    </tr>\n",
       "    <tr>\n",
       "      <th>2023-12-24</th>\n",
       "      <td>74180.0</td>\n",
       "      <td>74600.0</td>\n",
       "      <td>73820.0</td>\n",
       "      <td>74400.0</td>\n",
       "      <td>74400.000000</td>\n",
       "      <td>12814297.4</td>\n",
       "      <td>2023.0</td>\n",
       "    </tr>\n",
       "  </tbody>\n",
       "</table>\n",
       "<p>1251 rows × 7 columns</p>\n",
       "</div>"
      ],
      "text/plain": [
       "               Open     High      Low    Close     Adj Close      Volume  \\\n",
       "Date                                                                       \n",
       "2000-01-09   5777.5   5905.0   5530.0   5712.5   4220.874695  60892500.0   \n",
       "2000-01-16   5670.0   5846.0   5638.0   5760.0   4255.971484  45282000.0   \n",
       "2000-01-23   5994.0   6080.0   5912.0   6016.0   4445.126758  43764000.0   \n",
       "2000-01-30   5588.0   5712.0   5504.0   5592.0   4131.839063  34821000.0   \n",
       "2000-02-06   5368.0   5474.0   5206.0   5282.0   3902.784424  63594000.0   \n",
       "...             ...      ...      ...      ...           ...         ...   \n",
       "2023-11-26  72560.0  73040.0  72120.0  72480.0  72480.000000   8976096.0   \n",
       "2023-12-03  72080.0  72580.0  71700.0  72300.0  72300.000000  11467173.8   \n",
       "2023-12-10  72160.0  72420.0  71640.0  71920.0  71920.000000  10040703.2   \n",
       "2023-12-17  73460.0  73660.0  72760.0  73140.0  73140.000000  15944956.0   \n",
       "2023-12-24  74180.0  74600.0  73820.0  74400.0  74400.000000  12814297.4   \n",
       "\n",
       "              year  \n",
       "Date                \n",
       "2000-01-09  2000.0  \n",
       "2000-01-16  2000.0  \n",
       "2000-01-23  2000.0  \n",
       "2000-01-30  2000.0  \n",
       "2000-02-06  2000.0  \n",
       "...            ...  \n",
       "2023-11-26  2023.0  \n",
       "2023-12-03  2023.0  \n",
       "2023-12-10  2023.0  \n",
       "2023-12-17  2023.0  \n",
       "2023-12-24  2023.0  \n",
       "\n",
       "[1251 rows x 7 columns]"
      ]
     },
     "execution_count": 111,
     "metadata": {},
     "output_type": "execute_result"
    }
   ],
   "source": [
    "# 주별, default 월-일, 요일구간을 정할 수 있다\n",
    "sdf.resample(rule='W').mean()"
   ]
  },
  {
   "cell_type": "code",
   "execution_count": 112,
   "metadata": {
    "ExecuteTime": {
     "end_time": "2023-11-21T13:49:04.685497Z",
     "start_time": "2023-11-21T13:49:04.666547Z"
    }
   },
   "outputs": [
    {
     "data": {
      "text/html": [
       "<div>\n",
       "<style scoped>\n",
       "    .dataframe tbody tr th:only-of-type {\n",
       "        vertical-align: middle;\n",
       "    }\n",
       "\n",
       "    .dataframe tbody tr th {\n",
       "        vertical-align: top;\n",
       "    }\n",
       "\n",
       "    .dataframe thead th {\n",
       "        text-align: right;\n",
       "    }\n",
       "</style>\n",
       "<table border=\"1\" class=\"dataframe\">\n",
       "  <thead>\n",
       "    <tr style=\"text-align: right;\">\n",
       "      <th></th>\n",
       "      <th>Open</th>\n",
       "      <th>High</th>\n",
       "      <th>Low</th>\n",
       "      <th>Close</th>\n",
       "      <th>Adj Close</th>\n",
       "      <th>Volume</th>\n",
       "      <th>year</th>\n",
       "    </tr>\n",
       "    <tr>\n",
       "      <th>Date</th>\n",
       "      <th></th>\n",
       "      <th></th>\n",
       "      <th></th>\n",
       "      <th></th>\n",
       "      <th></th>\n",
       "      <th></th>\n",
       "      <th></th>\n",
       "    </tr>\n",
       "  </thead>\n",
       "  <tbody>\n",
       "    <tr>\n",
       "      <th>2000-01-04</th>\n",
       "      <td>6000.0</td>\n",
       "      <td>6110.0</td>\n",
       "      <td>5660.0</td>\n",
       "      <td>6110.0</td>\n",
       "      <td>4514.582031</td>\n",
       "      <td>74195000.0</td>\n",
       "      <td>2000.0</td>\n",
       "    </tr>\n",
       "    <tr>\n",
       "      <th>2000-01-05</th>\n",
       "      <td>5800.0</td>\n",
       "      <td>6060.0</td>\n",
       "      <td>5520.0</td>\n",
       "      <td>5580.0</td>\n",
       "      <td>4122.971191</td>\n",
       "      <td>74680000.0</td>\n",
       "      <td>2000.0</td>\n",
       "    </tr>\n",
       "    <tr>\n",
       "      <th>2000-01-06</th>\n",
       "      <td>5750.0</td>\n",
       "      <td>5780.0</td>\n",
       "      <td>5580.0</td>\n",
       "      <td>5620.0</td>\n",
       "      <td>4152.527832</td>\n",
       "      <td>54390000.0</td>\n",
       "      <td>2000.0</td>\n",
       "    </tr>\n",
       "    <tr>\n",
       "      <th>2000-01-07</th>\n",
       "      <td>5560.0</td>\n",
       "      <td>5670.0</td>\n",
       "      <td>5360.0</td>\n",
       "      <td>5540.0</td>\n",
       "      <td>4093.417725</td>\n",
       "      <td>40305000.0</td>\n",
       "      <td>2000.0</td>\n",
       "    </tr>\n",
       "    <tr>\n",
       "      <th>2000-01-08</th>\n",
       "      <td>NaN</td>\n",
       "      <td>NaN</td>\n",
       "      <td>NaN</td>\n",
       "      <td>NaN</td>\n",
       "      <td>NaN</td>\n",
       "      <td>NaN</td>\n",
       "      <td>NaN</td>\n",
       "    </tr>\n",
       "    <tr>\n",
       "      <th>...</th>\n",
       "      <td>...</td>\n",
       "      <td>...</td>\n",
       "      <td>...</td>\n",
       "      <td>...</td>\n",
       "      <td>...</td>\n",
       "      <td>...</td>\n",
       "      <td>...</td>\n",
       "    </tr>\n",
       "    <tr>\n",
       "      <th>2023-12-18</th>\n",
       "      <td>73300.0</td>\n",
       "      <td>73400.0</td>\n",
       "      <td>72800.0</td>\n",
       "      <td>72900.0</td>\n",
       "      <td>72900.000000</td>\n",
       "      <td>9690551.0</td>\n",
       "      <td>2023.0</td>\n",
       "    </tr>\n",
       "    <tr>\n",
       "      <th>2023-12-19</th>\n",
       "      <td>73000.0</td>\n",
       "      <td>73400.0</td>\n",
       "      <td>72800.0</td>\n",
       "      <td>73400.0</td>\n",
       "      <td>73400.000000</td>\n",
       "      <td>8907632.0</td>\n",
       "      <td>2023.0</td>\n",
       "    </tr>\n",
       "    <tr>\n",
       "      <th>2023-12-20</th>\n",
       "      <td>74200.0</td>\n",
       "      <td>74900.0</td>\n",
       "      <td>73800.0</td>\n",
       "      <td>74800.0</td>\n",
       "      <td>74800.000000</td>\n",
       "      <td>16870156.0</td>\n",
       "      <td>2023.0</td>\n",
       "    </tr>\n",
       "    <tr>\n",
       "      <th>2023-12-21</th>\n",
       "      <td>74600.0</td>\n",
       "      <td>75000.0</td>\n",
       "      <td>74300.0</td>\n",
       "      <td>75000.0</td>\n",
       "      <td>75000.000000</td>\n",
       "      <td>13478766.0</td>\n",
       "      <td>2023.0</td>\n",
       "    </tr>\n",
       "    <tr>\n",
       "      <th>2023-12-22</th>\n",
       "      <td>75800.0</td>\n",
       "      <td>76300.0</td>\n",
       "      <td>75400.0</td>\n",
       "      <td>75900.0</td>\n",
       "      <td>75900.000000</td>\n",
       "      <td>15124382.0</td>\n",
       "      <td>2023.0</td>\n",
       "    </tr>\n",
       "  </tbody>\n",
       "</table>\n",
       "<p>8754 rows × 7 columns</p>\n",
       "</div>"
      ],
      "text/plain": [
       "               Open     High      Low    Close     Adj Close      Volume  \\\n",
       "Date                                                                       \n",
       "2000-01-04   6000.0   6110.0   5660.0   6110.0   4514.582031  74195000.0   \n",
       "2000-01-05   5800.0   6060.0   5520.0   5580.0   4122.971191  74680000.0   \n",
       "2000-01-06   5750.0   5780.0   5580.0   5620.0   4152.527832  54390000.0   \n",
       "2000-01-07   5560.0   5670.0   5360.0   5540.0   4093.417725  40305000.0   \n",
       "2000-01-08      NaN      NaN      NaN      NaN           NaN         NaN   \n",
       "...             ...      ...      ...      ...           ...         ...   \n",
       "2023-12-18  73300.0  73400.0  72800.0  72900.0  72900.000000   9690551.0   \n",
       "2023-12-19  73000.0  73400.0  72800.0  73400.0  73400.000000   8907632.0   \n",
       "2023-12-20  74200.0  74900.0  73800.0  74800.0  74800.000000  16870156.0   \n",
       "2023-12-21  74600.0  75000.0  74300.0  75000.0  75000.000000  13478766.0   \n",
       "2023-12-22  75800.0  76300.0  75400.0  75900.0  75900.000000  15124382.0   \n",
       "\n",
       "              year  \n",
       "Date                \n",
       "2000-01-04  2000.0  \n",
       "2000-01-05  2000.0  \n",
       "2000-01-06  2000.0  \n",
       "2000-01-07  2000.0  \n",
       "2000-01-08     NaN  \n",
       "...            ...  \n",
       "2023-12-18  2023.0  \n",
       "2023-12-19  2023.0  \n",
       "2023-12-20  2023.0  \n",
       "2023-12-21  2023.0  \n",
       "2023-12-22  2023.0  \n",
       "\n",
       "[8754 rows x 7 columns]"
      ]
     },
     "execution_count": 112,
     "metadata": {},
     "output_type": "execute_result"
    }
   ],
   "source": [
    "sdf.resample(rule='D').mean()"
   ]
  },
  {
   "cell_type": "code",
   "execution_count": 113,
   "metadata": {
    "ExecuteTime": {
     "end_time": "2023-11-21T13:50:48.293262Z",
     "start_time": "2023-11-21T13:50:48.274471Z"
    }
   },
   "outputs": [
    {
     "data": {
      "text/html": [
       "<div>\n",
       "<style scoped>\n",
       "    .dataframe tbody tr th:only-of-type {\n",
       "        vertical-align: middle;\n",
       "    }\n",
       "\n",
       "    .dataframe tbody tr th {\n",
       "        vertical-align: top;\n",
       "    }\n",
       "\n",
       "    .dataframe thead th {\n",
       "        text-align: right;\n",
       "    }\n",
       "</style>\n",
       "<table border=\"1\" class=\"dataframe\">\n",
       "  <thead>\n",
       "    <tr style=\"text-align: right;\">\n",
       "      <th></th>\n",
       "      <th>Open</th>\n",
       "      <th>High</th>\n",
       "      <th>Low</th>\n",
       "      <th>Close</th>\n",
       "      <th>Adj Close</th>\n",
       "      <th>Volume</th>\n",
       "      <th>year</th>\n",
       "    </tr>\n",
       "    <tr>\n",
       "      <th>Date</th>\n",
       "      <th></th>\n",
       "      <th></th>\n",
       "      <th></th>\n",
       "      <th></th>\n",
       "      <th></th>\n",
       "      <th></th>\n",
       "      <th></th>\n",
       "    </tr>\n",
       "  </thead>\n",
       "  <tbody>\n",
       "    <tr>\n",
       "      <th>2023-12-01 00:00:00</th>\n",
       "      <td>72400.0</td>\n",
       "      <td>72500.0</td>\n",
       "      <td>71700.0</td>\n",
       "      <td>72000.0</td>\n",
       "      <td>72000.0</td>\n",
       "      <td>9871284.0</td>\n",
       "      <td>2023.0</td>\n",
       "    </tr>\n",
       "    <tr>\n",
       "      <th>2023-12-01 01:00:00</th>\n",
       "      <td>NaN</td>\n",
       "      <td>NaN</td>\n",
       "      <td>NaN</td>\n",
       "      <td>NaN</td>\n",
       "      <td>NaN</td>\n",
       "      <td>NaN</td>\n",
       "      <td>NaN</td>\n",
       "    </tr>\n",
       "    <tr>\n",
       "      <th>2023-12-01 02:00:00</th>\n",
       "      <td>NaN</td>\n",
       "      <td>NaN</td>\n",
       "      <td>NaN</td>\n",
       "      <td>NaN</td>\n",
       "      <td>NaN</td>\n",
       "      <td>NaN</td>\n",
       "      <td>NaN</td>\n",
       "    </tr>\n",
       "    <tr>\n",
       "      <th>2023-12-01 03:00:00</th>\n",
       "      <td>NaN</td>\n",
       "      <td>NaN</td>\n",
       "      <td>NaN</td>\n",
       "      <td>NaN</td>\n",
       "      <td>NaN</td>\n",
       "      <td>NaN</td>\n",
       "      <td>NaN</td>\n",
       "    </tr>\n",
       "    <tr>\n",
       "      <th>2023-12-01 04:00:00</th>\n",
       "      <td>NaN</td>\n",
       "      <td>NaN</td>\n",
       "      <td>NaN</td>\n",
       "      <td>NaN</td>\n",
       "      <td>NaN</td>\n",
       "      <td>NaN</td>\n",
       "      <td>NaN</td>\n",
       "    </tr>\n",
       "    <tr>\n",
       "      <th>...</th>\n",
       "      <td>...</td>\n",
       "      <td>...</td>\n",
       "      <td>...</td>\n",
       "      <td>...</td>\n",
       "      <td>...</td>\n",
       "      <td>...</td>\n",
       "      <td>...</td>\n",
       "    </tr>\n",
       "    <tr>\n",
       "      <th>2023-12-21 20:00:00</th>\n",
       "      <td>NaN</td>\n",
       "      <td>NaN</td>\n",
       "      <td>NaN</td>\n",
       "      <td>NaN</td>\n",
       "      <td>NaN</td>\n",
       "      <td>NaN</td>\n",
       "      <td>NaN</td>\n",
       "    </tr>\n",
       "    <tr>\n",
       "      <th>2023-12-21 21:00:00</th>\n",
       "      <td>NaN</td>\n",
       "      <td>NaN</td>\n",
       "      <td>NaN</td>\n",
       "      <td>NaN</td>\n",
       "      <td>NaN</td>\n",
       "      <td>NaN</td>\n",
       "      <td>NaN</td>\n",
       "    </tr>\n",
       "    <tr>\n",
       "      <th>2023-12-21 22:00:00</th>\n",
       "      <td>NaN</td>\n",
       "      <td>NaN</td>\n",
       "      <td>NaN</td>\n",
       "      <td>NaN</td>\n",
       "      <td>NaN</td>\n",
       "      <td>NaN</td>\n",
       "      <td>NaN</td>\n",
       "    </tr>\n",
       "    <tr>\n",
       "      <th>2023-12-21 23:00:00</th>\n",
       "      <td>NaN</td>\n",
       "      <td>NaN</td>\n",
       "      <td>NaN</td>\n",
       "      <td>NaN</td>\n",
       "      <td>NaN</td>\n",
       "      <td>NaN</td>\n",
       "      <td>NaN</td>\n",
       "    </tr>\n",
       "    <tr>\n",
       "      <th>2023-12-22 00:00:00</th>\n",
       "      <td>75800.0</td>\n",
       "      <td>76300.0</td>\n",
       "      <td>75400.0</td>\n",
       "      <td>75900.0</td>\n",
       "      <td>75900.0</td>\n",
       "      <td>15124382.0</td>\n",
       "      <td>2023.0</td>\n",
       "    </tr>\n",
       "  </tbody>\n",
       "</table>\n",
       "<p>505 rows × 7 columns</p>\n",
       "</div>"
      ],
      "text/plain": [
       "                        Open     High      Low    Close  Adj Close  \\\n",
       "Date                                                                 \n",
       "2023-12-01 00:00:00  72400.0  72500.0  71700.0  72000.0    72000.0   \n",
       "2023-12-01 01:00:00      NaN      NaN      NaN      NaN        NaN   \n",
       "2023-12-01 02:00:00      NaN      NaN      NaN      NaN        NaN   \n",
       "2023-12-01 03:00:00      NaN      NaN      NaN      NaN        NaN   \n",
       "2023-12-01 04:00:00      NaN      NaN      NaN      NaN        NaN   \n",
       "...                      ...      ...      ...      ...        ...   \n",
       "2023-12-21 20:00:00      NaN      NaN      NaN      NaN        NaN   \n",
       "2023-12-21 21:00:00      NaN      NaN      NaN      NaN        NaN   \n",
       "2023-12-21 22:00:00      NaN      NaN      NaN      NaN        NaN   \n",
       "2023-12-21 23:00:00      NaN      NaN      NaN      NaN        NaN   \n",
       "2023-12-22 00:00:00  75800.0  76300.0  75400.0  75900.0    75900.0   \n",
       "\n",
       "                         Volume    year  \n",
       "Date                                     \n",
       "2023-12-01 00:00:00   9871284.0  2023.0  \n",
       "2023-12-01 01:00:00         NaN     NaN  \n",
       "2023-12-01 02:00:00         NaN     NaN  \n",
       "2023-12-01 03:00:00         NaN     NaN  \n",
       "2023-12-01 04:00:00         NaN     NaN  \n",
       "...                         ...     ...  \n",
       "2023-12-21 20:00:00         NaN     NaN  \n",
       "2023-12-21 21:00:00         NaN     NaN  \n",
       "2023-12-21 22:00:00         NaN     NaN  \n",
       "2023-12-21 23:00:00         NaN     NaN  \n",
       "2023-12-22 00:00:00  15124382.0  2023.0  \n",
       "\n",
       "[505 rows x 7 columns]"
      ]
     },
     "execution_count": 113,
     "metadata": {},
     "output_type": "execute_result"
    }
   ],
   "source": [
    "sdf.loc['2023-12'].resample(rule='H').mean()"
   ]
  },
  {
   "cell_type": "code",
   "execution_count": 114,
   "metadata": {
    "ExecuteTime": {
     "end_time": "2023-11-21T13:50:57.623446Z",
     "start_time": "2023-11-21T13:50:57.602240Z"
    }
   },
   "outputs": [
    {
     "data": {
      "text/html": [
       "<div>\n",
       "<style scoped>\n",
       "    .dataframe tbody tr th:only-of-type {\n",
       "        vertical-align: middle;\n",
       "    }\n",
       "\n",
       "    .dataframe tbody tr th {\n",
       "        vertical-align: top;\n",
       "    }\n",
       "\n",
       "    .dataframe thead th {\n",
       "        text-align: right;\n",
       "    }\n",
       "</style>\n",
       "<table border=\"1\" class=\"dataframe\">\n",
       "  <thead>\n",
       "    <tr style=\"text-align: right;\">\n",
       "      <th></th>\n",
       "      <th>Open</th>\n",
       "      <th>High</th>\n",
       "      <th>Low</th>\n",
       "      <th>Close</th>\n",
       "      <th>Adj Close</th>\n",
       "      <th>Volume</th>\n",
       "      <th>year</th>\n",
       "    </tr>\n",
       "    <tr>\n",
       "      <th>Date</th>\n",
       "      <th></th>\n",
       "      <th></th>\n",
       "      <th></th>\n",
       "      <th></th>\n",
       "      <th></th>\n",
       "      <th></th>\n",
       "      <th></th>\n",
       "    </tr>\n",
       "  </thead>\n",
       "  <tbody>\n",
       "    <tr>\n",
       "      <th>2023-12-01 00:00:00</th>\n",
       "      <td>72400.0</td>\n",
       "      <td>72500.0</td>\n",
       "      <td>71700.0</td>\n",
       "      <td>72000.0</td>\n",
       "      <td>72000.0</td>\n",
       "      <td>9871284.0</td>\n",
       "      <td>2023.0</td>\n",
       "    </tr>\n",
       "    <tr>\n",
       "      <th>2023-12-01 00:01:00</th>\n",
       "      <td>NaN</td>\n",
       "      <td>NaN</td>\n",
       "      <td>NaN</td>\n",
       "      <td>NaN</td>\n",
       "      <td>NaN</td>\n",
       "      <td>NaN</td>\n",
       "      <td>NaN</td>\n",
       "    </tr>\n",
       "    <tr>\n",
       "      <th>2023-12-01 00:02:00</th>\n",
       "      <td>NaN</td>\n",
       "      <td>NaN</td>\n",
       "      <td>NaN</td>\n",
       "      <td>NaN</td>\n",
       "      <td>NaN</td>\n",
       "      <td>NaN</td>\n",
       "      <td>NaN</td>\n",
       "    </tr>\n",
       "    <tr>\n",
       "      <th>2023-12-01 00:03:00</th>\n",
       "      <td>NaN</td>\n",
       "      <td>NaN</td>\n",
       "      <td>NaN</td>\n",
       "      <td>NaN</td>\n",
       "      <td>NaN</td>\n",
       "      <td>NaN</td>\n",
       "      <td>NaN</td>\n",
       "    </tr>\n",
       "    <tr>\n",
       "      <th>2023-12-01 00:04:00</th>\n",
       "      <td>NaN</td>\n",
       "      <td>NaN</td>\n",
       "      <td>NaN</td>\n",
       "      <td>NaN</td>\n",
       "      <td>NaN</td>\n",
       "      <td>NaN</td>\n",
       "      <td>NaN</td>\n",
       "    </tr>\n",
       "    <tr>\n",
       "      <th>...</th>\n",
       "      <td>...</td>\n",
       "      <td>...</td>\n",
       "      <td>...</td>\n",
       "      <td>...</td>\n",
       "      <td>...</td>\n",
       "      <td>...</td>\n",
       "      <td>...</td>\n",
       "    </tr>\n",
       "    <tr>\n",
       "      <th>2023-12-21 23:56:00</th>\n",
       "      <td>NaN</td>\n",
       "      <td>NaN</td>\n",
       "      <td>NaN</td>\n",
       "      <td>NaN</td>\n",
       "      <td>NaN</td>\n",
       "      <td>NaN</td>\n",
       "      <td>NaN</td>\n",
       "    </tr>\n",
       "    <tr>\n",
       "      <th>2023-12-21 23:57:00</th>\n",
       "      <td>NaN</td>\n",
       "      <td>NaN</td>\n",
       "      <td>NaN</td>\n",
       "      <td>NaN</td>\n",
       "      <td>NaN</td>\n",
       "      <td>NaN</td>\n",
       "      <td>NaN</td>\n",
       "    </tr>\n",
       "    <tr>\n",
       "      <th>2023-12-21 23:58:00</th>\n",
       "      <td>NaN</td>\n",
       "      <td>NaN</td>\n",
       "      <td>NaN</td>\n",
       "      <td>NaN</td>\n",
       "      <td>NaN</td>\n",
       "      <td>NaN</td>\n",
       "      <td>NaN</td>\n",
       "    </tr>\n",
       "    <tr>\n",
       "      <th>2023-12-21 23:59:00</th>\n",
       "      <td>NaN</td>\n",
       "      <td>NaN</td>\n",
       "      <td>NaN</td>\n",
       "      <td>NaN</td>\n",
       "      <td>NaN</td>\n",
       "      <td>NaN</td>\n",
       "      <td>NaN</td>\n",
       "    </tr>\n",
       "    <tr>\n",
       "      <th>2023-12-22 00:00:00</th>\n",
       "      <td>75800.0</td>\n",
       "      <td>76300.0</td>\n",
       "      <td>75400.0</td>\n",
       "      <td>75900.0</td>\n",
       "      <td>75900.0</td>\n",
       "      <td>15124382.0</td>\n",
       "      <td>2023.0</td>\n",
       "    </tr>\n",
       "  </tbody>\n",
       "</table>\n",
       "<p>30241 rows × 7 columns</p>\n",
       "</div>"
      ],
      "text/plain": [
       "                        Open     High      Low    Close  Adj Close  \\\n",
       "Date                                                                 \n",
       "2023-12-01 00:00:00  72400.0  72500.0  71700.0  72000.0    72000.0   \n",
       "2023-12-01 00:01:00      NaN      NaN      NaN      NaN        NaN   \n",
       "2023-12-01 00:02:00      NaN      NaN      NaN      NaN        NaN   \n",
       "2023-12-01 00:03:00      NaN      NaN      NaN      NaN        NaN   \n",
       "2023-12-01 00:04:00      NaN      NaN      NaN      NaN        NaN   \n",
       "...                      ...      ...      ...      ...        ...   \n",
       "2023-12-21 23:56:00      NaN      NaN      NaN      NaN        NaN   \n",
       "2023-12-21 23:57:00      NaN      NaN      NaN      NaN        NaN   \n",
       "2023-12-21 23:58:00      NaN      NaN      NaN      NaN        NaN   \n",
       "2023-12-21 23:59:00      NaN      NaN      NaN      NaN        NaN   \n",
       "2023-12-22 00:00:00  75800.0  76300.0  75400.0  75900.0    75900.0   \n",
       "\n",
       "                         Volume    year  \n",
       "Date                                     \n",
       "2023-12-01 00:00:00   9871284.0  2023.0  \n",
       "2023-12-01 00:01:00         NaN     NaN  \n",
       "2023-12-01 00:02:00         NaN     NaN  \n",
       "2023-12-01 00:03:00         NaN     NaN  \n",
       "2023-12-01 00:04:00         NaN     NaN  \n",
       "...                         ...     ...  \n",
       "2023-12-21 23:56:00         NaN     NaN  \n",
       "2023-12-21 23:57:00         NaN     NaN  \n",
       "2023-12-21 23:58:00         NaN     NaN  \n",
       "2023-12-21 23:59:00         NaN     NaN  \n",
       "2023-12-22 00:00:00  15124382.0  2023.0  \n",
       "\n",
       "[30241 rows x 7 columns]"
      ]
     },
     "execution_count": 114,
     "metadata": {},
     "output_type": "execute_result"
    }
   ],
   "source": [
    "sdf.loc['2023-12'].resample(rule='T').mean()"
   ]
  },
  {
   "cell_type": "code",
   "execution_count": 115,
   "metadata": {
    "ExecuteTime": {
     "end_time": "2023-11-21T13:51:02.366206Z",
     "start_time": "2023-11-21T13:51:02.234569Z"
    }
   },
   "outputs": [
    {
     "data": {
      "text/html": [
       "<div>\n",
       "<style scoped>\n",
       "    .dataframe tbody tr th:only-of-type {\n",
       "        vertical-align: middle;\n",
       "    }\n",
       "\n",
       "    .dataframe tbody tr th {\n",
       "        vertical-align: top;\n",
       "    }\n",
       "\n",
       "    .dataframe thead th {\n",
       "        text-align: right;\n",
       "    }\n",
       "</style>\n",
       "<table border=\"1\" class=\"dataframe\">\n",
       "  <thead>\n",
       "    <tr style=\"text-align: right;\">\n",
       "      <th></th>\n",
       "      <th>Open</th>\n",
       "      <th>High</th>\n",
       "      <th>Low</th>\n",
       "      <th>Close</th>\n",
       "      <th>Adj Close</th>\n",
       "      <th>Volume</th>\n",
       "      <th>year</th>\n",
       "    </tr>\n",
       "    <tr>\n",
       "      <th>Date</th>\n",
       "      <th></th>\n",
       "      <th></th>\n",
       "      <th></th>\n",
       "      <th></th>\n",
       "      <th></th>\n",
       "      <th></th>\n",
       "      <th></th>\n",
       "    </tr>\n",
       "  </thead>\n",
       "  <tbody>\n",
       "    <tr>\n",
       "      <th>2023-12-01 00:00:00</th>\n",
       "      <td>72400.0</td>\n",
       "      <td>72500.0</td>\n",
       "      <td>71700.0</td>\n",
       "      <td>72000.0</td>\n",
       "      <td>72000.0</td>\n",
       "      <td>9871284.0</td>\n",
       "      <td>2023.0</td>\n",
       "    </tr>\n",
       "    <tr>\n",
       "      <th>2023-12-01 00:00:01</th>\n",
       "      <td>NaN</td>\n",
       "      <td>NaN</td>\n",
       "      <td>NaN</td>\n",
       "      <td>NaN</td>\n",
       "      <td>NaN</td>\n",
       "      <td>NaN</td>\n",
       "      <td>NaN</td>\n",
       "    </tr>\n",
       "    <tr>\n",
       "      <th>2023-12-01 00:00:02</th>\n",
       "      <td>NaN</td>\n",
       "      <td>NaN</td>\n",
       "      <td>NaN</td>\n",
       "      <td>NaN</td>\n",
       "      <td>NaN</td>\n",
       "      <td>NaN</td>\n",
       "      <td>NaN</td>\n",
       "    </tr>\n",
       "    <tr>\n",
       "      <th>2023-12-01 00:00:03</th>\n",
       "      <td>NaN</td>\n",
       "      <td>NaN</td>\n",
       "      <td>NaN</td>\n",
       "      <td>NaN</td>\n",
       "      <td>NaN</td>\n",
       "      <td>NaN</td>\n",
       "      <td>NaN</td>\n",
       "    </tr>\n",
       "    <tr>\n",
       "      <th>2023-12-01 00:00:04</th>\n",
       "      <td>NaN</td>\n",
       "      <td>NaN</td>\n",
       "      <td>NaN</td>\n",
       "      <td>NaN</td>\n",
       "      <td>NaN</td>\n",
       "      <td>NaN</td>\n",
       "      <td>NaN</td>\n",
       "    </tr>\n",
       "    <tr>\n",
       "      <th>...</th>\n",
       "      <td>...</td>\n",
       "      <td>...</td>\n",
       "      <td>...</td>\n",
       "      <td>...</td>\n",
       "      <td>...</td>\n",
       "      <td>...</td>\n",
       "      <td>...</td>\n",
       "    </tr>\n",
       "    <tr>\n",
       "      <th>2023-12-21 23:59:56</th>\n",
       "      <td>NaN</td>\n",
       "      <td>NaN</td>\n",
       "      <td>NaN</td>\n",
       "      <td>NaN</td>\n",
       "      <td>NaN</td>\n",
       "      <td>NaN</td>\n",
       "      <td>NaN</td>\n",
       "    </tr>\n",
       "    <tr>\n",
       "      <th>2023-12-21 23:59:57</th>\n",
       "      <td>NaN</td>\n",
       "      <td>NaN</td>\n",
       "      <td>NaN</td>\n",
       "      <td>NaN</td>\n",
       "      <td>NaN</td>\n",
       "      <td>NaN</td>\n",
       "      <td>NaN</td>\n",
       "    </tr>\n",
       "    <tr>\n",
       "      <th>2023-12-21 23:59:58</th>\n",
       "      <td>NaN</td>\n",
       "      <td>NaN</td>\n",
       "      <td>NaN</td>\n",
       "      <td>NaN</td>\n",
       "      <td>NaN</td>\n",
       "      <td>NaN</td>\n",
       "      <td>NaN</td>\n",
       "    </tr>\n",
       "    <tr>\n",
       "      <th>2023-12-21 23:59:59</th>\n",
       "      <td>NaN</td>\n",
       "      <td>NaN</td>\n",
       "      <td>NaN</td>\n",
       "      <td>NaN</td>\n",
       "      <td>NaN</td>\n",
       "      <td>NaN</td>\n",
       "      <td>NaN</td>\n",
       "    </tr>\n",
       "    <tr>\n",
       "      <th>2023-12-22 00:00:00</th>\n",
       "      <td>75800.0</td>\n",
       "      <td>76300.0</td>\n",
       "      <td>75400.0</td>\n",
       "      <td>75900.0</td>\n",
       "      <td>75900.0</td>\n",
       "      <td>15124382.0</td>\n",
       "      <td>2023.0</td>\n",
       "    </tr>\n",
       "  </tbody>\n",
       "</table>\n",
       "<p>1814401 rows × 7 columns</p>\n",
       "</div>"
      ],
      "text/plain": [
       "                        Open     High      Low    Close  Adj Close  \\\n",
       "Date                                                                 \n",
       "2023-12-01 00:00:00  72400.0  72500.0  71700.0  72000.0    72000.0   \n",
       "2023-12-01 00:00:01      NaN      NaN      NaN      NaN        NaN   \n",
       "2023-12-01 00:00:02      NaN      NaN      NaN      NaN        NaN   \n",
       "2023-12-01 00:00:03      NaN      NaN      NaN      NaN        NaN   \n",
       "2023-12-01 00:00:04      NaN      NaN      NaN      NaN        NaN   \n",
       "...                      ...      ...      ...      ...        ...   \n",
       "2023-12-21 23:59:56      NaN      NaN      NaN      NaN        NaN   \n",
       "2023-12-21 23:59:57      NaN      NaN      NaN      NaN        NaN   \n",
       "2023-12-21 23:59:58      NaN      NaN      NaN      NaN        NaN   \n",
       "2023-12-21 23:59:59      NaN      NaN      NaN      NaN        NaN   \n",
       "2023-12-22 00:00:00  75800.0  76300.0  75400.0  75900.0    75900.0   \n",
       "\n",
       "                         Volume    year  \n",
       "Date                                     \n",
       "2023-12-01 00:00:00   9871284.0  2023.0  \n",
       "2023-12-01 00:00:01         NaN     NaN  \n",
       "2023-12-01 00:00:02         NaN     NaN  \n",
       "2023-12-01 00:00:03         NaN     NaN  \n",
       "2023-12-01 00:00:04         NaN     NaN  \n",
       "...                         ...     ...  \n",
       "2023-12-21 23:59:56         NaN     NaN  \n",
       "2023-12-21 23:59:57         NaN     NaN  \n",
       "2023-12-21 23:59:58         NaN     NaN  \n",
       "2023-12-21 23:59:59         NaN     NaN  \n",
       "2023-12-22 00:00:00  15124382.0  2023.0  \n",
       "\n",
       "[1814401 rows x 7 columns]"
      ]
     },
     "execution_count": 115,
     "metadata": {},
     "output_type": "execute_result"
    }
   ],
   "source": [
    "sdf.loc['2023-12'].resample(rule='S').mean()"
   ]
  },
  {
   "cell_type": "markdown",
   "metadata": {},
   "source": [
    "## 연습문제 : 교통사고 데이터 분석\n",
    "1. 3개의 데이터를 병합하시오.   \n",
    "\n",
    "====이후문제는 병합한 데이터프레임을 이용 ===========\n",
    "\n",
    "2. 인덱스를 datetime 으로 만드시오.   \n",
    "\n",
    "3. 년도 및 월별, 분기별, 평균 사망자를 보여주시오.   \n",
    "\n",
    "4.  2016년 사고대비 사망율을 구하시오.   \n",
    "\n",
    "5. 2014년도 월별 사망, 부상 데이터를 그래프로 보여주시오.   \n",
    "\n",
    "6. 2015년 대비  사망이 가장 많이 증가한 2016년 도 월을 구하시오.   "
   ]
  },
  {
   "cell_type": "code",
   "execution_count": 36,
   "metadata": {},
   "outputs": [
    {
     "data": {
      "text/html": [
       "<div>\n",
       "<style scoped>\n",
       "    .dataframe tbody tr th:only-of-type {\n",
       "        vertical-align: middle;\n",
       "    }\n",
       "\n",
       "    .dataframe tbody tr th {\n",
       "        vertical-align: top;\n",
       "    }\n",
       "\n",
       "    .dataframe thead th {\n",
       "        text-align: right;\n",
       "    }\n",
       "</style>\n",
       "<table border=\"1\" class=\"dataframe\">\n",
       "  <thead>\n",
       "    <tr style=\"text-align: right;\">\n",
       "      <th></th>\n",
       "      <th>사고(건)</th>\n",
       "      <th>사망(명)</th>\n",
       "      <th>부상(명)</th>\n",
       "    </tr>\n",
       "    <tr>\n",
       "      <th>구분</th>\n",
       "      <th></th>\n",
       "      <th></th>\n",
       "      <th></th>\n",
       "    </tr>\n",
       "  </thead>\n",
       "  <tbody>\n",
       "    <tr>\n",
       "      <th>2014년1월</th>\n",
       "      <td>169</td>\n",
       "      <td>7</td>\n",
       "      <td>347</td>\n",
       "    </tr>\n",
       "    <tr>\n",
       "      <th>2014년2월</th>\n",
       "      <td>145</td>\n",
       "      <td>3</td>\n",
       "      <td>268</td>\n",
       "    </tr>\n",
       "    <tr>\n",
       "      <th>2014년3월</th>\n",
       "      <td>206</td>\n",
       "      <td>12</td>\n",
       "      <td>358</td>\n",
       "    </tr>\n",
       "    <tr>\n",
       "      <th>2014년4월</th>\n",
       "      <td>182</td>\n",
       "      <td>4</td>\n",
       "      <td>360</td>\n",
       "    </tr>\n",
       "    <tr>\n",
       "      <th>2014년5월</th>\n",
       "      <td>218</td>\n",
       "      <td>17</td>\n",
       "      <td>474</td>\n",
       "    </tr>\n",
       "  </tbody>\n",
       "</table>\n",
       "</div>"
      ],
      "text/plain": [
       "         사고(건)  사망(명)  부상(명)\n",
       "구분                          \n",
       "2014년1월    169      7    347\n",
       "2014년2월    145      3    268\n",
       "2014년3월    206     12    358\n",
       "2014년4월    182      4    360\n",
       "2014년5월    218     17    474"
      ]
     },
     "execution_count": 36,
     "metadata": {},
     "output_type": "execute_result"
    }
   ],
   "source": [
    "data_2014 = pd.read_csv('data/2014년 졸음운전 교통사고.csv', encoding='ANSI', index_col='구분')\n",
    "data_2015 = pd.read_csv('data/2015년 졸음운전 교통사고.csv', encoding='ANSI', index_col='구분')\n",
    "data_2016 = pd.read_csv('data/2016년 졸음운전 교통사고.csv', encoding='ANSI', index_col='구분')\n",
    "data_2014.head()"
   ]
  },
  {
   "cell_type": "code",
   "execution_count": 48,
   "metadata": {},
   "outputs": [
    {
     "ename": "KeyError",
     "evalue": "\"None of ['구분'] are in the columns\"",
     "output_type": "error",
     "traceback": [
      "\u001b[1;31m---------------------------------------------------------------------------\u001b[0m",
      "\u001b[1;31mKeyError\u001b[0m                                  Traceback (most recent call last)",
      "Cell \u001b[1;32mIn[48], line 1\u001b[0m\n\u001b[1;32m----> 1\u001b[0m data \u001b[38;5;241m=\u001b[39m pd\u001b[38;5;241m.\u001b[39mconcat([data_2014, data_2015, data_2016], axis\u001b[38;5;241m=\u001b[39m\u001b[38;5;241m0\u001b[39m)\u001b[38;5;241m.\u001b[39mset_index(\u001b[38;5;124m'\u001b[39m\u001b[38;5;124m구분\u001b[39m\u001b[38;5;124m'\u001b[39m)\n",
      "File \u001b[1;32m~\\anaconda3\\Lib\\site-packages\\pandas\\core\\frame.py:5859\u001b[0m, in \u001b[0;36mDataFrame.set_index\u001b[1;34m(self, keys, drop, append, inplace, verify_integrity)\u001b[0m\n\u001b[0;32m   5856\u001b[0m                 missing\u001b[38;5;241m.\u001b[39mappend(col)\n\u001b[0;32m   5858\u001b[0m \u001b[38;5;28;01mif\u001b[39;00m missing:\n\u001b[1;32m-> 5859\u001b[0m     \u001b[38;5;28;01mraise\u001b[39;00m \u001b[38;5;167;01mKeyError\u001b[39;00m(\u001b[38;5;124mf\u001b[39m\u001b[38;5;124m\"\u001b[39m\u001b[38;5;124mNone of \u001b[39m\u001b[38;5;132;01m{\u001b[39;00mmissing\u001b[38;5;132;01m}\u001b[39;00m\u001b[38;5;124m are in the columns\u001b[39m\u001b[38;5;124m\"\u001b[39m)\n\u001b[0;32m   5861\u001b[0m \u001b[38;5;28;01mif\u001b[39;00m inplace:\n\u001b[0;32m   5862\u001b[0m     frame \u001b[38;5;241m=\u001b[39m \u001b[38;5;28mself\u001b[39m\n",
      "\u001b[1;31mKeyError\u001b[0m: \"None of ['구분'] are in the columns\""
     ]
    }
   ],
   "source": [
    "data = pd.concat([data_2014, data_2015, data_2016], axis=0).set_index('구분')"
   ]
  },
  {
   "cell_type": "code",
   "execution_count": 44,
   "metadata": {},
   "outputs": [
    {
     "ename": "AttributeError",
     "evalue": "module 'pandas_datareader.data' has no attribute 'index'",
     "output_type": "error",
     "traceback": [
      "\u001b[1;31m---------------------------------------------------------------------------\u001b[0m",
      "\u001b[1;31mAttributeError\u001b[0m                            Traceback (most recent call last)",
      "Cell \u001b[1;32mIn[44], line 1\u001b[0m\n\u001b[1;32m----> 1\u001b[0m data\u001b[38;5;241m.\u001b[39mindex  \u001b[38;5;241m=\u001b[39m pd\u001b[38;5;241m.\u001b[39mto_datetime(data\u001b[38;5;241m.\u001b[39mindex, \u001b[38;5;28mformat\u001b[39m\u001b[38;5;241m=\u001b[39m\u001b[38;5;124m'\u001b[39m\u001b[38;5;124m%\u001b[39m\u001b[38;5;124mY년\u001b[39m\u001b[38;5;124m%\u001b[39m\u001b[38;5;124mm월\u001b[39m\u001b[38;5;124m'\u001b[39m)\n",
      "\u001b[1;31mAttributeError\u001b[0m: module 'pandas_datareader.data' has no attribute 'index'"
     ]
    }
   ],
   "source": [
    "data.index  = pd.to_datetime(data.index, format='%Y년%m월')"
   ]
  },
  {
   "cell_type": "code",
   "execution_count": 46,
   "metadata": {},
   "outputs": [
    {
     "ename": "AttributeError",
     "evalue": "module 'pandas_datareader.data' has no attribute 'index'",
     "output_type": "error",
     "traceback": [
      "\u001b[1;31m---------------------------------------------------------------------------\u001b[0m",
      "\u001b[1;31mAttributeError\u001b[0m                            Traceback (most recent call last)",
      "Cell \u001b[1;32mIn[46], line 1\u001b[0m\n\u001b[1;32m----> 1\u001b[0m data\u001b[38;5;241m.\u001b[39mindex\n",
      "\u001b[1;31mAttributeError\u001b[0m: module 'pandas_datareader.data' has no attribute 'index'"
     ]
    }
   ],
   "source": [
    "data.index"
   ]
  },
  {
   "cell_type": "code",
   "execution_count": null,
   "metadata": {},
   "outputs": [],
   "source": []
  },
  {
   "cell_type": "code",
   "execution_count": null,
   "metadata": {},
   "outputs": [],
   "source": []
  },
  {
   "cell_type": "code",
   "execution_count": null,
   "metadata": {},
   "outputs": [],
   "source": []
  },
  {
   "cell_type": "code",
   "execution_count": null,
   "metadata": {},
   "outputs": [],
   "source": []
  },
  {
   "cell_type": "code",
   "execution_count": null,
   "metadata": {},
   "outputs": [],
   "source": []
  },
  {
   "cell_type": "code",
   "execution_count": null,
   "metadata": {},
   "outputs": [],
   "source": []
  },
  {
   "cell_type": "code",
   "execution_count": null,
   "metadata": {},
   "outputs": [],
   "source": []
  },
  {
   "cell_type": "markdown",
   "metadata": {},
   "source": [
    "---"
   ]
  },
  {
   "cell_type": "code",
   "execution_count": 133,
   "metadata": {
    "ExecuteTime": {
     "end_time": "2023-11-21T14:19:47.849092Z",
     "start_time": "2023-11-21T14:19:47.829010Z"
    }
   },
   "outputs": [
    {
     "data": {
      "text/html": [
       "<div>\n",
       "<style scoped>\n",
       "    .dataframe tbody tr th:only-of-type {\n",
       "        vertical-align: middle;\n",
       "    }\n",
       "\n",
       "    .dataframe tbody tr th {\n",
       "        vertical-align: top;\n",
       "    }\n",
       "\n",
       "    .dataframe thead th {\n",
       "        text-align: right;\n",
       "    }\n",
       "</style>\n",
       "<table border=\"1\" class=\"dataframe\">\n",
       "  <thead>\n",
       "    <tr style=\"text-align: right;\">\n",
       "      <th></th>\n",
       "      <th>사고(건)</th>\n",
       "      <th>사망(명)</th>\n",
       "      <th>부상(명)</th>\n",
       "    </tr>\n",
       "    <tr>\n",
       "      <th>구분</th>\n",
       "      <th></th>\n",
       "      <th></th>\n",
       "      <th></th>\n",
       "    </tr>\n",
       "  </thead>\n",
       "  <tbody>\n",
       "    <tr>\n",
       "      <th>2014년1월</th>\n",
       "      <td>169</td>\n",
       "      <td>7</td>\n",
       "      <td>347</td>\n",
       "    </tr>\n",
       "    <tr>\n",
       "      <th>2014년2월</th>\n",
       "      <td>145</td>\n",
       "      <td>3</td>\n",
       "      <td>268</td>\n",
       "    </tr>\n",
       "    <tr>\n",
       "      <th>2014년3월</th>\n",
       "      <td>206</td>\n",
       "      <td>12</td>\n",
       "      <td>358</td>\n",
       "    </tr>\n",
       "    <tr>\n",
       "      <th>2014년4월</th>\n",
       "      <td>182</td>\n",
       "      <td>4</td>\n",
       "      <td>360</td>\n",
       "    </tr>\n",
       "    <tr>\n",
       "      <th>2014년5월</th>\n",
       "      <td>218</td>\n",
       "      <td>17</td>\n",
       "      <td>474</td>\n",
       "    </tr>\n",
       "  </tbody>\n",
       "</table>\n",
       "</div>"
      ],
      "text/plain": [
       "         사고(건)  사망(명)  부상(명)\n",
       "구분                          \n",
       "2014년1월    169      7    347\n",
       "2014년2월    145      3    268\n",
       "2014년3월    206     12    358\n",
       "2014년4월    182      4    360\n",
       "2014년5월    218     17    474"
      ]
     },
     "execution_count": 133,
     "metadata": {},
     "output_type": "execute_result"
    }
   ],
   "source": [
    "# 1. 3개 데이터 병합\n",
    "data_2014 = pd.read_csv('data/2014년 졸음운전 교통사고.csv', encoding='ANSI', index_col='구분')\n",
    "data_2015 = pd.read_csv('data/2015년 졸음운전 교통사고.csv', encoding='ANSI', index_col='구분')\n",
    "data_2016 = pd.read_csv('data/2016년 졸음운전 교통사고.csv', encoding='ANSI', index_col='구분')\n",
    "data_2014.head()"
   ]
  },
  {
   "cell_type": "code",
   "execution_count": 134,
   "metadata": {
    "ExecuteTime": {
     "end_time": "2023-11-21T14:19:48.436528Z",
     "start_time": "2023-11-21T14:19:48.418322Z"
    }
   },
   "outputs": [
    {
     "name": "stdout",
     "output_type": "stream",
     "text": [
      "<class 'pandas.core.frame.DataFrame'>\n",
      "Index: 12 entries, 2014년1월 to 2014년12월\n",
      "Data columns (total 3 columns):\n",
      " #   Column  Non-Null Count  Dtype\n",
      "---  ------  --------------  -----\n",
      " 0   사고(건)   12 non-null     int64\n",
      " 1   사망(명)   12 non-null     int64\n",
      " 2   부상(명)   12 non-null     int64\n",
      "dtypes: int64(3)\n",
      "memory usage: 384.0+ bytes\n",
      "<class 'pandas.core.frame.DataFrame'>\n",
      "Index: 12 entries, 2015년1월 to 2015년12월\n",
      "Data columns (total 3 columns):\n",
      " #   Column  Non-Null Count  Dtype\n",
      "---  ------  --------------  -----\n",
      " 0   사고(건)   12 non-null     int64\n",
      " 1   사망(명)   12 non-null     int64\n",
      " 2   부상(명)   12 non-null     int64\n",
      "dtypes: int64(3)\n",
      "memory usage: 384.0+ bytes\n",
      "<class 'pandas.core.frame.DataFrame'>\n",
      "Index: 12 entries, 2016년1월 to 2016년12월\n",
      "Data columns (total 3 columns):\n",
      " #   Column  Non-Null Count  Dtype\n",
      "---  ------  --------------  -----\n",
      " 0   사고(건)   12 non-null     int64\n",
      " 1   사망(명)   12 non-null     int64\n",
      " 2   부상(명)   12 non-null     int64\n",
      "dtypes: int64(3)\n",
      "memory usage: 384.0+ bytes\n"
     ]
    },
    {
     "data": {
      "text/plain": [
       "(None, None, None)"
      ]
     },
     "execution_count": 134,
     "metadata": {},
     "output_type": "execute_result"
    }
   ],
   "source": [
    "data_2014.info(), data_2015.info(), data_2016.info()"
   ]
  },
  {
   "cell_type": "code",
   "execution_count": 135,
   "metadata": {
    "ExecuteTime": {
     "end_time": "2023-11-21T14:19:48.858931Z",
     "start_time": "2023-11-21T14:19:48.849833Z"
    },
    "scrolled": true
   },
   "outputs": [
    {
     "data": {
      "text/html": [
       "<div>\n",
       "<style scoped>\n",
       "    .dataframe tbody tr th:only-of-type {\n",
       "        vertical-align: middle;\n",
       "    }\n",
       "\n",
       "    .dataframe tbody tr th {\n",
       "        vertical-align: top;\n",
       "    }\n",
       "\n",
       "    .dataframe thead th {\n",
       "        text-align: right;\n",
       "    }\n",
       "</style>\n",
       "<table border=\"1\" class=\"dataframe\">\n",
       "  <thead>\n",
       "    <tr style=\"text-align: right;\">\n",
       "      <th></th>\n",
       "      <th>사고(건)</th>\n",
       "      <th>사망(명)</th>\n",
       "      <th>부상(명)</th>\n",
       "    </tr>\n",
       "    <tr>\n",
       "      <th>구분</th>\n",
       "      <th></th>\n",
       "      <th></th>\n",
       "      <th></th>\n",
       "    </tr>\n",
       "  </thead>\n",
       "  <tbody>\n",
       "    <tr>\n",
       "      <th>2014년1월</th>\n",
       "      <td>169</td>\n",
       "      <td>7</td>\n",
       "      <td>347</td>\n",
       "    </tr>\n",
       "    <tr>\n",
       "      <th>2014년2월</th>\n",
       "      <td>145</td>\n",
       "      <td>3</td>\n",
       "      <td>268</td>\n",
       "    </tr>\n",
       "    <tr>\n",
       "      <th>2014년3월</th>\n",
       "      <td>206</td>\n",
       "      <td>12</td>\n",
       "      <td>358</td>\n",
       "    </tr>\n",
       "    <tr>\n",
       "      <th>2014년4월</th>\n",
       "      <td>182</td>\n",
       "      <td>4</td>\n",
       "      <td>360</td>\n",
       "    </tr>\n",
       "    <tr>\n",
       "      <th>2014년5월</th>\n",
       "      <td>218</td>\n",
       "      <td>17</td>\n",
       "      <td>474</td>\n",
       "    </tr>\n",
       "    <tr>\n",
       "      <th>2014년6월</th>\n",
       "      <td>233</td>\n",
       "      <td>13</td>\n",
       "      <td>457</td>\n",
       "    </tr>\n",
       "    <tr>\n",
       "      <th>2014년7월</th>\n",
       "      <td>229</td>\n",
       "      <td>14</td>\n",
       "      <td>431</td>\n",
       "    </tr>\n",
       "    <tr>\n",
       "      <th>2014년8월</th>\n",
       "      <td>222</td>\n",
       "      <td>9</td>\n",
       "      <td>447</td>\n",
       "    </tr>\n",
       "    <tr>\n",
       "      <th>2014년9월</th>\n",
       "      <td>225</td>\n",
       "      <td>15</td>\n",
       "      <td>430</td>\n",
       "    </tr>\n",
       "    <tr>\n",
       "      <th>2014년10월</th>\n",
       "      <td>210</td>\n",
       "      <td>14</td>\n",
       "      <td>392</td>\n",
       "    </tr>\n",
       "    <tr>\n",
       "      <th>2014년11월</th>\n",
       "      <td>209</td>\n",
       "      <td>10</td>\n",
       "      <td>386</td>\n",
       "    </tr>\n",
       "    <tr>\n",
       "      <th>2014년12월</th>\n",
       "      <td>178</td>\n",
       "      <td>12</td>\n",
       "      <td>329</td>\n",
       "    </tr>\n",
       "    <tr>\n",
       "      <th>2015년1월</th>\n",
       "      <td>205</td>\n",
       "      <td>8</td>\n",
       "      <td>375</td>\n",
       "    </tr>\n",
       "    <tr>\n",
       "      <th>2015년2월</th>\n",
       "      <td>175</td>\n",
       "      <td>8</td>\n",
       "      <td>375</td>\n",
       "    </tr>\n",
       "    <tr>\n",
       "      <th>2015년3월</th>\n",
       "      <td>237</td>\n",
       "      <td>4</td>\n",
       "      <td>492</td>\n",
       "    </tr>\n",
       "    <tr>\n",
       "      <th>2015년4월</th>\n",
       "      <td>227</td>\n",
       "      <td>10</td>\n",
       "      <td>486</td>\n",
       "    </tr>\n",
       "    <tr>\n",
       "      <th>2015년5월</th>\n",
       "      <td>231</td>\n",
       "      <td>9</td>\n",
       "      <td>504</td>\n",
       "    </tr>\n",
       "    <tr>\n",
       "      <th>2015년6월</th>\n",
       "      <td>207</td>\n",
       "      <td>8</td>\n",
       "      <td>401</td>\n",
       "    </tr>\n",
       "    <tr>\n",
       "      <th>2015년7월</th>\n",
       "      <td>273</td>\n",
       "      <td>7</td>\n",
       "      <td>556</td>\n",
       "    </tr>\n",
       "    <tr>\n",
       "      <th>2015년8월</th>\n",
       "      <td>268</td>\n",
       "      <td>19</td>\n",
       "      <td>534</td>\n",
       "    </tr>\n",
       "    <tr>\n",
       "      <th>2015년9월</th>\n",
       "      <td>252</td>\n",
       "      <td>10</td>\n",
       "      <td>501</td>\n",
       "    </tr>\n",
       "    <tr>\n",
       "      <th>2015년10월</th>\n",
       "      <td>214</td>\n",
       "      <td>14</td>\n",
       "      <td>475</td>\n",
       "    </tr>\n",
       "    <tr>\n",
       "      <th>2015년11월</th>\n",
       "      <td>199</td>\n",
       "      <td>3</td>\n",
       "      <td>398</td>\n",
       "    </tr>\n",
       "    <tr>\n",
       "      <th>2015년12월</th>\n",
       "      <td>213</td>\n",
       "      <td>8</td>\n",
       "      <td>428</td>\n",
       "    </tr>\n",
       "    <tr>\n",
       "      <th>2016년1월</th>\n",
       "      <td>192</td>\n",
       "      <td>5</td>\n",
       "      <td>387</td>\n",
       "    </tr>\n",
       "    <tr>\n",
       "      <th>2016년2월</th>\n",
       "      <td>174</td>\n",
       "      <td>6</td>\n",
       "      <td>328</td>\n",
       "    </tr>\n",
       "    <tr>\n",
       "      <th>2016년3월</th>\n",
       "      <td>217</td>\n",
       "      <td>7</td>\n",
       "      <td>435</td>\n",
       "    </tr>\n",
       "    <tr>\n",
       "      <th>2016년4월</th>\n",
       "      <td>216</td>\n",
       "      <td>7</td>\n",
       "      <td>419</td>\n",
       "    </tr>\n",
       "    <tr>\n",
       "      <th>2016년5월</th>\n",
       "      <td>239</td>\n",
       "      <td>13</td>\n",
       "      <td>522</td>\n",
       "    </tr>\n",
       "    <tr>\n",
       "      <th>2016년6월</th>\n",
       "      <td>200</td>\n",
       "      <td>12</td>\n",
       "      <td>362</td>\n",
       "    </tr>\n",
       "    <tr>\n",
       "      <th>2016년7월</th>\n",
       "      <td>227</td>\n",
       "      <td>9</td>\n",
       "      <td>460</td>\n",
       "    </tr>\n",
       "    <tr>\n",
       "      <th>2016년8월</th>\n",
       "      <td>230</td>\n",
       "      <td>7</td>\n",
       "      <td>490</td>\n",
       "    </tr>\n",
       "    <tr>\n",
       "      <th>2016년9월</th>\n",
       "      <td>187</td>\n",
       "      <td>13</td>\n",
       "      <td>347</td>\n",
       "    </tr>\n",
       "    <tr>\n",
       "      <th>2016년10월</th>\n",
       "      <td>183</td>\n",
       "      <td>10</td>\n",
       "      <td>367</td>\n",
       "    </tr>\n",
       "    <tr>\n",
       "      <th>2016년11월</th>\n",
       "      <td>200</td>\n",
       "      <td>5</td>\n",
       "      <td>418</td>\n",
       "    </tr>\n",
       "    <tr>\n",
       "      <th>2016년12월</th>\n",
       "      <td>168</td>\n",
       "      <td>4</td>\n",
       "      <td>364</td>\n",
       "    </tr>\n",
       "  </tbody>\n",
       "</table>\n",
       "</div>"
      ],
      "text/plain": [
       "          사고(건)  사망(명)  부상(명)\n",
       "구분                           \n",
       "2014년1월     169      7    347\n",
       "2014년2월     145      3    268\n",
       "2014년3월     206     12    358\n",
       "2014년4월     182      4    360\n",
       "2014년5월     218     17    474\n",
       "2014년6월     233     13    457\n",
       "2014년7월     229     14    431\n",
       "2014년8월     222      9    447\n",
       "2014년9월     225     15    430\n",
       "2014년10월    210     14    392\n",
       "2014년11월    209     10    386\n",
       "2014년12월    178     12    329\n",
       "2015년1월     205      8    375\n",
       "2015년2월     175      8    375\n",
       "2015년3월     237      4    492\n",
       "2015년4월     227     10    486\n",
       "2015년5월     231      9    504\n",
       "2015년6월     207      8    401\n",
       "2015년7월     273      7    556\n",
       "2015년8월     268     19    534\n",
       "2015년9월     252     10    501\n",
       "2015년10월    214     14    475\n",
       "2015년11월    199      3    398\n",
       "2015년12월    213      8    428\n",
       "2016년1월     192      5    387\n",
       "2016년2월     174      6    328\n",
       "2016년3월     217      7    435\n",
       "2016년4월     216      7    419\n",
       "2016년5월     239     13    522\n",
       "2016년6월     200     12    362\n",
       "2016년7월     227      9    460\n",
       "2016년8월     230      7    490\n",
       "2016년9월     187     13    347\n",
       "2016년10월    183     10    367\n",
       "2016년11월    200      5    418\n",
       "2016년12월    168      4    364"
      ]
     },
     "execution_count": 135,
     "metadata": {},
     "output_type": "execute_result"
    }
   ],
   "source": [
    "data_total = pd.concat([data_2014, data_2015, data_2016], axis=0)\n",
    "data_total"
   ]
  },
  {
   "cell_type": "code",
   "execution_count": 136,
   "metadata": {
    "ExecuteTime": {
     "end_time": "2023-11-21T14:19:49.071474Z",
     "start_time": "2023-11-21T14:19:49.066374Z"
    }
   },
   "outputs": [
    {
     "data": {
      "text/plain": [
       "Index(['2014년1월', '2014년2월', '2014년3월', '2014년4월', '2014년5월', '2014년6월',\n",
       "       '2014년7월', '2014년8월', '2014년9월', '2014년10월', '2014년11월', '2014년12월',\n",
       "       '2015년1월', '2015년2월', '2015년3월', '2015년4월', '2015년5월', '2015년6월',\n",
       "       '2015년7월', '2015년8월', '2015년9월', '2015년10월', '2015년11월', '2015년12월',\n",
       "       '2016년1월', '2016년2월', '2016년3월', '2016년4월', '2016년5월', '2016년6월',\n",
       "       '2016년7월', '2016년8월', '2016년9월', '2016년10월', '2016년11월', '2016년12월'],\n",
       "      dtype='object', name='구분')"
      ]
     },
     "execution_count": 136,
     "metadata": {},
     "output_type": "execute_result"
    }
   ],
   "source": [
    "# 2. 인덱스를 datetime 으로 만드시요\n",
    "data_total.index"
   ]
  },
  {
   "cell_type": "code",
   "execution_count": 137,
   "metadata": {
    "ExecuteTime": {
     "end_time": "2023-11-21T14:19:49.258073Z",
     "start_time": "2023-11-21T14:19:49.251561Z"
    }
   },
   "outputs": [
    {
     "data": {
      "text/plain": [
       "DatetimeIndex(['2014-01-01', '2014-02-01', '2014-03-01', '2014-04-01',\n",
       "               '2014-05-01', '2014-06-01', '2014-07-01', '2014-08-01',\n",
       "               '2014-09-01', '2014-10-01', '2014-11-01', '2014-12-01',\n",
       "               '2015-01-01', '2015-02-01', '2015-03-01', '2015-04-01',\n",
       "               '2015-05-01', '2015-06-01', '2015-07-01', '2015-08-01',\n",
       "               '2015-09-01', '2015-10-01', '2015-11-01', '2015-12-01',\n",
       "               '2016-01-01', '2016-02-01', '2016-03-01', '2016-04-01',\n",
       "               '2016-05-01', '2016-06-01', '2016-07-01', '2016-08-01',\n",
       "               '2016-09-01', '2016-10-01', '2016-11-01', '2016-12-01'],\n",
       "              dtype='datetime64[ns]', name='구분', freq=None)"
      ]
     },
     "execution_count": 137,
     "metadata": {},
     "output_type": "execute_result"
    }
   ],
   "source": [
    "data_total.index  = pd.to_datetime(data_total.index, format= '%Y년%m월')\n",
    "data_total.index"
   ]
  },
  {
   "cell_type": "code",
   "execution_count": 138,
   "metadata": {
    "ExecuteTime": {
     "end_time": "2023-11-21T14:19:49.434665Z",
     "start_time": "2023-11-21T14:19:49.418710Z"
    },
    "scrolled": true
   },
   "outputs": [
    {
     "data": {
      "text/html": [
       "<div>\n",
       "<style scoped>\n",
       "    .dataframe tbody tr th:only-of-type {\n",
       "        vertical-align: middle;\n",
       "    }\n",
       "\n",
       "    .dataframe tbody tr th {\n",
       "        vertical-align: top;\n",
       "    }\n",
       "\n",
       "    .dataframe thead th {\n",
       "        text-align: right;\n",
       "    }\n",
       "</style>\n",
       "<table border=\"1\" class=\"dataframe\">\n",
       "  <thead>\n",
       "    <tr style=\"text-align: right;\">\n",
       "      <th></th>\n",
       "      <th></th>\n",
       "      <th></th>\n",
       "      <th>사망(명)</th>\n",
       "    </tr>\n",
       "    <tr>\n",
       "      <th>구분</th>\n",
       "      <th>구분</th>\n",
       "      <th>구분</th>\n",
       "      <th></th>\n",
       "    </tr>\n",
       "  </thead>\n",
       "  <tbody>\n",
       "    <tr>\n",
       "      <th rowspan=\"9\" valign=\"top\">1</th>\n",
       "      <th rowspan=\"3\" valign=\"top\">2014</th>\n",
       "      <th>1</th>\n",
       "      <td>7.0</td>\n",
       "    </tr>\n",
       "    <tr>\n",
       "      <th>2</th>\n",
       "      <td>3.0</td>\n",
       "    </tr>\n",
       "    <tr>\n",
       "      <th>3</th>\n",
       "      <td>12.0</td>\n",
       "    </tr>\n",
       "    <tr>\n",
       "      <th rowspan=\"3\" valign=\"top\">2015</th>\n",
       "      <th>1</th>\n",
       "      <td>8.0</td>\n",
       "    </tr>\n",
       "    <tr>\n",
       "      <th>2</th>\n",
       "      <td>8.0</td>\n",
       "    </tr>\n",
       "    <tr>\n",
       "      <th>3</th>\n",
       "      <td>4.0</td>\n",
       "    </tr>\n",
       "    <tr>\n",
       "      <th rowspan=\"3\" valign=\"top\">2016</th>\n",
       "      <th>1</th>\n",
       "      <td>5.0</td>\n",
       "    </tr>\n",
       "    <tr>\n",
       "      <th>2</th>\n",
       "      <td>6.0</td>\n",
       "    </tr>\n",
       "    <tr>\n",
       "      <th>3</th>\n",
       "      <td>7.0</td>\n",
       "    </tr>\n",
       "    <tr>\n",
       "      <th rowspan=\"9\" valign=\"top\">2</th>\n",
       "      <th rowspan=\"3\" valign=\"top\">2014</th>\n",
       "      <th>4</th>\n",
       "      <td>4.0</td>\n",
       "    </tr>\n",
       "    <tr>\n",
       "      <th>5</th>\n",
       "      <td>17.0</td>\n",
       "    </tr>\n",
       "    <tr>\n",
       "      <th>6</th>\n",
       "      <td>13.0</td>\n",
       "    </tr>\n",
       "    <tr>\n",
       "      <th rowspan=\"3\" valign=\"top\">2015</th>\n",
       "      <th>4</th>\n",
       "      <td>10.0</td>\n",
       "    </tr>\n",
       "    <tr>\n",
       "      <th>5</th>\n",
       "      <td>9.0</td>\n",
       "    </tr>\n",
       "    <tr>\n",
       "      <th>6</th>\n",
       "      <td>8.0</td>\n",
       "    </tr>\n",
       "    <tr>\n",
       "      <th rowspan=\"3\" valign=\"top\">2016</th>\n",
       "      <th>4</th>\n",
       "      <td>7.0</td>\n",
       "    </tr>\n",
       "    <tr>\n",
       "      <th>5</th>\n",
       "      <td>13.0</td>\n",
       "    </tr>\n",
       "    <tr>\n",
       "      <th>6</th>\n",
       "      <td>12.0</td>\n",
       "    </tr>\n",
       "    <tr>\n",
       "      <th rowspan=\"9\" valign=\"top\">3</th>\n",
       "      <th rowspan=\"3\" valign=\"top\">2014</th>\n",
       "      <th>7</th>\n",
       "      <td>14.0</td>\n",
       "    </tr>\n",
       "    <tr>\n",
       "      <th>8</th>\n",
       "      <td>9.0</td>\n",
       "    </tr>\n",
       "    <tr>\n",
       "      <th>9</th>\n",
       "      <td>15.0</td>\n",
       "    </tr>\n",
       "    <tr>\n",
       "      <th rowspan=\"3\" valign=\"top\">2015</th>\n",
       "      <th>7</th>\n",
       "      <td>7.0</td>\n",
       "    </tr>\n",
       "    <tr>\n",
       "      <th>8</th>\n",
       "      <td>19.0</td>\n",
       "    </tr>\n",
       "    <tr>\n",
       "      <th>9</th>\n",
       "      <td>10.0</td>\n",
       "    </tr>\n",
       "    <tr>\n",
       "      <th rowspan=\"3\" valign=\"top\">2016</th>\n",
       "      <th>7</th>\n",
       "      <td>9.0</td>\n",
       "    </tr>\n",
       "    <tr>\n",
       "      <th>8</th>\n",
       "      <td>7.0</td>\n",
       "    </tr>\n",
       "    <tr>\n",
       "      <th>9</th>\n",
       "      <td>13.0</td>\n",
       "    </tr>\n",
       "    <tr>\n",
       "      <th rowspan=\"9\" valign=\"top\">4</th>\n",
       "      <th rowspan=\"3\" valign=\"top\">2014</th>\n",
       "      <th>10</th>\n",
       "      <td>14.0</td>\n",
       "    </tr>\n",
       "    <tr>\n",
       "      <th>11</th>\n",
       "      <td>10.0</td>\n",
       "    </tr>\n",
       "    <tr>\n",
       "      <th>12</th>\n",
       "      <td>12.0</td>\n",
       "    </tr>\n",
       "    <tr>\n",
       "      <th rowspan=\"3\" valign=\"top\">2015</th>\n",
       "      <th>10</th>\n",
       "      <td>14.0</td>\n",
       "    </tr>\n",
       "    <tr>\n",
       "      <th>11</th>\n",
       "      <td>3.0</td>\n",
       "    </tr>\n",
       "    <tr>\n",
       "      <th>12</th>\n",
       "      <td>8.0</td>\n",
       "    </tr>\n",
       "    <tr>\n",
       "      <th rowspan=\"3\" valign=\"top\">2016</th>\n",
       "      <th>10</th>\n",
       "      <td>10.0</td>\n",
       "    </tr>\n",
       "    <tr>\n",
       "      <th>11</th>\n",
       "      <td>5.0</td>\n",
       "    </tr>\n",
       "    <tr>\n",
       "      <th>12</th>\n",
       "      <td>4.0</td>\n",
       "    </tr>\n",
       "  </tbody>\n",
       "</table>\n",
       "</div>"
      ],
      "text/plain": [
       "            사망(명)\n",
       "구분 구분   구분       \n",
       "1  2014 1     7.0\n",
       "        2     3.0\n",
       "        3    12.0\n",
       "   2015 1     8.0\n",
       "        2     8.0\n",
       "        3     4.0\n",
       "   2016 1     5.0\n",
       "        2     6.0\n",
       "        3     7.0\n",
       "2  2014 4     4.0\n",
       "        5    17.0\n",
       "        6    13.0\n",
       "   2015 4    10.0\n",
       "        5     9.0\n",
       "        6     8.0\n",
       "   2016 4     7.0\n",
       "        5    13.0\n",
       "        6    12.0\n",
       "3  2014 7    14.0\n",
       "        8     9.0\n",
       "        9    15.0\n",
       "   2015 7     7.0\n",
       "        8    19.0\n",
       "        9    10.0\n",
       "   2016 7     9.0\n",
       "        8     7.0\n",
       "        9    13.0\n",
       "4  2014 10   14.0\n",
       "        11   10.0\n",
       "        12   12.0\n",
       "   2015 10   14.0\n",
       "        11    3.0\n",
       "        12    8.0\n",
       "   2016 10   10.0\n",
       "        11    5.0\n",
       "        12    4.0"
      ]
     },
     "execution_count": 138,
     "metadata": {},
     "output_type": "execute_result"
    }
   ],
   "source": [
    "# 3. 년도 및 월별, 분기별 평균 사망자를 보여주시요\n",
    "data_total[['사망(명)']].groupby([data_total.index.quarter, data_total.index.year, data_total.index.month]).mean()"
   ]
  },
  {
   "cell_type": "code",
   "execution_count": 139,
   "metadata": {
    "ExecuteTime": {
     "end_time": "2023-11-21T14:19:49.580059Z",
     "start_time": "2023-11-21T14:19:49.563366Z"
    }
   },
   "outputs": [
    {
     "data": {
      "text/html": [
       "<div>\n",
       "<style scoped>\n",
       "    .dataframe tbody tr th:only-of-type {\n",
       "        vertical-align: middle;\n",
       "    }\n",
       "\n",
       "    .dataframe tbody tr th {\n",
       "        vertical-align: top;\n",
       "    }\n",
       "\n",
       "    .dataframe thead th {\n",
       "        text-align: right;\n",
       "    }\n",
       "</style>\n",
       "<table border=\"1\" class=\"dataframe\">\n",
       "  <thead>\n",
       "    <tr style=\"text-align: right;\">\n",
       "      <th></th>\n",
       "      <th>사망(명)</th>\n",
       "    </tr>\n",
       "    <tr>\n",
       "      <th>구분</th>\n",
       "      <th></th>\n",
       "    </tr>\n",
       "  </thead>\n",
       "  <tbody>\n",
       "    <tr>\n",
       "      <th>2014-03-31</th>\n",
       "      <td>7.333333</td>\n",
       "    </tr>\n",
       "    <tr>\n",
       "      <th>2014-06-30</th>\n",
       "      <td>11.333333</td>\n",
       "    </tr>\n",
       "    <tr>\n",
       "      <th>2014-09-30</th>\n",
       "      <td>12.666667</td>\n",
       "    </tr>\n",
       "    <tr>\n",
       "      <th>2014-12-31</th>\n",
       "      <td>12.000000</td>\n",
       "    </tr>\n",
       "    <tr>\n",
       "      <th>2015-03-31</th>\n",
       "      <td>6.666667</td>\n",
       "    </tr>\n",
       "    <tr>\n",
       "      <th>2015-06-30</th>\n",
       "      <td>9.000000</td>\n",
       "    </tr>\n",
       "    <tr>\n",
       "      <th>2015-09-30</th>\n",
       "      <td>12.000000</td>\n",
       "    </tr>\n",
       "    <tr>\n",
       "      <th>2015-12-31</th>\n",
       "      <td>8.333333</td>\n",
       "    </tr>\n",
       "    <tr>\n",
       "      <th>2016-03-31</th>\n",
       "      <td>6.000000</td>\n",
       "    </tr>\n",
       "    <tr>\n",
       "      <th>2016-06-30</th>\n",
       "      <td>10.666667</td>\n",
       "    </tr>\n",
       "    <tr>\n",
       "      <th>2016-09-30</th>\n",
       "      <td>9.666667</td>\n",
       "    </tr>\n",
       "    <tr>\n",
       "      <th>2016-12-31</th>\n",
       "      <td>6.333333</td>\n",
       "    </tr>\n",
       "  </tbody>\n",
       "</table>\n",
       "</div>"
      ],
      "text/plain": [
       "                사망(명)\n",
       "구분                   \n",
       "2014-03-31   7.333333\n",
       "2014-06-30  11.333333\n",
       "2014-09-30  12.666667\n",
       "2014-12-31  12.000000\n",
       "2015-03-31   6.666667\n",
       "2015-06-30   9.000000\n",
       "2015-09-30  12.000000\n",
       "2015-12-31   8.333333\n",
       "2016-03-31   6.000000\n",
       "2016-06-30  10.666667\n",
       "2016-09-30   9.666667\n",
       "2016-12-31   6.333333"
      ]
     },
     "execution_count": 139,
     "metadata": {},
     "output_type": "execute_result"
    }
   ],
   "source": [
    "data_total[['사망(명)']].resample(rule='Q').mean()"
   ]
  },
  {
   "cell_type": "code",
   "execution_count": 140,
   "metadata": {
    "ExecuteTime": {
     "end_time": "2023-11-21T14:19:49.738126Z",
     "start_time": "2023-11-21T14:19:49.729316Z"
    },
    "scrolled": true
   },
   "outputs": [
    {
     "data": {
      "text/plain": [
       "구분\n",
       "2016-01-01    0.026042\n",
       "2016-02-01    0.034483\n",
       "2016-03-01    0.032258\n",
       "2016-04-01    0.032407\n",
       "2016-05-01    0.054393\n",
       "2016-06-01    0.060000\n",
       "2016-07-01    0.039648\n",
       "2016-08-01    0.030435\n",
       "2016-09-01    0.069519\n",
       "2016-10-01    0.054645\n",
       "2016-11-01    0.025000\n",
       "2016-12-01    0.023810\n",
       "dtype: float64"
      ]
     },
     "execution_count": 140,
     "metadata": {},
     "output_type": "execute_result"
    }
   ],
   "source": [
    "# 4.  2016년 사고대비 사망율을 구하시요\n",
    "data_total.loc['2016']['사망(명)']/ data_total.loc['2016']['사고(건)']"
   ]
  },
  {
   "cell_type": "code",
   "execution_count": 141,
   "metadata": {
    "ExecuteTime": {
     "end_time": "2023-11-21T14:19:49.889158Z",
     "start_time": "2023-11-21T14:19:49.882422Z"
    }
   },
   "outputs": [
    {
     "data": {
      "text/plain": [
       "0.04"
      ]
     },
     "execution_count": 141,
     "metadata": {},
     "output_type": "execute_result"
    }
   ],
   "source": [
    "round ( data_total.loc['2016']['사망(명)'].sum()/ data_total.loc['2016']['사고(건)'].sum(), 2 )"
   ]
  },
  {
   "cell_type": "code",
   "execution_count": 142,
   "metadata": {
    "ExecuteTime": {
     "end_time": "2023-11-21T14:19:51.509115Z",
     "start_time": "2023-11-21T14:19:50.034647Z"
    }
   },
   "outputs": [],
   "source": [
    "import matplotlib\n",
    "import matplotlib.pyplot as plt\n",
    "import seaborn as sns\n",
    "plt.style.use(\"ggplot\")\n",
    "# 관련 라이브러리 임포트 \n",
    "import matplotlib.font_manager as fm\n",
    "#  한글글꼴로 변경\n",
    "# plt.rcParams['font.family'] = '한글글꼴명'\n",
    "plt.rcParams['font.size'] = 11.0\n",
    "# plt.rcParams['font.family'] = 'batang'\n",
    "plt.rcParams['font.family'] = 'Malgun Gothic'\n",
    "\n",
    "# 그래프에서 마이너스 폰트 깨지는 문제에 대한 대처\n",
    "matplotlib.rcParams['axes.unicode_minus'] = False"
   ]
  },
  {
   "cell_type": "code",
   "execution_count": 143,
   "metadata": {
    "ExecuteTime": {
     "end_time": "2023-11-21T14:20:03.701444Z",
     "start_time": "2023-11-21T14:20:03.347284Z"
    }
   },
   "outputs": [
    {
     "data": {
      "text/plain": [
       "<Axes: xlabel='구분'>"
      ]
     },
     "execution_count": 143,
     "metadata": {},
     "output_type": "execute_result"
    },
    {
     "data": {
      "image/png": "[encoded data removed]",
      "text/plain": [
       "<Figure size 640x480 with 1 Axes>"
      ]
     },
     "metadata": {},
     "output_type": "display_data"
    }
   ],
   "source": [
    "# 5. 2014년도 월별 사망, 부상 데이터를 그래프로 보여주시요\n",
    "data_total.loc['2014'][['사망(명)','부상(명)']].plot(kind='bar') # 보기 힘들다 이중축으로 만들어 보면어떨까?  바+꺾은선\n",
    "# plt.xticks(rotation=45)\n",
    "# plt.plot(temp_2014.index, temp_2014)"
   ]
  },
  {
   "cell_type": "code",
   "execution_count": 144,
   "metadata": {
    "ExecuteTime": {
     "end_time": "2023-11-21T14:20:03.774830Z",
     "start_time": "2023-11-21T14:20:03.774830Z"
    }
   },
   "outputs": [
    {
     "data": {
      "text/html": [
       "<div>\n",
       "<style scoped>\n",
       "    .dataframe tbody tr th:only-of-type {\n",
       "        vertical-align: middle;\n",
       "    }\n",
       "\n",
       "    .dataframe tbody tr th {\n",
       "        vertical-align: top;\n",
       "    }\n",
       "\n",
       "    .dataframe thead th {\n",
       "        text-align: right;\n",
       "    }\n",
       "</style>\n",
       "<table border=\"1\" class=\"dataframe\">\n",
       "  <thead>\n",
       "    <tr style=\"text-align: right;\">\n",
       "      <th></th>\n",
       "      <th>사고(건)</th>\n",
       "      <th>사망(명)</th>\n",
       "      <th>부상(명)</th>\n",
       "    </tr>\n",
       "    <tr>\n",
       "      <th>구분</th>\n",
       "      <th></th>\n",
       "      <th></th>\n",
       "      <th></th>\n",
       "    </tr>\n",
       "  </thead>\n",
       "  <tbody>\n",
       "    <tr>\n",
       "      <th>2016-01-01</th>\n",
       "      <td>192</td>\n",
       "      <td>5</td>\n",
       "      <td>387</td>\n",
       "    </tr>\n",
       "    <tr>\n",
       "      <th>2016-02-01</th>\n",
       "      <td>174</td>\n",
       "      <td>6</td>\n",
       "      <td>328</td>\n",
       "    </tr>\n",
       "    <tr>\n",
       "      <th>2016-03-01</th>\n",
       "      <td>217</td>\n",
       "      <td>7</td>\n",
       "      <td>435</td>\n",
       "    </tr>\n",
       "    <tr>\n",
       "      <th>2016-04-01</th>\n",
       "      <td>216</td>\n",
       "      <td>7</td>\n",
       "      <td>419</td>\n",
       "    </tr>\n",
       "    <tr>\n",
       "      <th>2016-05-01</th>\n",
       "      <td>239</td>\n",
       "      <td>13</td>\n",
       "      <td>522</td>\n",
       "    </tr>\n",
       "    <tr>\n",
       "      <th>2016-06-01</th>\n",
       "      <td>200</td>\n",
       "      <td>12</td>\n",
       "      <td>362</td>\n",
       "    </tr>\n",
       "    <tr>\n",
       "      <th>2016-07-01</th>\n",
       "      <td>227</td>\n",
       "      <td>9</td>\n",
       "      <td>460</td>\n",
       "    </tr>\n",
       "    <tr>\n",
       "      <th>2016-08-01</th>\n",
       "      <td>230</td>\n",
       "      <td>7</td>\n",
       "      <td>490</td>\n",
       "    </tr>\n",
       "    <tr>\n",
       "      <th>2016-09-01</th>\n",
       "      <td>187</td>\n",
       "      <td>13</td>\n",
       "      <td>347</td>\n",
       "    </tr>\n",
       "    <tr>\n",
       "      <th>2016-10-01</th>\n",
       "      <td>183</td>\n",
       "      <td>10</td>\n",
       "      <td>367</td>\n",
       "    </tr>\n",
       "    <tr>\n",
       "      <th>2016-11-01</th>\n",
       "      <td>200</td>\n",
       "      <td>5</td>\n",
       "      <td>418</td>\n",
       "    </tr>\n",
       "    <tr>\n",
       "      <th>2016-12-01</th>\n",
       "      <td>168</td>\n",
       "      <td>4</td>\n",
       "      <td>364</td>\n",
       "    </tr>\n",
       "  </tbody>\n",
       "</table>\n",
       "</div>"
      ],
      "text/plain": [
       "            사고(건)  사망(명)  부상(명)\n",
       "구분                             \n",
       "2016-01-01    192      5    387\n",
       "2016-02-01    174      6    328\n",
       "2016-03-01    217      7    435\n",
       "2016-04-01    216      7    419\n",
       "2016-05-01    239     13    522\n",
       "2016-06-01    200     12    362\n",
       "2016-07-01    227      9    460\n",
       "2016-08-01    230      7    490\n",
       "2016-09-01    187     13    347\n",
       "2016-10-01    183     10    367\n",
       "2016-11-01    200      5    418\n",
       "2016-12-01    168      4    364"
      ]
     },
     "execution_count": 144,
     "metadata": {},
     "output_type": "execute_result"
    }
   ],
   "source": [
    "data_total.loc['2016']"
   ]
  },
  {
   "cell_type": "code",
   "execution_count": 145,
   "metadata": {
    "ExecuteTime": {
     "end_time": "2023-11-21T14:20:04.233295Z",
     "start_time": "2023-11-21T14:20:04.225799Z"
    },
    "scrolled": true
   },
   "outputs": [
    {
     "data": {
      "text/plain": [
       "4"
      ]
     },
     "execution_count": 145,
     "metadata": {},
     "output_type": "execute_result"
    }
   ],
   "source": [
    "# 6. 2015년 대비  사망이 가장 많이 증가한 2016년 도 월을 구하시요\n",
    "(data_total.loc['2016', '사망(명)'].values\n",
    " - data_total.loc['2015', '사망(명)'].values).argmax() # 가장 높은 값의 인덱스를 반환\n",
    "# 과연 맞을까?"
   ]
  },
  {
   "cell_type": "code",
   "execution_count": 148,
   "metadata": {
    "ExecuteTime": {
     "end_time": "2023-11-21T14:20:04.776267Z",
     "start_time": "2023-11-21T14:20:04.769651Z"
    }
   },
   "outputs": [
    {
     "data": {
      "text/plain": [
       "array([ -3,  -2,   3,  -3,   4,   4,   2, -12,   3,  -4,   2,  -4],\n",
       "      dtype=int64)"
      ]
     },
     "execution_count": 148,
     "metadata": {},
     "output_type": "execute_result"
    }
   ],
   "source": [
    "result = (data_total.loc['2016', '사망(명)'].values \n",
    "                     - data_total.loc['2015', '사망(명)'].values)\n",
    "result"
   ]
  },
  {
   "cell_type": "code",
   "execution_count": 149,
   "metadata": {
    "ExecuteTime": {
     "end_time": "2023-11-21T14:20:05.265091Z",
     "start_time": "2023-11-21T14:20:05.258111Z"
    },
    "scrolled": true
   },
   "outputs": [
    {
     "data": {
      "text/plain": [
       "1     -3\n",
       "2     -2\n",
       "3      3\n",
       "4     -3\n",
       "5      4\n",
       "6      4\n",
       "7      2\n",
       "8    -12\n",
       "9      3\n",
       "10    -4\n",
       "11     2\n",
       "12    -4\n",
       "dtype: int64"
      ]
     },
     "execution_count": 149,
     "metadata": {},
     "output_type": "execute_result"
    }
   ],
   "source": [
    "sr = pd.Series( result, index= range(1,13))\n",
    "sr"
   ]
  },
  {
   "cell_type": "code",
   "execution_count": 150,
   "metadata": {},
   "outputs": [
    {
     "data": {
      "text/plain": [
       "5    4\n",
       "6    4\n",
       "dtype: int64"
      ]
     },
     "execution_count": 150,
     "metadata": {},
     "output_type": "execute_result"
    }
   ],
   "source": [
    "sr.nlargest( 1, keep='all') # 상위 n개의 값을  반환,  keep (first 동등하면 첫번째것, all은 전체, )\n",
    "# 5월과 6월이 해당함"
   ]
  },
  {
   "cell_type": "code",
   "execution_count": 151,
   "metadata": {},
   "outputs": [
    {
     "data": {
      "text/plain": [
       "\u001b[1;31mSignature:\u001b[0m\n",
       "\u001b[0msr\u001b[0m\u001b[1;33m.\u001b[0m\u001b[0mnlargest\u001b[0m\u001b[1;33m(\u001b[0m\u001b[1;33m\n",
       "\u001b[0m    \u001b[0mn\u001b[0m\u001b[1;33m:\u001b[0m \u001b[1;34m'int'\u001b[0m \u001b[1;33m=\u001b[0m \u001b[1;36m5\u001b[0m\u001b[1;33m,\u001b[0m\u001b[1;33m\n",
       "\u001b[0m    \u001b[0mkeep\u001b[0m\u001b[1;33m:\u001b[0m \u001b[1;34m\"Literal['first', 'last', 'all']\"\u001b[0m \u001b[1;33m=\u001b[0m \u001b[1;34m'first'\u001b[0m\u001b[1;33m,\u001b[0m\u001b[1;33m\n",
       "\u001b[0m\u001b[1;33m)\u001b[0m \u001b[1;33m->\u001b[0m \u001b[1;34m'Series'\u001b[0m\u001b[1;33m\u001b[0m\u001b[1;33m\u001b[0m\u001b[0m\n",
       "\u001b[1;31mDocstring:\u001b[0m\n",
       "Return the largest `n` elements.\n",
       "\n",
       "Parameters\n",
       "----------\n",
       "n : int, default 5\n",
       "    Return this many descending sorted values.\n",
       "keep : {'first', 'last', 'all'}, default 'first'\n",
       "    When there are duplicate values that cannot all fit in a\n",
       "    Series of `n` elements:\n",
       "\n",
       "    - ``first`` : return the first `n` occurrences in order\n",
       "      of appearance.\n",
       "    - ``last`` : return the last `n` occurrences in reverse\n",
       "      order of appearance.\n",
       "    - ``all`` : keep all occurrences. This can result in a Series of\n",
       "      size larger than `n`.\n",
       "\n",
       "Returns\n",
       "-------\n",
       "Series\n",
       "    The `n` largest values in the Series, sorted in decreasing order.\n",
       "\n",
       "See Also\n",
       "--------\n",
       "Series.nsmallest: Get the `n` smallest elements.\n",
       "Series.sort_values: Sort Series by values.\n",
       "Series.head: Return the first `n` rows.\n",
       "\n",
       "Notes\n",
       "-----\n",
       "Faster than ``.sort_values(ascending=False).head(n)`` for small `n`\n",
       "relative to the size of the ``Series`` object.\n",
       "\n",
       "Examples\n",
       "--------\n",
       ">>> countries_population = {\"Italy\": 59000000, \"France\": 65000000,\n",
       "...                         \"Malta\": 434000, \"Maldives\": 434000,\n",
       "...                         \"Brunei\": 434000, \"Iceland\": 337000,\n",
       "...                         \"Nauru\": 11300, \"Tuvalu\": 11300,\n",
       "...                         \"Anguilla\": 11300, \"Montserrat\": 5200}\n",
       ">>> s = pd.Series(countries_population)\n",
       ">>> s\n",
       "Italy       59000000\n",
       "France      65000000\n",
       "Malta         434000\n",
       "Maldives      434000\n",
       "Brunei        434000\n",
       "Iceland       337000\n",
       "Nauru          11300\n",
       "Tuvalu         11300\n",
       "Anguilla       11300\n",
       "Montserrat      5200\n",
       "dtype: int64\n",
       "\n",
       "The `n` largest elements where ``n=5`` by default.\n",
       "\n",
       ">>> s.nlargest()\n",
       "France      65000000\n",
       "Italy       59000000\n",
       "Malta         434000\n",
       "Maldives      434000\n",
       "Brunei        434000\n",
       "dtype: int64\n",
       "\n",
       "The `n` largest elements where ``n=3``. Default `keep` value is 'first'\n",
       "so Malta will be kept.\n",
       "\n",
       ">>> s.nlargest(3)\n",
       "France    65000000\n",
       "Italy     59000000\n",
       "Malta       434000\n",
       "dtype: int64\n",
       "\n",
       "The `n` largest elements where ``n=3`` and keeping the last duplicates.\n",
       "Brunei will be kept since it is the last with value 434000 based on\n",
       "the index order.\n",
       "\n",
       ">>> s.nlargest(3, keep='last')\n",
       "France      65000000\n",
       "Italy       59000000\n",
       "Brunei        434000\n",
       "dtype: int64\n",
       "\n",
       "The `n` largest elements where ``n=3`` with all duplicates kept. Note\n",
       "that the returned Series has five elements due to the three duplicates.\n",
       "\n",
       ">>> s.nlargest(3, keep='all')\n",
       "France      65000000\n",
       "Italy       59000000\n",
       "Malta         434000\n",
       "Maldives      434000\n",
       "Brunei        434000\n",
       "dtype: int64\n",
       "\u001b[1;31mFile:\u001b[0m      c:\\users\\maeng\\anaconda3\\lib\\site-packages\\pandas\\core\\series.py\n",
       "\u001b[1;31mType:\u001b[0m      method"
      ]
     },
     "metadata": {},
     "output_type": "display_data"
    }
   ],
   "source": [
    "sr.nlargest?"
   ]
  }
 ],
 "metadata": {
  "kernelspec": {
   "display_name": "Python 3 (ipykernel)",
   "language": "python",
   "name": "python3"
  },
  "language_info": {
   "codemirror_mode": {
    "name": "ipython",
    "version": 3
   },
   "file_extension": ".py",
   "mimetype": "text/x-python",
   "name": "python",
   "nbconvert_exporter": "python",
   "pygments_lexer": "ipython3",
   "version": "3.11.5"
  },
  "latex_envs": {
   "LaTeX_envs_menu_present": true,
   "autoclose": false,
   "autocomplete": true,
   "bibliofile": "biblio.bib",
   "cite_by": "apalike",
   "current_citInitial": 1,
   "eqLabelWithNumbers": true,
   "eqNumInitial": 1,
   "hotkeys": {
    "equation": "Ctrl-E",
    "itemize": "Ctrl-I"
   },
   "labels_anchors": false,
   "latex_user_defs": false,
   "report_style_numbering": false,
   "user_envs_cfg": false
  },
  "toc": {
   "base_numbering": 1,
   "nav_menu": {},
   "number_sections": true,
   "sideBar": true,
   "skip_h1_title": false,
   "title_cell": "Table of Contents",
   "title_sidebar": "Contents",
   "toc_cell": false,
   "toc_position": {
    "height": "calc(100% - 180px)",
    "left": "10px",
    "top": "150px",
    "width": "192px"
   },
   "toc_section_display": true,
   "toc_window_display": false
  },
  "varInspector": {
   "cols": {
    "lenName": 16,
    "lenType": 16,
    "lenVar": 40
   },
   "kernels_config": {
    "python": {
     "delete_cmd_postfix": "",
     "delete_cmd_prefix": "del ",
     "library": "var_list.py",
     "varRefreshCmd": "print(var_dic_list())"
    },
    "r": {
     "delete_cmd_postfix": ") ",
     "delete_cmd_prefix": "rm(",
     "library": "var_list.r",
     "varRefreshCmd": "cat(var_dic_list()) "
    }
   },
   "types_to_exclude": [
    "module",
    "function",
    "builtin_function_or_method",
    "instance",
    "_Feature"
   ],
   "window_display": false
  }
 },
 "nbformat": 4,
 "nbformat_minor": 4
}
