{
 "cells": [
  {
   "cell_type": "code",
   "execution_count": 21,
   "id": "b559ffbf",
   "metadata": {},
   "outputs": [],
   "source": [
    "import pandas as pd\n",
    "import numpy as np\n",
    "import seaborn as sns\n",
    "import matplotlib.pylab as plt\n",
    "import koreanize_matplotlib "
   ]
  },
  {
   "cell_type": "code",
   "execution_count": 6,
   "id": "b392a147",
   "metadata": {},
   "outputs": [],
   "source": [
    "import pandas as pd\n",
    "\n",
    "access_data = pd.read_table('C:/workspace/WASSUP/05_Data_Analysis/data/mini.csv',sep=',')"
   ]
  },
  {
   "cell_type": "code",
   "execution_count": 7,
   "id": "5abd0096",
   "metadata": {},
   "outputs": [
    {
     "data": {
      "text/html": [
       "<div>\n",
       "<style scoped>\n",
       "    .dataframe tbody tr th:only-of-type {\n",
       "        vertical-align: middle;\n",
       "    }\n",
       "\n",
       "    .dataframe tbody tr th {\n",
       "        vertical-align: top;\n",
       "    }\n",
       "\n",
       "    .dataframe thead th {\n",
       "        text-align: right;\n",
       "    }\n",
       "</style>\n",
       "<table border=\"1\" class=\"dataframe\">\n",
       "  <thead>\n",
       "    <tr style=\"text-align: right;\">\n",
       "      <th></th>\n",
       "      <th>user_id</th>\n",
       "      <th>subscription_duration</th>\n",
       "      <th>recent_login_time</th>\n",
       "      <th>average_login_time</th>\n",
       "      <th>average_time_per_learning_session</th>\n",
       "      <th>monthly_active_learning_days</th>\n",
       "      <th>total_completed_courses</th>\n",
       "      <th>recent_learning_achievement</th>\n",
       "      <th>abandoned_learning_sessions</th>\n",
       "      <th>community_engagement_level</th>\n",
       "      <th>preferred_difficulty_level</th>\n",
       "      <th>subscription_type</th>\n",
       "      <th>customer_inquiry_history</th>\n",
       "      <th>payment_pattern</th>\n",
       "      <th>target</th>\n",
       "    </tr>\n",
       "  </thead>\n",
       "  <tbody>\n",
       "    <tr>\n",
       "      <th>0</th>\n",
       "      <td>b919c29d</td>\n",
       "      <td>13</td>\n",
       "      <td>14</td>\n",
       "      <td>14.946163</td>\n",
       "      <td>8.427187</td>\n",
       "      <td>18</td>\n",
       "      <td>16</td>\n",
       "      <td>68.360455</td>\n",
       "      <td>3</td>\n",
       "      <td>4</td>\n",
       "      <td>Low</td>\n",
       "      <td>Basic</td>\n",
       "      <td>4</td>\n",
       "      <td>5</td>\n",
       "      <td>0</td>\n",
       "    </tr>\n",
       "    <tr>\n",
       "      <th>1</th>\n",
       "      <td>a0a60abb</td>\n",
       "      <td>16</td>\n",
       "      <td>18</td>\n",
       "      <td>18.453224</td>\n",
       "      <td>72.646087</td>\n",
       "      <td>16</td>\n",
       "      <td>13</td>\n",
       "      <td>97.567322</td>\n",
       "      <td>2</td>\n",
       "      <td>3</td>\n",
       "      <td>Medium</td>\n",
       "      <td>Basic</td>\n",
       "      <td>1</td>\n",
       "      <td>6</td>\n",
       "      <td>1</td>\n",
       "    </tr>\n",
       "    <tr>\n",
       "      <th>2</th>\n",
       "      <td>b9f171ae</td>\n",
       "      <td>22</td>\n",
       "      <td>1</td>\n",
       "      <td>16.195228</td>\n",
       "      <td>21.774492</td>\n",
       "      <td>13</td>\n",
       "      <td>14</td>\n",
       "      <td>94.358763</td>\n",
       "      <td>3</td>\n",
       "      <td>4</td>\n",
       "      <td>Medium</td>\n",
       "      <td>Premium</td>\n",
       "      <td>0</td>\n",
       "      <td>7</td>\n",
       "      <td>1</td>\n",
       "    </tr>\n",
       "    <tr>\n",
       "      <th>3</th>\n",
       "      <td>5dc0ba8b</td>\n",
       "      <td>1</td>\n",
       "      <td>19</td>\n",
       "      <td>17.628656</td>\n",
       "      <td>42.659066</td>\n",
       "      <td>19</td>\n",
       "      <td>18</td>\n",
       "      <td>70.153228</td>\n",
       "      <td>0</td>\n",
       "      <td>3</td>\n",
       "      <td>Low</td>\n",
       "      <td>Basic</td>\n",
       "      <td>1</td>\n",
       "      <td>0</td>\n",
       "      <td>1</td>\n",
       "    </tr>\n",
       "    <tr>\n",
       "      <th>4</th>\n",
       "      <td>65c83654</td>\n",
       "      <td>4</td>\n",
       "      <td>5</td>\n",
       "      <td>21.390656</td>\n",
       "      <td>30.744287</td>\n",
       "      <td>19</td>\n",
       "      <td>10</td>\n",
       "      <td>81.917908</td>\n",
       "      <td>2</td>\n",
       "      <td>4</td>\n",
       "      <td>Medium</td>\n",
       "      <td>Basic</td>\n",
       "      <td>3</td>\n",
       "      <td>0</td>\n",
       "      <td>1</td>\n",
       "    </tr>\n",
       "  </tbody>\n",
       "</table>\n",
       "</div>"
      ],
      "text/plain": [
       "    user_id  subscription_duration  recent_login_time  average_login_time  \\\n",
       "0  b919c29d                     13                 14           14.946163   \n",
       "1  a0a60abb                     16                 18           18.453224   \n",
       "2  b9f171ae                     22                  1           16.195228   \n",
       "3  5dc0ba8b                      1                 19           17.628656   \n",
       "4  65c83654                      4                  5           21.390656   \n",
       "\n",
       "   average_time_per_learning_session  monthly_active_learning_days  \\\n",
       "0                           8.427187                            18   \n",
       "1                          72.646087                            16   \n",
       "2                          21.774492                            13   \n",
       "3                          42.659066                            19   \n",
       "4                          30.744287                            19   \n",
       "\n",
       "   total_completed_courses  recent_learning_achievement  \\\n",
       "0                       16                    68.360455   \n",
       "1                       13                    97.567322   \n",
       "2                       14                    94.358763   \n",
       "3                       18                    70.153228   \n",
       "4                       10                    81.917908   \n",
       "\n",
       "   abandoned_learning_sessions  community_engagement_level  \\\n",
       "0                            3                           4   \n",
       "1                            2                           3   \n",
       "2                            3                           4   \n",
       "3                            0                           3   \n",
       "4                            2                           4   \n",
       "\n",
       "  preferred_difficulty_level subscription_type  customer_inquiry_history  \\\n",
       "0                        Low             Basic                         4   \n",
       "1                     Medium             Basic                         1   \n",
       "2                     Medium           Premium                         0   \n",
       "3                        Low             Basic                         1   \n",
       "4                     Medium             Basic                         3   \n",
       "\n",
       "   payment_pattern  target  \n",
       "0                5       0  \n",
       "1                6       1  \n",
       "2                7       1  \n",
       "3                0       1  \n",
       "4                0       1  "
      ]
     },
     "execution_count": 7,
     "metadata": {},
     "output_type": "execute_result"
    }
   ],
   "source": [
    "access_data.head()"
   ]
  },
  {
   "cell_type": "code",
   "execution_count": 140,
   "id": "669e09b8",
   "metadata": {},
   "outputs": [
    {
     "data": {
      "text/plain": [
       "1        72.646087\n",
       "2        21.774492\n",
       "3        42.659066\n",
       "4        30.744287\n",
       "6       116.455949\n",
       "           ...    \n",
       "9994     88.757610\n",
       "9995     84.053558\n",
       "9996     45.464833\n",
       "9997    127.302411\n",
       "9998      5.297234\n",
       "Name: average_time_per_learning_session, Length: 6199, dtype: float64"
      ]
     },
     "execution_count": 140,
     "metadata": {},
     "output_type": "execute_result"
    }
   ],
   "source": [
    "target1=access_data[access_data.target==1]['average_time_per_learning_session']\n",
    "target1"
   ]
  },
  {
   "cell_type": "code",
   "execution_count": 142,
   "id": "601eba81",
   "metadata": {},
   "outputs": [
    {
     "data": {
      "text/plain": [
       "0         8.427187\n",
       "5        34.034189\n",
       "10      135.256834\n",
       "11      117.134599\n",
       "14        2.712124\n",
       "           ...    \n",
       "9980     40.075854\n",
       "9983      6.047050\n",
       "9987    160.590536\n",
       "9989     21.655545\n",
       "9999     28.120031\n",
       "Name: average_time_per_learning_session, Length: 3801, dtype: float64"
      ]
     },
     "execution_count": 142,
     "metadata": {},
     "output_type": "execute_result"
    }
   ],
   "source": [
    "target0=access_data[access_data.target==0]['average_time_per_learning_session']\n",
    "target0"
   ]
  },
  {
   "cell_type": "code",
   "execution_count": 143,
   "id": "86eb8af5",
   "metadata": {
    "scrolled": false
   },
   "outputs": [
    {
     "data": {
      "image/png": "[encoded data removed]",
      "text/plain": [
       "<Figure size 640x480 with 1 Axes>"
      ]
     },
     "metadata": {},
     "output_type": "display_data"
    }
   ],
   "source": [
    "plt.boxplot([target1,target0], vert=False)\n",
    "\n",
    "plt.yticks([1, 2], ['target1', 'target0'])\n",
    "\n",
    "plt.title(\"target별 average_time_per_learning_session Box Plot\")\n",
    "plt.ylabel(\"target\")\n",
    "plt.xlabel(\"average_time_per_learning_session\")\n",
    "plt.show()"
   ]
  },
  {
   "cell_type": "code",
   "execution_count": null,
   "id": "6af7645a",
   "metadata": {},
   "outputs": [],
   "source": []
  }
 ],
 "metadata": {
  "kernelspec": {
   "display_name": "Python 3 (ipykernel)",
   "language": "python",
   "name": "python3"
  },
  "language_info": {
   "codemirror_mode": {
    "name": "ipython",
    "version": 3
   },
   "file_extension": ".py",
   "mimetype": "text/x-python",
   "name": "python",
   "nbconvert_exporter": "python",
   "pygments_lexer": "ipython3",
   "version": "3.11.5"
  }
 },
 "nbformat": 4,
 "nbformat_minor": 5
}
