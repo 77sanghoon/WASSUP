{
 "cells": [
  {
   "cell_type": "markdown",
   "id": "59381c3a",
   "metadata": {},
   "source": [
    "## Selenium 사용하기"
   ]
  },
  {
   "cell_type": "code",
   "execution_count": 1,
   "id": "07c5f3a2",
   "metadata": {},
   "outputs": [
    {
     "name": "stdout",
     "output_type": "stream",
     "text": [
      "Requirement already satisfied: selenium in c:\\users\\7sang\\anaconda3\\lib\\site-packages (4.18.1)\n",
      "Requirement already satisfied: urllib3[socks]<3,>=1.26 in c:\\users\\7sang\\anaconda3\\lib\\site-packages (from selenium) (1.26.16)\n",
      "Requirement already satisfied: trio~=0.17 in c:\\users\\7sang\\anaconda3\\lib\\site-packages (from selenium) (0.25.0)\n",
      "Requirement already satisfied: trio-websocket~=0.9 in c:\\users\\7sang\\anaconda3\\lib\\site-packages (from selenium) (0.11.1)\n",
      "Requirement already satisfied: certifi>=2021.10.8 in c:\\users\\7sang\\anaconda3\\lib\\site-packages (from selenium) (2024.2.2)\n",
      "Requirement already satisfied: typing_extensions>=4.9.0 in c:\\users\\7sang\\anaconda3\\lib\\site-packages (from selenium) (4.10.0)\n",
      "Requirement already satisfied: attrs>=23.2.0 in c:\\users\\7sang\\anaconda3\\lib\\site-packages (from trio~=0.17->selenium) (23.2.0)\n",
      "Requirement already satisfied: sortedcontainers in c:\\users\\7sang\\anaconda3\\lib\\site-packages (from trio~=0.17->selenium) (2.4.0)\n",
      "Requirement already satisfied: idna in c:\\users\\7sang\\anaconda3\\lib\\site-packages (from trio~=0.17->selenium) (3.4)\n",
      "Requirement already satisfied: outcome in c:\\users\\7sang\\anaconda3\\lib\\site-packages (from trio~=0.17->selenium) (1.3.0.post0)\n",
      "Requirement already satisfied: sniffio>=1.3.0 in c:\\users\\7sang\\anaconda3\\lib\\site-packages (from trio~=0.17->selenium) (1.3.1)\n",
      "Requirement already satisfied: cffi>=1.14 in c:\\users\\7sang\\anaconda3\\lib\\site-packages (from trio~=0.17->selenium) (1.15.1)\n",
      "Requirement already satisfied: wsproto>=0.14 in c:\\users\\7sang\\anaconda3\\lib\\site-packages (from trio-websocket~=0.9->selenium) (1.2.0)\n",
      "Requirement already satisfied: PySocks!=1.5.7,<2.0,>=1.5.6 in c:\\users\\7sang\\anaconda3\\lib\\site-packages (from urllib3[socks]<3,>=1.26->selenium) (1.7.1)\n",
      "Requirement already satisfied: pycparser in c:\\users\\7sang\\anaconda3\\lib\\site-packages (from cffi>=1.14->trio~=0.17->selenium) (2.21)\n",
      "Requirement already satisfied: h11<1,>=0.9.0 in c:\\users\\7sang\\anaconda3\\lib\\site-packages (from wsproto>=0.14->trio-websocket~=0.9->selenium) (0.14.0)\n"
     ]
    }
   ],
   "source": [
    "!pip install selenium"
   ]
  },
  {
   "cell_type": "code",
   "execution_count": 1,
   "id": "420c70cd",
   "metadata": {},
   "outputs": [],
   "source": [
    "from selenium import webdriver\n",
    "from selenium.webdriver.common.by import By\n",
    "from selenium.webdriver.chrome.options import Options\n",
    "import time\n",
    "\n",
    "options = Options()\n",
    "options.add_experimental_option(\"detach\", True)"
   ]
  },
  {
   "cell_type": "markdown",
   "id": "0f3e94f1",
   "metadata": {},
   "source": [
    "## 브라우저 실생 및 페이지 접속"
   ]
  },
  {
   "cell_type": "code",
   "execution_count": 2,
   "id": "b9af3b56",
   "metadata": {},
   "outputs": [],
   "source": [
    "url = 'https://www.naver.com/'\n",
    "driver = webdriver.Chrome(options=options)"
   ]
  },
  {
   "cell_type": "code",
   "execution_count": 3,
   "id": "d65e5e18",
   "metadata": {},
   "outputs": [],
   "source": [
    "driver.get(url)\n",
    "\n",
    "time.sleep(2)"
   ]
  },
  {
   "cell_type": "markdown",
   "id": "e95631e2",
   "metadata": {},
   "source": [
    "## 상호작용"
   ]
  },
  {
   "cell_type": "code",
   "execution_count": 14,
   "id": "c65b82d6",
   "metadata": {},
   "outputs": [],
   "source": [
    "driver.back()"
   ]
  },
  {
   "cell_type": "code",
   "execution_count": 15,
   "id": "10caca1b",
   "metadata": {},
   "outputs": [],
   "source": [
    "driver.forward()"
   ]
  },
  {
   "cell_type": "code",
   "execution_count": 16,
   "id": "1ea7b606",
   "metadata": {},
   "outputs": [],
   "source": [
    "driver.refresh()"
   ]
  },
  {
   "cell_type": "markdown",
   "id": "f1a729df",
   "metadata": {},
   "source": [
    "## 페이지 정보 가져오기"
   ]
  },
  {
   "cell_type": "code",
   "execution_count": 17,
   "id": "e52079f8",
   "metadata": {},
   "outputs": [
    {
     "name": "stdout",
     "output_type": "stream",
     "text": [
      "<selenium.webdriver.chrome.webdriver.WebDriver (session=\"cc8963c4ea16958ee98448aff495fe62\")>\n"
     ]
    }
   ],
   "source": [
    "print(driver)"
   ]
  },
  {
   "cell_type": "code",
   "execution_count": 19,
   "id": "96fb79ca",
   "metadata": {},
   "outputs": [
    {
     "name": "stdout",
     "output_type": "stream",
     "text": [
      "NAVER https://www.naver.com/ FEDEAEE93FDC3777F6F353DBB5013FC1\n"
     ]
    }
   ],
   "source": [
    "title = driver.title\n",
    "url = driver.current_url\n",
    "handle = driver.current_window_handle\n",
    "print(title, url, handle)"
   ]
  },
  {
   "cell_type": "markdown",
   "id": "bf3dfa03",
   "metadata": {},
   "source": [
    "## html 요소 찾기"
   ]
  },
  {
   "cell_type": "code",
   "execution_count": 21,
   "id": "4667625e",
   "metadata": {},
   "outputs": [],
   "source": [
    "driver.find_element?"
   ]
  },
  {
   "cell_type": "code",
   "execution_count": 23,
   "id": "deb2c21f",
   "metadata": {},
   "outputs": [
    {
     "data": {
      "text/plain": [
       "<selenium.webdriver.remote.webelement.WebElement (session=\"cc8963c4ea16958ee98448aff495fe62\", element=\"f.FEDEAEE93FDC3777F6F353DBB5013FC1.d.ADBB6501298D8FBFB604030C9F4E4240.e.46\")>"
      ]
     },
     "execution_count": 23,
     "metadata": {},
     "output_type": "execute_result"
    }
   ],
   "source": [
    "driver.find_element(By.ID, \"query\")"
   ]
  },
  {
   "cell_type": "code",
   "execution_count": 24,
   "id": "83a7212f",
   "metadata": {},
   "outputs": [],
   "source": [
    "driver.find_element(By.ID, \"query\").send_keys('뉴진스')"
   ]
  },
  {
   "cell_type": "code",
   "execution_count": 34,
   "id": "91c31f52",
   "metadata": {},
   "outputs": [],
   "source": [
    "driver.find_element(By.CLASS_NAME, \"search_input\").send_keys('블랙핑크')"
   ]
  },
  {
   "cell_type": "code",
   "execution_count": 29,
   "id": "9fccd4a9",
   "metadata": {},
   "outputs": [],
   "source": [
    "driver.find_element(By.NAME, \"query\").send_keys('뉴진스')"
   ]
  },
  {
   "cell_type": "code",
   "execution_count": 30,
   "id": "ea999d74",
   "metadata": {},
   "outputs": [],
   "source": [
    "driver.find_element(By.CSS_SELECTOR, \".search_input\").send_keys('뉴진스')"
   ]
  },
  {
   "cell_type": "code",
   "execution_count": 31,
   "id": "c6342cca",
   "metadata": {},
   "outputs": [],
   "source": [
    "driver.find_element(By.CSS_SELECTOR, \"#query\").send_keys('뉴진스')"
   ]
  },
  {
   "cell_type": "code",
   "execution_count": 32,
   "id": "a12c3f68",
   "metadata": {},
   "outputs": [],
   "source": [
    "driver.find_element(By.CSS_SELECTOR, \"[title='검색어를 입력해 주세요.']\").send_keys('뉴진스')"
   ]
  },
  {
   "cell_type": "code",
   "execution_count": 33,
   "id": "df592532",
   "metadata": {},
   "outputs": [],
   "source": [
    "driver.find_element(By.CSS_SELECTOR, \"[placeholder='검색어를 입력해 주세요.']\").send_keys('뉴진스')"
   ]
  },
  {
   "cell_type": "code",
   "execution_count": null,
   "id": "813e63ec",
   "metadata": {},
   "outputs": [],
   "source": [
    "driver.find_element(By.CSS_SELECTOR, \"[placeholder='검색어를 입력해 주세요.']\").send_keys('뉴진스')"
   ]
  },
  {
   "cell_type": "code",
   "execution_count": 9,
   "id": "80bf7bee",
   "metadata": {},
   "outputs": [],
   "source": [
    "driver.find_element(By.XPATH, \"//*[@id='query']\").send_keys('뉴진스')"
   ]
  },
  {
   "cell_type": "markdown",
   "id": "e4a06efa",
   "metadata": {},
   "source": [
    "## 클릭"
   ]
  },
  {
   "cell_type": "code",
   "execution_count": 10,
   "id": "d6928758",
   "metadata": {},
   "outputs": [
    {
     "data": {
      "text/plain": [
       "<selenium.webdriver.remote.webelement.WebElement (session=\"6f84e897db9deec257c50966129b384d\", element=\"f.797EC5A55FF844E00CAF838ABB502246.d.E9FE71E16CE509B11F0489594F48EB61.e.70\")>"
      ]
     },
     "execution_count": 10,
     "metadata": {},
     "output_type": "execute_result"
    }
   ],
   "source": [
    "driver.find_element(By.LINK_TEXT, '쇼핑')"
   ]
  },
  {
   "cell_type": "code",
   "execution_count": 11,
   "id": "405e55f7",
   "metadata": {},
   "outputs": [
    {
     "data": {
      "text/plain": [
       "<selenium.webdriver.remote.webelement.WebElement (session=\"6f84e897db9deec257c50966129b384d\", element=\"f.797EC5A55FF844E00CAF838ABB502246.d.E9FE71E16CE509B11F0489594F48EB61.e.49726\")>"
      ]
     },
     "execution_count": 11,
     "metadata": {},
     "output_type": "execute_result"
    }
   ],
   "source": [
    "driver.find_element(By.LINK_TEXT, '회원가입')"
   ]
  },
  {
   "cell_type": "code",
   "execution_count": 14,
   "id": "92c1d8ea",
   "metadata": {},
   "outputs": [],
   "source": [
    "driver.find_element(By.LINK_TEXT, '뉴스홈').click()"
   ]
  },
  {
   "cell_type": "code",
   "execution_count": 15,
   "id": "c0a6ed1c",
   "metadata": {},
   "outputs": [],
   "source": [
    "driver.find_element(By.PARTIAL_LINK_TEXT, '쇼').click()"
   ]
  },
  {
   "cell_type": "code",
   "execution_count": 16,
   "id": "acff27c5",
   "metadata": {},
   "outputs": [
    {
     "data": {
      "text/plain": [
       "<selenium.webdriver.remote.webelement.WebElement (session=\"6f84e897db9deec257c50966129b384d\", element=\"f.797EC5A55FF844E00CAF838ABB502246.d.1EF90F68C4B8EC8F4D31A605E604380E.e.50470\")>"
      ]
     },
     "execution_count": 16,
     "metadata": {},
     "output_type": "execute_result"
    }
   ],
   "source": [
    "driver.find_element(By.TAG_NAME, 'div')"
   ]
  },
  {
   "cell_type": "code",
   "execution_count": 18,
   "id": "95f09955",
   "metadata": {},
   "outputs": [],
   "source": [
    "links = driver.find_elements(By.CSS_SELECTOR, '.link_service')"
   ]
  },
  {
   "cell_type": "code",
   "execution_count": 19,
   "id": "9439ea6b",
   "metadata": {
    "scrolled": true
   },
   "outputs": [
    {
     "name": "stdout",
     "output_type": "stream",
     "text": [
      "<selenium.webdriver.remote.webelement.WebElement (session=\"6f84e897db9deec257c50966129b384d\", element=\"f.797EC5A55FF844E00CAF838ABB502246.d.1EF90F68C4B8EC8F4D31A605E604380E.e.57158\")>\n",
      "<selenium.webdriver.remote.webelement.WebElement (session=\"6f84e897db9deec257c50966129b384d\", element=\"f.797EC5A55FF844E00CAF838ABB502246.d.1EF90F68C4B8EC8F4D31A605E604380E.e.55340\")>\n",
      "<selenium.webdriver.remote.webelement.WebElement (session=\"6f84e897db9deec257c50966129b384d\", element=\"f.797EC5A55FF844E00CAF838ABB502246.d.1EF90F68C4B8EC8F4D31A605E604380E.e.57159\")>\n",
      "<selenium.webdriver.remote.webelement.WebElement (session=\"6f84e897db9deec257c50966129b384d\", element=\"f.797EC5A55FF844E00CAF838ABB502246.d.1EF90F68C4B8EC8F4D31A605E604380E.e.52411\")>\n",
      "<selenium.webdriver.remote.webelement.WebElement (session=\"6f84e897db9deec257c50966129b384d\", element=\"f.797EC5A55FF844E00CAF838ABB502246.d.1EF90F68C4B8EC8F4D31A605E604380E.e.57160\")>\n",
      "<selenium.webdriver.remote.webelement.WebElement (session=\"6f84e897db9deec257c50966129b384d\", element=\"f.797EC5A55FF844E00CAF838ABB502246.d.1EF90F68C4B8EC8F4D31A605E604380E.e.57161\")>\n",
      "<selenium.webdriver.remote.webelement.WebElement (session=\"6f84e897db9deec257c50966129b384d\", element=\"f.797EC5A55FF844E00CAF838ABB502246.d.1EF90F68C4B8EC8F4D31A605E604380E.e.54953\")>\n",
      "<selenium.webdriver.remote.webelement.WebElement (session=\"6f84e897db9deec257c50966129b384d\", element=\"f.797EC5A55FF844E00CAF838ABB502246.d.1EF90F68C4B8EC8F4D31A605E604380E.e.54948\")>\n",
      "<selenium.webdriver.remote.webelement.WebElement (session=\"6f84e897db9deec257c50966129b384d\", element=\"f.797EC5A55FF844E00CAF838ABB502246.d.1EF90F68C4B8EC8F4D31A605E604380E.e.54942\")>\n",
      "<selenium.webdriver.remote.webelement.WebElement (session=\"6f84e897db9deec257c50966129b384d\", element=\"f.797EC5A55FF844E00CAF838ABB502246.d.1EF90F68C4B8EC8F4D31A605E604380E.e.54935\")>\n",
      "<selenium.webdriver.remote.webelement.WebElement (session=\"6f84e897db9deec257c50966129b384d\", element=\"f.797EC5A55FF844E00CAF838ABB502246.d.1EF90F68C4B8EC8F4D31A605E604380E.e.54929\")>\n"
     ]
    }
   ],
   "source": [
    "for link in links:\n",
    "    print(link)"
   ]
  },
  {
   "cell_type": "code",
   "execution_count": 20,
   "id": "26d97dd8",
   "metadata": {},
   "outputs": [
    {
     "name": "stdout",
     "output_type": "stream",
     "text": [
      "https://mail.naver.com/\n",
      "\n",
      "https://cafe.naver.com/\n",
      "\n",
      "https://blog.naver.com/\n",
      "\n",
      "https://shopping.naver.com/home\n",
      "\n",
      "https://news.naver.com/\n",
      "\n",
      "https://finance.naver.com/\n",
      "\n",
      "https://land.naver.com/\n",
      "\n",
      "https://map.naver.com/\n",
      "\n",
      "https://comic.naver.com/\n",
      "\n",
      "https://chzzk.naver.com/\n",
      "\n",
      "https://www.naver.com/#\n",
      "\n"
     ]
    }
   ],
   "source": [
    "for link in links:\n",
    "    print(link.get_attribute(\"href\"))\n",
    "    print()"
   ]
  },
  {
   "cell_type": "markdown",
   "id": "841cf7c4",
   "metadata": {},
   "source": [
    "## 자동 로그인 연습"
   ]
  },
  {
   "cell_type": "code",
   "execution_count": 21,
   "id": "1023527d",
   "metadata": {},
   "outputs": [],
   "source": [
    "url = 'file:///C:\\\\workspace\\\\WASSUP\\\\02_Data_Collection\\\\sample\\\\signin.html'\n",
    "driver = webdriver.Chrome(options=options)\n",
    "driver.get(url)\n",
    "time.sleep(2)"
   ]
  },
  {
   "cell_type": "code",
   "execution_count": 22,
   "id": "f16e466b",
   "metadata": {},
   "outputs": [],
   "source": [
    "username = driver.find_element(By.NAME, \"username\")\n",
    "username.send_keys('korea')"
   ]
  },
  {
   "cell_type": "code",
   "execution_count": 24,
   "id": "0f3ca434",
   "metadata": {},
   "outputs": [],
   "source": [
    "username = driver.find_element(By.NAME, \"password\")\n",
    "username.send_keys('1004')"
   ]
  },
  {
   "cell_type": "code",
   "execution_count": 27,
   "id": "2357c694",
   "metadata": {},
   "outputs": [],
   "source": [
    "login = driver.find_element(By.XPATH, '//*[@id=\"loginForm\"]/input[3]')\n",
    "login.click()"
   ]
  },
  {
   "cell_type": "code",
   "execution_count": 28,
   "id": "dbe3a289",
   "metadata": {},
   "outputs": [],
   "source": [
    "login = driver.find_element(By.CSS_SELECTOR, '#loginForm > input[type=submit]:nth-child(5)')\n",
    "login.click()"
   ]
  },
  {
   "cell_type": "code",
   "execution_count": 30,
   "id": "4cbee9a2",
   "metadata": {},
   "outputs": [],
   "source": [
    "login = driver.find_element(By.CSS_SELECTOR, \"[value='Login']\")\n",
    "login.click()"
   ]
  },
  {
   "cell_type": "code",
   "execution_count": 32,
   "id": "bc8ea831",
   "metadata": {},
   "outputs": [],
   "source": [
    "login = driver.find_element(By.CSS_SELECTOR, \"[name='continue']\")\n",
    "login.click()"
   ]
  },
  {
   "cell_type": "code",
   "execution_count": 36,
   "id": "a4036576",
   "metadata": {},
   "outputs": [],
   "source": [
    "driver.back()"
   ]
  },
  {
   "cell_type": "code",
   "execution_count": 34,
   "id": "fd1f7d6d",
   "metadata": {},
   "outputs": [],
   "source": [
    "username = driver.find_element(By.NAME, 'username')\n",
    "username.clear()"
   ]
  },
  {
   "cell_type": "code",
   "execution_count": 35,
   "id": "238b62cd",
   "metadata": {},
   "outputs": [],
   "source": [
    "username.submit()"
   ]
  },
  {
   "cell_type": "code",
   "execution_count": 37,
   "id": "4ab2ff14",
   "metadata": {},
   "outputs": [
    {
     "data": {
      "text/plain": [
       "'Are you sure you want to do this?'"
      ]
     },
     "execution_count": 37,
     "metadata": {},
     "output_type": "execute_result"
    }
   ],
   "source": [
    "driver.find_element(By.TAG_NAME, 'p').text"
   ]
  },
  {
   "cell_type": "code",
   "execution_count": 38,
   "id": "908878a9",
   "metadata": {},
   "outputs": [
    {
     "data": {
      "text/plain": [
       "'<html><head></head><body>\\n        <h1> Sign In </h1>\\n        <form action=\"moved.html\" id=\"loginForm\">\\n            ID : <input name=\"username\" type=\"text\"> <br>\\n            Password : <input name=\"password\" type=\"password\"> <br>\\n\\n            <input name=\"continue\" type=\"submit\" value=\"Login\">\\n            <input name=\"continue\" type=\"button\" value=\"Clear\">\\n        \\n        </form>\\n\\n        <p>Are you sure you want to do this?</p>\\n        <a href=\"continue.html\">Continue</a>\\n        <a href=\"cancel.html\">Cancel</a>\\n\\n        <h1>Welcome</h1>\\n        <p>Site content goes here.</p>\\n        <p class=\"content\">Site content goes here.</p>\\n    \\n</body></html>'"
      ]
     },
     "execution_count": 38,
     "metadata": {},
     "output_type": "execute_result"
    }
   ],
   "source": [
    "driver.page_source"
   ]
  },
  {
   "cell_type": "code",
   "execution_count": 39,
   "id": "5b4c8a7b",
   "metadata": {},
   "outputs": [
    {
     "ename": "WebDriverException",
     "evalue": "Message: disconnected: not connected to DevTools\n  (failed to check if window was closed: disconnected: not connected to DevTools)\n  (Session info: chrome=122.0.6261.129)\nStacktrace:\n\tGetHandleVerifier [0x00007FF62123AD02+56930]\n\t(No symbol) [0x00007FF6211AF602]\n\t(No symbol) [0x00007FF6210642E5]\n\t(No symbol) [0x00007FF621050879]\n\t(No symbol) [0x00007FF6210510AF]\n\t(No symbol) [0x00007FF621064845]\n\t(No symbol) [0x00007FF62104192C]\n\t(No symbol) [0x00007FF6210D97B7]\n\t(No symbol) [0x00007FF6210D91B9]\n\t(No symbol) [0x00007FF6210CBC60]\n\t(No symbol) [0x00007FF62109D438]\n\t(No symbol) [0x00007FF62109E4D1]\n\tGetHandleVerifier [0x00007FF6215B6F8D+3711213]\n\tGetHandleVerifier [0x00007FF6216104CD+4077101]\n\tGetHandleVerifier [0x00007FF62160865F+4044735]\n\tGetHandleVerifier [0x00007FF6212D9736+706710]\n\t(No symbol) [0x00007FF6211BB8DF]\n\t(No symbol) [0x00007FF6211B6AC4]\n\t(No symbol) [0x00007FF6211B6C1C]\n\t(No symbol) [0x00007FF6211A68D4]\n\tBaseThreadInitThunk [0x00007FFF91FE257D+29]\n\tRtlUserThreadStart [0x00007FFF9324AA58+40]\n",
     "output_type": "error",
     "traceback": [
      "\u001b[1;31m---------------------------------------------------------------------------\u001b[0m",
      "\u001b[1;31mWebDriverException\u001b[0m                        Traceback (most recent call last)",
      "Cell \u001b[1;32mIn[39], line 1\u001b[0m\n\u001b[1;32m----> 1\u001b[0m driver\u001b[38;5;241m.\u001b[39mclose()\n",
      "File \u001b[1;32m~\\anaconda3\\Lib\\site-packages\\selenium\\webdriver\\remote\\webdriver.py:458\u001b[0m, in \u001b[0;36mWebDriver.close\u001b[1;34m(self)\u001b[0m\n\u001b[0;32m    450\u001b[0m \u001b[38;5;28;01mdef\u001b[39;00m \u001b[38;5;21mclose\u001b[39m(\u001b[38;5;28mself\u001b[39m) \u001b[38;5;241m-\u001b[39m\u001b[38;5;241m>\u001b[39m \u001b[38;5;28;01mNone\u001b[39;00m:\n\u001b[0;32m    451\u001b[0m \u001b[38;5;250m    \u001b[39m\u001b[38;5;124;03m\"\"\"Closes the current window.\u001b[39;00m\n\u001b[0;32m    452\u001b[0m \n\u001b[0;32m    453\u001b[0m \u001b[38;5;124;03m    :Usage:\u001b[39;00m\n\u001b[1;32m   (...)\u001b[0m\n\u001b[0;32m    456\u001b[0m \u001b[38;5;124;03m            driver.close()\u001b[39;00m\n\u001b[0;32m    457\u001b[0m \u001b[38;5;124;03m    \"\"\"\u001b[39;00m\n\u001b[1;32m--> 458\u001b[0m     \u001b[38;5;28mself\u001b[39m\u001b[38;5;241m.\u001b[39mexecute(Command\u001b[38;5;241m.\u001b[39mCLOSE)\n",
      "File \u001b[1;32m~\\anaconda3\\Lib\\site-packages\\selenium\\webdriver\\remote\\webdriver.py:347\u001b[0m, in \u001b[0;36mWebDriver.execute\u001b[1;34m(self, driver_command, params)\u001b[0m\n\u001b[0;32m    345\u001b[0m response \u001b[38;5;241m=\u001b[39m \u001b[38;5;28mself\u001b[39m\u001b[38;5;241m.\u001b[39mcommand_executor\u001b[38;5;241m.\u001b[39mexecute(driver_command, params)\n\u001b[0;32m    346\u001b[0m \u001b[38;5;28;01mif\u001b[39;00m response:\n\u001b[1;32m--> 347\u001b[0m     \u001b[38;5;28mself\u001b[39m\u001b[38;5;241m.\u001b[39merror_handler\u001b[38;5;241m.\u001b[39mcheck_response(response)\n\u001b[0;32m    348\u001b[0m     response[\u001b[38;5;124m\"\u001b[39m\u001b[38;5;124mvalue\u001b[39m\u001b[38;5;124m\"\u001b[39m] \u001b[38;5;241m=\u001b[39m \u001b[38;5;28mself\u001b[39m\u001b[38;5;241m.\u001b[39m_unwrap_value(response\u001b[38;5;241m.\u001b[39mget(\u001b[38;5;124m\"\u001b[39m\u001b[38;5;124mvalue\u001b[39m\u001b[38;5;124m\"\u001b[39m, \u001b[38;5;28;01mNone\u001b[39;00m))\n\u001b[0;32m    349\u001b[0m     \u001b[38;5;28;01mreturn\u001b[39;00m response\n",
      "File \u001b[1;32m~\\anaconda3\\Lib\\site-packages\\selenium\\webdriver\\remote\\errorhandler.py:229\u001b[0m, in \u001b[0;36mErrorHandler.check_response\u001b[1;34m(self, response)\u001b[0m\n\u001b[0;32m    227\u001b[0m         alert_text \u001b[38;5;241m=\u001b[39m value[\u001b[38;5;124m\"\u001b[39m\u001b[38;5;124malert\u001b[39m\u001b[38;5;124m\"\u001b[39m]\u001b[38;5;241m.\u001b[39mget(\u001b[38;5;124m\"\u001b[39m\u001b[38;5;124mtext\u001b[39m\u001b[38;5;124m\"\u001b[39m)\n\u001b[0;32m    228\u001b[0m     \u001b[38;5;28;01mraise\u001b[39;00m exception_class(message, screen, stacktrace, alert_text)  \u001b[38;5;66;03m# type: ignore[call-arg]  # mypy is not smart enough here\u001b[39;00m\n\u001b[1;32m--> 229\u001b[0m \u001b[38;5;28;01mraise\u001b[39;00m exception_class(message, screen, stacktrace)\n",
      "\u001b[1;31mWebDriverException\u001b[0m: Message: disconnected: not connected to DevTools\n  (failed to check if window was closed: disconnected: not connected to DevTools)\n  (Session info: chrome=122.0.6261.129)\nStacktrace:\n\tGetHandleVerifier [0x00007FF62123AD02+56930]\n\t(No symbol) [0x00007FF6211AF602]\n\t(No symbol) [0x00007FF6210642E5]\n\t(No symbol) [0x00007FF621050879]\n\t(No symbol) [0x00007FF6210510AF]\n\t(No symbol) [0x00007FF621064845]\n\t(No symbol) [0x00007FF62104192C]\n\t(No symbol) [0x00007FF6210D97B7]\n\t(No symbol) [0x00007FF6210D91B9]\n\t(No symbol) [0x00007FF6210CBC60]\n\t(No symbol) [0x00007FF62109D438]\n\t(No symbol) [0x00007FF62109E4D1]\n\tGetHandleVerifier [0x00007FF6215B6F8D+3711213]\n\tGetHandleVerifier [0x00007FF6216104CD+4077101]\n\tGetHandleVerifier [0x00007FF62160865F+4044735]\n\tGetHandleVerifier [0x00007FF6212D9736+706710]\n\t(No symbol) [0x00007FF6211BB8DF]\n\t(No symbol) [0x00007FF6211B6AC4]\n\t(No symbol) [0x00007FF6211B6C1C]\n\t(No symbol) [0x00007FF6211A68D4]\n\tBaseThreadInitThunk [0x00007FFF91FE257D+29]\n\tRtlUserThreadStart [0x00007FFF9324AA58+40]\n"
     ]
    }
   ],
   "source": [
    "driver.close()"
   ]
  },
  {
   "cell_type": "markdown",
   "id": "d0f69fe8",
   "metadata": {},
   "source": [
    "## options"
   ]
  },
  {
   "cell_type": "code",
   "execution_count": 41,
   "id": "9cafcb1a",
   "metadata": {},
   "outputs": [],
   "source": [
    "from selenium import webdriver\n",
    "from selenium.webdriver.common.by import By\n",
    "from selenium.webdriver.chrome.options import Options\n",
    "import time\n",
    "\n",
    "options = Options()\n",
    "options.add_argument(\"--headless=new\")\n",
    "options.add_experimental_option(\"detach\", True)"
   ]
  },
  {
   "cell_type": "code",
   "execution_count": 43,
   "id": "62c0c0ab",
   "metadata": {},
   "outputs": [],
   "source": [
    "url = 'http://naver.com'\n",
    "driver = webdriver.Chrome(options=options)\n",
    "driver.get(url)\n",
    "time.sleep(2)"
   ]
  },
  {
   "cell_type": "code",
   "execution_count": 44,
   "id": "6b140bb3",
   "metadata": {},
   "outputs": [
    {
     "name": "stdout",
     "output_type": "stream",
     "text": [
      "NAVER\n"
     ]
    }
   ],
   "source": [
    "print(driver.title)"
   ]
  },
  {
   "cell_type": "code",
   "execution_count": 45,
   "id": "b8698ed7",
   "metadata": {},
   "outputs": [],
   "source": [
    "driver.quit()"
   ]
  },
  {
   "cell_type": "markdown",
   "id": "9ede64c3",
   "metadata": {},
   "source": [
    "## 윈도우 컨트롤"
   ]
  },
  {
   "cell_type": "code",
   "execution_count": 46,
   "id": "4ba5d8a4",
   "metadata": {},
   "outputs": [],
   "source": [
    "from selenium import webdriver\n",
    "from selenium.webdriver.common.by import By\n",
    "from selenium.webdriver.chrome.options import Options\n",
    "import time\n",
    "\n",
    "options = Options()\n",
    "options.add_experimental_option(\"detach\", True)\n",
    "\n",
    "url = 'http://naver.com'\n",
    "driver = webdriver.Chrome(options=options)\n",
    "driver.get(url)\n",
    "time.sleep(2)"
   ]
  },
  {
   "cell_type": "code",
   "execution_count": 47,
   "id": "b6d4aed1",
   "metadata": {},
   "outputs": [
    {
     "name": "stdout",
     "output_type": "stream",
     "text": [
      "1936px 1048px\n"
     ]
    }
   ],
   "source": [
    "size = driver.get_window_size()\n",
    "width = size.get(\"width\")\n",
    "height = size.get(\"height\")\n",
    "\n",
    "print(str(width)+\"px\"+\" \"+str(height)+\"px\")"
   ]
  },
  {
   "cell_type": "code",
   "execution_count": 48,
   "id": "43bf7a4f",
   "metadata": {},
   "outputs": [
    {
     "data": {
      "text/plain": [
       "{'height': 1012, 'width': 945, 'x': 10, 'y': 10}"
      ]
     },
     "execution_count": 48,
     "metadata": {},
     "output_type": "execute_result"
    }
   ],
   "source": [
    "driver.set_window_position(10,10)"
   ]
  },
  {
   "cell_type": "code",
   "execution_count": 51,
   "id": "f2c94b5a",
   "metadata": {},
   "outputs": [],
   "source": [
    "driver.maximize_window()"
   ]
  },
  {
   "cell_type": "code",
   "execution_count": 50,
   "id": "15fbee22",
   "metadata": {},
   "outputs": [],
   "source": [
    "driver.minimize_window()"
   ]
  },
  {
   "cell_type": "code",
   "execution_count": 52,
   "id": "f352f910",
   "metadata": {},
   "outputs": [
    {
     "data": {
      "text/plain": [
       "True"
      ]
     },
     "execution_count": 52,
     "metadata": {},
     "output_type": "execute_result"
    }
   ],
   "source": [
    "driver.save_screenshot('./image.png')"
   ]
  },
  {
   "cell_type": "code",
   "execution_count": 53,
   "id": "026de058",
   "metadata": {},
   "outputs": [],
   "source": [
    "driver.close()"
   ]
  },
  {
   "cell_type": "markdown",
   "id": "447a33ca",
   "metadata": {},
   "source": [
    "## 네이버 블로그 예제"
   ]
  },
  {
   "cell_type": "code",
   "execution_count": 54,
   "id": "7e35f94e",
   "metadata": {},
   "outputs": [],
   "source": [
    "from selenium import webdriver\n",
    "from selenium.webdriver.common.by import By\n",
    "from selenium.webdriver.chrome.options import Options\n",
    "import time, random, pandas as pd\n",
    "\n",
    "options = Options()\n",
    "options.add_argument('--window-size=974,1047')\n",
    "options.add_argument('--window-position=953,0')\n",
    "options.add_experimental_option(\"detach\", True)"
   ]
  },
  {
   "cell_type": "code",
   "execution_count": 55,
   "id": "79c53924",
   "metadata": {},
   "outputs": [],
   "source": [
    "driver = webdriver.Chrome(options = options)"
   ]
  },
  {
   "cell_type": "code",
   "execution_count": 57,
   "id": "8f44271c",
   "metadata": {},
   "outputs": [],
   "source": [
    "where = 'blog'\n",
    "query = '인공지능'\n",
    "dateform = '20221020to20231020'\n",
    "url = f'https://search.naver.com/search.naver?where={where}&query={query}&sm=tab_op&nso=so:r,p:from{dateform}'\n",
    "fname = f'{where}_{query}_{dateform}'"
   ]
  },
  {
   "cell_type": "code",
   "execution_count": 58,
   "id": "2abcfa40",
   "metadata": {},
   "outputs": [],
   "source": [
    "driver.get(url)\n",
    "time.sleep(random.randint(2,3))"
   ]
  },
  {
   "cell_type": "markdown",
   "id": "91e05dab",
   "metadata": {},
   "source": [
    "## execute_script()"
   ]
  },
  {
   "cell_type": "code",
   "execution_count": 72,
   "id": "a70602d6",
   "metadata": {},
   "outputs": [],
   "source": [
    "for i in range(10):\n",
    "    driver.execute_script('window.scrollTo(0, document.body.scrollHeight);')\n",
    "    time.sleep(random.randint(2,3))"
   ]
  },
  {
   "cell_type": "code",
   "execution_count": 81,
   "id": "c719dc5f",
   "metadata": {},
   "outputs": [
    {
     "name": "stdout",
     "output_type": "stream",
     "text": [
      "{'title': '로보어드바이저 수익률 비교, 인공지능 투자 성과는?', 'text': \"그럼 인공지능인 로보어드바이저와 일반 펀드의 운용 성과는 어땠을까요? 2022년 펀드 운용 성과 2022년 우리나라 국민의 일반펀드 평균 투자금액은 약 3749만원이고, 그중 이익을... 저도 그렇지만 이 운용하는 상품을 찾고 계신 분들도 의외로 많습니다. 제가 현재 가입하고 있다는 이야기를 하면 대부분의 반응은 '알려 달라'고 합니다. 많은 분들이...\", 'date': '2023.09.26.'}\n",
      "{'title': 'AI 인공지능 파이토치 서적으로 가볍게 시작해보죠', 'text': '인공지능이 표면적으로 한풀 꺽였다고는 하지만 관련된 서적과 툴들은 꾸준하게 발전하고 있습니다. 언어모델 개발뿐만 아니랄 이를 활용하는 프로폼트 엔지니어라고 하는... 인공지능과 코딩 프로그래밍이라는 단어아래 후끈한 이 시장에 알고 있어야 사람을 구하고 일도 시킬 수 있어서 오늘도 공부를 해야 하네요 ^^ 우선 쉽게 접근할 수 있는것 같아서 시작해...', 'date': '2023.10.02.'}\n",
      "{'title': '[종목분석] 의료 인공지능 딥노이드 주가 전망을 살펴봅니다', 'text': '그 중에서 오늘은 인공지능 딥노이드 주가를 살펴보려고 하는데 해당 종목은 이미 많이 상승한 상태입니다. 그렇다고 버릴 수는 없습니다. 의료관련주들은 이슈성이 강하기 때문에 특정 기간에 집중적으로 상승 또는 하락을 반복합니다. 관심목록에 넣어두었다가 주식 정세를 읽으면서 매수타이밍을 잡으면 됩니다. ▣이란 AI는 Artificial Intelligence의...', 'date': '2023.08.30.'}\n",
      "{'title': '인공지능에 기반한 신약개발 관련 기업들에 대한 생각', 'text': '이 글에서는 그동안 단편적으로 언급했던 인공지능에 기반한 신약개발 바이오 기업들에 대한 생각을 간단히 정리하고자 합니다. 오늘 한국 증시에서도 바이오 기업들이 강세를... 리커전 파마슈티컬스는 보도자료를 통해 엔비디아 클라우드 서비스를 사용해 기반 모델의 개발을 가속화할 것이라고 밝혔고, 전날 미국 장에서 장중 한때 121.09% 상승했다가...', 'date': '2023.07.13.'}\n",
      "{'title': 'NPU 관련주 뜻 - 인공지능 구글 텔레칩스 칩스앤미디어 주가 전망', 'text': 'NPU 관련주 뜻 - 인공지능 구글 텔레칩스 칩스앤미디어 주가 전망 NPU 뜻 NPU 는 Neural Processing Unit 의 약자로서 인간의 신경망을 따라하여 만들어진 인공신경망을 구현할 수 있는 반도체입니다. 개발의 핵심적인 역할을 합니다. 컴퓨터의 두뇌는 CPU 로 만들어집니다. 중앙처리장치 Central Processing Unit 의 약자이면서 컴퓨터가 해야 하는 거의 모든 계산은...', 'date': '2023.10.09.'}\n",
      "{'title': '인공지능(AI)이 인간의 일자리를 감소시킬 것인가?', 'text': '인공지능이 인간의 일자리를 대체? 이 질문은 최근에 사람들의 관심을 끌며 치열한 논쟁을 일으키고 있습니다. ChatGPT, Bard 및 Mindjourney와 같은 인공지능의 신속한 발전은 이 논의를... 그들은 컴퓨터가 인간의 일자리의 현실을 효율적으로 다루지 못하며, 대부분의 작업에 필요한 맥락적 이해, 상상력, 자유의지 및 감성지능 수준이 부족하다고 주장합니다. 일부...', 'date': '2023.07.13.'}\n",
      "{'title': '로봇 인공지능 관련주 BOTZ ETF 리얼리뷰', 'text': '요즘 로봇과 인공지능에 대한 투자자들의 관심이 뜨겁습니다. 이에 따라 로봇 관련 주식의 주가 흐름도 상당히 호조를 보이고 있는데요. 이번 글에서는 그중에서도 세계 로봇... BOTZ 포트폴리오 BOTZ는 다양한 로봇 및 기술에 투자하고 있는 기업들로 구성되어 있는데요. 미국을 비롯하여 일본, 스위스 등 다양한 국가의 주식을 보유하고 있습니다. (세...', 'date': '2023.06.22.'}\n",
      "{'title': '태양광 발전소 고장, 인공지능이 물샐틈없이 관리한다!', 'text': '한국에너지기술연구원 신재생시스템연구실 고석환 박사 연구진은 인공지능(AI)을 활용한 태양광 발전 고장 진단 기술을 개발했습니다. 10년 이상 태양광발전소 고장진단평가를 수행하며 수집한 I-V곡선* 정보를 데이터베이스화하고, 모델을 적용해 현장에 가지 않고도 태양광 패널의 오염, 성능 저하 등을 95% 이상의 정확도로 판단할 수 있죠. * I-V곡선...', 'date': '2023.10.10.'}\n",
      "{'title': 'AI인공지능 관련주 산업의 발달은 기계가 하게되는걸까', 'text': '언젠가부터 로봇에관련된 산업들이 다시금 발전을 하고 주목을 받고있으며, 챗gdp라는 기능이 도입이 되면서 AI인공지능에 관련된 사업들이 급부상을 하고있는 중인것 같습니다.... AI 관련주 주가 단순하게 생각을 해보면 일상생활을 하면서 영향을 줄수있는 산업들에도 많이 분포가 되어있겠지만, 우리들이 모르고있는 신기술이라 불리는 곳들에 훨씬더 많은...', 'date': '2023.09.05.'}\n",
      "{'title': '인공지능 AI 스피커 삼성 갤럭시 홈미니 기능', 'text': '버들붕어입니다.^^ 이버 시간에는 인공지능 AI 스피커 삼성 갤럭시 홈미니 기능에 대해 자세하게 알아보도록 하겠습니다. 해당 제품은 삼성전자가 개발하여 2020년에 출시를... 사진출처: Samsung 온라인 몰을 이용한 최저가 금액으로는 7만 원대에 AI 스피커 구매할 수 있으며, 앞서 말한 거와 같이 MINI 사이즈라 공간에 대한 제약이 없으며, 사무실 및 좁은...', 'date': '2023.09.04.'}\n",
      "{'title': '빙 챗gpt 쓰려면 엣지 브라우저로! 너만 몰라 인공지능 팁', 'text': '너만 몰라 인공지능 팁 by 엔돌슨 2023. 6. 30. 빙 챗gpt 쓰려면 엣지 브라우저로! 너만 몰라 인공지능 팁 응 너만 인공지능 쓸줄 몰라! 그래서 쉽게 Microsoft Edge 브라우저에서 ChatGPT를 이용하는 방법에 대해서 설명하려고 합니다. 챗봇, AI에 대한 디지털 가이드가 필요한 시대에 우리는 살고 있습니다. 점점 더 많이 과 통합되고 있습니다. 매주...', 'date': '2023.06.30.'}\n",
      "{'title': '[주간경제동향] 무선통신 경제성장 분석 (인공지능,6g)', 'text': '지금까지 인공지능 6G관련 무선통신 경제에 대해 살펴봤습니다. 이 산업에 필요한 건 초성능, 초대역, 초공간, 초정밀 및 지능입니다. 10년 단계로 발달하는 이동통신 기술이 전 산업과 사회에서 인프라를 형성하려면 다양한 통신요구를 만족해야 할 겁니다. 5G에서 볼 수 없었던 차별된 기술들이 모여 미래의 혁신산업을 독자적으로 이끌 거라고 생각하며 오늘 분석을...', 'date': '2023.10.10.'}\n",
      "{'title': '글로벌ETF! (12편) : 인공지능과 로보틱스 (Artificial Intelligence & Robotics)', 'text': '기고 : Global X 이경화 애널리스트 www.globalxetfs.com 지난시간에는 미국의 인플레이션 감축 법안 (Inflation Reduction Act)에 대해서 알아보았는데요 이번 시간에는 최근에 시장을 뜨겁게 달군 인공지능 및 로보틱스 테마에 대해서 알아보겠습니다. 코로나를 겪으면서 여러 산업에서 (AI)과 로봇은 모든 규모의 기업이 직면한 문제를 해결할 수 있는 혁신적인...', 'date': '2023.08.02.'}\n",
      "{'title': '적금 가입 vs 펀드 투자, 인공지능이 운용하는 콴텍 수익률과 추천 이유', 'text': \"저는 작년부터 인공지능이 주식을 매매해주는 '콴텍'에 돈을 넣어 운영하고 있습니다. 다른 이유는 없습니다. 그냥 수익률이 좋아서입니다. 저와 같은 생각을 하고 계신분이 많은지... 개설된 증권사 계좌에 입금하면 인공지능이 자동으로 매매를 시작합니다. 돈을 찾을 땐 콴텍 앱에서 상품을 해지하면 보유한 주식을 환매해 증권사 계좌로 입금 받을 수 있습니다....\", 'date': '2023.07.03.'}\n",
      "{'title': '[테마주분석] 의료기기와 ai 인공지능 의료용로봇 관련주 정리', 'text': '다섯 번째 셀루메드 사업부문 - 의료기기와 바이오로직스, 코스메슈티컬 의료기기 - 탈회골, 합성고분자 무릎연골 연구개발 무릎인공관절 전치환술에 세루메드의 첨단 로봇을 사용하고 있다고 합니다. 지금까지 의료기기와 의료용로봇 관련주들을 알아봤습니다. 이번에는 어떤 종목들이 있는지 살펴봤고 다음시간엔 각 종목 중 관심목록으로 넣어두면...', 'date': '2023.08.29.'}\n",
      "{'title': '‘상품 들고 나오면 자동 결제’...인공지능(AI) 스마트 편의점', 'text': \"출처=GS리테일 GS25가 사람 없이 인공지능(AI) 솔루션 만으로 운영되는 스마트 편의점 'GS25 DX 랩(LAB) 가산스마트점'을 오픈했습니다. 서울 금천구 가산디지털단지역 인근의 'GS25 DX 랩... 출처=이마트24 지난 1월부터는 신세계아이앤씨의 ‘스파로스 (AI) 수요예측’ 시스템을 도입해 이전에 1시간 이상 소요됐던 발주 시간을 5분으로 줄였는데요. 현재 13개...\", 'date': '2023.10.10.'}\n",
      "{'title': 'AI 인공지능 데이터 라벨링으로 수익 창출하는 법 (+무료교육 선착순 한정)', 'text': \"AI 인공지능 데이터 라벨링으로 수익 창출하는 법 (+무료교육 선착순 한정) 안녕하세요. 사진&IT 크리에이터 자유분방입니다. 올해 초 Chat GPT가 출시가 되면서, 인공지능 (AI)에 대한 관심도도 상당 부분 올라갔습니다. 그렇다 보니, 관련 직군들이 주목을 받고 있는데요. 관련 일거리는 어떤게 있을까요? 이번 글에서는 '데이터 라벨링'을 전문적으로...\", 'date': '2023.10.19.'}\n",
      "{'title': '미국주식 엔비디아 주가 500달러 돌파 - 인공지능 챗GPT 관련주', 'text': '생성형AI 인공지능의 최대 수혜주로 꼽히는 엔비디아가 2분기 실적을 발표했습니다. 예상보다 훨씬 상회하는 실적으로 장중에는 3%, 장마감후에는 6%가 상승해 주가는 500달러를 돌파했습니다. 후덜덜하네요. 매출은 시장 예상치 112억 2,000만 달러를 훌쩍 넘어선 135억 1,000만 달러를 기록해습니다. 전년도 동기 대비 88% 가 급증한 것인데요. 당연하게도 ...', 'date': '2023.08.24.'}\n",
      "{'title': '인공지능 OpenAI 해커톤 개발 공모전 SK 텔레콤 Prompterday 소개', 'text': '해커톤은 해킹과 마라톤이 합성된 말로 일정 시간 내에 주제에 맞는 서비스를 기발하는 공모전을 뜻하는데요~ 이번에 SK 텔레콤에서 인공지능 OpenAI 개발 공모전인 Prompter Day Seoul 2023 행사가 있어 소개를 해드리려 합니다. Prompter Day Seoul 2023 기술의 발달로 이제는 우리의 삶과 떼려야 뗄 수 없는 그런 시대에 살고 있는데요. 사실 예전에 나온...', 'date': '2023.08.24.'}\n",
      "{'title': '엔잡러가 원하는 인공지능 직업 데이터라벨링, 국비지원무료교육 가능!', 'text': '인공지능(AI)은 주입된 수많은 데이터를 통해 학습을 하며 이때 제공받는 데이터는 인공지능이 학습할 수 있도록 가공된 형태죠. 여기서 가공을 데이터 전처리 작업이라고 표현할 수 있는데 이것이 바로 데이터 라벨링이라고 이해하시면 됩니다. 최근에는 챗GPT가 화제가 되고 있는데요. 내가 원하는 질문을 하면 그에 따른 최적의 답변을 내어주고 있습니다. 이는 실제...', 'date': '2023.07.18.'}\n",
      "{'title': '신약 개발의 벽을 넘기 위한 도약, 인공지능 기반 신약 개발', 'text': '인공지능의 도입으로 약효를 결정하는 분자의 단순 스크리닝 과정을 효율화하고, 예상되는 문제를 사전에 예측해 신약 개발 성공 확률을 높일 수 있다는 가능성이 꾸준히 확인되고... 부족한 자본을 보완하는 기술력, 인공지능의 도입 사람의 노동력으로 진행되었던 지점을 으로 대체해 효율을 높일 수 있다. 자본이 부족하다면 막대한 자본을 요구하는 부분이...', 'date': '2023.09.18.'}\n",
      "{'title': '인공지능을 이용한 산불 감시 시스템', 'text': '과거 화재 감시는 인간의 눈에 의존했지만, 최근에는 인공지능을 적용하려는 시도가 이어지고 있습니다. 관련 스타트업 가운데 하나인 파노 AI (Pano AI)는 이미 캘리포니아, 오레건, 콜로라도, 워싱턴, 아이다호, 몬태나 주에서 240만 헥타르의 숲을 감시하고 있습니다. 최근 파노 AI는 화재 감시 영역을 호주로 확장했습니다....', 'date': '2023.08.08.'}\n",
      "{'title': 'AI 프로필 수면분석 통화요약 어플 SKT 에이닷 인공지능 기능', 'text': '인공지능 에이전트 서비스 SKT A.(에이닷)이 정식 출시되었습니다. 주목할 만한 신기능들도 업데이트가 되었는데요. 수면분석 도우미 A.sleep, 통화 내용을 요약해 주는 A.통화요약... AI 모션프로필 AI 모션프로필은 내 사진을 업로드하면 이 알아서 멋진 AI 프로필 이미지를 만들어주는 기능입니다. A.(에이닷)어플 [앱] 메뉴에 있는 [A. 포토]에서 실행할 수 있고요....', 'date': '2023.09.30.'}\n",
      "{'title': '(글로벌교육과) 인공지능 시대, 공공 인재개발 전략은?', 'text': '인공지능 혁신 시대에 대응하는 공직 인재개발 체계(패러다임)를 논하는 자리가 마련됩니다. 국가공무원인재개발원(원장 김채환, 이하 ‘국가인재원’)은 오는 27일부터 내달... ‘인공지능(AI) 혁신 시대에 대응하는 공직 인재개발 체계(패러다임)’를 주제로 열리는 올해 학술대회는 관심 있는 누구나 유튜브(인재교육TV) 시청 또는 현장 참여가 가능하며, 참가 신청은...', 'date': '2023.10.20.'}\n",
      "{'title': '윈도우 코파일럿 미리사용해본 AI 인공지능 기능! 윈도우 11 23H2 프리뷰 코파일럿 사용법', 'text': '얼리어답터 리뷰/IT정보 윈도우 코파일럿 미리사용해본 AI 인공지능 기능! 윈도우 11 23H2 프리뷰 코파일럿 사용법 by 엔돌슨 2023. 10. 5. 윈도우 코파일럿의 기능과 사용법 리뷰 이번에는 윈도우11에 내장된 윈도우 코파일럿 입니다. 챗GPT 같은 을 윈도우에서 직접 사용하여 윈도우를 제어할 수 있다니 대단하네요! 윈도우 11의 최신 업데이트 버전인 23H2...', 'date': '2023.10.05.'}\n",
      "{'title': 'AI 인공지능 관련주 대장주 TOP2!', 'text': 'AI 인공지능 관련주 대장주 TOP2! 주식 쉽게 하는 팁까지 공유! 오후에는 아직까지도 무더운데, 오전에는 날씨가 선선하니 좋네요. 곧 있음 단풍 소식에 추석 가을이 금방 올 것... 오늘은 향후 기대되는 섹터 중 하나인, AI 관련주와 대장주를 한 번 살펴 볼께요. AI 관련주 대장주 TOP2! © vishnumaiea, 출처 Unsplash 올 해 초 챗GPT 이슈를 시작으로, AI...', 'date': '2023.09.10.'}\n",
      "{'title': '[관심종목] 23년 마지막 주목받을 인공지능,반도체 산업주식 종목', 'text': '23년 8월에서 12월까지 남은 5개월을 장식할 인공지능,반도체 산업주식 종목에는 뭐가 있을까? 주식은 상황과 여건에 따라 빛나는 종목이 있습니다. 올해 초부터 인공지능에 강세를 보였고 2차전지가 중심에 있었습니다. 그리고 2차전지와 관련된 에코프로가 빛을 받았죠. 그렇다면 하반기에는 어떤 종목이 주목을 받고 대미를 장식할 것일까 저는 빅테크들이라고 봅니다....', 'date': '2023.08.06.'}\n",
      "{'title': \"수희향 작가의 '인공지능 시대, 교육의 미래' 강연\", 'text': \"톰 크루즈가 주연한 영화 '엣지 오브 투모로우'에 보면 주인공이 몸에 기계를 장착하는 착용 로봇을 입고 괴물과의 전쟁에 참여합니다. 이런 상상은 현실이 되고 있습니다. 교육의 미래는 인공지능의 시대라고 강사는 말합니다. 고정관념을 깨버려야 하며, 집단 속에서 생각하고 결정하면 큰 위력을 발휘할 수 있다 합니다. 많은 영화 속에서 보듯이 AI가 사람의 감정이나...\", 'date': '2023.09.27.'}\n",
      "{'title': '네이버 AI 큐(Cue:), 이제 특화된 대화형 인공지능!', 'text': '네이버 AI 클로바X가 서비스된지 얼마 되지 않았는데 네이버에서 추가로 새로운 인공지능 서비스가 시작되었습니다. 바로 네이버 AI 큐(Cue:)인데요. 큐는 하이버클로바X 기반으로 검색... 기존 검색 사이트를 이용하는 방식과 달리 으로 원하는 정보를 좀 더 빠르게 확인할 수 있어 맘에 드네요. 앞으로의 새로운 변화를 경험해 보고 싶은 분들은 지금 바로 큐...', 'date': '2023.10.04.'}\n",
      "{'title': '업무 효율을 향상시켜주는 필수 어플 - 회의, 인터뷰, 강의 등 인공지능이 자동으로 기록해 주는 클로바노트...', 'text': '회의, 인터뷰, 강의 등 인공지능이 자동으로 기록해 주는 클로바노트 녹음하는 방법입니다. 업무를 향상시켜주는 필수 어플 - 회의, 인터뷰, 강의 등 인공지능이 자동 기록해 주는 클로바노트로 녹음하는 방법 클로바 노트 회의, 인터뷰, 강의 등 녹음 내용을 눈으로 보면서 듣는 클로바노트입니다. 한번에 180분까지 녹음 가능하고 베타 서비스 기간 동안 300분까지...', 'date': '2023.10.01.'}\n"
     ]
    }
   ],
   "source": [
    "views = driver.find_elements(By.CSS_SELECTOR, '.lst_view .bx')\n",
    "result = []\n",
    "\n",
    "for view in views:\n",
    "    con_dict = {}\n",
    "    con_dict['title'] = view.find_element(By.CSS_SELECTOR, '.title_link').text\n",
    "    con_dict['text'] = view.find_element(By.CSS_SELECTOR, '.dsc_link').text\n",
    "    con_dict['date'] = view.find_element(By.CSS_SELECTOR, '.sub').text\n",
    "    result.append(con_dict)\n",
    "    print(con_dict)"
   ]
  },
  {
   "cell_type": "code",
   "execution_count": 82,
   "id": "20da2042",
   "metadata": {},
   "outputs": [],
   "source": [
    "df = pd.DataFrame(result)"
   ]
  },
  {
   "cell_type": "code",
   "execution_count": 83,
   "id": "2193d625",
   "metadata": {
    "scrolled": true
   },
   "outputs": [
    {
     "data": {
      "text/html": [
       "<div>\n",
       "<style scoped>\n",
       "    .dataframe tbody tr th:only-of-type {\n",
       "        vertical-align: middle;\n",
       "    }\n",
       "\n",
       "    .dataframe tbody tr th {\n",
       "        vertical-align: top;\n",
       "    }\n",
       "\n",
       "    .dataframe thead th {\n",
       "        text-align: right;\n",
       "    }\n",
       "</style>\n",
       "<table border=\"1\" class=\"dataframe\">\n",
       "  <thead>\n",
       "    <tr style=\"text-align: right;\">\n",
       "      <th></th>\n",
       "      <th>title</th>\n",
       "      <th>text</th>\n",
       "      <th>date</th>\n",
       "    </tr>\n",
       "  </thead>\n",
       "  <tbody>\n",
       "    <tr>\n",
       "      <th>0</th>\n",
       "      <td>로보어드바이저 수익률 비교, 인공지능 투자 성과는?</td>\n",
       "      <td>그럼 인공지능인 로보어드바이저와 일반 펀드의 운용 성과는 어땠을까요? 2022년 펀...</td>\n",
       "      <td>2023.09.26.</td>\n",
       "    </tr>\n",
       "    <tr>\n",
       "      <th>1</th>\n",
       "      <td>AI 인공지능 파이토치 서적으로 가볍게 시작해보죠</td>\n",
       "      <td>인공지능이 표면적으로 한풀 꺽였다고는 하지만 관련된 서적과 툴들은 꾸준하게 발전하고...</td>\n",
       "      <td>2023.10.02.</td>\n",
       "    </tr>\n",
       "    <tr>\n",
       "      <th>2</th>\n",
       "      <td>[종목분석] 의료 인공지능 딥노이드 주가 전망을 살펴봅니다</td>\n",
       "      <td>그 중에서 오늘은 인공지능 딥노이드 주가를 살펴보려고 하는데 해당 종목은 이미 많이...</td>\n",
       "      <td>2023.08.30.</td>\n",
       "    </tr>\n",
       "    <tr>\n",
       "      <th>3</th>\n",
       "      <td>인공지능에 기반한 신약개발 관련 기업들에 대한 생각</td>\n",
       "      <td>이 글에서는 그동안 단편적으로 언급했던 인공지능에 기반한 신약개발 바이오 기업들에 ...</td>\n",
       "      <td>2023.07.13.</td>\n",
       "    </tr>\n",
       "    <tr>\n",
       "      <th>4</th>\n",
       "      <td>NPU 관련주 뜻 - 인공지능 구글 텔레칩스 칩스앤미디어 주가 전망</td>\n",
       "      <td>NPU 관련주 뜻 - 인공지능 구글 텔레칩스 칩스앤미디어 주가 전망 NPU 뜻 NP...</td>\n",
       "      <td>2023.10.09.</td>\n",
       "    </tr>\n",
       "    <tr>\n",
       "      <th>5</th>\n",
       "      <td>인공지능(AI)이 인간의 일자리를 감소시킬 것인가?</td>\n",
       "      <td>인공지능이 인간의 일자리를 대체? 이 질문은 최근에 사람들의 관심을 끌며 치열한 논...</td>\n",
       "      <td>2023.07.13.</td>\n",
       "    </tr>\n",
       "    <tr>\n",
       "      <th>6</th>\n",
       "      <td>로봇 인공지능 관련주 BOTZ ETF 리얼리뷰</td>\n",
       "      <td>요즘 로봇과 인공지능에 대한 투자자들의 관심이 뜨겁습니다. 이에 따라 로봇 관련 주...</td>\n",
       "      <td>2023.06.22.</td>\n",
       "    </tr>\n",
       "    <tr>\n",
       "      <th>7</th>\n",
       "      <td>태양광 발전소 고장, 인공지능이 물샐틈없이 관리한다!</td>\n",
       "      <td>한국에너지기술연구원 신재생시스템연구실 고석환 박사 연구진은 인공지능(AI)을 활용한...</td>\n",
       "      <td>2023.10.10.</td>\n",
       "    </tr>\n",
       "    <tr>\n",
       "      <th>8</th>\n",
       "      <td>AI인공지능 관련주 산업의 발달은 기계가 하게되는걸까</td>\n",
       "      <td>언젠가부터 로봇에관련된 산업들이 다시금 발전을 하고 주목을 받고있으며, 챗gdp라는...</td>\n",
       "      <td>2023.09.05.</td>\n",
       "    </tr>\n",
       "    <tr>\n",
       "      <th>9</th>\n",
       "      <td>인공지능 AI 스피커 삼성 갤럭시 홈미니 기능</td>\n",
       "      <td>버들붕어입니다.^^ 이버 시간에는 인공지능 AI 스피커 삼성 갤럭시 홈미니 기능에 ...</td>\n",
       "      <td>2023.09.04.</td>\n",
       "    </tr>\n",
       "    <tr>\n",
       "      <th>10</th>\n",
       "      <td>빙 챗gpt 쓰려면 엣지 브라우저로! 너만 몰라 인공지능 팁</td>\n",
       "      <td>너만 몰라 인공지능 팁 by 엔돌슨 2023. 6. 30. 빙 챗gpt 쓰려면 엣지...</td>\n",
       "      <td>2023.06.30.</td>\n",
       "    </tr>\n",
       "    <tr>\n",
       "      <th>11</th>\n",
       "      <td>[주간경제동향] 무선통신 경제성장 분석 (인공지능,6g)</td>\n",
       "      <td>지금까지 인공지능 6G관련 무선통신 경제에 대해 살펴봤습니다. 이 산업에 필요한 건...</td>\n",
       "      <td>2023.10.10.</td>\n",
       "    </tr>\n",
       "    <tr>\n",
       "      <th>12</th>\n",
       "      <td>글로벌ETF! (12편) : 인공지능과 로보틱스 (Artificial Intelli...</td>\n",
       "      <td>기고 : Global X 이경화 애널리스트 www.globalxetfs.com 지난...</td>\n",
       "      <td>2023.08.02.</td>\n",
       "    </tr>\n",
       "    <tr>\n",
       "      <th>13</th>\n",
       "      <td>적금 가입 vs 펀드 투자, 인공지능이 운용하는 콴텍 수익률과 추천 이유</td>\n",
       "      <td>저는 작년부터 인공지능이 주식을 매매해주는 '콴텍'에 돈을 넣어 운영하고 있습니다....</td>\n",
       "      <td>2023.07.03.</td>\n",
       "    </tr>\n",
       "    <tr>\n",
       "      <th>14</th>\n",
       "      <td>[테마주분석] 의료기기와 ai 인공지능 의료용로봇 관련주 정리</td>\n",
       "      <td>다섯 번째 셀루메드 사업부문 - 의료기기와 바이오로직스, 코스메슈티컬 의료기기 - ...</td>\n",
       "      <td>2023.08.29.</td>\n",
       "    </tr>\n",
       "    <tr>\n",
       "      <th>15</th>\n",
       "      <td>‘상품 들고 나오면 자동 결제’...인공지능(AI) 스마트 편의점</td>\n",
       "      <td>출처=GS리테일 GS25가 사람 없이 인공지능(AI) 솔루션 만으로 운영되는 스마트...</td>\n",
       "      <td>2023.10.10.</td>\n",
       "    </tr>\n",
       "    <tr>\n",
       "      <th>16</th>\n",
       "      <td>AI 인공지능 데이터 라벨링으로 수익 창출하는 법 (+무료교육 선착순 한정)</td>\n",
       "      <td>AI 인공지능 데이터 라벨링으로 수익 창출하는 법 (+무료교육 선착순 한정) 안녕하...</td>\n",
       "      <td>2023.10.19.</td>\n",
       "    </tr>\n",
       "    <tr>\n",
       "      <th>17</th>\n",
       "      <td>미국주식 엔비디아 주가 500달러 돌파 - 인공지능 챗GPT 관련주</td>\n",
       "      <td>생성형AI 인공지능의 최대 수혜주로 꼽히는 엔비디아가 2분기 실적을 발표했습니다. ...</td>\n",
       "      <td>2023.08.24.</td>\n",
       "    </tr>\n",
       "    <tr>\n",
       "      <th>18</th>\n",
       "      <td>인공지능 OpenAI 해커톤 개발 공모전 SK 텔레콤 Prompterday 소개</td>\n",
       "      <td>해커톤은 해킹과 마라톤이 합성된 말로 일정 시간 내에 주제에 맞는 서비스를 기발하는...</td>\n",
       "      <td>2023.08.24.</td>\n",
       "    </tr>\n",
       "    <tr>\n",
       "      <th>19</th>\n",
       "      <td>엔잡러가 원하는 인공지능 직업 데이터라벨링, 국비지원무료교육 가능!</td>\n",
       "      <td>인공지능(AI)은 주입된 수많은 데이터를 통해 학습을 하며 이때 제공받는 데이터는 ...</td>\n",
       "      <td>2023.07.18.</td>\n",
       "    </tr>\n",
       "    <tr>\n",
       "      <th>20</th>\n",
       "      <td>신약 개발의 벽을 넘기 위한 도약, 인공지능 기반 신약 개발</td>\n",
       "      <td>인공지능의 도입으로 약효를 결정하는 분자의 단순 스크리닝 과정을 효율화하고, 예상되...</td>\n",
       "      <td>2023.09.18.</td>\n",
       "    </tr>\n",
       "    <tr>\n",
       "      <th>21</th>\n",
       "      <td>인공지능을 이용한 산불 감시 시스템</td>\n",
       "      <td>과거 화재 감시는 인간의 눈에 의존했지만, 최근에는 인공지능을 적용하려는 시도가 이...</td>\n",
       "      <td>2023.08.08.</td>\n",
       "    </tr>\n",
       "    <tr>\n",
       "      <th>22</th>\n",
       "      <td>AI 프로필 수면분석 통화요약 어플 SKT 에이닷 인공지능 기능</td>\n",
       "      <td>인공지능 에이전트 서비스 SKT A.(에이닷)이 정식 출시되었습니다. 주목할 만한 ...</td>\n",
       "      <td>2023.09.30.</td>\n",
       "    </tr>\n",
       "    <tr>\n",
       "      <th>23</th>\n",
       "      <td>(글로벌교육과) 인공지능 시대, 공공 인재개발 전략은?</td>\n",
       "      <td>인공지능 혁신 시대에 대응하는 공직 인재개발 체계(패러다임)를 논하는 자리가 마련됩...</td>\n",
       "      <td>2023.10.20.</td>\n",
       "    </tr>\n",
       "    <tr>\n",
       "      <th>24</th>\n",
       "      <td>윈도우 코파일럿 미리사용해본 AI 인공지능 기능! 윈도우 11 23H2 프리뷰 코파...</td>\n",
       "      <td>얼리어답터 리뷰/IT정보 윈도우 코파일럿 미리사용해본 AI 인공지능 기능! 윈도우 ...</td>\n",
       "      <td>2023.10.05.</td>\n",
       "    </tr>\n",
       "    <tr>\n",
       "      <th>25</th>\n",
       "      <td>AI 인공지능 관련주 대장주 TOP2!</td>\n",
       "      <td>AI 인공지능 관련주 대장주 TOP2! 주식 쉽게 하는 팁까지 공유! 오후에는 아직...</td>\n",
       "      <td>2023.09.10.</td>\n",
       "    </tr>\n",
       "    <tr>\n",
       "      <th>26</th>\n",
       "      <td>[관심종목] 23년 마지막 주목받을 인공지능,반도체 산업주식 종목</td>\n",
       "      <td>23년 8월에서 12월까지 남은 5개월을 장식할 인공지능,반도체 산업주식 종목에는 ...</td>\n",
       "      <td>2023.08.06.</td>\n",
       "    </tr>\n",
       "    <tr>\n",
       "      <th>27</th>\n",
       "      <td>수희향 작가의 '인공지능 시대, 교육의 미래' 강연</td>\n",
       "      <td>톰 크루즈가 주연한 영화 '엣지 오브 투모로우'에 보면 주인공이 몸에 기계를 장착하...</td>\n",
       "      <td>2023.09.27.</td>\n",
       "    </tr>\n",
       "    <tr>\n",
       "      <th>28</th>\n",
       "      <td>네이버 AI 큐(Cue:), 이제 특화된 대화형 인공지능!</td>\n",
       "      <td>네이버 AI 클로바X가 서비스된지 얼마 되지 않았는데 네이버에서 추가로 새로운 인공...</td>\n",
       "      <td>2023.10.04.</td>\n",
       "    </tr>\n",
       "    <tr>\n",
       "      <th>29</th>\n",
       "      <td>업무 효율을 향상시켜주는 필수 어플 - 회의, 인터뷰, 강의 등 인공지능이 자동으로...</td>\n",
       "      <td>회의, 인터뷰, 강의 등 인공지능이 자동으로 기록해 주는 클로바노트 녹음하는 방법입...</td>\n",
       "      <td>2023.10.01.</td>\n",
       "    </tr>\n",
       "  </tbody>\n",
       "</table>\n",
       "</div>"
      ],
      "text/plain": [
       "                                                title  \\\n",
       "0                        로보어드바이저 수익률 비교, 인공지능 투자 성과는?   \n",
       "1                         AI 인공지능 파이토치 서적으로 가볍게 시작해보죠   \n",
       "2                    [종목분석] 의료 인공지능 딥노이드 주가 전망을 살펴봅니다   \n",
       "3                        인공지능에 기반한 신약개발 관련 기업들에 대한 생각   \n",
       "4               NPU 관련주 뜻 - 인공지능 구글 텔레칩스 칩스앤미디어 주가 전망   \n",
       "5                        인공지능(AI)이 인간의 일자리를 감소시킬 것인가?   \n",
       "6                           로봇 인공지능 관련주 BOTZ ETF 리얼리뷰   \n",
       "7                       태양광 발전소 고장, 인공지능이 물샐틈없이 관리한다!   \n",
       "8                       AI인공지능 관련주 산업의 발달은 기계가 하게되는걸까   \n",
       "9                           인공지능 AI 스피커 삼성 갤럭시 홈미니 기능   \n",
       "10                  빙 챗gpt 쓰려면 엣지 브라우저로! 너만 몰라 인공지능 팁   \n",
       "11                    [주간경제동향] 무선통신 경제성장 분석 (인공지능,6g)   \n",
       "12  글로벌ETF! (12편) : 인공지능과 로보틱스 (Artificial Intelli...   \n",
       "13           적금 가입 vs 펀드 투자, 인공지능이 운용하는 콴텍 수익률과 추천 이유   \n",
       "14                 [테마주분석] 의료기기와 ai 인공지능 의료용로봇 관련주 정리   \n",
       "15               ‘상품 들고 나오면 자동 결제’...인공지능(AI) 스마트 편의점   \n",
       "16         AI 인공지능 데이터 라벨링으로 수익 창출하는 법 (+무료교육 선착순 한정)   \n",
       "17              미국주식 엔비디아 주가 500달러 돌파 - 인공지능 챗GPT 관련주   \n",
       "18       인공지능 OpenAI 해커톤 개발 공모전 SK 텔레콤 Prompterday 소개   \n",
       "19              엔잡러가 원하는 인공지능 직업 데이터라벨링, 국비지원무료교육 가능!   \n",
       "20                  신약 개발의 벽을 넘기 위한 도약, 인공지능 기반 신약 개발   \n",
       "21                                인공지능을 이용한 산불 감시 시스템   \n",
       "22                AI 프로필 수면분석 통화요약 어플 SKT 에이닷 인공지능 기능   \n",
       "23                     (글로벌교육과) 인공지능 시대, 공공 인재개발 전략은?   \n",
       "24  윈도우 코파일럿 미리사용해본 AI 인공지능 기능! 윈도우 11 23H2 프리뷰 코파...   \n",
       "25                              AI 인공지능 관련주 대장주 TOP2!   \n",
       "26               [관심종목] 23년 마지막 주목받을 인공지능,반도체 산업주식 종목   \n",
       "27                       수희향 작가의 '인공지능 시대, 교육의 미래' 강연   \n",
       "28                   네이버 AI 큐(Cue:), 이제 특화된 대화형 인공지능!   \n",
       "29  업무 효율을 향상시켜주는 필수 어플 - 회의, 인터뷰, 강의 등 인공지능이 자동으로...   \n",
       "\n",
       "                                                 text         date  \n",
       "0   그럼 인공지능인 로보어드바이저와 일반 펀드의 운용 성과는 어땠을까요? 2022년 펀...  2023.09.26.  \n",
       "1   인공지능이 표면적으로 한풀 꺽였다고는 하지만 관련된 서적과 툴들은 꾸준하게 발전하고...  2023.10.02.  \n",
       "2   그 중에서 오늘은 인공지능 딥노이드 주가를 살펴보려고 하는데 해당 종목은 이미 많이...  2023.08.30.  \n",
       "3   이 글에서는 그동안 단편적으로 언급했던 인공지능에 기반한 신약개발 바이오 기업들에 ...  2023.07.13.  \n",
       "4   NPU 관련주 뜻 - 인공지능 구글 텔레칩스 칩스앤미디어 주가 전망 NPU 뜻 NP...  2023.10.09.  \n",
       "5   인공지능이 인간의 일자리를 대체? 이 질문은 최근에 사람들의 관심을 끌며 치열한 논...  2023.07.13.  \n",
       "6   요즘 로봇과 인공지능에 대한 투자자들의 관심이 뜨겁습니다. 이에 따라 로봇 관련 주...  2023.06.22.  \n",
       "7   한국에너지기술연구원 신재생시스템연구실 고석환 박사 연구진은 인공지능(AI)을 활용한...  2023.10.10.  \n",
       "8   언젠가부터 로봇에관련된 산업들이 다시금 발전을 하고 주목을 받고있으며, 챗gdp라는...  2023.09.05.  \n",
       "9   버들붕어입니다.^^ 이버 시간에는 인공지능 AI 스피커 삼성 갤럭시 홈미니 기능에 ...  2023.09.04.  \n",
       "10  너만 몰라 인공지능 팁 by 엔돌슨 2023. 6. 30. 빙 챗gpt 쓰려면 엣지...  2023.06.30.  \n",
       "11  지금까지 인공지능 6G관련 무선통신 경제에 대해 살펴봤습니다. 이 산업에 필요한 건...  2023.10.10.  \n",
       "12  기고 : Global X 이경화 애널리스트 www.globalxetfs.com 지난...  2023.08.02.  \n",
       "13  저는 작년부터 인공지능이 주식을 매매해주는 '콴텍'에 돈을 넣어 운영하고 있습니다....  2023.07.03.  \n",
       "14  다섯 번째 셀루메드 사업부문 - 의료기기와 바이오로직스, 코스메슈티컬 의료기기 - ...  2023.08.29.  \n",
       "15  출처=GS리테일 GS25가 사람 없이 인공지능(AI) 솔루션 만으로 운영되는 스마트...  2023.10.10.  \n",
       "16  AI 인공지능 데이터 라벨링으로 수익 창출하는 법 (+무료교육 선착순 한정) 안녕하...  2023.10.19.  \n",
       "17  생성형AI 인공지능의 최대 수혜주로 꼽히는 엔비디아가 2분기 실적을 발표했습니다. ...  2023.08.24.  \n",
       "18  해커톤은 해킹과 마라톤이 합성된 말로 일정 시간 내에 주제에 맞는 서비스를 기발하는...  2023.08.24.  \n",
       "19  인공지능(AI)은 주입된 수많은 데이터를 통해 학습을 하며 이때 제공받는 데이터는 ...  2023.07.18.  \n",
       "20  인공지능의 도입으로 약효를 결정하는 분자의 단순 스크리닝 과정을 효율화하고, 예상되...  2023.09.18.  \n",
       "21  과거 화재 감시는 인간의 눈에 의존했지만, 최근에는 인공지능을 적용하려는 시도가 이...  2023.08.08.  \n",
       "22  인공지능 에이전트 서비스 SKT A.(에이닷)이 정식 출시되었습니다. 주목할 만한 ...  2023.09.30.  \n",
       "23  인공지능 혁신 시대에 대응하는 공직 인재개발 체계(패러다임)를 논하는 자리가 마련됩...  2023.10.20.  \n",
       "24  얼리어답터 리뷰/IT정보 윈도우 코파일럿 미리사용해본 AI 인공지능 기능! 윈도우 ...  2023.10.05.  \n",
       "25  AI 인공지능 관련주 대장주 TOP2! 주식 쉽게 하는 팁까지 공유! 오후에는 아직...  2023.09.10.  \n",
       "26  23년 8월에서 12월까지 남은 5개월을 장식할 인공지능,반도체 산업주식 종목에는 ...  2023.08.06.  \n",
       "27  톰 크루즈가 주연한 영화 '엣지 오브 투모로우'에 보면 주인공이 몸에 기계를 장착하...  2023.09.27.  \n",
       "28  네이버 AI 클로바X가 서비스된지 얼마 되지 않았는데 네이버에서 추가로 새로운 인공...  2023.10.04.  \n",
       "29  회의, 인터뷰, 강의 등 인공지능이 자동으로 기록해 주는 클로바노트 녹음하는 방법입...  2023.10.01.  "
      ]
     },
     "execution_count": 83,
     "metadata": {},
     "output_type": "execute_result"
    }
   ],
   "source": [
    "df"
   ]
  },
  {
   "cell_type": "code",
   "execution_count": 85,
   "id": "9daba5fc",
   "metadata": {},
   "outputs": [],
   "source": [
    "df.to_csv(f'./naver_{fname}.csv', sep=',', encoding='utf-8-sig')"
   ]
  },
  {
   "cell_type": "markdown",
   "id": "f6d258e0",
   "metadata": {},
   "source": [
    "## 구글 플레이 리뷰"
   ]
  },
  {
   "cell_type": "code",
   "execution_count": 1,
   "id": "eb9fa029",
   "metadata": {},
   "outputs": [],
   "source": [
    "from selenium import webdriver\n",
    "from selenium.webdriver.common.by import By\n",
    "from selenium.webdriver.chrome.options import Options\n",
    "import time, random, pandas as pd\n",
    "\n",
    "options = Options()\n",
    "options.add_argument('--window-size=974,1047')\n",
    "options.add_argument('--window-position=953,0')\n",
    "options.add_experimental_option(\"detach\", True)\n",
    "\n",
    "driver = webdriver.Chrome(options = options)\n",
    "url = 'https://play.google.com/store/apps/details?id=com.estsoft.picnic'\n",
    "driver.get(url)\n",
    "time.sleep(random.randint(2,3))"
   ]
  },
  {
   "cell_type": "code",
   "execution_count": 2,
   "id": "36334cb9",
   "metadata": {},
   "outputs": [],
   "source": [
    "xpath = '//*[@id=\"yDmH0d\"]/c-wiz[2]/div/div/div[1]/div/div[2]/div/div[1]/div[1]/c-wiz[5]/section/div/div[2]/div[5]/div/div/button/span'"
   ]
  },
  {
   "cell_type": "code",
   "execution_count": 3,
   "id": "46598610",
   "metadata": {},
   "outputs": [],
   "source": [
    "driver.find_element(By.XPATH, xpath).click()\n",
    "time.sleep(random.randint(2, 3))"
   ]
  },
  {
   "cell_type": "code",
   "execution_count": 4,
   "id": "6a1bee5c",
   "metadata": {},
   "outputs": [],
   "source": [
    "for i in range(10):\n",
    "    review_box = driver.find_element(By.CSS_SELECTOR, 'div.fysCi')\n",
    "    driver.execute_script('arguments[0].scrollTop = arguments[0].scrollHeight', review_box)\n",
    "    time.sleep(random.randint(2,3))"
   ]
  },
  {
   "cell_type": "code",
   "execution_count": 5,
   "id": "b987b284",
   "metadata": {},
   "outputs": [],
   "source": [
    "reviews = driver.find_elements(By.CSS_SELECTOR, 'div.RHo1pe')"
   ]
  },
  {
   "cell_type": "code",
   "execution_count": 6,
   "id": "08c71240",
   "metadata": {},
   "outputs": [
    {
     "data": {
      "text/plain": [
       "[<selenium.webdriver.remote.webelement.WebElement (session=\"18fddf4282787f51c0d9296f305c13cd\", element=\"f.AF1A3034BA54B75556DAC7D56E2F3A33.d.FF35F724024BFE91FC600F28DA103419.e.1606\")>,\n",
       " <selenium.webdriver.remote.webelement.WebElement (session=\"18fddf4282787f51c0d9296f305c13cd\", element=\"f.AF1A3034BA54B75556DAC7D56E2F3A33.d.FF35F724024BFE91FC600F28DA103419.e.1682\")>,\n",
       " <selenium.webdriver.remote.webelement.WebElement (session=\"18fddf4282787f51c0d9296f305c13cd\", element=\"f.AF1A3034BA54B75556DAC7D56E2F3A33.d.FF35F724024BFE91FC600F28DA103419.e.1758\")>,\n",
       " <selenium.webdriver.remote.webelement.WebElement (session=\"18fddf4282787f51c0d9296f305c13cd\", element=\"f.AF1A3034BA54B75556DAC7D56E2F3A33.d.FF35F724024BFE91FC600F28DA103419.e.1834\")>,\n",
       " <selenium.webdriver.remote.webelement.WebElement (session=\"18fddf4282787f51c0d9296f305c13cd\", element=\"f.AF1A3034BA54B75556DAC7D56E2F3A33.d.FF35F724024BFE91FC600F28DA103419.e.1907\")>,\n",
       " <selenium.webdriver.remote.webelement.WebElement (session=\"18fddf4282787f51c0d9296f305c13cd\", element=\"f.AF1A3034BA54B75556DAC7D56E2F3A33.d.FF35F724024BFE91FC600F28DA103419.e.1980\")>,\n",
       " <selenium.webdriver.remote.webelement.WebElement (session=\"18fddf4282787f51c0d9296f305c13cd\", element=\"f.AF1A3034BA54B75556DAC7D56E2F3A33.d.FF35F724024BFE91FC600F28DA103419.e.2056\")>,\n",
       " <selenium.webdriver.remote.webelement.WebElement (session=\"18fddf4282787f51c0d9296f305c13cd\", element=\"f.AF1A3034BA54B75556DAC7D56E2F3A33.d.FF35F724024BFE91FC600F28DA103419.e.2134\")>,\n",
       " <selenium.webdriver.remote.webelement.WebElement (session=\"18fddf4282787f51c0d9296f305c13cd\", element=\"f.AF1A3034BA54B75556DAC7D56E2F3A33.d.FF35F724024BFE91FC600F28DA103419.e.2210\")>,\n",
       " <selenium.webdriver.remote.webelement.WebElement (session=\"18fddf4282787f51c0d9296f305c13cd\", element=\"f.AF1A3034BA54B75556DAC7D56E2F3A33.d.FF35F724024BFE91FC600F28DA103419.e.2286\")>,\n",
       " <selenium.webdriver.remote.webelement.WebElement (session=\"18fddf4282787f51c0d9296f305c13cd\", element=\"f.AF1A3034BA54B75556DAC7D56E2F3A33.d.FF35F724024BFE91FC600F28DA103419.e.2362\")>,\n",
       " <selenium.webdriver.remote.webelement.WebElement (session=\"18fddf4282787f51c0d9296f305c13cd\", element=\"f.AF1A3034BA54B75556DAC7D56E2F3A33.d.FF35F724024BFE91FC600F28DA103419.e.2438\")>,\n",
       " <selenium.webdriver.remote.webelement.WebElement (session=\"18fddf4282787f51c0d9296f305c13cd\", element=\"f.AF1A3034BA54B75556DAC7D56E2F3A33.d.FF35F724024BFE91FC600F28DA103419.e.2516\")>,\n",
       " <selenium.webdriver.remote.webelement.WebElement (session=\"18fddf4282787f51c0d9296f305c13cd\", element=\"f.AF1A3034BA54B75556DAC7D56E2F3A33.d.FF35F724024BFE91FC600F28DA103419.e.2586\")>,\n",
       " <selenium.webdriver.remote.webelement.WebElement (session=\"18fddf4282787f51c0d9296f305c13cd\", element=\"f.AF1A3034BA54B75556DAC7D56E2F3A33.d.FF35F724024BFE91FC600F28DA103419.e.2662\")>,\n",
       " <selenium.webdriver.remote.webelement.WebElement (session=\"18fddf4282787f51c0d9296f305c13cd\", element=\"f.AF1A3034BA54B75556DAC7D56E2F3A33.d.FF35F724024BFE91FC600F28DA103419.e.2732\")>,\n",
       " <selenium.webdriver.remote.webelement.WebElement (session=\"18fddf4282787f51c0d9296f305c13cd\", element=\"f.AF1A3034BA54B75556DAC7D56E2F3A33.d.FF35F724024BFE91FC600F28DA103419.e.2808\")>,\n",
       " <selenium.webdriver.remote.webelement.WebElement (session=\"18fddf4282787f51c0d9296f305c13cd\", element=\"f.AF1A3034BA54B75556DAC7D56E2F3A33.d.FF35F724024BFE91FC600F28DA103419.e.2878\")>,\n",
       " <selenium.webdriver.remote.webelement.WebElement (session=\"18fddf4282787f51c0d9296f305c13cd\", element=\"f.AF1A3034BA54B75556DAC7D56E2F3A33.d.FF35F724024BFE91FC600F28DA103419.e.2954\")>,\n",
       " <selenium.webdriver.remote.webelement.WebElement (session=\"18fddf4282787f51c0d9296f305c13cd\", element=\"f.AF1A3034BA54B75556DAC7D56E2F3A33.d.FF35F724024BFE91FC600F28DA103419.e.3030\")>,\n",
       " <selenium.webdriver.remote.webelement.WebElement (session=\"18fddf4282787f51c0d9296f305c13cd\", element=\"f.AF1A3034BA54B75556DAC7D56E2F3A33.d.FF35F724024BFE91FC600F28DA103419.e.3598\")>,\n",
       " <selenium.webdriver.remote.webelement.WebElement (session=\"18fddf4282787f51c0d9296f305c13cd\", element=\"f.AF1A3034BA54B75556DAC7D56E2F3A33.d.FF35F724024BFE91FC600F28DA103419.e.3599\")>,\n",
       " <selenium.webdriver.remote.webelement.WebElement (session=\"18fddf4282787f51c0d9296f305c13cd\", element=\"f.AF1A3034BA54B75556DAC7D56E2F3A33.d.FF35F724024BFE91FC600F28DA103419.e.3600\")>,\n",
       " <selenium.webdriver.remote.webelement.WebElement (session=\"18fddf4282787f51c0d9296f305c13cd\", element=\"f.AF1A3034BA54B75556DAC7D56E2F3A33.d.FF35F724024BFE91FC600F28DA103419.e.3601\")>,\n",
       " <selenium.webdriver.remote.webelement.WebElement (session=\"18fddf4282787f51c0d9296f305c13cd\", element=\"f.AF1A3034BA54B75556DAC7D56E2F3A33.d.FF35F724024BFE91FC600F28DA103419.e.3602\")>,\n",
       " <selenium.webdriver.remote.webelement.WebElement (session=\"18fddf4282787f51c0d9296f305c13cd\", element=\"f.AF1A3034BA54B75556DAC7D56E2F3A33.d.FF35F724024BFE91FC600F28DA103419.e.3603\")>,\n",
       " <selenium.webdriver.remote.webelement.WebElement (session=\"18fddf4282787f51c0d9296f305c13cd\", element=\"f.AF1A3034BA54B75556DAC7D56E2F3A33.d.FF35F724024BFE91FC600F28DA103419.e.3604\")>,\n",
       " <selenium.webdriver.remote.webelement.WebElement (session=\"18fddf4282787f51c0d9296f305c13cd\", element=\"f.AF1A3034BA54B75556DAC7D56E2F3A33.d.FF35F724024BFE91FC600F28DA103419.e.3605\")>,\n",
       " <selenium.webdriver.remote.webelement.WebElement (session=\"18fddf4282787f51c0d9296f305c13cd\", element=\"f.AF1A3034BA54B75556DAC7D56E2F3A33.d.FF35F724024BFE91FC600F28DA103419.e.3606\")>,\n",
       " <selenium.webdriver.remote.webelement.WebElement (session=\"18fddf4282787f51c0d9296f305c13cd\", element=\"f.AF1A3034BA54B75556DAC7D56E2F3A33.d.FF35F724024BFE91FC600F28DA103419.e.3607\")>,\n",
       " <selenium.webdriver.remote.webelement.WebElement (session=\"18fddf4282787f51c0d9296f305c13cd\", element=\"f.AF1A3034BA54B75556DAC7D56E2F3A33.d.FF35F724024BFE91FC600F28DA103419.e.3608\")>,\n",
       " <selenium.webdriver.remote.webelement.WebElement (session=\"18fddf4282787f51c0d9296f305c13cd\", element=\"f.AF1A3034BA54B75556DAC7D56E2F3A33.d.FF35F724024BFE91FC600F28DA103419.e.3609\")>,\n",
       " <selenium.webdriver.remote.webelement.WebElement (session=\"18fddf4282787f51c0d9296f305c13cd\", element=\"f.AF1A3034BA54B75556DAC7D56E2F3A33.d.FF35F724024BFE91FC600F28DA103419.e.3610\")>,\n",
       " <selenium.webdriver.remote.webelement.WebElement (session=\"18fddf4282787f51c0d9296f305c13cd\", element=\"f.AF1A3034BA54B75556DAC7D56E2F3A33.d.FF35F724024BFE91FC600F28DA103419.e.3611\")>,\n",
       " <selenium.webdriver.remote.webelement.WebElement (session=\"18fddf4282787f51c0d9296f305c13cd\", element=\"f.AF1A3034BA54B75556DAC7D56E2F3A33.d.FF35F724024BFE91FC600F28DA103419.e.3612\")>,\n",
       " <selenium.webdriver.remote.webelement.WebElement (session=\"18fddf4282787f51c0d9296f305c13cd\", element=\"f.AF1A3034BA54B75556DAC7D56E2F3A33.d.FF35F724024BFE91FC600F28DA103419.e.3613\")>,\n",
       " <selenium.webdriver.remote.webelement.WebElement (session=\"18fddf4282787f51c0d9296f305c13cd\", element=\"f.AF1A3034BA54B75556DAC7D56E2F3A33.d.FF35F724024BFE91FC600F28DA103419.e.3614\")>,\n",
       " <selenium.webdriver.remote.webelement.WebElement (session=\"18fddf4282787f51c0d9296f305c13cd\", element=\"f.AF1A3034BA54B75556DAC7D56E2F3A33.d.FF35F724024BFE91FC600F28DA103419.e.3615\")>,\n",
       " <selenium.webdriver.remote.webelement.WebElement (session=\"18fddf4282787f51c0d9296f305c13cd\", element=\"f.AF1A3034BA54B75556DAC7D56E2F3A33.d.FF35F724024BFE91FC600F28DA103419.e.3616\")>,\n",
       " <selenium.webdriver.remote.webelement.WebElement (session=\"18fddf4282787f51c0d9296f305c13cd\", element=\"f.AF1A3034BA54B75556DAC7D56E2F3A33.d.FF35F724024BFE91FC600F28DA103419.e.3617\")>,\n",
       " <selenium.webdriver.remote.webelement.WebElement (session=\"18fddf4282787f51c0d9296f305c13cd\", element=\"f.AF1A3034BA54B75556DAC7D56E2F3A33.d.FF35F724024BFE91FC600F28DA103419.e.5359\")>,\n",
       " <selenium.webdriver.remote.webelement.WebElement (session=\"18fddf4282787f51c0d9296f305c13cd\", element=\"f.AF1A3034BA54B75556DAC7D56E2F3A33.d.FF35F724024BFE91FC600F28DA103419.e.5360\")>,\n",
       " <selenium.webdriver.remote.webelement.WebElement (session=\"18fddf4282787f51c0d9296f305c13cd\", element=\"f.AF1A3034BA54B75556DAC7D56E2F3A33.d.FF35F724024BFE91FC600F28DA103419.e.5361\")>,\n",
       " <selenium.webdriver.remote.webelement.WebElement (session=\"18fddf4282787f51c0d9296f305c13cd\", element=\"f.AF1A3034BA54B75556DAC7D56E2F3A33.d.FF35F724024BFE91FC600F28DA103419.e.5362\")>,\n",
       " <selenium.webdriver.remote.webelement.WebElement (session=\"18fddf4282787f51c0d9296f305c13cd\", element=\"f.AF1A3034BA54B75556DAC7D56E2F3A33.d.FF35F724024BFE91FC600F28DA103419.e.5363\")>,\n",
       " <selenium.webdriver.remote.webelement.WebElement (session=\"18fddf4282787f51c0d9296f305c13cd\", element=\"f.AF1A3034BA54B75556DAC7D56E2F3A33.d.FF35F724024BFE91FC600F28DA103419.e.5364\")>,\n",
       " <selenium.webdriver.remote.webelement.WebElement (session=\"18fddf4282787f51c0d9296f305c13cd\", element=\"f.AF1A3034BA54B75556DAC7D56E2F3A33.d.FF35F724024BFE91FC600F28DA103419.e.5365\")>,\n",
       " <selenium.webdriver.remote.webelement.WebElement (session=\"18fddf4282787f51c0d9296f305c13cd\", element=\"f.AF1A3034BA54B75556DAC7D56E2F3A33.d.FF35F724024BFE91FC600F28DA103419.e.5366\")>,\n",
       " <selenium.webdriver.remote.webelement.WebElement (session=\"18fddf4282787f51c0d9296f305c13cd\", element=\"f.AF1A3034BA54B75556DAC7D56E2F3A33.d.FF35F724024BFE91FC600F28DA103419.e.5367\")>,\n",
       " <selenium.webdriver.remote.webelement.WebElement (session=\"18fddf4282787f51c0d9296f305c13cd\", element=\"f.AF1A3034BA54B75556DAC7D56E2F3A33.d.FF35F724024BFE91FC600F28DA103419.e.5368\")>,\n",
       " <selenium.webdriver.remote.webelement.WebElement (session=\"18fddf4282787f51c0d9296f305c13cd\", element=\"f.AF1A3034BA54B75556DAC7D56E2F3A33.d.FF35F724024BFE91FC600F28DA103419.e.5369\")>,\n",
       " <selenium.webdriver.remote.webelement.WebElement (session=\"18fddf4282787f51c0d9296f305c13cd\", element=\"f.AF1A3034BA54B75556DAC7D56E2F3A33.d.FF35F724024BFE91FC600F28DA103419.e.5370\")>,\n",
       " <selenium.webdriver.remote.webelement.WebElement (session=\"18fddf4282787f51c0d9296f305c13cd\", element=\"f.AF1A3034BA54B75556DAC7D56E2F3A33.d.FF35F724024BFE91FC600F28DA103419.e.5371\")>,\n",
       " <selenium.webdriver.remote.webelement.WebElement (session=\"18fddf4282787f51c0d9296f305c13cd\", element=\"f.AF1A3034BA54B75556DAC7D56E2F3A33.d.FF35F724024BFE91FC600F28DA103419.e.5372\")>,\n",
       " <selenium.webdriver.remote.webelement.WebElement (session=\"18fddf4282787f51c0d9296f305c13cd\", element=\"f.AF1A3034BA54B75556DAC7D56E2F3A33.d.FF35F724024BFE91FC600F28DA103419.e.5373\")>,\n",
       " <selenium.webdriver.remote.webelement.WebElement (session=\"18fddf4282787f51c0d9296f305c13cd\", element=\"f.AF1A3034BA54B75556DAC7D56E2F3A33.d.FF35F724024BFE91FC600F28DA103419.e.5374\")>,\n",
       " <selenium.webdriver.remote.webelement.WebElement (session=\"18fddf4282787f51c0d9296f305c13cd\", element=\"f.AF1A3034BA54B75556DAC7D56E2F3A33.d.FF35F724024BFE91FC600F28DA103419.e.5375\")>,\n",
       " <selenium.webdriver.remote.webelement.WebElement (session=\"18fddf4282787f51c0d9296f305c13cd\", element=\"f.AF1A3034BA54B75556DAC7D56E2F3A33.d.FF35F724024BFE91FC600F28DA103419.e.5376\")>,\n",
       " <selenium.webdriver.remote.webelement.WebElement (session=\"18fddf4282787f51c0d9296f305c13cd\", element=\"f.AF1A3034BA54B75556DAC7D56E2F3A33.d.FF35F724024BFE91FC600F28DA103419.e.5377\")>,\n",
       " <selenium.webdriver.remote.webelement.WebElement (session=\"18fddf4282787f51c0d9296f305c13cd\", element=\"f.AF1A3034BA54B75556DAC7D56E2F3A33.d.FF35F724024BFE91FC600F28DA103419.e.5378\")>,\n",
       " <selenium.webdriver.remote.webelement.WebElement (session=\"18fddf4282787f51c0d9296f305c13cd\", element=\"f.AF1A3034BA54B75556DAC7D56E2F3A33.d.FF35F724024BFE91FC600F28DA103419.e.7159\")>,\n",
       " <selenium.webdriver.remote.webelement.WebElement (session=\"18fddf4282787f51c0d9296f305c13cd\", element=\"f.AF1A3034BA54B75556DAC7D56E2F3A33.d.FF35F724024BFE91FC600F28DA103419.e.7160\")>,\n",
       " <selenium.webdriver.remote.webelement.WebElement (session=\"18fddf4282787f51c0d9296f305c13cd\", element=\"f.AF1A3034BA54B75556DAC7D56E2F3A33.d.FF35F724024BFE91FC600F28DA103419.e.7161\")>,\n",
       " <selenium.webdriver.remote.webelement.WebElement (session=\"18fddf4282787f51c0d9296f305c13cd\", element=\"f.AF1A3034BA54B75556DAC7D56E2F3A33.d.FF35F724024BFE91FC600F28DA103419.e.7162\")>,\n",
       " <selenium.webdriver.remote.webelement.WebElement (session=\"18fddf4282787f51c0d9296f305c13cd\", element=\"f.AF1A3034BA54B75556DAC7D56E2F3A33.d.FF35F724024BFE91FC600F28DA103419.e.7163\")>,\n",
       " <selenium.webdriver.remote.webelement.WebElement (session=\"18fddf4282787f51c0d9296f305c13cd\", element=\"f.AF1A3034BA54B75556DAC7D56E2F3A33.d.FF35F724024BFE91FC600F28DA103419.e.7164\")>,\n",
       " <selenium.webdriver.remote.webelement.WebElement (session=\"18fddf4282787f51c0d9296f305c13cd\", element=\"f.AF1A3034BA54B75556DAC7D56E2F3A33.d.FF35F724024BFE91FC600F28DA103419.e.7165\")>,\n",
       " <selenium.webdriver.remote.webelement.WebElement (session=\"18fddf4282787f51c0d9296f305c13cd\", element=\"f.AF1A3034BA54B75556DAC7D56E2F3A33.d.FF35F724024BFE91FC600F28DA103419.e.7166\")>,\n",
       " <selenium.webdriver.remote.webelement.WebElement (session=\"18fddf4282787f51c0d9296f305c13cd\", element=\"f.AF1A3034BA54B75556DAC7D56E2F3A33.d.FF35F724024BFE91FC600F28DA103419.e.7167\")>,\n",
       " <selenium.webdriver.remote.webelement.WebElement (session=\"18fddf4282787f51c0d9296f305c13cd\", element=\"f.AF1A3034BA54B75556DAC7D56E2F3A33.d.FF35F724024BFE91FC600F28DA103419.e.7168\")>,\n",
       " <selenium.webdriver.remote.webelement.WebElement (session=\"18fddf4282787f51c0d9296f305c13cd\", element=\"f.AF1A3034BA54B75556DAC7D56E2F3A33.d.FF35F724024BFE91FC600F28DA103419.e.7169\")>,\n",
       " <selenium.webdriver.remote.webelement.WebElement (session=\"18fddf4282787f51c0d9296f305c13cd\", element=\"f.AF1A3034BA54B75556DAC7D56E2F3A33.d.FF35F724024BFE91FC600F28DA103419.e.7170\")>,\n",
       " <selenium.webdriver.remote.webelement.WebElement (session=\"18fddf4282787f51c0d9296f305c13cd\", element=\"f.AF1A3034BA54B75556DAC7D56E2F3A33.d.FF35F724024BFE91FC600F28DA103419.e.7171\")>,\n",
       " <selenium.webdriver.remote.webelement.WebElement (session=\"18fddf4282787f51c0d9296f305c13cd\", element=\"f.AF1A3034BA54B75556DAC7D56E2F3A33.d.FF35F724024BFE91FC600F28DA103419.e.7172\")>,\n",
       " <selenium.webdriver.remote.webelement.WebElement (session=\"18fddf4282787f51c0d9296f305c13cd\", element=\"f.AF1A3034BA54B75556DAC7D56E2F3A33.d.FF35F724024BFE91FC600F28DA103419.e.7173\")>,\n",
       " <selenium.webdriver.remote.webelement.WebElement (session=\"18fddf4282787f51c0d9296f305c13cd\", element=\"f.AF1A3034BA54B75556DAC7D56E2F3A33.d.FF35F724024BFE91FC600F28DA103419.e.7174\")>,\n",
       " <selenium.webdriver.remote.webelement.WebElement (session=\"18fddf4282787f51c0d9296f305c13cd\", element=\"f.AF1A3034BA54B75556DAC7D56E2F3A33.d.FF35F724024BFE91FC600F28DA103419.e.7175\")>,\n",
       " <selenium.webdriver.remote.webelement.WebElement (session=\"18fddf4282787f51c0d9296f305c13cd\", element=\"f.AF1A3034BA54B75556DAC7D56E2F3A33.d.FF35F724024BFE91FC600F28DA103419.e.7176\")>,\n",
       " <selenium.webdriver.remote.webelement.WebElement (session=\"18fddf4282787f51c0d9296f305c13cd\", element=\"f.AF1A3034BA54B75556DAC7D56E2F3A33.d.FF35F724024BFE91FC600F28DA103419.e.7177\")>,\n",
       " <selenium.webdriver.remote.webelement.WebElement (session=\"18fddf4282787f51c0d9296f305c13cd\", element=\"f.AF1A3034BA54B75556DAC7D56E2F3A33.d.FF35F724024BFE91FC600F28DA103419.e.7178\")>,\n",
       " <selenium.webdriver.remote.webelement.WebElement (session=\"18fddf4282787f51c0d9296f305c13cd\", element=\"f.AF1A3034BA54B75556DAC7D56E2F3A33.d.FF35F724024BFE91FC600F28DA103419.e.8973\")>,\n",
       " <selenium.webdriver.remote.webelement.WebElement (session=\"18fddf4282787f51c0d9296f305c13cd\", element=\"f.AF1A3034BA54B75556DAC7D56E2F3A33.d.FF35F724024BFE91FC600F28DA103419.e.8974\")>,\n",
       " <selenium.webdriver.remote.webelement.WebElement (session=\"18fddf4282787f51c0d9296f305c13cd\", element=\"f.AF1A3034BA54B75556DAC7D56E2F3A33.d.FF35F724024BFE91FC600F28DA103419.e.8975\")>,\n",
       " <selenium.webdriver.remote.webelement.WebElement (session=\"18fddf4282787f51c0d9296f305c13cd\", element=\"f.AF1A3034BA54B75556DAC7D56E2F3A33.d.FF35F724024BFE91FC600F28DA103419.e.8976\")>,\n",
       " <selenium.webdriver.remote.webelement.WebElement (session=\"18fddf4282787f51c0d9296f305c13cd\", element=\"f.AF1A3034BA54B75556DAC7D56E2F3A33.d.FF35F724024BFE91FC600F28DA103419.e.8977\")>,\n",
       " <selenium.webdriver.remote.webelement.WebElement (session=\"18fddf4282787f51c0d9296f305c13cd\", element=\"f.AF1A3034BA54B75556DAC7D56E2F3A33.d.FF35F724024BFE91FC600F28DA103419.e.8978\")>,\n",
       " <selenium.webdriver.remote.webelement.WebElement (session=\"18fddf4282787f51c0d9296f305c13cd\", element=\"f.AF1A3034BA54B75556DAC7D56E2F3A33.d.FF35F724024BFE91FC600F28DA103419.e.8979\")>,\n",
       " <selenium.webdriver.remote.webelement.WebElement (session=\"18fddf4282787f51c0d9296f305c13cd\", element=\"f.AF1A3034BA54B75556DAC7D56E2F3A33.d.FF35F724024BFE91FC600F28DA103419.e.8980\")>,\n",
       " <selenium.webdriver.remote.webelement.WebElement (session=\"18fddf4282787f51c0d9296f305c13cd\", element=\"f.AF1A3034BA54B75556DAC7D56E2F3A33.d.FF35F724024BFE91FC600F28DA103419.e.8981\")>,\n",
       " <selenium.webdriver.remote.webelement.WebElement (session=\"18fddf4282787f51c0d9296f305c13cd\", element=\"f.AF1A3034BA54B75556DAC7D56E2F3A33.d.FF35F724024BFE91FC600F28DA103419.e.8982\")>,\n",
       " <selenium.webdriver.remote.webelement.WebElement (session=\"18fddf4282787f51c0d9296f305c13cd\", element=\"f.AF1A3034BA54B75556DAC7D56E2F3A33.d.FF35F724024BFE91FC600F28DA103419.e.8983\")>,\n",
       " <selenium.webdriver.remote.webelement.WebElement (session=\"18fddf4282787f51c0d9296f305c13cd\", element=\"f.AF1A3034BA54B75556DAC7D56E2F3A33.d.FF35F724024BFE91FC600F28DA103419.e.8984\")>,\n",
       " <selenium.webdriver.remote.webelement.WebElement (session=\"18fddf4282787f51c0d9296f305c13cd\", element=\"f.AF1A3034BA54B75556DAC7D56E2F3A33.d.FF35F724024BFE91FC600F28DA103419.e.8985\")>,\n",
       " <selenium.webdriver.remote.webelement.WebElement (session=\"18fddf4282787f51c0d9296f305c13cd\", element=\"f.AF1A3034BA54B75556DAC7D56E2F3A33.d.FF35F724024BFE91FC600F28DA103419.e.8986\")>,\n",
       " <selenium.webdriver.remote.webelement.WebElement (session=\"18fddf4282787f51c0d9296f305c13cd\", element=\"f.AF1A3034BA54B75556DAC7D56E2F3A33.d.FF35F724024BFE91FC600F28DA103419.e.8987\")>,\n",
       " <selenium.webdriver.remote.webelement.WebElement (session=\"18fddf4282787f51c0d9296f305c13cd\", element=\"f.AF1A3034BA54B75556DAC7D56E2F3A33.d.FF35F724024BFE91FC600F28DA103419.e.8988\")>,\n",
       " <selenium.webdriver.remote.webelement.WebElement (session=\"18fddf4282787f51c0d9296f305c13cd\", element=\"f.AF1A3034BA54B75556DAC7D56E2F3A33.d.FF35F724024BFE91FC600F28DA103419.e.8989\")>,\n",
       " <selenium.webdriver.remote.webelement.WebElement (session=\"18fddf4282787f51c0d9296f305c13cd\", element=\"f.AF1A3034BA54B75556DAC7D56E2F3A33.d.FF35F724024BFE91FC600F28DA103419.e.8990\")>,\n",
       " <selenium.webdriver.remote.webelement.WebElement (session=\"18fddf4282787f51c0d9296f305c13cd\", element=\"f.AF1A3034BA54B75556DAC7D56E2F3A33.d.FF35F724024BFE91FC600F28DA103419.e.8991\")>,\n",
       " <selenium.webdriver.remote.webelement.WebElement (session=\"18fddf4282787f51c0d9296f305c13cd\", element=\"f.AF1A3034BA54B75556DAC7D56E2F3A33.d.FF35F724024BFE91FC600F28DA103419.e.8992\")>,\n",
       " <selenium.webdriver.remote.webelement.WebElement (session=\"18fddf4282787f51c0d9296f305c13cd\", element=\"f.AF1A3034BA54B75556DAC7D56E2F3A33.d.FF35F724024BFE91FC600F28DA103419.e.10732\")>,\n",
       " <selenium.webdriver.remote.webelement.WebElement (session=\"18fddf4282787f51c0d9296f305c13cd\", element=\"f.AF1A3034BA54B75556DAC7D56E2F3A33.d.FF35F724024BFE91FC600F28DA103419.e.10733\")>,\n",
       " <selenium.webdriver.remote.webelement.WebElement (session=\"18fddf4282787f51c0d9296f305c13cd\", element=\"f.AF1A3034BA54B75556DAC7D56E2F3A33.d.FF35F724024BFE91FC600F28DA103419.e.10734\")>,\n",
       " <selenium.webdriver.remote.webelement.WebElement (session=\"18fddf4282787f51c0d9296f305c13cd\", element=\"f.AF1A3034BA54B75556DAC7D56E2F3A33.d.FF35F724024BFE91FC600F28DA103419.e.10735\")>,\n",
       " <selenium.webdriver.remote.webelement.WebElement (session=\"18fddf4282787f51c0d9296f305c13cd\", element=\"f.AF1A3034BA54B75556DAC7D56E2F3A33.d.FF35F724024BFE91FC600F28DA103419.e.10736\")>,\n",
       " <selenium.webdriver.remote.webelement.WebElement (session=\"18fddf4282787f51c0d9296f305c13cd\", element=\"f.AF1A3034BA54B75556DAC7D56E2F3A33.d.FF35F724024BFE91FC600F28DA103419.e.10737\")>,\n",
       " <selenium.webdriver.remote.webelement.WebElement (session=\"18fddf4282787f51c0d9296f305c13cd\", element=\"f.AF1A3034BA54B75556DAC7D56E2F3A33.d.FF35F724024BFE91FC600F28DA103419.e.10738\")>,\n",
       " <selenium.webdriver.remote.webelement.WebElement (session=\"18fddf4282787f51c0d9296f305c13cd\", element=\"f.AF1A3034BA54B75556DAC7D56E2F3A33.d.FF35F724024BFE91FC600F28DA103419.e.10739\")>,\n",
       " <selenium.webdriver.remote.webelement.WebElement (session=\"18fddf4282787f51c0d9296f305c13cd\", element=\"f.AF1A3034BA54B75556DAC7D56E2F3A33.d.FF35F724024BFE91FC600F28DA103419.e.10740\")>,\n",
       " <selenium.webdriver.remote.webelement.WebElement (session=\"18fddf4282787f51c0d9296f305c13cd\", element=\"f.AF1A3034BA54B75556DAC7D56E2F3A33.d.FF35F724024BFE91FC600F28DA103419.e.10741\")>,\n",
       " <selenium.webdriver.remote.webelement.WebElement (session=\"18fddf4282787f51c0d9296f305c13cd\", element=\"f.AF1A3034BA54B75556DAC7D56E2F3A33.d.FF35F724024BFE91FC600F28DA103419.e.10742\")>,\n",
       " <selenium.webdriver.remote.webelement.WebElement (session=\"18fddf4282787f51c0d9296f305c13cd\", element=\"f.AF1A3034BA54B75556DAC7D56E2F3A33.d.FF35F724024BFE91FC600F28DA103419.e.10743\")>,\n",
       " <selenium.webdriver.remote.webelement.WebElement (session=\"18fddf4282787f51c0d9296f305c13cd\", element=\"f.AF1A3034BA54B75556DAC7D56E2F3A33.d.FF35F724024BFE91FC600F28DA103419.e.10744\")>,\n",
       " <selenium.webdriver.remote.webelement.WebElement (session=\"18fddf4282787f51c0d9296f305c13cd\", element=\"f.AF1A3034BA54B75556DAC7D56E2F3A33.d.FF35F724024BFE91FC600F28DA103419.e.10745\")>,\n",
       " <selenium.webdriver.remote.webelement.WebElement (session=\"18fddf4282787f51c0d9296f305c13cd\", element=\"f.AF1A3034BA54B75556DAC7D56E2F3A33.d.FF35F724024BFE91FC600F28DA103419.e.10746\")>,\n",
       " <selenium.webdriver.remote.webelement.WebElement (session=\"18fddf4282787f51c0d9296f305c13cd\", element=\"f.AF1A3034BA54B75556DAC7D56E2F3A33.d.FF35F724024BFE91FC600F28DA103419.e.10747\")>,\n",
       " <selenium.webdriver.remote.webelement.WebElement (session=\"18fddf4282787f51c0d9296f305c13cd\", element=\"f.AF1A3034BA54B75556DAC7D56E2F3A33.d.FF35F724024BFE91FC600F28DA103419.e.10748\")>,\n",
       " <selenium.webdriver.remote.webelement.WebElement (session=\"18fddf4282787f51c0d9296f305c13cd\", element=\"f.AF1A3034BA54B75556DAC7D56E2F3A33.d.FF35F724024BFE91FC600F28DA103419.e.10749\")>,\n",
       " <selenium.webdriver.remote.webelement.WebElement (session=\"18fddf4282787f51c0d9296f305c13cd\", element=\"f.AF1A3034BA54B75556DAC7D56E2F3A33.d.FF35F724024BFE91FC600F28DA103419.e.10750\")>,\n",
       " <selenium.webdriver.remote.webelement.WebElement (session=\"18fddf4282787f51c0d9296f305c13cd\", element=\"f.AF1A3034BA54B75556DAC7D56E2F3A33.d.FF35F724024BFE91FC600F28DA103419.e.10751\")>,\n",
       " <selenium.webdriver.remote.webelement.WebElement (session=\"18fddf4282787f51c0d9296f305c13cd\", element=\"f.AF1A3034BA54B75556DAC7D56E2F3A33.d.FF35F724024BFE91FC600F28DA103419.e.12489\")>,\n",
       " <selenium.webdriver.remote.webelement.WebElement (session=\"18fddf4282787f51c0d9296f305c13cd\", element=\"f.AF1A3034BA54B75556DAC7D56E2F3A33.d.FF35F724024BFE91FC600F28DA103419.e.12490\")>,\n",
       " <selenium.webdriver.remote.webelement.WebElement (session=\"18fddf4282787f51c0d9296f305c13cd\", element=\"f.AF1A3034BA54B75556DAC7D56E2F3A33.d.FF35F724024BFE91FC600F28DA103419.e.12491\")>,\n",
       " <selenium.webdriver.remote.webelement.WebElement (session=\"18fddf4282787f51c0d9296f305c13cd\", element=\"f.AF1A3034BA54B75556DAC7D56E2F3A33.d.FF35F724024BFE91FC600F28DA103419.e.12492\")>,\n",
       " <selenium.webdriver.remote.webelement.WebElement (session=\"18fddf4282787f51c0d9296f305c13cd\", element=\"f.AF1A3034BA54B75556DAC7D56E2F3A33.d.FF35F724024BFE91FC600F28DA103419.e.12493\")>,\n",
       " <selenium.webdriver.remote.webelement.WebElement (session=\"18fddf4282787f51c0d9296f305c13cd\", element=\"f.AF1A3034BA54B75556DAC7D56E2F3A33.d.FF35F724024BFE91FC600F28DA103419.e.12494\")>,\n",
       " <selenium.webdriver.remote.webelement.WebElement (session=\"18fddf4282787f51c0d9296f305c13cd\", element=\"f.AF1A3034BA54B75556DAC7D56E2F3A33.d.FF35F724024BFE91FC600F28DA103419.e.12495\")>,\n",
       " <selenium.webdriver.remote.webelement.WebElement (session=\"18fddf4282787f51c0d9296f305c13cd\", element=\"f.AF1A3034BA54B75556DAC7D56E2F3A33.d.FF35F724024BFE91FC600F28DA103419.e.12496\")>,\n",
       " <selenium.webdriver.remote.webelement.WebElement (session=\"18fddf4282787f51c0d9296f305c13cd\", element=\"f.AF1A3034BA54B75556DAC7D56E2F3A33.d.FF35F724024BFE91FC600F28DA103419.e.12497\")>,\n",
       " <selenium.webdriver.remote.webelement.WebElement (session=\"18fddf4282787f51c0d9296f305c13cd\", element=\"f.AF1A3034BA54B75556DAC7D56E2F3A33.d.FF35F724024BFE91FC600F28DA103419.e.12498\")>,\n",
       " <selenium.webdriver.remote.webelement.WebElement (session=\"18fddf4282787f51c0d9296f305c13cd\", element=\"f.AF1A3034BA54B75556DAC7D56E2F3A33.d.FF35F724024BFE91FC600F28DA103419.e.12499\")>,\n",
       " <selenium.webdriver.remote.webelement.WebElement (session=\"18fddf4282787f51c0d9296f305c13cd\", element=\"f.AF1A3034BA54B75556DAC7D56E2F3A33.d.FF35F724024BFE91FC600F28DA103419.e.12500\")>,\n",
       " <selenium.webdriver.remote.webelement.WebElement (session=\"18fddf4282787f51c0d9296f305c13cd\", element=\"f.AF1A3034BA54B75556DAC7D56E2F3A33.d.FF35F724024BFE91FC600F28DA103419.e.12501\")>,\n",
       " <selenium.webdriver.remote.webelement.WebElement (session=\"18fddf4282787f51c0d9296f305c13cd\", element=\"f.AF1A3034BA54B75556DAC7D56E2F3A33.d.FF35F724024BFE91FC600F28DA103419.e.12502\")>,\n",
       " <selenium.webdriver.remote.webelement.WebElement (session=\"18fddf4282787f51c0d9296f305c13cd\", element=\"f.AF1A3034BA54B75556DAC7D56E2F3A33.d.FF35F724024BFE91FC600F28DA103419.e.12503\")>,\n",
       " <selenium.webdriver.remote.webelement.WebElement (session=\"18fddf4282787f51c0d9296f305c13cd\", element=\"f.AF1A3034BA54B75556DAC7D56E2F3A33.d.FF35F724024BFE91FC600F28DA103419.e.12504\")>,\n",
       " <selenium.webdriver.remote.webelement.WebElement (session=\"18fddf4282787f51c0d9296f305c13cd\", element=\"f.AF1A3034BA54B75556DAC7D56E2F3A33.d.FF35F724024BFE91FC600F28DA103419.e.12505\")>,\n",
       " <selenium.webdriver.remote.webelement.WebElement (session=\"18fddf4282787f51c0d9296f305c13cd\", element=\"f.AF1A3034BA54B75556DAC7D56E2F3A33.d.FF35F724024BFE91FC600F28DA103419.e.12506\")>,\n",
       " <selenium.webdriver.remote.webelement.WebElement (session=\"18fddf4282787f51c0d9296f305c13cd\", element=\"f.AF1A3034BA54B75556DAC7D56E2F3A33.d.FF35F724024BFE91FC600F28DA103419.e.12507\")>,\n",
       " <selenium.webdriver.remote.webelement.WebElement (session=\"18fddf4282787f51c0d9296f305c13cd\", element=\"f.AF1A3034BA54B75556DAC7D56E2F3A33.d.FF35F724024BFE91FC600F28DA103419.e.12508\")>,\n",
       " <selenium.webdriver.remote.webelement.WebElement (session=\"18fddf4282787f51c0d9296f305c13cd\", element=\"f.AF1A3034BA54B75556DAC7D56E2F3A33.d.FF35F724024BFE91FC600F28DA103419.e.14239\")>,\n",
       " <selenium.webdriver.remote.webelement.WebElement (session=\"18fddf4282787f51c0d9296f305c13cd\", element=\"f.AF1A3034BA54B75556DAC7D56E2F3A33.d.FF35F724024BFE91FC600F28DA103419.e.14240\")>,\n",
       " <selenium.webdriver.remote.webelement.WebElement (session=\"18fddf4282787f51c0d9296f305c13cd\", element=\"f.AF1A3034BA54B75556DAC7D56E2F3A33.d.FF35F724024BFE91FC600F28DA103419.e.14241\")>,\n",
       " <selenium.webdriver.remote.webelement.WebElement (session=\"18fddf4282787f51c0d9296f305c13cd\", element=\"f.AF1A3034BA54B75556DAC7D56E2F3A33.d.FF35F724024BFE91FC600F28DA103419.e.14242\")>,\n",
       " <selenium.webdriver.remote.webelement.WebElement (session=\"18fddf4282787f51c0d9296f305c13cd\", element=\"f.AF1A3034BA54B75556DAC7D56E2F3A33.d.FF35F724024BFE91FC600F28DA103419.e.14243\")>,\n",
       " <selenium.webdriver.remote.webelement.WebElement (session=\"18fddf4282787f51c0d9296f305c13cd\", element=\"f.AF1A3034BA54B75556DAC7D56E2F3A33.d.FF35F724024BFE91FC600F28DA103419.e.14244\")>,\n",
       " <selenium.webdriver.remote.webelement.WebElement (session=\"18fddf4282787f51c0d9296f305c13cd\", element=\"f.AF1A3034BA54B75556DAC7D56E2F3A33.d.FF35F724024BFE91FC600F28DA103419.e.14245\")>,\n",
       " <selenium.webdriver.remote.webelement.WebElement (session=\"18fddf4282787f51c0d9296f305c13cd\", element=\"f.AF1A3034BA54B75556DAC7D56E2F3A33.d.FF35F724024BFE91FC600F28DA103419.e.14246\")>,\n",
       " <selenium.webdriver.remote.webelement.WebElement (session=\"18fddf4282787f51c0d9296f305c13cd\", element=\"f.AF1A3034BA54B75556DAC7D56E2F3A33.d.FF35F724024BFE91FC600F28DA103419.e.14247\")>,\n",
       " <selenium.webdriver.remote.webelement.WebElement (session=\"18fddf4282787f51c0d9296f305c13cd\", element=\"f.AF1A3034BA54B75556DAC7D56E2F3A33.d.FF35F724024BFE91FC600F28DA103419.e.14248\")>,\n",
       " <selenium.webdriver.remote.webelement.WebElement (session=\"18fddf4282787f51c0d9296f305c13cd\", element=\"f.AF1A3034BA54B75556DAC7D56E2F3A33.d.FF35F724024BFE91FC600F28DA103419.e.14249\")>,\n",
       " <selenium.webdriver.remote.webelement.WebElement (session=\"18fddf4282787f51c0d9296f305c13cd\", element=\"f.AF1A3034BA54B75556DAC7D56E2F3A33.d.FF35F724024BFE91FC600F28DA103419.e.14250\")>,\n",
       " <selenium.webdriver.remote.webelement.WebElement (session=\"18fddf4282787f51c0d9296f305c13cd\", element=\"f.AF1A3034BA54B75556DAC7D56E2F3A33.d.FF35F724024BFE91FC600F28DA103419.e.14251\")>,\n",
       " <selenium.webdriver.remote.webelement.WebElement (session=\"18fddf4282787f51c0d9296f305c13cd\", element=\"f.AF1A3034BA54B75556DAC7D56E2F3A33.d.FF35F724024BFE91FC600F28DA103419.e.14252\")>,\n",
       " <selenium.webdriver.remote.webelement.WebElement (session=\"18fddf4282787f51c0d9296f305c13cd\", element=\"f.AF1A3034BA54B75556DAC7D56E2F3A33.d.FF35F724024BFE91FC600F28DA103419.e.14253\")>,\n",
       " <selenium.webdriver.remote.webelement.WebElement (session=\"18fddf4282787f51c0d9296f305c13cd\", element=\"f.AF1A3034BA54B75556DAC7D56E2F3A33.d.FF35F724024BFE91FC600F28DA103419.e.14254\")>,\n",
       " <selenium.webdriver.remote.webelement.WebElement (session=\"18fddf4282787f51c0d9296f305c13cd\", element=\"f.AF1A3034BA54B75556DAC7D56E2F3A33.d.FF35F724024BFE91FC600F28DA103419.e.14255\")>,\n",
       " <selenium.webdriver.remote.webelement.WebElement (session=\"18fddf4282787f51c0d9296f305c13cd\", element=\"f.AF1A3034BA54B75556DAC7D56E2F3A33.d.FF35F724024BFE91FC600F28DA103419.e.14256\")>,\n",
       " <selenium.webdriver.remote.webelement.WebElement (session=\"18fddf4282787f51c0d9296f305c13cd\", element=\"f.AF1A3034BA54B75556DAC7D56E2F3A33.d.FF35F724024BFE91FC600F28DA103419.e.14257\")>,\n",
       " <selenium.webdriver.remote.webelement.WebElement (session=\"18fddf4282787f51c0d9296f305c13cd\", element=\"f.AF1A3034BA54B75556DAC7D56E2F3A33.d.FF35F724024BFE91FC600F28DA103419.e.14258\")>,\n",
       " <selenium.webdriver.remote.webelement.WebElement (session=\"18fddf4282787f51c0d9296f305c13cd\", element=\"f.AF1A3034BA54B75556DAC7D56E2F3A33.d.FF35F724024BFE91FC600F28DA103419.e.16019\")>,\n",
       " <selenium.webdriver.remote.webelement.WebElement (session=\"18fddf4282787f51c0d9296f305c13cd\", element=\"f.AF1A3034BA54B75556DAC7D56E2F3A33.d.FF35F724024BFE91FC600F28DA103419.e.16020\")>,\n",
       " <selenium.webdriver.remote.webelement.WebElement (session=\"18fddf4282787f51c0d9296f305c13cd\", element=\"f.AF1A3034BA54B75556DAC7D56E2F3A33.d.FF35F724024BFE91FC600F28DA103419.e.16021\")>,\n",
       " <selenium.webdriver.remote.webelement.WebElement (session=\"18fddf4282787f51c0d9296f305c13cd\", element=\"f.AF1A3034BA54B75556DAC7D56E2F3A33.d.FF35F724024BFE91FC600F28DA103419.e.16022\")>,\n",
       " <selenium.webdriver.remote.webelement.WebElement (session=\"18fddf4282787f51c0d9296f305c13cd\", element=\"f.AF1A3034BA54B75556DAC7D56E2F3A33.d.FF35F724024BFE91FC600F28DA103419.e.16023\")>,\n",
       " <selenium.webdriver.remote.webelement.WebElement (session=\"18fddf4282787f51c0d9296f305c13cd\", element=\"f.AF1A3034BA54B75556DAC7D56E2F3A33.d.FF35F724024BFE91FC600F28DA103419.e.16024\")>,\n",
       " <selenium.webdriver.remote.webelement.WebElement (session=\"18fddf4282787f51c0d9296f305c13cd\", element=\"f.AF1A3034BA54B75556DAC7D56E2F3A33.d.FF35F724024BFE91FC600F28DA103419.e.16025\")>,\n",
       " <selenium.webdriver.remote.webelement.WebElement (session=\"18fddf4282787f51c0d9296f305c13cd\", element=\"f.AF1A3034BA54B75556DAC7D56E2F3A33.d.FF35F724024BFE91FC600F28DA103419.e.16026\")>,\n",
       " <selenium.webdriver.remote.webelement.WebElement (session=\"18fddf4282787f51c0d9296f305c13cd\", element=\"f.AF1A3034BA54B75556DAC7D56E2F3A33.d.FF35F724024BFE91FC600F28DA103419.e.16027\")>,\n",
       " <selenium.webdriver.remote.webelement.WebElement (session=\"18fddf4282787f51c0d9296f305c13cd\", element=\"f.AF1A3034BA54B75556DAC7D56E2F3A33.d.FF35F724024BFE91FC600F28DA103419.e.16028\")>,\n",
       " <selenium.webdriver.remote.webelement.WebElement (session=\"18fddf4282787f51c0d9296f305c13cd\", element=\"f.AF1A3034BA54B75556DAC7D56E2F3A33.d.FF35F724024BFE91FC600F28DA103419.e.16029\")>,\n",
       " <selenium.webdriver.remote.webelement.WebElement (session=\"18fddf4282787f51c0d9296f305c13cd\", element=\"f.AF1A3034BA54B75556DAC7D56E2F3A33.d.FF35F724024BFE91FC600F28DA103419.e.16030\")>,\n",
       " <selenium.webdriver.remote.webelement.WebElement (session=\"18fddf4282787f51c0d9296f305c13cd\", element=\"f.AF1A3034BA54B75556DAC7D56E2F3A33.d.FF35F724024BFE91FC600F28DA103419.e.16031\")>,\n",
       " <selenium.webdriver.remote.webelement.WebElement (session=\"18fddf4282787f51c0d9296f305c13cd\", element=\"f.AF1A3034BA54B75556DAC7D56E2F3A33.d.FF35F724024BFE91FC600F28DA103419.e.16032\")>,\n",
       " <selenium.webdriver.remote.webelement.WebElement (session=\"18fddf4282787f51c0d9296f305c13cd\", element=\"f.AF1A3034BA54B75556DAC7D56E2F3A33.d.FF35F724024BFE91FC600F28DA103419.e.16033\")>,\n",
       " <selenium.webdriver.remote.webelement.WebElement (session=\"18fddf4282787f51c0d9296f305c13cd\", element=\"f.AF1A3034BA54B75556DAC7D56E2F3A33.d.FF35F724024BFE91FC600F28DA103419.e.16034\")>,\n",
       " <selenium.webdriver.remote.webelement.WebElement (session=\"18fddf4282787f51c0d9296f305c13cd\", element=\"f.AF1A3034BA54B75556DAC7D56E2F3A33.d.FF35F724024BFE91FC600F28DA103419.e.16035\")>,\n",
       " <selenium.webdriver.remote.webelement.WebElement (session=\"18fddf4282787f51c0d9296f305c13cd\", element=\"f.AF1A3034BA54B75556DAC7D56E2F3A33.d.FF35F724024BFE91FC600F28DA103419.e.16036\")>,\n",
       " <selenium.webdriver.remote.webelement.WebElement (session=\"18fddf4282787f51c0d9296f305c13cd\", element=\"f.AF1A3034BA54B75556DAC7D56E2F3A33.d.FF35F724024BFE91FC600F28DA103419.e.16037\")>,\n",
       " <selenium.webdriver.remote.webelement.WebElement (session=\"18fddf4282787f51c0d9296f305c13cd\", element=\"f.AF1A3034BA54B75556DAC7D56E2F3A33.d.FF35F724024BFE91FC600F28DA103419.e.16038\")>,\n",
       " <selenium.webdriver.remote.webelement.WebElement (session=\"18fddf4282787f51c0d9296f305c13cd\", element=\"f.AF1A3034BA54B75556DAC7D56E2F3A33.d.FF35F724024BFE91FC600F28DA103419.e.17791\")>,\n",
       " <selenium.webdriver.remote.webelement.WebElement (session=\"18fddf4282787f51c0d9296f305c13cd\", element=\"f.AF1A3034BA54B75556DAC7D56E2F3A33.d.FF35F724024BFE91FC600F28DA103419.e.17792\")>,\n",
       " <selenium.webdriver.remote.webelement.WebElement (session=\"18fddf4282787f51c0d9296f305c13cd\", element=\"f.AF1A3034BA54B75556DAC7D56E2F3A33.d.FF35F724024BFE91FC600F28DA103419.e.17793\")>,\n",
       " <selenium.webdriver.remote.webelement.WebElement (session=\"18fddf4282787f51c0d9296f305c13cd\", element=\"f.AF1A3034BA54B75556DAC7D56E2F3A33.d.FF35F724024BFE91FC600F28DA103419.e.17794\")>,\n",
       " <selenium.webdriver.remote.webelement.WebElement (session=\"18fddf4282787f51c0d9296f305c13cd\", element=\"f.AF1A3034BA54B75556DAC7D56E2F3A33.d.FF35F724024BFE91FC600F28DA103419.e.17795\")>,\n",
       " <selenium.webdriver.remote.webelement.WebElement (session=\"18fddf4282787f51c0d9296f305c13cd\", element=\"f.AF1A3034BA54B75556DAC7D56E2F3A33.d.FF35F724024BFE91FC600F28DA103419.e.17796\")>,\n",
       " <selenium.webdriver.remote.webelement.WebElement (session=\"18fddf4282787f51c0d9296f305c13cd\", element=\"f.AF1A3034BA54B75556DAC7D56E2F3A33.d.FF35F724024BFE91FC600F28DA103419.e.17797\")>,\n",
       " <selenium.webdriver.remote.webelement.WebElement (session=\"18fddf4282787f51c0d9296f305c13cd\", element=\"f.AF1A3034BA54B75556DAC7D56E2F3A33.d.FF35F724024BFE91FC600F28DA103419.e.17798\")>,\n",
       " <selenium.webdriver.remote.webelement.WebElement (session=\"18fddf4282787f51c0d9296f305c13cd\", element=\"f.AF1A3034BA54B75556DAC7D56E2F3A33.d.FF35F724024BFE91FC600F28DA103419.e.17799\")>,\n",
       " <selenium.webdriver.remote.webelement.WebElement (session=\"18fddf4282787f51c0d9296f305c13cd\", element=\"f.AF1A3034BA54B75556DAC7D56E2F3A33.d.FF35F724024BFE91FC600F28DA103419.e.17800\")>,\n",
       " <selenium.webdriver.remote.webelement.WebElement (session=\"18fddf4282787f51c0d9296f305c13cd\", element=\"f.AF1A3034BA54B75556DAC7D56E2F3A33.d.FF35F724024BFE91FC600F28DA103419.e.17801\")>,\n",
       " <selenium.webdriver.remote.webelement.WebElement (session=\"18fddf4282787f51c0d9296f305c13cd\", element=\"f.AF1A3034BA54B75556DAC7D56E2F3A33.d.FF35F724024BFE91FC600F28DA103419.e.17802\")>,\n",
       " <selenium.webdriver.remote.webelement.WebElement (session=\"18fddf4282787f51c0d9296f305c13cd\", element=\"f.AF1A3034BA54B75556DAC7D56E2F3A33.d.FF35F724024BFE91FC600F28DA103419.e.17803\")>,\n",
       " <selenium.webdriver.remote.webelement.WebElement (session=\"18fddf4282787f51c0d9296f305c13cd\", element=\"f.AF1A3034BA54B75556DAC7D56E2F3A33.d.FF35F724024BFE91FC600F28DA103419.e.17804\")>,\n",
       " <selenium.webdriver.remote.webelement.WebElement (session=\"18fddf4282787f51c0d9296f305c13cd\", element=\"f.AF1A3034BA54B75556DAC7D56E2F3A33.d.FF35F724024BFE91FC600F28DA103419.e.17805\")>,\n",
       " <selenium.webdriver.remote.webelement.WebElement (session=\"18fddf4282787f51c0d9296f305c13cd\", element=\"f.AF1A3034BA54B75556DAC7D56E2F3A33.d.FF35F724024BFE91FC600F28DA103419.e.17806\")>,\n",
       " <selenium.webdriver.remote.webelement.WebElement (session=\"18fddf4282787f51c0d9296f305c13cd\", element=\"f.AF1A3034BA54B75556DAC7D56E2F3A33.d.FF35F724024BFE91FC600F28DA103419.e.17807\")>,\n",
       " <selenium.webdriver.remote.webelement.WebElement (session=\"18fddf4282787f51c0d9296f305c13cd\", element=\"f.AF1A3034BA54B75556DAC7D56E2F3A33.d.FF35F724024BFE91FC600F28DA103419.e.17808\")>,\n",
       " <selenium.webdriver.remote.webelement.WebElement (session=\"18fddf4282787f51c0d9296f305c13cd\", element=\"f.AF1A3034BA54B75556DAC7D56E2F3A33.d.FF35F724024BFE91FC600F28DA103419.e.17809\")>,\n",
       " <selenium.webdriver.remote.webelement.WebElement (session=\"18fddf4282787f51c0d9296f305c13cd\", element=\"f.AF1A3034BA54B75556DAC7D56E2F3A33.d.FF35F724024BFE91FC600F28DA103419.e.17810\")>,\n",
       " <selenium.webdriver.remote.webelement.WebElement (session=\"18fddf4282787f51c0d9296f305c13cd\", element=\"f.AF1A3034BA54B75556DAC7D56E2F3A33.d.FF35F724024BFE91FC600F28DA103419.e.19619\")>,\n",
       " <selenium.webdriver.remote.webelement.WebElement (session=\"18fddf4282787f51c0d9296f305c13cd\", element=\"f.AF1A3034BA54B75556DAC7D56E2F3A33.d.FF35F724024BFE91FC600F28DA103419.e.19620\")>,\n",
       " <selenium.webdriver.remote.webelement.WebElement (session=\"18fddf4282787f51c0d9296f305c13cd\", element=\"f.AF1A3034BA54B75556DAC7D56E2F3A33.d.FF35F724024BFE91FC600F28DA103419.e.19621\")>,\n",
       " <selenium.webdriver.remote.webelement.WebElement (session=\"18fddf4282787f51c0d9296f305c13cd\", element=\"f.AF1A3034BA54B75556DAC7D56E2F3A33.d.FF35F724024BFE91FC600F28DA103419.e.19622\")>,\n",
       " <selenium.webdriver.remote.webelement.WebElement (session=\"18fddf4282787f51c0d9296f305c13cd\", element=\"f.AF1A3034BA54B75556DAC7D56E2F3A33.d.FF35F724024BFE91FC600F28DA103419.e.19623\")>,\n",
       " <selenium.webdriver.remote.webelement.WebElement (session=\"18fddf4282787f51c0d9296f305c13cd\", element=\"f.AF1A3034BA54B75556DAC7D56E2F3A33.d.FF35F724024BFE91FC600F28DA103419.e.19624\")>,\n",
       " <selenium.webdriver.remote.webelement.WebElement (session=\"18fddf4282787f51c0d9296f305c13cd\", element=\"f.AF1A3034BA54B75556DAC7D56E2F3A33.d.FF35F724024BFE91FC600F28DA103419.e.19625\")>,\n",
       " <selenium.webdriver.remote.webelement.WebElement (session=\"18fddf4282787f51c0d9296f305c13cd\", element=\"f.AF1A3034BA54B75556DAC7D56E2F3A33.d.FF35F724024BFE91FC600F28DA103419.e.19626\")>,\n",
       " <selenium.webdriver.remote.webelement.WebElement (session=\"18fddf4282787f51c0d9296f305c13cd\", element=\"f.AF1A3034BA54B75556DAC7D56E2F3A33.d.FF35F724024BFE91FC600F28DA103419.e.19627\")>,\n",
       " <selenium.webdriver.remote.webelement.WebElement (session=\"18fddf4282787f51c0d9296f305c13cd\", element=\"f.AF1A3034BA54B75556DAC7D56E2F3A33.d.FF35F724024BFE91FC600F28DA103419.e.19628\")>,\n",
       " <selenium.webdriver.remote.webelement.WebElement (session=\"18fddf4282787f51c0d9296f305c13cd\", element=\"f.AF1A3034BA54B75556DAC7D56E2F3A33.d.FF35F724024BFE91FC600F28DA103419.e.19629\")>,\n",
       " <selenium.webdriver.remote.webelement.WebElement (session=\"18fddf4282787f51c0d9296f305c13cd\", element=\"f.AF1A3034BA54B75556DAC7D56E2F3A33.d.FF35F724024BFE91FC600F28DA103419.e.19630\")>,\n",
       " <selenium.webdriver.remote.webelement.WebElement (session=\"18fddf4282787f51c0d9296f305c13cd\", element=\"f.AF1A3034BA54B75556DAC7D56E2F3A33.d.FF35F724024BFE91FC600F28DA103419.e.19631\")>,\n",
       " <selenium.webdriver.remote.webelement.WebElement (session=\"18fddf4282787f51c0d9296f305c13cd\", element=\"f.AF1A3034BA54B75556DAC7D56E2F3A33.d.FF35F724024BFE91FC600F28DA103419.e.19632\")>,\n",
       " <selenium.webdriver.remote.webelement.WebElement (session=\"18fddf4282787f51c0d9296f305c13cd\", element=\"f.AF1A3034BA54B75556DAC7D56E2F3A33.d.FF35F724024BFE91FC600F28DA103419.e.19633\")>,\n",
       " <selenium.webdriver.remote.webelement.WebElement (session=\"18fddf4282787f51c0d9296f305c13cd\", element=\"f.AF1A3034BA54B75556DAC7D56E2F3A33.d.FF35F724024BFE91FC600F28DA103419.e.19634\")>,\n",
       " <selenium.webdriver.remote.webelement.WebElement (session=\"18fddf4282787f51c0d9296f305c13cd\", element=\"f.AF1A3034BA54B75556DAC7D56E2F3A33.d.FF35F724024BFE91FC600F28DA103419.e.19635\")>,\n",
       " <selenium.webdriver.remote.webelement.WebElement (session=\"18fddf4282787f51c0d9296f305c13cd\", element=\"f.AF1A3034BA54B75556DAC7D56E2F3A33.d.FF35F724024BFE91FC600F28DA103419.e.19636\")>,\n",
       " <selenium.webdriver.remote.webelement.WebElement (session=\"18fddf4282787f51c0d9296f305c13cd\", element=\"f.AF1A3034BA54B75556DAC7D56E2F3A33.d.FF35F724024BFE91FC600F28DA103419.e.19637\")>,\n",
       " <selenium.webdriver.remote.webelement.WebElement (session=\"18fddf4282787f51c0d9296f305c13cd\", element=\"f.AF1A3034BA54B75556DAC7D56E2F3A33.d.FF35F724024BFE91FC600F28DA103419.e.19638\")>]"
      ]
     },
     "execution_count": 6,
     "metadata": {},
     "output_type": "execute_result"
    }
   ],
   "source": [
    "reviews"
   ]
  },
  {
   "cell_type": "code",
   "execution_count": 7,
   "id": "dab8080e",
   "metadata": {},
   "outputs": [
    {
     "data": {
      "text/plain": [
       "220"
      ]
     },
     "execution_count": 7,
     "metadata": {},
     "output_type": "execute_result"
    }
   ],
   "source": [
    "len(reviews)"
   ]
  },
  {
   "cell_type": "code",
   "execution_count": 13,
   "id": "ffbf7188",
   "metadata": {},
   "outputs": [],
   "source": [
    "def get_contents(review):\n",
    "    condic={}\n",
    "    condic['text'] = review.find_element(By.CSS_SELECTOR, 'div.h3YV2d').text\n",
    "    condic['rat'] = len(review.find_elements(By.CSS_SELECTOR, 'span.Z1Dz7b'))\n",
    "    condic['data'] = review.find_element(By.CSS_SELECTOR, 'span.bp9Aid').text\n",
    "    return condic"
   ]
  },
  {
   "cell_type": "code",
   "execution_count": 14,
   "id": "902fac0a",
   "metadata": {},
   "outputs": [],
   "source": [
    "result = [get_contents(review) for review in reviews]"
   ]
  },
  {
   "cell_type": "code",
   "execution_count": 15,
   "id": "44b7f1d8",
   "metadata": {},
   "outputs": [
    {
     "data": {
      "text/plain": [
       "[{'text': '사진 화질도 아주좋고 쓸만하네요 하지만 사람들이 더 다양하게 커스텀 할수있는 기능을 추가 했으면 해요 예를 하나 들어볼게요 , 밝기조절을 통해 직접 바꾸거나 채도를 선택해 흑백이나 사진의 진하기를 해주셨으면해요 이등등 여러가지 커스텀이 있으면 좋을것같아요',\n",
       "  'rat': 5,\n",
       "  'data': '2024년 1월 8일'},\n",
       " {'text': '일단 정말 잘 사용하고 있구요!감사합니다! 다만 최근 AI기능 on off가 있어서 off로해놔도 어플 껐다켜면 다시 on으로 되어있네요ㅠㅠ 공부인증용으로 무음카메라가 필요해서 쓰는건데 카메라 켜면 ai기능이 자동으로 작동돼서 진동이 지익지익 울리는게 조금 불편해요. 어플 다시 껐다 켜도 한번off로 설정하면 제가 다시 on으로 돌리기전엔 안켜지도록 해주실수있나요??',\n",
       "  'rat': 4,\n",
       "  'data': '2019년 2월 26일'},\n",
       " {'text': '오늘 처음깔고 후기를 남겨봅니다 :) 필터도 다양하고 , 예쁜 필터들이 많습니다 ! 그런데 가끔씩 초점이 흐릿해지는 경우가 있었어요 . 이 점은 다시 한 번 검토 부탁드릴께요 :) 또 편집 기능이나 즐겨찾기 기능이 있었으면 좋겠습니다 ! 즐겨찾기 기능이 있는데 못 찾았을 수도 있지만 ,, 즐겨찾기로 원하는 필터를 빨리빨리 볼 수 있었으면 좋겠어요 ✨ 편집기능으로는 이미 찍은 사진의 필터를 변경하거나 추가하기 / 스티커 ? 등이 있다면 더욱 좋을 것같습니다 :)',\n",
       "  'rat': 4,\n",
       "  'data': '2021년 5월 7일'},\n",
       " {'text': '많고 많은 필터어플들이 개성은 별로 없는편인데 피크닉은 독보적인 필터들이 많아서 계속 찾게되네요 ㅎㅎ 날씨 흐린날 사진찍을때 정말 최고에요😍 다만 건의드릴게있어요! 1.앱 실행시에 바로 카메라로 넘어가도록 하는 설정이 있으면 더 좋을것같아요 2.청바지 입을경우에 하늘로 인식하는경우가 있어서 난감할때가 있어요! 이부분은 개선이 필요해보여요 좋은앱 개발해주셔서 항상 감사합니다😍 사는동안 많이 버시고 행복하세요 ;)',\n",
       "  'rat': 5,\n",
       "  'data': '2019년 4월 14일'},\n",
       " {'text': '진짜 이 앱은 남이 알까 무서울 정도로 좋은 앱이네요ㅠㅜㅜ 사진이 세상 예쁘게 되고 너무 깔끔하고 좋아요.....ㅠ 근데 딱 하나 셔터 속도가 좀 느리고, 사진을 한 번 찍고 나면 촬영버튼이 흐릿해져서 다시 나타나지를 않아서(촬영불가) 홈화면으로 한 번 나갔다 들어와야 합니다.... 그래서 여러 장 찍기가 너무 불편해요! 이 점만 고쳐주시면 1등앱일 거 같아요!♡!',\n",
       "  'rat': 4,\n",
       "  'data': '2019년 6월 1일'},\n",
       " {'text': '배경이 자연스럽게 들어가 흐린날에도 사진찍기 좋고 필터 하나하나 색감도 너무 마음에 들어서 실내에서도 피크닉을 자주 써요! 한가지 아쉬운 점은 저장 전에 미리보기가 불가능하다는 거ㅠㅠ 저장 후에 사진을 볼 수 있어 흔들렸거나 마음에 안들면 삭제하고 다시 찍어야 해서 조금 불편해요... 저장 전 미리보기 기능 추가해주시면 정말 감사하겠습니다 :) 좋은 앱 만들어주셔서 감사해요💕',\n",
       "  'rat': 5,\n",
       "  'data': '2019년 2월 4일'},\n",
       " {'text': '저 웬만하면 리뷰 잘 안 쓰는데 이 앱 너무 좋아서 쓰러 왔어요ㅠㅠㅠ♡♡ 평소에 사진 찍는 걸 굉장히 좋아하는데 색감이나 하늘 배경이 아쉬울 때가 있었거든요!! 근데 피크닉 다운받고 나서 그런 고민 싹 사라졌어요!! 하늘 인식도 잘하고 필터 씌워도 자연스럽고 너무 예뻐요... 기본캠으로 찍고 후필터 씌우니 화질도 안 깨지고 좋네요ㅎㅎ 사진 찍고 필터 씌워서 여러 분위기의 하늘 표현하는 재미가 쏠쏠하네요 히히 개발자님들 너무 감사하고 앞으로도 예쁜 필터 더 많이 만들어주세요~~♡♡ (한 가지 아쉬운 점은 밤하늘은 인식을 못하더라구요... 밤하늘에 별밤 필터 씌우고 싶은데ㅠㅠ 이것만 개선되면 정말 완벽할 것 같아요!ㅎㅎ)',\n",
       "  'rat': 5,\n",
       "  'data': '2019년 1월 3일'},\n",
       " {'text': '마음에 쏙 드는 앱입니다ㅎㅎ 카메라 필터앱은 보통 인물 위주로 되어 있다보니 항상 아쉬웠는데... 풍경 사진을 예쁘게 만들어주는 피크닉 정말 유니크하고 많은 사람들이 알았으면 좋겠어요ㅎㅎ 다만 한가지 아쉬운 점은 기본 카메라로 찍고 후보정을 했을 때 위치 정보는 저장이 되는데 시간 정보가 저장이 안되는 게 조금 아쉽네요... 그 외에는 전부 좋아요❤️ 앞으로 추가될 필터도 기대하겠습니다~~~🥰',\n",
       "  'rat': 5,\n",
       "  'data': '2022년 7월 28일'},\n",
       " {'text': '어플사용하면서 리뷰달아본적이 없는데 처음으로 남깁니다. 너무너무 좋은것 같아요. 물론 전문적인 보정작업은 컴퓨터로 다 만지긴 하지만, 이렇게 핸드폰으로도 간단하게 어색하지않고 자연스럽고 이쁘게 보정되는 다양한 필터를 쓸수있다는게 너무 놀랍습니다. 가장 좋은점은 필터의 다양한 색감과 하늘합성기능, 광고없이 편허게 쓸수있다는점 인것 겉네요! 폰카메라어플은 여태까지 이것저것 써보고 모두 삭제했는데 이 어플은 두고두고 계속 쓰게될것 같습니다!',\n",
       "  'rat': 5,\n",
       "  'data': '2021년 5월 18일'},\n",
       " {'text': \"날씨때문에 망한 여행사진을 환하게 수정할 수 있어서 애용하고있어요❤️ 진짜 너무너무 완벽한데 딱 하나 건의드리고 싶은게 있다면 흰 옷, 흰 운동화 등 하늘로 인식해서 인물까지 필터를 입혀버리는 경우가 가끔 있어요. 그 부분을 '지우개'방식으로 해서 필터인식이 불필요한 부분을 사용자가 제거할 수 있게끔 개선된다면 더욱 좋을 것 같아요! 좋은 어플 만들어주셔서 감사합니다❤️\",\n",
       "  'rat': 5,\n",
       "  'data': '2020년 9월 22일'},\n",
       " {'text': '필터가 다양하고 너무 예쁘고 좋아요! 그런데 플래쉬를 사용할 때 약간 문제가 있어요 ㅠ /사진 찍을 때 손, 핸드폰 그림자가 나오는 게 싫어서 플래쉬를 키고 찍었는데 사진을 딱 찍을 때 플래쉬가 깜빡 하면서 오히려 그림자가 더 심하게 나오고 어둡고 플래쉬가 소용이 없는 것 같아요 ㅠ 예전부터 너무 잘 사용하고 있는 어플인데 최근에야 플래쉬를 써봐서 이런 문제가 있는 줄은 몰랐네요 ㅠ',\n",
       "  'rat': 4,\n",
       "  'data': '2021년 8월 23일'},\n",
       " {'text': 'ESTsoft라니!! 알집 회사 맞죠!! 대박 이 어플 너무 좋아요👍👍 최고예요ㅎㅎ 앞으로 핸드폰 어플도 좋은 프로그램 많이 만들어 주세요!! 다만 부분적으로 선택 영역을 뺄 수 있는 기능이 있으면 좋겠어요. 버스 색이 파란색이라 하늘이랑 같이 색이 변합니다...ㅎㅎ 좋은 어플 만들어주셔서 감사합니다~ 이런 어플이 무료라니 개발자분들 만수무강하세요ㅎㅎㅎㅎㅎ',\n",
       "  'rat': 5,\n",
       "  'data': '2021년 1월 23일'},\n",
       " {'text': '설치하고 잠깐 써보면서 리뷰남겨봅니다. 일반적인 색감이나 명암만 개선하는 어플이랑 다르게 다양하고 예쁜 필터가 많아 사진느낌을 완전히 바꿀수있어 신기하네요. 다만 간혹 하늘외의 일부분이 하늘과 같이 인식되어 필터되는 경우는 있지만 큰문제는 아니라 잘 쓸수있겠어요~',\n",
       "  'rat': 5,\n",
       "  'data': '2019년 8월 31일'},\n",
       " {'text': '안녕하세요 이 맵의 좋은점과 아쉬운점을 말하겠습니다 일단 아쉬운점은 필터가 많이 없다는데 옥의 티구요 좋은점은 저장하는 방법도 정말 쉽구 필터 조정도 쉽게 할수 있습니다 그리고 필터 이름도 통통 튀고 이쁘고 사진 종류별로 나눠 볼수도 있고 전체로 볼수 있어서 정말 개인적으로 좋은 앱 입니다 다만 필터가 조금 부족하다고 생각해서 힘드시겠지만 필터를 조금만 더 추가 해주시면 감사하겠습니다 그럼 긴글 읽어주셔서 감사합니다 꼭! 깔아보세요!!',\n",
       "  'rat': 5,\n",
       "  'data': '2021년 10월 19일'},\n",
       " {'text': '사진 어플로는 아주좋습니다만. 특별한 경우가 아니면 사진만되는 어플은 잘안쓰고 동영상도 찍을수있는 어플을 선택할거 같네요. 그리고 사진기능하고 갤러리기능하고 분리하셔서 독립적으로 선택해서 쓸수있다면 더 유용하게 쓰일거같다는 공짜 이용자의 생각입니다',\n",
       "  'rat': 5,\n",
       "  'data': '2019년 7월 18일'},\n",
       " {'text': '안뉭하세요 페이스X에서 인생샷을 남긴다길래 이쁜 하늘 사진에 무지개 한 조각이라 필터를 올려두니 너무너무 이쁩니다. 그 외 다른 필터들도 유용하게 사용하고 있습니다. 근데 사진저장이 잘 안돼더군요.. 제 기종은 note8입니다 그래도 필터가 너무너무 이쁘고 사진배경 분위기가 180° 달라져서 포커페이스가 불가능할 정도입니다.. 이맵 취향저걱입니다❤ 원래는 리뷰를 잘 안다는데 너무 놀라서 누구보다 빠르게 칩니다. 강추🥰',\n",
       "  'rat': 5,\n",
       "  'data': '2020년 12월 31일'},\n",
       " {'text': '진짜 감탄 그자체입니다.. 딴카메라 설치하려고왔다가 인생카메라 가지고 돌아네요 ㅠㅠ 그카메라 지우고 이것만 평생쓰게생겼습니다 (*꒦ິ꒳꒦ີ) 하늘만 뿅하고 바뀌는게 아니라 분위기까지 바꿔줘서 너무 좋고 구름 추가된것도 좋은데 무엇보다 구름이랑 배경필터 각각 조절 가능하다는게 너무 좋았어요! 필터도 다양하고 너무 예쁘고요 ㅠㅠ 하늘 말고도 그냥 평소 카메라로 써도 너무 예뻐요 (◍ㅠᴗㅠ◍♥) 다만 아쉬운점 꼽자면은 메인화면에서처럼 다 자연스럽지는 않더라구요.. 아무것도 티안나는 필터도 한두개 있었고.. 그리고 카메라 촬영버튼 누르면 가끔 버퍼링되는데 한번 버퍼링걸리면 안끝나더라구요 재접속 해야돼요 ㅠㅠ 어쨌든 진짜 색감도 인생카메라입니다 ㅜㅜ 칙칙항 사진도 바꿔줘요 ㅠㅜ 사진 찍은거 슥슥 해보고 진짜 심정지 올뻔했습니다',\n",
       "  'rat': 5,\n",
       "  'data': '2020년 7월 14일'},\n",
       " {'text': '제품사진을 찍을 화질좋은 필터앱을 찾다 평점이 제일 높길래 골랐는데 너무 예쁘네요!! 다만 딱 한 가지 건의 사항이 있다면 저는 찍힌 사진을 확인 후 저장하는 편이라 찍고 바로 자동 저장이 아닌, 찍은 걸 보여주면서 저장버튼이 활성화 됐으면 좋겠어요!!ㅠㅜ',\n",
       "  'rat': 5,\n",
       "  'data': '2023년 2월 1일'},\n",
       " {'text': '너무 좋습니다👍👍 다만 하나 단점은 화질이 살짝 안좋게 저장이 됩니다 ㅜㅜ 하늘은 정말 이쁘게 적용되서 찍히는데 나중에 갤러리와서 확인해보면 찍을때처럼 똑같이 선명하게 나오지 않더라구요 ㅜㅜ 그것만 고쳐주세요!! 아 그리고 요번에 나온 새로운필터 너무 이쁩니다❤❤',\n",
       "  'rat': 5,\n",
       "  'data': '2019년 1월 6일'},\n",
       " {'text': '필터도 너무 예쁘고 사진도 잘 나와서 계속 사용하고 있었는데 업데이트 이후론지 필터 조정기능이 사라졌네요 다시 복구해주시면 안될까요ㅠㅠ 하늘필터 적용할때마다 사진상단이 다 날라가서 조절하면서 보정하고있었는데 그게 없어지니까 필터를 입힐때마다 다 너무 뿌옇거나 까맣게만 나와서 사진이 부자연스럽게 되는거같아요ㅠㅠ',\n",
       "  'rat': 5,\n",
       "  'data': '2018년 11월 8일'},\n",
       " {'text': '사진찍기를 좋아하는 학생입니다!! 여러가지 필터어플들을 많이 로드하고, 또 사용해봤는데 피크닉 만큼 예쁜 색감의 어플을 없는 것 같아요😍 진짜 이 어플 사용하면서 인생샷도 많이 찍었고, 친구들한테도 추천했어요!! 이 어플 쓰시면 정말 좋아요💜 강추드립니다👍🏻👍🏻',\n",
       "  'rat': 5,\n",
       "  'data': '2019년 4월 28일'},\n",
       " {'text': '예전부터 사용하던 앱인데 너무 깔끔하게 잘 찍히고 하늘 사진이나 풍경 찍을 때는 항상 이 앱으로 들어와서 찍습니당..🫠 그만큼 이 앱에 관한 신뢰도가 높고!! 제가 사진을 잘 못 찍는데 이 앱은 항상 잘 나와서 sns에 올려요!!😆 앱 자체가 너무 잘 되어있고 딱딱 나뉘어 있어 하고싶은 필터 찾기에도 쉽네용☺️ 지금 배경이 필터와 잘 맞는지도 알려주기까지! 앱이 너무 좋아서 저 혼자 알고싶어 친구들한테도 얘기 안하려고 했는데 이 앱이 승승장구 하며 인기가 많아 졌음 좋겠어서 다 얘기하고 다녔네요🤭 너무 맘에들고 날씨 안이쁘면 사진 잘 못 찍는 사람에겐 천국이나 다름없어요.!! 앞으로도 계속 쓸 거 같네요☺️',\n",
       "  'rat': 5,\n",
       "  'data': '2023년 4월 20일'},\n",
       " {'text': '잘 쓰고 있는데, 선택영역 지우개 기능이 있었으면 좋겠습니다! 가끔 다른 파란 부분 (청바지 등)이 하늘과 함께 선택되어 그 부분에도 구름이 보이게 되는 경우가 있는데, 선택영역을 부분적으로 지울 수 있었으면 좋겠어요!',\n",
       "  'rat': 5,\n",
       "  'data': '2019년 4월 28일'},\n",
       " {'text': '처음 써보는 어플인데 정말 좋은것 같네요. 기존 DSLR로 찍은 사진에 적용해보니 여해시 시간을 못맞추어서 찍지 못했던 사진을 얻을수 있네요. 정말 추천할만한 어플입니다. 다만 보라색이나 흰색을 너무 흰색으로 인식하는 부분이 조금 아쉽네요. 잘쓰겠습니다.',\n",
       "  'rat': 5,\n",
       "  'data': '2020년 11월 9일'},\n",
       " {'text': '너무너무 감편한 조작 좋아요 .하지만 선택영역만 효과주기라던지(하늘만 선택), 각영역 다른효과주기가 가능해졋으면 좋겟습니다. 하늘은 이쁜데 옷색상이나 얼굴색이 이상한경우가 있어서 안타깝네요 ㅠㅠ🙏😭',\n",
       "  'rat': 5,\n",
       "  'data': '2019년 7월 6일'},\n",
       " {'text': '다른 어플로 필터를 씌우면 화질이 깨지거나 하는데 이건 화질변형같은것도 없고 이 어플을 만드신 아이디어가 정말 좋은거같아요👍 개인적으로 밤하늘이랑 노을을 애용하고있어요 진심 인생샷 나옵니다... ㅠㅠㅠ 너무 좋아요 주변에서 물어보길래 홍보 많이 하고있어요 ㅋㅋㅋㅋ 정말 좋습니다 이렇게 마음에 드는 카메라 어플은 정말 오랜만이에요 좋은 어플 만들어주셔서 정말 감사해요 제작자님❤',\n",
       "  'rat': 5,\n",
       "  'data': '2018년 9월 17일'},\n",
       " {'text': '필터도 많이 없는편인데 색이 다 날라가네요.. 너무 어둡거나 너무 밝거나 명암이 너무 들어가거나 색채가 많이 날라가거나 거의 배경 위주인것 같아요 인물엔 부적합.. 조절해도 배경과 인물이 있으면 중간조절이 없어요..',\n",
       "  'rat': 2,\n",
       "  'data': '2021년 3월 30일'},\n",
       " {'text': '안녕하세영 오늘 이 앱 처음 써본 유저인데용 이건 가장 먼저 칭찬해야 할께 광고가 안나와요! 다른 것들은 광고가 엄청 나오는데 이건 안나와요!! 그다음에 칭찬해야 할것은용 종류가 엄청나게 많아요 순간 엄청 놀랐어요 종류가 굉장히 많아서.놀랐구욜,다음은요 너무 이뻐효!! 광고 안 나오지,종류 많지,겁나 이쁘지 이 앱 적극추천 합니다!!♡',\n",
       "  'rat': 5,\n",
       "  'data': '2021년 4월 24일'},\n",
       " {'text': '배경위주로 바뀌는 어플이 별로 없었는데 광고도 없고 색감도 너무 좋아요 😀 그런데 생각보다 할수있는 필터가 많이 없어서 조금 추가 해주셨으면 좋겠네요... 하늘,풍경 위주로 찍는분들한테 강추합니다 ㅎㅎ😎',\n",
       "  'rat': 5,\n",
       "  'data': '2022년 8월 13일'},\n",
       " {'text': '진짜 신기한 앱이 있네요 맨날 여행갈때마다 비 몰고다니는 사람한테 필수. 구름도 엄청 자연스럽고 우충충 빛도 진짜 자연스럽게 색감넣어서 보정 잘 해줘요. 밝기랑 색상으로 편집할때 느끼는 한계를 뛰어넘는... 폰에 있는 우충충사진 다 보정할거에여 꿀잼',\n",
       "  'rat': 5,\n",
       "  'data': '2020년 7월 29일'},\n",
       " {'text': '오류인지 남 몰래 패치한 내용인지는 잘 모르겠으나 과거에는 사진을 찍을때 무음이라서 좋았는데 핸드폰을 교체한 뒤에 다시 사용할려니 소리가 나네요.. 어플 설정에 있는 소리 설정을 꺼놔도, 켜놔도 똑같은데 왜 놔두셨나요 그냥 없애지..',\n",
       "  'rat': 3,\n",
       "  'data': '2020년 11월 30일'},\n",
       " {'text': '다 좋은데 한가지 기능만 추가됐으면 좋겠어요. 필터를 전체적으로 덮다 보니까 얼굴까지 필터로 덮여지는데 지우개 기능이 있어서 지우면 원본으로 돌아오는 기능이 있었으면 좋겠어요ㅠㅠ',\n",
       "  'rat': 4,\n",
       "  'data': '2019년 12월 25일'},\n",
       " {'text': '피크닉 앱을 잘 쓰고있는 유저입니다! 정말 다 좋지만 한가지 아쉬운 점이 있습니다... 필터가 많아서 제가 즐겨쓰는 필터를 찾을려면 오래걸리거든요.... 그래서 즐겨찾기 기능을 만들어 주셨으면 합니다!! 만들어주시면 정말 감사하겠습니다( ˘ ³˘)♥',\n",
       "  'rat': 4,\n",
       "  'data': '2019년 5월 6일'},\n",
       " {'text': '안녕하세요 사용정보등에 접근권한 전부 다 허용했는데ㅠㅠ 갤러리 선택하구 앨범 선택해서 기존에 찍은 사진 편집하고 싶은데 아무리 해당앨범 터치를 해도 활성화가 안돼요ㅠㅠ 도와주세요ㅠ',\n",
       "  'rat': 5,\n",
       "  'data': '2024년 3월 13일'},\n",
       " {'text': '정말 좋아요! 사진을 쉽게 저장할수 있는것도 좋고요! 하나하나 답글 달아주시는거 보고 엄청 대단하다 싶었네요! 요즘 겨울이 지나가는 시기라 그런지 봄 사진을 찾아서 보정하려는데 정말 쉽고 예쁜 사진으로 보정할 수 있어서 좋아요! (산택장애인데 사진들이 다 예뻐서 다 저장하다보니 벌써 5장... 1장을 5장으로 만들어내는 기적)',\n",
       "  'rat': 5,\n",
       "  'data': '2021년 3월 12일'},\n",
       " {'text': '필터 하나하나 빠짐없이 다 색감도 너무 예쁘고 디테일도 너무 좋아요ㅠㅠ 풍경에도, 하늘에도, 심지어 그림에 넣어도 다 예뻐요! 필터 하나만으로 무드가 추가된 느낌.....ㅋㅋㅋ 진짜 제 인생 필터 어플입니다ㅠㅠ 첫눈에 반했어요ㅠㅠ! 좋은 어플 너무너무 감사드려요💜',\n",
       "  'rat': 5,\n",
       "  'data': '2020년 7월 8일'},\n",
       " {'text': '기본카메라로 촬영한 사진 피크닉어플에서 편집할려고하면 \"지원하지않는 이미지\"라고 뜨네요. 기본갤러리-편집에서 피크닉선택시 수정은 되는데.. 이점만 보완해주시면 감사하겠습니다. 혹시 광고제거 유료버전은 따로 계획없으신가요?',\n",
       "  'rat': 4,\n",
       "  'data': '2021년 9월 26일'},\n",
       " {'text': '너무좋네요!! 오늘 깔아서 몇몇사진 보정해봤는데, 마음에 딱 들어서 바로 리뷰남기러 왔습니다 ㅎㅎ 피크닉이 필요한사진 추천해주어서 알맞게 보정해서 더더욱 좋은사진 만드는것도 너무좋고 필터도 다양하고 디자인도 정리가 잘 되어있어서 너무좋네요..٩(*•̀ᴗ•́*)و',\n",
       "  'rat': 5,\n",
       "  'data': '2021년 2월 22일'},\n",
       " {'text': '리뷰 정말 안 쓰는 편인데 이건 정말 꼭 까세요 콜라주 만드려고 앱 구경하다가 이미 제 폰에 깔려있길래 이게 뭐지하면서 들어갔다가 필터 중독돼서 똑같은 사진을 필터별로 저장했네요ㅋㅋㅋㅋㅋㅋ 이거 진짜 중독성 쩔구요 너무 마음에 들어요 앱 만들어주셔서 정말 감사드려요ㅜㅠㅠ 앞으로도 잘 써서 인스타 풍경 사진 자주 업로드할게요 힘내세용!',\n",
       "  'rat': 5,\n",
       "  'data': '2019년 1월 13일'},\n",
       " {'text': '필터는 개인적으로 씌우는 걸 좋아해서 쓰진 않지만, 구름이나 색갈 등 배경을 바꿀 수 있는 건 참 좋은 것 같아요!! 다만 약간 아쉬운 건 바다를 찍을 때 하늘과 바다를 구분을 잘 하지 못하더라구요!! 그 부분은 개선해 주셨으면 합니다.',\n",
       "  'rat': 5,\n",
       "  'data': '2020년 4월 20일'},\n",
       " {'text': '다 좋은데... 좀 아수ㅣ운점이 하나 있어요. 배경이 아닌데 하늘 색깔로 인식이 되어서 별이 날라다니는 경우가 있어용... 지우개툴같은걸로 배경아닌곳을 살짝칠한다거나 인식 안된 배경을 펜툴로 추가할수있으면 더욱조을듯해용',\n",
       "  'rat': 5,\n",
       "  'data': '2018년 11월 4일'},\n",
       " {'text': '별점 왜 5개 뿐이죠. 별점을 더 남기고 싶을 만큼 정말정말 애정하는 앱이랍니다:) 여행갔을 때 찍었던 하늘이 같이 나온 사진들 보정할 때마다 정말 감사한 마음으로 맨 첫 보정때마다 사용하고 있을 정도로.. 하늘 나온 사진 찍는걸 좋아하는 지인이 생긴다면 보정이나 필터 앱으론 제일 먼저 추천하고 싶은 앱이에요. 적게 일하고 많이 버시길 바래요:)',\n",
       "  'rat': 5,\n",
       "  'data': '2021년 7월 26일'},\n",
       " {'text': \"색감이 너무 예쁘네요😊 여행용 사진 앱으로 요만한게 없는것 같습니당 엄지척척👍🏻 개발자님 궁금한게 있는데 앱을 껏다가 나중에 다시 실행하면 항상 '달콤한 크리스마스' 필터가 처음에 나오는데요 제가 이전에 선택,정도를 조절해 놓은 필터가 맨먼저 나오게 할수는 없나요?(자주쓰는건 정해져 있어서요) 혹시 방법이 있는데 저만 모르는 것인지 궁금합니당 ㅎㅎ 유용한앱 만들어 주셔서 감사해요^^\",\n",
       "  'rat': 5,\n",
       "  'data': '2019년 1월 27일'},\n",
       " {'text': '구름이 없는 날이나 흐린 날도 예쁜 하늘로 바꿀 수 있어서 좋아요. 하지만 가끔 파란색 지붕이나 하늘색 옷 같은 게 하늘로 인식돼서 구름 필터가 씌워지는 것이 치명적인 문제점이에요 ㅠㅠ 지우개 기능으로 하늘이 아닌데 하늘로 잘못 인식된 부분의 필터 적용을 지울 수 있으면 완벽할 것 같아요! 2년 전에 이런 리뷰가 있었는데 반영이 안되었네요.. 꼭 업데이트가 필요한 기능이라고 생각합니다.',\n",
       "  'rat': 4,\n",
       "  'data': '2022년 9월 8일'},\n",
       " {'text': '제 최애필터 ! 최근에 ai모드가 나와서 더 편하게 찍을 수 있고 예쁘게 나와서 매우 만족합니다! 원래는 기본카메라로 찍었었는데 이제는 무조건 피크닉으로만 찍게되네요ㅎ 피크닉덕분에 인생샷이 많아졌네요ㅎㅎㅎㅎ 더 많은 필터가 얼른 추가됐으면 좋겠어요! 감사합니다!!!!!!!:)',\n",
       "  'rat': 5,\n",
       "  'data': '2019년 2월 9일'},\n",
       " {'text': '진짜 너무너무 필터 예쁘고 다 좋은데요 ㅠㅠㅠ 영상 촬영도 가능하게 해주세요 ㅠㅠㅠㅠ 영상 때문에 깔았는데 영상 지원은 안돼고.., 그렇다고 너무 예뻐서 지울 수도 없는 애매한 상황이예요 ㅠㅠ 제발 빠른 시내에 영상이 생기길 ㅠㅠ',\n",
       "  'rat': 3,\n",
       "  'data': '2021년 5월 8일'},\n",
       " {'text': '이거 앱 진짜 추천드려요 ! 진짜 좋구 필터들 하나하나 다 너무 예뻐요♡ 만약에 제가 저장 공간만 더 넓었으면 필터별로 하나씩 사진에 적용 했을 것 같네용 ㅜ 근데 제가 직접 하늘을 좀 문질(?)러서 하는 것도 있었으면 좋겠어요!진짜 추천드립니다',\n",
       "  'rat': 4,\n",
       "  'data': '2019년 8월 20일'},\n",
       " {'text': '우와앙 제 최애 카메라 앱 ㅠㅠ 너무 좋아요 ㅠㅠ 보통 앱들은 거의다 유료고 필터도 돈같은거 써야 할 수 있는건데 이건 다 무료라 너무 좋은데다가 이게 필터에 어울리는지 이 사진이 피크닉 과 어울리는지를 선택해 줘서 너무 좋고 필터도 예쁜거 너무 많아서 하늘 사진에 필터예쁜거 껴서 카카오톡 프사로 사용중이에요! 진짜 너무 예뻐서 사진 찍는 내내 행복합니다..',\n",
       "  'rat': 5,\n",
       "  'data': '2019년 4월 7일'},\n",
       " {'text': '나무 좋아요 !! ❤ 제가 왠만하면 리뷰 안남기는데 이건 안남길 수 가 없어용 😭 진짜 진짜 좋아용 !! 강추 ☺ 우선 필터를 넘길 때 마다 필터 이름? 을 설명해주는게 너무 좋아요 ! 친구들한테 설명할 때도 너무 편리하구요 필터들도 너무너무 예뻐요 ! 💕 진짜 미세먼지에 극복할 수 있을 느낌 ? ㅋㅋ 하여튼 피크닉 진짜 너무 좋네요 ! 주변인한테 홍보 하러 가보겠습니다 ♡ 아 하나 더 !! 여행 사진이나 풍경사진 찍을때 좋아요 ♡인생 카메라인 것 같네요 ♡♡',\n",
       "  'rat': 5,\n",
       "  'data': '2019년 3월 26일'},\n",
       " {'text': '제가 카메라 앱을 바꾸고 싶었는데요! 이게 딱이다!하고 사진 보정도 잘 되고요 필터도 많고요 사랑에 빠진 엘리쓰가 특히 좋네요ㅎㅎㅎ 여기 나온 사진이랑 진짜 똑같구요 정말 싫을것없이 💯점 만점에 💯입니다 이앱 정말로 추천드립니다 꼭 다운받아서 제 말이 무슨 말인지 알아봅시다 안 깔면 후회합니다ㅎㅎ',\n",
       "  'rat': 5,\n",
       "  'data': '2021년 5월 30일'},\n",
       " {'text': '진짜 최고에요👍 흐린날을 맑은날로 보정하는게 너무 힘들었는데 필터마다 색감도 최고이고 하늘을 파랗고 예쁜구름을 넣을 수 있다는게 너무 좋은것같아요! 예쁘고 좋은 보정앱찾아서 기쁩니다 !!',\n",
       "  'rat': 5,\n",
       "  'data': '2020년 7월 12일'},\n",
       " {'text': '밋밋한 하늘에서 감성있는 하늘로 바뀌어요~! 다만 보정을 원하지 않는 부분은 지우개로 지울 수 있는 기능이 있었으면 좋겠어요. 그리고 사진 기울기, 크기조절도 할 수 있었으면 더 좋을듯 하네요~',\n",
       "  'rat': 5,\n",
       "  'data': '2022년 6월 21일'},\n",
       " {'text': '잘 쓰고 있습니다. 근데 Auto A.I. 기능은 꺼짐이 기본으로 원할 때만 켤 수 있었으면 좋겠어요ㅠ 그리고 필터도 쓰던 필터 설정이 그대로 남아있었으면 좋겠습니다. 감사합니다.',\n",
       "  'rat': 5,\n",
       "  'data': '2019년 2월 24일'},\n",
       " {'text': '너무 잘 쓰고 있습니다 필터도 예쁘고요 근데 저번부터 아마 핸드폰 업데이트한 이후부터 무음 설정을 해도 소리가 나는데 어떻게 해결해야 하죠?ㅠㅠ이거 쓰는 가장 큰 이유가 무음이었는데 소리가 납니다ㅠㅠ',\n",
       "  'rat': 5,\n",
       "  'data': '2020년 6월 19일'},\n",
       " {'text': '와~~~진짜 좋고 잘 사용중 입니다ㅠㅠ근데 아쉬운점이 하나 있어용ㅠㅠ 갤러리 에서 동영상을 못가져온다는게 아쉽답니다ㅠㅠ 동영상까지 가져와서 설정하면 별 5개로 다 채울수 있답니다ㅠㅠ',\n",
       "  'rat': 4,\n",
       "  'data': '2020년 6월 13일'},\n",
       " {'text': '여행사진에선 날씨가 진짜 중요한데 흐린날씨 맑게, 그리고 수정하기도 쉽고, 렌즈 안닦아서 흐리게 나온사진도 어느정도 선명하게 보이게하는 효과도 있는것 같아요. ♡여행엔 사진♡ ♡배경엔 피크닉♡',\n",
       "  'rat': 5,\n",
       "  'data': '2021년 6월 14일'},\n",
       " {'text': '색감이 너무 예쁘고 밤하늘도 이쁘게 찍혀서 너무 좋아요ㅠㅠ근데 사진이 조금 늦게 찍혀서 아쉽습니다! ㅠ 그래도 저는 거의 보정만 하기도 하고 불편하진 않아요!! 추천 입니다❤',\n",
       "  'rat': 5,\n",
       "  'data': '2020년 9월 11일'},\n",
       " {'text': '진짜 너무너무 좋아요!! 필터 바꿀때마다 자막이 일일이 나오는것도 그렇고 적용이 안되는 사진이 있으면 자막으로 친절하게 알려주는것도 너무 좋아요!!ㅠ 감사합니다~! 앞으로 덕분에 예쁜사진 많이 찍을 수 있을 것 같아요!!',\n",
       "  'rat': 5,\n",
       "  'data': '2019년 3월 24일'},\n",
       " {'text': '혹시 무음카메라가 안되나요? 소리설정 빼도 계속 소리가 나서 카메라 사용하다가 소리가 너무 커서 몸 계속 움찔움찔 떨리게 되네요ㅠㅠ 그거 외에는 색감이 너무 예뻐서 마음에 들어요!',\n",
       "  'rat': 5,\n",
       "  'data': '2021년 3월 19일'},\n",
       " {'text': '처음엔 비교적 괜찬은것 같아 이 피크닉을 선택했는데 원하는 하늘색을 선택할때 마다 주위의 다른 영역까지 하늘색의 영향이 미쳐 흐리게 해버리는 큰 단점이 있네요. 좋은 앱들이 쓰는 \"mask 기능\"을 빨리 추가하세요!',\n",
       "  'rat': 3,\n",
       "  'data': '2021년 8월 5일'},\n",
       " {'text': '와...진짜 이런 사진편집 어플 처음 봤습니다.... 넘 좋아요!! 구름도 진짜 자연스럽게 넣어지고 우중충한 하늘도 맑고 이쁘게 만들어요ㅜㅜ 제작자님ㅜㅜ 이런 어플이 제가찾던 그 앱입니다!! 여러분들도 꼭한번 써보세요!! 진짜 강추입니다!! 벌써 제 갤러리에 이쁜 사진들로 가득찼어요!! 사진첨부하고 싶지만.... 첨부가 안되요ㅜㅜ 피크닉으로 편집한 이쁜 사진들 보여드리고 싶은데ㅜㅜ 그리고 아무생각없이 찍은사진이 작품이되요!!',\n",
       "  'rat': 5,\n",
       "  'data': '2020년 6월 8일'},\n",
       " {'text': '제가 이앱을 써봤거든요 그 미리 준비된 사진3장 있잖아요 그건 필터느낌같은게 잘나더라구요 그래서 기대를한뒤 직접사진을 찍어봤거든요?근데 피크닉이랑은 안어울리는 장소라뜬데요 (전분명 하늘을 찍었어요)하지만 이건 별로문제없어요 제가 하늘에대고 필터를꼈더니 그필터감성이 사진3장보더 덜 나는거있죠ㅜ 그래도 괜찮은것도있어서 잘쓰겠지만 사진감성이 더 잘 나타났으면 좋겠어요 이앱사랑해요 ♥♥ 너무좋아서 친구한테 알려주기도 싫을정도ㅎㅎ',\n",
       "  'rat': 5,\n",
       "  'data': '2019년 2월 1일'},\n",
       " {'text': '와 므친 필터가 댕이뻐요.. 나만하고시푼 어플이랄까..?☆ 하늘 편집은 안해봤는데 필터썸네일?들이 딱 느낌파악하기 좋은 사진들이라 원하는 느낌 찾기도 편할거 같더라구요 ㄹㅇㄹㅇ 글구 제가 반한 건 독특한 필터색감들이에요! 색감이 엄청 자기주장하는것도 아니고 흔치않고 특이한데 촌스럽지도 않아욧.. 필터이름도 대박..ㅠㅠ 섬세하네요 >_<♡',\n",
       "  'rat': 5,\n",
       "  'data': '2021년 6월 14일'},\n",
       " {'text': '리뷰보고 계신 분들 이거 꼭 다운받으세요 사진 찍는거 좋아하시거나 그림 배경이라던지 일반 필터나 그림 배경 심심할때 쓰기도 좋고 정말 자연스럽게 잘돼요 ㅠㅠ 한 번 깔아봤다가 진짜 잘 쓰고 있어요 만들어주신분들 감사합니다 하늘 예쁘게 잘 편집되고 너무 좋아요 완전 추천!!',\n",
       "  'rat': 5,\n",
       "  'data': '2020년 3월 16일'},\n",
       " {'text': '엄..일단은 좋은점이 진짜 자연스럽게된다는점이 가장좋아요ㅠ 그리고 여러 분위기도 이쁘게나타낼수있을뿐더러 칙칙한 하늘도 맑고이쁜하늘처럼 연출할수있어서 진짜 유용한 앱인것같아요 저는 이앱이 널리알려지면좋겠다고생각해요ㅠㅠ 그러면 저는 앞으로 이앱 자주사용하도록할게요❤',\n",
       "  'rat': 5,\n",
       "  'data': '2018년 12월 5일'},\n",
       " {'text': '제가 제일 애정하는 어플입니다 필터도 너무 예쁘고 진짜 하늘 찍을 때 뿐 아니라 다방면으로 유용합니다 다만 AI가 하늘 인식을 잘 못하더군요 ㅜㅜ 특히 흐린날은 아예 인식을 못하고 맑은날에도 가끔 그러고 네이비컬러 아파트랑 맑은 하늘이랑 같이 인식해서 아파트에 구름이 껴지기도 해요 그리고.. 셔터소리 해제가 옛날 폰에서는 잘 됐는데 새로 바꾼 폰에서는 어쩐 일인지 계속 나더라구요 이외에는 다 정말 좋습니다 :)',\n",
       "  'rat': 4,\n",
       "  'data': '2021년 1월 3일'},\n",
       " {'text': '안드로이드 파이 환경에서, 높은 빈도로 앱 실행 시 검은 화면만 뜹니다. 그럴 때마다 삭제 후 재설치를 해야 하고, 최초 실행 이후에 재차 사용 시 에러가 재발합니다. 확인 부탁드립니다.',\n",
       "  'rat': 4,\n",
       "  'data': '2019년 5월 26일'},\n",
       " {'text': '감성더하기 너무 좋은앱. 모든 사진에 완벽하게 적용할 순 없으나 단순한 조건만 갖춰진 사진은 원본이라고 믿을 정도의 퀄리티를 지녔음. 선택지가 더욱 다양해지길 바람.',\n",
       "  'rat': 5,\n",
       "  'data': '2019년 11월 26일'},\n",
       " {'text': '필터도 너무 이쁘고 하늘에 구름나타나는거랑,, 진짜 눈내리는거같은 필터도 있고 다 좋은데 필터에서 AI기능을 꺼놓고 수치..?를 다 바꿔놔도 다시 들어오면 똑같이 변해있더라구요.. 이것만 마음대로 조정할 수 있게해주시면 감사하겠습니다!=)',\n",
       "  'rat': 4,\n",
       "  'data': '2019년 10월 24일'},\n",
       " {'text': '사진 찍을때 해상도 설정이 있으면 좋겠습니다. 편집시에도 해상도 저하는 약간 있는데 핸드폰이나 웹에서 보긴 괜찮습니다. 필터는 더할나위 없이 예쁩니다.',\n",
       "  'rat': 4,\n",
       "  'data': '2019년 6월 18일'},\n",
       " {'text': '추천 받아서 사용 중이예요~ 너무 너무 잘 쓰고 있어요! 이과 만세입니다😆 오늘 눈이 와서 아침부터 산책을 하고 왔는데 찍은 사진을 보정하려고 보니 피크닉에는 눈이 담긴 장면이 없더라구요 그래서 무지 아쉬웠어요... 응원의 인사와 스노우 필터도 만들어주십사하는 부탁을 담아요~♡',\n",
       "  'rat': 5,\n",
       "  'data': '2018년 11월 23일'},\n",
       " {'text': \"제가 사진을 잘 못 찍는데 이걸로 하니까 진짜 예쁘게 찍혀요 !!그리고 '봄빛에 물든 복숭아' 필터가 너무 예뻐요(ू•ᴗ•ू❁) 하나 아쉬운 점이 있다면 동영상을 찍고 싶은데 안되는게 너무 아쉬워요 ㅠㅠㅜ 동영상 기능까지 생기면 별 5점 주고 싶네요 !!\",\n",
       "  'rat': 4,\n",
       "  'data': '2020년 5월 18일'},\n",
       " {'text': '오늘 깔았는데 정말 좋은것 같아요, 혹시 동영상에는 필터를 넣을 수 없을까요 ㅜ 사진보단 동영상을 좀더 많이쓰는편이라서.. 동영상도 필터를 입히면 정말 좋을것같아요, 좋은앱 만들어주셔서 감사합니다.',\n",
       "  'rat': 5,\n",
       "  'data': '2018년 12월 1일'},\n",
       " {'text': '필터가 너무 많아도 별로인데 딱 필요한 것만 있고 개성 있고 광고도 없고 다 좋은데, 필터 순서를 바꿀 수 있으명 좋겠어요 자주 쓰는 것만 앞으로 오게요!',\n",
       "  'rat': 4,\n",
       "  'data': '2021년 10월 24일'},\n",
       " {'text': '죽은 사진을 아.름.답.게 살려줍니다. 이 앱만 있으면 언제 어디서든 든든합니다. 그냥 하늘보다 피크닉 하늘이 더 좋아질 정도....? 그만큼 자연스럽고 색감이 예뻐요. 너무 좋은 나머지 리뷰를 한 번 더 쓰고 싶게 만드는 앱...!',\n",
       "  'rat': 5,\n",
       "  'data': '2019년 5월 29일'},\n",
       " {'text': '예쁜 필터가 많아서 그때그때마다 다른 사진을 찍을수 있어서 너무 좋아요!! 그리고 광고도 거의 나오지 않아서 편하고요...ㅎㅎ 이 피크닉 앱 추천 합니다👍 별⛤⛤⛤⛤⛤5개!!👍👍',\n",
       "  'rat': 5,\n",
       "  'data': '2020년 3월 23일'},\n",
       " {'text': '필터강도 조절하는 바가 사진 아래부분을 가려서 좀 답답한데 이부분 업그레이드 좀 부탁드려요.. 사진 색감 너무 이뻐서 좋은데 바 위치가 너무 불편하네요....',\n",
       "  'rat': 3,\n",
       "  'data': '2020년 11월 23일'},\n",
       " {'text': '필터 너무 예쁘고 좋아요 근데 이 기능이 있는데 제가 못찾는건지는 모르겠지만 조정기능이 있으면 좋겠어요 편집할때 하늘이 아닌 부분까지 다 적용되니까 아쉽더라구요 ㅠ',\n",
       "  'rat': 4,\n",
       "  'data': '2018년 10월 29일'},\n",
       " {'text': '와 이건 진짜 여태 써본것중에 최고에요♥♥ 써보면서 별다른 터치없이 클릭 한번만했는데 사진이 어엄청 예쁘게 나오네요♥ 하면서 감탄사가 절로 나왔습니다! 이런 어플은 어플 1위 해야하는데! 1년동안 설치한 어플중 가장 최고입니다!',\n",
       "  'rat': 5,\n",
       "  'data': '2019년 4월 6일'},\n",
       " {'text': '제가 까먹고 이 앱의 리뷰를 아직도 안 남겼다니.. 너무 충격적입니다 이 최고의 어플을 진작부터 쓰고있었는데도... 하늘사진 보정도 장난아니지만요 일반 사진들 보정에도 필터가 정말 너무 예뻐서 좋습니다 앱 만들어주셔서 감사합니다ㅠㅠ',\n",
       "  'rat': 5,\n",
       "  'data': '2023년 4월 24일'},\n",
       " {'text': '가끔 바지나 물 등, 하늘이 아닌 부분에 필터가 입혀져 곤란할 때가 있는데, 일정 부분만 필터를 지울 수 있는 기능이 있다면 정말 좋을 것 같네요.',\n",
       "  'rat': 4,\n",
       "  'data': '2019년 8월 19일'},\n",
       " {'text': '사진 정말 잘 나오고.. 진정 내 실력인가 의심될거 같이 필터도 너무 예뻐요~ 근데 사진 찍을 때 나는 소리가 좀 아쉽습니다ㅠ 찰칵 소리도 진동이나 무음시 안 났으면 하는 아쉬움에...글 남겨요',\n",
       "  'rat': 4,\n",
       "  'data': '2020년 6월 15일'},\n",
       " {'text': '너무 이뻐서 좋은데요ㅜㅜ 단점이 화질이 너무 깨지구 사람이랑 하늘 연결부위가 가끔씩 티나게 뜰때가 있는데 화질 안깨지는법 없나요?ㅜㅜ 그리고 하얀옷입으면 거기에도 다 입혀지고 청바지에도 필터 높일수록 청바지가 하얀바지가 되어가네요...ㅜ',\n",
       "  'rat': 4,\n",
       "  'data': '2020년 7월 23일'},\n",
       " {'text': '제가요😊스노우로 항상 찍는데 이거뭐죠? 화면빨이 흐리게나오지도않구, 너무좋아요 내인생앱이될정도예요!! 사실 유튜브에서 추천받아서 왔는데 이거 진짜좋아용😭😭❤❤필터완전좋은것두많구영 여행놀러갈때 하늘찍고,풍경찍고하잖아요🌸그때 날씨가흐리거나하면 썩 사진좋게않나오고할때 완전 꿀탬이예요 흐린날에서 햇빛쨍쨍한날로 바뀌고❤이거 진짜 필수탬! 인생사진도 많이 건져가용!😭😭❤❤❤❤',\n",
       "  'rat': 5,\n",
       "  'data': '2019년 10월 25일'},\n",
       " {'text': '갤러리 어플에 있는 사진이 인식 안돼요. 갤러리에는 13800장이 있는데 이 어플의 전체 사진에는 8040장으로 대략 6천장이나 인식을 안하고 날려버려요...... 오늘 찍고 필터 씌우고 싶은 사진이 있는데, 인식이 안되니 할 수가 없어요 ㅠㅠ 왜 이래요???',\n",
       "  'rat': 3,\n",
       "  'data': '2021년 5월 17일'},\n",
       " {'text': '최고입니다 말할게 없습니다! 단 아쉬운 점은, 어두운 하늘에서는 우주배경 적용이 어렵네요 ㅠㅠ 시스템 자체에서 인식을 안하는 건가요 ㅠㅠ 아무튼 이거 진짜 추천합니다 괜히 ★4.7이 아니네요',\n",
       "  'rat': 5,\n",
       "  'data': '2018년 11월 23일'},\n",
       " {'text': '너무나 찾고있었던 앱이에요. 요즘 미세먼지농도가 많이 좋아졌다고 해도, 흐린날이 더 많은게 사실이죠. 그런 요즘 필터로는 제일 좋은 앱이에요. 한가지 건의드릴 점은 앱 종료시에 뜨는 광고가 거슬려요.,, 개발자님의 수익창출을 위해 광고표시가 필요하다고 생각하지만 유저들을 위해 후원하기를 추가해 광고를 안보고싶은 사람들에게 선택권을 주시는게 어떨까요. ?',\n",
       "  'rat': 5,\n",
       "  'data': '2020년 6월 12일'},\n",
       " {'text': '너무 만족하고 있어요 자연물 찍는거 좋아하는데 하늘 보정이 되니까 아무리 흐린 날에 사진을 찍어도 이쁜 배경이 나타나서 좋아요 다른 어플과 다른 점이네요!!',\n",
       "  'rat': 5,\n",
       "  'data': '2019년 4월 14일'},\n",
       " {'text': '왜 이제야 알게된건지...너무좋다 이어플 다만 아쉬운점은 동영상기능ㅜㅜ있었음좋겠어요 그리고 필터 즐겨찾기 기능이랑 무음이요ㅜㅜ 이것만있다면 유료어플이여도 구매할꺼같아요ㅜㅜ',\n",
       "  'rat': 5,\n",
       "  'data': '2020년 3월 24일'},\n",
       " {'text': '원래 하늘 안이쁘고 미세먼지에 비와서 잘 안찍는데 완전 좋아요 특히 필터가 너무 다양하고 그라데이션이 너무 이뻐요 이앱 친구로 통해서 알게됐는데 완전 강추요!!! 너무이뻐요 감사해요',\n",
       "  'rat': 5,\n",
       "  'data': '2019년 7월 25일'},\n",
       " {'text': '헐~~징짜 완죤완젼 좋아욜!!!!👍진짜 이런앱 본적없습니다ㅠㅠㅠ제작자님 진짜ㅜㅜ감사드려요ㅎㅎ💘 필터도 예쁘장하고 친구랑 찍을때 분위기여신으로 나와서 무엇보다 만족이구요,제가 풍경샷을 되게 많이 찍는데 찍어서 카톡프사하기 딱좋은 어플입니당😆❣친구들한테도 알려주고있어요ㅋㅋ 제 사진찍는 어플중 최애 앱입니다👏👏 감사드려요♡><좋은하루되세여!☆💚',\n",
       "  'rat': 5,\n",
       "  'data': '2018년 12월 4일'},\n",
       " {'text': '진짜 구름 영역지정 가능한 기능만 추가되면 완전 최고 어플!! 피크닉이 구름사진이 필요없다고 인식 못하는 사진이나 구간들도 지정할수 있게 해주세요! 그리고 옷도 파란색이면 같이 적용되던데 그러한 부분도 혹시 개발자분쪽에서 수정할수 있는지 여쭤봅니댱!',\n",
       "  'rat': 5,\n",
       "  'data': '2022년 2월 24일'},\n",
       " {'text': '하늘은 무조건 이걸로 보정해요 너무 예쁘게 잘나와요ㅎㅎ 그리고 하늘 표시된건 하늘을 더 만들어주는데 물론 이것도 놀랍게 자연스럽지만 더 자연스러운걸 원하시는 분들은 하늘마크 없는걸로 파랑 계열이나 아니면 더 드라마틱한걸 원하는 분들은 하늘 마크없는 파스텔 계열 필터들과 하늘 마크 있는 필터 추천!',\n",
       "  'rat': 5,\n",
       "  'data': '2023년 8월 8일'},\n",
       " {'text': '필터가 걸려서 이쁘게 잘 나오네요 ㅎㅎ 그런데 저기 혹시 줌인은 어떻게 하나요?? 확대할려고 재스처하니까 필터가 바뀌고 볼륨키로 해도 안되던데.. 줌인 기능은 없는건가요???',\n",
       "  'rat': 4,\n",
       "  'data': '2019년 10월 4일'},\n",
       " {'text': '칭찬받을만한 어플. 사진을 멋진 분위기로 바꿀 수 있습니다. 그리고 어플 내 모션이나 글씨체 등이 잘 되어있어 완성도가 높다고 느낍니다.',\n",
       "  'rat': 5,\n",
       "  'data': '2021년 6월 10일'},\n",
       " {'text': '색감 너무 예뻐요ㅠㅠ 하늘 보정도 동화나 일러스트처럼 예쁘게 잘 되고, 특히 라라랜드 필터 진짜 애정합니다ㅠㅠ 더 많은 필터 업데이트 되었으면 좋겠어요😳 개발자님 감사합니다💞',\n",
       "  'rat': 5,\n",
       "  'data': '2018년 12월 4일'},\n",
       " {'text': '와 이거 진짜 물건입니다 ㅋㅋㅋㅋㅋ 사진의 분위기가 바뀌네요 옛날에 찍은 사진중에서 흐려서 망한 사진들 다 복구했어요 ㅠㅠ 개발자에게 그저 감사합니다ㅠㅠㅜㅜ 이런 어플은 광고 많이 나와도 이해합니다♡',\n",
       "  'rat': 5,\n",
       "  'data': '2020년 6월 27일'},\n",
       " {'text': '자연스럽게 예쁜 하늘 합성 가능해요!! 예뻐요!! 다만 청바지에도 같이 돼서ㅋㅋㅋㅋ 선택 부분만 지우는 기능도 있었으면 좋겠어요',\n",
       "  'rat': 5,\n",
       "  'data': '2020년 5월 24일'},\n",
       " {'text': '배경색깔 보정하기 너무 편리하고 좋네요 좀더 디테일하게 수정과 보정도 되고 다양한 기능이 있었음하는 바램이 있네요',\n",
       "  'rat': 5,\n",
       "  'data': '2021년 2월 4일'},\n",
       " {'text': '다 너무 예쁘도 좋은데 필터 선택하는 아이콘이 원본 사진을 안가리는 위치에 있으면 좋을 것 같아요! 농도 조절하는 아이콘도요!',\n",
       "  'rat': 5,\n",
       "  'data': '2021년 8월 19일'},\n",
       " {'text': '그동안 피크닉 어플로 찍은 사진들이 다 사라졌습니다. 앨범 자체가 사라졌습니다. 무슨 오류인지 모르겠는데 엄청난 추억이 갑자기 사라지게되었습니다. 복구를 해주시면 감사하겠습니다. 기종은 갤럭시S8입니다.',\n",
       "  'rat': 1,\n",
       "  'data': '2018년 10월 11일'},\n",
       " {'text': '잘 쓰고 있어요 :) 제가 못찾는거일수도 있는데..동영상도 필터 편집 가능하면 좋을거 같아요 ㅠㅠ 사진이랑 동영상이랑 통일감을 못줘서 아쉬워요 ㅠ',\n",
       "  'rat': 4,\n",
       "  'data': '2021년 8월 31일'},\n",
       " {'text': '진짜 무조건 다운로드 하세요~~!! 제가 사진찍는거 진짜 좋아하는데 하늘사진찍을때마다 하늘이 뭐라하더라 굉장히 어두컴컴해서 밋밋하고 별로였는데 이걸로 편집하니까 진짜 좋아요 단점없는어플 처음이에요~~왠만한 유료어플보다 훨씬 좋은듯 ㅋㅋㅋ',\n",
       "  'rat': 5,\n",
       "  'data': '2020년 2월 17일'},\n",
       " {'text': '너무 좋아요!!꼭 사용해 보시면 좋을것같아용 근데 아쉬운 점이 동영상을 못 찍는거에요ㅠㅠ 하디만 5점드릴게용! 동영상만 찍게 해주시면..ㅎㅎ 그것 빼구 다 좋아용',\n",
       "  'rat': 5,\n",
       "  'data': '2020년 3월 30일'},\n",
       " {'text': '여러분 이앱꼭쓰세요... 광고가 뜬다고불만이신가요...? 이정도 퀄리티사진을 무료로쓰시는데 그정도광고 감당 못하실거면 지갑을여셔야합니다.. (팩트는 광고 그렇게많이 뜨지도않아요) 사진길쭉하게나오고 아니무엇보다 풍경이 진짜너무이뻐요..이번에 단풍사진찍었는데 너무이쁘고..찍은 후필터바꾸는기능은세상,..나는왜 이런 앱을 지금에서야 찾았나... 낮풍경찍으실때 walk필터였나? 그거쓰세요~ 근데 가끔 Ai인식인가? 그거 부적합이면 아예 앱이 멈추는경우가 있더라구요...그건좀개선부탁드려요...그리구 광고뜨면 나가기버튼 누르면 앱이나가짐...광고만끄고싶은데 ㅠㅠ 이거도아쉬워요ㅠㅠㅜ',\n",
       "  'rat': 5,\n",
       "  'data': '2020년 11월 1일'},\n",
       " {'text': '이 앱 완전 좋아요!! 제가 예쁜 하늘을 완전 좋아하는데 이 앱 완전 제 스타일이예요!! 하늘 색감 엄청 좋고 편집도 자연스럽게 잘 되서 진짜 그 하늘을 찍은 것 같아요! 지금까지 많은 앱들을 찾았봤는데 저는 이 앱이 가장 좋습니다!! 이런 앱 만들어주셔서 감사합니다!!!',\n",
       "  'rat': 5,\n",
       "  'data': '2019년 1월 19일'},\n",
       " {'text': '한늘이 예쁘게 돼서 좋고 필터를 안낀거 같아요', 'rat': 5, 'data': '2024년 2월 18일'},\n",
       " {'text': '아주자연스럽게 보정이 잘 됨', 'rat': 5, 'data': '2024년 2월 20일'},\n",
       " {'text': '산뜻해요💙 사진 한장을 가지고 여러 분위기에 잘 어울리게 연출이 되요!~💙그리고,쎌카 찍으려는데, 스티커 부치기엔 좀 에바(?) 일떼 이걸로 하니까 너무 이쁘게 잘 나오고,화질도 좋아요💙💜💛❤',\n",
       "  'rat': 5,\n",
       "  'data': '2019년 7월 7일'},\n",
       " {'text': '짱이에요 요 이어플을 이제야 알았을까요 ㅜㅠ 감사합니다.', 'rat': 5, 'data': '2024년 2월 24일'},\n",
       " {'text': '너무 예뻐요ㅜㅜ 풍경사진 찍을때 예쁘게 찍을 수 있어요!!ㅜ 쓸때 바로 찍지 말고 찍은 사진을 편집하는게 더 예쁘고 자연스럽게 예쁘게 됩니다..!',\n",
       "  'rat': 5,\n",
       "  'data': '2019년 7월 12일'},\n",
       " {'text': '너무 좋아요ㅠㅠ 사진 찍는 걸 좋아하는데 휴대폰 카메라 성능으로는 풍경 특유의 색이나 분위기를 못 담아서 카메라를 살까 고민 중에 있는데 이 앱 덕분에 좀 나아졌어요ㅠㅠ',\n",
       "  'rat': 5,\n",
       "  'data': '2019년 6월 26일'},\n",
       " {'text': '색감이 너무 좋아요 근데 한가지 아쉬운 점은 뒷 배경만 살짝 했음 좋겠눈데 전체다 색깔이 바뀌어버려서 좀 아쉬워요',\n",
       "  'rat': 4,\n",
       "  'data': '2020년 3월 27일'},\n",
       " {'text': '넘좋아여!필터도많고 추천도 해주셔서 첨엔\\' 뭐지 ?\" 이랬는데 지금보니까 안예쁘던사진도 예뻐지는 마술이 라고해야하나? 그런좋은점도있고 찍으면서 예쁜필터낄슈 있어서넘좋아요',\n",
       "  'rat': 5,\n",
       "  'data': '2019년 4월 28일'},\n",
       " {'text': 'Dslr로 raw 파일로 라룸으로 보정후 살짝 날씨 별로면 피크닉 어플로 하면 ㄹㅇ 싹임 날씨 조작 가능 개선 했으면 하는 점은 조금 더 하늘이 진하게 느껴질수 있게 해주면 좋을듯 함. Ex ) 노을 빛이 좀더 강했느면 좋겠늠',\n",
       "  'rat': 5,\n",
       "  'data': '2020년 8월 8일'},\n",
       " {'text': '다 좋은데 전체사진으로 봐도 최근에 찍은사진이 몇몇개가 뜨지않던데 해결방안이 있나요? 아무리 찾아봐도 보이질않네요 물론 사진입니다',\n",
       "  'rat': 3,\n",
       "  'data': '2020년 8월 24일'},\n",
       " {'text': '진짜 좋은데 왜 기본카메라로 찍었는데도 지원되지않는 파일이라고 뜨는것들이 많을까요ㅠ 필터는 너무이쁜데 사진을 편집할수가 없어요...ㅜ',\n",
       "  'rat': 3,\n",
       "  'data': '2020년 10월 23일'},\n",
       " {'text': '잘쓰는중. 다만 필터지우개브러쉬나 하늘배경입히는브러쉬 기능이 생기면 더 좋을듯.',\n",
       "  'rat': 4,\n",
       "  'data': '2020년 1월 11일'},\n",
       " {'text': '사진하늘이 너무 예쁘게나와요 적용이 잘안되는 사진도있긴한데 그래도 흐린날사진 예쁘게 편집가능해서 좋습니다',\n",
       "  'rat': 4,\n",
       "  'data': '2019년 6월 17일'},\n",
       " {'text': '구름추가가 되어서 좋긴한데 선택하면 밝기 이런거에서 나머지 배경도 같이 되는 그런거라 인물색까지 변해서요 색 조절이 애매할때가 있네요',\n",
       "  'rat': 3,\n",
       "  'data': '2020년 9월 13일'},\n",
       " {'text': '색감이 다 이뻐요! 다만 아쉬운점은 사진저장시 해상도를 선택할 수 있다면 더 좋을것 같아요ㅎㅎ',\n",
       "  'rat': 4,\n",
       "  'data': '2020년 8월 28일'},\n",
       " {'text': '작동하는것도 쉬워서 처음 부터 잘 이용할수있어서 넘나 좋구 !! 제가 하늘을 찍는데 이상하게 나온것두 이거 하니까 넘 이뻐가지구 잘 쓸것같아용 ! 동영상이 안돼서 아쉽지만 그래두 앱이 좋은것 가타용 ㅎ',\n",
       "  'rat': 5,\n",
       "  'data': '2019년 10월 4일'},\n",
       " {'text': '최근에 사용한 어플중에 가장 매력있는것 같아요~ 다른 사진 어플로는 할수없는것들이라 앞으로 나올 것들도 기대됩니다! 화이팅!',\n",
       "  'rat': 5,\n",
       "  'data': '2018년 12월 6일'},\n",
       " {'text': '그냥 너무 좋습니다 !! 친구들과 찍은 서진이 있는데 , 그 사진 하늘이 안 좋아서 실험 겸 해봣는데 .. 너무 좋네요!!!! 광고도 별로 없구.. 강추합니다!!',\n",
       "  'rat': 5,\n",
       "  'data': '2020년 11월 1일'},\n",
       " {'text': '동영상도 찍을 수 있으면 좋을 텐데 아쉬워요 ㅠㅠ 그리고 이게 아침에는 그래도 필터가 적용되는데 왜 밤에는 필터 적용이 안 되나요? 이 점 고쳐주세요 이 두 가지만 빼면 다 좋아요!! 최대한 빨리 개선해주세요',\n",
       "  'rat': 2,\n",
       "  'data': '2019년 10월 6일'},\n",
       " {'text': '되게 필터가 예쁜것두 많구 광고도 없구 정말좋아요!!!특히 하늘사진,그리고 가족사진 이런곳에 분위기 추가하고 싶을때!!!그때 딱!!!그래서 별5개!!☆☆☆☆☆근디 동영상 찍을수있으면 좋겠네요ㅠㅠ그래도 이앱 짱입니댜!!!',\n",
       "  'rat': 5,\n",
       "  'data': '2020년 4월 7일'},\n",
       " {'text': '다 좋은데 사진 고를때 한번에 내릴수있게 스크롤이 있었으면 좋겠어요ㅠ 사진이 너무많아서 손으로 스크롤하기 힘듭니다ㅠ',\n",
       "  'rat': 4,\n",
       "  'data': '2018년 10월 7일'},\n",
       " {'text': '역광은 색감이 별루구요. 저녁때 찍으니까 느낌이 그림입니다. 폰 바탕화면용으로 잘 사용하고 있습니다',\n",
       "  'rat': 4,\n",
       "  'data': '2018년 10월 30일'},\n",
       " {'text': '하늘이 흐렸을때 찍기 진짜 좋구 유용하게 쓰는데 한가지가 없어서 조금 불편했어요 동영상기능이요 사진만 찍고 편집할 수 있다는게 아쉬워요',\n",
       "  'rat': 4,\n",
       "  'data': '2020년 4월 5일'},\n",
       " {'text': '완전 짱짱짱! 이 앱으로 인생샷 몇개 건졌어요!! 필터를 넣지 않은 사진에다 필터를 한개 넣고 또 나와서 그 위에다 필터를 하나 더! 완전 예뻐요!',\n",
       "  'rat': 5,\n",
       "  'data': '2018년 10월 31일'},\n",
       " {'text': '틱톡에서 어떤 분이 알려주신 앱! 하늘사진도 이쁘게 편집이 되고 피크닉에 딱맞는 사진인지도 척척알려주고 넘 좋은 앱이닷!!!!!!!!!! 내가 필요했던 앱중 하나닷!~~~',\n",
       "  'rat': 5,\n",
       "  'data': '2020년 2월 18일'},\n",
       " {'text': '색감 진짜 이쁨!!! 진짜 맘에들어요 원래 후기 안쓰는데 이건 진짜 너무예뻐서 후기쓰네요 색감도 다양하고 제가 원하는 색감도 많고 완전 사진이 바꿔요!! 대박 추천이에용 ㅠㅠ',\n",
       "  'rat': 5,\n",
       "  'data': '2020년 5월 22일'},\n",
       " {'text': '징짜 최고예요 세상 이렇게 좋은 카메라 앱이 없어요 근데 제 폰만 이런 건지 모르겠는데 화질이 약간 떨어지네용... 그 외엔 진짜진짜 좋아서 별 5개 드려요!!!! 이런 좋은 앱 만들어주셔서 감사합니다♡',\n",
       "  'rat': 5,\n",
       "  'data': '2018년 9월 27일'},\n",
       " {'text': '진짜.. 이건.. 너무 좋아요! 제가 필터 사용했던 다른 맵은 사진이 어둡고 안 예뻤는데 이 맵은 너무너무 좋네요!!! 이 맵 강추 합니닷!!♥ 근데 한게에 단점은 동영상을 할수 없다는 것이에요..ㅠ',\n",
       "  'rat': 5,\n",
       "  'data': '2020년 6월 19일'},\n",
       " {'text': '다 좋은데 가끔 하늘이 아닌 아파트나 옷을 하늘로 인식하는 일이 생겨 불편하네요....자동 인식 후 수동으로 범위를 조절할 수 있으면 좋겠네요! 그 외엔 하늘도 너무 예쁘고 좋아요^^',\n",
       "  'rat': 4,\n",
       "  'data': '2019년 8월 31일'},\n",
       " {'text': '와 이건 진짜 인생앱이네요...안써본 사람있으면 당장 써보라고 하고 싶습니다.풍경사진에 필터넣으니까 죽이네요..ㅠ 필터 더 만들어주면 더더더 좋을거 같아요!이런앱 만들어주셔서 너무 감사합니다♥',\n",
       "  'rat': 5,\n",
       "  'data': '2018년 11월 25일'},\n",
       " {'text': '겨우 시간내서 간 여행내내 흐린날씨라 걱정이 많았는데 평생 남겨지는 사진들을 이쁘게 꾸밀수있어 너무 좋습니다 유용해요:)',\n",
       "  'rat': 5,\n",
       "  'data': '2019년 7월 8일'},\n",
       " {'text': '풍경사진 찍을 때 너무 좋아요 ㅜㅜ 내 인생 카메라 ㅜㅜ 피크닉만한 카메라 앱은 없을 것 같네요 ..!! 심지어 무료인데도 쓸 수 있는 필터도 많고 풍경 사진 진짜 많이 찍는데 딱 저한테 필요한 앱입니다 ㅜㅜ',\n",
       "  'rat': 5,\n",
       "  'data': '2020년 3월 18일'},\n",
       " {'text': '깔고나서 딱 한번 들어갔고 사진을 찍은것도 아니고 필터만 보고 껐어요. 근데 다시 앱을 실행하려니까 앱이 중단되었다는 알림만 뜨네요 지금 아예 못들어가고 있어요',\n",
       "  'rat': 1,\n",
       "  'data': '2018년 12월 4일'},\n",
       " {'text': '제가 하늘사진 찍는 것을 좋아해서 한번 깔아봤는데 필터도 다양하고 자연스럽게 적용되어서 너무 좋습니다!',\n",
       "  'rat': 5,\n",
       "  'data': '2020년 9월 3일'},\n",
       " {'text': '렉이 심한걸까요 사진을 찍는데 렉걸려서 더 안찍혀요 ㅠㅠㅠㅠ 필터랑 너무 이뻐서 잔뜩 기대하고 신혼여행온건데 ㅜ ㅜㅜ 결국 서로 찍어줄때만 할 수 있고 블루투스리모컨 쓰면 10장중 1~2장만 찍히네요...ㅠㅠ',\n",
       "  'rat': 5,\n",
       "  'data': '2021년 6월 16일'},\n",
       " {'text': '와...진짜 너무 좋아요♥👍 필터 진짜 이쁘고💖 말로 설명 못하겠어요🙅 하나부터 열까지 모든게 완to the벽⭐ 그리고 하나하나 댓 달아주시는데 댓에서 정성이 뚝뚝 흘러요💦 하...진짜 이앱 너무 좋아요👍👍 아직 깔지말지 망걸이고 있다면 당장!! 라잇 나우! 지금 깔아요! 오늘도 크닉크닉 피크닉한하루 감사합니다🌈',\n",
       "  'rat': 5,\n",
       "  'data': '2019년 5월 14일'},\n",
       " {'text': '진짜 사용방법도 쉽고 필터들도 다 이뻐용 피크닉이 가능한 사진이라면 덤으로 구름도 같이 나와요 너무 강추입니다..!',\n",
       "  'rat': 5,\n",
       "  'data': '2020년 11월 10일'},\n",
       " {'text': '필터가 정말 예쁘기 잘 나오네요 아쉬운게 있다면, 필터 적용 전후 비교가 더 간편했으면 하네요',\n",
       "  'rat': 4,\n",
       "  'data': '2021년 4월 13일'},\n",
       " {'text': '필터가 예쁘지않는 사진에 이 앱을 사용하니까 생기가있어서 예쁜거 같아요!!이 앱을 사용사지 않으셨다면 꼭 사용하기를 추천드립니다!!👍',\n",
       "  'rat': 5,\n",
       "  'data': '2018년 10월 15일'},\n",
       " {'text': '예전엔 과한 필터때문에 좀 부담스러웠는데, 간만에써보니 필터/구름 분리도되고 피크닉 로고도 안찍히고 엄청 좋아졌네요~ 너무만족스러워요',\n",
       "  'rat': 5,\n",
       "  'data': '2018년 11월 25일'},\n",
       " {'text': '일단 배경 찍기 너무 좋아요!!!!별로 써보지 않은 사용자 이지만 앞으로 더 좋은 어플이 될 수 있을 것 같아요💖그런데 얼굴도 찍을 수 있게끔 하면 더 좋을듯 해요!!그래도 넘 좋습니다.잘 사용하겠습니다!!><',\n",
       "  'rat': 4,\n",
       "  'data': '2020년 5월 25일'},\n",
       " {'text': '다좋은데.폰을 가로로 찰영해서 편집하려면.사진이 가로로 나타나지않아요.세로찰영과 편집은 좋은데. 가로사진은 편집이 안되네요. 가로사진은 가로로 편집할수있게 업데이트해주세요?',\n",
       "  'rat': 3,\n",
       "  'data': '2018년 11월 30일'},\n",
       " {'text': \"진짜 필터두 예쁘구 다 좋은데 하나 걸리는게 필터 바꿀때 첨에 오리지널에 있을때 구름이랑 '피크닉에 필요한 사진은 아니네요'로 떠요ㅜㅜ그것만 없어주세용ㅜㅜ그것만 없으면 진짜 짱❤ 근데 이 필터 기준이 하늘 배경이여야 이쁜것 같아용!\",\n",
       "  'rat': 4,\n",
       "  'data': '2020년 3월 19일'},\n",
       " {'text': '이 어플만큼 이쁘 색보정 어플 없어요 진짜...다른 어플들은 색보정되면서 노란끼가 항상있어서 마음에 안들었는데 피크닉은 정말 청량 보정 그자체입니당...♡ 영상도 같이 되면 너무 좋을 것같아용 감사합니당 ㅠㅠ',\n",
       "  'rat': 5,\n",
       "  'data': '2021년 8월 17일'},\n",
       " {'text': '보정이 필요한 사진을 알아서 찾아주는데 그게 저하고 너무 잘 맞아서 잘 쓰고 있어요. 색감도 너무 이뻐요ㅎㅎ',\n",
       "  'rat': 5,\n",
       "  'data': '2020년 8월 23일'},\n",
       " {'text': '필터앱 유목민인데요. 다시 돌아왔습니다! 똥손, 보정 초보, 보정하는것을 귀찮아 하는 분들 강력히 추천합니다.',\n",
       "  'rat': 5,\n",
       "  'data': '2020년 11월 15일'},\n",
       " {'text': '너무 잘 나오구 진짜 추천 드리는 제 인생 사진 앱 이예요 엉엉ㅜㅜ 하늘 인식도 잘하고,필터도 예쁘고 정말 너무 예뻐요,,꼭 한번씩 다운받아아서 쓰세요! 절대절대 후회 안 하실거예요 너무 이뻐요 개발자님 감사합니다ㅜㅜ 이런 예쁜 앱으로 매일 피크닉 간 기분처럼 살게요! 정말 감사합니다,,♡♡제 하트 다 드세요! 하트하트',\n",
       "  'rat': 5,\n",
       "  'data': '2018년 11월 25일'},\n",
       " {'text': '엄...필터가 예쁘고 좋아요!! 근데 카메라에 지원하지 않은 이미지 입니다라고 떠서 카메라파일에 있는 사진을 편집 할수 없네여ㅠ 그거 빼고 좋아요!!!',\n",
       "  'rat': 4,\n",
       "  'data': '2020년 10월 31일'},\n",
       " {'text': '촬영한 사진을 수정하고싶다면 최고의 분위기로 꾸밀 수 있다. 무척이나 만족스러운 앱이다',\n",
       "  'rat': 5,\n",
       "  'data': '2019년 8월 29일'},\n",
       " {'text': '미초버린듯 ㅋㅋㅋ이거 진짜 물건임ㅋㅋㅋㅋ여행 갈 준비하다가 카메라 앱 깔아봤는데 갤러리 사진들에 적용해보고 리뷰안남길 수 없어서 왔음!!!!!! ㄱ이거 유료해도 되겠지만 계속무료해듀세요♡♡♡♡♡',\n",
       "  'rat': 5,\n",
       "  'data': '2019년 3월 22일'},\n",
       " {'text': '제가 사진 편집하는 거나 보정하는 거 좋아하는 편인데 하늘이 자연스럽고, 예쁘게 보정? 되는 것 같아서 마음에 들어요 ㅠㅠ ❤ 앞으로도 잘 쓸게요!',\n",
       "  'rat': 5,\n",
       "  'data': '2020년 2월 6일'},\n",
       " {'text': '제가 다른 카메라를 사용중이었는데 필터가 제가 좋아하고 하늘 사진에 알맞은 필터는 없었어요.이제는 피크닉으로 예쁜 하늘사진을 많이 찍어야겠어요.물론 가족들과 소풍을 갔을 때도 유용하겠군요!',\n",
       "  'rat': 5,\n",
       "  'data': '2019년 2월 4일'},\n",
       " {'text': '!!!!!!필터도 이쁘고 엄청좋아요오 그런데 혹시 사진 찍을때 무소음으로 찍는 기능 만들어주시면 안될까요..?? 소리가 너무 커요ㅠㅠ',\n",
       "  'rat': 5,\n",
       "  'data': '2019년 4월 6일'},\n",
       " {'text': '별 10개를 주고싶을만큼좋아요!!!! 필터를 썻는데도 티가 별로안나서 너무좋고 또 필터를 조절할수 있는부분도 자연스럽게 수정할수있어서 좋습니다!! 진짜 인생앱 입니다!! 강추!!',\n",
       "  'rat': 5,\n",
       "  'data': '2020년 6월 12일'},\n",
       " {'text': '너무 예뻐요♡ 제가 하고 싶은 느낌의 필터가 가득해서 넘 좋습니당! 근데 셀카를 찍을 때 스티커 기능이 있으면 좋겠네요 어쨌든 이앱 강추 합니당',\n",
       "  'rat': 5,\n",
       "  'data': '2021년 3월 31일'},\n",
       " {'text': '흐린사진에 구름을 적용시킬때 하늘이 아닌 파란물체가 하얗게 변해요ㅠㅠ ex)파란표지판 -> 하얀표지판 파란자동차 -> 하얀자동차 이 버그만 수정시켜주시면 완벽한 어플입니다',\n",
       "  'rat': 2,\n",
       "  'data': '2020년 3월 31일'},\n",
       " {'text': '갤럭시 폰인데 아이폰 색감처럼 표현하는 앱을 찾고 있는데 좀더 사용해보구요 필터별로 조절기능 있어서 좋아요',\n",
       "  'rat': 5,\n",
       "  'data': '2019년 11월 26일'},\n",
       " {'text': '너무 마음에 들어요♡♡ 제가 배경사진을 자주찍는데 핸드폰이란 카메라 앱은 별로 안이쁘게 나오거든요.. 그래서 이 앱을 깔아서 써봤는데 너무 이쁘게 나와서 너무 좋아요♡',\n",
       "  'rat': 5,\n",
       "  'data': '2019년 4월 11일'},\n",
       " {'text': '너무 좋아요😘 이게 배경화면으로 하니 억쑤로 맘에 들어요! 하지만...조금만 더 많이 있었으묜 좋겠오요ㅎ 광고도 없어서 매일해도 짜증이 나질 않아여ㅎㅋㅎㅋ',\n",
       "  'rat': 5,\n",
       "  'data': '2020년 2월 18일'},\n",
       " {'text': '흐리게 나온 사진이 밝게 보정되서 좋았어요 다양한 느낌으로 사진을 표현할 수 있는것 같네요!',\n",
       "  'rat': 5,\n",
       "  'data': '2018년 11월 2일'},\n",
       " {'text': '예전에쓰다 지웠는데 너무잘썼던 기억이있어서 다시깔았어요.정말 여행가서 쓰시기 딱입니다❤ 다만,보라색하늘을했을때 살짝 부자연스런면이있어요 그래도 너무너무좋아요😍',\n",
       "  'rat': 5,\n",
       "  'data': '2020년 5월 7일'},\n",
       " {'text': '이거는 내가 용량이 부족해서 삭제했다가도 나중에 다시 깔게 되는 앱임. 진짜 사진 이쁘게 되고 이것만한 앱은 없음. 다른 사람들은 해상도 떨어진다고 하는거 같은데 절대 안떨어져. 짱임',\n",
       "  'rat': 5,\n",
       "  'data': '2018년 10월 6일'},\n",
       " {'text': '왠만해서는 리뷰 안남기는데 사진마다 분위기 있게 필터를 맞출수있고 너무 잘맞아서 좋아요 그리고 스티커보다 필터만 사용하는 저에게는 너무 만족 👍',\n",
       "  'rat': 5,\n",
       "  'data': '2018년 10월 26일'},\n",
       " {'text': '너무 그냥 화질이 너무좋아요! 그치만 찍히는게 조금 느려요.그치만 하늘에 다가 배경이~~완전 기가 막혀요!',\n",
       "  'rat': 5,\n",
       "  'data': '2021년 3월 7일'},\n",
       " {'text': '와...진짜 심심한 사진에...완전 짱이다....♡근데 하늘이 안보이는 사진은.. 눈물 흘리는 슬픈 구름이 나와서 편집을 할 수가 없어요..하지만 그런 점 빼고는 좋은거 같아요!♡',\n",
       "  'rat': 5,\n",
       "  'data': '2020년 8월 19일'},\n",
       " {'text': '하늘변경해주는 기능 너무 좋아요 흐린날 찍은사진도 맑은날처럼.바꿔줌 최고~',\n",
       "  'rat': 5,\n",
       "  'data': '2023년 10월 31일'},\n",
       " {'text': '와!!제가 사용한 카메라 어플 중 방법도 간단하구 필터도 많고 광고도 별로 안 나오는 최고의 어플이에요!피크닉 강추강추!',\n",
       "  'rat': 5,\n",
       "  'data': '2020년 11월 15일'},\n",
       " {'text': '하늘이 심심했서 별로였던 사진이 이걸 사용하고나니까 심심했던 하늘이 보안이되서 너무좋구여 필터가 많아서 골라 마음에 드는 하늘을 만들수있어서 너무 좋구여 진짜 잘쓰고있어요 별이 다섯개밖에 없는게 아쉬울정도로 진짜좋아요 이앱 완전 잘만든듯👍👍',\n",
       "  'rat': 5,\n",
       "  'data': '2019년 1월 23일'},\n",
       " {'text': '정말 좋네요. 사진 퀄이 확 삽니다. 하늘 부분을 수동으로 지정해서 할수도 있으면 좋겟네요.',\n",
       "  'rat': 5,\n",
       "  'data': '2019년 7월 1일'},\n",
       " {'text': '정말 너~~~무 좋네여! 완죤 취.저 예여!!♡ 벚꽃구경 왔는데 벚꽃도 넘 이쁘게 나오고!! 짱짱! 이에영 근뎅 셀카는 좀 안예쁘게 나와서... 셀카 기능좀 넣어주셨으면 해여 꼭 답글 달아주시길 바랄게요!♡',\n",
       "  'rat': 5,\n",
       "  'data': '2019년 4월 13일'},\n",
       " {'text': '배경이 우중충한게 예쁘게 바뀌어서 넘 좋아요! 더 좋은건 이 앱이 무료라는거❣ 무료로 사진 배경 예쁘게 꾸며서 인생샷 겟 할 수 있는게 젤 좋아용💕',\n",
       "  'rat': 5,\n",
       "  'data': '2019년 2월 16일'},\n",
       " {'text': '와 필터가 너무 이뻐요 ㅠㅠㅠ 혹시나 이런 앱이 또 있나하고 리뷰보고 딴 앱들도 깔아봐서 필터를 덮어봤는데 이만큼 좋은게 없네요 ㅜㅜ 절말 필터 너무너무 이쁘고 하늘색 같은것도 보정할 수 있는게 좋아요 ❤ 별 5개 드리고 가요 (ू•ᴗ•ू❁)',\n",
       "  'rat': 5,\n",
       "  'data': '2020년 4월 10일'},\n",
       " {'text': '전 원래 작성하는거 되게 싫어하고 귀찮아 하는 성격인데요 이앱은 아무생각없이 깔아서 실행해봤는데 생각보다 너무너무 예쁘게 만들어지고 자연스러워서 개인적으로 제가쓴 필터 앱중 최고였던것 갔아요 잘쓸게용😊🖐💛',\n",
       "  'rat': 5,\n",
       "  'data': '2019년 8월 11일'},\n",
       " {'text': '제 원래 카메라가 하늘의 색감을 제대로 담지 못해서 답답해는데 이건 딱 좋아요. 구름 추가 가능하고, 색감 좋아서 많이 쓰게 되는 어플.',\n",
       "  'rat': 5,\n",
       "  'data': '2020년 11월 25일'},\n",
       " {'text': '저 이거 친구 추천으로 다운받았는데 진짜좋아요...그냥 동네 아무곳이나 찍어도 감성 배경화면으로 변신하고..하늘밖에 못찍어서 아쉽긴하지만 정말좋아요!!!',\n",
       "  'rat': 5,\n",
       "  'data': '2020년 4월 10일'},\n",
       " {'text': '풍경 찍었을때 좀 흐린 사진이었거든요!!근데 밤처럼 보정할수도있고 다 예쁜필터밖에없더라고요...완전 짱!!강추입니닷!',\n",
       "  'rat': 5,\n",
       "  'data': '2019년 10월 20일'},\n",
       " {'text': '필터 하나같이 이뿌고 실제같아서 유용하네요ㅋㅋ 근데 기능이 별로 없어서 약간? 불편한게있어요.. 그래도 충분히 만족해요!',\n",
       "  'rat': 5,\n",
       "  'data': '2020년 2월 29일'},\n",
       " {'text': '일단 너무 좋은앱이고 제가 사진을 찍으면 안예쁘게 나오는데 이걸로 사진찍고 편집하면 진짜 짱이예요! 제작자님 이런앱 많이 만들어 주세요~~♥',\n",
       "  'rat': 5,\n",
       "  'data': '2018년 9월 27일'},\n",
       " {'text': '와 진짜 미쳤어요...먼저 별점 주러 오는 경우는 처음이에요 진짜 필터 디테일도 실물같이 잘 나오고 계속 돌아다니면서 사진 찍고싶네요ㅋㅋㅋㅋ진짜 굳굳 짱짱',\n",
       "  'rat': 5,\n",
       "  'data': '2020년 7월 21일'},\n",
       " {'text': '확실이 색감?을 넣으니까 사진이 확 달라보이고 예쁘네요! 사진을찍어도 뭔가 부족했었는데 이제는 피크닉 앱이 있어서 좋네요ㅎㅎ 친구들한테도 많이 알려줘야 겠네요^^~',\n",
       "  'rat': 4,\n",
       "  'data': '2020년 5월 16일'},\n",
       " {'text': '좋아요. 배경 합성 , 변화주는거 좋아요 . 좀더 자연스럽게 되면 짱일듯 계속 무료였음 좋겠어요',\n",
       "  'rat': 4,\n",
       "  'data': '2021년 12월 17일'},\n",
       " {'text': '제가 젤 좋아하는 앱 입니당❤ 별 100점을 주고 싶은데 5점 밖에 못 주네요ㅜㅇㅜ 글고 필터가 넘나 예뻐요:) 하늘목장 가는 길 필터가 제 최의 필터입니다❤ 그런데 동영상만 찍을수 있게 해주세요 그 단점 고쳐주신다면 감사하겠습니다🤗',\n",
       "  'rat': 4,\n",
       "  'data': '2020년 8월 12일'},\n",
       " {'text': '다 좋은데 보정하고나면 원본 화질손실 됩니다 이것만 수정하면 거의 완벽함 그리고 얼굴이나 몸매 교정도 업그레이드 해주시면 금상첨화',\n",
       "  'rat': 4,\n",
       "  'data': '2019년 3월 13일'},\n",
       " {'text': '와 긴가 민가하는 마음으로 다운받았는데 정말 죽은사진을 살려주네요! 정말 너무 좋은어플입니다 모두 깔아요!!',\n",
       "  'rat': 5,\n",
       "  'data': '2018년 11월 11일'},\n",
       " {'text': '필터 새로운거 안 바라니까 옷이랑 얼굴에도 필터 씨우지 맙시다ㅠ 밤하늘 배경이 넘 이뻐서 하고 싶었는데 옷이 하양이어서 그런지 옷이랑 얼굴도 퍼래졌네요 어쩌라는건지.... 사람 클릭하면 그것만 원본으로 돌아오면 좋겠네요',\n",
       "  'rat': 2,\n",
       "  'data': '2020년 1월 11일'},\n",
       " {'text': '여행동안 날씨 흐려서 우울했는데 하늘 합성하면서 이게 찐이지 위로중이에요 너무 좋아요',\n",
       "  'rat': 5,\n",
       "  'data': '2023년 12월 31일'},\n",
       " {'text': '밋밋한사진에 구름만넣었을뿐인데 인생사진!!! 근데 저장하면 해상도가 떨어져요 ㅜㅜ 고해상도였으면좋겠어요',\n",
       "  'rat': 4,\n",
       "  'data': '2018년 10월 3일'},\n",
       " {'text': '필터 다양하고 광고도 잘 안뜨고 사용방법도 편하고 간단하고 그래서 너무 편하고 좋은 앱이에요🙃🙃',\n",
       "  'rat': 5,\n",
       "  'data': '2021년 1월 19일'},\n",
       " {'text': '필터 다 이쁘고 좋은데 밤 풍경은 너무 티가 나요ㅠㅠ 그리고 필터 좀만 더 추가해주셨으면 좋겠습니다 :) 그래도 너무 잘 쓰고 있어요~',\n",
       "  'rat': 4,\n",
       "  'data': '2021년 7월 18일'},\n",
       " {'text': '호오오오 넘 좋아요 필터들 다 이쁘구.. 근데 좀 아쉬운건 하늘은 이쁘지만 벚꽃처럼 하얀 계열의 그런 것들은 색이 좀 이상해진다는.. 그래도 만족입니다!',\n",
       "  'rat': 5,\n",
       "  'data': '2019년 11월 2일'},\n",
       " {'text': '미세먼지 많아서 예쁘게 사진을 찍어도 하늘이 회색빛으로 뿌열때가 많은데,사진으로나마 푸른 하늘을 합성해서 보니 만족합니다!',\n",
       "  'rat': 4,\n",
       "  'data': '2021년 3월 25일'},\n",
       " {'text': '화면 보정이 잘되서 유용하게 잘 사용하고 있어여! 앞으로도 화이팅 입니다! 추천! 가끔씩 오류가 나는데 그거 빼곤 다 좋아용!',\n",
       "  'rat': 5,\n",
       "  'data': '2021년 10월 5일'},\n",
       " {'text': '스노우로 편집해서 저장한 사진은 왜 피크닉에 활성이 안되나요? 아예 안떠요. 카톡으로 저장했다가 다운받아도, 다른 앨범에 복사해도 안뜨네요.',\n",
       "  'rat': 1,\n",
       "  'data': '2020년 5월 13일'},\n",
       " {'text': '오늘처음 깐 앱인데요, 제가 본것중에 제일 좋아요! 별점더드려도 모자랄만큼 강추! 사진작가 꿈이신분들은 한버써보셔도 될것같아요! 사진작가가 꿈이 아니신 분들은 재미로 하셔도 좋을것같아요!!',\n",
       "  'rat': 5,\n",
       "  'data': '2021년 7월 18일'},\n",
       " {'text': '하늘이 예쁜 날 특히 더 필요한 필터~! 사진가님 팬이라 알게 된 어플인데 유료필터 믿고 바로 결제해서 쓰는중인데 넘넘 맘에 들어요 👍☺️',\n",
       "  'rat': 5,\n",
       "  'data': '2019년 8월 28일'},\n",
       " {'text': '다 좋은데 필터 바꿀 때 필터 이름이 화면 중앙에 떠서 거슬리네요... 아래로 바꾸든지 하면 더 좋을 것 같아요',\n",
       "  'rat': 4,\n",
       "  'data': '2019년 5월 11일'},\n",
       " {'text': '진짜 조아여! 필터도 정말 이쁘고 사진 분의기가 훨씬 달라지네여♡ 필터 조금만 더 넣어주시면 만점! 앱이 될것같아요~',\n",
       "  'rat': 5,\n",
       "  'data': '2018년 11월 27일'},\n",
       " {'text': '블로그 보다가 알게되었는데유 !! 🥕 진짜진짜 쪼아요 〰️❣🍍 일단 항상 같은곳만 찍고 그러다보니 지루했는데이앱 하나로 맨날 새로운곳을 보는 기분이에요 !! 진짜 짱 좋아요 ♡♡♡ 추천해요 주변에 입소문 내러가요 !!',\n",
       "  'rat': 5,\n",
       "  'data': '2019년 4월 9일'},\n",
       " {'text': '필터가 많이 없는데 진짜 너무 예뻐요... 색깔이 진짜.. 너무 환상적이라해야하나? 내가 원하는 그런 필터들이 다 있는거 같애.. 암튼 짱 좋아여',\n",
       "  'rat': 5,\n",
       "  'data': '2020년 4월 18일'},\n",
       " {'text': '미세먼지심한요즘 하늘합성 넘좋아요 근데 정확히하늘만따지는건아니고 사물이나사람도물들어요 점점나아지겠죠♡ 색감보정아예없이 하늘만합성할수있으면더좋을거같아요!',\n",
       "  'rat': 5,\n",
       "  'data': '2021년 4월 17일'},\n",
       " {'text': '진짜 최고의 사진 편집, 촬영 앱이네요! 이번에 피크닉앱을 알게되어 설치했는데 감성사진 찍기 너무 좋아요 ㅎㅎ 잘 쓸게요:)😊👍🏻👍🏻💕',\n",
       "  'rat': 5,\n",
       "  'data': '2021년 2월 2일'},\n",
       " {'text': '차이가너무나서 깜짝놀랍습니다😲 더이쁜거같고 풍경사진이 확 달라졌어요♡♡ 이게 이사진이맞나? 싶을정도로 달라요♡ 찐추천! 짱으로 추천합니당♡♡ 만족도100%로!!!',\n",
       "  'rat': 5,\n",
       "  'data': '2021년 5월 9일'},\n",
       " {'text': '너무너무너무너무 마음에들어요! 사진찍기를 좋아하는데 사진의 배경이 마음에 안들때 종종 이 어플을 쓰면 기분도 좋아집니다!!',\n",
       "  'rat': 5,\n",
       "  'data': '2019년 2월 2일'},\n",
       " {'text': '건의사항: 풍경사진 아닌경우, 실내에서 그냥 찍을때, 자꾸 피크닉에 적합한 풍경이 아니라고 뜨면서 진동이 울려서 조금 불편합니다. 그런거는 이미 알고 있는데 자꾸 뜨니까 불편합니다.. 제가 깐 것중 풍경 가장 예뻐요. 그리고 알약이랑 같은 회사여서 더 믿음이 가네요',\n",
       "  'rat': 5,\n",
       "  'data': '2022년 3월 13일'},\n",
       " {'text': \"사진찍을려고 카메라 누르는데 '카메라를 실행할 수 없습니다' 이렇게 떠요 ㅠㅠ 제 폰이 이상한건가요 ? 답글 부탁하용 ㅜ :)\",\n",
       "  'rat': 4,\n",
       "  'data': '2018년 11월 8일'},\n",
       " {'text': '필터가 예뻐요 풍경사진이 폰카로 찍으면 실제보는것 보다 안이쁘게 나올때가 많은데 이 어플 좋네요 ㅋ 다만 광고가 좀 거슬리긴 하지만 그부분은 어쩔수 없죠',\n",
       "  'rat': 5,\n",
       "  'data': '2021년 11월 14일'},\n",
       " {'text': '일부 사진들이 목록에 안뜹니다. 폴더지정을 전체사진으로 놓아도 몇몇 사진들만 뜨질 않아요;;;',\n",
       "  'rat': 1,\n",
       "  'data': '2021년 9월 15일'},\n",
       " {'text': '제가 다른앱을 보다가 우연히 봤는데 찐짜 좋아서 리뷰 함 해봤어요 (아이폰쓰다가 안드로이드에 이앱이 있으면 좋겠다고 생각했는데 있어서 진짜좋아요!! 하늘도 이쁜거 많아서 좋아요❤).',\n",
       "  'rat': 5,\n",
       "  'data': '2019년 8월 22일'},\n",
       " {'text': '아름답고 이쁜 필터들이 많아서 좋은데요 약간 오류가 있나보네요 옷 색깔이 흰옷이나 하늘색 입고 찍으면 옷을 하늘로 인식해서 옷이 별이나 구름으로 변해버려요 ㅋㅋ 이점 고쳐주시면 좋을것같아요 ㅎㅎ',\n",
       "  'rat': 4,\n",
       "  'data': '2019년 2월 9일'},\n",
       " {'text': '너무 좋아요 🌙 이상하게 찍은 망친 풍경사진도 이 앱만 있으면 완벽해요💕 요즘 미세먼지때문에 풍경찍을만한 날이 없었는데 이 앱 덕분에 찍을 수 있습니다🧡',\n",
       "  'rat': 5,\n",
       "  'data': '2019년 3월 16일'},\n",
       " {'text': '필터를 바꿀때 전혀 어색하지않고 넘 이뻐서 맘에들어요!! 부탁한가지만 한다면 필터를 좀더 다양한 필터가있음 좋겠습니다!!!',\n",
       "  'rat': 5,\n",
       "  'data': '2019년 1월 19일'},\n",
       " {'text': '너무너무 조은듯.. 진짜 필터 보정 같은거 할때 진짜 유용해용.. 이런앱을 만들어 주셔서 감사하네요',\n",
       "  'rat': 5,\n",
       "  'data': '2019년 5월 17일'},\n",
       " {'text': '필터가 너무 예뻐요! 다른 앱은 필터가 예쁜게 별로 없어서 아쉬운데, 이 앱은 필터가 다양하고 예쁜게 너무 많아서 일상생활에 많이 쓸것 같아요~!',\n",
       "  'rat': 5,\n",
       "  'data': '2020년 5월 6일'},\n",
       " {'text': '예쁜 사진이어도 하늘이 않 예쁠 때 사용하기 좋은 것 같아요! 너무 너무 좋구여! 광고도 않 나와서 좋아요! 화이팅!',\n",
       "  'rat': 5,\n",
       "  'data': '2021년 9월 4일'}]"
      ]
     },
     "execution_count": 15,
     "metadata": {},
     "output_type": "execute_result"
    }
   ],
   "source": [
    "result"
   ]
  },
  {
   "cell_type": "code",
   "execution_count": 16,
   "id": "bd6fc091",
   "metadata": {},
   "outputs": [],
   "source": [
    "df = pd.DataFrame(result)"
   ]
  },
  {
   "cell_type": "code",
   "execution_count": 17,
   "id": "693323ca",
   "metadata": {},
   "outputs": [
    {
     "data": {
      "text/html": [
       "<div>\n",
       "<style scoped>\n",
       "    .dataframe tbody tr th:only-of-type {\n",
       "        vertical-align: middle;\n",
       "    }\n",
       "\n",
       "    .dataframe tbody tr th {\n",
       "        vertical-align: top;\n",
       "    }\n",
       "\n",
       "    .dataframe thead th {\n",
       "        text-align: right;\n",
       "    }\n",
       "</style>\n",
       "<table border=\"1\" class=\"dataframe\">\n",
       "  <thead>\n",
       "    <tr style=\"text-align: right;\">\n",
       "      <th></th>\n",
       "      <th>text</th>\n",
       "      <th>rat</th>\n",
       "      <th>data</th>\n",
       "    </tr>\n",
       "  </thead>\n",
       "  <tbody>\n",
       "    <tr>\n",
       "      <th>0</th>\n",
       "      <td>사진 화질도 아주좋고 쓸만하네요 하지만 사람들이 더 다양하게 커스텀 할수있는 기능을...</td>\n",
       "      <td>5</td>\n",
       "      <td>2024년 1월 8일</td>\n",
       "    </tr>\n",
       "    <tr>\n",
       "      <th>1</th>\n",
       "      <td>일단 정말 잘 사용하고 있구요!감사합니다! 다만 최근 AI기능 on off가 있어서...</td>\n",
       "      <td>4</td>\n",
       "      <td>2019년 2월 26일</td>\n",
       "    </tr>\n",
       "    <tr>\n",
       "      <th>2</th>\n",
       "      <td>오늘 처음깔고 후기를 남겨봅니다 :) 필터도 다양하고 , 예쁜 필터들이 많습니다 !...</td>\n",
       "      <td>4</td>\n",
       "      <td>2021년 5월 7일</td>\n",
       "    </tr>\n",
       "    <tr>\n",
       "      <th>3</th>\n",
       "      <td>많고 많은 필터어플들이 개성은 별로 없는편인데 피크닉은 독보적인 필터들이 많아서 계...</td>\n",
       "      <td>5</td>\n",
       "      <td>2019년 4월 14일</td>\n",
       "    </tr>\n",
       "    <tr>\n",
       "      <th>4</th>\n",
       "      <td>진짜 이 앱은 남이 알까 무서울 정도로 좋은 앱이네요ㅠㅜㅜ 사진이 세상 예쁘게 되고...</td>\n",
       "      <td>4</td>\n",
       "      <td>2019년 6월 1일</td>\n",
       "    </tr>\n",
       "    <tr>\n",
       "      <th>...</th>\n",
       "      <td>...</td>\n",
       "      <td>...</td>\n",
       "      <td>...</td>\n",
       "    </tr>\n",
       "    <tr>\n",
       "      <th>215</th>\n",
       "      <td>너무 좋아요 🌙 이상하게 찍은 망친 풍경사진도 이 앱만 있으면 완벽해요💕 요즘 미세...</td>\n",
       "      <td>5</td>\n",
       "      <td>2019년 3월 16일</td>\n",
       "    </tr>\n",
       "    <tr>\n",
       "      <th>216</th>\n",
       "      <td>필터를 바꿀때 전혀 어색하지않고 넘 이뻐서 맘에들어요!! 부탁한가지만 한다면 필터를...</td>\n",
       "      <td>5</td>\n",
       "      <td>2019년 1월 19일</td>\n",
       "    </tr>\n",
       "    <tr>\n",
       "      <th>217</th>\n",
       "      <td>너무너무 조은듯.. 진짜 필터 보정 같은거 할때 진짜 유용해용.. 이런앱을 만들어 ...</td>\n",
       "      <td>5</td>\n",
       "      <td>2019년 5월 17일</td>\n",
       "    </tr>\n",
       "    <tr>\n",
       "      <th>218</th>\n",
       "      <td>필터가 너무 예뻐요! 다른 앱은 필터가 예쁜게 별로 없어서 아쉬운데, 이 앱은 필터...</td>\n",
       "      <td>5</td>\n",
       "      <td>2020년 5월 6일</td>\n",
       "    </tr>\n",
       "    <tr>\n",
       "      <th>219</th>\n",
       "      <td>예쁜 사진이어도 하늘이 않 예쁠 때 사용하기 좋은 것 같아요! 너무 너무 좋구여! ...</td>\n",
       "      <td>5</td>\n",
       "      <td>2021년 9월 4일</td>\n",
       "    </tr>\n",
       "  </tbody>\n",
       "</table>\n",
       "<p>220 rows × 3 columns</p>\n",
       "</div>"
      ],
      "text/plain": [
       "                                                  text  rat          data\n",
       "0    사진 화질도 아주좋고 쓸만하네요 하지만 사람들이 더 다양하게 커스텀 할수있는 기능을...    5   2024년 1월 8일\n",
       "1    일단 정말 잘 사용하고 있구요!감사합니다! 다만 최근 AI기능 on off가 있어서...    4  2019년 2월 26일\n",
       "2    오늘 처음깔고 후기를 남겨봅니다 :) 필터도 다양하고 , 예쁜 필터들이 많습니다 !...    4   2021년 5월 7일\n",
       "3    많고 많은 필터어플들이 개성은 별로 없는편인데 피크닉은 독보적인 필터들이 많아서 계...    5  2019년 4월 14일\n",
       "4    진짜 이 앱은 남이 알까 무서울 정도로 좋은 앱이네요ㅠㅜㅜ 사진이 세상 예쁘게 되고...    4   2019년 6월 1일\n",
       "..                                                 ...  ...           ...\n",
       "215  너무 좋아요 🌙 이상하게 찍은 망친 풍경사진도 이 앱만 있으면 완벽해요💕 요즘 미세...    5  2019년 3월 16일\n",
       "216  필터를 바꿀때 전혀 어색하지않고 넘 이뻐서 맘에들어요!! 부탁한가지만 한다면 필터를...    5  2019년 1월 19일\n",
       "217  너무너무 조은듯.. 진짜 필터 보정 같은거 할때 진짜 유용해용.. 이런앱을 만들어 ...    5  2019년 5월 17일\n",
       "218  필터가 너무 예뻐요! 다른 앱은 필터가 예쁜게 별로 없어서 아쉬운데, 이 앱은 필터...    5   2020년 5월 6일\n",
       "219  예쁜 사진이어도 하늘이 않 예쁠 때 사용하기 좋은 것 같아요! 너무 너무 좋구여! ...    5   2021년 9월 4일\n",
       "\n",
       "[220 rows x 3 columns]"
      ]
     },
     "execution_count": 17,
     "metadata": {},
     "output_type": "execute_result"
    }
   ],
   "source": [
    "df"
   ]
  },
  {
   "cell_type": "markdown",
   "id": "30d032e1",
   "metadata": {},
   "source": [
    "## 대한민국 지역 여행기사 수집"
   ]
  },
  {
   "cell_type": "code",
   "execution_count": 18,
   "id": "05431811",
   "metadata": {},
   "outputs": [],
   "source": [
    "from selenium import webdriver\n",
    "from selenium.webdriver.common.by import By\n",
    "from selenium.webdriver.chrome.options import Options\n",
    "import math, time\n",
    "\n",
    "options = Options()\n",
    "options.add_argument('--window-size=974,1047')\n",
    "options.add_argument('--window-position=953,0')\n",
    "options.add_experimental_option(\"detach\", True)"
   ]
  },
  {
   "cell_type": "code",
   "execution_count": 19,
   "id": "eb0f5c89",
   "metadata": {},
   "outputs": [
    {
     "name": "stdout",
     "output_type": "stream",
     "text": [
      "검색어를 입력하세요.제주도\n"
     ]
    }
   ],
   "source": [
    "search = input('검색어를 입력하세요.')"
   ]
  },
  {
   "cell_type": "code",
   "execution_count": 20,
   "id": "545748ec",
   "metadata": {},
   "outputs": [],
   "source": [
    "URL = 'https://korean.visitkorea.or.kr/search/search_list.do?keyword='+search"
   ]
  },
  {
   "cell_type": "code",
   "execution_count": 21,
   "id": "2d77e9db",
   "metadata": {},
   "outputs": [],
   "source": [
    "driver = webdriver.Chrome(options=options)\n",
    "driver.get(URL)\n",
    "time.sleep(2)"
   ]
  },
  {
   "cell_type": "code",
   "execution_count": 26,
   "id": "2a69471e",
   "metadata": {},
   "outputs": [],
   "source": [
    "driver.find_element(By.CSS_SELECTOR, '#s_recommend > div.more_view > a').click()"
   ]
  },
  {
   "cell_type": "code",
   "execution_count": null,
   "id": "9d58633f",
   "metadata": {},
   "outputs": [],
   "source": [
    "#s_attraction > div.more_view > a"
   ]
  },
  {
   "cell_type": "code",
   "execution_count": 27,
   "id": "0fcdbee0",
   "metadata": {},
   "outputs": [
    {
     "data": {
      "text/plain": [
       "''"
      ]
     },
     "execution_count": 27,
     "metadata": {},
     "output_type": "execute_result"
    }
   ],
   "source": [
    "result = driver.find_elements(By.CSS_SELECTOR, '.tit > a')\n",
    "\n",
    "result[0].text\n",
    "    "
   ]
  },
  {
   "cell_type": "code",
   "execution_count": 28,
   "id": "daf73010",
   "metadata": {},
   "outputs": [
    {
     "name": "stdout",
     "output_type": "stream",
     "text": [
      "\n",
      "\n",
      "\n",
      "\n",
      "\n",
      "\n",
      "\n",
      "\n",
      "\n",
      "\n",
      "\n",
      "\n",
      "\n",
      "\n",
      "\n",
      "\n",
      "\n",
      "\n",
      "\n",
      "\n",
      "\n",
      "\n",
      "\n",
      "\n",
      "제주도의 숨겨진 재미를 찾는\n",
      "<놀멍, 배우멍 제주마을체험 - 1일형 체험학습>\n",
      "제주도가 품은 신비의 화산 숲, 환상숲곶자왈공원\n",
      "한국관광공사 추천 2월 걷기여행길, 이른 봄을 맞이하는 제주도 걷기길\n",
      "제주도 조천읍 버킷리스트 여행지 작성하기\n",
      "[국내 트레킹 추천]\n",
      "제주 올레길 걷기 여행,\n",
      "준비부터 코스 선택까지 꿀팁 총정리!\n",
      "김창열의 회귀 철학을 건축으로 표현한 미술관, 제주도립김창열미술관\n",
      "제주도 유채꽃 명소 추천, 봄에 떠나는 인생샷 여행\n",
      "새하얀 눈으로 덮인 제주도 설경 명소 4\n",
      "소소한 '제주여행' 꿀팁! 〈겨울편〉\n",
      "사계절 자연의 아름다움을 간직한 제주시 댕댕이 추천코스\n"
     ]
    }
   ],
   "source": [
    "result = driver.find_elements(By.CSS_SELECTOR, '.tit > a')\n",
    "for i in range(len(result)):\n",
    "    print(result[i].text)"
   ]
  },
  {
   "cell_type": "code",
   "execution_count": null,
   "id": "d6c6239a",
   "metadata": {},
   "outputs": [],
   "source": [
    "//*[@id=\"search_result\"]/ul/li[1]/div[1]/div[1]/a"
   ]
  },
  {
   "cell_type": "code",
   "execution_count": 29,
   "id": "504ca16d",
   "metadata": {},
   "outputs": [],
   "source": [
    "result = driver.find_elements(By.XPATH, '//*[@id=\"search_result\"]/ul/li[1]/div[1]/div[1]/a')"
   ]
  },
  {
   "cell_type": "code",
   "execution_count": 30,
   "id": "22245eeb",
   "metadata": {},
   "outputs": [
    {
     "data": {
      "text/plain": [
       "'제주도의 숨겨진 재미를 찾는\\n<놀멍, 배우멍 제주마을체험 - 1일형 체험학습>'"
      ]
     },
     "execution_count": 30,
     "metadata": {},
     "output_type": "execute_result"
    }
   ],
   "source": [
    "result[0].text"
   ]
  },
  {
   "cell_type": "code",
   "execution_count": null,
   "id": "514a40d1",
   "metadata": {},
   "outputs": [],
   "source": [
    "//*[@id=\"search_result\"]/ul/li[2]/div[1]/div[1]/a"
   ]
  },
  {
   "cell_type": "code",
   "execution_count": 31,
   "id": "5a687fb8",
   "metadata": {},
   "outputs": [],
   "source": [
    "tit_xpath = '//*[@id=\"search_result\"]/ul/li[*]/div[1]/div[1]/a'\n",
    "result = driver.find_elements(By.XPATH, tit_xpath)"
   ]
  },
  {
   "cell_type": "code",
   "execution_count": 32,
   "id": "04d91e6d",
   "metadata": {},
   "outputs": [
    {
     "data": {
      "text/plain": [
       "10"
      ]
     },
     "execution_count": 32,
     "metadata": {},
     "output_type": "execute_result"
    }
   ],
   "source": [
    "len(result)"
   ]
  },
  {
   "cell_type": "code",
   "execution_count": 33,
   "id": "b963a094",
   "metadata": {},
   "outputs": [
    {
     "data": {
      "text/plain": [
       "[<selenium.webdriver.remote.webelement.WebElement (session=\"08d090489f5d247b5a06667b96b90cab\", element=\"f.C00E473A1A167E5235177AFE51C35C06.d.A526E2D58BFA7D31E142C19BB49BC0B5.e.12569\")>,\n",
       " <selenium.webdriver.remote.webelement.WebElement (session=\"08d090489f5d247b5a06667b96b90cab\", element=\"f.C00E473A1A167E5235177AFE51C35C06.d.A526E2D58BFA7D31E142C19BB49BC0B5.e.12601\")>,\n",
       " <selenium.webdriver.remote.webelement.WebElement (session=\"08d090489f5d247b5a06667b96b90cab\", element=\"f.C00E473A1A167E5235177AFE51C35C06.d.A526E2D58BFA7D31E142C19BB49BC0B5.e.12636\")>,\n",
       " <selenium.webdriver.remote.webelement.WebElement (session=\"08d090489f5d247b5a06667b96b90cab\", element=\"f.C00E473A1A167E5235177AFE51C35C06.d.A526E2D58BFA7D31E142C19BB49BC0B5.e.12677\")>,\n",
       " <selenium.webdriver.remote.webelement.WebElement (session=\"08d090489f5d247b5a06667b96b90cab\", element=\"f.C00E473A1A167E5235177AFE51C35C06.d.A526E2D58BFA7D31E142C19BB49BC0B5.e.12721\")>,\n",
       " <selenium.webdriver.remote.webelement.WebElement (session=\"08d090489f5d247b5a06667b96b90cab\", element=\"f.C00E473A1A167E5235177AFE51C35C06.d.A526E2D58BFA7D31E142C19BB49BC0B5.e.12765\")>,\n",
       " <selenium.webdriver.remote.webelement.WebElement (session=\"08d090489f5d247b5a06667b96b90cab\", element=\"f.C00E473A1A167E5235177AFE51C35C06.d.A526E2D58BFA7D31E142C19BB49BC0B5.e.12815\")>,\n",
       " <selenium.webdriver.remote.webelement.WebElement (session=\"08d090489f5d247b5a06667b96b90cab\", element=\"f.C00E473A1A167E5235177AFE51C35C06.d.A526E2D58BFA7D31E142C19BB49BC0B5.e.12874\")>,\n",
       " <selenium.webdriver.remote.webelement.WebElement (session=\"08d090489f5d247b5a06667b96b90cab\", element=\"f.C00E473A1A167E5235177AFE51C35C06.d.A526E2D58BFA7D31E142C19BB49BC0B5.e.12925\")>,\n",
       " <selenium.webdriver.remote.webelement.WebElement (session=\"08d090489f5d247b5a06667b96b90cab\", element=\"f.C00E473A1A167E5235177AFE51C35C06.d.A526E2D58BFA7D31E142C19BB49BC0B5.e.12974\")>]"
      ]
     },
     "execution_count": 33,
     "metadata": {},
     "output_type": "execute_result"
    }
   ],
   "source": [
    "result"
   ]
  },
  {
   "cell_type": "code",
   "execution_count": 34,
   "id": "42f7dea7",
   "metadata": {},
   "outputs": [
    {
     "data": {
      "text/plain": [
       "'제주도의 숨겨진 재미를 찾는\\n<놀멍, 배우멍 제주마을체험 - 1일형 체험학습>'"
      ]
     },
     "execution_count": 34,
     "metadata": {},
     "output_type": "execute_result"
    }
   ],
   "source": [
    "result[0].text"
   ]
  },
  {
   "cell_type": "code",
   "execution_count": 36,
   "id": "e6556c5a",
   "metadata": {},
   "outputs": [
    {
     "name": "stdout",
     "output_type": "stream",
     "text": [
      "1 제주도의 숨겨진 재미를 찾는\n",
      "<놀멍, 배우멍 제주마을체험 - 1일형 체험학습>\n",
      "2 제주도가 품은 신비의 화산 숲, 환상숲곶자왈공원\n",
      "3 한국관광공사 추천 2월 걷기여행길, 이른 봄을 맞이하는 제주도 걷기길\n",
      "4 제주도 조천읍 버킷리스트 여행지 작성하기\n",
      "5 [국내 트레킹 추천]\n",
      "제주 올레길 걷기 여행,\n",
      "준비부터 코스 선택까지 꿀팁 총정리!\n",
      "6 김창열의 회귀 철학을 건축으로 표현한 미술관, 제주도립김창열미술관\n",
      "7 제주도 유채꽃 명소 추천, 봄에 떠나는 인생샷 여행\n",
      "8 새하얀 눈으로 덮인 제주도 설경 명소 4\n",
      "9 소소한 '제주여행' 꿀팁! 〈겨울편〉\n",
      "10 사계절 자연의 아름다움을 간직한 제주시 댕댕이 추천코스\n"
     ]
    }
   ],
   "source": [
    "for i, title in enumerate(result, 1):\n",
    "    print(i, title.text)"
   ]
  },
  {
   "cell_type": "markdown",
   "id": "637ea3ef",
   "metadata": {},
   "source": [
    "## 페이지 이동"
   ]
  },
  {
   "cell_type": "code",
   "execution_count": 37,
   "id": "b21a05bc",
   "metadata": {},
   "outputs": [
    {
     "name": "stdout",
     "output_type": "stream",
     "text": [
      "크롤링 할 건수는 몇건입니까?: 15\n"
     ]
    }
   ],
   "source": [
    "cnt = int(input('크롤링 할 건수는 몇건입니까?: '))"
   ]
  },
  {
   "cell_type": "code",
   "execution_count": 38,
   "id": "ac8410de",
   "metadata": {},
   "outputs": [
    {
     "name": "stdout",
     "output_type": "stream",
     "text": [
      "2\n"
     ]
    }
   ],
   "source": [
    "page_cnt = math.ceil(cnt/10)\n",
    "print(page_cnt)"
   ]
  },
  {
   "cell_type": "code",
   "execution_count": 40,
   "id": "d4131ab5",
   "metadata": {},
   "outputs": [],
   "source": [
    "#//*[@id=\"search_result\"]/ul/li[1]/div[1]/div[1]/a\n",
    "#//*[@id=\"search_result\"]/ul/li[2]/div[1]/div[1]/a"
   ]
  },
  {
   "cell_type": "code",
   "execution_count": 44,
   "id": "9f4d4b31",
   "metadata": {},
   "outputs": [
    {
     "name": "stdout",
     "output_type": "stream",
     "text": [
      "========= 1 페이지 작업 =========\n",
      "1 제주도의 숨겨진 재미를 찾는\n",
      "<놀멍, 배우멍 제주마을체험 - 1일형 체험학습>\n",
      "2 제주도가 품은 신비의 화산 숲, 환상숲곶자왈공원\n",
      "3 한국관광공사 추천 2월 걷기여행길, 이른 봄을 맞이하는 제주도 걷기길\n",
      "4 제주도 조천읍 버킷리스트 여행지 작성하기\n",
      "5 [국내 트레킹 추천]\n",
      "제주 올레길 걷기 여행,\n",
      "준비부터 코스 선택까지 꿀팁 총정리!\n",
      "6 김창열의 회귀 철학을 건축으로 표현한 미술관, 제주도립김창열미술관\n",
      "7 제주도 유채꽃 명소 추천, 봄에 떠나는 인생샷 여행\n",
      "8 새하얀 눈으로 덮인 제주도 설경 명소 4\n",
      "9 소소한 '제주여행' 꿀팁! 〈겨울편〉\n",
      "10 사계절 자연의 아름다움을 간직한 제주시 댕댕이 추천코스\n",
      "========= 2 페이지 작업 =========\n",
      "11 제주도 '한정'여행지,\n",
      "제주도의 이색 공간을 찾아서\n",
      "12 연말연시 제주도 여행 추천 코스,\n",
      "가족여행 가볼 만한 곳\n",
      "13 제주의 아크로폴리스를 아시나요? - 제주 원도심 (제주목관아 중심)\n",
      "14 제주 여행, 은빛 물결이 일렁이는 제주도 억새 명소 모음\n",
      "15 마음까지 화사해지는\n",
      "제주도 봄꽃 여행\n",
      "========= 작업 완료 =========\n"
     ]
    }
   ],
   "source": [
    "tit_xpath = '//*[@id=\"search_result\"]/ul/li[*]/div[1]/div[1]/a'\n",
    "no = 0\n",
    "\n",
    "for x in range(1, page_cnt+1):\n",
    "    print(f'========= {x} 페이지 작업 =========')\n",
    "    mylist = driver.find_elements(By.XPATH, tit_xpath)\n",
    "    \n",
    "    for item in mylist:\n",
    "        no += 1\n",
    "        if no > cnt:\n",
    "            break\n",
    "        print(no, item.text)\n",
    "    \n",
    "    if no <= cnt:\n",
    "        a = f'/html/body/div[3]/div/div[1]/div[14]/a[{x+1}]'\n",
    "        driver.find_element(By.XPATH, a).click()\n",
    "        time.sleep(2)\n",
    "\n",
    "print('========= 작업 완료 =========') "
   ]
  },
  {
   "cell_type": "code",
   "execution_count": 45,
   "id": "b88465b8",
   "metadata": {},
   "outputs": [
    {
     "name": "stdout",
     "output_type": "stream",
     "text": [
      "========= 1 페이지 작업 =========\n",
      "1 제주도 '한정'여행지,\n",
      "제주도의 이색 공간을 찾아서\n",
      "2 연말연시 제주도 여행 추천 코스,\n",
      "가족여행 가볼 만한 곳\n",
      "3 제주의 아크로폴리스를 아시나요? - 제주 원도심 (제주목관아 중심)\n",
      "4 제주 여행, 은빛 물결이 일렁이는 제주도 억새 명소 모음\n",
      "5 마음까지 화사해지는\n",
      "제주도 봄꽃 여행\n",
      "6 제주도 서쪽에서 즐기는 꽉 찬 여행 코스\n",
      "7 제주의 숨겨진 구석구석을 살펴보자, 제주도 박물관 여행\n",
      "8 2월 놓치지 말아야 할 제주 관광 10선\n",
      "<2월 제주, 먼저 온 봄기운에 마음 돌랑돌랑>\n",
      "9 맛있는 음식에 여행의 기쁨은 두 배! <제주 식도락 여행>\n",
      "10 반려견과 떠나는 여행 <제주 반려견 숙소&카페>\n",
      "========= 2 페이지 작업 =========\n",
      "11 제주도 '한정'여행지,\n",
      "제주도의 이색 공간을 찾아서\n",
      "12 연말연시 제주도 여행 추천 코스,\n",
      "가족여행 가볼 만한 곳\n",
      "13 제주의 아크로폴리스를 아시나요? - 제주 원도심 (제주목관아 중심)\n",
      "14 제주 여행, 은빛 물결이 일렁이는 제주도 억새 명소 모음\n",
      "15 마음까지 화사해지는\n",
      "제주도 봄꽃 여행\n",
      "========= 작업 완료 =========\n"
     ]
    }
   ],
   "source": [
    "tit_xpath = '//*[@id=\"search_result\"]/ul/li[*]/div[1]/div[1]/a'\n",
    "no = 0\n",
    "\n",
    "for x in range(1, page_cnt+1):\n",
    "    print(f'========= {x} 페이지 작업 =========')\n",
    "    mylist = driver.find_elements(By.XPATH, tit_xpath)\n",
    "    \n",
    "    for item in mylist:\n",
    "        no += 1\n",
    "        if no > cnt:\n",
    "            break\n",
    "        print(no, item.text)\n",
    "    \n",
    "    if no <= cnt:\n",
    "        next_button = driver.find_element(By.CSS_SELECTOR, f\"a[id='{x+1}']\")\n",
    "        driver.execute_script(\"arguments[0].click();\", next_button)\n",
    "        time.sleep(2)\n",
    "        \n",
    "print('========= 작업 완료 =========')"
   ]
  },
  {
   "cell_type": "code",
   "execution_count": null,
   "id": "fefa7775",
   "metadata": {},
   "outputs": [],
   "source": []
  }
 ],
 "metadata": {
  "kernelspec": {
   "display_name": "Python 3 (ipykernel)",
   "language": "python",
   "name": "python3"
  },
  "language_info": {
   "codemirror_mode": {
    "name": "ipython",
    "version": 3
   },
   "file_extension": ".py",
   "mimetype": "text/x-python",
   "name": "python",
   "nbconvert_exporter": "python",
   "pygments_lexer": "ipython3",
   "version": "3.11.5"
  }
 },
 "nbformat": 4,
 "nbformat_minor": 5
}
