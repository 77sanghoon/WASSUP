{
 "cells": [
  {
   "cell_type": "markdown",
   "id": "6b0b9428",
   "metadata": {},
   "source": [
    "## 291 파일 쓰기\n",
    "바탕화면에 '매수종목1.txt' 파일을 생성한 후 다음과 같이 종목코드를 파일에 써보세요.\n",
    "\n",
    "005930\n",
    "005380\n",
    "035420"
   ]
  },
  {
   "cell_type": "code",
   "execution_count": 10,
   "id": "1ec1642a",
   "metadata": {},
   "outputs": [],
   "source": [
    "f=open('C:\\\\Users\\\\7sang\\\\OneDrive\\\\바탕 화면\\\\매수종목1.txt', 'w')"
   ]
  },
  {
   "cell_type": "code",
   "execution_count": 11,
   "id": "55911d62",
   "metadata": {},
   "outputs": [
    {
     "data": {
      "text/plain": [
       "6"
      ]
     },
     "execution_count": 11,
     "metadata": {},
     "output_type": "execute_result"
    }
   ],
   "source": [
    "f.write(\"005930\\n\")\n",
    "f.write(\"005380\\n\")\n",
    "f.write(\"035420\")"
   ]
  },
  {
   "cell_type": "code",
   "execution_count": 12,
   "id": "ad01ee9b",
   "metadata": {},
   "outputs": [],
   "source": [
    "f.close()"
   ]
  },
  {
   "cell_type": "markdown",
   "id": "0d264b56",
   "metadata": {},
   "source": [
    "## 292 파일 쓰기\n",
    "바탕화면에 '매수종목2.txt' 파일을 생성한 후 다음과 같이 종목코드와 종목명을 파일에 써보세요.\n",
    "\n",
    "005930 삼성전자  \n",
    "005380 현대차  \n",
    "035420 NAVER"
   ]
  },
  {
   "cell_type": "code",
   "execution_count": 15,
   "id": "1dc837f7",
   "metadata": {},
   "outputs": [
    {
     "data": {
      "text/plain": [
       "12"
      ]
     },
     "execution_count": 15,
     "metadata": {},
     "output_type": "execute_result"
    }
   ],
   "source": [
    "f=open('C:\\\\Users\\\\7sang\\\\OneDrive\\\\바탕 화면\\\\매수종목2.txt', 'w')\n",
    "\n",
    "f.write(\"005930 삼성전자\\n\")\n",
    "f.write(\"005380 현대차\\n\")\n",
    "f.write(\"035420 NAVER\")"
   ]
  },
  {
   "cell_type": "code",
   "execution_count": 16,
   "id": "0a0638e5",
   "metadata": {},
   "outputs": [],
   "source": [
    "f.close()"
   ]
  },
  {
   "cell_type": "markdown",
   "id": "7ee4808c",
   "metadata": {},
   "source": [
    "## 293 CSV 파일 쓰기\n",
    "바탕화면에 '매수종목.csv' 파일을 생성한 후 다음과 같이 종목코드와 종목명을 파일에 써보세요. 인코딩은 'cp949'를 사용해야합니다."
   ]
  },
  {
   "cell_type": "code",
   "execution_count": 23,
   "id": "bd2c423c",
   "metadata": {},
   "outputs": [],
   "source": [
    "import csv\n",
    "f=open('C:\\\\Users\\\\7sang\\\\OneDrive\\\\바탕 화면\\\\매수종목.csv', 'w', encoding='cp949', newline='')"
   ]
  },
  {
   "cell_type": "code",
   "execution_count": 24,
   "id": "7dd5348f",
   "metadata": {},
   "outputs": [],
   "source": [
    "writer = csv.writer(f)\n",
    "writer.writerow([\"종목명\", \"종목코드\", \"PER\"])\n",
    "writer.writerow([\"삼성전자\", \"005930\", 15.59])\n",
    "writer.writerow([\"NAVER\", \"035420\", 55.82])\n",
    "f.close()"
   ]
  },
  {
   "cell_type": "markdown",
   "id": "81d006b0",
   "metadata": {},
   "source": [
    "## 294 파일 읽기\n",
    "바탕화면에 생성한 '매수종목1.txt' 파일을 읽은 후 종목코드를 리스트에 저장해보세요.\n",
    "\n",
    "005930  \n",
    "005380  \n",
    "035420  "
   ]
  },
  {
   "cell_type": "code",
   "execution_count": 25,
   "id": "99090a6a",
   "metadata": {},
   "outputs": [],
   "source": [
    "f=open('C:\\\\Users\\\\7sang\\\\OneDrive\\\\바탕 화면\\\\매수종목1.txt', 'r')"
   ]
  },
  {
   "cell_type": "code",
   "execution_count": 27,
   "id": "3b2ed23d",
   "metadata": {},
   "outputs": [],
   "source": [
    "list=[]\n",
    "list.append(f.read())"
   ]
  },
  {
   "cell_type": "code",
   "execution_count": 28,
   "id": "f9a2b107",
   "metadata": {},
   "outputs": [
    {
     "name": "stdout",
     "output_type": "stream",
     "text": [
      "['005930\\n005380\\n035420']\n"
     ]
    }
   ],
   "source": [
    "print(list)"
   ]
  },
  {
   "cell_type": "code",
   "execution_count": 32,
   "id": "94684cdd",
   "metadata": {},
   "outputs": [
    {
     "name": "stdout",
     "output_type": "stream",
     "text": [
      "['005930', '005380', '035420']\n"
     ]
    }
   ],
   "source": [
    "f=open('C:\\\\Users\\\\7sang\\\\OneDrive\\\\바탕 화면\\\\매수종목1.txt', 'r')\n",
    "lines = f.readlines()\n",
    "\n",
    "codes=[]\n",
    "for line in lines:\n",
    "    code=line.strip()\n",
    "    codes.append(code)\n",
    "print(codes)"
   ]
  },
  {
   "cell_type": "code",
   "execution_count": 33,
   "id": "633f3bb3",
   "metadata": {},
   "outputs": [],
   "source": [
    "f.close()"
   ]
  },
  {
   "cell_type": "markdown",
   "id": "b38d0dc8",
   "metadata": {},
   "source": [
    "## 295 파일 읽기\n",
    "바탕화면에 생성한 '매수종목2.txt' 파일을 읽은 후 종목코드와 종목명을 딕셔너리로 저장해보세요. 종목명을 key로 종목명을 value로 저장합니다.\n",
    "\n",
    "005930 삼성전자  \n",
    "005380 현대차  \n",
    "035420 NAVER"
   ]
  },
  {
   "cell_type": "code",
   "execution_count": 36,
   "id": "5964517d",
   "metadata": {},
   "outputs": [
    {
     "name": "stdout",
     "output_type": "stream",
     "text": [
      "{'005930': '삼성전자', '005380': '현대차', '035420': 'NAVER'}\n"
     ]
    }
   ],
   "source": [
    "f=open('C:\\\\Users\\\\7sang\\\\OneDrive\\\\바탕 화면\\\\매수종목2.txt', 'r')\n",
    "lines = f.readlines()\n",
    "\n",
    "codes={}\n",
    "for line in lines:\n",
    "    line = line.strip()\n",
    "    k, v = line.split()\n",
    "    codes[k]=v\n",
    "print(codes)\n",
    "\n",
    "f.close()"
   ]
  },
  {
   "cell_type": "markdown",
   "id": "9b05900d",
   "metadata": {},
   "source": [
    "## 296 예외처리\n",
    "문자열 PER (Price to Earning Ratio) 값을 실수로 변환할 때 에러가 발생합니다. 예외처리를 통해 에러가 발생하는 PER은 0으로 출력하세요.\n",
    "\n",
    "per = [\"10.31\", \"\", \"8.00\"]\n",
    "\n",
    "for i in per:  \n",
    "    print(float(i))"
   ]
  },
  {
   "cell_type": "code",
   "execution_count": 37,
   "id": "65dd9729",
   "metadata": {},
   "outputs": [],
   "source": [
    "per = [\"10.31\", \"\", \"8.00\"]"
   ]
  },
  {
   "cell_type": "code",
   "execution_count": 41,
   "id": "4fe163df",
   "metadata": {},
   "outputs": [
    {
     "name": "stdout",
     "output_type": "stream",
     "text": [
      "10.31\n",
      "0\n",
      "8.0\n"
     ]
    }
   ],
   "source": [
    "for i in per:\n",
    "    try:\n",
    "        print(float(i))\n",
    "    except:\n",
    "        print(0)"
   ]
  },
  {
   "cell_type": "markdown",
   "id": "0a387099",
   "metadata": {},
   "source": [
    "## 297 예외처리 및 리스트에 저장\n",
    "문자열로 표현된 PER 값을 실수로 변환한 후 이를 새로운 리스트에 저장해보세요.\n",
    "\n",
    "per = [\"10.31\", \"\", \"8.00\"]\n",
    "\n",
    "for i in per:  \n",
    "    print(float(per))"
   ]
  },
  {
   "cell_type": "code",
   "execution_count": 42,
   "id": "052cf3a3",
   "metadata": {},
   "outputs": [
    {
     "name": "stdout",
     "output_type": "stream",
     "text": [
      "[10.31, 0.0, 8.0]\n"
     ]
    }
   ],
   "source": [
    "data=[]\n",
    "\n",
    "for i in per:\n",
    "    try:\n",
    "        data.append(float(i))\n",
    "    except:\n",
    "        data.append(float(0))\n",
    "        \n",
    "print(data)"
   ]
  },
  {
   "cell_type": "code",
   "execution_count": 43,
   "id": "2dfad5f5",
   "metadata": {},
   "outputs": [
    {
     "name": "stdout",
     "output_type": "stream",
     "text": [
      "[10.31, 0, 8.0]\n"
     ]
    }
   ],
   "source": [
    "per = [\"10.31\", \"\", \"8.00\"]\n",
    "new_per = []\n",
    "\n",
    "for i in per:\n",
    "    try:\n",
    "        v = float(i)\n",
    "    except:\n",
    "        v = 0\n",
    "    new_per.append(v)\n",
    "\n",
    "print(new_per)"
   ]
  },
  {
   "cell_type": "markdown",
   "id": "8ba63c34",
   "metadata": {},
   "source": [
    "## 298 특정 예외만 처리하기\n",
    "어떤 값을 0으로 나누면 ZeroDivisionError 에러가 발생합니다. try ~ except로 모든 에러에 대해 예외처리하지 말고 ZeroDivisionError 에러만 예외처리해보세요."
   ]
  },
  {
   "cell_type": "code",
   "execution_count": 45,
   "id": "177d762c",
   "metadata": {},
   "outputs": [
    {
     "name": "stdout",
     "output_type": "stream",
     "text": [
      "0으로 나눌 수 없습니다\n"
     ]
    }
   ],
   "source": [
    "a=4\n",
    "b=0\n",
    "\n",
    "try:\n",
    "    print(a/b)\n",
    "except ZeroDivisionError:\n",
    "    print('0으로 나눌 수 없습니다')"
   ]
  },
  {
   "cell_type": "markdown",
   "id": "f218f740",
   "metadata": {},
   "source": [
    "## 299 예외의 메시지 출력하기\n",
    "다음과 같은 코드 구조를 사용하면 예외 발생 시 에러 메시지를 변수로 바인딩할 수 있습니다.\n",
    "\n",
    "try:  \n",
    "    실행코드  \n",
    "except 예외 as 변수:  \n",
    "    예외처리코드 \n",
    "    \n",
    "리스트의 인덱싱에 대해 에러를 출력해보세요.\n",
    "\n",
    "data = [1, 2, 3]\n",
    "\n",
    "for i in range(5)  \n",
    "    print(data[i])"
   ]
  },
  {
   "cell_type": "code",
   "execution_count": 46,
   "id": "6ea31b7c",
   "metadata": {},
   "outputs": [],
   "source": [
    "data = [1, 2, 3]"
   ]
  },
  {
   "cell_type": "code",
   "execution_count": 49,
   "id": "d41c1799",
   "metadata": {},
   "outputs": [
    {
     "name": "stdout",
     "output_type": "stream",
     "text": [
      "1\n",
      "2\n",
      "3\n",
      "list index out of range\n",
      "list index out of range\n"
     ]
    }
   ],
   "source": [
    "for i in range(5):\n",
    "    try:\n",
    "        print(data[i])\n",
    "    except IndexError as e:\n",
    "        print(e)"
   ]
  },
  {
   "cell_type": "markdown",
   "id": "e4eaf389",
   "metadata": {},
   "source": [
    "## 300 try, except, else, finally 구조 사용해보기\n",
    "파이썬 예외처리는 다음과 같은 구조를 가질 수 있습니다.\n",
    "\n",
    "try:  \n",
    "    실행 코드  \n",
    "except:  \n",
    "    예외가 발생했을 때 수행할 코드  \n",
    "else:  \n",
    "    예외가 발생하지 않았을 때 수행할 코드  \n",
    "finally:  \n",
    "    예외 발생 여부와 상관없이 항상 수행할 코드\n",
    "    \n",
    "아래의 코드에 대해서 예외처리를 사용하고 try, except, else, finally에 적당한 코드를 작성해봅시다. else와 finally는 적당한 문구를 print하시면 됩니다.\n",
    "\n",
    "per = [\"10.31\", \"\", \"8.00\"]\n",
    "\n",
    "for i in per:  \n",
    "    print(float(per))"
   ]
  },
  {
   "cell_type": "code",
   "execution_count": 52,
   "id": "d36d773e",
   "metadata": {},
   "outputs": [],
   "source": [
    "per = [\"10.31\", \"\", \"8.00\"]"
   ]
  },
  {
   "cell_type": "code",
   "execution_count": 54,
   "id": "cd025f9b",
   "metadata": {},
   "outputs": [
    {
     "name": "stdout",
     "output_type": "stream",
     "text": [
      "10.31\n",
      "else\n",
      "finally\n",
      "0\n",
      "finally\n",
      "8.0\n",
      "else\n",
      "finally\n"
     ]
    }
   ],
   "source": [
    "for i in per:\n",
    "    try:\n",
    "        print(float(i))\n",
    "    except:\n",
    "        print(0)\n",
    "    else: \n",
    "        print('else')\n",
    "    finally:\n",
    "        print('finally')"
   ]
  },
  {
   "cell_type": "code",
   "execution_count": null,
   "id": "0a4464a2",
   "metadata": {},
   "outputs": [],
   "source": []
  }
 ],
 "metadata": {
  "kernelspec": {
   "display_name": "Python 3 (ipykernel)",
   "language": "python",
   "name": "python3"
  },
  "language_info": {
   "codemirror_mode": {
    "name": "ipython",
    "version": 3
   },
   "file_extension": ".py",
   "mimetype": "text/x-python",
   "name": "python",
   "nbconvert_exporter": "python",
   "pygments_lexer": "ipython3",
   "version": "3.11.5"
  }
 },
 "nbformat": 4,
 "nbformat_minor": 5
}
