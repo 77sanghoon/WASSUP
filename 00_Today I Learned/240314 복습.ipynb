{
 "cells": [
  {
   "cell_type": "markdown",
   "id": "59381c3a",
   "metadata": {},
   "source": [
    "## Selenium 사용하기"
   ]
  },
  {
   "cell_type": "code",
   "execution_count": 1,
   "id": "07c5f3a2",
   "metadata": {},
   "outputs": [
    {
     "name": "stdout",
     "output_type": "stream",
     "text": [
      "Requirement already satisfied: selenium in c:\\users\\7sang\\anaconda3\\lib\\site-packages (4.18.1)\n",
      "Requirement already satisfied: urllib3[socks]<3,>=1.26 in c:\\users\\7sang\\anaconda3\\lib\\site-packages (from selenium) (1.26.16)\n",
      "Requirement already satisfied: trio~=0.17 in c:\\users\\7sang\\anaconda3\\lib\\site-packages (from selenium) (0.25.0)\n",
      "Requirement already satisfied: trio-websocket~=0.9 in c:\\users\\7sang\\anaconda3\\lib\\site-packages (from selenium) (0.11.1)\n",
      "Requirement already satisfied: certifi>=2021.10.8 in c:\\users\\7sang\\anaconda3\\lib\\site-packages (from selenium) (2024.2.2)\n",
      "Requirement already satisfied: typing_extensions>=4.9.0 in c:\\users\\7sang\\anaconda3\\lib\\site-packages (from selenium) (4.10.0)\n",
      "Requirement already satisfied: attrs>=23.2.0 in c:\\users\\7sang\\anaconda3\\lib\\site-packages (from trio~=0.17->selenium) (23.2.0)\n",
      "Requirement already satisfied: sortedcontainers in c:\\users\\7sang\\anaconda3\\lib\\site-packages (from trio~=0.17->selenium) (2.4.0)\n",
      "Requirement already satisfied: idna in c:\\users\\7sang\\anaconda3\\lib\\site-packages (from trio~=0.17->selenium) (3.4)\n",
      "Requirement already satisfied: outcome in c:\\users\\7sang\\anaconda3\\lib\\site-packages (from trio~=0.17->selenium) (1.3.0.post0)\n",
      "Requirement already satisfied: sniffio>=1.3.0 in c:\\users\\7sang\\anaconda3\\lib\\site-packages (from trio~=0.17->selenium) (1.3.1)\n",
      "Requirement already satisfied: cffi>=1.14 in c:\\users\\7sang\\anaconda3\\lib\\site-packages (from trio~=0.17->selenium) (1.15.1)\n",
      "Requirement already satisfied: wsproto>=0.14 in c:\\users\\7sang\\anaconda3\\lib\\site-packages (from trio-websocket~=0.9->selenium) (1.2.0)\n",
      "Requirement already satisfied: PySocks!=1.5.7,<2.0,>=1.5.6 in c:\\users\\7sang\\anaconda3\\lib\\site-packages (from urllib3[socks]<3,>=1.26->selenium) (1.7.1)\n",
      "Requirement already satisfied: pycparser in c:\\users\\7sang\\anaconda3\\lib\\site-packages (from cffi>=1.14->trio~=0.17->selenium) (2.21)\n",
      "Requirement already satisfied: h11<1,>=0.9.0 in c:\\users\\7sang\\anaconda3\\lib\\site-packages (from wsproto>=0.14->trio-websocket~=0.9->selenium) (0.14.0)\n"
     ]
    }
   ],
   "source": [
    "!pip install selenium"
   ]
  },
  {
   "cell_type": "code",
   "execution_count": 1,
   "id": "420c70cd",
   "metadata": {},
   "outputs": [],
   "source": [
    "from selenium import webdriver\n",
    "from selenium.webdriver.common.by import By\n",
    "from selenium.webdriver.chrome.options import Options\n",
    "import time\n",
    "\n",
    "options = Options()\n",
    "options.add_experimental_option(\"detach\", True)"
   ]
  },
  {
   "cell_type": "markdown",
   "id": "0f3e94f1",
   "metadata": {},
   "source": [
    "## 브라우저 실생 및 페이지 접속"
   ]
  },
  {
   "cell_type": "code",
   "execution_count": 2,
   "id": "b9af3b56",
   "metadata": {},
   "outputs": [],
   "source": [
    "url = 'https://www.naver.com/'\n",
    "driver = webdriver.Chrome(options=options)"
   ]
  },
  {
   "cell_type": "code",
   "execution_count": 3,
   "id": "d65e5e18",
   "metadata": {},
   "outputs": [],
   "source": [
    "driver.get(url)\n",
    "\n",
    "time.sleep(2)"
   ]
  },
  {
   "cell_type": "markdown",
   "id": "e95631e2",
   "metadata": {},
   "source": [
    "## 상호작용"
   ]
  },
  {
   "cell_type": "code",
   "execution_count": 14,
   "id": "c65b82d6",
   "metadata": {},
   "outputs": [],
   "source": [
    "driver.back()"
   ]
  },
  {
   "cell_type": "code",
   "execution_count": 15,
   "id": "10caca1b",
   "metadata": {},
   "outputs": [],
   "source": [
    "driver.forward()"
   ]
  },
  {
   "cell_type": "code",
   "execution_count": 16,
   "id": "1ea7b606",
   "metadata": {},
   "outputs": [],
   "source": [
    "driver.refresh()"
   ]
  },
  {
   "cell_type": "markdown",
   "id": "f1a729df",
   "metadata": {},
   "source": [
    "## 페이지 정보 가져오기"
   ]
  },
  {
   "cell_type": "code",
   "execution_count": 17,
   "id": "e52079f8",
   "metadata": {},
   "outputs": [
    {
     "name": "stdout",
     "output_type": "stream",
     "text": [
      "<selenium.webdriver.chrome.webdriver.WebDriver (session=\"cc8963c4ea16958ee98448aff495fe62\")>\n"
     ]
    }
   ],
   "source": [
    "print(driver)"
   ]
  },
  {
   "cell_type": "code",
   "execution_count": 19,
   "id": "96fb79ca",
   "metadata": {},
   "outputs": [
    {
     "name": "stdout",
     "output_type": "stream",
     "text": [
      "NAVER https://www.naver.com/ FEDEAEE93FDC3777F6F353DBB5013FC1\n"
     ]
    }
   ],
   "source": [
    "title = driver.title\n",
    "url = driver.current_url\n",
    "handle = driver.current_window_handle\n",
    "print(title, url, handle)"
   ]
  },
  {
   "cell_type": "markdown",
   "id": "bf3dfa03",
   "metadata": {},
   "source": [
    "## html 요소 찾기"
   ]
  },
  {
   "cell_type": "code",
   "execution_count": 21,
   "id": "4667625e",
   "metadata": {},
   "outputs": [],
   "source": [
    "driver.find_element?"
   ]
  },
  {
   "cell_type": "code",
   "execution_count": 23,
   "id": "deb2c21f",
   "metadata": {},
   "outputs": [
    {
     "data": {
      "text/plain": [
       "<selenium.webdriver.remote.webelement.WebElement (session=\"cc8963c4ea16958ee98448aff495fe62\", element=\"f.FEDEAEE93FDC3777F6F353DBB5013FC1.d.ADBB6501298D8FBFB604030C9F4E4240.e.46\")>"
      ]
     },
     "execution_count": 23,
     "metadata": {},
     "output_type": "execute_result"
    }
   ],
   "source": [
    "driver.find_element(By.ID, \"query\")"
   ]
  },
  {
   "cell_type": "code",
   "execution_count": 24,
   "id": "83a7212f",
   "metadata": {},
   "outputs": [],
   "source": [
    "driver.find_element(By.ID, \"query\").send_keys('뉴진스')"
   ]
  },
  {
   "cell_type": "code",
   "execution_count": 34,
   "id": "91c31f52",
   "metadata": {},
   "outputs": [],
   "source": [
    "driver.find_element(By.CLASS_NAME, \"search_input\").send_keys('블랙핑크')"
   ]
  },
  {
   "cell_type": "code",
   "execution_count": 29,
   "id": "9fccd4a9",
   "metadata": {},
   "outputs": [],
   "source": [
    "driver.find_element(By.NAME, \"query\").send_keys('뉴진스')"
   ]
  },
  {
   "cell_type": "code",
   "execution_count": 30,
   "id": "ea999d74",
   "metadata": {},
   "outputs": [],
   "source": [
    "driver.find_element(By.CSS_SELECTOR, \".search_input\").send_keys('뉴진스')"
   ]
  },
  {
   "cell_type": "code",
   "execution_count": 31,
   "id": "c6342cca",
   "metadata": {},
   "outputs": [],
   "source": [
    "driver.find_element(By.CSS_SELECTOR, \"#query\").send_keys('뉴진스')"
   ]
  },
  {
   "cell_type": "code",
   "execution_count": 32,
   "id": "a12c3f68",
   "metadata": {},
   "outputs": [],
   "source": [
    "driver.find_element(By.CSS_SELECTOR, \"[title='검색어를 입력해 주세요.']\").send_keys('뉴진스')"
   ]
  },
  {
   "cell_type": "code",
   "execution_count": 33,
   "id": "df592532",
   "metadata": {},
   "outputs": [],
   "source": [
    "driver.find_element(By.CSS_SELECTOR, \"[placeholder='검색어를 입력해 주세요.']\").send_keys('뉴진스')"
   ]
  },
  {
   "cell_type": "code",
   "execution_count": null,
   "id": "813e63ec",
   "metadata": {},
   "outputs": [],
   "source": [
    "driver.find_element(By.CSS_SELECTOR, \"[placeholder='검색어를 입력해 주세요.']\").send_keys('뉴진스')"
   ]
  },
  {
   "cell_type": "code",
   "execution_count": 9,
   "id": "80bf7bee",
   "metadata": {},
   "outputs": [],
   "source": [
    "driver.find_element(By.XPATH, \"//*[@id='query']\").send_keys('뉴진스')"
   ]
  },
  {
   "cell_type": "markdown",
   "id": "e4a06efa",
   "metadata": {},
   "source": [
    "## 클릭"
   ]
  },
  {
   "cell_type": "code",
   "execution_count": 10,
   "id": "d6928758",
   "metadata": {},
   "outputs": [
    {
     "data": {
      "text/plain": [
       "<selenium.webdriver.remote.webelement.WebElement (session=\"6f84e897db9deec257c50966129b384d\", element=\"f.797EC5A55FF844E00CAF838ABB502246.d.E9FE71E16CE509B11F0489594F48EB61.e.70\")>"
      ]
     },
     "execution_count": 10,
     "metadata": {},
     "output_type": "execute_result"
    }
   ],
   "source": [
    "driver.find_element(By.LINK_TEXT, '쇼핑')"
   ]
  },
  {
   "cell_type": "code",
   "execution_count": 11,
   "id": "405e55f7",
   "metadata": {},
   "outputs": [
    {
     "data": {
      "text/plain": [
       "<selenium.webdriver.remote.webelement.WebElement (session=\"6f84e897db9deec257c50966129b384d\", element=\"f.797EC5A55FF844E00CAF838ABB502246.d.E9FE71E16CE509B11F0489594F48EB61.e.49726\")>"
      ]
     },
     "execution_count": 11,
     "metadata": {},
     "output_type": "execute_result"
    }
   ],
   "source": [
    "driver.find_element(By.LINK_TEXT, '회원가입')"
   ]
  },
  {
   "cell_type": "code",
   "execution_count": 14,
   "id": "92c1d8ea",
   "metadata": {},
   "outputs": [],
   "source": [
    "driver.find_element(By.LINK_TEXT, '뉴스홈').click()"
   ]
  },
  {
   "cell_type": "code",
   "execution_count": 15,
   "id": "c0a6ed1c",
   "metadata": {},
   "outputs": [],
   "source": [
    "driver.find_element(By.PARTIAL_LINK_TEXT, '쇼').click()"
   ]
  },
  {
   "cell_type": "code",
   "execution_count": 16,
   "id": "acff27c5",
   "metadata": {},
   "outputs": [
    {
     "data": {
      "text/plain": [
       "<selenium.webdriver.remote.webelement.WebElement (session=\"6f84e897db9deec257c50966129b384d\", element=\"f.797EC5A55FF844E00CAF838ABB502246.d.1EF90F68C4B8EC8F4D31A605E604380E.e.50470\")>"
      ]
     },
     "execution_count": 16,
     "metadata": {},
     "output_type": "execute_result"
    }
   ],
   "source": [
    "driver.find_element(By.TAG_NAME, 'div')"
   ]
  },
  {
   "cell_type": "code",
   "execution_count": 18,
   "id": "95f09955",
   "metadata": {},
   "outputs": [],
   "source": [
    "links = driver.find_elements(By.CSS_SELECTOR, '.link_service')"
   ]
  },
  {
   "cell_type": "code",
   "execution_count": 19,
   "id": "9439ea6b",
   "metadata": {
    "scrolled": true
   },
   "outputs": [
    {
     "name": "stdout",
     "output_type": "stream",
     "text": [
      "<selenium.webdriver.remote.webelement.WebElement (session=\"6f84e897db9deec257c50966129b384d\", element=\"f.797EC5A55FF844E00CAF838ABB502246.d.1EF90F68C4B8EC8F4D31A605E604380E.e.57158\")>\n",
      "<selenium.webdriver.remote.webelement.WebElement (session=\"6f84e897db9deec257c50966129b384d\", element=\"f.797EC5A55FF844E00CAF838ABB502246.d.1EF90F68C4B8EC8F4D31A605E604380E.e.55340\")>\n",
      "<selenium.webdriver.remote.webelement.WebElement (session=\"6f84e897db9deec257c50966129b384d\", element=\"f.797EC5A55FF844E00CAF838ABB502246.d.1EF90F68C4B8EC8F4D31A605E604380E.e.57159\")>\n",
      "<selenium.webdriver.remote.webelement.WebElement (session=\"6f84e897db9deec257c50966129b384d\", element=\"f.797EC5A55FF844E00CAF838ABB502246.d.1EF90F68C4B8EC8F4D31A605E604380E.e.52411\")>\n",
      "<selenium.webdriver.remote.webelement.WebElement (session=\"6f84e897db9deec257c50966129b384d\", element=\"f.797EC5A55FF844E00CAF838ABB502246.d.1EF90F68C4B8EC8F4D31A605E604380E.e.57160\")>\n",
      "<selenium.webdriver.remote.webelement.WebElement (session=\"6f84e897db9deec257c50966129b384d\", element=\"f.797EC5A55FF844E00CAF838ABB502246.d.1EF90F68C4B8EC8F4D31A605E604380E.e.57161\")>\n",
      "<selenium.webdriver.remote.webelement.WebElement (session=\"6f84e897db9deec257c50966129b384d\", element=\"f.797EC5A55FF844E00CAF838ABB502246.d.1EF90F68C4B8EC8F4D31A605E604380E.e.54953\")>\n",
      "<selenium.webdriver.remote.webelement.WebElement (session=\"6f84e897db9deec257c50966129b384d\", element=\"f.797EC5A55FF844E00CAF838ABB502246.d.1EF90F68C4B8EC8F4D31A605E604380E.e.54948\")>\n",
      "<selenium.webdriver.remote.webelement.WebElement (session=\"6f84e897db9deec257c50966129b384d\", element=\"f.797EC5A55FF844E00CAF838ABB502246.d.1EF90F68C4B8EC8F4D31A605E604380E.e.54942\")>\n",
      "<selenium.webdriver.remote.webelement.WebElement (session=\"6f84e897db9deec257c50966129b384d\", element=\"f.797EC5A55FF844E00CAF838ABB502246.d.1EF90F68C4B8EC8F4D31A605E604380E.e.54935\")>\n",
      "<selenium.webdriver.remote.webelement.WebElement (session=\"6f84e897db9deec257c50966129b384d\", element=\"f.797EC5A55FF844E00CAF838ABB502246.d.1EF90F68C4B8EC8F4D31A605E604380E.e.54929\")>\n"
     ]
    }
   ],
   "source": [
    "for link in links:\n",
    "    print(link)"
   ]
  },
  {
   "cell_type": "code",
   "execution_count": 20,
   "id": "26d97dd8",
   "metadata": {},
   "outputs": [
    {
     "name": "stdout",
     "output_type": "stream",
     "text": [
      "https://mail.naver.com/\n",
      "\n",
      "https://cafe.naver.com/\n",
      "\n",
      "https://blog.naver.com/\n",
      "\n",
      "https://shopping.naver.com/home\n",
      "\n",
      "https://news.naver.com/\n",
      "\n",
      "https://finance.naver.com/\n",
      "\n",
      "https://land.naver.com/\n",
      "\n",
      "https://map.naver.com/\n",
      "\n",
      "https://comic.naver.com/\n",
      "\n",
      "https://chzzk.naver.com/\n",
      "\n",
      "https://www.naver.com/#\n",
      "\n"
     ]
    }
   ],
   "source": [
    "for link in links:\n",
    "    print(link.get_attribute(\"href\"))\n",
    "    print()"
   ]
  },
  {
   "cell_type": "markdown",
   "id": "841cf7c4",
   "metadata": {},
   "source": [
    "## 자동 로그인 연습"
   ]
  },
  {
   "cell_type": "code",
   "execution_count": 21,
   "id": "1023527d",
   "metadata": {},
   "outputs": [],
   "source": [
    "url = 'file:///C:\\\\workspace\\\\WASSUP\\\\02_Data_Collection\\\\sample\\\\signin.html'\n",
    "driver = webdriver.Chrome(options=options)\n",
    "driver.get(url)\n",
    "time.sleep(2)"
   ]
  },
  {
   "cell_type": "code",
   "execution_count": 22,
   "id": "f16e466b",
   "metadata": {},
   "outputs": [],
   "source": [
    "username = driver.find_element(By.NAME, \"username\")\n",
    "username.send_keys('korea')"
   ]
  },
  {
   "cell_type": "code",
   "execution_count": 24,
   "id": "0f3ca434",
   "metadata": {},
   "outputs": [],
   "source": [
    "username = driver.find_element(By.NAME, \"password\")\n",
    "username.send_keys('1004')"
   ]
  },
  {
   "cell_type": "code",
   "execution_count": 27,
   "id": "2357c694",
   "metadata": {},
   "outputs": [],
   "source": [
    "login = driver.find_element(By.XPATH, '//*[@id=\"loginForm\"]/input[3]')\n",
    "login.click()"
   ]
  },
  {
   "cell_type": "code",
   "execution_count": 28,
   "id": "dbe3a289",
   "metadata": {},
   "outputs": [],
   "source": [
    "login = driver.find_element(By.CSS_SELECTOR, '#loginForm > input[type=submit]:nth-child(5)')\n",
    "login.click()"
   ]
  },
  {
   "cell_type": "code",
   "execution_count": 30,
   "id": "4cbee9a2",
   "metadata": {},
   "outputs": [],
   "source": [
    "login = driver.find_element(By.CSS_SELECTOR, \"[value='Login']\")\n",
    "login.click()"
   ]
  },
  {
   "cell_type": "code",
   "execution_count": 32,
   "id": "bc8ea831",
   "metadata": {},
   "outputs": [],
   "source": [
    "login = driver.find_element(By.CSS_SELECTOR, \"[name='continue']\")\n",
    "login.click()"
   ]
  },
  {
   "cell_type": "code",
   "execution_count": 36,
   "id": "a4036576",
   "metadata": {},
   "outputs": [],
   "source": [
    "driver.back()"
   ]
  },
  {
   "cell_type": "code",
   "execution_count": 34,
   "id": "fd1f7d6d",
   "metadata": {},
   "outputs": [],
   "source": [
    "username = driver.find_element(By.NAME, 'username')\n",
    "username.clear()"
   ]
  },
  {
   "cell_type": "code",
   "execution_count": 35,
   "id": "238b62cd",
   "metadata": {},
   "outputs": [],
   "source": [
    "username.submit()"
   ]
  },
  {
   "cell_type": "code",
   "execution_count": 37,
   "id": "4ab2ff14",
   "metadata": {},
   "outputs": [
    {
     "data": {
      "text/plain": [
       "'Are you sure you want to do this?'"
      ]
     },
     "execution_count": 37,
     "metadata": {},
     "output_type": "execute_result"
    }
   ],
   "source": [
    "driver.find_element(By.TAG_NAME, 'p').text"
   ]
  },
  {
   "cell_type": "code",
   "execution_count": 38,
   "id": "908878a9",
   "metadata": {},
   "outputs": [
    {
     "data": {
      "text/plain": [
       "'<html><head></head><body>\\n        <h1> Sign In </h1>\\n        <form action=\"moved.html\" id=\"loginForm\">\\n            ID : <input name=\"username\" type=\"text\"> <br>\\n            Password : <input name=\"password\" type=\"password\"> <br>\\n\\n            <input name=\"continue\" type=\"submit\" value=\"Login\">\\n            <input name=\"continue\" type=\"button\" value=\"Clear\">\\n        \\n        </form>\\n\\n        <p>Are you sure you want to do this?</p>\\n        <a href=\"continue.html\">Continue</a>\\n        <a href=\"cancel.html\">Cancel</a>\\n\\n        <h1>Welcome</h1>\\n        <p>Site content goes here.</p>\\n        <p class=\"content\">Site content goes here.</p>\\n    \\n</body></html>'"
      ]
     },
     "execution_count": 38,
     "metadata": {},
     "output_type": "execute_result"
    }
   ],
   "source": [
    "driver.page_source"
   ]
  },
  {
   "cell_type": "code",
   "execution_count": 39,
   "id": "5b4c8a7b",
   "metadata": {},
   "outputs": [
    {
     "ename": "WebDriverException",
     "evalue": "Message: disconnected: not connected to DevTools\n  (failed to check if window was closed: disconnected: not connected to DevTools)\n  (Session info: chrome=122.0.6261.129)\nStacktrace:\n\tGetHandleVerifier [0x00007FF62123AD02+56930]\n\t(No symbol) [0x00007FF6211AF602]\n\t(No symbol) [0x00007FF6210642E5]\n\t(No symbol) [0x00007FF621050879]\n\t(No symbol) [0x00007FF6210510AF]\n\t(No symbol) [0x00007FF621064845]\n\t(No symbol) [0x00007FF62104192C]\n\t(No symbol) [0x00007FF6210D97B7]\n\t(No symbol) [0x00007FF6210D91B9]\n\t(No symbol) [0x00007FF6210CBC60]\n\t(No symbol) [0x00007FF62109D438]\n\t(No symbol) [0x00007FF62109E4D1]\n\tGetHandleVerifier [0x00007FF6215B6F8D+3711213]\n\tGetHandleVerifier [0x00007FF6216104CD+4077101]\n\tGetHandleVerifier [0x00007FF62160865F+4044735]\n\tGetHandleVerifier [0x00007FF6212D9736+706710]\n\t(No symbol) [0x00007FF6211BB8DF]\n\t(No symbol) [0x00007FF6211B6AC4]\n\t(No symbol) [0x00007FF6211B6C1C]\n\t(No symbol) [0x00007FF6211A68D4]\n\tBaseThreadInitThunk [0x00007FFF91FE257D+29]\n\tRtlUserThreadStart [0x00007FFF9324AA58+40]\n",
     "output_type": "error",
     "traceback": [
      "\u001b[1;31m---------------------------------------------------------------------------\u001b[0m",
      "\u001b[1;31mWebDriverException\u001b[0m                        Traceback (most recent call last)",
      "Cell \u001b[1;32mIn[39], line 1\u001b[0m\n\u001b[1;32m----> 1\u001b[0m driver\u001b[38;5;241m.\u001b[39mclose()\n",
      "File \u001b[1;32m~\\anaconda3\\Lib\\site-packages\\selenium\\webdriver\\remote\\webdriver.py:458\u001b[0m, in \u001b[0;36mWebDriver.close\u001b[1;34m(self)\u001b[0m\n\u001b[0;32m    450\u001b[0m \u001b[38;5;28;01mdef\u001b[39;00m \u001b[38;5;21mclose\u001b[39m(\u001b[38;5;28mself\u001b[39m) \u001b[38;5;241m-\u001b[39m\u001b[38;5;241m>\u001b[39m \u001b[38;5;28;01mNone\u001b[39;00m:\n\u001b[0;32m    451\u001b[0m \u001b[38;5;250m    \u001b[39m\u001b[38;5;124;03m\"\"\"Closes the current window.\u001b[39;00m\n\u001b[0;32m    452\u001b[0m \n\u001b[0;32m    453\u001b[0m \u001b[38;5;124;03m    :Usage:\u001b[39;00m\n\u001b[1;32m   (...)\u001b[0m\n\u001b[0;32m    456\u001b[0m \u001b[38;5;124;03m            driver.close()\u001b[39;00m\n\u001b[0;32m    457\u001b[0m \u001b[38;5;124;03m    \"\"\"\u001b[39;00m\n\u001b[1;32m--> 458\u001b[0m     \u001b[38;5;28mself\u001b[39m\u001b[38;5;241m.\u001b[39mexecute(Command\u001b[38;5;241m.\u001b[39mCLOSE)\n",
      "File \u001b[1;32m~\\anaconda3\\Lib\\site-packages\\selenium\\webdriver\\remote\\webdriver.py:347\u001b[0m, in \u001b[0;36mWebDriver.execute\u001b[1;34m(self, driver_command, params)\u001b[0m\n\u001b[0;32m    345\u001b[0m response \u001b[38;5;241m=\u001b[39m \u001b[38;5;28mself\u001b[39m\u001b[38;5;241m.\u001b[39mcommand_executor\u001b[38;5;241m.\u001b[39mexecute(driver_command, params)\n\u001b[0;32m    346\u001b[0m \u001b[38;5;28;01mif\u001b[39;00m response:\n\u001b[1;32m--> 347\u001b[0m     \u001b[38;5;28mself\u001b[39m\u001b[38;5;241m.\u001b[39merror_handler\u001b[38;5;241m.\u001b[39mcheck_response(response)\n\u001b[0;32m    348\u001b[0m     response[\u001b[38;5;124m\"\u001b[39m\u001b[38;5;124mvalue\u001b[39m\u001b[38;5;124m\"\u001b[39m] \u001b[38;5;241m=\u001b[39m \u001b[38;5;28mself\u001b[39m\u001b[38;5;241m.\u001b[39m_unwrap_value(response\u001b[38;5;241m.\u001b[39mget(\u001b[38;5;124m\"\u001b[39m\u001b[38;5;124mvalue\u001b[39m\u001b[38;5;124m\"\u001b[39m, \u001b[38;5;28;01mNone\u001b[39;00m))\n\u001b[0;32m    349\u001b[0m     \u001b[38;5;28;01mreturn\u001b[39;00m response\n",
      "File \u001b[1;32m~\\anaconda3\\Lib\\site-packages\\selenium\\webdriver\\remote\\errorhandler.py:229\u001b[0m, in \u001b[0;36mErrorHandler.check_response\u001b[1;34m(self, response)\u001b[0m\n\u001b[0;32m    227\u001b[0m         alert_text \u001b[38;5;241m=\u001b[39m value[\u001b[38;5;124m\"\u001b[39m\u001b[38;5;124malert\u001b[39m\u001b[38;5;124m\"\u001b[39m]\u001b[38;5;241m.\u001b[39mget(\u001b[38;5;124m\"\u001b[39m\u001b[38;5;124mtext\u001b[39m\u001b[38;5;124m\"\u001b[39m)\n\u001b[0;32m    228\u001b[0m     \u001b[38;5;28;01mraise\u001b[39;00m exception_class(message, screen, stacktrace, alert_text)  \u001b[38;5;66;03m# type: ignore[call-arg]  # mypy is not smart enough here\u001b[39;00m\n\u001b[1;32m--> 229\u001b[0m \u001b[38;5;28;01mraise\u001b[39;00m exception_class(message, screen, stacktrace)\n",
      "\u001b[1;31mWebDriverException\u001b[0m: Message: disconnected: not connected to DevTools\n  (failed to check if window was closed: disconnected: not connected to DevTools)\n  (Session info: chrome=122.0.6261.129)\nStacktrace:\n\tGetHandleVerifier [0x00007FF62123AD02+56930]\n\t(No symbol) [0x00007FF6211AF602]\n\t(No symbol) [0x00007FF6210642E5]\n\t(No symbol) [0x00007FF621050879]\n\t(No symbol) [0x00007FF6210510AF]\n\t(No symbol) [0x00007FF621064845]\n\t(No symbol) [0x00007FF62104192C]\n\t(No symbol) [0x00007FF6210D97B7]\n\t(No symbol) [0x00007FF6210D91B9]\n\t(No symbol) [0x00007FF6210CBC60]\n\t(No symbol) [0x00007FF62109D438]\n\t(No symbol) [0x00007FF62109E4D1]\n\tGetHandleVerifier [0x00007FF6215B6F8D+3711213]\n\tGetHandleVerifier [0x00007FF6216104CD+4077101]\n\tGetHandleVerifier [0x00007FF62160865F+4044735]\n\tGetHandleVerifier [0x00007FF6212D9736+706710]\n\t(No symbol) [0x00007FF6211BB8DF]\n\t(No symbol) [0x00007FF6211B6AC4]\n\t(No symbol) [0x00007FF6211B6C1C]\n\t(No symbol) [0x00007FF6211A68D4]\n\tBaseThreadInitThunk [0x00007FFF91FE257D+29]\n\tRtlUserThreadStart [0x00007FFF9324AA58+40]\n"
     ]
    }
   ],
   "source": [
    "driver.close()"
   ]
  },
  {
   "cell_type": "markdown",
   "id": "d0f69fe8",
   "metadata": {},
   "source": [
    "## options"
   ]
  },
  {
   "cell_type": "code",
   "execution_count": 41,
   "id": "9cafcb1a",
   "metadata": {},
   "outputs": [],
   "source": [
    "from selenium import webdriver\n",
    "from selenium.webdriver.common.by import By\n",
    "from selenium.webdriver.chrome.options import Options\n",
    "import time\n",
    "\n",
    "options = Options()\n",
    "options.add_argument(\"--headless=new\")\n",
    "options.add_experimental_option(\"detach\", True)"
   ]
  },
  {
   "cell_type": "code",
   "execution_count": 43,
   "id": "62c0c0ab",
   "metadata": {},
   "outputs": [],
   "source": [
    "url = 'http://naver.com'\n",
    "driver = webdriver.Chrome(options=options)\n",
    "driver.get(url)\n",
    "time.sleep(2)"
   ]
  },
  {
   "cell_type": "code",
   "execution_count": 44,
   "id": "6b140bb3",
   "metadata": {},
   "outputs": [
    {
     "name": "stdout",
     "output_type": "stream",
     "text": [
      "NAVER\n"
     ]
    }
   ],
   "source": [
    "print(driver.title)"
   ]
  },
  {
   "cell_type": "code",
   "execution_count": 45,
   "id": "b8698ed7",
   "metadata": {},
   "outputs": [],
   "source": [
    "driver.quit()"
   ]
  },
  {
   "cell_type": "markdown",
   "id": "9ede64c3",
   "metadata": {},
   "source": [
    "## 윈도우 컨트롤"
   ]
  },
  {
   "cell_type": "code",
   "execution_count": 46,
   "id": "4ba5d8a4",
   "metadata": {},
   "outputs": [],
   "source": [
    "from selenium import webdriver\n",
    "from selenium.webdriver.common.by import By\n",
    "from selenium.webdriver.chrome.options import Options\n",
    "import time\n",
    "\n",
    "options = Options()\n",
    "options.add_experimental_option(\"detach\", True)\n",
    "\n",
    "url = 'http://naver.com'\n",
    "driver = webdriver.Chrome(options=options)\n",
    "driver.get(url)\n",
    "time.sleep(2)"
   ]
  },
  {
   "cell_type": "code",
   "execution_count": 47,
   "id": "b6d4aed1",
   "metadata": {},
   "outputs": [
    {
     "name": "stdout",
     "output_type": "stream",
     "text": [
      "1936px 1048px\n"
     ]
    }
   ],
   "source": [
    "size = driver.get_window_size()\n",
    "width = size.get(\"width\")\n",
    "height = size.get(\"height\")\n",
    "\n",
    "print(str(width)+\"px\"+\" \"+str(height)+\"px\")"
   ]
  },
  {
   "cell_type": "code",
   "execution_count": 48,
   "id": "43bf7a4f",
   "metadata": {},
   "outputs": [
    {
     "data": {
      "text/plain": [
       "{'height': 1012, 'width': 945, 'x': 10, 'y': 10}"
      ]
     },
     "execution_count": 48,
     "metadata": {},
     "output_type": "execute_result"
    }
   ],
   "source": [
    "driver.set_window_position(10,10)"
   ]
  },
  {
   "cell_type": "code",
   "execution_count": 51,
   "id": "f2c94b5a",
   "metadata": {},
   "outputs": [],
   "source": [
    "driver.maximize_window()"
   ]
  },
  {
   "cell_type": "code",
   "execution_count": 50,
   "id": "15fbee22",
   "metadata": {},
   "outputs": [],
   "source": [
    "driver.minimize_window()"
   ]
  },
  {
   "cell_type": "code",
   "execution_count": 52,
   "id": "f352f910",
   "metadata": {},
   "outputs": [
    {
     "data": {
      "text/plain": [
       "True"
      ]
     },
     "execution_count": 52,
     "metadata": {},
     "output_type": "execute_result"
    }
   ],
   "source": [
    "driver.save_screenshot('./image.png')"
   ]
  },
  {
   "cell_type": "code",
   "execution_count": 53,
   "id": "026de058",
   "metadata": {},
   "outputs": [],
   "source": [
    "driver.close()"
   ]
  },
  {
   "cell_type": "markdown",
   "id": "447a33ca",
   "metadata": {},
   "source": [
    "## 네이버 블로그 예제"
   ]
  },
  {
   "cell_type": "code",
   "execution_count": 54,
   "id": "7e35f94e",
   "metadata": {},
   "outputs": [],
   "source": [
    "from selenium import webdriver\n",
    "from selenium.webdriver.common.by import By\n",
    "from selenium.webdriver.chrome.options import Options\n",
    "import time, random, pandas as pd\n",
    "\n",
    "options = Options()\n",
    "options.add_argument('--window-size=974,1047')\n",
    "options.add_argument('--window-position=953,0')\n",
    "options.add_experimental_option(\"detach\", True)"
   ]
  },
  {
   "cell_type": "code",
   "execution_count": 55,
   "id": "79c53924",
   "metadata": {},
   "outputs": [],
   "source": [
    "driver = webdriver.Chrome(options = options)"
   ]
  },
  {
   "cell_type": "code",
   "execution_count": 57,
   "id": "8f44271c",
   "metadata": {},
   "outputs": [],
   "source": [
    "where = 'blog'\n",
    "query = '인공지능'\n",
    "dateform = '20221020to20231020'\n",
    "url = f'https://search.naver.com/search.naver?where={where}&query={query}&sm=tab_op&nso=so:r,p:from{dateform}'\n",
    "fname = f'{where}_{query}_{dateform}'"
   ]
  },
  {
   "cell_type": "code",
   "execution_count": 58,
   "id": "2abcfa40",
   "metadata": {},
   "outputs": [],
   "source": [
    "driver.get(url)\n",
    "time.sleep(random.randint(2,3))"
   ]
  },
  {
   "cell_type": "markdown",
   "id": "91e05dab",
   "metadata": {},
   "source": [
    "## execute_script()"
   ]
  },
  {
   "cell_type": "code",
   "execution_count": 72,
   "id": "a70602d6",
   "metadata": {},
   "outputs": [],
   "source": [
    "for i in range(10):\n",
    "    driver.execute_script('window.scrollTo(0, document.body.scrollHeight);')\n",
    "    time.sleep(random.randint(2,3))"
   ]
  },
  {
   "cell_type": "code",
   "execution_count": 81,
   "id": "c719dc5f",
   "metadata": {},
   "outputs": [
    {
     "name": "stdout",
     "output_type": "stream",
     "text": [
      "{'title': '로보어드바이저 수익률 비교, 인공지능 투자 성과는?', 'text': \"그럼 인공지능인 로보어드바이저와 일반 펀드의 운용 성과는 어땠을까요? 2022년 펀드 운용 성과 2022년 우리나라 국민의 일반펀드 평균 투자금액은 약 3749만원이고, 그중 이익을... 저도 그렇지만 이 운용하는 상품을 찾고 계신 분들도 의외로 많습니다. 제가 현재 가입하고 있다는 이야기를 하면 대부분의 반응은 '알려 달라'고 합니다. 많은 분들이...\", 'date': '2023.09.26.'}\n",
      "{'title': 'AI 인공지능 파이토치 서적으로 가볍게 시작해보죠', 'text': '인공지능이 표면적으로 한풀 꺽였다고는 하지만 관련된 서적과 툴들은 꾸준하게 발전하고 있습니다. 언어모델 개발뿐만 아니랄 이를 활용하는 프로폼트 엔지니어라고 하는... 인공지능과 코딩 프로그래밍이라는 단어아래 후끈한 이 시장에 알고 있어야 사람을 구하고 일도 시킬 수 있어서 오늘도 공부를 해야 하네요 ^^ 우선 쉽게 접근할 수 있는것 같아서 시작해...', 'date': '2023.10.02.'}\n",
      "{'title': '[종목분석] 의료 인공지능 딥노이드 주가 전망을 살펴봅니다', 'text': '그 중에서 오늘은 인공지능 딥노이드 주가를 살펴보려고 하는데 해당 종목은 이미 많이 상승한 상태입니다. 그렇다고 버릴 수는 없습니다. 의료관련주들은 이슈성이 강하기 때문에 특정 기간에 집중적으로 상승 또는 하락을 반복합니다. 관심목록에 넣어두었다가 주식 정세를 읽으면서 매수타이밍을 잡으면 됩니다. ▣이란 AI는 Artificial Intelligence의...', 'date': '2023.08.30.'}\n",
      "{'title': '인공지능에 기반한 신약개발 관련 기업들에 대한 생각', 'text': '이 글에서는 그동안 단편적으로 언급했던 인공지능에 기반한 신약개발 바이오 기업들에 대한 생각을 간단히 정리하고자 합니다. 오늘 한국 증시에서도 바이오 기업들이 강세를... 리커전 파마슈티컬스는 보도자료를 통해 엔비디아 클라우드 서비스를 사용해 기반 모델의 개발을 가속화할 것이라고 밝혔고, 전날 미국 장에서 장중 한때 121.09% 상승했다가...', 'date': '2023.07.13.'}\n",
      "{'title': 'NPU 관련주 뜻 - 인공지능 구글 텔레칩스 칩스앤미디어 주가 전망', 'text': 'NPU 관련주 뜻 - 인공지능 구글 텔레칩스 칩스앤미디어 주가 전망 NPU 뜻 NPU 는 Neural Processing Unit 의 약자로서 인간의 신경망을 따라하여 만들어진 인공신경망을 구현할 수 있는 반도체입니다. 개발의 핵심적인 역할을 합니다. 컴퓨터의 두뇌는 CPU 로 만들어집니다. 중앙처리장치 Central Processing Unit 의 약자이면서 컴퓨터가 해야 하는 거의 모든 계산은...', 'date': '2023.10.09.'}\n",
      "{'title': '인공지능(AI)이 인간의 일자리를 감소시킬 것인가?', 'text': '인공지능이 인간의 일자리를 대체? 이 질문은 최근에 사람들의 관심을 끌며 치열한 논쟁을 일으키고 있습니다. ChatGPT, Bard 및 Mindjourney와 같은 인공지능의 신속한 발전은 이 논의를... 그들은 컴퓨터가 인간의 일자리의 현실을 효율적으로 다루지 못하며, 대부분의 작업에 필요한 맥락적 이해, 상상력, 자유의지 및 감성지능 수준이 부족하다고 주장합니다. 일부...', 'date': '2023.07.13.'}\n",
      "{'title': '로봇 인공지능 관련주 BOTZ ETF 리얼리뷰', 'text': '요즘 로봇과 인공지능에 대한 투자자들의 관심이 뜨겁습니다. 이에 따라 로봇 관련 주식의 주가 흐름도 상당히 호조를 보이고 있는데요. 이번 글에서는 그중에서도 세계 로봇... BOTZ 포트폴리오 BOTZ는 다양한 로봇 및 기술에 투자하고 있는 기업들로 구성되어 있는데요. 미국을 비롯하여 일본, 스위스 등 다양한 국가의 주식을 보유하고 있습니다. (세...', 'date': '2023.06.22.'}\n",
      "{'title': '태양광 발전소 고장, 인공지능이 물샐틈없이 관리한다!', 'text': '한국에너지기술연구원 신재생시스템연구실 고석환 박사 연구진은 인공지능(AI)을 활용한 태양광 발전 고장 진단 기술을 개발했습니다. 10년 이상 태양광발전소 고장진단평가를 수행하며 수집한 I-V곡선* 정보를 데이터베이스화하고, 모델을 적용해 현장에 가지 않고도 태양광 패널의 오염, 성능 저하 등을 95% 이상의 정확도로 판단할 수 있죠. * I-V곡선...', 'date': '2023.10.10.'}\n",
      "{'title': 'AI인공지능 관련주 산업의 발달은 기계가 하게되는걸까', 'text': '언젠가부터 로봇에관련된 산업들이 다시금 발전을 하고 주목을 받고있으며, 챗gdp라는 기능이 도입이 되면서 AI인공지능에 관련된 사업들이 급부상을 하고있는 중인것 같습니다.... AI 관련주 주가 단순하게 생각을 해보면 일상생활을 하면서 영향을 줄수있는 산업들에도 많이 분포가 되어있겠지만, 우리들이 모르고있는 신기술이라 불리는 곳들에 훨씬더 많은...', 'date': '2023.09.05.'}\n",
      "{'title': '인공지능 AI 스피커 삼성 갤럭시 홈미니 기능', 'text': '버들붕어입니다.^^ 이버 시간에는 인공지능 AI 스피커 삼성 갤럭시 홈미니 기능에 대해 자세하게 알아보도록 하겠습니다. 해당 제품은 삼성전자가 개발하여 2020년에 출시를... 사진출처: Samsung 온라인 몰을 이용한 최저가 금액으로는 7만 원대에 AI 스피커 구매할 수 있으며, 앞서 말한 거와 같이 MINI 사이즈라 공간에 대한 제약이 없으며, 사무실 및 좁은...', 'date': '2023.09.04.'}\n",
      "{'title': '빙 챗gpt 쓰려면 엣지 브라우저로! 너만 몰라 인공지능 팁', 'text': '너만 몰라 인공지능 팁 by 엔돌슨 2023. 6. 30. 빙 챗gpt 쓰려면 엣지 브라우저로! 너만 몰라 인공지능 팁 응 너만 인공지능 쓸줄 몰라! 그래서 쉽게 Microsoft Edge 브라우저에서 ChatGPT를 이용하는 방법에 대해서 설명하려고 합니다. 챗봇, AI에 대한 디지털 가이드가 필요한 시대에 우리는 살고 있습니다. 점점 더 많이 과 통합되고 있습니다. 매주...', 'date': '2023.06.30.'}\n",
      "{'title': '[주간경제동향] 무선통신 경제성장 분석 (인공지능,6g)', 'text': '지금까지 인공지능 6G관련 무선통신 경제에 대해 살펴봤습니다. 이 산업에 필요한 건 초성능, 초대역, 초공간, 초정밀 및 지능입니다. 10년 단계로 발달하는 이동통신 기술이 전 산업과 사회에서 인프라를 형성하려면 다양한 통신요구를 만족해야 할 겁니다. 5G에서 볼 수 없었던 차별된 기술들이 모여 미래의 혁신산업을 독자적으로 이끌 거라고 생각하며 오늘 분석을...', 'date': '2023.10.10.'}\n",
      "{'title': '글로벌ETF! (12편) : 인공지능과 로보틱스 (Artificial Intelligence & Robotics)', 'text': '기고 : Global X 이경화 애널리스트 www.globalxetfs.com 지난시간에는 미국의 인플레이션 감축 법안 (Inflation Reduction Act)에 대해서 알아보았는데요 이번 시간에는 최근에 시장을 뜨겁게 달군 인공지능 및 로보틱스 테마에 대해서 알아보겠습니다. 코로나를 겪으면서 여러 산업에서 (AI)과 로봇은 모든 규모의 기업이 직면한 문제를 해결할 수 있는 혁신적인...', 'date': '2023.08.02.'}\n",
      "{'title': '적금 가입 vs 펀드 투자, 인공지능이 운용하는 콴텍 수익률과 추천 이유', 'text': \"저는 작년부터 인공지능이 주식을 매매해주는 '콴텍'에 돈을 넣어 운영하고 있습니다. 다른 이유는 없습니다. 그냥 수익률이 좋아서입니다. 저와 같은 생각을 하고 계신분이 많은지... 개설된 증권사 계좌에 입금하면 인공지능이 자동으로 매매를 시작합니다. 돈을 찾을 땐 콴텍 앱에서 상품을 해지하면 보유한 주식을 환매해 증권사 계좌로 입금 받을 수 있습니다....\", 'date': '2023.07.03.'}\n",
      "{'title': '[테마주분석] 의료기기와 ai 인공지능 의료용로봇 관련주 정리', 'text': '다섯 번째 셀루메드 사업부문 - 의료기기와 바이오로직스, 코스메슈티컬 의료기기 - 탈회골, 합성고분자 무릎연골 연구개발 무릎인공관절 전치환술에 세루메드의 첨단 로봇을 사용하고 있다고 합니다. 지금까지 의료기기와 의료용로봇 관련주들을 알아봤습니다. 이번에는 어떤 종목들이 있는지 살펴봤고 다음시간엔 각 종목 중 관심목록으로 넣어두면...', 'date': '2023.08.29.'}\n",
      "{'title': '‘상품 들고 나오면 자동 결제’...인공지능(AI) 스마트 편의점', 'text': \"출처=GS리테일 GS25가 사람 없이 인공지능(AI) 솔루션 만으로 운영되는 스마트 편의점 'GS25 DX 랩(LAB) 가산스마트점'을 오픈했습니다. 서울 금천구 가산디지털단지역 인근의 'GS25 DX 랩... 출처=이마트24 지난 1월부터는 신세계아이앤씨의 ‘스파로스 (AI) 수요예측’ 시스템을 도입해 이전에 1시간 이상 소요됐던 발주 시간을 5분으로 줄였는데요. 현재 13개...\", 'date': '2023.10.10.'}\n",
      "{'title': 'AI 인공지능 데이터 라벨링으로 수익 창출하는 법 (+무료교육 선착순 한정)', 'text': \"AI 인공지능 데이터 라벨링으로 수익 창출하는 법 (+무료교육 선착순 한정) 안녕하세요. 사진&IT 크리에이터 자유분방입니다. 올해 초 Chat GPT가 출시가 되면서, 인공지능 (AI)에 대한 관심도도 상당 부분 올라갔습니다. 그렇다 보니, 관련 직군들이 주목을 받고 있는데요. 관련 일거리는 어떤게 있을까요? 이번 글에서는 '데이터 라벨링'을 전문적으로...\", 'date': '2023.10.19.'}\n",
      "{'title': '미국주식 엔비디아 주가 500달러 돌파 - 인공지능 챗GPT 관련주', 'text': '생성형AI 인공지능의 최대 수혜주로 꼽히는 엔비디아가 2분기 실적을 발표했습니다. 예상보다 훨씬 상회하는 실적으로 장중에는 3%, 장마감후에는 6%가 상승해 주가는 500달러를 돌파했습니다. 후덜덜하네요. 매출은 시장 예상치 112억 2,000만 달러를 훌쩍 넘어선 135억 1,000만 달러를 기록해습니다. 전년도 동기 대비 88% 가 급증한 것인데요. 당연하게도 ...', 'date': '2023.08.24.'}\n",
      "{'title': '인공지능 OpenAI 해커톤 개발 공모전 SK 텔레콤 Prompterday 소개', 'text': '해커톤은 해킹과 마라톤이 합성된 말로 일정 시간 내에 주제에 맞는 서비스를 기발하는 공모전을 뜻하는데요~ 이번에 SK 텔레콤에서 인공지능 OpenAI 개발 공모전인 Prompter Day Seoul 2023 행사가 있어 소개를 해드리려 합니다. Prompter Day Seoul 2023 기술의 발달로 이제는 우리의 삶과 떼려야 뗄 수 없는 그런 시대에 살고 있는데요. 사실 예전에 나온...', 'date': '2023.08.24.'}\n",
      "{'title': '엔잡러가 원하는 인공지능 직업 데이터라벨링, 국비지원무료교육 가능!', 'text': '인공지능(AI)은 주입된 수많은 데이터를 통해 학습을 하며 이때 제공받는 데이터는 인공지능이 학습할 수 있도록 가공된 형태죠. 여기서 가공을 데이터 전처리 작업이라고 표현할 수 있는데 이것이 바로 데이터 라벨링이라고 이해하시면 됩니다. 최근에는 챗GPT가 화제가 되고 있는데요. 내가 원하는 질문을 하면 그에 따른 최적의 답변을 내어주고 있습니다. 이는 실제...', 'date': '2023.07.18.'}\n",
      "{'title': '신약 개발의 벽을 넘기 위한 도약, 인공지능 기반 신약 개발', 'text': '인공지능의 도입으로 약효를 결정하는 분자의 단순 스크리닝 과정을 효율화하고, 예상되는 문제를 사전에 예측해 신약 개발 성공 확률을 높일 수 있다는 가능성이 꾸준히 확인되고... 부족한 자본을 보완하는 기술력, 인공지능의 도입 사람의 노동력으로 진행되었던 지점을 으로 대체해 효율을 높일 수 있다. 자본이 부족하다면 막대한 자본을 요구하는 부분이...', 'date': '2023.09.18.'}\n",
      "{'title': '인공지능을 이용한 산불 감시 시스템', 'text': '과거 화재 감시는 인간의 눈에 의존했지만, 최근에는 인공지능을 적용하려는 시도가 이어지고 있습니다. 관련 스타트업 가운데 하나인 파노 AI (Pano AI)는 이미 캘리포니아, 오레건, 콜로라도, 워싱턴, 아이다호, 몬태나 주에서 240만 헥타르의 숲을 감시하고 있습니다. 최근 파노 AI는 화재 감시 영역을 호주로 확장했습니다....', 'date': '2023.08.08.'}\n",
      "{'title': 'AI 프로필 수면분석 통화요약 어플 SKT 에이닷 인공지능 기능', 'text': '인공지능 에이전트 서비스 SKT A.(에이닷)이 정식 출시되었습니다. 주목할 만한 신기능들도 업데이트가 되었는데요. 수면분석 도우미 A.sleep, 통화 내용을 요약해 주는 A.통화요약... AI 모션프로필 AI 모션프로필은 내 사진을 업로드하면 이 알아서 멋진 AI 프로필 이미지를 만들어주는 기능입니다. A.(에이닷)어플 [앱] 메뉴에 있는 [A. 포토]에서 실행할 수 있고요....', 'date': '2023.09.30.'}\n",
      "{'title': '(글로벌교육과) 인공지능 시대, 공공 인재개발 전략은?', 'text': '인공지능 혁신 시대에 대응하는 공직 인재개발 체계(패러다임)를 논하는 자리가 마련됩니다. 국가공무원인재개발원(원장 김채환, 이하 ‘국가인재원’)은 오는 27일부터 내달... ‘인공지능(AI) 혁신 시대에 대응하는 공직 인재개발 체계(패러다임)’를 주제로 열리는 올해 학술대회는 관심 있는 누구나 유튜브(인재교육TV) 시청 또는 현장 참여가 가능하며, 참가 신청은...', 'date': '2023.10.20.'}\n",
      "{'title': '윈도우 코파일럿 미리사용해본 AI 인공지능 기능! 윈도우 11 23H2 프리뷰 코파일럿 사용법', 'text': '얼리어답터 리뷰/IT정보 윈도우 코파일럿 미리사용해본 AI 인공지능 기능! 윈도우 11 23H2 프리뷰 코파일럿 사용법 by 엔돌슨 2023. 10. 5. 윈도우 코파일럿의 기능과 사용법 리뷰 이번에는 윈도우11에 내장된 윈도우 코파일럿 입니다. 챗GPT 같은 을 윈도우에서 직접 사용하여 윈도우를 제어할 수 있다니 대단하네요! 윈도우 11의 최신 업데이트 버전인 23H2...', 'date': '2023.10.05.'}\n",
      "{'title': 'AI 인공지능 관련주 대장주 TOP2!', 'text': 'AI 인공지능 관련주 대장주 TOP2! 주식 쉽게 하는 팁까지 공유! 오후에는 아직까지도 무더운데, 오전에는 날씨가 선선하니 좋네요. 곧 있음 단풍 소식에 추석 가을이 금방 올 것... 오늘은 향후 기대되는 섹터 중 하나인, AI 관련주와 대장주를 한 번 살펴 볼께요. AI 관련주 대장주 TOP2! © vishnumaiea, 출처 Unsplash 올 해 초 챗GPT 이슈를 시작으로, AI...', 'date': '2023.09.10.'}\n",
      "{'title': '[관심종목] 23년 마지막 주목받을 인공지능,반도체 산업주식 종목', 'text': '23년 8월에서 12월까지 남은 5개월을 장식할 인공지능,반도체 산업주식 종목에는 뭐가 있을까? 주식은 상황과 여건에 따라 빛나는 종목이 있습니다. 올해 초부터 인공지능에 강세를 보였고 2차전지가 중심에 있었습니다. 그리고 2차전지와 관련된 에코프로가 빛을 받았죠. 그렇다면 하반기에는 어떤 종목이 주목을 받고 대미를 장식할 것일까 저는 빅테크들이라고 봅니다....', 'date': '2023.08.06.'}\n",
      "{'title': \"수희향 작가의 '인공지능 시대, 교육의 미래' 강연\", 'text': \"톰 크루즈가 주연한 영화 '엣지 오브 투모로우'에 보면 주인공이 몸에 기계를 장착하는 착용 로봇을 입고 괴물과의 전쟁에 참여합니다. 이런 상상은 현실이 되고 있습니다. 교육의 미래는 인공지능의 시대라고 강사는 말합니다. 고정관념을 깨버려야 하며, 집단 속에서 생각하고 결정하면 큰 위력을 발휘할 수 있다 합니다. 많은 영화 속에서 보듯이 AI가 사람의 감정이나...\", 'date': '2023.09.27.'}\n",
      "{'title': '네이버 AI 큐(Cue:), 이제 특화된 대화형 인공지능!', 'text': '네이버 AI 클로바X가 서비스된지 얼마 되지 않았는데 네이버에서 추가로 새로운 인공지능 서비스가 시작되었습니다. 바로 네이버 AI 큐(Cue:)인데요. 큐는 하이버클로바X 기반으로 검색... 기존 검색 사이트를 이용하는 방식과 달리 으로 원하는 정보를 좀 더 빠르게 확인할 수 있어 맘에 드네요. 앞으로의 새로운 변화를 경험해 보고 싶은 분들은 지금 바로 큐...', 'date': '2023.10.04.'}\n",
      "{'title': '업무 효율을 향상시켜주는 필수 어플 - 회의, 인터뷰, 강의 등 인공지능이 자동으로 기록해 주는 클로바노트...', 'text': '회의, 인터뷰, 강의 등 인공지능이 자동으로 기록해 주는 클로바노트 녹음하는 방법입니다. 업무를 향상시켜주는 필수 어플 - 회의, 인터뷰, 강의 등 인공지능이 자동 기록해 주는 클로바노트로 녹음하는 방법 클로바 노트 회의, 인터뷰, 강의 등 녹음 내용을 눈으로 보면서 듣는 클로바노트입니다. 한번에 180분까지 녹음 가능하고 베타 서비스 기간 동안 300분까지...', 'date': '2023.10.01.'}\n"
     ]
    }
   ],
   "source": [
    "views = driver.find_elements(By.CSS_SELECTOR, '.lst_view .bx')\n",
    "result = []\n",
    "\n",
    "for view in views:\n",
    "    con_dict = {}\n",
    "    con_dict['title'] = view.find_element(By.CSS_SELECTOR, '.title_link').text\n",
    "    con_dict['text'] = view.find_element(By.CSS_SELECTOR, '.dsc_link').text\n",
    "    con_dict['date'] = view.find_element(By.CSS_SELECTOR, '.sub').text\n",
    "    result.append(con_dict)\n",
    "    print(con_dict)"
   ]
  },
  {
   "cell_type": "code",
   "execution_count": 82,
   "id": "20da2042",
   "metadata": {},
   "outputs": [],
   "source": [
    "df = pd.DataFrame(result)"
   ]
  },
  {
   "cell_type": "code",
   "execution_count": 83,
   "id": "2193d625",
   "metadata": {
    "scrolled": true
   },
   "outputs": [
    {
     "data": {
      "text/html": [
       "<div>\n",
       "<style scoped>\n",
       "    .dataframe tbody tr th:only-of-type {\n",
       "        vertical-align: middle;\n",
       "    }\n",
       "\n",
       "    .dataframe tbody tr th {\n",
       "        vertical-align: top;\n",
       "    }\n",
       "\n",
       "    .dataframe thead th {\n",
       "        text-align: right;\n",
       "    }\n",
       "</style>\n",
       "<table border=\"1\" class=\"dataframe\">\n",
       "  <thead>\n",
       "    <tr style=\"text-align: right;\">\n",
       "      <th></th>\n",
       "      <th>title</th>\n",
       "      <th>text</th>\n",
       "      <th>date</th>\n",
       "    </tr>\n",
       "  </thead>\n",
       "  <tbody>\n",
       "    <tr>\n",
       "      <th>0</th>\n",
       "      <td>로보어드바이저 수익률 비교, 인공지능 투자 성과는?</td>\n",
       "      <td>그럼 인공지능인 로보어드바이저와 일반 펀드의 운용 성과는 어땠을까요? 2022년 펀...</td>\n",
       "      <td>2023.09.26.</td>\n",
       "    </tr>\n",
       "    <tr>\n",
       "      <th>1</th>\n",
       "      <td>AI 인공지능 파이토치 서적으로 가볍게 시작해보죠</td>\n",
       "      <td>인공지능이 표면적으로 한풀 꺽였다고는 하지만 관련된 서적과 툴들은 꾸준하게 발전하고...</td>\n",
       "      <td>2023.10.02.</td>\n",
       "    </tr>\n",
       "    <tr>\n",
       "      <th>2</th>\n",
       "      <td>[종목분석] 의료 인공지능 딥노이드 주가 전망을 살펴봅니다</td>\n",
       "      <td>그 중에서 오늘은 인공지능 딥노이드 주가를 살펴보려고 하는데 해당 종목은 이미 많이...</td>\n",
       "      <td>2023.08.30.</td>\n",
       "    </tr>\n",
       "    <tr>\n",
       "      <th>3</th>\n",
       "      <td>인공지능에 기반한 신약개발 관련 기업들에 대한 생각</td>\n",
       "      <td>이 글에서는 그동안 단편적으로 언급했던 인공지능에 기반한 신약개발 바이오 기업들에 ...</td>\n",
       "      <td>2023.07.13.</td>\n",
       "    </tr>\n",
       "    <tr>\n",
       "      <th>4</th>\n",
       "      <td>NPU 관련주 뜻 - 인공지능 구글 텔레칩스 칩스앤미디어 주가 전망</td>\n",
       "      <td>NPU 관련주 뜻 - 인공지능 구글 텔레칩스 칩스앤미디어 주가 전망 NPU 뜻 NP...</td>\n",
       "      <td>2023.10.09.</td>\n",
       "    </tr>\n",
       "    <tr>\n",
       "      <th>5</th>\n",
       "      <td>인공지능(AI)이 인간의 일자리를 감소시킬 것인가?</td>\n",
       "      <td>인공지능이 인간의 일자리를 대체? 이 질문은 최근에 사람들의 관심을 끌며 치열한 논...</td>\n",
       "      <td>2023.07.13.</td>\n",
       "    </tr>\n",
       "    <tr>\n",
       "      <th>6</th>\n",
       "      <td>로봇 인공지능 관련주 BOTZ ETF 리얼리뷰</td>\n",
       "      <td>요즘 로봇과 인공지능에 대한 투자자들의 관심이 뜨겁습니다. 이에 따라 로봇 관련 주...</td>\n",
       "      <td>2023.06.22.</td>\n",
       "    </tr>\n",
       "    <tr>\n",
       "      <th>7</th>\n",
       "      <td>태양광 발전소 고장, 인공지능이 물샐틈없이 관리한다!</td>\n",
       "      <td>한국에너지기술연구원 신재생시스템연구실 고석환 박사 연구진은 인공지능(AI)을 활용한...</td>\n",
       "      <td>2023.10.10.</td>\n",
       "    </tr>\n",
       "    <tr>\n",
       "      <th>8</th>\n",
       "      <td>AI인공지능 관련주 산업의 발달은 기계가 하게되는걸까</td>\n",
       "      <td>언젠가부터 로봇에관련된 산업들이 다시금 발전을 하고 주목을 받고있으며, 챗gdp라는...</td>\n",
       "      <td>2023.09.05.</td>\n",
       "    </tr>\n",
       "    <tr>\n",
       "      <th>9</th>\n",
       "      <td>인공지능 AI 스피커 삼성 갤럭시 홈미니 기능</td>\n",
       "      <td>버들붕어입니다.^^ 이버 시간에는 인공지능 AI 스피커 삼성 갤럭시 홈미니 기능에 ...</td>\n",
       "      <td>2023.09.04.</td>\n",
       "    </tr>\n",
       "    <tr>\n",
       "      <th>10</th>\n",
       "      <td>빙 챗gpt 쓰려면 엣지 브라우저로! 너만 몰라 인공지능 팁</td>\n",
       "      <td>너만 몰라 인공지능 팁 by 엔돌슨 2023. 6. 30. 빙 챗gpt 쓰려면 엣지...</td>\n",
       "      <td>2023.06.30.</td>\n",
       "    </tr>\n",
       "    <tr>\n",
       "      <th>11</th>\n",
       "      <td>[주간경제동향] 무선통신 경제성장 분석 (인공지능,6g)</td>\n",
       "      <td>지금까지 인공지능 6G관련 무선통신 경제에 대해 살펴봤습니다. 이 산업에 필요한 건...</td>\n",
       "      <td>2023.10.10.</td>\n",
       "    </tr>\n",
       "    <tr>\n",
       "      <th>12</th>\n",
       "      <td>글로벌ETF! (12편) : 인공지능과 로보틱스 (Artificial Intelli...</td>\n",
       "      <td>기고 : Global X 이경화 애널리스트 www.globalxetfs.com 지난...</td>\n",
       "      <td>2023.08.02.</td>\n",
       "    </tr>\n",
       "    <tr>\n",
       "      <th>13</th>\n",
       "      <td>적금 가입 vs 펀드 투자, 인공지능이 운용하는 콴텍 수익률과 추천 이유</td>\n",
       "      <td>저는 작년부터 인공지능이 주식을 매매해주는 '콴텍'에 돈을 넣어 운영하고 있습니다....</td>\n",
       "      <td>2023.07.03.</td>\n",
       "    </tr>\n",
       "    <tr>\n",
       "      <th>14</th>\n",
       "      <td>[테마주분석] 의료기기와 ai 인공지능 의료용로봇 관련주 정리</td>\n",
       "      <td>다섯 번째 셀루메드 사업부문 - 의료기기와 바이오로직스, 코스메슈티컬 의료기기 - ...</td>\n",
       "      <td>2023.08.29.</td>\n",
       "    </tr>\n",
       "    <tr>\n",
       "      <th>15</th>\n",
       "      <td>‘상품 들고 나오면 자동 결제’...인공지능(AI) 스마트 편의점</td>\n",
       "      <td>출처=GS리테일 GS25가 사람 없이 인공지능(AI) 솔루션 만으로 운영되는 스마트...</td>\n",
       "      <td>2023.10.10.</td>\n",
       "    </tr>\n",
       "    <tr>\n",
       "      <th>16</th>\n",
       "      <td>AI 인공지능 데이터 라벨링으로 수익 창출하는 법 (+무료교육 선착순 한정)</td>\n",
       "      <td>AI 인공지능 데이터 라벨링으로 수익 창출하는 법 (+무료교육 선착순 한정) 안녕하...</td>\n",
       "      <td>2023.10.19.</td>\n",
       "    </tr>\n",
       "    <tr>\n",
       "      <th>17</th>\n",
       "      <td>미국주식 엔비디아 주가 500달러 돌파 - 인공지능 챗GPT 관련주</td>\n",
       "      <td>생성형AI 인공지능의 최대 수혜주로 꼽히는 엔비디아가 2분기 실적을 발표했습니다. ...</td>\n",
       "      <td>2023.08.24.</td>\n",
       "    </tr>\n",
       "    <tr>\n",
       "      <th>18</th>\n",
       "      <td>인공지능 OpenAI 해커톤 개발 공모전 SK 텔레콤 Prompterday 소개</td>\n",
       "      <td>해커톤은 해킹과 마라톤이 합성된 말로 일정 시간 내에 주제에 맞는 서비스를 기발하는...</td>\n",
       "      <td>2023.08.24.</td>\n",
       "    </tr>\n",
       "    <tr>\n",
       "      <th>19</th>\n",
       "      <td>엔잡러가 원하는 인공지능 직업 데이터라벨링, 국비지원무료교육 가능!</td>\n",
       "      <td>인공지능(AI)은 주입된 수많은 데이터를 통해 학습을 하며 이때 제공받는 데이터는 ...</td>\n",
       "      <td>2023.07.18.</td>\n",
       "    </tr>\n",
       "    <tr>\n",
       "      <th>20</th>\n",
       "      <td>신약 개발의 벽을 넘기 위한 도약, 인공지능 기반 신약 개발</td>\n",
       "      <td>인공지능의 도입으로 약효를 결정하는 분자의 단순 스크리닝 과정을 효율화하고, 예상되...</td>\n",
       "      <td>2023.09.18.</td>\n",
       "    </tr>\n",
       "    <tr>\n",
       "      <th>21</th>\n",
       "      <td>인공지능을 이용한 산불 감시 시스템</td>\n",
       "      <td>과거 화재 감시는 인간의 눈에 의존했지만, 최근에는 인공지능을 적용하려는 시도가 이...</td>\n",
       "      <td>2023.08.08.</td>\n",
       "    </tr>\n",
       "    <tr>\n",
       "      <th>22</th>\n",
       "      <td>AI 프로필 수면분석 통화요약 어플 SKT 에이닷 인공지능 기능</td>\n",
       "      <td>인공지능 에이전트 서비스 SKT A.(에이닷)이 정식 출시되었습니다. 주목할 만한 ...</td>\n",
       "      <td>2023.09.30.</td>\n",
       "    </tr>\n",
       "    <tr>\n",
       "      <th>23</th>\n",
       "      <td>(글로벌교육과) 인공지능 시대, 공공 인재개발 전략은?</td>\n",
       "      <td>인공지능 혁신 시대에 대응하는 공직 인재개발 체계(패러다임)를 논하는 자리가 마련됩...</td>\n",
       "      <td>2023.10.20.</td>\n",
       "    </tr>\n",
       "    <tr>\n",
       "      <th>24</th>\n",
       "      <td>윈도우 코파일럿 미리사용해본 AI 인공지능 기능! 윈도우 11 23H2 프리뷰 코파...</td>\n",
       "      <td>얼리어답터 리뷰/IT정보 윈도우 코파일럿 미리사용해본 AI 인공지능 기능! 윈도우 ...</td>\n",
       "      <td>2023.10.05.</td>\n",
       "    </tr>\n",
       "    <tr>\n",
       "      <th>25</th>\n",
       "      <td>AI 인공지능 관련주 대장주 TOP2!</td>\n",
       "      <td>AI 인공지능 관련주 대장주 TOP2! 주식 쉽게 하는 팁까지 공유! 오후에는 아직...</td>\n",
       "      <td>2023.09.10.</td>\n",
       "    </tr>\n",
       "    <tr>\n",
       "      <th>26</th>\n",
       "      <td>[관심종목] 23년 마지막 주목받을 인공지능,반도체 산업주식 종목</td>\n",
       "      <td>23년 8월에서 12월까지 남은 5개월을 장식할 인공지능,반도체 산업주식 종목에는 ...</td>\n",
       "      <td>2023.08.06.</td>\n",
       "    </tr>\n",
       "    <tr>\n",
       "      <th>27</th>\n",
       "      <td>수희향 작가의 '인공지능 시대, 교육의 미래' 강연</td>\n",
       "      <td>톰 크루즈가 주연한 영화 '엣지 오브 투모로우'에 보면 주인공이 몸에 기계를 장착하...</td>\n",
       "      <td>2023.09.27.</td>\n",
       "    </tr>\n",
       "    <tr>\n",
       "      <th>28</th>\n",
       "      <td>네이버 AI 큐(Cue:), 이제 특화된 대화형 인공지능!</td>\n",
       "      <td>네이버 AI 클로바X가 서비스된지 얼마 되지 않았는데 네이버에서 추가로 새로운 인공...</td>\n",
       "      <td>2023.10.04.</td>\n",
       "    </tr>\n",
       "    <tr>\n",
       "      <th>29</th>\n",
       "      <td>업무 효율을 향상시켜주는 필수 어플 - 회의, 인터뷰, 강의 등 인공지능이 자동으로...</td>\n",
       "      <td>회의, 인터뷰, 강의 등 인공지능이 자동으로 기록해 주는 클로바노트 녹음하는 방법입...</td>\n",
       "      <td>2023.10.01.</td>\n",
       "    </tr>\n",
       "  </tbody>\n",
       "</table>\n",
       "</div>"
      ],
      "text/plain": [
       "                                                title  \\\n",
       "0                        로보어드바이저 수익률 비교, 인공지능 투자 성과는?   \n",
       "1                         AI 인공지능 파이토치 서적으로 가볍게 시작해보죠   \n",
       "2                    [종목분석] 의료 인공지능 딥노이드 주가 전망을 살펴봅니다   \n",
       "3                        인공지능에 기반한 신약개발 관련 기업들에 대한 생각   \n",
       "4               NPU 관련주 뜻 - 인공지능 구글 텔레칩스 칩스앤미디어 주가 전망   \n",
       "5                        인공지능(AI)이 인간의 일자리를 감소시킬 것인가?   \n",
       "6                           로봇 인공지능 관련주 BOTZ ETF 리얼리뷰   \n",
       "7                       태양광 발전소 고장, 인공지능이 물샐틈없이 관리한다!   \n",
       "8                       AI인공지능 관련주 산업의 발달은 기계가 하게되는걸까   \n",
       "9                           인공지능 AI 스피커 삼성 갤럭시 홈미니 기능   \n",
       "10                  빙 챗gpt 쓰려면 엣지 브라우저로! 너만 몰라 인공지능 팁   \n",
       "11                    [주간경제동향] 무선통신 경제성장 분석 (인공지능,6g)   \n",
       "12  글로벌ETF! (12편) : 인공지능과 로보틱스 (Artificial Intelli...   \n",
       "13           적금 가입 vs 펀드 투자, 인공지능이 운용하는 콴텍 수익률과 추천 이유   \n",
       "14                 [테마주분석] 의료기기와 ai 인공지능 의료용로봇 관련주 정리   \n",
       "15               ‘상품 들고 나오면 자동 결제’...인공지능(AI) 스마트 편의점   \n",
       "16         AI 인공지능 데이터 라벨링으로 수익 창출하는 법 (+무료교육 선착순 한정)   \n",
       "17              미국주식 엔비디아 주가 500달러 돌파 - 인공지능 챗GPT 관련주   \n",
       "18       인공지능 OpenAI 해커톤 개발 공모전 SK 텔레콤 Prompterday 소개   \n",
       "19              엔잡러가 원하는 인공지능 직업 데이터라벨링, 국비지원무료교육 가능!   \n",
       "20                  신약 개발의 벽을 넘기 위한 도약, 인공지능 기반 신약 개발   \n",
       "21                                인공지능을 이용한 산불 감시 시스템   \n",
       "22                AI 프로필 수면분석 통화요약 어플 SKT 에이닷 인공지능 기능   \n",
       "23                     (글로벌교육과) 인공지능 시대, 공공 인재개발 전략은?   \n",
       "24  윈도우 코파일럿 미리사용해본 AI 인공지능 기능! 윈도우 11 23H2 프리뷰 코파...   \n",
       "25                              AI 인공지능 관련주 대장주 TOP2!   \n",
       "26               [관심종목] 23년 마지막 주목받을 인공지능,반도체 산업주식 종목   \n",
       "27                       수희향 작가의 '인공지능 시대, 교육의 미래' 강연   \n",
       "28                   네이버 AI 큐(Cue:), 이제 특화된 대화형 인공지능!   \n",
       "29  업무 효율을 향상시켜주는 필수 어플 - 회의, 인터뷰, 강의 등 인공지능이 자동으로...   \n",
       "\n",
       "                                                 text         date  \n",
       "0   그럼 인공지능인 로보어드바이저와 일반 펀드의 운용 성과는 어땠을까요? 2022년 펀...  2023.09.26.  \n",
       "1   인공지능이 표면적으로 한풀 꺽였다고는 하지만 관련된 서적과 툴들은 꾸준하게 발전하고...  2023.10.02.  \n",
       "2   그 중에서 오늘은 인공지능 딥노이드 주가를 살펴보려고 하는데 해당 종목은 이미 많이...  2023.08.30.  \n",
       "3   이 글에서는 그동안 단편적으로 언급했던 인공지능에 기반한 신약개발 바이오 기업들에 ...  2023.07.13.  \n",
       "4   NPU 관련주 뜻 - 인공지능 구글 텔레칩스 칩스앤미디어 주가 전망 NPU 뜻 NP...  2023.10.09.  \n",
       "5   인공지능이 인간의 일자리를 대체? 이 질문은 최근에 사람들의 관심을 끌며 치열한 논...  2023.07.13.  \n",
       "6   요즘 로봇과 인공지능에 대한 투자자들의 관심이 뜨겁습니다. 이에 따라 로봇 관련 주...  2023.06.22.  \n",
       "7   한국에너지기술연구원 신재생시스템연구실 고석환 박사 연구진은 인공지능(AI)을 활용한...  2023.10.10.  \n",
       "8   언젠가부터 로봇에관련된 산업들이 다시금 발전을 하고 주목을 받고있으며, 챗gdp라는...  2023.09.05.  \n",
       "9   버들붕어입니다.^^ 이버 시간에는 인공지능 AI 스피커 삼성 갤럭시 홈미니 기능에 ...  2023.09.04.  \n",
       "10  너만 몰라 인공지능 팁 by 엔돌슨 2023. 6. 30. 빙 챗gpt 쓰려면 엣지...  2023.06.30.  \n",
       "11  지금까지 인공지능 6G관련 무선통신 경제에 대해 살펴봤습니다. 이 산업에 필요한 건...  2023.10.10.  \n",
       "12  기고 : Global X 이경화 애널리스트 www.globalxetfs.com 지난...  2023.08.02.  \n",
       "13  저는 작년부터 인공지능이 주식을 매매해주는 '콴텍'에 돈을 넣어 운영하고 있습니다....  2023.07.03.  \n",
       "14  다섯 번째 셀루메드 사업부문 - 의료기기와 바이오로직스, 코스메슈티컬 의료기기 - ...  2023.08.29.  \n",
       "15  출처=GS리테일 GS25가 사람 없이 인공지능(AI) 솔루션 만으로 운영되는 스마트...  2023.10.10.  \n",
       "16  AI 인공지능 데이터 라벨링으로 수익 창출하는 법 (+무료교육 선착순 한정) 안녕하...  2023.10.19.  \n",
       "17  생성형AI 인공지능의 최대 수혜주로 꼽히는 엔비디아가 2분기 실적을 발표했습니다. ...  2023.08.24.  \n",
       "18  해커톤은 해킹과 마라톤이 합성된 말로 일정 시간 내에 주제에 맞는 서비스를 기발하는...  2023.08.24.  \n",
       "19  인공지능(AI)은 주입된 수많은 데이터를 통해 학습을 하며 이때 제공받는 데이터는 ...  2023.07.18.  \n",
       "20  인공지능의 도입으로 약효를 결정하는 분자의 단순 스크리닝 과정을 효율화하고, 예상되...  2023.09.18.  \n",
       "21  과거 화재 감시는 인간의 눈에 의존했지만, 최근에는 인공지능을 적용하려는 시도가 이...  2023.08.08.  \n",
       "22  인공지능 에이전트 서비스 SKT A.(에이닷)이 정식 출시되었습니다. 주목할 만한 ...  2023.09.30.  \n",
       "23  인공지능 혁신 시대에 대응하는 공직 인재개발 체계(패러다임)를 논하는 자리가 마련됩...  2023.10.20.  \n",
       "24  얼리어답터 리뷰/IT정보 윈도우 코파일럿 미리사용해본 AI 인공지능 기능! 윈도우 ...  2023.10.05.  \n",
       "25  AI 인공지능 관련주 대장주 TOP2! 주식 쉽게 하는 팁까지 공유! 오후에는 아직...  2023.09.10.  \n",
       "26  23년 8월에서 12월까지 남은 5개월을 장식할 인공지능,반도체 산업주식 종목에는 ...  2023.08.06.  \n",
       "27  톰 크루즈가 주연한 영화 '엣지 오브 투모로우'에 보면 주인공이 몸에 기계를 장착하...  2023.09.27.  \n",
       "28  네이버 AI 클로바X가 서비스된지 얼마 되지 않았는데 네이버에서 추가로 새로운 인공...  2023.10.04.  \n",
       "29  회의, 인터뷰, 강의 등 인공지능이 자동으로 기록해 주는 클로바노트 녹음하는 방법입...  2023.10.01.  "
      ]
     },
     "execution_count": 83,
     "metadata": {},
     "output_type": "execute_result"
    }
   ],
   "source": [
    "df"
   ]
  },
  {
   "cell_type": "code",
   "execution_count": 85,
   "id": "9daba5fc",
   "metadata": {},
   "outputs": [],
   "source": [
    "df.to_csv(f'./naver_{fname}.csv', sep=',', encoding='utf-8-sig')"
   ]
  },
  {
   "cell_type": "markdown",
   "id": "f6d258e0",
   "metadata": {},
   "source": [
    "## 구글 플레이 리뷰"
   ]
  },
  {
   "cell_type": "code",
   "execution_count": null,
   "id": "eb9fa029",
   "metadata": {},
   "outputs": [],
   "source": []
  }
 ],
 "metadata": {
  "kernelspec": {
   "display_name": "Python 3 (ipykernel)",
   "language": "python",
   "name": "python3"
  },
  "language_info": {
   "codemirror_mode": {
    "name": "ipython",
    "version": 3
   },
   "file_extension": ".py",
   "mimetype": "text/x-python",
   "name": "python",
   "nbconvert_exporter": "python",
   "pygments_lexer": "ipython3",
   "version": "3.11.5"
  }
 },
 "nbformat": 4,
 "nbformat_minor": 5
}
